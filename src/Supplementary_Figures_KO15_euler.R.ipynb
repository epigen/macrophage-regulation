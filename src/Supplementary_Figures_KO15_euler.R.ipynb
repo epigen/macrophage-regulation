{
 "cells": [
  {
   "cell_type": "markdown",
   "id": "7b6217b0",
   "metadata": {},
   "source": [
    "# Supplementary Figures - Proof-of-concept CROP-seq KO15 screen Euler diagrams"
   ]
  },
  {
   "cell_type": "code",
   "execution_count": 1,
   "id": "cb852d7d",
   "metadata": {
    "tags": []
   },
   "outputs": [
    {
     "data": {
      "text/html": [
       "'/home/sreichl/projects/bmdm-stim/workflow/notebooks'"
      ],
      "text/latex": [
       "'/home/sreichl/projects/bmdm-stim/workflow/notebooks'"
      ],
      "text/markdown": [
       "'/home/sreichl/projects/bmdm-stim/workflow/notebooks'"
      ],
      "text/plain": [
       "[1] \"/home/sreichl/projects/bmdm-stim/workflow/notebooks\""
      ]
     },
     "metadata": {},
     "output_type": "display_data"
    },
    {
     "data": {
      "text/html": [
       "'/home/sreichl/projects/bmdm-stim'"
      ],
      "text/latex": [
       "'/home/sreichl/projects/bmdm-stim'"
      ],
      "text/markdown": [
       "'/home/sreichl/projects/bmdm-stim'"
      ],
      "text/plain": [
       "[1] \"/home/sreichl/projects/bmdm-stim\""
      ]
     },
     "metadata": {},
     "output_type": "display_data"
    }
   ],
   "source": [
    "# set correct working directory -> project folder\n",
    "getwd()\n",
    "setwd('..')\n",
    "getwd()"
   ]
  },
  {
   "cell_type": "code",
   "execution_count": 2,
   "id": "4aa52bca",
   "metadata": {},
   "outputs": [],
   "source": [
    "# source the figure theme, libraries and utility functions\n",
    "source(\"./src/figure_theme.R\")"
   ]
  },
  {
   "cell_type": "code",
   "execution_count": 3,
   "id": "59e7b4ac",
   "metadata": {
    "tags": []
   },
   "outputs": [],
   "source": [
    "# for euler plots\n",
    "library(eulerr)"
   ]
  },
  {
   "cell_type": "markdown",
   "id": "9ff1e120",
   "metadata": {},
   "source": [
    "# configs"
   ]
  },
  {
   "cell_type": "code",
   "execution_count": 4,
   "id": "de72137c",
   "metadata": {},
   "outputs": [],
   "source": [
    "# configs\n",
    "data_path <- file.path('results','KO15')\n",
    "results_path <- file.path('results','figures','supp_small_screen')"
   ]
  },
  {
   "cell_type": "code",
   "execution_count": 5,
   "id": "8870f1e3",
   "metadata": {},
   "outputs": [],
   "source": [
    "# make directories if not exist\n",
    "dir.create(results_path, showWarnings = FALSE, recursive = TRUE)"
   ]
  },
  {
   "cell_type": "markdown",
   "id": "8501592b",
   "metadata": {},
   "source": [
    "# DEG Euler diagrams of selected mixscape DEA results"
   ]
  },
  {
   "cell_type": "code",
   "execution_count": 6,
   "id": "e9732c4b",
   "metadata": {},
   "outputs": [],
   "source": [
    "selected_kos <- c('mStat2','mIrf9','mEp300')"
   ]
  },
  {
   "cell_type": "code",
   "execution_count": 7,
   "id": "20131431",
   "metadata": {},
   "outputs": [],
   "source": [
    "conditions <- c('untreated', 'LO28_2h', 'LO28_6h')"
   ]
  },
  {
   "cell_type": "code",
   "execution_count": 8,
   "id": "d25cd8ab",
   "metadata": {},
   "outputs": [],
   "source": [
    "dea_results <- list()\n",
    "\n",
    "for (cond in conditions){\n",
    "    cond_dea <- data.frame()\n",
    "    for (ko in selected_kos){\n",
    "        tmp_dea <- read.csv(file.path(data_path, 'DEA_condition_mixscape', paste0('KO15_DEA_RNA_',cond,'_',ko,'.csv')))\n",
    "        tmp_dea$ko <- ko\n",
    "        colnames(tmp_dea)[1] <- 'gene'\n",
    "        \n",
    "        if(dim(cond_dea)[1]==0){\n",
    "            cond_dea <- tmp_dea\n",
    "        }else{\n",
    "            cond_dea <- rbind(cond_dea, tmp_dea)\n",
    "        }\n",
    "    }\n",
    "    # filter for stat. sign.\n",
    "    cond_dea <- cond_dea[cond_dea$p_val_adj<0.05,]\n",
    "    # add group information\n",
    "    cond_dea$direction <- lapply(cond_dea$avg_log2FC, function(x) if(x>0)'up' else 'down')\n",
    "    cond_dea$group <- paste0(cond_dea$ko,'_',cond_dea$direction)\n",
    "    \n",
    "    dea_results[[cond]] <- cond_dea\n",
    "}"
   ]
  },
  {
   "cell_type": "code",
   "execution_count": 9,
   "id": "85307709",
   "metadata": {},
   "outputs": [],
   "source": [
    "dea_sets <- list()\n",
    "\n",
    "for (cond in conditions){\n",
    "    cond_sets <- data.frame(matrix(ncol = 0, nrow = length(unique(dea_results[[cond]]$gene))))\n",
    "    rownames(cond_sets) <- unique(dea_results[[cond]]$gene)\n",
    "    for (group in unique(dea_results[[cond]]$group)){\n",
    "        tmp_genes <- unique(dea_results[[cond]][grepl(group, dea_results[[cond]]$group, fixed = TRUE),'gene'])\n",
    "        cond_sets[tmp_genes, group] <- TRUE\n",
    "    }\n",
    "    cond_sets[is.na(cond_sets)] <- FALSE\n",
    "    \n",
    "    dea_sets[[cond]] <- cond_sets\n",
    "}"
   ]
  },
  {
   "cell_type": "code",
   "execution_count": 10,
   "id": "094b8963",
   "metadata": {},
   "outputs": [
    {
     "data": {
      "text/html": [
       "<table class=\"dataframe\">\n",
       "<caption>A data.frame: 6 × 6</caption>\n",
       "<thead>\n",
       "\t<tr><th></th><th scope=col>mStat2_down</th><th scope=col>mStat2_up</th><th scope=col>mIrf9_down</th><th scope=col>mIrf9_up</th><th scope=col>mEp300_down</th><th scope=col>mEp300_up</th></tr>\n",
       "\t<tr><th></th><th scope=col>&lt;lgl&gt;</th><th scope=col>&lt;lgl&gt;</th><th scope=col>&lt;lgl&gt;</th><th scope=col>&lt;lgl&gt;</th><th scope=col>&lt;lgl&gt;</th><th scope=col>&lt;lgl&gt;</th></tr>\n",
       "</thead>\n",
       "<tbody>\n",
       "\t<tr><th scope=row>Irf7</th><td>TRUE</td><td>FALSE</td><td>TRUE</td><td>FALSE</td><td>FALSE</td><td> TRUE</td></tr>\n",
       "\t<tr><th scope=row>Bst2</th><td>TRUE</td><td>FALSE</td><td>TRUE</td><td>FALSE</td><td>FALSE</td><td> TRUE</td></tr>\n",
       "\t<tr><th scope=row>Ifi27l2a</th><td>TRUE</td><td>FALSE</td><td>TRUE</td><td>FALSE</td><td>FALSE</td><td>FALSE</td></tr>\n",
       "\t<tr><th scope=row>Isg15</th><td>TRUE</td><td>FALSE</td><td>TRUE</td><td>FALSE</td><td>FALSE</td><td> TRUE</td></tr>\n",
       "\t<tr><th scope=row>Ly6e</th><td>TRUE</td><td>FALSE</td><td>TRUE</td><td>FALSE</td><td>FALSE</td><td>FALSE</td></tr>\n",
       "\t<tr><th scope=row>Ifi44</th><td>TRUE</td><td>FALSE</td><td>TRUE</td><td>FALSE</td><td>FALSE</td><td>FALSE</td></tr>\n",
       "</tbody>\n",
       "</table>\n"
      ],
      "text/latex": [
       "A data.frame: 6 × 6\n",
       "\\begin{tabular}{r|llllll}\n",
       "  & mStat2\\_down & mStat2\\_up & mIrf9\\_down & mIrf9\\_up & mEp300\\_down & mEp300\\_up\\\\\n",
       "  & <lgl> & <lgl> & <lgl> & <lgl> & <lgl> & <lgl>\\\\\n",
       "\\hline\n",
       "\tIrf7 & TRUE & FALSE & TRUE & FALSE & FALSE &  TRUE\\\\\n",
       "\tBst2 & TRUE & FALSE & TRUE & FALSE & FALSE &  TRUE\\\\\n",
       "\tIfi27l2a & TRUE & FALSE & TRUE & FALSE & FALSE & FALSE\\\\\n",
       "\tIsg15 & TRUE & FALSE & TRUE & FALSE & FALSE &  TRUE\\\\\n",
       "\tLy6e & TRUE & FALSE & TRUE & FALSE & FALSE & FALSE\\\\\n",
       "\tIfi44 & TRUE & FALSE & TRUE & FALSE & FALSE & FALSE\\\\\n",
       "\\end{tabular}\n"
      ],
      "text/markdown": [
       "\n",
       "A data.frame: 6 × 6\n",
       "\n",
       "| <!--/--> | mStat2_down &lt;lgl&gt; | mStat2_up &lt;lgl&gt; | mIrf9_down &lt;lgl&gt; | mIrf9_up &lt;lgl&gt; | mEp300_down &lt;lgl&gt; | mEp300_up &lt;lgl&gt; |\n",
       "|---|---|---|---|---|---|---|\n",
       "| Irf7 | TRUE | FALSE | TRUE | FALSE | FALSE |  TRUE |\n",
       "| Bst2 | TRUE | FALSE | TRUE | FALSE | FALSE |  TRUE |\n",
       "| Ifi27l2a | TRUE | FALSE | TRUE | FALSE | FALSE | FALSE |\n",
       "| Isg15 | TRUE | FALSE | TRUE | FALSE | FALSE |  TRUE |\n",
       "| Ly6e | TRUE | FALSE | TRUE | FALSE | FALSE | FALSE |\n",
       "| Ifi44 | TRUE | FALSE | TRUE | FALSE | FALSE | FALSE |\n",
       "\n"
      ],
      "text/plain": [
       "         mStat2_down mStat2_up mIrf9_down mIrf9_up mEp300_down mEp300_up\n",
       "Irf7     TRUE        FALSE     TRUE       FALSE    FALSE        TRUE    \n",
       "Bst2     TRUE        FALSE     TRUE       FALSE    FALSE        TRUE    \n",
       "Ifi27l2a TRUE        FALSE     TRUE       FALSE    FALSE       FALSE    \n",
       "Isg15    TRUE        FALSE     TRUE       FALSE    FALSE        TRUE    \n",
       "Ly6e     TRUE        FALSE     TRUE       FALSE    FALSE       FALSE    \n",
       "Ifi44    TRUE        FALSE     TRUE       FALSE    FALSE       FALSE    "
      ]
     },
     "metadata": {},
     "output_type": "display_data"
    }
   ],
   "source": [
    "head(dea_sets[['untreated']])"
   ]
  },
  {
   "cell_type": "code",
   "execution_count": 22,
   "id": "f9253af1",
   "metadata": {},
   "outputs": [],
   "source": [
    "# 'mStat2_down','mIrf9_down','mEp300_up'\n",
    "for (cond in conditions){\n",
    "    svg(filename=file.path(results_path, paste0(\"KO15_DEG_\",cond,\"_euler_\",'mStat2down_','mIrf9down_','mEp300up',\".svg\")), width = 5, height = 5)\n",
    "\n",
    "    dea_tmp <- dea_sets[[cond]][c('mStat2_down','mIrf9_down','mEp300_up')]\n",
    "    colnames(dea_tmp) <- gsub(pattern = '^.', replacement = \"\", colnames(dea_tmp))\n",
    "    colnames(dea_tmp) <- gsub(pattern = '_', replacement = \" \", colnames(dea_tmp))\n",
    "    \n",
    "    dea_fit <- euler(dea_tmp, shape = \"ellipse\")\n",
    "#     dea_fit <- euler(dea_sets[[cond]][c('mStat2_down','mIrf9_down','mEp300_up')], shape = \"ellipse\")\n",
    "    print(plot(dea_fit, quantities = TRUE))\n",
    "\n",
    "    dev.off()\n",
    "}"
   ]
  },
  {
   "cell_type": "code",
   "execution_count": 23,
   "id": "f83a8255",
   "metadata": {},
   "outputs": [],
   "source": [
    "# 'mStat2_up','mIrf9_up','mEp300_down'\n",
    "for (cond in conditions){\n",
    "    svg(filename=file.path(results_path, paste0(\"KO15_DEG_\",cond,\"_euler_\",'mStat2up_','mIrf9up','mEp300down',\".svg\")), width = 5, height = 5)\n",
    "    \n",
    "    dea_tmp <- dea_sets[[cond]][c('mStat2_up','mIrf9_up','mEp300_down')]\n",
    "    colnames(dea_tmp) <- gsub(pattern = '^.', replacement = \"\", colnames(dea_tmp))\n",
    "    colnames(dea_tmp) <- gsub(pattern = '_', replacement = \" \", colnames(dea_tmp))\n",
    "\n",
    "    dea_fit <- euler(dea_tmp, shape = \"ellipse\")\n",
    "#     dea_fit <- euler(dea_sets[[cond]][c('mStat2_up','mIrf9_up','mEp300_down')], shape = \"ellipse\")\n",
    "    print(plot(dea_fit, quantities = TRUE))\n",
    "\n",
    "    dev.off()\n",
    "}"
   ]
  },
  {
   "cell_type": "code",
   "execution_count": 24,
   "id": "007f3f25",
   "metadata": {},
   "outputs": [],
   "source": [
    "# save data frames\n",
    "for (cond in conditions){\n",
    "    write.csv(dea_sets[[cond]], file.path(results_path, paste0(\"KO15_DEG_\",cond,\"_euler_\",'mStat2_','mIrf9_','mEp300',\".csv\")))\n",
    "}"
   ]
  },
  {
   "cell_type": "code",
   "execution_count": null,
   "id": "94325a9e",
   "metadata": {},
   "outputs": [],
   "source": []
  }
 ],
 "metadata": {
  "kernelspec": {
   "display_name": "R_plot",
   "language": "R",
   "name": "r_plot"
  },
  "language_info": {
   "codemirror_mode": "r",
   "file_extension": ".r",
   "mimetype": "text/x-r-source",
   "name": "R",
   "pygments_lexer": "r",
   "version": "4.0.5"
  }
 },
 "nbformat": 4,
 "nbformat_minor": 5
}
