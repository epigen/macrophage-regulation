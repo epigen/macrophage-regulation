{
 "cells": [
  {
   "cell_type": "markdown",
   "id": "a302748a",
   "metadata": {},
   "source": [
    "# Figure 6 part 2 - Visualize the integration of INT and KO150 using GSEA\n",
    "- goal: Visualize enrichment results more meaningful\n",
    "- input: enrichment results between KO150 and bulk integrative temporal clusters\n",
    "- output: meaningful visualizations"
   ]
  },
  {
   "cell_type": "code",
   "execution_count": 1,
   "id": "fa32fb47",
   "metadata": {
    "tags": []
   },
   "outputs": [
    {
     "data": {
      "text/html": [
       "'/home/sreichl/projects/bmdm-stim/workflow/notebooks'"
      ],
      "text/latex": [
       "'/home/sreichl/projects/bmdm-stim/workflow/notebooks'"
      ],
      "text/markdown": [
       "'/home/sreichl/projects/bmdm-stim/workflow/notebooks'"
      ],
      "text/plain": [
       "[1] \"/home/sreichl/projects/bmdm-stim/workflow/notebooks\""
      ]
     },
     "metadata": {},
     "output_type": "display_data"
    },
    {
     "data": {
      "text/html": [
       "'/home/sreichl/projects/bmdm-stim'"
      ],
      "text/latex": [
       "'/home/sreichl/projects/bmdm-stim'"
      ],
      "text/markdown": [
       "'/home/sreichl/projects/bmdm-stim'"
      ],
      "text/plain": [
       "[1] \"/home/sreichl/projects/bmdm-stim\""
      ]
     },
     "metadata": {},
     "output_type": "display_data"
    }
   ],
   "source": [
    "# set correct working directory -> project folder\n",
    "getwd()\n",
    "setwd('..')\n",
    "getwd()"
   ]
  },
  {
   "cell_type": "code",
   "execution_count": 2,
   "id": "2c73e726",
   "metadata": {},
   "outputs": [],
   "source": [
    "# source the figure theme, libraries and utility functions\n",
    "source(\"./src/figure_theme.R\")"
   ]
  },
  {
   "cell_type": "code",
   "execution_count": 3,
   "id": "c2d38cc0",
   "metadata": {
    "tags": []
   },
   "outputs": [
    {
     "name": "stderr",
     "output_type": "stream",
     "text": [
      "\n",
      "Attaching package: ‘tidyr’\n",
      "\n",
      "\n",
      "The following object is masked from ‘package:reshape2’:\n",
      "\n",
      "    smiths\n",
      "\n",
      "\n",
      "========================================\n",
      "circlize version 0.4.15\n",
      "CRAN page: https://cran.r-project.org/package=circlize\n",
      "Github page: https://github.com/jokergoo/circlize\n",
      "Documentation: https://jokergoo.github.io/circlize_book/book/\n",
      "\n",
      "If you use it in published research, please cite:\n",
      "Gu, Z. circlize implements and enhances circular visualization\n",
      "  in R. Bioinformatics 2014.\n",
      "\n",
      "This message can be suppressed by:\n",
      "  suppressPackageStartupMessages(library(circlize))\n",
      "========================================\n",
      "\n",
      "\n",
      "\n",
      "Attaching package: ‘circlize’\n",
      "\n",
      "\n",
      "The following object is masked from ‘package:sna’:\n",
      "\n",
      "    degree\n",
      "\n",
      "\n"
     ]
    }
   ],
   "source": [
    "library(tidyr)\n",
    "library(circlize)\n",
    "library(jsonlite)"
   ]
  },
  {
   "cell_type": "code",
   "execution_count": 4,
   "id": "a1732fce",
   "metadata": {},
   "outputs": [],
   "source": [
    "# function to replace the last two characters with \"22\"\n",
    "replace_last_two <- function(x) {\n",
    "  substr(x, 1, nchar(x) - 2) %>% paste0(\"22\")\n",
    "}"
   ]
  },
  {
   "cell_type": "code",
   "execution_count": 5,
   "id": "b02f08a0",
   "metadata": {},
   "outputs": [],
   "source": [
    "# function to create desired ChordDiagrams\n",
    "makeChordDiagram <- function(df, col_mat, lwd_mat, border_mat, title, results_path) {\n",
    "    df_mat <- as.matrix(df)\n",
    "\n",
    "#     png(file.path(results_path, paste0(gsub(\" \", \"_\", title),\".png\")), width = 4, height = 4, units='in', res = 300)\n",
    "    pdf(file.path(results_path, paste0(gsub(\" \", \"_\", title),\".pdf\")), width = 4, height = 4)\n",
    "\n",
    "    chordDiagram(df_mat,\n",
    "                 grid.col = c(cluster_colors_listeria, KO_col),\n",
    "                 direction=1, \n",
    "                 direction.type = c(\"diffHeight\", \"arrows\"), \n",
    "                 diffHeight = mm_h(3),\n",
    "                 link.arr.type = \"big.arrow\", \n",
    "                 annotationTrack = c(\"grid\"), # c(\"grid\",\"name\"),\n",
    "                 preAllocateTracks = list(track.height = max(strwidth(unlist(dimnames(df_mat))))),\n",
    "                 col = col_mat, # link color\n",
    "                 link.lwd = lwd_mat, # link border width\n",
    "                 link.border = border_mat, # link border color\n",
    "                 link.target.prop = TRUE,\n",
    "                 target.prop.height = mm_h(2),\n",
    "                )\n",
    "\n",
    "    # add title\n",
    "    title(title, cex = 0.6)\n",
    "\n",
    "    # add rotated names \n",
    "    circos.track(track.index = 1, panel.fun = function(x, y) {\n",
    "        circos.text(CELL_META$xcenter, CELL_META$ylim[1], CELL_META$sector.index, \n",
    "            facing = \"clockwise\", niceFacing = TRUE, adj = c(0, 0.5), cex = 0.6)\n",
    "    }, bg.border = NA) # here set bg.border to NA is important\n",
    "\n",
    "    circos.clear()\n",
    "    dev.off()\n",
    "}"
   ]
  },
  {
   "cell_type": "markdown",
   "id": "4518644a",
   "metadata": {},
   "source": [
    "# configs"
   ]
  },
  {
   "cell_type": "code",
   "execution_count": 6,
   "id": "84923259",
   "metadata": {},
   "outputs": [],
   "source": [
    "options(repr.plot.width=4, repr.plot.height=4)"
   ]
  },
  {
   "cell_type": "code",
   "execution_count": 7,
   "id": "fe59f89b",
   "metadata": {},
   "outputs": [],
   "source": [
    "# configs\n",
    "data_path <- file.path('results','KO150','special_analysis','INT_comparison')\n",
    "results_path <- file.path(data_path, 'plots')"
   ]
  },
  {
   "cell_type": "code",
   "execution_count": 8,
   "id": "bc03566f",
   "metadata": {},
   "outputs": [],
   "source": [
    "# make directories if not exist\n",
    "dir.create(results_path, showWarnings = FALSE, recursive = TRUE)"
   ]
  },
  {
   "cell_type": "markdown",
   "id": "c5e4306b",
   "metadata": {},
   "source": [
    "# load data"
   ]
  },
  {
   "cell_type": "code",
   "execution_count": 9,
   "id": "6d223e0a",
   "metadata": {},
   "outputs": [
    {
     "data": {
      "text/html": [
       "<style>\n",
       ".dl-inline {width: auto; margin:0; padding: 0}\n",
       ".dl-inline>dt, .dl-inline>dd {float: none; width: auto; display: inline-block}\n",
       ".dl-inline>dt::after {content: \":\\0020\"; padding-right: .5ex}\n",
       ".dl-inline>dt:not(:first-of-type) {padding-left: .5ex}\n",
       "</style><dl class=dl-inline><dt>Chd7</dt><dd>'#06A4FF'</dd><dt>Babam1</dt><dd>'#F67866'</dd><dt>Mov10</dt><dd>'#F47A5F'</dd><dt>Spi1</dt><dd>'#ED68ED'</dd><dt>Jmjd1c</dt><dd>'#F17E4F'</dd><dt>Ezh2</dt><dd>'#EF7F46'</dd></dl>\n"
      ],
      "text/latex": [
       "\\begin{description*}\n",
       "\\item[Chd7] '\\#06A4FF'\n",
       "\\item[Babam1] '\\#F67866'\n",
       "\\item[Mov10] '\\#F47A5F'\n",
       "\\item[Spi1] '\\#ED68ED'\n",
       "\\item[Jmjd1c] '\\#F17E4F'\n",
       "\\item[Ezh2] '\\#EF7F46'\n",
       "\\end{description*}\n"
      ],
      "text/markdown": [
       "Chd7\n",
       ":   '#06A4FF'Babam1\n",
       ":   '#F67866'Mov10\n",
       ":   '#F47A5F'Spi1\n",
       ":   '#ED68ED'Jmjd1c\n",
       ":   '#F17E4F'Ezh2\n",
       ":   '#EF7F46'\n",
       "\n"
      ],
      "text/plain": [
       "     Chd7    Babam1     Mov10      Spi1    Jmjd1c      Ezh2 \n",
       "\"#06A4FF\" \"#F67866\" \"#F47A5F\" \"#ED68ED\" \"#F17E4F\" \"#EF7F46\" "
      ]
     },
     "metadata": {},
     "output_type": "display_data"
    }
   ],
   "source": [
    "# KO colors from JSON\n",
    "KO_col <- readRDS(file.path(\"results/figures/figure_6\",\"KO_colors.rds\"))\n",
    "head(KO_col)"
   ]
  },
  {
   "cell_type": "code",
   "execution_count": 10,
   "id": "b271dd40",
   "metadata": {},
   "outputs": [
    {
     "data": {
      "text/html": [
       "<style>\n",
       ".list-inline {list-style: none; margin:0; padding: 0}\n",
       ".list-inline>li {display: inline-block}\n",
       ".list-inline>li:not(:last-child)::after {content: \"\\00b7\"; padding: 0 .5ex}\n",
       "</style>\n",
       "<ol class=list-inline><li>1059</li><li>9</li></ol>\n"
      ],
      "text/latex": [
       "\\begin{enumerate*}\n",
       "\\item 1059\n",
       "\\item 9\n",
       "\\end{enumerate*}\n"
      ],
      "text/markdown": [
       "1. 1059\n",
       "2. 9\n",
       "\n",
       "\n"
      ],
      "text/plain": [
       "[1] 1059    9"
      ]
     },
     "metadata": {},
     "output_type": "display_data"
    },
    {
     "data": {
      "text/html": [
       "<table class=\"dataframe\">\n",
       "<caption>A data.frame: 6 × 9</caption>\n",
       "<thead>\n",
       "\t<tr><th></th><th scope=col>X</th><th scope=col>Gene_set</th><th scope=col>Term</th><th scope=col>Overlap</th><th scope=col>P.value</th><th scope=col>Adjusted.P.value</th><th scope=col>Odds.Ratio</th><th scope=col>Genes</th><th scope=col>Odds.Ratio1</th></tr>\n",
       "\t<tr><th></th><th scope=col>&lt;int&gt;</th><th scope=col>&lt;chr&gt;</th><th scope=col>&lt;chr&gt;</th><th scope=col>&lt;chr&gt;</th><th scope=col>&lt;dbl&gt;</th><th scope=col>&lt;dbl&gt;</th><th scope=col>&lt;dbl&gt;</th><th scope=col>&lt;chr&gt;</th><th scope=col>&lt;dbl&gt;</th></tr>\n",
       "</thead>\n",
       "<tbody>\n",
       "\t<tr><th scope=row>1</th><td>0</td><td>untreated_Spi1_up</td><td>C_albicans_cluster_1</td><td>1/77  </td><td>2.807547e-01</td><td>0.467924542</td><td>4.5529255</td><td>PDE4B                                                    </td><td>3.0761183</td></tr>\n",
       "\t<tr><th scope=row>2</th><td>1</td><td>untreated_Spi1_up</td><td>C_albicans_cluster_4</td><td>1/103 </td><td>3.567149e-01</td><td>0.494133457</td><td>3.4039980</td><td>RPL23                                                    </td><td>2.2961165</td></tr>\n",
       "\t<tr><th scope=row>3</th><td>2</td><td>untreated_Spi1_up</td><td>IFN_beta_cluster_1  </td><td>10/411</td><td>9.138281e-06</td><td>0.000228457</td><td>6.7188508</td><td>SLFN4;LY6A;H2-Q6;H2-T22;H2-Q4;CCL5;FBXO32;TAPBPL;XDH;HPSE</td><td>6.4573437</td></tr>\n",
       "\t<tr><th scope=row>4</th><td>3</td><td>untreated_Spi1_up</td><td>IFN_beta_cluster_2  </td><td>2/535 </td><td>6.698179e-01</td><td>0.747354214</td><td>1.0836549</td><td>RPL21;TMEM176B                                           </td><td>0.8738186</td></tr>\n",
       "\t<tr><th scope=row>5</th><td>4</td><td>untreated_Spi1_up</td><td>IFN_beta_cluster_3  </td><td>4/672 </td><td>3.215040e-01</td><td>0.494133457</td><td>1.5847182</td><td>LCN2;TNFRSF9;KANK3;PDE4B                                 </td><td>1.4198585</td></tr>\n",
       "\t<tr><th scope=row>6</th><td>5</td><td>untreated_Spi1_up</td><td>IFN_beta_cluster_4  </td><td>1/541 </td><td>9.043975e-01</td><td>0.942080755</td><td>0.6338905</td><td>GYG                                                      </td><td>0.4259088</td></tr>\n",
       "</tbody>\n",
       "</table>\n"
      ],
      "text/latex": [
       "A data.frame: 6 × 9\n",
       "\\begin{tabular}{r|lllllllll}\n",
       "  & X & Gene\\_set & Term & Overlap & P.value & Adjusted.P.value & Odds.Ratio & Genes & Odds.Ratio1\\\\\n",
       "  & <int> & <chr> & <chr> & <chr> & <dbl> & <dbl> & <dbl> & <chr> & <dbl>\\\\\n",
       "\\hline\n",
       "\t1 & 0 & untreated\\_Spi1\\_up & C\\_albicans\\_cluster\\_1 & 1/77   & 2.807547e-01 & 0.467924542 & 4.5529255 & PDE4B                                                     & 3.0761183\\\\\n",
       "\t2 & 1 & untreated\\_Spi1\\_up & C\\_albicans\\_cluster\\_4 & 1/103  & 3.567149e-01 & 0.494133457 & 3.4039980 & RPL23                                                     & 2.2961165\\\\\n",
       "\t3 & 2 & untreated\\_Spi1\\_up & IFN\\_beta\\_cluster\\_1   & 10/411 & 9.138281e-06 & 0.000228457 & 6.7188508 & SLFN4;LY6A;H2-Q6;H2-T22;H2-Q4;CCL5;FBXO32;TAPBPL;XDH;HPSE & 6.4573437\\\\\n",
       "\t4 & 3 & untreated\\_Spi1\\_up & IFN\\_beta\\_cluster\\_2   & 2/535  & 6.698179e-01 & 0.747354214 & 1.0836549 & RPL21;TMEM176B                                            & 0.8738186\\\\\n",
       "\t5 & 4 & untreated\\_Spi1\\_up & IFN\\_beta\\_cluster\\_3   & 4/672  & 3.215040e-01 & 0.494133457 & 1.5847182 & LCN2;TNFRSF9;KANK3;PDE4B                                  & 1.4198585\\\\\n",
       "\t6 & 5 & untreated\\_Spi1\\_up & IFN\\_beta\\_cluster\\_4   & 1/541  & 9.043975e-01 & 0.942080755 & 0.6338905 & GYG                                                       & 0.4259088\\\\\n",
       "\\end{tabular}\n"
      ],
      "text/markdown": [
       "\n",
       "A data.frame: 6 × 9\n",
       "\n",
       "| <!--/--> | X &lt;int&gt; | Gene_set &lt;chr&gt; | Term &lt;chr&gt; | Overlap &lt;chr&gt; | P.value &lt;dbl&gt; | Adjusted.P.value &lt;dbl&gt; | Odds.Ratio &lt;dbl&gt; | Genes &lt;chr&gt; | Odds.Ratio1 &lt;dbl&gt; |\n",
       "|---|---|---|---|---|---|---|---|---|---|\n",
       "| 1 | 0 | untreated_Spi1_up | C_albicans_cluster_1 | 1/77   | 2.807547e-01 | 0.467924542 | 4.5529255 | PDE4B                                                     | 3.0761183 |\n",
       "| 2 | 1 | untreated_Spi1_up | C_albicans_cluster_4 | 1/103  | 3.567149e-01 | 0.494133457 | 3.4039980 | RPL23                                                     | 2.2961165 |\n",
       "| 3 | 2 | untreated_Spi1_up | IFN_beta_cluster_1   | 10/411 | 9.138281e-06 | 0.000228457 | 6.7188508 | SLFN4;LY6A;H2-Q6;H2-T22;H2-Q4;CCL5;FBXO32;TAPBPL;XDH;HPSE | 6.4573437 |\n",
       "| 4 | 3 | untreated_Spi1_up | IFN_beta_cluster_2   | 2/535  | 6.698179e-01 | 0.747354214 | 1.0836549 | RPL21;TMEM176B                                            | 0.8738186 |\n",
       "| 5 | 4 | untreated_Spi1_up | IFN_beta_cluster_3   | 4/672  | 3.215040e-01 | 0.494133457 | 1.5847182 | LCN2;TNFRSF9;KANK3;PDE4B                                  | 1.4198585 |\n",
       "| 6 | 5 | untreated_Spi1_up | IFN_beta_cluster_4   | 1/541  | 9.043975e-01 | 0.942080755 | 0.6338905 | GYG                                                       | 0.4259088 |\n",
       "\n"
      ],
      "text/plain": [
       "  X Gene_set          Term                 Overlap P.value     \n",
       "1 0 untreated_Spi1_up C_albicans_cluster_1 1/77    2.807547e-01\n",
       "2 1 untreated_Spi1_up C_albicans_cluster_4 1/103   3.567149e-01\n",
       "3 2 untreated_Spi1_up IFN_beta_cluster_1   10/411  9.138281e-06\n",
       "4 3 untreated_Spi1_up IFN_beta_cluster_2   2/535   6.698179e-01\n",
       "5 4 untreated_Spi1_up IFN_beta_cluster_3   4/672   3.215040e-01\n",
       "6 5 untreated_Spi1_up IFN_beta_cluster_4   1/541   9.043975e-01\n",
       "  Adjusted.P.value Odds.Ratio\n",
       "1 0.467924542      4.5529255 \n",
       "2 0.494133457      3.4039980 \n",
       "3 0.000228457      6.7188508 \n",
       "4 0.747354214      1.0836549 \n",
       "5 0.494133457      1.5847182 \n",
       "6 0.942080755      0.6338905 \n",
       "  Genes                                                     Odds.Ratio1\n",
       "1 PDE4B                                                     3.0761183  \n",
       "2 RPL23                                                     2.2961165  \n",
       "3 SLFN4;LY6A;H2-Q6;H2-T22;H2-Q4;CCL5;FBXO32;TAPBPL;XDH;HPSE 6.4573437  \n",
       "4 RPL21;TMEM176B                                            0.8738186  \n",
       "5 LCN2;TNFRSF9;KANK3;PDE4B                                  1.4198585  \n",
       "6 GYG                                                       0.4259088  "
      ]
     },
     "metadata": {},
     "output_type": "display_data"
    }
   ],
   "source": [
    "# load data\n",
    "enr <- read.csv(file.path(data_path, 'GSEA_split_results.csv'))\n",
    "dim(enr)\n",
    "head(enr)"
   ]
  },
  {
   "cell_type": "code",
   "execution_count": 11,
   "id": "e40fd806",
   "metadata": {},
   "outputs": [],
   "source": [
    "# set colors for Listeria clusters\n",
    "cluster_colors_listeria <- cluster_colors\n",
    "names(cluster_colors_listeria) <- gsub(\"Listeria \", \"\", cluster_format2(paste0(\"LO28_cluster_\",names(cluster_colors_listeria))))"
   ]
  },
  {
   "cell_type": "markdown",
   "id": "ba13e7b3",
   "metadata": {},
   "source": [
    "# transform data"
   ]
  },
  {
   "cell_type": "code",
   "execution_count": 12,
   "id": "8b49fc2b",
   "metadata": {},
   "outputs": [
    {
     "data": {
      "text/html": [
       "<style>\n",
       ".list-inline {list-style: none; margin:0; padding: 0}\n",
       ".list-inline>li {display: inline-block}\n",
       ".list-inline>li:not(:last-child)::after {content: \"\\00b7\"; padding: 0 .5ex}\n",
       "</style>\n",
       "<ol class=list-inline><li>1059</li><li>11</li></ol>\n"
      ],
      "text/latex": [
       "\\begin{enumerate*}\n",
       "\\item 1059\n",
       "\\item 11\n",
       "\\end{enumerate*}\n"
      ],
      "text/markdown": [
       "1. 1059\n",
       "2. 11\n",
       "\n",
       "\n"
      ],
      "text/plain": [
       "[1] 1059   11"
      ]
     },
     "metadata": {},
     "output_type": "display_data"
    },
    {
     "data": {
      "text/html": [
       "<table class=\"dataframe\">\n",
       "<caption>A data.frame: 6 × 11</caption>\n",
       "<thead>\n",
       "\t<tr><th></th><th scope=col>X</th><th scope=col>condition</th><th scope=col>KO</th><th scope=col>direction</th><th scope=col>Term</th><th scope=col>Overlap</th><th scope=col>P.value</th><th scope=col>Adjusted.P.value</th><th scope=col>Odds.Ratio</th><th scope=col>Genes</th><th scope=col>Odds.Ratio1</th></tr>\n",
       "\t<tr><th></th><th scope=col>&lt;int&gt;</th><th scope=col>&lt;chr&gt;</th><th scope=col>&lt;chr&gt;</th><th scope=col>&lt;chr&gt;</th><th scope=col>&lt;chr&gt;</th><th scope=col>&lt;chr&gt;</th><th scope=col>&lt;dbl&gt;</th><th scope=col>&lt;dbl&gt;</th><th scope=col>&lt;dbl&gt;</th><th scope=col>&lt;chr&gt;</th><th scope=col>&lt;dbl&gt;</th></tr>\n",
       "</thead>\n",
       "<tbody>\n",
       "\t<tr><th scope=row>1</th><td>0</td><td>untreated</td><td>Spi1</td><td>up</td><td>C_albicans_cluster_1</td><td>1/77  </td><td>2.807547e-01</td><td>0.467924542</td><td>4.5529255</td><td>PDE4B                                                    </td><td>3.0761183</td></tr>\n",
       "\t<tr><th scope=row>2</th><td>1</td><td>untreated</td><td>Spi1</td><td>up</td><td>C_albicans_cluster_4</td><td>1/103 </td><td>3.567149e-01</td><td>0.494133457</td><td>3.4039980</td><td>RPL23                                                    </td><td>2.2961165</td></tr>\n",
       "\t<tr><th scope=row>3</th><td>2</td><td>untreated</td><td>Spi1</td><td>up</td><td>IFN_beta_cluster_1  </td><td>10/411</td><td>9.138281e-06</td><td>0.000228457</td><td>6.7188508</td><td>SLFN4;LY6A;H2-Q6;H2-T22;H2-Q4;CCL5;FBXO32;TAPBPL;XDH;HPSE</td><td>6.4573437</td></tr>\n",
       "\t<tr><th scope=row>4</th><td>3</td><td>untreated</td><td>Spi1</td><td>up</td><td>IFN_beta_cluster_2  </td><td>2/535 </td><td>6.698179e-01</td><td>0.747354214</td><td>1.0836549</td><td>RPL21;TMEM176B                                           </td><td>0.8738186</td></tr>\n",
       "\t<tr><th scope=row>5</th><td>4</td><td>untreated</td><td>Spi1</td><td>up</td><td>IFN_beta_cluster_3  </td><td>4/672 </td><td>3.215040e-01</td><td>0.494133457</td><td>1.5847182</td><td>LCN2;TNFRSF9;KANK3;PDE4B                                 </td><td>1.4198585</td></tr>\n",
       "\t<tr><th scope=row>6</th><td>5</td><td>untreated</td><td>Spi1</td><td>up</td><td>IFN_beta_cluster_4  </td><td>1/541 </td><td>9.043975e-01</td><td>0.942080755</td><td>0.6338905</td><td>GYG                                                      </td><td>0.4259088</td></tr>\n",
       "</tbody>\n",
       "</table>\n"
      ],
      "text/latex": [
       "A data.frame: 6 × 11\n",
       "\\begin{tabular}{r|lllllllllll}\n",
       "  & X & condition & KO & direction & Term & Overlap & P.value & Adjusted.P.value & Odds.Ratio & Genes & Odds.Ratio1\\\\\n",
       "  & <int> & <chr> & <chr> & <chr> & <chr> & <chr> & <dbl> & <dbl> & <dbl> & <chr> & <dbl>\\\\\n",
       "\\hline\n",
       "\t1 & 0 & untreated & Spi1 & up & C\\_albicans\\_cluster\\_1 & 1/77   & 2.807547e-01 & 0.467924542 & 4.5529255 & PDE4B                                                     & 3.0761183\\\\\n",
       "\t2 & 1 & untreated & Spi1 & up & C\\_albicans\\_cluster\\_4 & 1/103  & 3.567149e-01 & 0.494133457 & 3.4039980 & RPL23                                                     & 2.2961165\\\\\n",
       "\t3 & 2 & untreated & Spi1 & up & IFN\\_beta\\_cluster\\_1   & 10/411 & 9.138281e-06 & 0.000228457 & 6.7188508 & SLFN4;LY6A;H2-Q6;H2-T22;H2-Q4;CCL5;FBXO32;TAPBPL;XDH;HPSE & 6.4573437\\\\\n",
       "\t4 & 3 & untreated & Spi1 & up & IFN\\_beta\\_cluster\\_2   & 2/535  & 6.698179e-01 & 0.747354214 & 1.0836549 & RPL21;TMEM176B                                            & 0.8738186\\\\\n",
       "\t5 & 4 & untreated & Spi1 & up & IFN\\_beta\\_cluster\\_3   & 4/672  & 3.215040e-01 & 0.494133457 & 1.5847182 & LCN2;TNFRSF9;KANK3;PDE4B                                  & 1.4198585\\\\\n",
       "\t6 & 5 & untreated & Spi1 & up & IFN\\_beta\\_cluster\\_4   & 1/541  & 9.043975e-01 & 0.942080755 & 0.6338905 & GYG                                                       & 0.4259088\\\\\n",
       "\\end{tabular}\n"
      ],
      "text/markdown": [
       "\n",
       "A data.frame: 6 × 11\n",
       "\n",
       "| <!--/--> | X &lt;int&gt; | condition &lt;chr&gt; | KO &lt;chr&gt; | direction &lt;chr&gt; | Term &lt;chr&gt; | Overlap &lt;chr&gt; | P.value &lt;dbl&gt; | Adjusted.P.value &lt;dbl&gt; | Odds.Ratio &lt;dbl&gt; | Genes &lt;chr&gt; | Odds.Ratio1 &lt;dbl&gt; |\n",
       "|---|---|---|---|---|---|---|---|---|---|---|---|\n",
       "| 1 | 0 | untreated | Spi1 | up | C_albicans_cluster_1 | 1/77   | 2.807547e-01 | 0.467924542 | 4.5529255 | PDE4B                                                     | 3.0761183 |\n",
       "| 2 | 1 | untreated | Spi1 | up | C_albicans_cluster_4 | 1/103  | 3.567149e-01 | 0.494133457 | 3.4039980 | RPL23                                                     | 2.2961165 |\n",
       "| 3 | 2 | untreated | Spi1 | up | IFN_beta_cluster_1   | 10/411 | 9.138281e-06 | 0.000228457 | 6.7188508 | SLFN4;LY6A;H2-Q6;H2-T22;H2-Q4;CCL5;FBXO32;TAPBPL;XDH;HPSE | 6.4573437 |\n",
       "| 4 | 3 | untreated | Spi1 | up | IFN_beta_cluster_2   | 2/535  | 6.698179e-01 | 0.747354214 | 1.0836549 | RPL21;TMEM176B                                            | 0.8738186 |\n",
       "| 5 | 4 | untreated | Spi1 | up | IFN_beta_cluster_3   | 4/672  | 3.215040e-01 | 0.494133457 | 1.5847182 | LCN2;TNFRSF9;KANK3;PDE4B                                  | 1.4198585 |\n",
       "| 6 | 5 | untreated | Spi1 | up | IFN_beta_cluster_4   | 1/541  | 9.043975e-01 | 0.942080755 | 0.6338905 | GYG                                                       | 0.4259088 |\n",
       "\n"
      ],
      "text/plain": [
       "  X condition KO   direction Term                 Overlap P.value     \n",
       "1 0 untreated Spi1 up        C_albicans_cluster_1 1/77    2.807547e-01\n",
       "2 1 untreated Spi1 up        C_albicans_cluster_4 1/103   3.567149e-01\n",
       "3 2 untreated Spi1 up        IFN_beta_cluster_1   10/411  9.138281e-06\n",
       "4 3 untreated Spi1 up        IFN_beta_cluster_2   2/535   6.698179e-01\n",
       "5 4 untreated Spi1 up        IFN_beta_cluster_3   4/672   3.215040e-01\n",
       "6 5 untreated Spi1 up        IFN_beta_cluster_4   1/541   9.043975e-01\n",
       "  Adjusted.P.value Odds.Ratio\n",
       "1 0.467924542      4.5529255 \n",
       "2 0.494133457      3.4039980 \n",
       "3 0.000228457      6.7188508 \n",
       "4 0.747354214      1.0836549 \n",
       "5 0.494133457      1.5847182 \n",
       "6 0.942080755      0.6338905 \n",
       "  Genes                                                     Odds.Ratio1\n",
       "1 PDE4B                                                     3.0761183  \n",
       "2 RPL23                                                     2.2961165  \n",
       "3 SLFN4;LY6A;H2-Q6;H2-T22;H2-Q4;CCL5;FBXO32;TAPBPL;XDH;HPSE 6.4573437  \n",
       "4 RPL21;TMEM176B                                            0.8738186  \n",
       "5 LCN2;TNFRSF9;KANK3;PDE4B                                  1.4198585  \n",
       "6 GYG                                                       0.4259088  "
      ]
     },
     "metadata": {},
     "output_type": "display_data"
    }
   ],
   "source": [
    "# transform data for plotting\n",
    "enr_expanded <- enr %>%\n",
    "  separate(Gene_set, into = c(\"condition\", \"KO\", \"direction\"), sep = \"_\", extra = \"merge\")\n",
    "\n",
    "dim(enr_expanded)\n",
    "head(enr_expanded)"
   ]
  },
  {
   "cell_type": "markdown",
   "id": "b89efacf",
   "metadata": {},
   "source": [
    "# Make plots"
   ]
  },
  {
   "cell_type": "code",
   "execution_count": 17,
   "id": "15acb2cc",
   "metadata": {
    "tags": []
   },
   "outputs": [],
   "source": [
    "# loop through all conditions, KOs and clusters\n",
    "# cond <- \"LO28-6h\" #\"untreated\" #\"LO28-6h\" #\"LO28-24h\"\n",
    "treat <- \"LO28\"\n",
    "\n",
    "for (cond in unique(enr_expanded$condition)){\n",
    "\n",
    "    # filter for condition, Listeria clusters and stat. significance\n",
    "    enr_tmp <- enr_expanded %>% \n",
    "        filter(condition == cond & grepl(treat, Term) & Adjusted.P.value<0.05)\n",
    "\n",
    "    # dim(enr_tmp)\n",
    "    # head(enr_tmp)\n",
    "\n",
    "    # convert to adjacency matrix of odds ratios\n",
    "    enr_wide <- enr_tmp %>%\n",
    "      pivot_wider(\n",
    "        id_cols = KO,\n",
    "        names_from = Term,\n",
    "        values_from = Odds.Ratio\n",
    "      )%>%\n",
    "      as.data.frame()\n",
    "\n",
    "    # set first column as rownames\n",
    "    rownames(enr_wide) <- enr_wide[,1]\n",
    "    enr_wide <- enr_wide[,-1]\n",
    "\n",
    "    # convert to log2(OR)\n",
    "    enr_wide <- enr_wide %>%\n",
    "      mutate_all(~ log2(na_if(., 0)))\n",
    "\n",
    "    # rename columns\n",
    "    colnames(enr_wide) <- gsub(\"Listeria \", \"\", cluster_format2(colnames(enr_wide)))\n",
    "\n",
    "    # dim(enr_wide)\n",
    "    # head(enr_wide)\n",
    "\n",
    "    # make direction matrix for formatting: up=fill, down=borders\n",
    "    enr_dir <- enr_tmp %>%\n",
    "      pivot_wider(\n",
    "        id_cols = KO,\n",
    "        names_from = Term,\n",
    "        values_from = direction\n",
    "      )%>%\n",
    "      as.data.frame()\n",
    "\n",
    "    # set first column as rownames\n",
    "    rownames(enr_dir) <- enr_dir[,1]\n",
    "    enr_dir <- enr_dir[,-1]\n",
    "\n",
    "    # rename columns\n",
    "    colnames(enr_dir) <- gsub(\"Listeria \", \"\", cluster_format2(colnames(enr_dir)))\n",
    "\n",
    "    # dim(enr_dir)\n",
    "    # head(enr_dir)\n",
    "\n",
    "    # map KO colors into a matrix\n",
    "    KO_col_mat = as.matrix(enr_dir)\n",
    "    for (KO in rownames(enr_dir)) {\n",
    "      if (KO %in% names(KO_col)) {\n",
    "        KO_col_mat[KO, ] <-  paste0(KO_col[[KO]],\"FF\") #\"80\")\n",
    "      }\n",
    "    }\n",
    "    # KO_col_mat\n",
    "\n",
    "    # border width=2 for up by KO i.e., down\n",
    "    lwd_mat <- matrix(1, nrow = nrow(enr_dir), ncol = ncol(enr_dir)) #as.matrix(enr_dir)\n",
    "\n",
    "    # border color for up by KO i.e., down regulation in WT\n",
    "    border_mat <- KO_col_mat\n",
    "    border_mat[enr_dir == \"down\"] <- \"#FFFFFFFF\" # 80 for 50% transparency\n",
    "\n",
    "    # link color for down by KO i.e., up regulation in WT\n",
    "    col_mat <- KO_col_mat\n",
    "    col_mat[enr_dir == \"up\"] <- \"#FFFFFFFF\"\n",
    "\n",
    "    ### plot ALL for condition\n",
    "    makeChordDiagram(enr_wide,col_mat, lwd_mat, border_mat, title=treatment_format(cond), results_path = results_path)\n",
    "    \n",
    "    # put into figures folder\n",
    "    if(cond==\"untreated\"){\n",
    "        makeChordDiagram(enr_wide,col_mat, lwd_mat, border_mat, title=treatment_format(cond), results_path = file.path(\"results/figures/figure_6\"))\n",
    "    }else{\n",
    "        makeChordDiagram(enr_wide,col_mat, lwd_mat, border_mat, title=treatment_format(cond), results_path = file.path(\"results/figures/supp_large_screen\"))\n",
    "    }\n",
    "    \n",
    "    ### loop through all KOs in condition\n",
    "    for(KO_tmp in rownames(enr_wide)){\n",
    "        # set tmp data\n",
    "#         KO_tmp <- \"Irf9\"\n",
    "        col_mat_tmp <- col_mat\n",
    "        border_mat_tmp <- border_mat\n",
    "\n",
    "        # set everything but KO of interest to transparency alpha=22\n",
    "        for (row in rownames(col_mat)) {\n",
    "          if (row != KO_tmp) {\n",
    "            for (col in colnames(col_mat)) {\n",
    "                col_mat_tmp[row, col] <- replace_last_two(col_mat_tmp[row, col])\n",
    "                border_mat_tmp[row, col] <- replace_last_two(border_mat_tmp[row, col])\n",
    "            }\n",
    "          }\n",
    "        }\n",
    "\n",
    "        makeChordDiagram(enr_wide, col_mat_tmp, lwd_mat, border_mat_tmp, title=paste0(treatment_format(cond),\" \",KO_tmp), results_path = results_path)   \n",
    "    }\n",
    "    \n",
    "    # make plot for untreated SFPQ and SF3B1\n",
    "    if(cond==\"untreated\"){\n",
    "        col_mat_tmp <- col_mat\n",
    "        border_mat_tmp <- border_mat\n",
    "\n",
    "        # set everything but KOs of interest to transparency alpha=22\n",
    "        for (row in rownames(col_mat)) {\n",
    "          if (row != \"Sfpq\" & row != \"Sf3b1\") {\n",
    "            for (col in colnames(col_mat)) {\n",
    "                col_mat_tmp[row, col] <- replace_last_two(col_mat_tmp[row, col])\n",
    "                border_mat_tmp[row, col] <- replace_last_two(border_mat_tmp[row, col])\n",
    "            }\n",
    "          }\n",
    "        }\n",
    "\n",
    "        makeChordDiagram(enr_wide, col_mat_tmp, lwd_mat, border_mat_tmp, title=paste0(treatment_format(cond),\" \",\"SFPQ SF3B1\"), results_path = file.path(\"results/figures/figure_6\")) \n",
    "    }\n",
    "    \n",
    "    ### loop through all clusters in condition\n",
    "    for(cluster_tmp in colnames(enr_wide)){\n",
    "        # set tmp data\n",
    "        col_mat_tmp <- col_mat\n",
    "        border_mat_tmp <- border_mat\n",
    "\n",
    "        # set everything but KO of interest to transparency alpha=11\n",
    "        for (col in colnames(col_mat)) {\n",
    "          if (col != cluster_tmp) {\n",
    "            for (row in rownames(col_mat)) {\n",
    "                col_mat_tmp[row, col] <- replace_last_two(col_mat_tmp[row, col])\n",
    "                border_mat_tmp[row, col] <- replace_last_two(border_mat_tmp[row, col])\n",
    "            }\n",
    "          }\n",
    "        }\n",
    "\n",
    "        makeChordDiagram(enr_wide, col_mat_tmp, lwd_mat, border_mat_tmp, title=paste0(treatment_format(cond),\" \",cluster_tmp), results_path = results_path)\n",
    "        \n",
    "        # put into figures folder\n",
    "        if(cond==\"untreated\" & (cluster_tmp==\"B\" | cluster_tmp==\"C\")){\n",
    "            makeChordDiagram(enr_wide, col_mat_tmp, lwd_mat, border_mat_tmp, title=paste0(treatment_format(cond),\" \",cluster_tmp), results_path = file.path(\"results/figures/figure_6\"))\n",
    "        }\n",
    "    }\n",
    "}"
   ]
  }
 ],
 "metadata": {
  "kernelspec": {
   "display_name": "R_plot",
   "language": "R",
   "name": "r_plot"
  },
  "language_info": {
   "codemirror_mode": "r",
   "file_extension": ".r",
   "mimetype": "text/x-r-source",
   "name": "R",
   "pygments_lexer": "r",
   "version": "4.1.3"
  }
 },
 "nbformat": 4,
 "nbformat_minor": 5
}
