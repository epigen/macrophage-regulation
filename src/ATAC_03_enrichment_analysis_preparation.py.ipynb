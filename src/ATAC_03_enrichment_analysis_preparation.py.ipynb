{
 "cells": [
  {
   "cell_type": "markdown",
   "id": "030a3ca4",
   "metadata": {},
   "source": [
    "# ATAC-seq - Prepare .bed files for enrichment analysis\n",
    "- goal: .bed files of result region sets\n",
    "- input: DARs, DAR clusters, time-series clusters\n",
    "- output: corresponding .bed files"
   ]
  },
  {
   "cell_type": "code",
   "execution_count": 1,
   "id": "2aae0cad",
   "metadata": {},
   "outputs": [
    {
     "name": "stdout",
     "output_type": "stream",
     "text": [
      "/home/sreichl/projects/bmdm-stim\n"
     ]
    }
   ],
   "source": [
    "cd ../"
   ]
  },
  {
   "cell_type": "code",
   "execution_count": 2,
   "id": "f0903765",
   "metadata": {},
   "outputs": [],
   "source": [
    "# libraries\n",
    "import os\n",
    "import pandas as pd\n",
    "import pybedtools as bedtools\n",
    "import pathlib"
   ]
  },
  {
   "cell_type": "code",
   "execution_count": 3,
   "id": "7fb857b5",
   "metadata": {},
   "outputs": [],
   "source": [
    "# configs\n",
    "dir_data = os.path.join('results', 'ATAC', 'all')\n",
    "metadata_path=os.path.join('metadata','ATAC_sample_metadata.csv')\n",
    "project_prefix_path = os.getcwd()"
   ]
  },
  {
   "cell_type": "markdown",
   "id": "1be3df62",
   "metadata": {},
   "source": [
    "# load data"
   ]
  },
  {
   "cell_type": "code",
   "execution_count": 4,
   "id": "0fe63718",
   "metadata": {
    "tags": []
   },
   "outputs": [
    {
     "name": "stdout",
     "output_type": "stream",
     "text": [
      "(78, 10)\n"
     ]
    },
    {
     "data": {
      "text/html": [
       "<div>\n",
       "<style scoped>\n",
       "    .dataframe tbody tr th:only-of-type {\n",
       "        vertical-align: middle;\n",
       "    }\n",
       "\n",
       "    .dataframe tbody tr th {\n",
       "        vertical-align: top;\n",
       "    }\n",
       "\n",
       "    .dataframe thead th {\n",
       "        text-align: right;\n",
       "    }\n",
       "</style>\n",
       "<table border=\"1\" class=\"dataframe\">\n",
       "  <thead>\n",
       "    <tr style=\"text-align: right;\">\n",
       "      <th></th>\n",
       "      <th>library</th>\n",
       "      <th>timepoint after thawing</th>\n",
       "      <th>cell_line</th>\n",
       "      <th>Treatment</th>\n",
       "      <th>Treatment_time</th>\n",
       "      <th>mouse_pool</th>\n",
       "      <th>sex</th>\n",
       "      <th>bio-replicate</th>\n",
       "      <th>organism</th>\n",
       "      <th>experiment_id</th>\n",
       "    </tr>\n",
       "    <tr>\n",
       "      <th>sample_name</th>\n",
       "      <th></th>\n",
       "      <th></th>\n",
       "      <th></th>\n",
       "      <th></th>\n",
       "      <th></th>\n",
       "      <th></th>\n",
       "      <th></th>\n",
       "      <th></th>\n",
       "      <th></th>\n",
       "      <th></th>\n",
       "    </tr>\n",
       "  </thead>\n",
       "  <tbody>\n",
       "    <tr>\n",
       "      <th>PT76_R1_C_albicans_2h</th>\n",
       "      <td>ATAC-seq</td>\n",
       "      <td>d010</td>\n",
       "      <td>BMDM</td>\n",
       "      <td>C_albicans</td>\n",
       "      <td>2h</td>\n",
       "      <td>PT62_c</td>\n",
       "      <td>female</td>\n",
       "      <td>R1</td>\n",
       "      <td>mouse</td>\n",
       "      <td>PT76</td>\n",
       "    </tr>\n",
       "    <tr>\n",
       "      <th>PT76_R1_C_albicans_4h</th>\n",
       "      <td>ATAC-seq</td>\n",
       "      <td>d010</td>\n",
       "      <td>BMDM</td>\n",
       "      <td>C_albicans</td>\n",
       "      <td>4h</td>\n",
       "      <td>PT62_c</td>\n",
       "      <td>female</td>\n",
       "      <td>R1</td>\n",
       "      <td>mouse</td>\n",
       "      <td>PT76</td>\n",
       "    </tr>\n",
       "    <tr>\n",
       "      <th>PT76_R1_C_albicans_6h</th>\n",
       "      <td>ATAC-seq</td>\n",
       "      <td>d010</td>\n",
       "      <td>BMDM</td>\n",
       "      <td>C_albicans</td>\n",
       "      <td>6h</td>\n",
       "      <td>PT62_c</td>\n",
       "      <td>female</td>\n",
       "      <td>R1</td>\n",
       "      <td>mouse</td>\n",
       "      <td>PT76</td>\n",
       "    </tr>\n",
       "    <tr>\n",
       "      <th>PT76_R1_C_albicans_8h</th>\n",
       "      <td>ATAC-seq</td>\n",
       "      <td>d010</td>\n",
       "      <td>BMDM</td>\n",
       "      <td>C_albicans</td>\n",
       "      <td>8h</td>\n",
       "      <td>PT62_c</td>\n",
       "      <td>female</td>\n",
       "      <td>R1</td>\n",
       "      <td>mouse</td>\n",
       "      <td>PT76</td>\n",
       "    </tr>\n",
       "    <tr>\n",
       "      <th>PT76_R1_untreated_0h</th>\n",
       "      <td>ATAC-seq</td>\n",
       "      <td>d010</td>\n",
       "      <td>BMDM</td>\n",
       "      <td>untreated</td>\n",
       "      <td>0h</td>\n",
       "      <td>PT62_c</td>\n",
       "      <td>female</td>\n",
       "      <td>R1</td>\n",
       "      <td>mouse</td>\n",
       "      <td>PT76</td>\n",
       "    </tr>\n",
       "  </tbody>\n",
       "</table>\n",
       "</div>"
      ],
      "text/plain": [
       "                        library timepoint after thawing cell_line   Treatment  \\\n",
       "sample_name                                                                     \n",
       "PT76_R1_C_albicans_2h  ATAC-seq                    d010      BMDM  C_albicans   \n",
       "PT76_R1_C_albicans_4h  ATAC-seq                    d010      BMDM  C_albicans   \n",
       "PT76_R1_C_albicans_6h  ATAC-seq                    d010      BMDM  C_albicans   \n",
       "PT76_R1_C_albicans_8h  ATAC-seq                    d010      BMDM  C_albicans   \n",
       "PT76_R1_untreated_0h   ATAC-seq                    d010      BMDM   untreated   \n",
       "\n",
       "                      Treatment_time mouse_pool     sex bio-replicate  \\\n",
       "sample_name                                                             \n",
       "PT76_R1_C_albicans_2h             2h     PT62_c  female            R1   \n",
       "PT76_R1_C_albicans_4h             4h     PT62_c  female            R1   \n",
       "PT76_R1_C_albicans_6h             6h     PT62_c  female            R1   \n",
       "PT76_R1_C_albicans_8h             8h     PT62_c  female            R1   \n",
       "PT76_R1_untreated_0h              0h     PT62_c  female            R1   \n",
       "\n",
       "                      organism experiment_id  \n",
       "sample_name                                   \n",
       "PT76_R1_C_albicans_2h    mouse          PT76  \n",
       "PT76_R1_C_albicans_4h    mouse          PT76  \n",
       "PT76_R1_C_albicans_6h    mouse          PT76  \n",
       "PT76_R1_C_albicans_8h    mouse          PT76  \n",
       "PT76_R1_untreated_0h     mouse          PT76  "
      ]
     },
     "execution_count": 4,
     "metadata": {},
     "output_type": "execute_result"
    }
   ],
   "source": [
    "# Load sample annotation\n",
    "annot = pd.read_csv(metadata_path, index_col=0, header=0,)\n",
    "print(annot.shape)\n",
    "annot.head()"
   ]
  },
  {
   "cell_type": "code",
   "execution_count": 5,
   "id": "8cc7e981",
   "metadata": {},
   "outputs": [
    {
     "name": "stdout",
     "output_type": "stream",
     "text": [
      "(136735, 3)\n"
     ]
    },
    {
     "data": {
      "text/html": [
       "<div>\n",
       "<style scoped>\n",
       "    .dataframe tbody tr th:only-of-type {\n",
       "        vertical-align: middle;\n",
       "    }\n",
       "\n",
       "    .dataframe tbody tr th {\n",
       "        vertical-align: top;\n",
       "    }\n",
       "\n",
       "    .dataframe thead th {\n",
       "        text-align: right;\n",
       "    }\n",
       "</style>\n",
       "<table border=\"1\" class=\"dataframe\">\n",
       "  <thead>\n",
       "    <tr style=\"text-align: right;\">\n",
       "      <th></th>\n",
       "      <th>0</th>\n",
       "      <th>1</th>\n",
       "      <th>2</th>\n",
       "    </tr>\n",
       "    <tr>\n",
       "      <th>3</th>\n",
       "      <th></th>\n",
       "      <th></th>\n",
       "      <th></th>\n",
       "    </tr>\n",
       "  </thead>\n",
       "  <tbody>\n",
       "    <tr>\n",
       "      <th>CONS00000000005</th>\n",
       "      <td>chr1</td>\n",
       "      <td>4414052</td>\n",
       "      <td>4415256</td>\n",
       "    </tr>\n",
       "    <tr>\n",
       "      <th>CONS00000000006</th>\n",
       "      <td>chr1</td>\n",
       "      <td>4416568</td>\n",
       "      <td>4417221</td>\n",
       "    </tr>\n",
       "    <tr>\n",
       "      <th>CONS00000000011</th>\n",
       "      <td>chr1</td>\n",
       "      <td>4491871</td>\n",
       "      <td>4492835</td>\n",
       "    </tr>\n",
       "    <tr>\n",
       "      <th>CONS00000000013</th>\n",
       "      <td>chr1</td>\n",
       "      <td>4622075</td>\n",
       "      <td>4622934</td>\n",
       "    </tr>\n",
       "    <tr>\n",
       "      <th>CONS00000000017</th>\n",
       "      <td>chr1</td>\n",
       "      <td>4755824</td>\n",
       "      <td>4756551</td>\n",
       "    </tr>\n",
       "  </tbody>\n",
       "</table>\n",
       "</div>"
      ],
      "text/plain": [
       "                    0        1        2\n",
       "3                                      \n",
       "CONS00000000005  chr1  4414052  4415256\n",
       "CONS00000000006  chr1  4416568  4417221\n",
       "CONS00000000011  chr1  4491871  4492835\n",
       "CONS00000000013  chr1  4622075  4622934\n",
       "CONS00000000017  chr1  4755824  4756551"
      ]
     },
     "execution_count": 5,
     "metadata": {},
     "output_type": "execute_result"
    }
   ],
   "source": [
    "# load consensus region set\n",
    "consensus_regions = pd.read_csv(os.path.join(dir_data,'all_consensus_regions_filtered.bed'), sep='\\t', index_col=3, header=None,)\n",
    "print(consensus_regions.shape)\n",
    "consensus_regions.head()"
   ]
  },
  {
   "cell_type": "code",
   "execution_count": 6,
   "id": "e82ee6a7",
   "metadata": {},
   "outputs": [
    {
     "name": "stdout",
     "output_type": "stream",
     "text": [
      "(194339, 25)\n"
     ]
    },
    {
     "data": {
      "text/html": [
       "<div>\n",
       "<style scoped>\n",
       "    .dataframe tbody tr th:only-of-type {\n",
       "        vertical-align: middle;\n",
       "    }\n",
       "\n",
       "    .dataframe tbody tr th {\n",
       "        vertical-align: top;\n",
       "    }\n",
       "\n",
       "    .dataframe thead th {\n",
       "        text-align: right;\n",
       "    }\n",
       "</style>\n",
       "<table border=\"1\" class=\"dataframe\">\n",
       "  <thead>\n",
       "    <tr style=\"text-align: right;\">\n",
       "      <th></th>\n",
       "      <th>gencode_chr</th>\n",
       "      <th>gencode_start</th>\n",
       "      <th>gencode_end</th>\n",
       "      <th>gencode_length</th>\n",
       "      <th>gencode_feat_anchor</th>\n",
       "      <th>gencode_distance</th>\n",
       "      <th>gencode_location</th>\n",
       "      <th>gencode_feat_type</th>\n",
       "      <th>gencode_gene_id</th>\n",
       "      <th>gencode_gene_name</th>\n",
       "      <th>...</th>\n",
       "      <th>homer_Entrez ID</th>\n",
       "      <th>homer_Nearest Unigene</th>\n",
       "      <th>homer_Nearest Refseq</th>\n",
       "      <th>homer_Nearest Ensembl</th>\n",
       "      <th>homer_Gene Name</th>\n",
       "      <th>homer_Gene Alias</th>\n",
       "      <th>homer_Gene Description</th>\n",
       "      <th>homer_Gene Type</th>\n",
       "      <th>regulatoryBuild_reg_feature</th>\n",
       "      <th>regulatoryBuild_reg_feature_id</th>\n",
       "    </tr>\n",
       "    <tr>\n",
       "      <th>peak_id</th>\n",
       "      <th></th>\n",
       "      <th></th>\n",
       "      <th></th>\n",
       "      <th></th>\n",
       "      <th></th>\n",
       "      <th></th>\n",
       "      <th></th>\n",
       "      <th></th>\n",
       "      <th></th>\n",
       "      <th></th>\n",
       "      <th></th>\n",
       "      <th></th>\n",
       "      <th></th>\n",
       "      <th></th>\n",
       "      <th></th>\n",
       "      <th></th>\n",
       "      <th></th>\n",
       "      <th></th>\n",
       "      <th></th>\n",
       "      <th></th>\n",
       "      <th></th>\n",
       "    </tr>\n",
       "  </thead>\n",
       "  <tbody>\n",
       "    <tr>\n",
       "      <th>CONS00000000000</th>\n",
       "      <td>chr1</td>\n",
       "      <td>3445775</td>\n",
       "      <td>3446352</td>\n",
       "      <td>577</td>\n",
       "      <td>center</td>\n",
       "      <td>7364</td>\n",
       "      <td>PeakInsideFeature</td>\n",
       "      <td>gene:protein_coding</td>\n",
       "      <td>ENSMUSG00000051951.5</td>\n",
       "      <td>Xkr4</td>\n",
       "      <td>...</td>\n",
       "      <td>497097.0</td>\n",
       "      <td>Mm.454496</td>\n",
       "      <td>NM_001011874</td>\n",
       "      <td>ENSMUSG00000051951</td>\n",
       "      <td>Xkr4</td>\n",
       "      <td>AY534250|Gm210|XRG4|mKIAA1889</td>\n",
       "      <td>X-linked Kx blood group related 4</td>\n",
       "      <td>protein-coding</td>\n",
       "      <td>regulatory_region</td>\n",
       "      <td>ENSMUSR00000476182</td>\n",
       "    </tr>\n",
       "    <tr>\n",
       "      <th>CONS00000000001</th>\n",
       "      <td>chr1</td>\n",
       "      <td>4255761</td>\n",
       "      <td>4256262</td>\n",
       "      <td>501</td>\n",
       "      <td>center</td>\n",
       "      <td>51613</td>\n",
       "      <td>PeakInsideFeature</td>\n",
       "      <td>gene:protein_coding</td>\n",
       "      <td>ENSMUSG00000025900.13</td>\n",
       "      <td>Rp1</td>\n",
       "      <td>...</td>\n",
       "      <td>19888.0</td>\n",
       "      <td>Mm.294263</td>\n",
       "      <td>NM_011283</td>\n",
       "      <td>ENSMUSG00000025900</td>\n",
       "      <td>Rp1</td>\n",
       "      <td>Dcdc3|Gm38717|Orp1|Rp1h|mG145</td>\n",
       "      <td>retinitis pigmentosa 1 (human)</td>\n",
       "      <td>protein-coding</td>\n",
       "      <td>reg_NONE</td>\n",
       "      <td>NaN</td>\n",
       "    </tr>\n",
       "    <tr>\n",
       "      <th>CONS00000000002</th>\n",
       "      <td>chr1</td>\n",
       "      <td>4260896</td>\n",
       "      <td>4261397</td>\n",
       "      <td>501</td>\n",
       "      <td>center</td>\n",
       "      <td>56748</td>\n",
       "      <td>PeakInsideFeature</td>\n",
       "      <td>gene:protein_coding</td>\n",
       "      <td>ENSMUSG00000025900.13</td>\n",
       "      <td>Rp1</td>\n",
       "      <td>...</td>\n",
       "      <td>19888.0</td>\n",
       "      <td>Mm.294263</td>\n",
       "      <td>NM_011283</td>\n",
       "      <td>ENSMUSG00000025900</td>\n",
       "      <td>Rp1</td>\n",
       "      <td>Dcdc3|Gm38717|Orp1|Rp1h|mG145</td>\n",
       "      <td>retinitis pigmentosa 1 (human)</td>\n",
       "      <td>protein-coding</td>\n",
       "      <td>reg_NONE</td>\n",
       "      <td>NaN</td>\n",
       "    </tr>\n",
       "    <tr>\n",
       "      <th>CONS00000000003</th>\n",
       "      <td>chr1</td>\n",
       "      <td>4401366</td>\n",
       "      <td>4401938</td>\n",
       "      <td>572</td>\n",
       "      <td>start</td>\n",
       "      <td>7589</td>\n",
       "      <td>PeakInsideFeature</td>\n",
       "      <td>gene:protein_coding</td>\n",
       "      <td>ENSMUSG00000025900.13</td>\n",
       "      <td>Rp1</td>\n",
       "      <td>...</td>\n",
       "      <td>19888.0</td>\n",
       "      <td>Mm.294263</td>\n",
       "      <td>NM_011283</td>\n",
       "      <td>ENSMUSG00000025900</td>\n",
       "      <td>Rp1</td>\n",
       "      <td>Dcdc3|Gm38717|Orp1|Rp1h|mG145</td>\n",
       "      <td>retinitis pigmentosa 1 (human)</td>\n",
       "      <td>protein-coding</td>\n",
       "      <td>reg_NONE</td>\n",
       "      <td>NaN</td>\n",
       "    </tr>\n",
       "    <tr>\n",
       "      <th>CONS00000000004</th>\n",
       "      <td>chr1</td>\n",
       "      <td>4405390</td>\n",
       "      <td>4405891</td>\n",
       "      <td>501</td>\n",
       "      <td>start</td>\n",
       "      <td>3601</td>\n",
       "      <td>PeakInsideFeature</td>\n",
       "      <td>gene:protein_coding</td>\n",
       "      <td>ENSMUSG00000025900.13</td>\n",
       "      <td>Rp1</td>\n",
       "      <td>...</td>\n",
       "      <td>19888.0</td>\n",
       "      <td>Mm.294263</td>\n",
       "      <td>NM_011283</td>\n",
       "      <td>ENSMUSG00000025900</td>\n",
       "      <td>Rp1</td>\n",
       "      <td>Dcdc3|Gm38717|Orp1|Rp1h|mG145</td>\n",
       "      <td>retinitis pigmentosa 1 (human)</td>\n",
       "      <td>protein-coding</td>\n",
       "      <td>reg_NONE</td>\n",
       "      <td>NaN</td>\n",
       "    </tr>\n",
       "  </tbody>\n",
       "</table>\n",
       "<p>5 rows × 25 columns</p>\n",
       "</div>"
      ],
      "text/plain": [
       "                gencode_chr  gencode_start  gencode_end  gencode_length  \\\n",
       "peak_id                                                                   \n",
       "CONS00000000000        chr1        3445775      3446352             577   \n",
       "CONS00000000001        chr1        4255761      4256262             501   \n",
       "CONS00000000002        chr1        4260896      4261397             501   \n",
       "CONS00000000003        chr1        4401366      4401938             572   \n",
       "CONS00000000004        chr1        4405390      4405891             501   \n",
       "\n",
       "                gencode_feat_anchor  gencode_distance   gencode_location  \\\n",
       "peak_id                                                                    \n",
       "CONS00000000000              center              7364  PeakInsideFeature   \n",
       "CONS00000000001              center             51613  PeakInsideFeature   \n",
       "CONS00000000002              center             56748  PeakInsideFeature   \n",
       "CONS00000000003               start              7589  PeakInsideFeature   \n",
       "CONS00000000004               start              3601  PeakInsideFeature   \n",
       "\n",
       "                   gencode_feat_type        gencode_gene_id gencode_gene_name  \\\n",
       "peak_id                                                                         \n",
       "CONS00000000000  gene:protein_coding   ENSMUSG00000051951.5              Xkr4   \n",
       "CONS00000000001  gene:protein_coding  ENSMUSG00000025900.13               Rp1   \n",
       "CONS00000000002  gene:protein_coding  ENSMUSG00000025900.13               Rp1   \n",
       "CONS00000000003  gene:protein_coding  ENSMUSG00000025900.13               Rp1   \n",
       "CONS00000000004  gene:protein_coding  ENSMUSG00000025900.13               Rp1   \n",
       "\n",
       "                 ... homer_Entrez ID homer_Nearest Unigene  \\\n",
       "peak_id          ...                                         \n",
       "CONS00000000000  ...        497097.0             Mm.454496   \n",
       "CONS00000000001  ...         19888.0             Mm.294263   \n",
       "CONS00000000002  ...         19888.0             Mm.294263   \n",
       "CONS00000000003  ...         19888.0             Mm.294263   \n",
       "CONS00000000004  ...         19888.0             Mm.294263   \n",
       "\n",
       "                homer_Nearest Refseq  homer_Nearest Ensembl homer_Gene Name  \\\n",
       "peak_id                                                                       \n",
       "CONS00000000000         NM_001011874     ENSMUSG00000051951            Xkr4   \n",
       "CONS00000000001            NM_011283     ENSMUSG00000025900             Rp1   \n",
       "CONS00000000002            NM_011283     ENSMUSG00000025900             Rp1   \n",
       "CONS00000000003            NM_011283     ENSMUSG00000025900             Rp1   \n",
       "CONS00000000004            NM_011283     ENSMUSG00000025900             Rp1   \n",
       "\n",
       "                              homer_Gene Alias  \\\n",
       "peak_id                                          \n",
       "CONS00000000000  AY534250|Gm210|XRG4|mKIAA1889   \n",
       "CONS00000000001  Dcdc3|Gm38717|Orp1|Rp1h|mG145   \n",
       "CONS00000000002  Dcdc3|Gm38717|Orp1|Rp1h|mG145   \n",
       "CONS00000000003  Dcdc3|Gm38717|Orp1|Rp1h|mG145   \n",
       "CONS00000000004  Dcdc3|Gm38717|Orp1|Rp1h|mG145   \n",
       "\n",
       "                            homer_Gene Description homer_Gene Type  \\\n",
       "peak_id                                                              \n",
       "CONS00000000000  X-linked Kx blood group related 4  protein-coding   \n",
       "CONS00000000001     retinitis pigmentosa 1 (human)  protein-coding   \n",
       "CONS00000000002     retinitis pigmentosa 1 (human)  protein-coding   \n",
       "CONS00000000003     retinitis pigmentosa 1 (human)  protein-coding   \n",
       "CONS00000000004     retinitis pigmentosa 1 (human)  protein-coding   \n",
       "\n",
       "                regulatoryBuild_reg_feature regulatoryBuild_reg_feature_id  \n",
       "peak_id                                                                     \n",
       "CONS00000000000           regulatory_region             ENSMUSR00000476182  \n",
       "CONS00000000001                    reg_NONE                            NaN  \n",
       "CONS00000000002                    reg_NONE                            NaN  \n",
       "CONS00000000003                    reg_NONE                            NaN  \n",
       "CONS00000000004                    reg_NONE                            NaN  \n",
       "\n",
       "[5 rows x 25 columns]"
      ]
     },
     "execution_count": 6,
     "metadata": {},
     "output_type": "execute_result"
    }
   ],
   "source": [
    "# load region annotation\n",
    "region_annot = pd.read_csv(os.path.join(dir_data,'consensus_regions_annotation.csv'), index_col=0, header=0,)\n",
    "print(region_annot.shape)\n",
    "region_annot.head()"
   ]
  },
  {
   "cell_type": "code",
   "execution_count": 7,
   "id": "50619cba",
   "metadata": {},
   "outputs": [
    {
     "data": {
      "text/plain": [
       "['C_albicans', 'IFN_beta', 'IFN_gamma', 'LCMV_Cl13', 'LO28', 'LPS']"
      ]
     },
     "execution_count": 7,
     "metadata": {},
     "output_type": "execute_result"
    }
   ],
   "source": [
    "treatments = list(annot['Treatment'].unique())\n",
    "treatments.remove('untreated')\n",
    "treatments"
   ]
  },
  {
   "cell_type": "code",
   "execution_count": 8,
   "id": "c658909a",
   "metadata": {},
   "outputs": [
    {
     "data": {
      "text/plain": [
       "'/nobackup/lab_bock/projects/bmdm-stim/results/ATAC/all/all_consensus_regions_filtered.bed'"
      ]
     },
     "execution_count": 8,
     "metadata": {},
     "output_type": "execute_result"
    }
   ],
   "source": [
    "# name & path to background region set\n",
    "bg_regions_name = \"BMDM\"\n",
    "bg_regions_path = os.path.join(project_prefix_path, dir_data, \"all_consensus_regions_filtered.bed\")\n",
    "bg_regions_path"
   ]
  },
  {
   "cell_type": "markdown",
   "id": "ead3c0e7",
   "metadata": {},
   "source": [
    "# DAR results"
   ]
  },
  {
   "cell_type": "code",
   "execution_count": 17,
   "id": "1b474f29",
   "metadata": {},
   "outputs": [],
   "source": [
    "# result folder\n",
    "dir_results=os.path.join(dir_data,'DEA', 'DAR_bedfiles')\n",
    "if not os.path.exists(dir_results):\n",
    "        os.mkdir(dir_results)"
   ]
  },
  {
   "cell_type": "code",
   "execution_count": 10,
   "id": "3c15144d",
   "metadata": {},
   "outputs": [
    {
     "name": "stdout",
     "output_type": "stream",
     "text": [
      "51\n"
     ]
    },
    {
     "data": {
      "text/plain": [
       "dict_keys(['C_albicans_2h_up', 'C_albicans_2h_down', 'C_albicans_4h_up', 'C_albicans_4h_down', 'C_albicans_6h_up', 'C_albicans_6h_down', 'C_albicans_8h_up', 'C_albicans_8h_down', 'IFN_beta_2h_up', 'IFN_beta_2h_down', 'IFN_beta_4h_up', 'IFN_beta_4h_down', 'IFN_beta_6h_up', 'IFN_beta_6h_down', 'IFN_beta_8h_up', 'IFN_beta_8h_down', 'IFN_beta_24h_up', 'IFN_beta_24h_down', 'IFN_gamma_2h_up', 'IFN_gamma_2h_down', 'IFN_gamma_4h_up', 'IFN_gamma_4h_down', 'IFN_gamma_6h_up', 'IFN_gamma_6h_down', 'IFN_gamma_8h_up', 'IFN_gamma_8h_down', 'IFN_gamma_24h_up', 'IFN_gamma_24h_down', 'LCMV_Cl13_8h_down', 'LCMV_Cl13_24h_up', 'LCMV_Cl13_24h_down', 'LO28_2h_up', 'LO28_2h_down', 'LO28_4h_up', 'LO28_4h_down', 'LO28_6h_up', 'LO28_6h_down', 'LO28_8h_up', 'LO28_8h_down', 'LO28_24h_up', 'LO28_24h_down', 'LPS_2h_up', 'LPS_2h_down', 'LPS_4h_up', 'LPS_4h_down', 'LPS_6h_up', 'LPS_6h_down', 'LPS_8h_up', 'LPS_8h_down', 'LPS_24h_up', 'LPS_24h_down'])"
      ]
     },
     "execution_count": 10,
     "metadata": {},
     "output_type": "execute_result"
    }
   ],
   "source": [
    "# get significant regions per treatment and time point ie group\n",
    "region_lists = dict()\n",
    "\n",
    "for treatment in treatments:\n",
    "    # load analysis results per treatment\n",
    "    tmp_results = pd.read_csv(os.path.join(dir_data,'DEA','DEA_'+treatment+'.tsv'), header=0, sep='\\t', index_col='rn')\n",
    "    for group in tmp_results['group'].unique():\n",
    "        \n",
    "        for direction in ['up','down']:\n",
    "            if direction=='up':\n",
    "                tmp_genes = tmp_results.loc[(tmp_results['adj.P.Val']<0.05) & (tmp_results['group']==group) & (tmp_results['logFC']>0), ].index.unique()\n",
    "            else:\n",
    "                tmp_genes = tmp_results.loc[(tmp_results['adj.P.Val']<0.05) & (tmp_results['group']==group) & (tmp_results['logFC']<0), ].index.unique()\n",
    "        \n",
    "            if len(tmp_genes)==0:\n",
    "                continue\n",
    "            \n",
    "            region_lists[group+\"_\"+direction] = tmp_genes\n",
    "\n",
    "print(len(region_lists.keys()))        \n",
    "region_lists.keys()"
   ]
  },
  {
   "cell_type": "code",
   "execution_count": 11,
   "id": "44bf5b6e",
   "metadata": {},
   "outputs": [],
   "source": [
    "for region_list in region_lists.keys():\n",
    "    tmp_regions = consensus_regions.loc[region_lists[region_list],:]\n",
    "    tmp_regions['ID'] = tmp_regions.index\n",
    "    bedtools.BedTool().from_dataframe(tmp_regions).saveas(os.path.join(dir_results,\"{}.bed\".format(region_list)))"
   ]
  },
  {
   "cell_type": "code",
   "execution_count": 12,
   "id": "c29bf05c",
   "metadata": {},
   "outputs": [
    {
     "name": "stdout",
     "output_type": "stream",
     "text": [
      "(51, 4)\n"
     ]
    },
    {
     "data": {
      "text/html": [
       "<div>\n",
       "<style scoped>\n",
       "    .dataframe tbody tr th:only-of-type {\n",
       "        vertical-align: middle;\n",
       "    }\n",
       "\n",
       "    .dataframe tbody tr th {\n",
       "        vertical-align: top;\n",
       "    }\n",
       "\n",
       "    .dataframe thead th {\n",
       "        text-align: right;\n",
       "    }\n",
       "</style>\n",
       "<table border=\"1\" class=\"dataframe\">\n",
       "  <thead>\n",
       "    <tr style=\"text-align: right;\">\n",
       "      <th></th>\n",
       "      <th>name</th>\n",
       "      <th>regions_bed</th>\n",
       "      <th>background_name</th>\n",
       "      <th>background_bed</th>\n",
       "    </tr>\n",
       "  </thead>\n",
       "  <tbody>\n",
       "    <tr>\n",
       "      <th>0</th>\n",
       "      <td>C_albicans_2h_up</td>\n",
       "      <td>/nobackup/lab_bock/projects/bmdm-stim/results/...</td>\n",
       "      <td>BMDM</td>\n",
       "      <td>/nobackup/lab_bock/projects/bmdm-stim/results/...</td>\n",
       "    </tr>\n",
       "    <tr>\n",
       "      <th>1</th>\n",
       "      <td>C_albicans_2h_down</td>\n",
       "      <td>/nobackup/lab_bock/projects/bmdm-stim/results/...</td>\n",
       "      <td>BMDM</td>\n",
       "      <td>/nobackup/lab_bock/projects/bmdm-stim/results/...</td>\n",
       "    </tr>\n",
       "    <tr>\n",
       "      <th>2</th>\n",
       "      <td>C_albicans_4h_up</td>\n",
       "      <td>/nobackup/lab_bock/projects/bmdm-stim/results/...</td>\n",
       "      <td>BMDM</td>\n",
       "      <td>/nobackup/lab_bock/projects/bmdm-stim/results/...</td>\n",
       "    </tr>\n",
       "    <tr>\n",
       "      <th>3</th>\n",
       "      <td>C_albicans_4h_down</td>\n",
       "      <td>/nobackup/lab_bock/projects/bmdm-stim/results/...</td>\n",
       "      <td>BMDM</td>\n",
       "      <td>/nobackup/lab_bock/projects/bmdm-stim/results/...</td>\n",
       "    </tr>\n",
       "    <tr>\n",
       "      <th>4</th>\n",
       "      <td>C_albicans_6h_up</td>\n",
       "      <td>/nobackup/lab_bock/projects/bmdm-stim/results/...</td>\n",
       "      <td>BMDM</td>\n",
       "      <td>/nobackup/lab_bock/projects/bmdm-stim/results/...</td>\n",
       "    </tr>\n",
       "  </tbody>\n",
       "</table>\n",
       "</div>"
      ],
      "text/plain": [
       "                 name                                        regions_bed  \\\n",
       "0    C_albicans_2h_up  /nobackup/lab_bock/projects/bmdm-stim/results/...   \n",
       "1  C_albicans_2h_down  /nobackup/lab_bock/projects/bmdm-stim/results/...   \n",
       "2    C_albicans_4h_up  /nobackup/lab_bock/projects/bmdm-stim/results/...   \n",
       "3  C_albicans_4h_down  /nobackup/lab_bock/projects/bmdm-stim/results/...   \n",
       "4    C_albicans_6h_up  /nobackup/lab_bock/projects/bmdm-stim/results/...   \n",
       "\n",
       "  background_name                                     background_bed  \n",
       "0            BMDM  /nobackup/lab_bock/projects/bmdm-stim/results/...  \n",
       "1            BMDM  /nobackup/lab_bock/projects/bmdm-stim/results/...  \n",
       "2            BMDM  /nobackup/lab_bock/projects/bmdm-stim/results/...  \n",
       "3            BMDM  /nobackup/lab_bock/projects/bmdm-stim/results/...  \n",
       "4            BMDM  /nobackup/lab_bock/projects/bmdm-stim/results/...  "
      ]
     },
     "execution_count": 12,
     "metadata": {},
     "output_type": "execute_result"
    }
   ],
   "source": [
    "enrichment_config = pd.DataFrame()\n",
    "\n",
    "for region_list in region_lists.keys():\n",
    "    enrichment_config=enrichment_config.append(pd.Series([region_list, os.path.join(project_prefix_path,dir_results,\"{}.bed\".format(region_list)), bg_regions_name, bg_regions_path]), ignore_index=True)\n",
    "\n",
    "enrichment_config.columns = ['name', 'regions_bed', 'background_name','background_bed']\n",
    "enrichment_config.to_csv(os.path.join(dir_results,\"DAR_enrichment_annotation.csv\"), index=False)\n",
    "print(enrichment_config.shape)\n",
    "enrichment_config.head()"
   ]
  },
  {
   "cell_type": "markdown",
   "id": "e995e5d4",
   "metadata": {},
   "source": [
    "# DAR cluster results"
   ]
  },
  {
   "cell_type": "code",
   "execution_count": 43,
   "id": "ad0986fb",
   "metadata": {},
   "outputs": [],
   "source": [
    "# result folder\n",
    "dir_results=os.path.join(dir_data, 'DEA', 'DARclusters_bedfiles')\n",
    "if not os.path.exists(dir_results):\n",
    "        pathlib.Path(dir_results).mkdir(parents=True, exist_ok=True) "
   ]
  },
  {
   "cell_type": "code",
   "execution_count": 18,
   "id": "592645a4",
   "metadata": {},
   "outputs": [
    {
     "data": {
      "text/plain": [
       "[4, 5, 6, 7, 8, 9, 10, 11, 12]"
      ]
     },
     "execution_count": 18,
     "metadata": {},
     "output_type": "execute_result"
    }
   ],
   "source": [
    "# configs\n",
    "ks = list(range(4,13))\n",
    "ks"
   ]
  },
  {
   "cell_type": "code",
   "execution_count": 40,
   "id": "5d19379d",
   "metadata": {
    "tags": []
   },
   "outputs": [
    {
     "name": "stdout",
     "output_type": "stream",
     "text": [
      "72\n",
      "dict_keys(['k4_cluster_1', 'k4_cluster_2', 'k4_cluster_3', 'k4_cluster_4', 'k5_cluster_1', 'k5_cluster_2', 'k5_cluster_3', 'k5_cluster_4', 'k5_cluster_5', 'k6_cluster_1', 'k6_cluster_2', 'k6_cluster_3', 'k6_cluster_4', 'k6_cluster_5', 'k6_cluster_6', 'k7_cluster_1', 'k7_cluster_2', 'k7_cluster_3', 'k7_cluster_4', 'k7_cluster_5', 'k7_cluster_6', 'k7_cluster_7', 'k8_cluster_1', 'k8_cluster_2', 'k8_cluster_3', 'k8_cluster_4', 'k8_cluster_5', 'k8_cluster_6', 'k8_cluster_7', 'k8_cluster_8', 'k9_cluster_1', 'k9_cluster_2', 'k9_cluster_3', 'k9_cluster_4', 'k9_cluster_5', 'k9_cluster_6', 'k9_cluster_7', 'k9_cluster_8', 'k9_cluster_9', 'k10_cluster_1', 'k10_cluster_2', 'k10_cluster_3', 'k10_cluster_4', 'k10_cluster_5', 'k10_cluster_6', 'k10_cluster_7', 'k10_cluster_8', 'k10_cluster_9', 'k10_cluster_10', 'k11_cluster_1', 'k11_cluster_2', 'k11_cluster_3', 'k11_cluster_4', 'k11_cluster_5', 'k11_cluster_6', 'k11_cluster_7', 'k11_cluster_8', 'k11_cluster_9', 'k11_cluster_10', 'k11_cluster_11', 'k12_cluster_1', 'k12_cluster_2', 'k12_cluster_3', 'k12_cluster_4', 'k12_cluster_5', 'k12_cluster_6', 'k12_cluster_7', 'k12_cluster_8', 'k12_cluster_9', 'k12_cluster_10', 'k12_cluster_11', 'k12_cluster_12'])\n"
     ]
    }
   ],
   "source": [
    "# get DAR cluster regions\n",
    "region_lists = dict()\n",
    "for k in ks:\n",
    "    # load clustering results\n",
    "    DAR_cluster_results = pd.read_csv(os.path.join(dir_data,'DEA','Clusters_HM_{}'.format(k),'Regions.tsv'), header=0, sep='\\t')\n",
    "    # make region lists\n",
    "    tmp_region_lists=DAR_cluster_results.groupby('value')['rn'].apply(list).to_dict()\n",
    "\n",
    "    # rename gene_lists\n",
    "    for key in tmp_region_lists.keys():\n",
    "        region_lists[\"k{}_cluster_{}\".format(k,key)] = tmp_region_lists[key]\n",
    "\n",
    "print(len(region_lists.keys()))        \n",
    "print(region_lists.keys())"
   ]
  },
  {
   "cell_type": "code",
   "execution_count": 44,
   "id": "634957d2",
   "metadata": {},
   "outputs": [],
   "source": [
    "for region_list in region_lists.keys():\n",
    "    tmp_regions = consensus_regions.loc[region_lists[region_list],:]\n",
    "    tmp_regions['ID'] = tmp_regions.index\n",
    "    bedtools.BedTool().from_dataframe(tmp_regions).saveas(os.path.join(dir_results,\"{}.bed\".format(region_list)))"
   ]
  },
  {
   "cell_type": "code",
   "execution_count": 45,
   "id": "a44f2217",
   "metadata": {},
   "outputs": [
    {
     "name": "stdout",
     "output_type": "stream",
     "text": [
      "(72, 4)\n"
     ]
    },
    {
     "data": {
      "text/html": [
       "<div>\n",
       "<style scoped>\n",
       "    .dataframe tbody tr th:only-of-type {\n",
       "        vertical-align: middle;\n",
       "    }\n",
       "\n",
       "    .dataframe tbody tr th {\n",
       "        vertical-align: top;\n",
       "    }\n",
       "\n",
       "    .dataframe thead th {\n",
       "        text-align: right;\n",
       "    }\n",
       "</style>\n",
       "<table border=\"1\" class=\"dataframe\">\n",
       "  <thead>\n",
       "    <tr style=\"text-align: right;\">\n",
       "      <th></th>\n",
       "      <th>name</th>\n",
       "      <th>regions_bed</th>\n",
       "      <th>background_name</th>\n",
       "      <th>background_bed</th>\n",
       "    </tr>\n",
       "  </thead>\n",
       "  <tbody>\n",
       "    <tr>\n",
       "      <th>0</th>\n",
       "      <td>k4_cluster_1</td>\n",
       "      <td>/nobackup/lab_bock/projects/bmdm-stim/results/...</td>\n",
       "      <td>BMDM</td>\n",
       "      <td>/nobackup/lab_bock/projects/bmdm-stim/results/...</td>\n",
       "    </tr>\n",
       "    <tr>\n",
       "      <th>1</th>\n",
       "      <td>k4_cluster_2</td>\n",
       "      <td>/nobackup/lab_bock/projects/bmdm-stim/results/...</td>\n",
       "      <td>BMDM</td>\n",
       "      <td>/nobackup/lab_bock/projects/bmdm-stim/results/...</td>\n",
       "    </tr>\n",
       "    <tr>\n",
       "      <th>2</th>\n",
       "      <td>k4_cluster_3</td>\n",
       "      <td>/nobackup/lab_bock/projects/bmdm-stim/results/...</td>\n",
       "      <td>BMDM</td>\n",
       "      <td>/nobackup/lab_bock/projects/bmdm-stim/results/...</td>\n",
       "    </tr>\n",
       "    <tr>\n",
       "      <th>3</th>\n",
       "      <td>k4_cluster_4</td>\n",
       "      <td>/nobackup/lab_bock/projects/bmdm-stim/results/...</td>\n",
       "      <td>BMDM</td>\n",
       "      <td>/nobackup/lab_bock/projects/bmdm-stim/results/...</td>\n",
       "    </tr>\n",
       "    <tr>\n",
       "      <th>4</th>\n",
       "      <td>k5_cluster_1</td>\n",
       "      <td>/nobackup/lab_bock/projects/bmdm-stim/results/...</td>\n",
       "      <td>BMDM</td>\n",
       "      <td>/nobackup/lab_bock/projects/bmdm-stim/results/...</td>\n",
       "    </tr>\n",
       "  </tbody>\n",
       "</table>\n",
       "</div>"
      ],
      "text/plain": [
       "           name                                        regions_bed  \\\n",
       "0  k4_cluster_1  /nobackup/lab_bock/projects/bmdm-stim/results/...   \n",
       "1  k4_cluster_2  /nobackup/lab_bock/projects/bmdm-stim/results/...   \n",
       "2  k4_cluster_3  /nobackup/lab_bock/projects/bmdm-stim/results/...   \n",
       "3  k4_cluster_4  /nobackup/lab_bock/projects/bmdm-stim/results/...   \n",
       "4  k5_cluster_1  /nobackup/lab_bock/projects/bmdm-stim/results/...   \n",
       "\n",
       "  background_name                                     background_bed  \n",
       "0            BMDM  /nobackup/lab_bock/projects/bmdm-stim/results/...  \n",
       "1            BMDM  /nobackup/lab_bock/projects/bmdm-stim/results/...  \n",
       "2            BMDM  /nobackup/lab_bock/projects/bmdm-stim/results/...  \n",
       "3            BMDM  /nobackup/lab_bock/projects/bmdm-stim/results/...  \n",
       "4            BMDM  /nobackup/lab_bock/projects/bmdm-stim/results/...  "
      ]
     },
     "execution_count": 45,
     "metadata": {},
     "output_type": "execute_result"
    }
   ],
   "source": [
    "enrichment_config = pd.DataFrame()\n",
    "\n",
    "for region_list in region_lists.keys():\n",
    "    enrichment_config=enrichment_config.append(pd.Series([region_list, os.path.join(project_prefix_path,dir_results,\"{}.bed\".format(region_list)), bg_regions_name, bg_regions_path]), ignore_index=True)\n",
    "\n",
    "enrichment_config.columns = ['name', 'regions_bed', 'background_name','background_bed']\n",
    "enrichment_config.to_csv(os.path.join(dir_results,\"DARclusters_enrichment_annotation.csv\"), index=False)\n",
    "print(enrichment_config.shape)\n",
    "enrichment_config.head()"
   ]
  },
  {
   "cell_type": "markdown",
   "id": "5279695e",
   "metadata": {},
   "source": [
    "# time-series cluster results"
   ]
  },
  {
   "cell_type": "code",
   "execution_count": 9,
   "id": "fe6af9de",
   "metadata": {},
   "outputs": [],
   "source": [
    "# result folder\n",
    "dir_results=os.path.join(dir_data, 'time_series', 'timeseries_bedfiles')\n",
    "if not os.path.exists(dir_results):\n",
    "        pathlib.Path(dir_results).mkdir(parents=True, exist_ok=True) "
   ]
  },
  {
   "cell_type": "code",
   "execution_count": 10,
   "id": "51031038",
   "metadata": {},
   "outputs": [
    {
     "data": {
      "text/plain": [
       "[2, 3, 4, 5, 6, 7, 8, 9, 10]"
      ]
     },
     "execution_count": 10,
     "metadata": {},
     "output_type": "execute_result"
    }
   ],
   "source": [
    "# config\n",
    "ks = list(range(2,11))#+[15,20]\n",
    "ks"
   ]
  },
  {
   "cell_type": "code",
   "execution_count": 11,
   "id": "92143bf6",
   "metadata": {
    "tags": []
   },
   "outputs": [
    {
     "name": "stdout",
     "output_type": "stream",
     "text": [
      "324\n",
      "dict_keys(['C_albicans_k2_cluster_1', 'C_albicans_k2_cluster_2', 'C_albicans_k3_cluster_1', 'C_albicans_k3_cluster_2', 'C_albicans_k3_cluster_3', 'C_albicans_k4_cluster_1', 'C_albicans_k4_cluster_2', 'C_albicans_k4_cluster_3', 'C_albicans_k4_cluster_4', 'C_albicans_k5_cluster_1', 'C_albicans_k5_cluster_2', 'C_albicans_k5_cluster_3', 'C_albicans_k5_cluster_4', 'C_albicans_k5_cluster_5', 'C_albicans_k6_cluster_1', 'C_albicans_k6_cluster_2', 'C_albicans_k6_cluster_3', 'C_albicans_k6_cluster_4', 'C_albicans_k6_cluster_5', 'C_albicans_k6_cluster_6', 'C_albicans_k7_cluster_1', 'C_albicans_k7_cluster_2', 'C_albicans_k7_cluster_3', 'C_albicans_k7_cluster_4', 'C_albicans_k7_cluster_5', 'C_albicans_k7_cluster_6', 'C_albicans_k7_cluster_7', 'C_albicans_k8_cluster_1', 'C_albicans_k8_cluster_2', 'C_albicans_k8_cluster_3', 'C_albicans_k8_cluster_4', 'C_albicans_k8_cluster_5', 'C_albicans_k8_cluster_6', 'C_albicans_k8_cluster_7', 'C_albicans_k8_cluster_8', 'C_albicans_k9_cluster_1', 'C_albicans_k9_cluster_2', 'C_albicans_k9_cluster_3', 'C_albicans_k9_cluster_4', 'C_albicans_k9_cluster_5', 'C_albicans_k9_cluster_6', 'C_albicans_k9_cluster_7', 'C_albicans_k9_cluster_8', 'C_albicans_k9_cluster_9', 'C_albicans_k10_cluster_1', 'C_albicans_k10_cluster_2', 'C_albicans_k10_cluster_3', 'C_albicans_k10_cluster_4', 'C_albicans_k10_cluster_5', 'C_albicans_k10_cluster_6', 'C_albicans_k10_cluster_7', 'C_albicans_k10_cluster_8', 'C_albicans_k10_cluster_9', 'C_albicans_k10_cluster_10', 'IFN_beta_k2_cluster_1', 'IFN_beta_k2_cluster_2', 'IFN_beta_k3_cluster_1', 'IFN_beta_k3_cluster_2', 'IFN_beta_k3_cluster_3', 'IFN_beta_k4_cluster_1', 'IFN_beta_k4_cluster_2', 'IFN_beta_k4_cluster_3', 'IFN_beta_k4_cluster_4', 'IFN_beta_k5_cluster_1', 'IFN_beta_k5_cluster_2', 'IFN_beta_k5_cluster_3', 'IFN_beta_k5_cluster_4', 'IFN_beta_k5_cluster_5', 'IFN_beta_k6_cluster_1', 'IFN_beta_k6_cluster_2', 'IFN_beta_k6_cluster_3', 'IFN_beta_k6_cluster_4', 'IFN_beta_k6_cluster_5', 'IFN_beta_k6_cluster_6', 'IFN_beta_k7_cluster_1', 'IFN_beta_k7_cluster_2', 'IFN_beta_k7_cluster_3', 'IFN_beta_k7_cluster_4', 'IFN_beta_k7_cluster_5', 'IFN_beta_k7_cluster_6', 'IFN_beta_k7_cluster_7', 'IFN_beta_k8_cluster_1', 'IFN_beta_k8_cluster_2', 'IFN_beta_k8_cluster_3', 'IFN_beta_k8_cluster_4', 'IFN_beta_k8_cluster_5', 'IFN_beta_k8_cluster_6', 'IFN_beta_k8_cluster_7', 'IFN_beta_k8_cluster_8', 'IFN_beta_k9_cluster_1', 'IFN_beta_k9_cluster_2', 'IFN_beta_k9_cluster_3', 'IFN_beta_k9_cluster_4', 'IFN_beta_k9_cluster_5', 'IFN_beta_k9_cluster_6', 'IFN_beta_k9_cluster_7', 'IFN_beta_k9_cluster_8', 'IFN_beta_k9_cluster_9', 'IFN_beta_k10_cluster_1', 'IFN_beta_k10_cluster_2', 'IFN_beta_k10_cluster_3', 'IFN_beta_k10_cluster_4', 'IFN_beta_k10_cluster_5', 'IFN_beta_k10_cluster_6', 'IFN_beta_k10_cluster_7', 'IFN_beta_k10_cluster_8', 'IFN_beta_k10_cluster_9', 'IFN_beta_k10_cluster_10', 'IFN_gamma_k2_cluster_1', 'IFN_gamma_k2_cluster_2', 'IFN_gamma_k3_cluster_1', 'IFN_gamma_k3_cluster_2', 'IFN_gamma_k3_cluster_3', 'IFN_gamma_k4_cluster_1', 'IFN_gamma_k4_cluster_2', 'IFN_gamma_k4_cluster_3', 'IFN_gamma_k4_cluster_4', 'IFN_gamma_k5_cluster_1', 'IFN_gamma_k5_cluster_2', 'IFN_gamma_k5_cluster_3', 'IFN_gamma_k5_cluster_4', 'IFN_gamma_k5_cluster_5', 'IFN_gamma_k6_cluster_1', 'IFN_gamma_k6_cluster_2', 'IFN_gamma_k6_cluster_3', 'IFN_gamma_k6_cluster_4', 'IFN_gamma_k6_cluster_5', 'IFN_gamma_k6_cluster_6', 'IFN_gamma_k7_cluster_1', 'IFN_gamma_k7_cluster_2', 'IFN_gamma_k7_cluster_3', 'IFN_gamma_k7_cluster_4', 'IFN_gamma_k7_cluster_5', 'IFN_gamma_k7_cluster_6', 'IFN_gamma_k7_cluster_7', 'IFN_gamma_k8_cluster_1', 'IFN_gamma_k8_cluster_2', 'IFN_gamma_k8_cluster_3', 'IFN_gamma_k8_cluster_4', 'IFN_gamma_k8_cluster_5', 'IFN_gamma_k8_cluster_6', 'IFN_gamma_k8_cluster_7', 'IFN_gamma_k8_cluster_8', 'IFN_gamma_k9_cluster_1', 'IFN_gamma_k9_cluster_2', 'IFN_gamma_k9_cluster_3', 'IFN_gamma_k9_cluster_4', 'IFN_gamma_k9_cluster_5', 'IFN_gamma_k9_cluster_6', 'IFN_gamma_k9_cluster_7', 'IFN_gamma_k9_cluster_8', 'IFN_gamma_k9_cluster_9', 'IFN_gamma_k10_cluster_1', 'IFN_gamma_k10_cluster_2', 'IFN_gamma_k10_cluster_3', 'IFN_gamma_k10_cluster_4', 'IFN_gamma_k10_cluster_5', 'IFN_gamma_k10_cluster_6', 'IFN_gamma_k10_cluster_7', 'IFN_gamma_k10_cluster_8', 'IFN_gamma_k10_cluster_9', 'IFN_gamma_k10_cluster_10', 'LCMV_Cl13_k2_cluster_1', 'LCMV_Cl13_k2_cluster_2', 'LCMV_Cl13_k3_cluster_1', 'LCMV_Cl13_k3_cluster_2', 'LCMV_Cl13_k3_cluster_3', 'LCMV_Cl13_k4_cluster_1', 'LCMV_Cl13_k4_cluster_2', 'LCMV_Cl13_k4_cluster_3', 'LCMV_Cl13_k4_cluster_4', 'LCMV_Cl13_k5_cluster_1', 'LCMV_Cl13_k5_cluster_2', 'LCMV_Cl13_k5_cluster_3', 'LCMV_Cl13_k5_cluster_4', 'LCMV_Cl13_k5_cluster_5', 'LCMV_Cl13_k6_cluster_1', 'LCMV_Cl13_k6_cluster_2', 'LCMV_Cl13_k6_cluster_3', 'LCMV_Cl13_k6_cluster_4', 'LCMV_Cl13_k6_cluster_5', 'LCMV_Cl13_k6_cluster_6', 'LCMV_Cl13_k7_cluster_1', 'LCMV_Cl13_k7_cluster_2', 'LCMV_Cl13_k7_cluster_3', 'LCMV_Cl13_k7_cluster_4', 'LCMV_Cl13_k7_cluster_5', 'LCMV_Cl13_k7_cluster_6', 'LCMV_Cl13_k7_cluster_7', 'LCMV_Cl13_k8_cluster_1', 'LCMV_Cl13_k8_cluster_2', 'LCMV_Cl13_k8_cluster_3', 'LCMV_Cl13_k8_cluster_4', 'LCMV_Cl13_k8_cluster_5', 'LCMV_Cl13_k8_cluster_6', 'LCMV_Cl13_k8_cluster_7', 'LCMV_Cl13_k8_cluster_8', 'LCMV_Cl13_k9_cluster_1', 'LCMV_Cl13_k9_cluster_2', 'LCMV_Cl13_k9_cluster_3', 'LCMV_Cl13_k9_cluster_4', 'LCMV_Cl13_k9_cluster_5', 'LCMV_Cl13_k9_cluster_6', 'LCMV_Cl13_k9_cluster_7', 'LCMV_Cl13_k9_cluster_8', 'LCMV_Cl13_k9_cluster_9', 'LCMV_Cl13_k10_cluster_1', 'LCMV_Cl13_k10_cluster_2', 'LCMV_Cl13_k10_cluster_3', 'LCMV_Cl13_k10_cluster_4', 'LCMV_Cl13_k10_cluster_5', 'LCMV_Cl13_k10_cluster_6', 'LCMV_Cl13_k10_cluster_7', 'LCMV_Cl13_k10_cluster_8', 'LCMV_Cl13_k10_cluster_9', 'LCMV_Cl13_k10_cluster_10', 'LO28_k2_cluster_1', 'LO28_k2_cluster_2', 'LO28_k3_cluster_1', 'LO28_k3_cluster_2', 'LO28_k3_cluster_3', 'LO28_k4_cluster_1', 'LO28_k4_cluster_2', 'LO28_k4_cluster_3', 'LO28_k4_cluster_4', 'LO28_k5_cluster_1', 'LO28_k5_cluster_2', 'LO28_k5_cluster_3', 'LO28_k5_cluster_4', 'LO28_k5_cluster_5', 'LO28_k6_cluster_1', 'LO28_k6_cluster_2', 'LO28_k6_cluster_3', 'LO28_k6_cluster_4', 'LO28_k6_cluster_5', 'LO28_k6_cluster_6', 'LO28_k7_cluster_1', 'LO28_k7_cluster_2', 'LO28_k7_cluster_3', 'LO28_k7_cluster_4', 'LO28_k7_cluster_5', 'LO28_k7_cluster_6', 'LO28_k7_cluster_7', 'LO28_k8_cluster_1', 'LO28_k8_cluster_2', 'LO28_k8_cluster_3', 'LO28_k8_cluster_4', 'LO28_k8_cluster_5', 'LO28_k8_cluster_6', 'LO28_k8_cluster_7', 'LO28_k8_cluster_8', 'LO28_k9_cluster_1', 'LO28_k9_cluster_2', 'LO28_k9_cluster_3', 'LO28_k9_cluster_4', 'LO28_k9_cluster_5', 'LO28_k9_cluster_6', 'LO28_k9_cluster_7', 'LO28_k9_cluster_8', 'LO28_k9_cluster_9', 'LO28_k10_cluster_1', 'LO28_k10_cluster_2', 'LO28_k10_cluster_3', 'LO28_k10_cluster_4', 'LO28_k10_cluster_5', 'LO28_k10_cluster_6', 'LO28_k10_cluster_7', 'LO28_k10_cluster_8', 'LO28_k10_cluster_9', 'LO28_k10_cluster_10', 'LPS_k2_cluster_1', 'LPS_k2_cluster_2', 'LPS_k3_cluster_1', 'LPS_k3_cluster_2', 'LPS_k3_cluster_3', 'LPS_k4_cluster_1', 'LPS_k4_cluster_2', 'LPS_k4_cluster_3', 'LPS_k4_cluster_4', 'LPS_k5_cluster_1', 'LPS_k5_cluster_2', 'LPS_k5_cluster_3', 'LPS_k5_cluster_4', 'LPS_k5_cluster_5', 'LPS_k6_cluster_1', 'LPS_k6_cluster_2', 'LPS_k6_cluster_3', 'LPS_k6_cluster_4', 'LPS_k6_cluster_5', 'LPS_k6_cluster_6', 'LPS_k7_cluster_1', 'LPS_k7_cluster_2', 'LPS_k7_cluster_3', 'LPS_k7_cluster_4', 'LPS_k7_cluster_5', 'LPS_k7_cluster_6', 'LPS_k7_cluster_7', 'LPS_k8_cluster_1', 'LPS_k8_cluster_2', 'LPS_k8_cluster_3', 'LPS_k8_cluster_4', 'LPS_k8_cluster_5', 'LPS_k8_cluster_6', 'LPS_k8_cluster_7', 'LPS_k8_cluster_8', 'LPS_k9_cluster_1', 'LPS_k9_cluster_2', 'LPS_k9_cluster_3', 'LPS_k9_cluster_4', 'LPS_k9_cluster_5', 'LPS_k9_cluster_6', 'LPS_k9_cluster_7', 'LPS_k9_cluster_8', 'LPS_k9_cluster_9', 'LPS_k10_cluster_1', 'LPS_k10_cluster_2', 'LPS_k10_cluster_3', 'LPS_k10_cluster_4', 'LPS_k10_cluster_5', 'LPS_k10_cluster_6', 'LPS_k10_cluster_7', 'LPS_k10_cluster_8', 'LPS_k10_cluster_9', 'LPS_k10_cluster_10'])\n"
     ]
    }
   ],
   "source": [
    "# get significant regions per treatment and per k clustering\n",
    "region_lists = dict()\n",
    "for treatment in treatments:\n",
    "    for k in ks:\n",
    "        # load clustering result\n",
    "        tmp_results = pd.read_csv(os.path.join(dir_data,'time_series',treatment, \"k_{}\".format(k), \"clustering_\"+treatment+\".csv\"), header=0, index_col=0)\n",
    "        # make gene lists\n",
    "        tmp_region_lists=tmp_results.groupby('1')['0'].apply(list).to_dict()\n",
    "\n",
    "        # rename gene_lists\n",
    "        for key in tmp_region_lists.keys():\n",
    "            region_lists[\"{}_k{}_cluster_{}\".format(treatment, k, key)] = tmp_region_lists[key]\n",
    "\n",
    "print(len(region_lists.keys()))        \n",
    "print(region_lists.keys())"
   ]
  },
  {
   "cell_type": "code",
   "execution_count": 12,
   "id": "e363e5e7",
   "metadata": {},
   "outputs": [],
   "source": [
    "for region_list in region_lists.keys():\n",
    "    tmp_regions = consensus_regions.loc[region_lists[region_list],:]\n",
    "    tmp_regions['ID'] = tmp_regions.index\n",
    "    bedtools.BedTool().from_dataframe(tmp_regions).saveas(os.path.join(dir_results,\"{}.bed\".format(region_list)))"
   ]
  },
  {
   "cell_type": "code",
   "execution_count": 13,
   "id": "4a0f6f12",
   "metadata": {},
   "outputs": [
    {
     "name": "stdout",
     "output_type": "stream",
     "text": [
      "(324, 4)\n"
     ]
    },
    {
     "data": {
      "text/html": [
       "<div>\n",
       "<style scoped>\n",
       "    .dataframe tbody tr th:only-of-type {\n",
       "        vertical-align: middle;\n",
       "    }\n",
       "\n",
       "    .dataframe tbody tr th {\n",
       "        vertical-align: top;\n",
       "    }\n",
       "\n",
       "    .dataframe thead th {\n",
       "        text-align: right;\n",
       "    }\n",
       "</style>\n",
       "<table border=\"1\" class=\"dataframe\">\n",
       "  <thead>\n",
       "    <tr style=\"text-align: right;\">\n",
       "      <th></th>\n",
       "      <th>name</th>\n",
       "      <th>regions_bed</th>\n",
       "      <th>background_name</th>\n",
       "      <th>background_bed</th>\n",
       "    </tr>\n",
       "  </thead>\n",
       "  <tbody>\n",
       "    <tr>\n",
       "      <th>0</th>\n",
       "      <td>C_albicans_k2_cluster_1</td>\n",
       "      <td>/nobackup/lab_bock/projects/bmdm-stim/results/...</td>\n",
       "      <td>BMDM</td>\n",
       "      <td>/nobackup/lab_bock/projects/bmdm-stim/results/...</td>\n",
       "    </tr>\n",
       "    <tr>\n",
       "      <th>1</th>\n",
       "      <td>C_albicans_k2_cluster_2</td>\n",
       "      <td>/nobackup/lab_bock/projects/bmdm-stim/results/...</td>\n",
       "      <td>BMDM</td>\n",
       "      <td>/nobackup/lab_bock/projects/bmdm-stim/results/...</td>\n",
       "    </tr>\n",
       "    <tr>\n",
       "      <th>2</th>\n",
       "      <td>C_albicans_k3_cluster_1</td>\n",
       "      <td>/nobackup/lab_bock/projects/bmdm-stim/results/...</td>\n",
       "      <td>BMDM</td>\n",
       "      <td>/nobackup/lab_bock/projects/bmdm-stim/results/...</td>\n",
       "    </tr>\n",
       "    <tr>\n",
       "      <th>3</th>\n",
       "      <td>C_albicans_k3_cluster_2</td>\n",
       "      <td>/nobackup/lab_bock/projects/bmdm-stim/results/...</td>\n",
       "      <td>BMDM</td>\n",
       "      <td>/nobackup/lab_bock/projects/bmdm-stim/results/...</td>\n",
       "    </tr>\n",
       "    <tr>\n",
       "      <th>4</th>\n",
       "      <td>C_albicans_k3_cluster_3</td>\n",
       "      <td>/nobackup/lab_bock/projects/bmdm-stim/results/...</td>\n",
       "      <td>BMDM</td>\n",
       "      <td>/nobackup/lab_bock/projects/bmdm-stim/results/...</td>\n",
       "    </tr>\n",
       "  </tbody>\n",
       "</table>\n",
       "</div>"
      ],
      "text/plain": [
       "                      name                                        regions_bed  \\\n",
       "0  C_albicans_k2_cluster_1  /nobackup/lab_bock/projects/bmdm-stim/results/...   \n",
       "1  C_albicans_k2_cluster_2  /nobackup/lab_bock/projects/bmdm-stim/results/...   \n",
       "2  C_albicans_k3_cluster_1  /nobackup/lab_bock/projects/bmdm-stim/results/...   \n",
       "3  C_albicans_k3_cluster_2  /nobackup/lab_bock/projects/bmdm-stim/results/...   \n",
       "4  C_albicans_k3_cluster_3  /nobackup/lab_bock/projects/bmdm-stim/results/...   \n",
       "\n",
       "  background_name                                     background_bed  \n",
       "0            BMDM  /nobackup/lab_bock/projects/bmdm-stim/results/...  \n",
       "1            BMDM  /nobackup/lab_bock/projects/bmdm-stim/results/...  \n",
       "2            BMDM  /nobackup/lab_bock/projects/bmdm-stim/results/...  \n",
       "3            BMDM  /nobackup/lab_bock/projects/bmdm-stim/results/...  \n",
       "4            BMDM  /nobackup/lab_bock/projects/bmdm-stim/results/...  "
      ]
     },
     "execution_count": 13,
     "metadata": {},
     "output_type": "execute_result"
    }
   ],
   "source": [
    "enrichment_config = pd.DataFrame()\n",
    "\n",
    "for region_list in region_lists.keys():\n",
    "    enrichment_config=enrichment_config.append(pd.Series([region_list, os.path.join(project_prefix_path,dir_results,\"{}.bed\".format(region_list)), bg_regions_name, bg_regions_path]), ignore_index=True)\n",
    "\n",
    "enrichment_config.columns = ['name', 'regions_bed', 'background_name','background_bed']\n",
    "enrichment_config.to_csv(os.path.join(dir_results,\"timeseries_enrichment_annotation.csv\"), index=False)\n",
    "print(enrichment_config.shape)\n",
    "enrichment_config.head()"
   ]
  },
  {
   "cell_type": "code",
   "execution_count": null,
   "id": "326dcc12",
   "metadata": {},
   "outputs": [],
   "source": []
  }
 ],
 "metadata": {
  "kernelspec": {
   "display_name": "Python_atac_analysis",
   "language": "python",
   "name": "atac_analysis"
  },
  "language_info": {
   "codemirror_mode": {
    "name": "ipython",
    "version": 3
   },
   "file_extension": ".py",
   "mimetype": "text/x-python",
   "name": "python",
   "nbconvert_exporter": "python",
   "pygments_lexer": "ipython3",
   "version": "3.8.15"
  }
 },
 "nbformat": 4,
 "nbformat_minor": 5
}
