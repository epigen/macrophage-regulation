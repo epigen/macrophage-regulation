{
 "cells": [
  {
   "cell_type": "markdown",
   "id": "773894a1",
   "metadata": {},
   "source": [
    "# Supplementary Figures - Upscaled CROP-seq KO150 screen Euler diagrams"
   ]
  },
  {
   "cell_type": "code",
   "execution_count": 1,
   "id": "9df1e7a1",
   "metadata": {
    "tags": []
   },
   "outputs": [
    {
     "data": {
      "text/html": [
       "'/home/sreichl/projects/bmdm-stim/workflow/notebooks'"
      ],
      "text/latex": [
       "'/home/sreichl/projects/bmdm-stim/workflow/notebooks'"
      ],
      "text/markdown": [
       "'/home/sreichl/projects/bmdm-stim/workflow/notebooks'"
      ],
      "text/plain": [
       "[1] \"/home/sreichl/projects/bmdm-stim/workflow/notebooks\""
      ]
     },
     "metadata": {},
     "output_type": "display_data"
    },
    {
     "data": {
      "text/html": [
       "'/home/sreichl/projects/bmdm-stim'"
      ],
      "text/latex": [
       "'/home/sreichl/projects/bmdm-stim'"
      ],
      "text/markdown": [
       "'/home/sreichl/projects/bmdm-stim'"
      ],
      "text/plain": [
       "[1] \"/home/sreichl/projects/bmdm-stim\""
      ]
     },
     "metadata": {},
     "output_type": "display_data"
    }
   ],
   "source": [
    "# set correct working directory -> project folder\n",
    "getwd()\n",
    "setwd('..')\n",
    "getwd()"
   ]
  },
  {
   "cell_type": "code",
   "execution_count": 2,
   "id": "f8456dd6",
   "metadata": {},
   "outputs": [],
   "source": [
    "# source the figure theme, libraries and utility functions\n",
    "source(\"./src/figure_theme.R\")"
   ]
  },
  {
   "cell_type": "code",
   "execution_count": 3,
   "id": "e457c8ad",
   "metadata": {
    "tags": []
   },
   "outputs": [],
   "source": [
    "# for euler plots\n",
    "library(eulerr)"
   ]
  },
  {
   "cell_type": "markdown",
   "id": "b48b5c96",
   "metadata": {},
   "source": [
    "# configs"
   ]
  },
  {
   "cell_type": "code",
   "execution_count": 4,
   "id": "a19dc9a3",
   "metadata": {},
   "outputs": [],
   "source": [
    "# configs\n",
    "data_path <- file.path('results','KO150')\n",
    "results_path <- file.path('results','figures','supp_large_screen')"
   ]
  },
  {
   "cell_type": "code",
   "execution_count": 5,
   "id": "35f9beee",
   "metadata": {},
   "outputs": [],
   "source": [
    "# make directories if not exist\n",
    "dir.create(results_path, showWarnings = FALSE, recursive = TRUE)"
   ]
  },
  {
   "cell_type": "markdown",
   "id": "de5188ed",
   "metadata": {},
   "source": [
    "# DEG Euler diagrams of selected mixscape DEA results"
   ]
  },
  {
   "cell_type": "code",
   "execution_count": 6,
   "id": "0f8c0c9c",
   "metadata": {},
   "outputs": [],
   "source": [
    "selected_kos <- c('Ifnar1','Stat2','Irf9')"
   ]
  },
  {
   "cell_type": "code",
   "execution_count": 7,
   "id": "95ce4bd7",
   "metadata": {},
   "outputs": [],
   "source": [
    "conditions <- c('untreated', 'LO28-6h', 'LO28-24h')"
   ]
  },
  {
   "cell_type": "code",
   "execution_count": 8,
   "id": "c208d083",
   "metadata": {},
   "outputs": [],
   "source": [
    "dea_results <- list()\n",
    "\n",
    "for (cond in conditions){\n",
    "    cond_dea <- data.frame()\n",
    "    for (ko in selected_kos){\n",
    "        tmp_dea <- read.csv(file.path(data_path, 'DEA_condition_mixscape', paste0('KO150_DEA_RNA_',cond,'_',ko,'.csv')))\n",
    "        tmp_dea$ko <- ko\n",
    "        colnames(tmp_dea)[1] <- 'gene'\n",
    "        \n",
    "        if(dim(cond_dea)[1]==0){\n",
    "            cond_dea <- tmp_dea\n",
    "        }else{\n",
    "            cond_dea <- rbind(cond_dea, tmp_dea)\n",
    "        }\n",
    "    }\n",
    "    # filter for stat. sign.\n",
    "    cond_dea <- cond_dea[cond_dea$p_val_adj<0.05,]\n",
    "    # add group information\n",
    "    cond_dea$direction <- lapply(cond_dea$avg_log2FC, function(x) if(x>0)'up' else 'down')\n",
    "    cond_dea$group <- paste0(cond_dea$ko,'_',cond_dea$direction)\n",
    "    \n",
    "    dea_results[[cond]] <- cond_dea\n",
    "}"
   ]
  },
  {
   "cell_type": "code",
   "execution_count": 9,
   "id": "66febcdf",
   "metadata": {},
   "outputs": [],
   "source": [
    "dea_sets <- list()\n",
    "\n",
    "for (cond in conditions){\n",
    "    cond_sets <- data.frame(matrix(ncol = 0, nrow = length(unique(dea_results[[cond]]$gene))))\n",
    "    rownames(cond_sets) <- unique(dea_results[[cond]]$gene)\n",
    "    for (group in unique(dea_results[[cond]]$group)){\n",
    "        tmp_genes <- unique(dea_results[[cond]][grepl(group, dea_results[[cond]]$group, fixed = TRUE),'gene'])\n",
    "        cond_sets[tmp_genes, group] <- TRUE\n",
    "    }\n",
    "    cond_sets[is.na(cond_sets)] <- FALSE\n",
    "    \n",
    "    dea_sets[[cond]] <- cond_sets\n",
    "}"
   ]
  },
  {
   "cell_type": "code",
   "execution_count": 10,
   "id": "fd07ef64",
   "metadata": {},
   "outputs": [
    {
     "data": {
      "text/html": [
       "<table class=\"dataframe\">\n",
       "<caption>A data.frame: 6 × 6</caption>\n",
       "<thead>\n",
       "\t<tr><th></th><th scope=col>Ifnar1_down</th><th scope=col>Ifnar1_up</th><th scope=col>Stat2_down</th><th scope=col>Irf9_down</th><th scope=col>Irf9_up</th><th scope=col>Stat2_up</th></tr>\n",
       "\t<tr><th></th><th scope=col>&lt;lgl&gt;</th><th scope=col>&lt;lgl&gt;</th><th scope=col>&lt;lgl&gt;</th><th scope=col>&lt;lgl&gt;</th><th scope=col>&lt;lgl&gt;</th><th scope=col>&lt;lgl&gt;</th></tr>\n",
       "</thead>\n",
       "<tbody>\n",
       "\t<tr><th scope=row>Bst2</th><td>TRUE</td><td>FALSE</td><td>TRUE</td><td>TRUE</td><td>FALSE</td><td>FALSE</td></tr>\n",
       "\t<tr><th scope=row>Ifi27l2a</th><td>TRUE</td><td>FALSE</td><td>TRUE</td><td>TRUE</td><td>FALSE</td><td>FALSE</td></tr>\n",
       "\t<tr><th scope=row>Ly6e</th><td>TRUE</td><td>FALSE</td><td>TRUE</td><td>TRUE</td><td>FALSE</td><td>FALSE</td></tr>\n",
       "\t<tr><th scope=row>Irf7</th><td>TRUE</td><td>FALSE</td><td>TRUE</td><td>TRUE</td><td>FALSE</td><td>FALSE</td></tr>\n",
       "\t<tr><th scope=row>Ifitm3</th><td>TRUE</td><td>FALSE</td><td>TRUE</td><td>TRUE</td><td>FALSE</td><td>FALSE</td></tr>\n",
       "\t<tr><th scope=row>Isg15</th><td>TRUE</td><td>FALSE</td><td>TRUE</td><td>TRUE</td><td>FALSE</td><td>FALSE</td></tr>\n",
       "</tbody>\n",
       "</table>\n"
      ],
      "text/latex": [
       "A data.frame: 6 × 6\n",
       "\\begin{tabular}{r|llllll}\n",
       "  & Ifnar1\\_down & Ifnar1\\_up & Stat2\\_down & Irf9\\_down & Irf9\\_up & Stat2\\_up\\\\\n",
       "  & <lgl> & <lgl> & <lgl> & <lgl> & <lgl> & <lgl>\\\\\n",
       "\\hline\n",
       "\tBst2 & TRUE & FALSE & TRUE & TRUE & FALSE & FALSE\\\\\n",
       "\tIfi27l2a & TRUE & FALSE & TRUE & TRUE & FALSE & FALSE\\\\\n",
       "\tLy6e & TRUE & FALSE & TRUE & TRUE & FALSE & FALSE\\\\\n",
       "\tIrf7 & TRUE & FALSE & TRUE & TRUE & FALSE & FALSE\\\\\n",
       "\tIfitm3 & TRUE & FALSE & TRUE & TRUE & FALSE & FALSE\\\\\n",
       "\tIsg15 & TRUE & FALSE & TRUE & TRUE & FALSE & FALSE\\\\\n",
       "\\end{tabular}\n"
      ],
      "text/markdown": [
       "\n",
       "A data.frame: 6 × 6\n",
       "\n",
       "| <!--/--> | Ifnar1_down &lt;lgl&gt; | Ifnar1_up &lt;lgl&gt; | Stat2_down &lt;lgl&gt; | Irf9_down &lt;lgl&gt; | Irf9_up &lt;lgl&gt; | Stat2_up &lt;lgl&gt; |\n",
       "|---|---|---|---|---|---|---|\n",
       "| Bst2 | TRUE | FALSE | TRUE | TRUE | FALSE | FALSE |\n",
       "| Ifi27l2a | TRUE | FALSE | TRUE | TRUE | FALSE | FALSE |\n",
       "| Ly6e | TRUE | FALSE | TRUE | TRUE | FALSE | FALSE |\n",
       "| Irf7 | TRUE | FALSE | TRUE | TRUE | FALSE | FALSE |\n",
       "| Ifitm3 | TRUE | FALSE | TRUE | TRUE | FALSE | FALSE |\n",
       "| Isg15 | TRUE | FALSE | TRUE | TRUE | FALSE | FALSE |\n",
       "\n"
      ],
      "text/plain": [
       "         Ifnar1_down Ifnar1_up Stat2_down Irf9_down Irf9_up Stat2_up\n",
       "Bst2     TRUE        FALSE     TRUE       TRUE      FALSE   FALSE   \n",
       "Ifi27l2a TRUE        FALSE     TRUE       TRUE      FALSE   FALSE   \n",
       "Ly6e     TRUE        FALSE     TRUE       TRUE      FALSE   FALSE   \n",
       "Irf7     TRUE        FALSE     TRUE       TRUE      FALSE   FALSE   \n",
       "Ifitm3   TRUE        FALSE     TRUE       TRUE      FALSE   FALSE   \n",
       "Isg15    TRUE        FALSE     TRUE       TRUE      FALSE   FALSE   "
      ]
     },
     "metadata": {},
     "output_type": "display_data"
    }
   ],
   "source": [
    "# no stat. sign. up regulated genes -> add column manually\n",
    "dea_sets[['untreated']]$Stat2_up <- FALSE\n",
    "\n",
    "head(dea_sets[['untreated']])"
   ]
  },
  {
   "cell_type": "code",
   "execution_count": 11,
   "id": "a7453f5d",
   "metadata": {},
   "outputs": [],
   "source": [
    "# 'Ifnar1_down','Stat2_down','Irf9_down'\n",
    "for (cond in conditions){\n",
    "    svg(filename=file.path(results_path, paste0(\"DEG_\",cond,\"_euler_\",'Ifnar1_down','Stat2_down','Irf9_down',\".svg\")), width = 5, height = 5)\n",
    "\n",
    "    dea_fit <- euler(dea_sets[[cond]][c('Ifnar1_down','Stat2_down','Irf9_down')], shape = \"ellipse\")\n",
    "    print(plot(dea_fit, quantities = TRUE))\n",
    "\n",
    "    dev.off()\n",
    "}"
   ]
  },
  {
   "cell_type": "code",
   "execution_count": 12,
   "id": "c27269cd",
   "metadata": {},
   "outputs": [
    {
     "name": "stderr",
     "output_type": "stream",
     "text": [
      "Warning message in colSums(id & !empty) == 0 | merged_sets:\n",
      "“longer object length is not a multiple of shorter object length”\n"
     ]
    }
   ],
   "source": [
    "# 'Ifnar1_up','Stat2_up','Irf9_up'\n",
    "for (cond in conditions){\n",
    "    svg(filename=file.path(results_path, paste0(\"DEG_\",cond,\"_euler_\",'Ifnar1_up','Stat2_up','Irf9_up',\".svg\")), width = 5, height = 5)\n",
    "\n",
    "    dea_fit <- euler(dea_sets[[cond]][c('Ifnar1_up','Stat2_up','Irf9_up')], shape = \"ellipse\")\n",
    "    print(plot(dea_fit, quantities = TRUE))\n",
    "\n",
    "    dev.off()\n",
    "}"
   ]
  },
  {
   "cell_type": "code",
   "execution_count": 13,
   "id": "ef815345",
   "metadata": {},
   "outputs": [],
   "source": [
    "# save data frames\n",
    "for (cond in conditions){\n",
    "    write.csv(dea_sets[[cond]], file.path(results_path, paste0(\"DEG_\",cond,\"_euler_\",'Ifnar1_','Stat2_','Irf9',\".csv\")))\n",
    "}"
   ]
  },
  {
   "cell_type": "code",
   "execution_count": null,
   "id": "52a5129e",
   "metadata": {},
   "outputs": [],
   "source": []
  }
 ],
 "metadata": {
  "kernelspec": {
   "display_name": "R_plot",
   "language": "R",
   "name": "r_plot"
  },
  "language_info": {
   "codemirror_mode": "r",
   "file_extension": ".r",
   "mimetype": "text/x-r-source",
   "name": "R",
   "pygments_lexer": "r",
   "version": "4.0.5"
  }
 },
 "nbformat": 4,
 "nbformat_minor": 5
}
