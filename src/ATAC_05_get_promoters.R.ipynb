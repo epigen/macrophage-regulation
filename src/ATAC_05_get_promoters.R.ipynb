{
 "cells": [
  {
   "cell_type": "markdown",
   "id": "c0963981",
   "metadata": {},
   "source": [
    "# ATAC-seq - Get promoter regions for integrative analysis of promoter-gene pairs\n",
    "- goal: corresponding promoter regions from RNA features\n",
    "- input: RNA genomic metadata\n",
    "- output: promoter regions for accesibility quantification"
   ]
  },
  {
   "cell_type": "code",
   "execution_count": 1,
   "id": "26f699b7",
   "metadata": {
    "tags": []
   },
   "outputs": [
    {
     "data": {
      "text/html": [
       "'/home/sreichl/projects/bmdm-stim/src'"
      ],
      "text/latex": [
       "'/home/sreichl/projects/bmdm-stim/src'"
      ],
      "text/markdown": [
       "'/home/sreichl/projects/bmdm-stim/src'"
      ],
      "text/plain": [
       "[1] \"/home/sreichl/projects/bmdm-stim/src\""
      ]
     },
     "metadata": {},
     "output_type": "display_data"
    },
    {
     "data": {
      "text/html": [
       "'/home/sreichl/projects/bmdm-stim'"
      ],
      "text/latex": [
       "'/home/sreichl/projects/bmdm-stim'"
      ],
      "text/markdown": [
       "'/home/sreichl/projects/bmdm-stim'"
      ],
      "text/plain": [
       "[1] \"/home/sreichl/projects/bmdm-stim\""
      ]
     },
     "metadata": {},
     "output_type": "display_data"
    }
   ],
   "source": [
    "# set correct working directory -> project folder\n",
    "getwd()\n",
    "setwd('..')\n",
    "getwd()"
   ]
  },
  {
   "cell_type": "code",
   "execution_count": 2,
   "id": "3dc4bfb4",
   "metadata": {
    "collapsed": true,
    "jupyter": {
     "outputs_hidden": true
    },
    "tags": []
   },
   "outputs": [
    {
     "name": "stderr",
     "output_type": "stream",
     "text": [
      "Loading required package: GenomeInfoDb\n",
      "\n",
      "Loading required package: BiocGenerics\n",
      "\n",
      "Loading required package: parallel\n",
      "\n",
      "\n",
      "Attaching package: ‘BiocGenerics’\n",
      "\n",
      "\n",
      "The following objects are masked from ‘package:parallel’:\n",
      "\n",
      "    clusterApply, clusterApplyLB, clusterCall, clusterEvalQ,\n",
      "    clusterExport, clusterMap, parApply, parCapply, parLapply,\n",
      "    parLapplyLB, parRapply, parSapply, parSapplyLB\n",
      "\n",
      "\n",
      "The following objects are masked from ‘package:stats’:\n",
      "\n",
      "    IQR, mad, sd, var, xtabs\n",
      "\n",
      "\n",
      "The following objects are masked from ‘package:base’:\n",
      "\n",
      "    anyDuplicated, append, as.data.frame, basename, cbind, colnames,\n",
      "    dirname, do.call, duplicated, eval, evalq, Filter, Find, get, grep,\n",
      "    grepl, intersect, is.unsorted, lapply, Map, mapply, match, mget,\n",
      "    order, paste, pmax, pmax.int, pmin, pmin.int, Position, rank,\n",
      "    rbind, Reduce, rownames, sapply, setdiff, sort, table, tapply,\n",
      "    union, unique, unsplit, which.max, which.min\n",
      "\n",
      "\n",
      "Loading required package: S4Vectors\n",
      "\n",
      "Loading required package: stats4\n",
      "\n",
      "\n",
      "Attaching package: ‘S4Vectors’\n",
      "\n",
      "\n",
      "The following object is masked from ‘package:base’:\n",
      "\n",
      "    expand.grid\n",
      "\n",
      "\n",
      "Loading required package: IRanges\n",
      "\n",
      "Loading required package: GenomicRanges\n",
      "\n",
      "Loading required package: Biostrings\n",
      "\n",
      "Loading required package: XVector\n",
      "\n",
      "\n",
      "Attaching package: ‘Biostrings’\n",
      "\n",
      "\n",
      "The following object is masked from ‘package:base’:\n",
      "\n",
      "    strsplit\n",
      "\n",
      "\n",
      "Loading required package: SummarizedExperiment\n",
      "\n",
      "Loading required package: MatrixGenerics\n",
      "\n",
      "Loading required package: matrixStats\n",
      "\n",
      "\n",
      "Attaching package: ‘MatrixGenerics’\n",
      "\n",
      "\n",
      "The following objects are masked from ‘package:matrixStats’:\n",
      "\n",
      "    colAlls, colAnyNAs, colAnys, colAvgsPerRowSet, colCollapse,\n",
      "    colCounts, colCummaxs, colCummins, colCumprods, colCumsums,\n",
      "    colDiffs, colIQRDiffs, colIQRs, colLogSumExps, colMadDiffs,\n",
      "    colMads, colMaxs, colMeans2, colMedians, colMins, colOrderStats,\n",
      "    colProds, colQuantiles, colRanges, colRanks, colSdDiffs, colSds,\n",
      "    colSums2, colTabulates, colVarDiffs, colVars, colWeightedMads,\n",
      "    colWeightedMeans, colWeightedMedians, colWeightedSds,\n",
      "    colWeightedVars, rowAlls, rowAnyNAs, rowAnys, rowAvgsPerColSet,\n",
      "    rowCollapse, rowCounts, rowCummaxs, rowCummins, rowCumprods,\n",
      "    rowCumsums, rowDiffs, rowIQRDiffs, rowIQRs, rowLogSumExps,\n",
      "    rowMadDiffs, rowMads, rowMaxs, rowMeans2, rowMedians, rowMins,\n",
      "    rowOrderStats, rowProds, rowQuantiles, rowRanges, rowRanks,\n",
      "    rowSdDiffs, rowSds, rowSums2, rowTabulates, rowVarDiffs, rowVars,\n",
      "    rowWeightedMads, rowWeightedMeans, rowWeightedMedians,\n",
      "    rowWeightedSds, rowWeightedVars\n",
      "\n",
      "\n",
      "Loading required package: Biobase\n",
      "\n",
      "Welcome to Bioconductor\n",
      "\n",
      "    Vignettes contain introductory material; view with\n",
      "    'browseVignettes()'. To cite Bioconductor, see\n",
      "    'citation(\"Biobase\")', and for packages 'citation(\"pkgname\")'.\n",
      "\n",
      "\n",
      "\n",
      "Attaching package: ‘Biobase’\n",
      "\n",
      "\n",
      "The following object is masked from ‘package:MatrixGenerics’:\n",
      "\n",
      "    rowMedians\n",
      "\n",
      "\n",
      "The following objects are masked from ‘package:matrixStats’:\n",
      "\n",
      "    anyMissing, rowMedians\n",
      "\n",
      "\n",
      "\n",
      "Attaching package: ‘glue’\n",
      "\n",
      "\n",
      "The following object is masked from ‘package:SummarizedExperiment’:\n",
      "\n",
      "    trim\n",
      "\n",
      "\n",
      "The following object is masked from ‘package:Biostrings’:\n",
      "\n",
      "    collapse\n",
      "\n",
      "\n",
      "The following object is masked from ‘package:GenomicRanges’:\n",
      "\n",
      "    trim\n",
      "\n",
      "\n",
      "The following objects are masked from ‘package:IRanges’:\n",
      "\n",
      "    collapse, trim\n",
      "\n",
      "\n"
     ]
    }
   ],
   "source": [
    "# load libraries\n",
    "library(Rsamtools)\n",
    "library(GenomicAlignments)\n",
    "library(GenomicRanges)\n",
    "library(glue)\n",
    "library(rtracklayer)"
   ]
  },
  {
   "cell_type": "code",
   "execution_count": 3,
   "id": "a4158ed5",
   "metadata": {},
   "outputs": [],
   "source": [
    "# configs\n",
    "data_path <- file.path('results','ATAC','all')\n",
    "gtf_path <- file.path(\"resources/RNA/genome.gtf\")"
   ]
  },
  {
   "cell_type": "markdown",
   "id": "db4450b7",
   "metadata": {},
   "source": [
    "## load data"
   ]
  },
  {
   "cell_type": "code",
   "execution_count": 4,
   "id": "18513630",
   "metadata": {
    "tags": []
   },
   "outputs": [
    {
     "data": {
      "text/plain": [
       "GRanges object with 6 ranges and 26 metadata columns:\n",
       "      seqnames          ranges strand |   source       type     score     phase\n",
       "         <Rle>       <IRanges>  <Rle> | <factor>   <factor> <numeric> <integer>\n",
       "  [1]        1 3073253-3074322      + |  havana  gene              NA      <NA>\n",
       "  [2]        1 3073253-3074322      + |  havana  transcript        NA      <NA>\n",
       "  [3]        1 3073253-3074322      + |  havana  exon              NA      <NA>\n",
       "  [4]        1 3102016-3102125      + |  ensembl gene              NA      <NA>\n",
       "  [5]        1 3102016-3102125      + |  ensembl transcript        NA      <NA>\n",
       "  [6]        1 3102016-3102125      + |  ensembl exon              NA      <NA>\n",
       "                 gene_id gene_version     gene_name gene_source gene_biotype\n",
       "             <character>  <character>   <character> <character>  <character>\n",
       "  [1] ENSMUSG00000102693            1 4933401J01Rik      havana          TEC\n",
       "  [2] ENSMUSG00000102693            1 4933401J01Rik      havana          TEC\n",
       "  [3] ENSMUSG00000102693            1 4933401J01Rik      havana          TEC\n",
       "  [4] ENSMUSG00000064842            1       Gm26206     ensembl        snRNA\n",
       "  [5] ENSMUSG00000064842            1       Gm26206     ensembl        snRNA\n",
       "  [6] ENSMUSG00000064842            1       Gm26206     ensembl        snRNA\n",
       "             havana_gene havana_gene_version      transcript_id\n",
       "             <character>         <character>        <character>\n",
       "  [1] OTTMUSG00000049935                   1               <NA>\n",
       "  [2] OTTMUSG00000049935                   1 ENSMUST00000193812\n",
       "  [3] OTTMUSG00000049935                   1 ENSMUST00000193812\n",
       "  [4]               <NA>                <NA>               <NA>\n",
       "  [5]               <NA>                <NA> ENSMUST00000082908\n",
       "  [6]               <NA>                <NA> ENSMUST00000082908\n",
       "      transcript_version   transcript_name transcript_source transcript_biotype\n",
       "             <character>       <character>       <character>        <character>\n",
       "  [1]               <NA>              <NA>              <NA>               <NA>\n",
       "  [2]                  1 4933401J01Rik-201            havana                TEC\n",
       "  [3]                  1 4933401J01Rik-201            havana                TEC\n",
       "  [4]               <NA>              <NA>              <NA>               <NA>\n",
       "  [5]                  1       Gm26206-201           ensembl              snRNA\n",
       "  [6]                  1       Gm26206-201           ensembl              snRNA\n",
       "       havana_transcript havana_transcript_version         tag\n",
       "             <character>               <character> <character>\n",
       "  [1]               <NA>                      <NA>        <NA>\n",
       "  [2] OTTMUST00000127109                         1       basic\n",
       "  [3] OTTMUST00000127109                         1       basic\n",
       "  [4]               <NA>                      <NA>        <NA>\n",
       "  [5]               <NA>                      <NA>       basic\n",
       "  [6]               <NA>                      <NA>       basic\n",
       "      transcript_support_level exon_number            exon_id exon_version\n",
       "                   <character> <character>        <character>  <character>\n",
       "  [1]                     <NA>        <NA>               <NA>         <NA>\n",
       "  [2]                       NA        <NA>               <NA>         <NA>\n",
       "  [3]                       NA           1 ENSMUSE00001343744            1\n",
       "  [4]                     <NA>        <NA>               <NA>         <NA>\n",
       "  [5]                       NA        <NA>               <NA>         <NA>\n",
       "  [6]                       NA           1 ENSMUSE00000522066            1\n",
       "          ccds_id  protein_id protein_version\n",
       "      <character> <character>     <character>\n",
       "  [1]        <NA>        <NA>            <NA>\n",
       "  [2]        <NA>        <NA>            <NA>\n",
       "  [3]        <NA>        <NA>            <NA>\n",
       "  [4]        <NA>        <NA>            <NA>\n",
       "  [5]        <NA>        <NA>            <NA>\n",
       "  [6]        <NA>        <NA>            <NA>\n",
       "  -------\n",
       "  seqinfo: 45 sequences from an unspecified genome; no seqlengths"
      ]
     },
     "metadata": {},
     "output_type": "display_data"
    }
   ],
   "source": [
    "# load RNA genome annotation\n",
    "RNA_gtf <- rtracklayer::import(gtf_path)\n",
    "RNA_gtf_df <- as.data.frame(RNA_gtf)\n",
    "head(RNA_gtf)"
   ]
  },
  {
   "cell_type": "code",
   "execution_count": 6,
   "id": "7ca02557",
   "metadata": {},
   "outputs": [
    {
     "data": {
      "text/plain": [
       "GRanges object with 6 ranges and 26 metadata columns:\n",
       "                     seqnames          ranges strand |         source     type\n",
       "                        <Rle>       <IRanges>  <Rle> |       <factor> <factor>\n",
       "  ENSMUSG00000102693        1 3073253-3074322      + | havana             gene\n",
       "  ENSMUSG00000064842        1 3102016-3102125      + | ensembl            gene\n",
       "  ENSMUSG00000051951        1 3205901-3671498      - | ensembl_havana     gene\n",
       "  ENSMUSG00000102851        1 3252757-3253236      + | havana             gene\n",
       "  ENSMUSG00000103377        1 3365731-3368549      - | havana             gene\n",
       "  ENSMUSG00000104017        1 3375556-3377788      - | havana             gene\n",
       "                         score     phase            gene_id gene_version\n",
       "                     <numeric> <integer>        <character>  <character>\n",
       "  ENSMUSG00000102693        NA      <NA> ENSMUSG00000102693            1\n",
       "  ENSMUSG00000064842        NA      <NA> ENSMUSG00000064842            1\n",
       "  ENSMUSG00000051951        NA      <NA> ENSMUSG00000051951            5\n",
       "  ENSMUSG00000102851        NA      <NA> ENSMUSG00000102851            1\n",
       "  ENSMUSG00000103377        NA      <NA> ENSMUSG00000103377            1\n",
       "  ENSMUSG00000104017        NA      <NA> ENSMUSG00000104017            1\n",
       "                         gene_name    gene_source         gene_biotype\n",
       "                       <character>    <character>          <character>\n",
       "  ENSMUSG00000102693 4933401J01Rik         havana                  TEC\n",
       "  ENSMUSG00000064842       Gm26206        ensembl                snRNA\n",
       "  ENSMUSG00000051951          Xkr4 ensembl_havana       protein_coding\n",
       "  ENSMUSG00000102851       Gm18956         havana processed_pseudogene\n",
       "  ENSMUSG00000103377       Gm37180         havana                  TEC\n",
       "  ENSMUSG00000104017       Gm37363         havana                  TEC\n",
       "                            havana_gene havana_gene_version transcript_id\n",
       "                            <character>         <character>   <character>\n",
       "  ENSMUSG00000102693 OTTMUSG00000049935                   1          <NA>\n",
       "  ENSMUSG00000064842               <NA>                <NA>          <NA>\n",
       "  ENSMUSG00000051951 OTTMUSG00000026353                   2          <NA>\n",
       "  ENSMUSG00000102851 OTTMUSG00000049958                   1          <NA>\n",
       "  ENSMUSG00000103377 OTTMUSG00000049960                   1          <NA>\n",
       "  ENSMUSG00000104017 OTTMUSG00000049961                   1          <NA>\n",
       "                     transcript_version transcript_name transcript_source\n",
       "                            <character>     <character>       <character>\n",
       "  ENSMUSG00000102693               <NA>            <NA>              <NA>\n",
       "  ENSMUSG00000064842               <NA>            <NA>              <NA>\n",
       "  ENSMUSG00000051951               <NA>            <NA>              <NA>\n",
       "  ENSMUSG00000102851               <NA>            <NA>              <NA>\n",
       "  ENSMUSG00000103377               <NA>            <NA>              <NA>\n",
       "  ENSMUSG00000104017               <NA>            <NA>              <NA>\n",
       "                     transcript_biotype havana_transcript\n",
       "                            <character>       <character>\n",
       "  ENSMUSG00000102693               <NA>              <NA>\n",
       "  ENSMUSG00000064842               <NA>              <NA>\n",
       "  ENSMUSG00000051951               <NA>              <NA>\n",
       "  ENSMUSG00000102851               <NA>              <NA>\n",
       "  ENSMUSG00000103377               <NA>              <NA>\n",
       "  ENSMUSG00000104017               <NA>              <NA>\n",
       "                     havana_transcript_version         tag\n",
       "                                   <character> <character>\n",
       "  ENSMUSG00000102693                      <NA>        <NA>\n",
       "  ENSMUSG00000064842                      <NA>        <NA>\n",
       "  ENSMUSG00000051951                      <NA>        <NA>\n",
       "  ENSMUSG00000102851                      <NA>        <NA>\n",
       "  ENSMUSG00000103377                      <NA>        <NA>\n",
       "  ENSMUSG00000104017                      <NA>        <NA>\n",
       "                     transcript_support_level exon_number     exon_id\n",
       "                                  <character> <character> <character>\n",
       "  ENSMUSG00000102693                     <NA>        <NA>        <NA>\n",
       "  ENSMUSG00000064842                     <NA>        <NA>        <NA>\n",
       "  ENSMUSG00000051951                     <NA>        <NA>        <NA>\n",
       "  ENSMUSG00000102851                     <NA>        <NA>        <NA>\n",
       "  ENSMUSG00000103377                     <NA>        <NA>        <NA>\n",
       "  ENSMUSG00000104017                     <NA>        <NA>        <NA>\n",
       "                     exon_version     ccds_id  protein_id protein_version\n",
       "                      <character> <character> <character>     <character>\n",
       "  ENSMUSG00000102693         <NA>        <NA>        <NA>            <NA>\n",
       "  ENSMUSG00000064842         <NA>        <NA>        <NA>            <NA>\n",
       "  ENSMUSG00000051951         <NA>        <NA>        <NA>            <NA>\n",
       "  ENSMUSG00000102851         <NA>        <NA>        <NA>            <NA>\n",
       "  ENSMUSG00000103377         <NA>        <NA>        <NA>            <NA>\n",
       "  ENSMUSG00000104017         <NA>        <NA>        <NA>            <NA>\n",
       "  -------\n",
       "  seqinfo: 45 sequences from an unspecified genome; no seqlengths"
      ]
     },
     "metadata": {},
     "output_type": "display_data"
    }
   ],
   "source": [
    "# filter for genes\n",
    "RNA_gtf_genes <- (RNA_gtf[elementMetadata(RNA_gtf)[,'type']=='gene'])\n",
    "names(RNA_gtf_genes) <- RNA_gtf_genes$gene_id\n",
    "head(RNA_gtf_genes)"
   ]
  },
  {
   "cell_type": "markdown",
   "id": "7a191d89",
   "metadata": {},
   "source": [
    "## export whole genome regions as .bed file"
   ]
  },
  {
   "cell_type": "code",
   "execution_count": 7,
   "id": "e1738d39",
   "metadata": {},
   "outputs": [],
   "source": [
    "genome_df <- data.frame(seqnames=paste0('chr',seqnames(RNA_gtf_genes)),\n",
    "  starts=start(RNA_gtf_genes)-1,\n",
    "  ends=end(RNA_gtf_genes),\n",
    "  names=RNA_gtf_genes$gene_id,\n",
    "  scores=c(rep(\".\", length(RNA_gtf_genes))),\n",
    "  strands=strand(RNA_gtf_genes))\n",
    "\n",
    "# rename mitochondrial chromosome to fit chromsize file \n",
    "genome_df[genome_df$seqnames=='chrMT', 'seqnames'] <- 'chrM'\n",
    "\n",
    "write.table(genome_df, file=file.path(data_path,\"mm10_regions.bed\"), quote=F, sep=\"\\t\", row.names=F, col.names=F)"
   ]
  },
  {
   "cell_type": "code",
   "execution_count": 9,
   "id": "756bff6d",
   "metadata": {},
   "outputs": [
    {
     "data": {
      "text/html": [
       "<style>\n",
       ".list-inline {list-style: none; margin:0; padding: 0}\n",
       ".list-inline>li {display: inline-block}\n",
       ".list-inline>li:not(:last-child)::after {content: \"\\00b7\"; padding: 0 .5ex}\n",
       "</style>\n",
       "<ol class=list-inline><li>55487</li><li>6</li></ol>\n"
      ],
      "text/latex": [
       "\\begin{enumerate*}\n",
       "\\item 55487\n",
       "\\item 6\n",
       "\\end{enumerate*}\n"
      ],
      "text/markdown": [
       "1. 55487\n",
       "2. 6\n",
       "\n",
       "\n"
      ],
      "text/plain": [
       "[1] 55487     6"
      ]
     },
     "metadata": {},
     "output_type": "display_data"
    },
    {
     "data": {
      "text/html": [
       "<table class=\"dataframe\">\n",
       "<caption>A data.frame: 6 × 6</caption>\n",
       "<thead>\n",
       "\t<tr><th></th><th scope=col>seqnames</th><th scope=col>starts</th><th scope=col>ends</th><th scope=col>names</th><th scope=col>scores</th><th scope=col>strands</th></tr>\n",
       "\t<tr><th></th><th scope=col>&lt;chr&gt;</th><th scope=col>&lt;dbl&gt;</th><th scope=col>&lt;int&gt;</th><th scope=col>&lt;chr&gt;</th><th scope=col>&lt;chr&gt;</th><th scope=col>&lt;fct&gt;</th></tr>\n",
       "</thead>\n",
       "<tbody>\n",
       "\t<tr><th scope=row>1</th><td>chr1</td><td>3073252</td><td>3074322</td><td>ENSMUSG00000102693</td><td>.</td><td>+</td></tr>\n",
       "\t<tr><th scope=row>2</th><td>chr1</td><td>3102015</td><td>3102125</td><td>ENSMUSG00000064842</td><td>.</td><td>+</td></tr>\n",
       "\t<tr><th scope=row>3</th><td>chr1</td><td>3205900</td><td>3671498</td><td>ENSMUSG00000051951</td><td>.</td><td>-</td></tr>\n",
       "\t<tr><th scope=row>4</th><td>chr1</td><td>3252756</td><td>3253236</td><td>ENSMUSG00000102851</td><td>.</td><td>+</td></tr>\n",
       "\t<tr><th scope=row>5</th><td>chr1</td><td>3365730</td><td>3368549</td><td>ENSMUSG00000103377</td><td>.</td><td>-</td></tr>\n",
       "\t<tr><th scope=row>6</th><td>chr1</td><td>3375555</td><td>3377788</td><td>ENSMUSG00000104017</td><td>.</td><td>-</td></tr>\n",
       "</tbody>\n",
       "</table>\n"
      ],
      "text/latex": [
       "A data.frame: 6 × 6\n",
       "\\begin{tabular}{r|llllll}\n",
       "  & seqnames & starts & ends & names & scores & strands\\\\\n",
       "  & <chr> & <dbl> & <int> & <chr> & <chr> & <fct>\\\\\n",
       "\\hline\n",
       "\t1 & chr1 & 3073252 & 3074322 & ENSMUSG00000102693 & . & +\\\\\n",
       "\t2 & chr1 & 3102015 & 3102125 & ENSMUSG00000064842 & . & +\\\\\n",
       "\t3 & chr1 & 3205900 & 3671498 & ENSMUSG00000051951 & . & -\\\\\n",
       "\t4 & chr1 & 3252756 & 3253236 & ENSMUSG00000102851 & . & +\\\\\n",
       "\t5 & chr1 & 3365730 & 3368549 & ENSMUSG00000103377 & . & -\\\\\n",
       "\t6 & chr1 & 3375555 & 3377788 & ENSMUSG00000104017 & . & -\\\\\n",
       "\\end{tabular}\n"
      ],
      "text/markdown": [
       "\n",
       "A data.frame: 6 × 6\n",
       "\n",
       "| <!--/--> | seqnames &lt;chr&gt; | starts &lt;dbl&gt; | ends &lt;int&gt; | names &lt;chr&gt; | scores &lt;chr&gt; | strands &lt;fct&gt; |\n",
       "|---|---|---|---|---|---|---|\n",
       "| 1 | chr1 | 3073252 | 3074322 | ENSMUSG00000102693 | . | + |\n",
       "| 2 | chr1 | 3102015 | 3102125 | ENSMUSG00000064842 | . | + |\n",
       "| 3 | chr1 | 3205900 | 3671498 | ENSMUSG00000051951 | . | - |\n",
       "| 4 | chr1 | 3252756 | 3253236 | ENSMUSG00000102851 | . | + |\n",
       "| 5 | chr1 | 3365730 | 3368549 | ENSMUSG00000103377 | . | - |\n",
       "| 6 | chr1 | 3375555 | 3377788 | ENSMUSG00000104017 | . | - |\n",
       "\n"
      ],
      "text/plain": [
       "  seqnames starts  ends    names              scores strands\n",
       "1 chr1     3073252 3074322 ENSMUSG00000102693 .      +      \n",
       "2 chr1     3102015 3102125 ENSMUSG00000064842 .      +      \n",
       "3 chr1     3205900 3671498 ENSMUSG00000051951 .      -      \n",
       "4 chr1     3252756 3253236 ENSMUSG00000102851 .      +      \n",
       "5 chr1     3365730 3368549 ENSMUSG00000103377 .      -      \n",
       "6 chr1     3375555 3377788 ENSMUSG00000104017 .      -      "
      ]
     },
     "metadata": {},
     "output_type": "display_data"
    }
   ],
   "source": [
    "dim(genome_df)\n",
    "head(genome_df)"
   ]
  },
  {
   "cell_type": "markdown",
   "id": "f2f6729b",
   "metadata": {},
   "source": [
    "## get promoter regions"
   ]
  },
  {
   "cell_type": "code",
   "execution_count": 8,
   "id": "97d9de0f",
   "metadata": {
    "collapsed": true,
    "jupyter": {
     "outputs_hidden": true
    },
    "tags": []
   },
   "outputs": [
    {
     "data": {
      "text/plain": [
       "GRanges object with 6 ranges and 26 metadata columns:\n",
       "                     seqnames          ranges strand |         source     type\n",
       "                        <Rle>       <IRanges>  <Rle> |       <factor> <factor>\n",
       "  ENSMUSG00000102693        1 3071253-3073452      + | havana             gene\n",
       "  ENSMUSG00000064842        1 3100016-3102215      + | ensembl            gene\n",
       "  ENSMUSG00000051951        1 3671299-3673498      - | ensembl_havana     gene\n",
       "  ENSMUSG00000102851        1 3250757-3252956      + | havana             gene\n",
       "  ENSMUSG00000103377        1 3368350-3370549      - | havana             gene\n",
       "  ENSMUSG00000104017        1 3377589-3379788      - | havana             gene\n",
       "                         score     phase            gene_id gene_version\n",
       "                     <numeric> <integer>        <character>  <character>\n",
       "  ENSMUSG00000102693        NA      <NA> ENSMUSG00000102693            1\n",
       "  ENSMUSG00000064842        NA      <NA> ENSMUSG00000064842            1\n",
       "  ENSMUSG00000051951        NA      <NA> ENSMUSG00000051951            5\n",
       "  ENSMUSG00000102851        NA      <NA> ENSMUSG00000102851            1\n",
       "  ENSMUSG00000103377        NA      <NA> ENSMUSG00000103377            1\n",
       "  ENSMUSG00000104017        NA      <NA> ENSMUSG00000104017            1\n",
       "                         gene_name    gene_source         gene_biotype\n",
       "                       <character>    <character>          <character>\n",
       "  ENSMUSG00000102693 4933401J01Rik         havana                  TEC\n",
       "  ENSMUSG00000064842       Gm26206        ensembl                snRNA\n",
       "  ENSMUSG00000051951          Xkr4 ensembl_havana       protein_coding\n",
       "  ENSMUSG00000102851       Gm18956         havana processed_pseudogene\n",
       "  ENSMUSG00000103377       Gm37180         havana                  TEC\n",
       "  ENSMUSG00000104017       Gm37363         havana                  TEC\n",
       "                            havana_gene havana_gene_version transcript_id\n",
       "                            <character>         <character>   <character>\n",
       "  ENSMUSG00000102693 OTTMUSG00000049935                   1          <NA>\n",
       "  ENSMUSG00000064842               <NA>                <NA>          <NA>\n",
       "  ENSMUSG00000051951 OTTMUSG00000026353                   2          <NA>\n",
       "  ENSMUSG00000102851 OTTMUSG00000049958                   1          <NA>\n",
       "  ENSMUSG00000103377 OTTMUSG00000049960                   1          <NA>\n",
       "  ENSMUSG00000104017 OTTMUSG00000049961                   1          <NA>\n",
       "                     transcript_version transcript_name transcript_source\n",
       "                            <character>     <character>       <character>\n",
       "  ENSMUSG00000102693               <NA>            <NA>              <NA>\n",
       "  ENSMUSG00000064842               <NA>            <NA>              <NA>\n",
       "  ENSMUSG00000051951               <NA>            <NA>              <NA>\n",
       "  ENSMUSG00000102851               <NA>            <NA>              <NA>\n",
       "  ENSMUSG00000103377               <NA>            <NA>              <NA>\n",
       "  ENSMUSG00000104017               <NA>            <NA>              <NA>\n",
       "                     transcript_biotype havana_transcript\n",
       "                            <character>       <character>\n",
       "  ENSMUSG00000102693               <NA>              <NA>\n",
       "  ENSMUSG00000064842               <NA>              <NA>\n",
       "  ENSMUSG00000051951               <NA>              <NA>\n",
       "  ENSMUSG00000102851               <NA>              <NA>\n",
       "  ENSMUSG00000103377               <NA>              <NA>\n",
       "  ENSMUSG00000104017               <NA>              <NA>\n",
       "                     havana_transcript_version         tag\n",
       "                                   <character> <character>\n",
       "  ENSMUSG00000102693                      <NA>        <NA>\n",
       "  ENSMUSG00000064842                      <NA>        <NA>\n",
       "  ENSMUSG00000051951                      <NA>        <NA>\n",
       "  ENSMUSG00000102851                      <NA>        <NA>\n",
       "  ENSMUSG00000103377                      <NA>        <NA>\n",
       "  ENSMUSG00000104017                      <NA>        <NA>\n",
       "                     transcript_support_level exon_number     exon_id\n",
       "                                  <character> <character> <character>\n",
       "  ENSMUSG00000102693                     <NA>        <NA>        <NA>\n",
       "  ENSMUSG00000064842                     <NA>        <NA>        <NA>\n",
       "  ENSMUSG00000051951                     <NA>        <NA>        <NA>\n",
       "  ENSMUSG00000102851                     <NA>        <NA>        <NA>\n",
       "  ENSMUSG00000103377                     <NA>        <NA>        <NA>\n",
       "  ENSMUSG00000104017                     <NA>        <NA>        <NA>\n",
       "                     exon_version     ccds_id  protein_id protein_version\n",
       "                      <character> <character> <character>     <character>\n",
       "  ENSMUSG00000102693         <NA>        <NA>        <NA>            <NA>\n",
       "  ENSMUSG00000064842         <NA>        <NA>        <NA>            <NA>\n",
       "  ENSMUSG00000051951         <NA>        <NA>        <NA>            <NA>\n",
       "  ENSMUSG00000102851         <NA>        <NA>        <NA>            <NA>\n",
       "  ENSMUSG00000103377         <NA>        <NA>        <NA>            <NA>\n",
       "  ENSMUSG00000104017         <NA>        <NA>        <NA>            <NA>\n",
       "  -------\n",
       "  seqinfo: 45 sequences from an unspecified genome; no seqlengths"
      ]
     },
     "metadata": {},
     "output_type": "display_data"
    }
   ],
   "source": [
    "# get promotor regions by default 2000bp upstream and 200bp downstream of TSS\n",
    "RNA_promoters <- promoters(RNA_gtf_genes)\n",
    "head(RNA_promoters)"
   ]
  },
  {
   "cell_type": "markdown",
   "id": "66221f17",
   "metadata": {},
   "source": [
    "## export promoter regions as .bed file"
   ]
  },
  {
   "cell_type": "code",
   "execution_count": 28,
   "id": "e9839ef6",
   "metadata": {},
   "outputs": [],
   "source": [
    "promoter_df <- data.frame(seqnames=paste0('chr',seqnames(RNA_promoters)),\n",
    "  starts=start(RNA_promoters)-1,\n",
    "  ends=end(RNA_promoters),\n",
    "  names=RNA_promoters$gene_id,\n",
    "  scores=c(rep(\".\", length(RNA_promoters))),\n",
    "  strands=strand(RNA_promoters))\n",
    "\n",
    "# gene at the start of a chromosome can have negative start coordinates\n",
    "promoter_df[promoter_df$starts<0, 'starts'] <- 0\n",
    "\n",
    "# rename mitochondrial chromosome to fit chromsize file \n",
    "promoter_df[promoter_df$seqnames=='chrMT', 'seqnames'] <- 'chrM'\n",
    "\n",
    "write.table(promoter_df, file=file.path(data_path,\"promoter_regions.bed\"), quote=F, sep=\"\\t\", row.names=F, col.names=F)"
   ]
  },
  {
   "cell_type": "code",
   "execution_count": 29,
   "id": "8a15f9c8",
   "metadata": {},
   "outputs": [
    {
     "data": {
      "text/html": [
       "<table class=\"dataframe\">\n",
       "<caption>A data.frame: 6 × 6</caption>\n",
       "<thead>\n",
       "\t<tr><th></th><th scope=col>seqnames</th><th scope=col>starts</th><th scope=col>ends</th><th scope=col>names</th><th scope=col>scores</th><th scope=col>strands</th></tr>\n",
       "\t<tr><th></th><th scope=col>&lt;chr&gt;</th><th scope=col>&lt;dbl&gt;</th><th scope=col>&lt;int&gt;</th><th scope=col>&lt;chr&gt;</th><th scope=col>&lt;chr&gt;</th><th scope=col>&lt;fct&gt;</th></tr>\n",
       "</thead>\n",
       "<tbody>\n",
       "\t<tr><th scope=row>1</th><td>chr1</td><td>3071252</td><td>3073452</td><td>ENSMUSG00000102693</td><td>.</td><td>+</td></tr>\n",
       "\t<tr><th scope=row>2</th><td>chr1</td><td>3100015</td><td>3102215</td><td>ENSMUSG00000064842</td><td>.</td><td>+</td></tr>\n",
       "\t<tr><th scope=row>3</th><td>chr1</td><td>3671298</td><td>3673498</td><td>ENSMUSG00000051951</td><td>.</td><td>-</td></tr>\n",
       "\t<tr><th scope=row>4</th><td>chr1</td><td>3250756</td><td>3252956</td><td>ENSMUSG00000102851</td><td>.</td><td>+</td></tr>\n",
       "\t<tr><th scope=row>5</th><td>chr1</td><td>3368349</td><td>3370549</td><td>ENSMUSG00000103377</td><td>.</td><td>-</td></tr>\n",
       "\t<tr><th scope=row>6</th><td>chr1</td><td>3377588</td><td>3379788</td><td>ENSMUSG00000104017</td><td>.</td><td>-</td></tr>\n",
       "</tbody>\n",
       "</table>\n"
      ],
      "text/latex": [
       "A data.frame: 6 × 6\n",
       "\\begin{tabular}{r|llllll}\n",
       "  & seqnames & starts & ends & names & scores & strands\\\\\n",
       "  & <chr> & <dbl> & <int> & <chr> & <chr> & <fct>\\\\\n",
       "\\hline\n",
       "\t1 & chr1 & 3071252 & 3073452 & ENSMUSG00000102693 & . & +\\\\\n",
       "\t2 & chr1 & 3100015 & 3102215 & ENSMUSG00000064842 & . & +\\\\\n",
       "\t3 & chr1 & 3671298 & 3673498 & ENSMUSG00000051951 & . & -\\\\\n",
       "\t4 & chr1 & 3250756 & 3252956 & ENSMUSG00000102851 & . & +\\\\\n",
       "\t5 & chr1 & 3368349 & 3370549 & ENSMUSG00000103377 & . & -\\\\\n",
       "\t6 & chr1 & 3377588 & 3379788 & ENSMUSG00000104017 & . & -\\\\\n",
       "\\end{tabular}\n"
      ],
      "text/markdown": [
       "\n",
       "A data.frame: 6 × 6\n",
       "\n",
       "| <!--/--> | seqnames &lt;chr&gt; | starts &lt;dbl&gt; | ends &lt;int&gt; | names &lt;chr&gt; | scores &lt;chr&gt; | strands &lt;fct&gt; |\n",
       "|---|---|---|---|---|---|---|\n",
       "| 1 | chr1 | 3071252 | 3073452 | ENSMUSG00000102693 | . | + |\n",
       "| 2 | chr1 | 3100015 | 3102215 | ENSMUSG00000064842 | . | + |\n",
       "| 3 | chr1 | 3671298 | 3673498 | ENSMUSG00000051951 | . | - |\n",
       "| 4 | chr1 | 3250756 | 3252956 | ENSMUSG00000102851 | . | + |\n",
       "| 5 | chr1 | 3368349 | 3370549 | ENSMUSG00000103377 | . | - |\n",
       "| 6 | chr1 | 3377588 | 3379788 | ENSMUSG00000104017 | . | - |\n",
       "\n"
      ],
      "text/plain": [
       "  seqnames starts  ends    names              scores strands\n",
       "1 chr1     3071252 3073452 ENSMUSG00000102693 .      +      \n",
       "2 chr1     3100015 3102215 ENSMUSG00000064842 .      +      \n",
       "3 chr1     3671298 3673498 ENSMUSG00000051951 .      -      \n",
       "4 chr1     3250756 3252956 ENSMUSG00000102851 .      +      \n",
       "5 chr1     3368349 3370549 ENSMUSG00000103377 .      -      \n",
       "6 chr1     3377588 3379788 ENSMUSG00000104017 .      -      "
      ]
     },
     "metadata": {},
     "output_type": "display_data"
    }
   ],
   "source": [
    "head(promoter_df)"
   ]
  }
 ],
 "metadata": {
  "kernelspec": {
   "display_name": "R_limma",
   "language": "R",
   "name": "r_limma"
  },
  "language_info": {
   "codemirror_mode": "r",
   "file_extension": ".r",
   "mimetype": "text/x-r-source",
   "name": "R",
   "pygments_lexer": "r",
   "version": "4.0.5"
  }
 },
 "nbformat": 4,
 "nbformat_minor": 5
}
