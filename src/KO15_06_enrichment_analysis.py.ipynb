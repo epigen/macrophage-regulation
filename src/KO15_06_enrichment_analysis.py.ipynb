{
 "cells": [
  {
   "cell_type": "markdown",
   "id": "b9427979",
   "metadata": {},
   "source": [
    "# CROP-seq KO15 - Enrichment analysis of DEA results\n",
    "- goal: enrichments of DEA_condition & DEA_KO results (also mixscape analyses)\n",
    "- input: DEA results\n",
    "- output: enrichment results, summary files & plots"
   ]
  },
  {
   "cell_type": "code",
   "execution_count": 1,
   "id": "44b889dd",
   "metadata": {},
   "outputs": [
    {
     "name": "stdout",
     "output_type": "stream",
     "text": [
      "/home/sreichl/projects/bmdm-stim\n"
     ]
    }
   ],
   "source": [
    "cd ../"
   ]
  },
  {
   "cell_type": "code",
   "execution_count": 2,
   "id": "4693bc0d",
   "metadata": {},
   "outputs": [],
   "source": [
    "# libraries\n",
    "import pandas as pd\n",
    "import os\n",
    "\n",
    "import matplotlib.pyplot as plt\n",
    "import seaborn as sns\n",
    "import numpy as np\n",
    "\n",
    "import gseapy as gp"
   ]
  },
  {
   "cell_type": "code",
   "execution_count": 5,
   "id": "35d54133-545c-47d0-818f-53e0d09562e1",
   "metadata": {},
   "outputs": [],
   "source": [
    "# import util functions\n",
    "import sys\n",
    "sys.path.insert(1, os.path.join('src'))\n",
    "\n",
    "import utils_GSEApy"
   ]
  },
  {
   "cell_type": "code",
   "execution_count": 4,
   "id": "ad79a2a3",
   "metadata": {},
   "outputs": [],
   "source": [
    "# for relaoding a module\n",
    "# importlib.reload(utils_GSEApy)"
   ]
  },
  {
   "cell_type": "code",
   "execution_count": 7,
   "id": "6ff841c1",
   "metadata": {
    "tags": []
   },
   "outputs": [],
   "source": [
    "# configs\n",
    "dir_base = os.path.join('results','KO15')\n",
    "\n",
    "mixscape = True\n",
    "\n",
    "if mixscape:\n",
    "    dir_data = os.path.join(dir_base, 'unsupervised_mixscape')\n",
    "else:\n",
    "    dir_data = dir_base\n",
    "    \n",
    "dir_results = os.path.join(dir_base, 'enrichment_analysis')\n",
    "\n",
    "databases = [\"BioPlanet_2019\", \n",
    "             \"KEGG_2019_Mouse\", \n",
    "             \"WikiPathways_2019_Mouse\",\n",
    "             \"GO_Biological_Process_2021\"]\n",
    "\n",
    "# more stringent adj.p-value cut-off\n",
    "# databases_strict=[\"BioPlanet_2019\",\n",
    "#            \"GO_Biological_Process_2021\"]\n",
    "databases_strict=[]\n",
    "\n",
    "adj_pvalue=0.05\n",
    "adj_pvalue_strict=0.01"
   ]
  },
  {
   "cell_type": "code",
   "execution_count": 8,
   "id": "1de08c06",
   "metadata": {},
   "outputs": [],
   "source": [
    "if not os.path.exists(dir_results):\n",
    "        os.mkdir(dir_results)"
   ]
  },
  {
   "cell_type": "markdown",
   "id": "83f3f108",
   "metadata": {},
   "source": [
    "# load data"
   ]
  },
  {
   "cell_type": "code",
   "execution_count": 9,
   "id": "5b964e61",
   "metadata": {},
   "outputs": [
    {
     "name": "stdout",
     "output_type": "stream",
     "text": [
      "(20049, 15)\n"
     ]
    },
    {
     "data": {
      "text/html": [
       "<div>\n",
       "<style scoped>\n",
       "    .dataframe tbody tr th:only-of-type {\n",
       "        vertical-align: middle;\n",
       "    }\n",
       "\n",
       "    .dataframe tbody tr th {\n",
       "        vertical-align: top;\n",
       "    }\n",
       "\n",
       "    .dataframe thead th {\n",
       "        text-align: right;\n",
       "    }\n",
       "</style>\n",
       "<table border=\"1\" class=\"dataframe\">\n",
       "  <thead>\n",
       "    <tr style=\"text-align: right;\">\n",
       "      <th></th>\n",
       "      <th>orig.ident</th>\n",
       "      <th>nCount_RNA</th>\n",
       "      <th>nFeature_RNA</th>\n",
       "      <th>nCount_AB</th>\n",
       "      <th>nFeature_AB</th>\n",
       "      <th>nCount_gRNA</th>\n",
       "      <th>nFeature_gRNA</th>\n",
       "      <th>nCount_HTO</th>\n",
       "      <th>nFeature_HTO</th>\n",
       "      <th>hto_demux</th>\n",
       "      <th>pass_QC</th>\n",
       "      <th>batch</th>\n",
       "      <th>percent.mt</th>\n",
       "      <th>guide_call</th>\n",
       "      <th>KO_call</th>\n",
       "    </tr>\n",
       "  </thead>\n",
       "  <tbody>\n",
       "    <tr>\n",
       "      <th>1_AAACCTGAGAAGAAGC-1</th>\n",
       "      <td>PT141_1</td>\n",
       "      <td>9229</td>\n",
       "      <td>2626</td>\n",
       "      <td>277</td>\n",
       "      <td>8</td>\n",
       "      <td>186</td>\n",
       "      <td>14</td>\n",
       "      <td>184</td>\n",
       "      <td>3</td>\n",
       "      <td>HTO-RAW-SZ_LO28_2h</td>\n",
       "      <td>True</td>\n",
       "      <td>1</td>\n",
       "      <td>0.736808</td>\n",
       "      <td>mStat1_3</td>\n",
       "      <td>mStat1</td>\n",
       "    </tr>\n",
       "    <tr>\n",
       "      <th>1_AAACCTGAGACTGTAA-1</th>\n",
       "      <td>PT141_1</td>\n",
       "      <td>10672</td>\n",
       "      <td>3572</td>\n",
       "      <td>389</td>\n",
       "      <td>10</td>\n",
       "      <td>1312</td>\n",
       "      <td>15</td>\n",
       "      <td>167</td>\n",
       "      <td>2</td>\n",
       "      <td>HTO-RAW-SZ_untreated</td>\n",
       "      <td>True</td>\n",
       "      <td>1</td>\n",
       "      <td>2.398801</td>\n",
       "      <td>mIrf8_4</td>\n",
       "      <td>mIrf8</td>\n",
       "    </tr>\n",
       "    <tr>\n",
       "      <th>1_AAACCTGAGAGTGAGA-1</th>\n",
       "      <td>PT141_1</td>\n",
       "      <td>799</td>\n",
       "      <td>633</td>\n",
       "      <td>82</td>\n",
       "      <td>8</td>\n",
       "      <td>12</td>\n",
       "      <td>9</td>\n",
       "      <td>25</td>\n",
       "      <td>3</td>\n",
       "      <td>Negative</td>\n",
       "      <td>False</td>\n",
       "      <td>1</td>\n",
       "      <td>0.500626</td>\n",
       "      <td>mJak1_1</td>\n",
       "      <td>mJak1</td>\n",
       "    </tr>\n",
       "    <tr>\n",
       "      <th>1_AAACCTGAGCCATCGC-1</th>\n",
       "      <td>PT141_1</td>\n",
       "      <td>1153</td>\n",
       "      <td>845</td>\n",
       "      <td>285</td>\n",
       "      <td>8</td>\n",
       "      <td>20</td>\n",
       "      <td>17</td>\n",
       "      <td>81</td>\n",
       "      <td>3</td>\n",
       "      <td>HTO-RAW-SZ_untreated</td>\n",
       "      <td>False</td>\n",
       "      <td>1</td>\n",
       "      <td>12.142238</td>\n",
       "      <td>Negative</td>\n",
       "      <td>Negative</td>\n",
       "    </tr>\n",
       "    <tr>\n",
       "      <th>1_AAACCTGAGGTGTTAA-1</th>\n",
       "      <td>PT141_1</td>\n",
       "      <td>9867</td>\n",
       "      <td>3564</td>\n",
       "      <td>135</td>\n",
       "      <td>9</td>\n",
       "      <td>1069</td>\n",
       "      <td>11</td>\n",
       "      <td>19</td>\n",
       "      <td>2</td>\n",
       "      <td>HTO-RAW-SZ_untreated</td>\n",
       "      <td>True</td>\n",
       "      <td>1</td>\n",
       "      <td>1.530354</td>\n",
       "      <td>mKdm1b_3</td>\n",
       "      <td>mKdm1b</td>\n",
       "    </tr>\n",
       "  </tbody>\n",
       "</table>\n",
       "</div>"
      ],
      "text/plain": [
       "                     orig.ident  nCount_RNA  nFeature_RNA  nCount_AB  \\\n",
       "1_AAACCTGAGAAGAAGC-1    PT141_1        9229          2626        277   \n",
       "1_AAACCTGAGACTGTAA-1    PT141_1       10672          3572        389   \n",
       "1_AAACCTGAGAGTGAGA-1    PT141_1         799           633         82   \n",
       "1_AAACCTGAGCCATCGC-1    PT141_1        1153           845        285   \n",
       "1_AAACCTGAGGTGTTAA-1    PT141_1        9867          3564        135   \n",
       "\n",
       "                      nFeature_AB  nCount_gRNA  nFeature_gRNA  nCount_HTO  \\\n",
       "1_AAACCTGAGAAGAAGC-1            8          186             14         184   \n",
       "1_AAACCTGAGACTGTAA-1           10         1312             15         167   \n",
       "1_AAACCTGAGAGTGAGA-1            8           12              9          25   \n",
       "1_AAACCTGAGCCATCGC-1            8           20             17          81   \n",
       "1_AAACCTGAGGTGTTAA-1            9         1069             11          19   \n",
       "\n",
       "                      nFeature_HTO             hto_demux  pass_QC  batch  \\\n",
       "1_AAACCTGAGAAGAAGC-1             3    HTO-RAW-SZ_LO28_2h     True      1   \n",
       "1_AAACCTGAGACTGTAA-1             2  HTO-RAW-SZ_untreated     True      1   \n",
       "1_AAACCTGAGAGTGAGA-1             3              Negative    False      1   \n",
       "1_AAACCTGAGCCATCGC-1             3  HTO-RAW-SZ_untreated    False      1   \n",
       "1_AAACCTGAGGTGTTAA-1             2  HTO-RAW-SZ_untreated     True      1   \n",
       "\n",
       "                      percent.mt guide_call   KO_call  \n",
       "1_AAACCTGAGAAGAAGC-1    0.736808   mStat1_3    mStat1  \n",
       "1_AAACCTGAGACTGTAA-1    2.398801    mIrf8_4     mIrf8  \n",
       "1_AAACCTGAGAGTGAGA-1    0.500626    mJak1_1     mJak1  \n",
       "1_AAACCTGAGCCATCGC-1   12.142238   Negative  Negative  \n",
       "1_AAACCTGAGGTGTTAA-1    1.530354   mKdm1b_3    mKdm1b  "
      ]
     },
     "execution_count": 9,
     "metadata": {},
     "output_type": "execute_result"
    }
   ],
   "source": [
    "annot = pd.read_csv(os.path.join(dir_base, 'KO15_raw_metadata.csv'), index_col=0)\n",
    "print(annot.shape)\n",
    "annot.head()"
   ]
  },
  {
   "cell_type": "code",
   "execution_count": 10,
   "id": "802ef72a",
   "metadata": {},
   "outputs": [
    {
     "name": "stdout",
     "output_type": "stream",
     "text": [
      "(13395, 4978)\n"
     ]
    },
    {
     "data": {
      "text/html": [
       "<div>\n",
       "<style scoped>\n",
       "    .dataframe tbody tr th:only-of-type {\n",
       "        vertical-align: middle;\n",
       "    }\n",
       "\n",
       "    .dataframe tbody tr th {\n",
       "        vertical-align: top;\n",
       "    }\n",
       "\n",
       "    .dataframe thead th {\n",
       "        text-align: right;\n",
       "    }\n",
       "</style>\n",
       "<table border=\"1\" class=\"dataframe\">\n",
       "  <thead>\n",
       "    <tr style=\"text-align: right;\">\n",
       "      <th></th>\n",
       "      <th>X1_AAACCTGAGAAGAAGC.1</th>\n",
       "      <th>X1_AAACCTGCATTCTCAT.1</th>\n",
       "      <th>X1_AAACGGGAGAGGGCTT.1</th>\n",
       "      <th>X1_AAACGGGCAAAGGTGC.1</th>\n",
       "      <th>X1_AAACGGGCAAGCGAGT.1</th>\n",
       "      <th>X1_AAACGGGGTACCGTAT.1</th>\n",
       "      <th>X1_AAAGATGAGCCTCGTG.1</th>\n",
       "      <th>X1_AAAGATGCAATGGAGC.1</th>\n",
       "      <th>X1_AAAGATGTCTAACTCT.1</th>\n",
       "      <th>X1_AAAGCAATCGTCCAGG.1</th>\n",
       "      <th>...</th>\n",
       "      <th>X2_TTTACTGTCGGCTTGG.1</th>\n",
       "      <th>X2_TTTATGCAGGAGTACC.1</th>\n",
       "      <th>X2_TTTATGCCAGTTCATG.1</th>\n",
       "      <th>X2_TTTATGCTCAGTCAGT.1</th>\n",
       "      <th>X2_TTTATGCTCATGCATG.1</th>\n",
       "      <th>X2_TTTCCTCCAGACGCCT.1</th>\n",
       "      <th>X2_TTTGCGCCACCGATAT.1</th>\n",
       "      <th>X2_TTTGCGCGTTCATGGT.1</th>\n",
       "      <th>X2_TTTGGTTCATGCATGT.1</th>\n",
       "      <th>X2_TTTGGTTTCCGGGTGT.1</th>\n",
       "    </tr>\n",
       "  </thead>\n",
       "  <tbody>\n",
       "    <tr>\n",
       "      <th>Mrpl15</th>\n",
       "      <td>2</td>\n",
       "      <td>1</td>\n",
       "      <td>0</td>\n",
       "      <td>2</td>\n",
       "      <td>1</td>\n",
       "      <td>1</td>\n",
       "      <td>0</td>\n",
       "      <td>1</td>\n",
       "      <td>1</td>\n",
       "      <td>1</td>\n",
       "      <td>...</td>\n",
       "      <td>3</td>\n",
       "      <td>1</td>\n",
       "      <td>0</td>\n",
       "      <td>1</td>\n",
       "      <td>1</td>\n",
       "      <td>0</td>\n",
       "      <td>2</td>\n",
       "      <td>2</td>\n",
       "      <td>0</td>\n",
       "      <td>0</td>\n",
       "    </tr>\n",
       "    <tr>\n",
       "      <th>Lypla1</th>\n",
       "      <td>0</td>\n",
       "      <td>0</td>\n",
       "      <td>1</td>\n",
       "      <td>0</td>\n",
       "      <td>0</td>\n",
       "      <td>1</td>\n",
       "      <td>1</td>\n",
       "      <td>0</td>\n",
       "      <td>0</td>\n",
       "      <td>0</td>\n",
       "      <td>...</td>\n",
       "      <td>0</td>\n",
       "      <td>0</td>\n",
       "      <td>0</td>\n",
       "      <td>1</td>\n",
       "      <td>0</td>\n",
       "      <td>0</td>\n",
       "      <td>0</td>\n",
       "      <td>0</td>\n",
       "      <td>0</td>\n",
       "      <td>0</td>\n",
       "    </tr>\n",
       "    <tr>\n",
       "      <th>Tcea1</th>\n",
       "      <td>1</td>\n",
       "      <td>1</td>\n",
       "      <td>0</td>\n",
       "      <td>1</td>\n",
       "      <td>0</td>\n",
       "      <td>1</td>\n",
       "      <td>0</td>\n",
       "      <td>2</td>\n",
       "      <td>0</td>\n",
       "      <td>1</td>\n",
       "      <td>...</td>\n",
       "      <td>0</td>\n",
       "      <td>2</td>\n",
       "      <td>0</td>\n",
       "      <td>0</td>\n",
       "      <td>0</td>\n",
       "      <td>0</td>\n",
       "      <td>1</td>\n",
       "      <td>1</td>\n",
       "      <td>1</td>\n",
       "      <td>2</td>\n",
       "    </tr>\n",
       "    <tr>\n",
       "      <th>Rgs20</th>\n",
       "      <td>0</td>\n",
       "      <td>0</td>\n",
       "      <td>0</td>\n",
       "      <td>1</td>\n",
       "      <td>1</td>\n",
       "      <td>0</td>\n",
       "      <td>0</td>\n",
       "      <td>0</td>\n",
       "      <td>0</td>\n",
       "      <td>0</td>\n",
       "      <td>...</td>\n",
       "      <td>0</td>\n",
       "      <td>0</td>\n",
       "      <td>0</td>\n",
       "      <td>0</td>\n",
       "      <td>0</td>\n",
       "      <td>0</td>\n",
       "      <td>0</td>\n",
       "      <td>0</td>\n",
       "      <td>0</td>\n",
       "      <td>0</td>\n",
       "    </tr>\n",
       "    <tr>\n",
       "      <th>Atp6v1h</th>\n",
       "      <td>1</td>\n",
       "      <td>0</td>\n",
       "      <td>0</td>\n",
       "      <td>3</td>\n",
       "      <td>1</td>\n",
       "      <td>1</td>\n",
       "      <td>3</td>\n",
       "      <td>0</td>\n",
       "      <td>0</td>\n",
       "      <td>1</td>\n",
       "      <td>...</td>\n",
       "      <td>2</td>\n",
       "      <td>1</td>\n",
       "      <td>0</td>\n",
       "      <td>0</td>\n",
       "      <td>0</td>\n",
       "      <td>3</td>\n",
       "      <td>1</td>\n",
       "      <td>1</td>\n",
       "      <td>3</td>\n",
       "      <td>0</td>\n",
       "    </tr>\n",
       "  </tbody>\n",
       "</table>\n",
       "<p>5 rows × 4978 columns</p>\n",
       "</div>"
      ],
      "text/plain": [
       "         X1_AAACCTGAGAAGAAGC.1  X1_AAACCTGCATTCTCAT.1  X1_AAACGGGAGAGGGCTT.1  \\\n",
       "Mrpl15                       2                      1                      0   \n",
       "Lypla1                       0                      0                      1   \n",
       "Tcea1                        1                      1                      0   \n",
       "Rgs20                        0                      0                      0   \n",
       "Atp6v1h                      1                      0                      0   \n",
       "\n",
       "         X1_AAACGGGCAAAGGTGC.1  X1_AAACGGGCAAGCGAGT.1  X1_AAACGGGGTACCGTAT.1  \\\n",
       "Mrpl15                       2                      1                      1   \n",
       "Lypla1                       0                      0                      1   \n",
       "Tcea1                        1                      0                      1   \n",
       "Rgs20                        1                      1                      0   \n",
       "Atp6v1h                      3                      1                      1   \n",
       "\n",
       "         X1_AAAGATGAGCCTCGTG.1  X1_AAAGATGCAATGGAGC.1  X1_AAAGATGTCTAACTCT.1  \\\n",
       "Mrpl15                       0                      1                      1   \n",
       "Lypla1                       1                      0                      0   \n",
       "Tcea1                        0                      2                      0   \n",
       "Rgs20                        0                      0                      0   \n",
       "Atp6v1h                      3                      0                      0   \n",
       "\n",
       "         X1_AAAGCAATCGTCCAGG.1  ...  X2_TTTACTGTCGGCTTGG.1  \\\n",
       "Mrpl15                       1  ...                      3   \n",
       "Lypla1                       0  ...                      0   \n",
       "Tcea1                        1  ...                      0   \n",
       "Rgs20                        0  ...                      0   \n",
       "Atp6v1h                      1  ...                      2   \n",
       "\n",
       "         X2_TTTATGCAGGAGTACC.1  X2_TTTATGCCAGTTCATG.1  X2_TTTATGCTCAGTCAGT.1  \\\n",
       "Mrpl15                       1                      0                      1   \n",
       "Lypla1                       0                      0                      1   \n",
       "Tcea1                        2                      0                      0   \n",
       "Rgs20                        0                      0                      0   \n",
       "Atp6v1h                      1                      0                      0   \n",
       "\n",
       "         X2_TTTATGCTCATGCATG.1  X2_TTTCCTCCAGACGCCT.1  X2_TTTGCGCCACCGATAT.1  \\\n",
       "Mrpl15                       1                      0                      2   \n",
       "Lypla1                       0                      0                      0   \n",
       "Tcea1                        0                      0                      1   \n",
       "Rgs20                        0                      0                      0   \n",
       "Atp6v1h                      0                      3                      1   \n",
       "\n",
       "         X2_TTTGCGCGTTCATGGT.1  X2_TTTGGTTCATGCATGT.1  X2_TTTGGTTTCCGGGTGT.1  \n",
       "Mrpl15                       2                      0                      0  \n",
       "Lypla1                       0                      0                      0  \n",
       "Tcea1                        1                      1                      2  \n",
       "Rgs20                        0                      0                      0  \n",
       "Atp6v1h                      1                      3                      0  \n",
       "\n",
       "[5 rows x 4978 columns]"
      ]
     },
     "execution_count": 10,
     "metadata": {},
     "output_type": "execute_result"
    }
   ],
   "source": [
    "SCT_counts = pd.read_csv(os.path.join(dir_data, 'KO15_SCT_counts.csv'), index_col=0)\n",
    "print(SCT_counts.shape)\n",
    "SCT_counts.head()"
   ]
  },
  {
   "cell_type": "code",
   "execution_count": 11,
   "id": "94d1def7",
   "metadata": {},
   "outputs": [
    {
     "name": "stdout",
     "output_type": "stream",
     "text": [
      "['untreated', 'LO28_2h', 'LO28_6h']\n",
      "['mStat1', 'mIrf8', 'mJak1', 'mKdm1b', 'mHdac6', 'mIrf9', 'mRela', 'mSpi1', 'mCsf1r', 'mTyk2', 'mcJun', 'mStat2', 'mKdm6b', 'mCreb1', 'mEp300']\n"
     ]
    }
   ],
   "source": [
    "# prepare metadata\n",
    "\n",
    "# conditions\n",
    "annot['condition'] = annot['hto_demux'].str.split(pat='_',n=1, expand=True)[1]\n",
    "conditions = list(annot['condition'].unique())\n",
    "conditions.remove(None)\n",
    "conditions = [conditions[i] for i in [1,0,2]]\n",
    "print(conditions)\n",
    "\n",
    "# KO target genes\n",
    "KO_genes = list(annot['KO_call'].unique())\n",
    "KO_genes.remove('Negative')\n",
    "KO_genes.remove('Multiplet')\n",
    "KO_genes.remove('mNon-targeting')\n",
    "print(KO_genes)"
   ]
  },
  {
   "cell_type": "code",
   "execution_count": 12,
   "id": "3e77446f",
   "metadata": {},
   "outputs": [
    {
     "name": "stdout",
     "output_type": "stream",
     "text": [
      "13395\n"
     ]
    },
    {
     "data": {
      "text/plain": [
       "['NEDD1', 'TXN2', 'TAF15', 'LIPC', 'SLC35G3']"
      ]
     },
     "execution_count": 12,
     "metadata": {},
     "output_type": "execute_result"
    }
   ],
   "source": [
    "# define list of background genes\n",
    "background = SCT_counts.index\n",
    "background = list(set(background))\n",
    "background=[str(x).upper() for x in list(background)]\n",
    "print(len(background))\n",
    "background[:5]"
   ]
  },
  {
   "cell_type": "markdown",
   "id": "656db151",
   "metadata": {},
   "source": [
    "# Enrichment analysis"
   ]
  },
  {
   "cell_type": "code",
   "execution_count": 13,
   "id": "0112289f",
   "metadata": {},
   "outputs": [],
   "source": [
    "stat_sign = 0.05\n",
    "pval = 'p_val_adj'"
   ]
  },
  {
   "cell_type": "markdown",
   "id": "06416a93",
   "metadata": {},
   "source": [
    "## DEA analysis within condition between KOs"
   ]
  },
  {
   "cell_type": "code",
   "execution_count": 14,
   "id": "c0042972",
   "metadata": {},
   "outputs": [],
   "source": [
    "if mixscape:\n",
    "    dea_folder = 'DEA_condition_mixscape'\n",
    "else:\n",
    "    dea_folder = 'DEA_condition'"
   ]
  },
  {
   "cell_type": "code",
   "execution_count": 16,
   "id": "97aa7ba8",
   "metadata": {},
   "outputs": [
    {
     "name": "stdout",
     "output_type": "stream",
     "text": [
      "45\n"
     ]
    },
    {
     "data": {
      "text/plain": [
       "dict_keys(['untreated_mStat1_up', 'untreated_mStat1_down', 'untreated_mJak1_up', 'untreated_mJak1_down', 'untreated_mIrf9_up', 'untreated_mIrf9_down', 'untreated_mSpi1_up', 'untreated_mSpi1_down', 'untreated_mTyk2_up', 'untreated_mTyk2_down', 'untreated_mStat2_up', 'untreated_mStat2_down', 'untreated_mEp300_up', 'untreated_mEp300_down', 'LO28_2h_mStat1_up', 'LO28_2h_mJak1_up', 'LO28_2h_mJak1_down', 'LO28_2h_mIrf9_up', 'LO28_2h_mIrf9_down', 'LO28_2h_mRela_up', 'LO28_2h_mRela_down', 'LO28_2h_mSpi1_up', 'LO28_2h_mSpi1_down', 'LO28_2h_mTyk2_down', 'LO28_2h_mStat2_up', 'LO28_2h_mStat2_down', 'LO28_2h_mEp300_up', 'LO28_2h_mEp300_down', 'LO28_6h_mStat1_up', 'LO28_6h_mStat1_down', 'LO28_6h_mIrf8_up', 'LO28_6h_mIrf8_down', 'LO28_6h_mJak1_up', 'LO28_6h_mJak1_down', 'LO28_6h_mIrf9_up', 'LO28_6h_mIrf9_down', 'LO28_6h_mRela_down', 'LO28_6h_mSpi1_up', 'LO28_6h_mSpi1_down', 'LO28_6h_mTyk2_up', 'LO28_6h_mTyk2_down', 'LO28_6h_mStat2_up', 'LO28_6h_mStat2_down', 'LO28_6h_mEp300_up', 'LO28_6h_mEp300_down'])"
      ]
     },
     "execution_count": 16,
     "metadata": {},
     "output_type": "execute_result"
    }
   ],
   "source": [
    "# get significant genes per treatment and time point ie group\n",
    "gene_lists = dict()\n",
    "\n",
    "for cond in conditions:\n",
    "    for KO_gene in KO_genes:\n",
    "        tmp_path = os.path.join(dir_base, dea_folder, 'KO15_DEA_RNA_{}_{}.csv'.format(cond, KO_gene))\n",
    "        \n",
    "        if not os.path.isfile(tmp_path):\n",
    "            continue\n",
    "        \n",
    "        # load DEA analysis results\n",
    "        tmp_results = pd.read_csv(tmp_path, index_col=0)\n",
    "        \n",
    "        for direction in ['up','down']:\n",
    "            if direction=='up':\n",
    "                tmp_genes = tmp_results.loc[(tmp_results[pval]<0.05) & (tmp_results['avg_log2FC']>0), ].index.unique()\n",
    "            else:\n",
    "                tmp_genes = tmp_results.loc[(tmp_results[pval]<0.05) & (tmp_results['avg_log2FC']<0), ].index.unique()\n",
    "        \n",
    "            if len(tmp_genes)==0:\n",
    "                continue\n",
    "            \n",
    "            gene_lists[cond+\"_\"+KO_gene+\"_\"+direction] = tmp_genes\n",
    "\n",
    "print(len(gene_lists.keys()))        \n",
    "gene_lists.keys()"
   ]
  },
  {
   "cell_type": "code",
   "execution_count": 18,
   "id": "0375628e",
   "metadata": {},
   "outputs": [],
   "source": [
    "# convert gene IDs to symbols, and upper-case\n",
    "for key in gene_lists.keys():\n",
    "    gene_lists[key] = list(gene_lists[key])\n",
    "    gene_lists[key] = [str(x).upper() for x in list(gene_lists[key])]"
   ]
  },
  {
   "cell_type": "code",
   "execution_count": 20,
   "id": "d0ba81c8",
   "metadata": {
    "tags": []
   },
   "outputs": [
    {
     "name": "stderr",
     "output_type": "stream",
     "text": [
      "/nobackup/lab_bock/users/sreichl/miniconda3/envs/enrichment_analysis/lib/python3.9/site-packages/urllib3/connectionpool.py:1013: InsecureRequestWarning: Unverified HTTPS request is being made to host 'maayanlab.cloud'. Adding certificate verification is strongly advised. See: https://urllib3.readthedocs.io/en/1.26.x/advanced-usage.html#ssl-warnings\n",
      "  warnings.warn(\n",
      "/nobackup/lab_bock/users/sreichl/miniconda3/envs/enrichment_analysis/lib/python3.9/site-packages/urllib3/connectionpool.py:1013: InsecureRequestWarning: Unverified HTTPS request is being made to host 'maayanlab.cloud'. Adding certificate verification is strongly advised. See: https://urllib3.readthedocs.io/en/1.26.x/advanced-usage.html#ssl-warnings\n",
      "  warnings.warn(\n",
      "/nobackup/lab_bock/users/sreichl/miniconda3/envs/enrichment_analysis/lib/python3.9/site-packages/urllib3/connectionpool.py:1013: InsecureRequestWarning: Unverified HTTPS request is being made to host 'maayanlab.cloud'. Adding certificate verification is strongly advised. See: https://urllib3.readthedocs.io/en/1.26.x/advanced-usage.html#ssl-warnings\n",
      "  warnings.warn(\n",
      "/nobackup/lab_bock/users/sreichl/miniconda3/envs/enrichment_analysis/lib/python3.9/site-packages/urllib3/connectionpool.py:1013: InsecureRequestWarning: Unverified HTTPS request is being made to host 'maayanlab.cloud'. Adding certificate verification is strongly advised. See: https://urllib3.readthedocs.io/en/1.26.x/advanced-usage.html#ssl-warnings\n",
      "  warnings.warn(\n"
     ]
    },
    {
     "name": "stdout",
     "output_type": "stream",
     "text": [
      "BioPlanet_2019\n"
     ]
    },
    {
     "name": "stderr",
     "output_type": "stream",
     "text": [
      "2021-12-28 16:02:46,854 Warning: No enrich terms using library CUSTOM46914442791040 when cutoff = 0.05\n",
      "WARNING:gseapy:Warning: No enrich terms using library CUSTOM46914442791040 when cutoff = 0.05\n"
     ]
    },
    {
     "name": "stdout",
     "output_type": "stream",
     "text": [
      "KEGG_2019_Mouse\n",
      "WikiPathways_2019_Mouse\n"
     ]
    },
    {
     "name": "stderr",
     "output_type": "stream",
     "text": [
      "2021-12-28 16:03:08,520 Warning: No enrich terms using library CUSTOM46914441606720 when cutoff = 0.05\n",
      "WARNING:gseapy:Warning: No enrich terms using library CUSTOM46914441606720 when cutoff = 0.05\n",
      "2021-12-28 16:03:11,052 Warning: No enrich terms using library CUSTOM46914441606720 when cutoff = 0.05\n",
      "WARNING:gseapy:Warning: No enrich terms using library CUSTOM46914441606720 when cutoff = 0.05\n",
      "2021-12-28 16:03:11,073 Warning: No enrich terms using library CUSTOM46914441606720 when cutoff = 0.05\n",
      "WARNING:gseapy:Warning: No enrich terms using library CUSTOM46914441606720 when cutoff = 0.05\n",
      "2021-12-28 16:03:11,110 Warning: No enrich terms using library CUSTOM46914441606720 when cutoff = 0.05\n",
      "WARNING:gseapy:Warning: No enrich terms using library CUSTOM46914441606720 when cutoff = 0.05\n",
      "2021-12-28 16:03:12,117 Warning: No enrich terms using library CUSTOM46914441606720 when cutoff = 0.05\n",
      "WARNING:gseapy:Warning: No enrich terms using library CUSTOM46914441606720 when cutoff = 0.05\n",
      "2021-12-28 16:03:13,047 Warning: No enrich terms using library CUSTOM46914441606720 when cutoff = 0.05\n",
      "WARNING:gseapy:Warning: No enrich terms using library CUSTOM46914441606720 when cutoff = 0.05\n"
     ]
    },
    {
     "name": "stdout",
     "output_type": "stream",
     "text": [
      "GO_Biological_Process_2021\n",
      "BioPlanet_2019 396\n",
      "KEGG_2019_Mouse 108\n",
      "WikiPathways_2019_Mouse 69\n",
      "GO_Biological_Process_2021 1403\n"
     ]
    }
   ],
   "source": [
    "util_GSEApy.do_enrichment_all(gene_lists=gene_lists, \n",
    "                  background=background, \n",
    "                  databases=databases, \n",
    "                  databases_strict=databases_strict, \n",
    "                  adj_pvalue=adj_pvalue, \n",
    "                  adj_pvalue_strict=adj_pvalue_strict, \n",
    "                  dir_results=os.path.join(dir_results,dea_folder),\n",
    "                  top_n=3\n",
    "                 )"
   ]
  },
  {
   "cell_type": "markdown",
   "id": "8965b6a1",
   "metadata": {},
   "source": [
    "## DEA analysis within KOs between conditions"
   ]
  },
  {
   "cell_type": "code",
   "execution_count": 21,
   "id": "3dec5124",
   "metadata": {},
   "outputs": [],
   "source": [
    "if mixscape:\n",
    "    dea_folder = 'DEA_KO_mixscape'\n",
    "else:\n",
    "    dea_folder = 'DEA_KO'"
   ]
  },
  {
   "cell_type": "code",
   "execution_count": 22,
   "id": "eee4f8dc",
   "metadata": {},
   "outputs": [
    {
     "name": "stdout",
     "output_type": "stream",
     "text": [
      "50\n"
     ]
    },
    {
     "data": {
      "text/plain": [
       "dict_keys(['mStat1_LO28_2h_untreated_up', 'mStat1_LO28_2h_untreated_down', 'mStat1_LO28_6h_untreated_up', 'mStat1_LO28_6h_untreated_down', 'mStat1_LO28_6h_LO28_2h_up', 'mStat1_LO28_6h_LO28_2h_down', 'mJak1_LO28_2h_untreated_up', 'mJak1_LO28_2h_untreated_down', 'mJak1_LO28_6h_untreated_up', 'mJak1_LO28_6h_untreated_down', 'mJak1_LO28_6h_LO28_2h_up', 'mJak1_LO28_6h_LO28_2h_down', 'mIrf9_LO28_2h_untreated_up', 'mIrf9_LO28_2h_untreated_down', 'mIrf9_LO28_6h_untreated_up', 'mIrf9_LO28_6h_untreated_down', 'mIrf9_LO28_6h_LO28_2h_up', 'mIrf9_LO28_6h_LO28_2h_down', 'mRela_LO28_6h_LO28_2h_up', 'mRela_LO28_6h_LO28_2h_down', 'mSpi1_LO28_2h_untreated_up', 'mSpi1_LO28_2h_untreated_down', 'mSpi1_LO28_6h_untreated_up', 'mSpi1_LO28_6h_untreated_down', 'mSpi1_LO28_6h_LO28_2h_up', 'mSpi1_LO28_6h_LO28_2h_down', 'mTyk2_LO28_2h_untreated_up', 'mTyk2_LO28_2h_untreated_down', 'mTyk2_LO28_6h_untreated_up', 'mTyk2_LO28_6h_untreated_down', 'mTyk2_LO28_6h_LO28_2h_up', 'mTyk2_LO28_6h_LO28_2h_down', 'mStat2_LO28_2h_untreated_up', 'mStat2_LO28_2h_untreated_down', 'mStat2_LO28_6h_untreated_up', 'mStat2_LO28_6h_untreated_down', 'mStat2_LO28_6h_LO28_2h_up', 'mStat2_LO28_6h_LO28_2h_down', 'mEp300_LO28_2h_untreated_up', 'mEp300_LO28_2h_untreated_down', 'mEp300_LO28_6h_untreated_up', 'mEp300_LO28_6h_untreated_down', 'mEp300_LO28_6h_LO28_2h_up', 'mEp300_LO28_6h_LO28_2h_down', 'mNon-targeting_LO28_2h_untreated_up', 'mNon-targeting_LO28_2h_untreated_down', 'mNon-targeting_LO28_6h_untreated_up', 'mNon-targeting_LO28_6h_untreated_down', 'mNon-targeting_LO28_6h_LO28_2h_up', 'mNon-targeting_LO28_6h_LO28_2h_down'])"
      ]
     },
     "execution_count": 22,
     "metadata": {},
     "output_type": "execute_result"
    }
   ],
   "source": [
    "# get significant genes per treatment and time point ie group\n",
    "gene_lists = dict()\n",
    "\n",
    "for KO_gene in KO_genes+['mNon-targeting']:\n",
    "    for cond1 in conditions[:len(conditions)-1]:\n",
    "        for cond2 in conditions[conditions.index(cond1)+1:len(conditions)]:\n",
    "\n",
    "            tmp_path = os.path.join(dir_base, dea_folder, 'KO15_DEA_RNA_{}_{}_{}.csv'.format(KO_gene, cond2, cond1))\n",
    "\n",
    "            if not os.path.isfile(tmp_path):\n",
    "                continue\n",
    "            \n",
    "            # load DEA analysis results\n",
    "            tmp_results = pd.read_csv(tmp_path, index_col=0)\n",
    "\n",
    "            for direction in ['up','down']:\n",
    "                if direction=='up':\n",
    "                    tmp_genes = tmp_results.loc[(tmp_results[pval]<0.05) & (tmp_results['avg_log2FC']>0), ].index.unique()\n",
    "                else:\n",
    "                    tmp_genes = tmp_results.loc[(tmp_results[pval]<0.05) & (tmp_results['avg_log2FC']<0), ].index.unique()\n",
    "\n",
    "                if len(tmp_genes)==0:\n",
    "                    continue\n",
    "\n",
    "                gene_lists[KO_gene+\"_\"+cond2+\"_\"+cond1+\"_\"+direction] = tmp_genes\n",
    "\n",
    "print(len(gene_lists.keys()))        \n",
    "gene_lists.keys()"
   ]
  },
  {
   "cell_type": "code",
   "execution_count": 23,
   "id": "30f1b1d5",
   "metadata": {},
   "outputs": [],
   "source": [
    "# convert gene IDs to symbols, and upper-case\n",
    "for key in gene_lists.keys():\n",
    "    gene_lists[key] = list(gene_lists[key])\n",
    "    gene_lists[key] = [str(x).upper() for x in list(gene_lists[key])]"
   ]
  },
  {
   "cell_type": "code",
   "execution_count": 24,
   "id": "ee32238c",
   "metadata": {
    "tags": []
   },
   "outputs": [
    {
     "name": "stderr",
     "output_type": "stream",
     "text": [
      "/nobackup/lab_bock/users/sreichl/miniconda3/envs/enrichment_analysis/lib/python3.9/site-packages/urllib3/connectionpool.py:1013: InsecureRequestWarning: Unverified HTTPS request is being made to host 'maayanlab.cloud'. Adding certificate verification is strongly advised. See: https://urllib3.readthedocs.io/en/1.26.x/advanced-usage.html#ssl-warnings\n",
      "  warnings.warn(\n",
      "/nobackup/lab_bock/users/sreichl/miniconda3/envs/enrichment_analysis/lib/python3.9/site-packages/urllib3/connectionpool.py:1013: InsecureRequestWarning: Unverified HTTPS request is being made to host 'maayanlab.cloud'. Adding certificate verification is strongly advised. See: https://urllib3.readthedocs.io/en/1.26.x/advanced-usage.html#ssl-warnings\n",
      "  warnings.warn(\n",
      "/nobackup/lab_bock/users/sreichl/miniconda3/envs/enrichment_analysis/lib/python3.9/site-packages/urllib3/connectionpool.py:1013: InsecureRequestWarning: Unverified HTTPS request is being made to host 'maayanlab.cloud'. Adding certificate verification is strongly advised. See: https://urllib3.readthedocs.io/en/1.26.x/advanced-usage.html#ssl-warnings\n",
      "  warnings.warn(\n",
      "/nobackup/lab_bock/users/sreichl/miniconda3/envs/enrichment_analysis/lib/python3.9/site-packages/urllib3/connectionpool.py:1013: InsecureRequestWarning: Unverified HTTPS request is being made to host 'maayanlab.cloud'. Adding certificate verification is strongly advised. See: https://urllib3.readthedocs.io/en/1.26.x/advanced-usage.html#ssl-warnings\n",
      "  warnings.warn(\n"
     ]
    },
    {
     "name": "stdout",
     "output_type": "stream",
     "text": [
      "BioPlanet_2019\n"
     ]
    },
    {
     "name": "stderr",
     "output_type": "stream",
     "text": [
      "2021-12-28 16:05:24,726 Warning: No enrich terms using library CUSTOM46914524186176 when cutoff = 0.05\n",
      "WARNING:gseapy:Warning: No enrich terms using library CUSTOM46914524186176 when cutoff = 0.05\n"
     ]
    },
    {
     "name": "stdout",
     "output_type": "stream",
     "text": [
      "KEGG_2019_Mouse\n"
     ]
    },
    {
     "name": "stderr",
     "output_type": "stream",
     "text": [
      "2021-12-28 16:06:06,854 Warning: No enrich terms using library CUSTOM46914527799232 when cutoff = 0.05\n",
      "WARNING:gseapy:Warning: No enrich terms using library CUSTOM46914527799232 when cutoff = 0.05\n"
     ]
    },
    {
     "name": "stdout",
     "output_type": "stream",
     "text": [
      "WikiPathways_2019_Mouse\n",
      "GO_Biological_Process_2021\n"
     ]
    },
    {
     "name": "stderr",
     "output_type": "stream",
     "text": [
      "2021-12-28 16:06:48,016 Warning: No enrich terms using library CUSTOM46914521960960 when cutoff = 0.05\n",
      "WARNING:gseapy:Warning: No enrich terms using library CUSTOM46914521960960 when cutoff = 0.05\n",
      "2021-12-28 16:07:31,762 Warning: No enrich terms using library CUSTOM46914521960960 when cutoff = 0.05\n",
      "WARNING:gseapy:Warning: No enrich terms using library CUSTOM46914521960960 when cutoff = 0.05\n",
      "2021-12-28 16:07:42,041 Warning: No enrich terms using library CUSTOM46914521960960 when cutoff = 0.05\n",
      "WARNING:gseapy:Warning: No enrich terms using library CUSTOM46914521960960 when cutoff = 0.05\n"
     ]
    },
    {
     "name": "stdout",
     "output_type": "stream",
     "text": [
      "BioPlanet_2019 689\n",
      "KEGG_2019_Mouse 185\n",
      "WikiPathways_2019_Mouse 105\n",
      "GO_Biological_Process_2021 1511\n"
     ]
    }
   ],
   "source": [
    "util_GSEApy.do_enrichment_all(gene_lists=gene_lists, \n",
    "                              background=background, \n",
    "                              databases=databases, \n",
    "                              databases_strict=databases_strict, \n",
    "                              adj_pvalue=adj_pvalue, \n",
    "                              adj_pvalue_strict=adj_pvalue_strict, \n",
    "                              dir_results=os.path.join(dir_results,dea_folder),\n",
    "                              top_n=3\n",
    "                             )"
   ]
  },
  {
   "cell_type": "code",
   "execution_count": null,
   "id": "a355cadc",
   "metadata": {},
   "outputs": [],
   "source": []
  }
 ],
 "metadata": {
  "kernelspec": {
   "display_name": "Python_enrichment_analysis",
   "language": "python",
   "name": "enrichment_analysis"
  },
  "language_info": {
   "codemirror_mode": {
    "name": "ipython",
    "version": 3
   },
   "file_extension": ".py",
   "mimetype": "text/x-python",
   "name": "python",
   "nbconvert_exporter": "python",
   "pygments_lexer": "ipython3",
   "version": "3.9.5"
  }
 },
 "nbformat": 4,
 "nbformat_minor": 5
}
