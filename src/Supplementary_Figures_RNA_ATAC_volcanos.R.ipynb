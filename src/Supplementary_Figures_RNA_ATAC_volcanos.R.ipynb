{
 "cells": [
  {
   "cell_type": "markdown",
   "id": "1fd5aa1e",
   "metadata": {},
   "source": [
    "# Supplementary Figures - RNA-seq & ATAC-seq Volcano Plots"
   ]
  },
  {
   "cell_type": "code",
   "execution_count": 1,
   "id": "b663731c",
   "metadata": {
    "tags": []
   },
   "outputs": [
    {
     "data": {
      "text/html": [
       "'/home/sreichl/projects/bmdm-stim/workflow/notebooks'"
      ],
      "text/latex": [
       "'/home/sreichl/projects/bmdm-stim/workflow/notebooks'"
      ],
      "text/markdown": [
       "'/home/sreichl/projects/bmdm-stim/workflow/notebooks'"
      ],
      "text/plain": [
       "[1] \"/home/sreichl/projects/bmdm-stim/workflow/notebooks\""
      ]
     },
     "metadata": {},
     "output_type": "display_data"
    },
    {
     "data": {
      "text/html": [
       "'/home/sreichl/projects/bmdm-stim'"
      ],
      "text/latex": [
       "'/home/sreichl/projects/bmdm-stim'"
      ],
      "text/markdown": [
       "'/home/sreichl/projects/bmdm-stim'"
      ],
      "text/plain": [
       "[1] \"/home/sreichl/projects/bmdm-stim\""
      ]
     },
     "metadata": {},
     "output_type": "display_data"
    }
   ],
   "source": [
    "# set correct working directory -> project folder\n",
    "getwd()\n",
    "setwd('..')\n",
    "getwd()"
   ]
  },
  {
   "cell_type": "code",
   "execution_count": 2,
   "id": "8c494e74",
   "metadata": {},
   "outputs": [
    {
     "name": "stderr",
     "output_type": "stream",
     "text": [
      "Registered S3 methods overwritten by 'ggalt':\n",
      "  method                  from   \n",
      "  grid.draw.absoluteGrob  ggplot2\n",
      "  grobHeight.absoluteGrob ggplot2\n",
      "  grobWidth.absoluteGrob  ggplot2\n",
      "  grobX.absoluteGrob      ggplot2\n",
      "  grobY.absoluteGrob      ggplot2\n",
      "\n"
     ]
    }
   ],
   "source": [
    "# library\n",
    "library(EnhancedVolcano, quietly=TRUE)\n",
    "library(patchwork, quietly=TRUE)\n",
    "library(ggplot2)"
   ]
  },
  {
   "cell_type": "code",
   "execution_count": 5,
   "id": "10bd58bd",
   "metadata": {},
   "outputs": [],
   "source": [
    "# default plotting theme\n",
    "macro_theme <- function(){\n",
    "    \n",
    "    # settings\n",
    "    font <- \"Arial\"\n",
    "    size <- 8\n",
    "    \n",
    "    theme_bw(\n",
    "        base_size=size,\n",
    "        base_family = font\n",
    "    ) %+replace% \n",
    "    \n",
    "    theme(\n",
    "      #grid elements\n",
    "#       panel.grid.major = element_blank(),    #strip major gridlines\n",
    "#       panel.grid.minor = element_blank(),    #strip minor gridlines\n",
    "#       axis.ticks = element_blank(),          #strip axis ticks\n",
    "      \n",
    "#       strips axis lines ?\n",
    "      \n",
    "      #text elements\n",
    "        text = element_text(              \n",
    "                   family = font,           \n",
    "                   size = size),\n",
    "        \n",
    "      plot.title = element_text(             #title\n",
    "                   family = font,            #set font family\n",
    "                   size = size,                #set font size\n",
    "                   face = 'bold',            #bold typeface\n",
    "                   hjust = 0.5,                #center align\n",
    "                   vjust = 2),               #raise slightly\n",
    "      \n",
    "      plot.subtitle = element_text(          #subtitle\n",
    "                   family = font,            #font family\n",
    "                   size = size),               #font size\n",
    "      \n",
    "      plot.caption = element_text(           #caption\n",
    "                   family = font,            #font family\n",
    "                   size = size,                 #font size\n",
    "                   hjust = 0.5),               #center align\n",
    "      \n",
    "      axis.title = element_text(             #axis titles\n",
    "                   family = font,            #font family\n",
    "                   size = size),               #font size\n",
    "      \n",
    "      axis.text = element_text(              #axis text\n",
    "                   family = font,            #axis famuly\n",
    "                   size = size),                #font size\n",
    "        \n",
    "        legend.text = element_text(              #axis text\n",
    "                   family = font,            #axis famuly\n",
    "                   size = size), \n",
    "        \n",
    "        legend.title = element_text(              #axis text\n",
    "                   family = font,            #axis famuly\n",
    "                   size = size),\n",
    "      \n",
    "#       axis.text.x = element_text(            #margin for axis text\n",
    "#                     margin=margin(5, b = 10))\n",
    "    )\n",
    "}"
   ]
  },
  {
   "cell_type": "code",
   "execution_count": 6,
   "id": "fc62805b",
   "metadata": {},
   "outputs": [],
   "source": [
    "# function to format treatmens\n",
    "treatment_format <- function(x,...){\n",
    "    x <- gsub('untreated', 'Untreated', x)\n",
    "    \n",
    "    x <- gsub('LO28', 'Listeria', x)\n",
    "    \n",
    "    x <- gsub('C_albicans', 'Candida', x) \n",
    "    x <- gsub('C albicans', 'Candida', x) \n",
    "    \n",
    "    x <- gsub('IFN_gamma', 'IFN-g', x)\n",
    "    x <- gsub('IFN gamma', \"IFN-g\", x)\n",
    "    \n",
    "    x <- gsub('IFN_beta', 'IFN-b', x)\n",
    "    x <- gsub('IFN beta', 'IFN-b', x)\n",
    "    \n",
    "    x <- gsub('LCMV_Cl13', 'LCMV', x)\n",
    "    x <- gsub('LCMV Cl13', 'LCMV', x)\n",
    "    \n",
    "    x <- gsub('_', ' ', x)\n",
    "    \n",
    "    x <- gsub('-2h', ' 2h', x)\n",
    "    x <- gsub('-6h', ' 6h', x)\n",
    "    x <- gsub('-24h', ' 24h', x)\n",
    "    \n",
    "    return(x)\n",
    "}"
   ]
  },
  {
   "cell_type": "code",
   "execution_count": 7,
   "id": "0f3182a1",
   "metadata": {},
   "outputs": [],
   "source": [
    "# extended ggsave\n",
    "ggsave_new <- function(filename, results_path, plot, width=5, height=5){\n",
    "    for (format in c('svg','png')){\n",
    "        ggsave(\n",
    "          paste0(filename,'.',format),\n",
    "          plot = plot,\n",
    "          device = format,\n",
    "          path = file.path(results_path),\n",
    "          scale = 1,\n",
    "          dpi = 300,\n",
    "            width = width,\n",
    "            height = height,\n",
    "          limitsize = FALSE,\n",
    "        )\n",
    "    }\n",
    "}"
   ]
  },
  {
   "cell_type": "markdown",
   "id": "ebbfb887",
   "metadata": {},
   "source": [
    "# configs"
   ]
  },
  {
   "cell_type": "code",
   "execution_count": 8,
   "id": "06967aa7",
   "metadata": {},
   "outputs": [],
   "source": [
    "# configs\n",
    "data_RNA <- file.path('results','RNA')\n",
    "data_ATAC <- file.path('results','ATAC','all')\n",
    "\n",
    "results_path <- file.path('results','figures','supp_bulk')"
   ]
  },
  {
   "cell_type": "code",
   "execution_count": 9,
   "id": "1cd489b3",
   "metadata": {},
   "outputs": [],
   "source": [
    "# make directories if not exist\n",
    "dir.create(results_path, showWarnings = FALSE, recursive = TRUE)"
   ]
  },
  {
   "cell_type": "markdown",
   "id": "adf2fab0",
   "metadata": {},
   "source": [
    "# Load annotations"
   ]
  },
  {
   "cell_type": "code",
   "execution_count": 10,
   "id": "8bc1f965",
   "metadata": {},
   "outputs": [
    {
     "data": {
      "text/html": [
       "<style>\n",
       ".list-inline {list-style: none; margin:0; padding: 0}\n",
       ".list-inline>li {display: inline-block}\n",
       ".list-inline>li:not(:last-child)::after {content: \"\\00b7\"; padding: 0 .5ex}\n",
       "</style>\n",
       "<ol class=list-inline><li>66</li><li>10</li></ol>\n"
      ],
      "text/latex": [
       "\\begin{enumerate*}\n",
       "\\item 66\n",
       "\\item 10\n",
       "\\end{enumerate*}\n"
      ],
      "text/markdown": [
       "1. 66\n",
       "2. 10\n",
       "\n",
       "\n"
      ],
      "text/plain": [
       "[1] 66 10"
      ]
     },
     "metadata": {},
     "output_type": "display_data"
    },
    {
     "data": {
      "text/html": [
       "<table class=\"dataframe\">\n",
       "<caption>A data.frame: 6 × 10</caption>\n",
       "<thead>\n",
       "\t<tr><th></th><th scope=col>library</th><th scope=col>timepoint.after.thawing</th><th scope=col>cell_line</th><th scope=col>Treatment</th><th scope=col>Treatment_time</th><th scope=col>mouse_pool</th><th scope=col>sex</th><th scope=col>organism</th><th scope=col>bio.replicate</th><th scope=col>experiment_id</th></tr>\n",
       "\t<tr><th></th><th scope=col>&lt;chr&gt;</th><th scope=col>&lt;chr&gt;</th><th scope=col>&lt;chr&gt;</th><th scope=col>&lt;chr&gt;</th><th scope=col>&lt;chr&gt;</th><th scope=col>&lt;chr&gt;</th><th scope=col>&lt;chr&gt;</th><th scope=col>&lt;chr&gt;</th><th scope=col>&lt;chr&gt;</th><th scope=col>&lt;chr&gt;</th></tr>\n",
       "</thead>\n",
       "<tbody>\n",
       "\t<tr><th scope=row>RNA_PT76_R1_C_albicans_2h</th><td>Quant-seq</td><td>d010</td><td>BMDM</td><td>C_albicans</td><td>2h </td><td>PT62_c</td><td>female</td><td>mouse</td><td>R1</td><td>PT76</td></tr>\n",
       "\t<tr><th scope=row>RNA_PT82_R1_C_albicans_24h</th><td>Quant-seq</td><td>d010</td><td>BMDM</td><td>C_albicans</td><td>24h</td><td>PT62_c</td><td>female</td><td>mouse</td><td>R1</td><td>PT82</td></tr>\n",
       "\t<tr><th scope=row>RNA_PT76_R1_C_albicans_4h</th><td>Quant-seq</td><td>d010</td><td>BMDM</td><td>C_albicans</td><td>4h </td><td>PT62_c</td><td>female</td><td>mouse</td><td>R1</td><td>PT76</td></tr>\n",
       "\t<tr><th scope=row>RNA_PT76_R1_C_albicans_6h</th><td>Quant-seq</td><td>d010</td><td>BMDM</td><td>C_albicans</td><td>6h </td><td>PT62_c</td><td>female</td><td>mouse</td><td>R1</td><td>PT76</td></tr>\n",
       "\t<tr><th scope=row>RNA_PT82_R1_C_albicans_8h</th><td>Quant-seq</td><td>d010</td><td>BMDM</td><td>C_albicans</td><td>8h </td><td>PT62_c</td><td>female</td><td>mouse</td><td>R1</td><td>PT82</td></tr>\n",
       "\t<tr><th scope=row>RNA_PT76_R1_untreated_0h</th><td>Quant-seq</td><td>d010</td><td>BMDM</td><td>untreated </td><td>0h </td><td>PT62_c</td><td>female</td><td>mouse</td><td>R1</td><td>PT76</td></tr>\n",
       "</tbody>\n",
       "</table>\n"
      ],
      "text/latex": [
       "A data.frame: 6 × 10\n",
       "\\begin{tabular}{r|llllllllll}\n",
       "  & library & timepoint.after.thawing & cell\\_line & Treatment & Treatment\\_time & mouse\\_pool & sex & organism & bio.replicate & experiment\\_id\\\\\n",
       "  & <chr> & <chr> & <chr> & <chr> & <chr> & <chr> & <chr> & <chr> & <chr> & <chr>\\\\\n",
       "\\hline\n",
       "\tRNA\\_PT76\\_R1\\_C\\_albicans\\_2h & Quant-seq & d010 & BMDM & C\\_albicans & 2h  & PT62\\_c & female & mouse & R1 & PT76\\\\\n",
       "\tRNA\\_PT82\\_R1\\_C\\_albicans\\_24h & Quant-seq & d010 & BMDM & C\\_albicans & 24h & PT62\\_c & female & mouse & R1 & PT82\\\\\n",
       "\tRNA\\_PT76\\_R1\\_C\\_albicans\\_4h & Quant-seq & d010 & BMDM & C\\_albicans & 4h  & PT62\\_c & female & mouse & R1 & PT76\\\\\n",
       "\tRNA\\_PT76\\_R1\\_C\\_albicans\\_6h & Quant-seq & d010 & BMDM & C\\_albicans & 6h  & PT62\\_c & female & mouse & R1 & PT76\\\\\n",
       "\tRNA\\_PT82\\_R1\\_C\\_albicans\\_8h & Quant-seq & d010 & BMDM & C\\_albicans & 8h  & PT62\\_c & female & mouse & R1 & PT82\\\\\n",
       "\tRNA\\_PT76\\_R1\\_untreated\\_0h & Quant-seq & d010 & BMDM & untreated  & 0h  & PT62\\_c & female & mouse & R1 & PT76\\\\\n",
       "\\end{tabular}\n"
      ],
      "text/markdown": [
       "\n",
       "A data.frame: 6 × 10\n",
       "\n",
       "| <!--/--> | library &lt;chr&gt; | timepoint.after.thawing &lt;chr&gt; | cell_line &lt;chr&gt; | Treatment &lt;chr&gt; | Treatment_time &lt;chr&gt; | mouse_pool &lt;chr&gt; | sex &lt;chr&gt; | organism &lt;chr&gt; | bio.replicate &lt;chr&gt; | experiment_id &lt;chr&gt; |\n",
       "|---|---|---|---|---|---|---|---|---|---|---|\n",
       "| RNA_PT76_R1_C_albicans_2h | Quant-seq | d010 | BMDM | C_albicans | 2h  | PT62_c | female | mouse | R1 | PT76 |\n",
       "| RNA_PT82_R1_C_albicans_24h | Quant-seq | d010 | BMDM | C_albicans | 24h | PT62_c | female | mouse | R1 | PT82 |\n",
       "| RNA_PT76_R1_C_albicans_4h | Quant-seq | d010 | BMDM | C_albicans | 4h  | PT62_c | female | mouse | R1 | PT76 |\n",
       "| RNA_PT76_R1_C_albicans_6h | Quant-seq | d010 | BMDM | C_albicans | 6h  | PT62_c | female | mouse | R1 | PT76 |\n",
       "| RNA_PT82_R1_C_albicans_8h | Quant-seq | d010 | BMDM | C_albicans | 8h  | PT62_c | female | mouse | R1 | PT82 |\n",
       "| RNA_PT76_R1_untreated_0h | Quant-seq | d010 | BMDM | untreated  | 0h  | PT62_c | female | mouse | R1 | PT76 |\n",
       "\n"
      ],
      "text/plain": [
       "                           library   timepoint.after.thawing cell_line\n",
       "RNA_PT76_R1_C_albicans_2h  Quant-seq d010                    BMDM     \n",
       "RNA_PT82_R1_C_albicans_24h Quant-seq d010                    BMDM     \n",
       "RNA_PT76_R1_C_albicans_4h  Quant-seq d010                    BMDM     \n",
       "RNA_PT76_R1_C_albicans_6h  Quant-seq d010                    BMDM     \n",
       "RNA_PT82_R1_C_albicans_8h  Quant-seq d010                    BMDM     \n",
       "RNA_PT76_R1_untreated_0h   Quant-seq d010                    BMDM     \n",
       "                           Treatment  Treatment_time mouse_pool sex    organism\n",
       "RNA_PT76_R1_C_albicans_2h  C_albicans 2h             PT62_c     female mouse   \n",
       "RNA_PT82_R1_C_albicans_24h C_albicans 24h            PT62_c     female mouse   \n",
       "RNA_PT76_R1_C_albicans_4h  C_albicans 4h             PT62_c     female mouse   \n",
       "RNA_PT76_R1_C_albicans_6h  C_albicans 6h             PT62_c     female mouse   \n",
       "RNA_PT82_R1_C_albicans_8h  C_albicans 8h             PT62_c     female mouse   \n",
       "RNA_PT76_R1_untreated_0h   untreated  0h             PT62_c     female mouse   \n",
       "                           bio.replicate experiment_id\n",
       "RNA_PT76_R1_C_albicans_2h  R1            PT76         \n",
       "RNA_PT82_R1_C_albicans_24h R1            PT82         \n",
       "RNA_PT76_R1_C_albicans_4h  R1            PT76         \n",
       "RNA_PT76_R1_C_albicans_6h  R1            PT76         \n",
       "RNA_PT82_R1_C_albicans_8h  R1            PT82         \n",
       "RNA_PT76_R1_untreated_0h   R1            PT76         "
      ]
     },
     "metadata": {},
     "output_type": "display_data"
    }
   ],
   "source": [
    "# load RNA annotations\n",
    "RNA_annot <- read.csv(file=file.path('metadata','RNA_sample_metadata.csv'), row.names=1)\n",
    "dim(RNA_annot)\n",
    "head(RNA_annot)"
   ]
  },
  {
   "cell_type": "code",
   "execution_count": 11,
   "id": "9abe6e5b",
   "metadata": {},
   "outputs": [],
   "source": [
    "RNA_annot[RNA_annot$Treatment=='untreated','Treatment_time'] <- '0h'"
   ]
  },
  {
   "cell_type": "code",
   "execution_count": 12,
   "id": "9725794e",
   "metadata": {},
   "outputs": [
    {
     "data": {
      "text/html": [
       "<style>\n",
       ".list-inline {list-style: none; margin:0; padding: 0}\n",
       ".list-inline>li {display: inline-block}\n",
       ".list-inline>li:not(:last-child)::after {content: \"\\00b7\"; padding: 0 .5ex}\n",
       "</style>\n",
       "<ol class=list-inline><li>78</li><li>10</li></ol>\n"
      ],
      "text/latex": [
       "\\begin{enumerate*}\n",
       "\\item 78\n",
       "\\item 10\n",
       "\\end{enumerate*}\n"
      ],
      "text/markdown": [
       "1. 78\n",
       "2. 10\n",
       "\n",
       "\n"
      ],
      "text/plain": [
       "[1] 78 10"
      ]
     },
     "metadata": {},
     "output_type": "display_data"
    },
    {
     "data": {
      "text/html": [
       "<table class=\"dataframe\">\n",
       "<caption>A data.frame: 6 × 10</caption>\n",
       "<thead>\n",
       "\t<tr><th></th><th scope=col>library</th><th scope=col>timepoint.after.thawing</th><th scope=col>cell_line</th><th scope=col>Treatment</th><th scope=col>Treatment_time</th><th scope=col>mouse_pool</th><th scope=col>sex</th><th scope=col>bio.replicate</th><th scope=col>organism</th><th scope=col>experiment_id</th></tr>\n",
       "\t<tr><th></th><th scope=col>&lt;chr&gt;</th><th scope=col>&lt;chr&gt;</th><th scope=col>&lt;chr&gt;</th><th scope=col>&lt;chr&gt;</th><th scope=col>&lt;chr&gt;</th><th scope=col>&lt;chr&gt;</th><th scope=col>&lt;chr&gt;</th><th scope=col>&lt;chr&gt;</th><th scope=col>&lt;chr&gt;</th><th scope=col>&lt;chr&gt;</th></tr>\n",
       "</thead>\n",
       "<tbody>\n",
       "\t<tr><th scope=row>PT76_R1_C_albicans_2h</th><td>ATAC-seq</td><td>d010</td><td>BMDM</td><td>C_albicans</td><td>2h</td><td>PT62_c</td><td>female</td><td>R1</td><td>mouse</td><td>PT76</td></tr>\n",
       "\t<tr><th scope=row>PT76_R1_C_albicans_4h</th><td>ATAC-seq</td><td>d010</td><td>BMDM</td><td>C_albicans</td><td>4h</td><td>PT62_c</td><td>female</td><td>R1</td><td>mouse</td><td>PT76</td></tr>\n",
       "\t<tr><th scope=row>PT76_R1_C_albicans_6h</th><td>ATAC-seq</td><td>d010</td><td>BMDM</td><td>C_albicans</td><td>6h</td><td>PT62_c</td><td>female</td><td>R1</td><td>mouse</td><td>PT76</td></tr>\n",
       "\t<tr><th scope=row>PT76_R1_C_albicans_8h</th><td>ATAC-seq</td><td>d010</td><td>BMDM</td><td>C_albicans</td><td>8h</td><td>PT62_c</td><td>female</td><td>R1</td><td>mouse</td><td>PT76</td></tr>\n",
       "\t<tr><th scope=row>PT76_R1_untreated_0h</th><td>ATAC-seq</td><td>d010</td><td>BMDM</td><td>untreated </td><td>0h</td><td>PT62_c</td><td>female</td><td>R1</td><td>mouse</td><td>PT76</td></tr>\n",
       "\t<tr><th scope=row>PT76_R1_IFN_beta_2h</th><td>ATAC-seq</td><td>d010</td><td>BMDM</td><td>IFN_beta  </td><td>2h</td><td>PT62_c</td><td>female</td><td>R1</td><td>mouse</td><td>PT76</td></tr>\n",
       "</tbody>\n",
       "</table>\n"
      ],
      "text/latex": [
       "A data.frame: 6 × 10\n",
       "\\begin{tabular}{r|llllllllll}\n",
       "  & library & timepoint.after.thawing & cell\\_line & Treatment & Treatment\\_time & mouse\\_pool & sex & bio.replicate & organism & experiment\\_id\\\\\n",
       "  & <chr> & <chr> & <chr> & <chr> & <chr> & <chr> & <chr> & <chr> & <chr> & <chr>\\\\\n",
       "\\hline\n",
       "\tPT76\\_R1\\_C\\_albicans\\_2h & ATAC-seq & d010 & BMDM & C\\_albicans & 2h & PT62\\_c & female & R1 & mouse & PT76\\\\\n",
       "\tPT76\\_R1\\_C\\_albicans\\_4h & ATAC-seq & d010 & BMDM & C\\_albicans & 4h & PT62\\_c & female & R1 & mouse & PT76\\\\\n",
       "\tPT76\\_R1\\_C\\_albicans\\_6h & ATAC-seq & d010 & BMDM & C\\_albicans & 6h & PT62\\_c & female & R1 & mouse & PT76\\\\\n",
       "\tPT76\\_R1\\_C\\_albicans\\_8h & ATAC-seq & d010 & BMDM & C\\_albicans & 8h & PT62\\_c & female & R1 & mouse & PT76\\\\\n",
       "\tPT76\\_R1\\_untreated\\_0h & ATAC-seq & d010 & BMDM & untreated  & 0h & PT62\\_c & female & R1 & mouse & PT76\\\\\n",
       "\tPT76\\_R1\\_IFN\\_beta\\_2h & ATAC-seq & d010 & BMDM & IFN\\_beta   & 2h & PT62\\_c & female & R1 & mouse & PT76\\\\\n",
       "\\end{tabular}\n"
      ],
      "text/markdown": [
       "\n",
       "A data.frame: 6 × 10\n",
       "\n",
       "| <!--/--> | library &lt;chr&gt; | timepoint.after.thawing &lt;chr&gt; | cell_line &lt;chr&gt; | Treatment &lt;chr&gt; | Treatment_time &lt;chr&gt; | mouse_pool &lt;chr&gt; | sex &lt;chr&gt; | bio.replicate &lt;chr&gt; | organism &lt;chr&gt; | experiment_id &lt;chr&gt; |\n",
       "|---|---|---|---|---|---|---|---|---|---|---|\n",
       "| PT76_R1_C_albicans_2h | ATAC-seq | d010 | BMDM | C_albicans | 2h | PT62_c | female | R1 | mouse | PT76 |\n",
       "| PT76_R1_C_albicans_4h | ATAC-seq | d010 | BMDM | C_albicans | 4h | PT62_c | female | R1 | mouse | PT76 |\n",
       "| PT76_R1_C_albicans_6h | ATAC-seq | d010 | BMDM | C_albicans | 6h | PT62_c | female | R1 | mouse | PT76 |\n",
       "| PT76_R1_C_albicans_8h | ATAC-seq | d010 | BMDM | C_albicans | 8h | PT62_c | female | R1 | mouse | PT76 |\n",
       "| PT76_R1_untreated_0h | ATAC-seq | d010 | BMDM | untreated  | 0h | PT62_c | female | R1 | mouse | PT76 |\n",
       "| PT76_R1_IFN_beta_2h | ATAC-seq | d010 | BMDM | IFN_beta   | 2h | PT62_c | female | R1 | mouse | PT76 |\n",
       "\n"
      ],
      "text/plain": [
       "                      library  timepoint.after.thawing cell_line Treatment \n",
       "PT76_R1_C_albicans_2h ATAC-seq d010                    BMDM      C_albicans\n",
       "PT76_R1_C_albicans_4h ATAC-seq d010                    BMDM      C_albicans\n",
       "PT76_R1_C_albicans_6h ATAC-seq d010                    BMDM      C_albicans\n",
       "PT76_R1_C_albicans_8h ATAC-seq d010                    BMDM      C_albicans\n",
       "PT76_R1_untreated_0h  ATAC-seq d010                    BMDM      untreated \n",
       "PT76_R1_IFN_beta_2h   ATAC-seq d010                    BMDM      IFN_beta  \n",
       "                      Treatment_time mouse_pool sex    bio.replicate organism\n",
       "PT76_R1_C_albicans_2h 2h             PT62_c     female R1            mouse   \n",
       "PT76_R1_C_albicans_4h 4h             PT62_c     female R1            mouse   \n",
       "PT76_R1_C_albicans_6h 6h             PT62_c     female R1            mouse   \n",
       "PT76_R1_C_albicans_8h 8h             PT62_c     female R1            mouse   \n",
       "PT76_R1_untreated_0h  0h             PT62_c     female R1            mouse   \n",
       "PT76_R1_IFN_beta_2h   2h             PT62_c     female R1            mouse   \n",
       "                      experiment_id\n",
       "PT76_R1_C_albicans_2h PT76         \n",
       "PT76_R1_C_albicans_4h PT76         \n",
       "PT76_R1_C_albicans_6h PT76         \n",
       "PT76_R1_C_albicans_8h PT76         \n",
       "PT76_R1_untreated_0h  PT76         \n",
       "PT76_R1_IFN_beta_2h   PT76         "
      ]
     },
     "metadata": {},
     "output_type": "display_data"
    }
   ],
   "source": [
    "# load ATAC annotations\n",
    "ATAC_annot <- read.csv(file=file.path('metadata','ATAC_sample_metadata.csv'), row.names=1)\n",
    "dim(ATAC_annot)\n",
    "head(ATAC_annot)"
   ]
  },
  {
   "cell_type": "code",
   "execution_count": 13,
   "id": "20a717d2",
   "metadata": {},
   "outputs": [],
   "source": [
    "ATAC_annot[ATAC_annot$Treatment=='untreated','Treatment_time'] <- '0h'"
   ]
  },
  {
   "cell_type": "markdown",
   "id": "1bb0da17",
   "metadata": {},
   "source": [
    "# Volcano Panel RNA DEA results"
   ]
  },
  {
   "cell_type": "code",
   "execution_count": 14,
   "id": "8563f261",
   "metadata": {},
   "outputs": [],
   "source": [
    "pCutoff <- 0.05\n",
    "FCcutoff <- 2"
   ]
  },
  {
   "cell_type": "code",
   "execution_count": 15,
   "id": "6a167d06",
   "metadata": {},
   "outputs": [],
   "source": [
    "# plot specifications\n",
    "n_col <- 5\n",
    "width <- 3\n",
    "height <- 3\n",
    "width_panel <- n_col * width\n",
    "height_panel <- height * 25/n_col"
   ]
  },
  {
   "cell_type": "code",
   "execution_count": 18,
   "id": "04fe05af",
   "metadata": {},
   "outputs": [],
   "source": [
    "volcano_plots <- list()\n",
    "for (treatment in unique(RNA_annot$Treatment)){\n",
    "    if (treatment=='untreated'){\n",
    "        next\n",
    "    }\n",
    "    \n",
    "    tmp_dea <- read.csv(file=file.path(data_RNA,'DEA',paste0('DEA_',treatment,'.tsv')), sep='\\t')\n",
    "\n",
    "    for (group in (sort(unique(tmp_dea$group))[c(2,3,4,5,1)])){\n",
    "        toptable <- tmp_dea[tmp_dea$group==group,]\n",
    "        lab <- '' #toptable$rn\n",
    "        x <- \"logFC\"\n",
    "        y <- \"adj.P.Val\"\n",
    "\n",
    "        volcano_plots[[group]] <- EnhancedVolcano(toptable = toptable,\n",
    "                        lab = lab,\n",
    "                        x = x,\n",
    "                        y = y,\n",
    "                        selectLab = NULL,\n",
    "                        xlim = c(min(toptable[[x]], na.rm = TRUE) - 1, max(toptable[[x]], na.rm = TRUE) + 1),\n",
    "                        ylim = c(0, max(-log10(toptable[[y]]), na.rm = TRUE) + 5),\n",
    "                        xlab = bquote(~log[2] ~ \"fold change\"),\n",
    "                        ylab = bquote(~-log[10] ~ \"adjusted p-value\"),\n",
    "                        axisLabSize = 12,\n",
    "                        title = treatment_format(group),\n",
    "                        subtitle = '',\n",
    "                        caption = paste0(\"variables:\",nrow(toptable),\"; log2FC>\",FCcutoff,\"; adj.p-val<\",pCutoff),\n",
    "                        titleLabSize = 14,\n",
    "                        subtitleLabSize = 0,\n",
    "                        captionLabSize = 6,\n",
    "                        pCutoff = pCutoff, #default: 0.05\n",
    "                        pCutoffCol = y,\n",
    "                        FCcutoff = FCcutoff, # default:1\n",
    "                        cutoffLineType = \"longdash\",\n",
    "                        cutoffLineCol = \"black\",\n",
    "                        cutoffLineWidth = 0.4,\n",
    "                        pointSize = 0.25, # default: 2\n",
    "                        labSize = 3, #default: 5\n",
    "                        labCol = \"black\",\n",
    "                        labFace = \"plain\",\n",
    "                        boxedLabels = TRUE, #default: FALSE\n",
    "                        parseLabels = FALSE,\n",
    "                        shape = 19,\n",
    "                        shapeCustom = NULL,\n",
    "                        col = c(\"grey30\", \"forestgreen\", \"royalblue\", \"red2\"),\n",
    "                        colCustom = NULL,\n",
    "                        colAlpha = 1/2,\n",
    "                        colGradient = NULL,\n",
    "                        colGradientBreaks = c(pCutoff, 1),\n",
    "                        colGradientLabels = c(\"0\", \"1.0\"),\n",
    "                        colGradientLimits = c(0, 1),\n",
    "                        legendLabels = c(\"NS\", expression(log[2] ~ FC), \"adj. p-value\", 'both'),\n",
    "                        legendPosition = \"right\", #default: \"top\"\n",
    "                        legendLabSize = 14,\n",
    "                        legendIconSize = 4,\n",
    "                        legendDropLevels = TRUE,\n",
    "                        encircle = NULL,\n",
    "                        encircleCol = \"black\",\n",
    "                        encircleFill = \"pink\",\n",
    "                        encircleAlpha = 3/4,\n",
    "                        encircleSize = 2.5,\n",
    "                        shade = NULL,\n",
    "                        shadeFill = \"grey\",\n",
    "                        shadeAlpha = 1/2,\n",
    "                        shadeSize = 0.01,\n",
    "                        shadeBins = 2,\n",
    "                        drawConnectors = TRUE, #default: FALSE\n",
    "                        widthConnectors = 0.1, # default: 0.5\n",
    "                        typeConnectors = \"closed\",\n",
    "                        endsConnectors = \"first\",\n",
    "                        lengthConnectors = unit(0.01, \"npc\"),\n",
    "                        colConnectors = \"grey10\",\n",
    "                        max.overlaps = 0,\n",
    "                        maxoverlapsConnectors = 10, # default: NULL\n",
    "                        min.segment.length = 0,\n",
    "                        directionConnectors = \"both\",\n",
    "                        arrowheads = FALSE, # default: TRUE\n",
    "                        hline = NULL,\n",
    "                        hlineType = \"longdash\",\n",
    "                        hlineCol = \"black\",\n",
    "                        hlineWidth = 0.4,\n",
    "                        vline = NULL,\n",
    "                        vlineType = \"longdash\",\n",
    "                        vlineCol = \"black\",\n",
    "                        vlineWidth = 0.4,\n",
    "                        gridlines.major = TRUE,\n",
    "                        gridlines.minor = TRUE,\n",
    "                        border = \"partial\",\n",
    "                        borderWidth = 0.8,\n",
    "                        borderColour = \"black\",\n",
    "                        raster = FALSE\n",
    "                       ) + macro_theme() + theme(legend.title = element_blank())\n",
    "\n",
    "    }\n",
    "}"
   ]
  },
  {
   "cell_type": "code",
   "execution_count": 19,
   "id": "afa48be9",
   "metadata": {},
   "outputs": [],
   "source": [
    "volcano_plots_panel <- wrap_plots(volcano_plots, ncol = n_col, guides = \"collect\")"
   ]
  },
  {
   "cell_type": "code",
   "execution_count": 20,
   "id": "688215d6",
   "metadata": {},
   "outputs": [],
   "source": [
    "# save plot\n",
    "options(repr.plot.width=width_panel, repr.plot.height=height_panel)\n",
    "# print(volcano_plots_panel)\n",
    "\n",
    "ggsave_new(filename = \"RNA_DEA_volcanos\", \n",
    "           results_path=results_path, \n",
    "           plot=volcano_plots_panel, \n",
    "           width=width_panel, \n",
    "           height=height_panel)"
   ]
  },
  {
   "cell_type": "markdown",
   "id": "44980471",
   "metadata": {},
   "source": [
    "# Volcano Panel ATAC DEA results"
   ]
  },
  {
   "cell_type": "code",
   "execution_count": 21,
   "id": "68f71cbc",
   "metadata": {},
   "outputs": [],
   "source": [
    "pCutoff <- 0.05\n",
    "FCcutoff <- 2"
   ]
  },
  {
   "cell_type": "code",
   "execution_count": 22,
   "id": "bce432f1",
   "metadata": {},
   "outputs": [],
   "source": [
    "# plot specifications\n",
    "n_col <- 5\n",
    "width <- 3\n",
    "height <- 3\n",
    "width_panel <- n_col * width\n",
    "height_panel <- height * 25/n_col"
   ]
  },
  {
   "cell_type": "code",
   "execution_count": 24,
   "id": "ecb285af",
   "metadata": {},
   "outputs": [],
   "source": [
    "volcano_plots <- list()\n",
    "for (treatment in unique(ATAC_annot$Treatment)){\n",
    "    if (treatment=='untreated'){\n",
    "        next\n",
    "    }\n",
    "    \n",
    "    tmp_dea <- read.csv(file=file.path(data_ATAC,'DEA',paste0('DEA_',treatment,'.tsv')), sep='\\t')\n",
    "\n",
    "    for (group in (sort(unique(tmp_dea$group))[c(2,3,4,5,1)])){\n",
    "        toptable <- tmp_dea[tmp_dea$group==group,]\n",
    "        lab <- '' #toptable$rn\n",
    "        x <- \"logFC\"\n",
    "        y <- \"adj.P.Val\"\n",
    "\n",
    "        volcano_plots[[group]] <- EnhancedVolcano(toptable = toptable,\n",
    "                        lab = lab,\n",
    "                        x = x,\n",
    "                        y = y,\n",
    "                        selectLab = NULL,\n",
    "                        xlim = c(min(toptable[[x]], na.rm = TRUE) - 1, max(toptable[[x]], na.rm = TRUE) + 1),\n",
    "                        ylim = c(0, max(-log10(toptable[[y]]), na.rm = TRUE) + 5),\n",
    "                        xlab = bquote(~log[2] ~ \"fold change\"),\n",
    "                        ylab = bquote(~-log[10] ~ \"adjusted p-value\"),\n",
    "                        axisLabSize = 12,\n",
    "                        title = treatment_format(group),\n",
    "                        subtitle = '',\n",
    "                        caption = paste0(\"variables:\",nrow(toptable),\"; log2FC>\",FCcutoff,\"; adj.p-val<\",pCutoff),\n",
    "                        titleLabSize = 14,\n",
    "                        subtitleLabSize = 0,\n",
    "                        captionLabSize = 6,\n",
    "                        pCutoff = pCutoff, #default: 0.05\n",
    "                        pCutoffCol = y,\n",
    "                        FCcutoff = FCcutoff, # default:1\n",
    "                        cutoffLineType = \"longdash\",\n",
    "                        cutoffLineCol = \"black\",\n",
    "                        cutoffLineWidth = 0.4,\n",
    "                        pointSize = 0.1, # default: 2\n",
    "                        labSize = 3, #default: 5\n",
    "                        labCol = \"black\",\n",
    "                        labFace = \"plain\",\n",
    "                        boxedLabels = TRUE, #default: FALSE\n",
    "                        parseLabels = FALSE,\n",
    "                        shape = 19,\n",
    "                        shapeCustom = NULL,\n",
    "                        col = c(\"grey30\", \"forestgreen\", \"royalblue\", \"red2\"),\n",
    "                        colCustom = NULL,\n",
    "                        colAlpha = 1/2,\n",
    "                        colGradient = NULL,\n",
    "                        colGradientBreaks = c(pCutoff, 1),\n",
    "                        colGradientLabels = c(\"0\", \"1.0\"),\n",
    "                        colGradientLimits = c(0, 1),\n",
    "                        legendLabels = c(\"NS\", expression(log[2] ~ FC), \"adj. p-value\", 'both'),\n",
    "                        legendPosition = \"right\", #default: \"top\"\n",
    "                        legendLabSize = 14,\n",
    "                        legendIconSize = 4,\n",
    "                        legendDropLevels = TRUE,\n",
    "                        encircle = NULL,\n",
    "                        encircleCol = \"black\",\n",
    "                        encircleFill = \"pink\",\n",
    "                        encircleAlpha = 3/4,\n",
    "                        encircleSize = 2.5,\n",
    "                        shade = NULL,\n",
    "                        shadeFill = \"grey\",\n",
    "                        shadeAlpha = 1/2,\n",
    "                        shadeSize = 0.01,\n",
    "                        shadeBins = 2,\n",
    "                        drawConnectors = TRUE, #default: FALSE\n",
    "                        widthConnectors = 0.1, # default: 0.5\n",
    "                        typeConnectors = \"closed\",\n",
    "                        endsConnectors = \"first\",\n",
    "                        lengthConnectors = unit(0.01, \"npc\"),\n",
    "                        colConnectors = \"grey10\",\n",
    "                        max.overlaps = 0,\n",
    "                        maxoverlapsConnectors = 10, # default: NULL\n",
    "                        min.segment.length = 0,\n",
    "                        directionConnectors = \"both\",\n",
    "                        arrowheads = FALSE, # default: TRUE\n",
    "                        hline = NULL,\n",
    "                        hlineType = \"longdash\",\n",
    "                        hlineCol = \"black\",\n",
    "                        hlineWidth = 0.4,\n",
    "                        vline = NULL,\n",
    "                        vlineType = \"longdash\",\n",
    "                        vlineCol = \"black\",\n",
    "                        vlineWidth = 0.4,\n",
    "                        gridlines.major = TRUE,\n",
    "                        gridlines.minor = TRUE,\n",
    "                        border = \"partial\",\n",
    "                        borderWidth = 0.8,\n",
    "                        borderColour = \"black\",\n",
    "                        raster = FALSE\n",
    "                       ) + macro_theme() + theme(legend.title = element_blank())\n",
    "\n",
    "    }\n",
    "}"
   ]
  },
  {
   "cell_type": "code",
   "execution_count": 25,
   "id": "d5351c1e",
   "metadata": {},
   "outputs": [],
   "source": [
    "volcano_plots_panel <- wrap_plots(volcano_plots, ncol = n_col, guides = \"collect\")"
   ]
  },
  {
   "cell_type": "code",
   "execution_count": null,
   "id": "7c3aaadd",
   "metadata": {
    "scrolled": true
   },
   "outputs": [],
   "source": [
    "# save plot\n",
    "\n",
    "# only png, bc too many points (svg > 500MB)\n",
    "format <- 'png'\n",
    "ggsave(\n",
    "          paste0(\"ATAC_DEA_volcanos\",'.',format),\n",
    "          plot = volcano_plots_panel,\n",
    "          device = format,\n",
    "          path = file.path(results_path),\n",
    "          scale = 1,\n",
    "          dpi = 300,\n",
    "            width = width_panel,\n",
    "            height = height_panel,\n",
    "          limitsize = FALSE,\n",
    "        )"
   ]
  },
  {
   "cell_type": "code",
   "execution_count": null,
   "id": "797b5edc",
   "metadata": {},
   "outputs": [],
   "source": []
  }
 ],
 "metadata": {
  "kernelspec": {
   "display_name": "R_enhancedVolcano",
   "language": "R",
   "name": "r_enhancedvolcano"
  },
  "language_info": {
   "codemirror_mode": "r",
   "file_extension": ".r",
   "mimetype": "text/x-r-source",
   "name": "R",
   "pygments_lexer": "r",
   "version": "4.1.2"
  }
 },
 "nbformat": 4,
 "nbformat_minor": 5
}
