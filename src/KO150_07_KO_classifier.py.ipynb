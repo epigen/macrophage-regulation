{
 "cells": [
  {
   "cell_type": "markdown",
   "id": "4485c989",
   "metadata": {},
   "source": [
    "# CROP-seq KO150 - KO cross-prediction to generate similarity graph"
   ]
  },
  {
   "cell_type": "code",
   "execution_count": 1,
   "id": "bdf039c2",
   "metadata": {},
   "outputs": [
    {
     "name": "stdout",
     "output_type": "stream",
     "text": [
      "/home/sreichl/projects/bmdm-stim\n"
     ]
    }
   ],
   "source": [
    "cd ../"
   ]
  },
  {
   "cell_type": "code",
   "execution_count": 2,
   "id": "47b5d397",
   "metadata": {},
   "outputs": [],
   "source": [
    "# libraries\n",
    "# general\n",
    "import os\n",
    "import pandas as pd\n",
    "import numpy as np\n",
    "from itertools import compress\n",
    "import pickle\n",
    "\n",
    "# visualization\n",
    "import seaborn as sns\n",
    "import matplotlib.pyplot as plt\n",
    "\n",
    "\n",
    "# for classification\n",
    "import sklearn\n",
    "from sklearn.linear_model import LogisticRegression\n",
    "from sklearn.linear_model import LogisticRegressionCV\n",
    "from sklearn.ensemble import RandomForestClassifier\n",
    "\n",
    "# for lineage graph\n",
    "import igraph as ig"
   ]
  },
  {
   "cell_type": "code",
   "execution_count": 3,
   "id": "5ae8aaec",
   "metadata": {},
   "outputs": [],
   "source": [
    "# configs\n",
    "dir_data = os.path.join('results','KO150')\n",
    "dir_results=os.path.join(dir_data,'KO_classifier')\n",
    "\n",
    "# cond = 'untreated'\n",
    "# cond = 'LO28-6h'\n",
    "# cond = 'LO28-24h'\n",
    "cond='all'\n",
    "\n",
    "dir_results = os.path.join(dir_results,cond)\n",
    "\n",
    "# classifier flag\n",
    "clf_label = 'LR'\n",
    "# clf_label = 'RF'\n",
    "\n",
    "# approach flag (counting or probabilities)\n",
    "conn_label = 'prob'\n",
    "# conn_label = 'count'\n",
    "\n",
    "# directed or undirected (symmetric) graph\n",
    "directed = True\n",
    "# directed = False"
   ]
  },
  {
   "cell_type": "code",
   "execution_count": 4,
   "id": "326c55d5",
   "metadata": {},
   "outputs": [],
   "source": [
    "if not os.path.exists(dir_results):\n",
    "        os.mkdir(dir_results)"
   ]
  },
  {
   "cell_type": "markdown",
   "id": "1cee6947",
   "metadata": {},
   "source": [
    "## Load & prepare data and metadata"
   ]
  },
  {
   "cell_type": "code",
   "execution_count": 5,
   "id": "04489244",
   "metadata": {
    "tags": []
   },
   "outputs": [
    {
     "name": "stdout",
     "output_type": "stream",
     "text": [
      "(2735, 28303)\n"
     ]
    },
    {
     "data": {
      "text/html": [
       "<div>\n",
       "<style scoped>\n",
       "    .dataframe tbody tr th:only-of-type {\n",
       "        vertical-align: middle;\n",
       "    }\n",
       "\n",
       "    .dataframe tbody tr th {\n",
       "        vertical-align: top;\n",
       "    }\n",
       "\n",
       "    .dataframe thead th {\n",
       "        text-align: right;\n",
       "    }\n",
       "</style>\n",
       "<table border=\"1\" class=\"dataframe\">\n",
       "  <thead>\n",
       "    <tr style=\"text-align: right;\">\n",
       "      <th></th>\n",
       "      <th>A1_AAACCTGAGAATCTCC-1</th>\n",
       "      <th>A1_AAACCTGAGCGATGAC-1</th>\n",
       "      <th>A1_AAACCTGAGTGCCAGA-1</th>\n",
       "      <th>A1_AAACCTGAGTGGAGAA-1</th>\n",
       "      <th>A1_AAACCTGAGTTTAGGA-1</th>\n",
       "      <th>A1_AAACCTGCACATTCGA-1</th>\n",
       "      <th>A1_AAACCTGCATGCTGGC-1</th>\n",
       "      <th>A1_AAACCTGGTAATTGGA-1</th>\n",
       "      <th>A1_AAACCTGGTAGGCATG-1</th>\n",
       "      <th>A1_AAACCTGGTATATCCG-1</th>\n",
       "      <th>...</th>\n",
       "      <th>C3_TTTGCGCTCAAACCGT-1</th>\n",
       "      <th>C3_TTTGCGCTCACCAGGC-1</th>\n",
       "      <th>C3_TTTGCGCTCCAGAAGG-1</th>\n",
       "      <th>C3_TTTGGTTAGCCGATTT-1</th>\n",
       "      <th>C3_TTTGGTTAGTGAAGAG-1</th>\n",
       "      <th>C3_TTTGGTTCACCGATAT-1</th>\n",
       "      <th>C3_TTTGGTTGTCAGATAA-1</th>\n",
       "      <th>C3_TTTGGTTGTCGCTTTC-1</th>\n",
       "      <th>C3_TTTGGTTGTTCCATGA-1</th>\n",
       "      <th>C3_TTTGTCATCGCCCTTA-1</th>\n",
       "    </tr>\n",
       "  </thead>\n",
       "  <tbody>\n",
       "    <tr>\n",
       "      <th>Saa3</th>\n",
       "      <td>0.055497</td>\n",
       "      <td>0.066633</td>\n",
       "      <td>0.044154</td>\n",
       "      <td>0.018713</td>\n",
       "      <td>0.069097</td>\n",
       "      <td>0.06236</td>\n",
       "      <td>0.099515</td>\n",
       "      <td>0.075316</td>\n",
       "      <td>0.136907</td>\n",
       "      <td>0.070422</td>\n",
       "      <td>...</td>\n",
       "      <td>-0.398294</td>\n",
       "      <td>1.486584</td>\n",
       "      <td>1.188525</td>\n",
       "      <td>1.194867</td>\n",
       "      <td>2.811732</td>\n",
       "      <td>1.760785</td>\n",
       "      <td>2.117486</td>\n",
       "      <td>0.590522</td>\n",
       "      <td>1.848690</td>\n",
       "      <td>1.478736</td>\n",
       "    </tr>\n",
       "    <tr>\n",
       "      <th>Cxcl3</th>\n",
       "      <td>0.000000</td>\n",
       "      <td>0.000000</td>\n",
       "      <td>0.000000</td>\n",
       "      <td>0.000000</td>\n",
       "      <td>0.000000</td>\n",
       "      <td>0.00000</td>\n",
       "      <td>0.000000</td>\n",
       "      <td>0.000000</td>\n",
       "      <td>0.000000</td>\n",
       "      <td>0.000000</td>\n",
       "      <td>...</td>\n",
       "      <td>0.046456</td>\n",
       "      <td>0.067339</td>\n",
       "      <td>0.122639</td>\n",
       "      <td>-0.451832</td>\n",
       "      <td>-0.748925</td>\n",
       "      <td>0.015083</td>\n",
       "      <td>0.035070</td>\n",
       "      <td>1.980204</td>\n",
       "      <td>0.620501</td>\n",
       "      <td>0.232576</td>\n",
       "    </tr>\n",
       "    <tr>\n",
       "      <th>S100a8</th>\n",
       "      <td>0.000000</td>\n",
       "      <td>0.000000</td>\n",
       "      <td>0.000000</td>\n",
       "      <td>0.000000</td>\n",
       "      <td>0.000000</td>\n",
       "      <td>0.00000</td>\n",
       "      <td>0.000000</td>\n",
       "      <td>0.000000</td>\n",
       "      <td>0.000000</td>\n",
       "      <td>0.000000</td>\n",
       "      <td>...</td>\n",
       "      <td>0.081128</td>\n",
       "      <td>0.139241</td>\n",
       "      <td>0.173401</td>\n",
       "      <td>1.684789</td>\n",
       "      <td>0.258586</td>\n",
       "      <td>0.148612</td>\n",
       "      <td>-3.013567</td>\n",
       "      <td>0.152865</td>\n",
       "      <td>0.742899</td>\n",
       "      <td>1.670336</td>\n",
       "    </tr>\n",
       "    <tr>\n",
       "      <th>Csf2</th>\n",
       "      <td>0.000000</td>\n",
       "      <td>0.021037</td>\n",
       "      <td>0.000000</td>\n",
       "      <td>0.000000</td>\n",
       "      <td>0.000000</td>\n",
       "      <td>0.00000</td>\n",
       "      <td>0.000000</td>\n",
       "      <td>0.000000</td>\n",
       "      <td>0.000000</td>\n",
       "      <td>0.000000</td>\n",
       "      <td>...</td>\n",
       "      <td>-0.804523</td>\n",
       "      <td>0.007499</td>\n",
       "      <td>0.037040</td>\n",
       "      <td>0.207940</td>\n",
       "      <td>0.396780</td>\n",
       "      <td>0.169305</td>\n",
       "      <td>0.295606</td>\n",
       "      <td>0.000000</td>\n",
       "      <td>0.000000</td>\n",
       "      <td>0.090550</td>\n",
       "    </tr>\n",
       "    <tr>\n",
       "      <th>Gm5483</th>\n",
       "      <td>0.000000</td>\n",
       "      <td>0.000000</td>\n",
       "      <td>0.000000</td>\n",
       "      <td>0.000000</td>\n",
       "      <td>0.000000</td>\n",
       "      <td>0.00000</td>\n",
       "      <td>0.000000</td>\n",
       "      <td>0.000000</td>\n",
       "      <td>0.000000</td>\n",
       "      <td>0.000000</td>\n",
       "      <td>...</td>\n",
       "      <td>0.499594</td>\n",
       "      <td>-0.022193</td>\n",
       "      <td>0.318807</td>\n",
       "      <td>0.698555</td>\n",
       "      <td>0.107833</td>\n",
       "      <td>0.435877</td>\n",
       "      <td>1.176207</td>\n",
       "      <td>0.294470</td>\n",
       "      <td>0.075272</td>\n",
       "      <td>0.496964</td>\n",
       "    </tr>\n",
       "  </tbody>\n",
       "</table>\n",
       "<p>5 rows × 28303 columns</p>\n",
       "</div>"
      ],
      "text/plain": [
       "        A1_AAACCTGAGAATCTCC-1  A1_AAACCTGAGCGATGAC-1  A1_AAACCTGAGTGCCAGA-1  \\\n",
       "Saa3                 0.055497               0.066633               0.044154   \n",
       "Cxcl3                0.000000               0.000000               0.000000   \n",
       "S100a8               0.000000               0.000000               0.000000   \n",
       "Csf2                 0.000000               0.021037               0.000000   \n",
       "Gm5483               0.000000               0.000000               0.000000   \n",
       "\n",
       "        A1_AAACCTGAGTGGAGAA-1  A1_AAACCTGAGTTTAGGA-1  A1_AAACCTGCACATTCGA-1  \\\n",
       "Saa3                 0.018713               0.069097                0.06236   \n",
       "Cxcl3                0.000000               0.000000                0.00000   \n",
       "S100a8               0.000000               0.000000                0.00000   \n",
       "Csf2                 0.000000               0.000000                0.00000   \n",
       "Gm5483               0.000000               0.000000                0.00000   \n",
       "\n",
       "        A1_AAACCTGCATGCTGGC-1  A1_AAACCTGGTAATTGGA-1  A1_AAACCTGGTAGGCATG-1  \\\n",
       "Saa3                 0.099515               0.075316               0.136907   \n",
       "Cxcl3                0.000000               0.000000               0.000000   \n",
       "S100a8               0.000000               0.000000               0.000000   \n",
       "Csf2                 0.000000               0.000000               0.000000   \n",
       "Gm5483               0.000000               0.000000               0.000000   \n",
       "\n",
       "        A1_AAACCTGGTATATCCG-1  ...  C3_TTTGCGCTCAAACCGT-1  \\\n",
       "Saa3                 0.070422  ...              -0.398294   \n",
       "Cxcl3                0.000000  ...               0.046456   \n",
       "S100a8               0.000000  ...               0.081128   \n",
       "Csf2                 0.000000  ...              -0.804523   \n",
       "Gm5483               0.000000  ...               0.499594   \n",
       "\n",
       "        C3_TTTGCGCTCACCAGGC-1  C3_TTTGCGCTCCAGAAGG-1  C3_TTTGGTTAGCCGATTT-1  \\\n",
       "Saa3                 1.486584               1.188525               1.194867   \n",
       "Cxcl3                0.067339               0.122639              -0.451832   \n",
       "S100a8               0.139241               0.173401               1.684789   \n",
       "Csf2                 0.007499               0.037040               0.207940   \n",
       "Gm5483              -0.022193               0.318807               0.698555   \n",
       "\n",
       "        C3_TTTGGTTAGTGAAGAG-1  C3_TTTGGTTCACCGATAT-1  C3_TTTGGTTGTCAGATAA-1  \\\n",
       "Saa3                 2.811732               1.760785               2.117486   \n",
       "Cxcl3               -0.748925               0.015083               0.035070   \n",
       "S100a8               0.258586               0.148612              -3.013567   \n",
       "Csf2                 0.396780               0.169305               0.295606   \n",
       "Gm5483               0.107833               0.435877               1.176207   \n",
       "\n",
       "        C3_TTTGGTTGTCGCTTTC-1  C3_TTTGGTTGTTCCATGA-1  C3_TTTGTCATCGCCCTTA-1  \n",
       "Saa3                 0.590522               1.848690               1.478736  \n",
       "Cxcl3                1.980204               0.620501               0.232576  \n",
       "S100a8               0.152865               0.742899               1.670336  \n",
       "Csf2                 0.000000               0.000000               0.090550  \n",
       "Gm5483               0.294470               0.075272               0.496964  \n",
       "\n",
       "[5 rows x 28303 columns]"
      ]
     },
     "execution_count": 5,
     "metadata": {},
     "output_type": "execute_result"
    }
   ],
   "source": [
    "# Load data\n",
    "data = pd.read_csv(os.path.join(dir_data,'mixscape',cond, \"KO150_mixscape_PRTB.csv\"), index_col=0, header=0,)\n",
    "# data.columns = data.columns.str.replace(\".\", \"-\")\n",
    "print(data.shape)\n",
    "data.head()"
   ]
  },
  {
   "cell_type": "code",
   "execution_count": 6,
   "id": "5076f498",
   "metadata": {},
   "outputs": [
    {
     "name": "stdout",
     "output_type": "stream",
     "text": [
      "(76344, 16)\n"
     ]
    },
    {
     "data": {
      "text/html": [
       "<div>\n",
       "<style scoped>\n",
       "    .dataframe tbody tr th:only-of-type {\n",
       "        vertical-align: middle;\n",
       "    }\n",
       "\n",
       "    .dataframe tbody tr th {\n",
       "        vertical-align: top;\n",
       "    }\n",
       "\n",
       "    .dataframe thead th {\n",
       "        text-align: right;\n",
       "    }\n",
       "</style>\n",
       "<table border=\"1\" class=\"dataframe\">\n",
       "  <thead>\n",
       "    <tr style=\"text-align: right;\">\n",
       "      <th></th>\n",
       "      <th>orig.ident</th>\n",
       "      <th>nCount_RNA</th>\n",
       "      <th>nFeature_RNA</th>\n",
       "      <th>nCount_AB</th>\n",
       "      <th>nFeature_AB</th>\n",
       "      <th>nCount_gRNA</th>\n",
       "      <th>nFeature_gRNA</th>\n",
       "      <th>nCount_HTO</th>\n",
       "      <th>nFeature_HTO</th>\n",
       "      <th>hto_demux</th>\n",
       "      <th>pass_QC</th>\n",
       "      <th>batch</th>\n",
       "      <th>percent.mt</th>\n",
       "      <th>guide_call</th>\n",
       "      <th>KO_call</th>\n",
       "      <th>condition</th>\n",
       "    </tr>\n",
       "  </thead>\n",
       "  <tbody>\n",
       "    <tr>\n",
       "      <th>A1_AAACCTGAGAATCTCC-1</th>\n",
       "      <td>PT149_5_A1_transcriptome</td>\n",
       "      <td>17884</td>\n",
       "      <td>4442</td>\n",
       "      <td>987</td>\n",
       "      <td>9</td>\n",
       "      <td>358</td>\n",
       "      <td>51</td>\n",
       "      <td>379</td>\n",
       "      <td>3</td>\n",
       "      <td>HTO-RAW264.7-b_untreated</td>\n",
       "      <td>True</td>\n",
       "      <td>A1</td>\n",
       "      <td>1.481771</td>\n",
       "      <td>Chd7-2</td>\n",
       "      <td>Chd7</td>\n",
       "      <td>untreated</td>\n",
       "    </tr>\n",
       "    <tr>\n",
       "      <th>A1_AAACCTGAGCGATGAC-1</th>\n",
       "      <td>PT149_5_A1_transcriptome</td>\n",
       "      <td>12849</td>\n",
       "      <td>3787</td>\n",
       "      <td>1378</td>\n",
       "      <td>9</td>\n",
       "      <td>1103</td>\n",
       "      <td>56</td>\n",
       "      <td>288</td>\n",
       "      <td>3</td>\n",
       "      <td>HTO-RAW264.7-b_untreated</td>\n",
       "      <td>True</td>\n",
       "      <td>A1</td>\n",
       "      <td>1.299712</td>\n",
       "      <td>Babam1-1</td>\n",
       "      <td>Babam1</td>\n",
       "      <td>untreated</td>\n",
       "    </tr>\n",
       "    <tr>\n",
       "      <th>A1_AAACCTGAGGATCGCA-1</th>\n",
       "      <td>PT149_5_A1_transcriptome</td>\n",
       "      <td>21634</td>\n",
       "      <td>4842</td>\n",
       "      <td>1097</td>\n",
       "      <td>11</td>\n",
       "      <td>74</td>\n",
       "      <td>54</td>\n",
       "      <td>1062</td>\n",
       "      <td>3</td>\n",
       "      <td>HTO-RAW264.7-a_untreated</td>\n",
       "      <td>True</td>\n",
       "      <td>A1</td>\n",
       "      <td>1.127854</td>\n",
       "      <td>Negative</td>\n",
       "      <td>Negative</td>\n",
       "      <td>untreated</td>\n",
       "    </tr>\n",
       "    <tr>\n",
       "      <th>A1_AAACCTGAGTGCCAGA-1</th>\n",
       "      <td>PT149_5_A1_transcriptome</td>\n",
       "      <td>14479</td>\n",
       "      <td>3851</td>\n",
       "      <td>458</td>\n",
       "      <td>10</td>\n",
       "      <td>838</td>\n",
       "      <td>72</td>\n",
       "      <td>292</td>\n",
       "      <td>3</td>\n",
       "      <td>HTO-RAW264.7-b_untreated</td>\n",
       "      <td>True</td>\n",
       "      <td>A1</td>\n",
       "      <td>1.201740</td>\n",
       "      <td>Mov10-4</td>\n",
       "      <td>Mov10</td>\n",
       "      <td>untreated</td>\n",
       "    </tr>\n",
       "    <tr>\n",
       "      <th>A1_AAACCTGAGTGGAGAA-1</th>\n",
       "      <td>PT149_5_A1_transcriptome</td>\n",
       "      <td>13765</td>\n",
       "      <td>3832</td>\n",
       "      <td>1437</td>\n",
       "      <td>9</td>\n",
       "      <td>270</td>\n",
       "      <td>117</td>\n",
       "      <td>963</td>\n",
       "      <td>3</td>\n",
       "      <td>HTO-RAW264.7-b_untreated</td>\n",
       "      <td>True</td>\n",
       "      <td>A1</td>\n",
       "      <td>1.031602</td>\n",
       "      <td>Spi1-1</td>\n",
       "      <td>Spi1</td>\n",
       "      <td>untreated</td>\n",
       "    </tr>\n",
       "  </tbody>\n",
       "</table>\n",
       "</div>"
      ],
      "text/plain": [
       "                                     orig.ident  nCount_RNA  nFeature_RNA  \\\n",
       "A1_AAACCTGAGAATCTCC-1  PT149_5_A1_transcriptome       17884          4442   \n",
       "A1_AAACCTGAGCGATGAC-1  PT149_5_A1_transcriptome       12849          3787   \n",
       "A1_AAACCTGAGGATCGCA-1  PT149_5_A1_transcriptome       21634          4842   \n",
       "A1_AAACCTGAGTGCCAGA-1  PT149_5_A1_transcriptome       14479          3851   \n",
       "A1_AAACCTGAGTGGAGAA-1  PT149_5_A1_transcriptome       13765          3832   \n",
       "\n",
       "                       nCount_AB  nFeature_AB  nCount_gRNA  nFeature_gRNA  \\\n",
       "A1_AAACCTGAGAATCTCC-1        987            9          358             51   \n",
       "A1_AAACCTGAGCGATGAC-1       1378            9         1103             56   \n",
       "A1_AAACCTGAGGATCGCA-1       1097           11           74             54   \n",
       "A1_AAACCTGAGTGCCAGA-1        458           10          838             72   \n",
       "A1_AAACCTGAGTGGAGAA-1       1437            9          270            117   \n",
       "\n",
       "                       nCount_HTO  nFeature_HTO                 hto_demux  \\\n",
       "A1_AAACCTGAGAATCTCC-1         379             3  HTO-RAW264.7-b_untreated   \n",
       "A1_AAACCTGAGCGATGAC-1         288             3  HTO-RAW264.7-b_untreated   \n",
       "A1_AAACCTGAGGATCGCA-1        1062             3  HTO-RAW264.7-a_untreated   \n",
       "A1_AAACCTGAGTGCCAGA-1         292             3  HTO-RAW264.7-b_untreated   \n",
       "A1_AAACCTGAGTGGAGAA-1         963             3  HTO-RAW264.7-b_untreated   \n",
       "\n",
       "                       pass_QC batch  percent.mt guide_call   KO_call  \\\n",
       "A1_AAACCTGAGAATCTCC-1     True    A1    1.481771     Chd7-2      Chd7   \n",
       "A1_AAACCTGAGCGATGAC-1     True    A1    1.299712   Babam1-1    Babam1   \n",
       "A1_AAACCTGAGGATCGCA-1     True    A1    1.127854   Negative  Negative   \n",
       "A1_AAACCTGAGTGCCAGA-1     True    A1    1.201740    Mov10-4     Mov10   \n",
       "A1_AAACCTGAGTGGAGAA-1     True    A1    1.031602     Spi1-1      Spi1   \n",
       "\n",
       "                       condition  \n",
       "A1_AAACCTGAGAATCTCC-1  untreated  \n",
       "A1_AAACCTGAGCGATGAC-1  untreated  \n",
       "A1_AAACCTGAGGATCGCA-1  untreated  \n",
       "A1_AAACCTGAGTGCCAGA-1  untreated  \n",
       "A1_AAACCTGAGTGGAGAA-1  untreated  "
      ]
     },
     "execution_count": 6,
     "metadata": {},
     "output_type": "execute_result"
    }
   ],
   "source": [
    "# Load annotations\n",
    "annot = pd.read_csv(os.path.join(dir_data, \"KO150_raw_metadata.csv\"), index_col=0, header=0,)\n",
    "print(annot.shape)\n",
    "annot.head()"
   ]
  },
  {
   "cell_type": "code",
   "execution_count": 7,
   "id": "dfbc9bda",
   "metadata": {},
   "outputs": [
    {
     "name": "stdout",
     "output_type": "stream",
     "text": [
      "(28303, 3)\n"
     ]
    },
    {
     "data": {
      "text/html": [
       "<div>\n",
       "<style scoped>\n",
       "    .dataframe tbody tr th:only-of-type {\n",
       "        vertical-align: middle;\n",
       "    }\n",
       "\n",
       "    .dataframe tbody tr th {\n",
       "        vertical-align: top;\n",
       "    }\n",
       "\n",
       "    .dataframe thead th {\n",
       "        text-align: right;\n",
       "    }\n",
       "</style>\n",
       "<table border=\"1\" class=\"dataframe\">\n",
       "  <thead>\n",
       "    <tr style=\"text-align: right;\">\n",
       "      <th></th>\n",
       "      <th>mixscape_class</th>\n",
       "      <th>mixscape_class_p_ko</th>\n",
       "      <th>mixscape_class.global</th>\n",
       "    </tr>\n",
       "  </thead>\n",
       "  <tbody>\n",
       "    <tr>\n",
       "      <th>A1_AAACCTGAGAATCTCC-1</th>\n",
       "      <td>Chd7 NP</td>\n",
       "      <td>0.000000</td>\n",
       "      <td>NP</td>\n",
       "    </tr>\n",
       "    <tr>\n",
       "      <th>A1_AAACCTGAGCGATGAC-1</th>\n",
       "      <td>Babam1 NP</td>\n",
       "      <td>0.000000</td>\n",
       "      <td>NP</td>\n",
       "    </tr>\n",
       "    <tr>\n",
       "      <th>A1_AAACCTGAGTGCCAGA-1</th>\n",
       "      <td>Mov10 NP</td>\n",
       "      <td>0.000000</td>\n",
       "      <td>NP</td>\n",
       "    </tr>\n",
       "    <tr>\n",
       "      <th>A1_AAACCTGAGTGGAGAA-1</th>\n",
       "      <td>Spi1 NP</td>\n",
       "      <td>0.067429</td>\n",
       "      <td>NP</td>\n",
       "    </tr>\n",
       "    <tr>\n",
       "      <th>A1_AAACCTGAGTTTAGGA-1</th>\n",
       "      <td>Jmjd1c NP</td>\n",
       "      <td>0.000000</td>\n",
       "      <td>NP</td>\n",
       "    </tr>\n",
       "  </tbody>\n",
       "</table>\n",
       "</div>"
      ],
      "text/plain": [
       "                      mixscape_class  mixscape_class_p_ko  \\\n",
       "A1_AAACCTGAGAATCTCC-1        Chd7 NP             0.000000   \n",
       "A1_AAACCTGAGCGATGAC-1      Babam1 NP             0.000000   \n",
       "A1_AAACCTGAGTGCCAGA-1       Mov10 NP             0.000000   \n",
       "A1_AAACCTGAGTGGAGAA-1        Spi1 NP             0.067429   \n",
       "A1_AAACCTGAGTTTAGGA-1      Jmjd1c NP             0.000000   \n",
       "\n",
       "                      mixscape_class.global  \n",
       "A1_AAACCTGAGAATCTCC-1                    NP  \n",
       "A1_AAACCTGAGCGATGAC-1                    NP  \n",
       "A1_AAACCTGAGTGCCAGA-1                    NP  \n",
       "A1_AAACCTGAGTGGAGAA-1                    NP  \n",
       "A1_AAACCTGAGTTTAGGA-1                    NP  "
      ]
     },
     "execution_count": 7,
     "metadata": {},
     "output_type": "execute_result"
    }
   ],
   "source": [
    "# Load mixscape class information\n",
    "annot_mixscape = pd.read_csv(os.path.join(dir_data,'mixscape',cond, \"KO150_mixscape_annotations.csv\"), index_col=0, header=0,)\n",
    "print(annot_mixscape.shape)\n",
    "annot_mixscape.head()"
   ]
  },
  {
   "cell_type": "code",
   "execution_count": 8,
   "id": "4ba6411c",
   "metadata": {},
   "outputs": [
    {
     "name": "stdout",
     "output_type": "stream",
     "text": [
      "(76344, 19)\n"
     ]
    }
   ],
   "source": [
    "annot = pd.concat([annot,annot_mixscape], axis=1)\n",
    "print(annot.shape)"
   ]
  },
  {
   "cell_type": "code",
   "execution_count": 9,
   "id": "04051434",
   "metadata": {
    "tags": []
   },
   "outputs": [
    {
     "name": "stdout",
     "output_type": "stream",
     "text": [
      "(3202, 19)\n"
     ]
    }
   ],
   "source": [
    "# filter annotation by condition and perturbation classification\n",
    "if cond=='all':\n",
    "    annot = annot.loc[(annot['mixscape_class.global']!='NP')  & (annot['mixscape_class.global']!='NT') & ~(annot['mixscape_class.global'].isna()),]\n",
    "else:\n",
    "    annot = annot.loc[(annot['condition']==cond) & (annot['mixscape_class.global']!='NP')  & (annot['mixscape_class.global']!='NT') & ~(annot['mixscape_class.global'].isna()),]\n",
    "\n",
    "print(annot.shape)"
   ]
  },
  {
   "cell_type": "code",
   "execution_count": 10,
   "id": "d9344b37",
   "metadata": {},
   "outputs": [
    {
     "name": "stdout",
     "output_type": "stream",
     "text": [
      "(2735, 3202)\n"
     ]
    }
   ],
   "source": [
    "# filter data by condition and perturbation classification\n",
    "data = data.loc[:,annot.index]\n",
    "print(data.shape)"
   ]
  },
  {
   "cell_type": "code",
   "execution_count": 11,
   "id": "57e3515f",
   "metadata": {},
   "outputs": [
    {
     "name": "stdout",
     "output_type": "stream",
     "text": [
      "['Smc1a KO' 'Ifnar1 KO' 'Sfpq KO' 'Tyk2 KO' 'Irf9 KO' 'Ep300 KO' 'Spi1 KO'\n",
      " 'Ep400 KO' 'Arid1a KO' 'Ikzf1 KO' 'Dnttip2 KO' 'Brd2 KO' 'Stat2 KO'\n",
      " 'Chd4 KO' 'Yeats2 KO' 'Jak1 KO' 'Dnmt1 KO' 'Med14 KO' 'Sf3b1 KO'\n",
      " 'Chd8 KO' 'Runx1 KO' 'Smarca4 KO' 'Myd88 KO' 'Stat1 KO' 'Yeats4 KO'\n",
      " 'Med8 KO' 'Irf3 KO' 'Ddx21 KO']\n"
     ]
    },
    {
     "data": {
      "text/plain": [
       "28"
      ]
     },
     "execution_count": 11,
     "metadata": {},
     "output_type": "execute_result"
    }
   ],
   "source": [
    "print(annot['mixscape_class'].unique())\n",
    "len(annot['mixscape_class'].unique())"
   ]
  },
  {
   "cell_type": "markdown",
   "id": "ad97452b",
   "metadata": {},
   "source": [
    "## Prepare Classifiers (Logistic Regression and RandomForest)"
   ]
  },
  {
   "cell_type": "code",
   "execution_count": 12,
   "id": "a0436d28",
   "metadata": {},
   "outputs": [],
   "source": [
    "# Prepare data for training\n",
    "X = np.array(data.T)\n",
    "X = X-X.mean(axis=0) # center data\n",
    "if cond=='all':\n",
    "    y = annot[\"condition\"]+'+'+annot[\"mixscape_class\"]\n",
    "else:\n",
    "    y = annot[\"mixscape_class\"]"
   ]
  },
  {
   "cell_type": "code",
   "execution_count": 13,
   "id": "7d327c3e",
   "metadata": {},
   "outputs": [
    {
     "name": "stdout",
     "output_type": "stream",
     "text": [
      "['untreated+Smc1a KO' 'untreated+Ifnar1 KO' 'untreated+Sfpq KO'\n",
      " 'untreated+Tyk2 KO' 'untreated+Irf9 KO' 'untreated+Ep300 KO'\n",
      " 'untreated+Spi1 KO' 'untreated+Ep400 KO' 'untreated+Arid1a KO'\n",
      " 'untreated+Ikzf1 KO' 'untreated+Dnttip2 KO' 'untreated+Brd2 KO'\n",
      " 'untreated+Stat2 KO' 'untreated+Chd4 KO' 'untreated+Yeats2 KO'\n",
      " 'untreated+Jak1 KO' 'untreated+Dnmt1 KO' 'untreated+Med14 KO'\n",
      " 'untreated+Sf3b1 KO' 'untreated+Chd8 KO' 'untreated+Runx1 KO'\n",
      " 'LO28-6h+Irf9 KO' 'LO28-6h+Smarca4 KO' 'LO28-6h+Ep300 KO'\n",
      " 'LO28-6h+Spi1 KO' 'LO28-6h+Arid1a KO' 'LO28-6h+Dnmt1 KO'\n",
      " 'LO28-6h+Ep400 KO' 'LO28-6h+Ikzf1 KO' 'LO28-6h+Myd88 KO'\n",
      " 'LO28-6h+Brd2 KO' 'LO28-6h+Runx1 KO' 'LO28-6h+Smc1a KO'\n",
      " 'LO28-6h+Stat1 KO' 'LO28-6h+Yeats4 KO' 'LO28-6h+Med14 KO'\n",
      " 'LO28-6h+Jak1 KO' 'LO28-6h+Med8 KO' 'LO28-6h+Dnttip2 KO'\n",
      " 'LO28-6h+Ifnar1 KO' 'LO28-6h+Yeats2 KO' 'LO28-6h+Stat2 KO'\n",
      " 'LO28-6h+Chd4 KO' 'LO28-6h+Irf3 KO' 'LO28-6h+Sfpq KO' 'LO28-6h+Ddx21 KO'\n",
      " 'LO28-24h+Stat2 KO' 'LO28-24h+Smc1a KO' 'LO28-24h+Spi1 KO'\n",
      " 'LO28-24h+Tyk2 KO' 'LO28-24h+Jak1 KO' 'LO28-24h+Ifnar1 KO'\n",
      " 'LO28-24h+Chd4 KO' 'LO28-24h+Irf9 KO' 'LO28-24h+Ikzf1 KO'\n",
      " 'LO28-24h+Myd88 KO' 'LO28-24h+Sfpq KO' 'LO28-24h+Ep400 KO']\n"
     ]
    },
    {
     "data": {
      "text/plain": [
       "58"
      ]
     },
     "execution_count": 13,
     "metadata": {},
     "output_type": "execute_result"
    }
   ],
   "source": [
    "print(y.unique())\n",
    "len(y.unique())"
   ]
  },
  {
   "cell_type": "code",
   "execution_count": 14,
   "id": "83bb59b8",
   "metadata": {},
   "outputs": [],
   "source": [
    "# RANDOM FOREST w/ mostly default parameters\n",
    "clf_RF = RandomForestClassifier(\n",
    "    class_weight=\"balanced\",\n",
    "    random_state=42, \n",
    ")"
   ]
  },
  {
   "cell_type": "code",
   "execution_count": 17,
   "id": "6ffc4b98",
   "metadata": {},
   "outputs": [],
   "source": [
    "# LOGISTIC REGRESSION w/ mostly default parameters\n",
    "clf_LR = LogisticRegression(\n",
    "    penalty=\"elasticnet\",\n",
    "    solver=\"saga\",\n",
    "    multi_class=\"multinomial\",\n",
    "    max_iter=100, # default 100\n",
    "    n_jobs=-1,\n",
    "    random_state=42,\n",
    "    verbose=1,\n",
    "    # l1_ratio & C determined via CV\n",
    "#         C=C, # before 0.1\n",
    "    l1_ratio=0.5 #before 0.5\n",
    ")"
   ]
  },
  {
   "cell_type": "markdown",
   "id": "a6446fad",
   "metadata": {},
   "source": [
    "## get connectivity matrix from LOO strategy"
   ]
  },
  {
   "cell_type": "code",
   "execution_count": 18,
   "id": "68f8531e",
   "metadata": {},
   "outputs": [
    {
     "data": {
      "text/plain": [
       "'LR'"
      ]
     },
     "execution_count": 18,
     "metadata": {},
     "output_type": "execute_result"
    }
   ],
   "source": [
    "clf_label"
   ]
  },
  {
   "cell_type": "code",
   "execution_count": 19,
   "id": "6bf0aa48",
   "metadata": {},
   "outputs": [
    {
     "data": {
      "text/plain": [
       "LogisticRegression(l1_ratio=0.5, multi_class='multinomial', n_jobs=-1,\n",
       "                   penalty='elasticnet', random_state=42, solver='saga',\n",
       "                   verbose=1)"
      ]
     },
     "execution_count": 19,
     "metadata": {},
     "output_type": "execute_result"
    }
   ],
   "source": [
    "if clf_label == 'RF':\n",
    "    clf = clf_RF\n",
    "if clf_label == 'LR':\n",
    "    clf = clf_LR\n",
    "clf"
   ]
  },
  {
   "cell_type": "code",
   "execution_count": 25,
   "id": "a49d8fa2",
   "metadata": {},
   "outputs": [],
   "source": [
    "# # adjacency count matrix for the misclassification; rows are real ct, columns are misclassification\n",
    "# conn_count = pd.DataFrame(0, index=y.unique(), columns=y.unique(), dtype=float)\n",
    "# print(conn_count.shape)\n",
    "# conn_count.head()"
   ]
  },
  {
   "cell_type": "code",
   "execution_count": 26,
   "id": "f029a9d6",
   "metadata": {},
   "outputs": [],
   "source": [
    "# # adjacency matrix for the prediction probabilities of the loo classifier; rows are real ct, columns are misclassification\n",
    "# conn_prob = pd.DataFrame(0, index=y.unique(), columns=y.unique(), dtype=float)\n",
    "# print(conn_prob.shape)\n",
    "# conn_prob.head()"
   ]
  },
  {
   "cell_type": "code",
   "execution_count": 27,
   "id": "0e11c139",
   "metadata": {
    "tags": []
   },
   "outputs": [],
   "source": [
    "# OLD WAY (slow)\n",
    "# for ct in y.unique():\n",
    "#     # manual train/test split according to left out cell type\n",
    "#     X_train = X[y != ct, :]\n",
    "#     y_train = y[y != ct]\n",
    "#     X_test = X[y == ct, :]\n",
    "#     # train classifier leaving one class out & predict\n",
    "#     clf.fit(X_train, y_train)\n",
    "#     predictions = clf.predict(X_test)\n",
    "#     probs = clf.predict_proba(X_test)\n",
    "#     # determine probability / fraction where samples went\n",
    "#     for j in range(len(predictions)):\n",
    "#         conn_count.loc[ct, predictions[j]] = conn_count.loc[ct, predictions[j]] + 1\n",
    "#         conn_prob.loc[ct, conn_prob.columns != ct] = conn_prob.loc[ct, conn_prob.columns != ct] + probs[j]"
   ]
  },
  {
   "cell_type": "code",
   "execution_count": 20,
   "id": "2d728001",
   "metadata": {},
   "outputs": [],
   "source": [
    "classnames, groups = np.unique(y, return_inverse=True)"
   ]
  },
  {
   "cell_type": "code",
   "execution_count": 21,
   "id": "be85621f",
   "metadata": {
    "tags": []
   },
   "outputs": [],
   "source": [
    "cv = sklearn.model_selection.LeaveOneGroupOut()"
   ]
  },
  {
   "cell_type": "code",
   "execution_count": 22,
   "id": "f834323b",
   "metadata": {
    "collapsed": true,
    "jupyter": {
     "outputs_hidden": true
    },
    "tags": []
   },
   "outputs": [
    {
     "name": "stderr",
     "output_type": "stream",
     "text": [
      "Exception in thread Thread-4:\n",
      "Traceback (most recent call last):\n",
      "  File \"/nobackup/lab_bock/users/sreichl/miniconda3/envs/basics/lib/python3.8/threading.py\", line 932, in _bootstrap_inner\n",
      "    self.run()\n",
      "  File \"/nobackup/lab_bock/users/sreichl/miniconda3/envs/basics/lib/python3.8/site-packages/joblib/externals/loky/process_executor.py\", line 567, in run\n",
      "    self.flag_executor_shutting_down()\n",
      "  File \"/nobackup/lab_bock/users/sreichl/miniconda3/envs/basics/lib/python3.8/site-packages/joblib/externals/loky/process_executor.py\", line 756, in flag_executor_shutting_down\n",
      "    self.kill_workers()\n",
      "  File \"/nobackup/lab_bock/users/sreichl/miniconda3/envs/basics/lib/python3.8/site-packages/joblib/externals/loky/process_executor.py\", line 766, in kill_workers\n",
      "    recursive_terminate(p)\n",
      "  File \"/nobackup/lab_bock/users/sreichl/miniconda3/envs/basics/lib/python3.8/site-packages/joblib/externals/loky/backend/utils.py\", line 28, in recursive_terminate\n",
      "    _recursive_terminate_without_psutil(process)\n",
      "  File \"/nobackup/lab_bock/users/sreichl/miniconda3/envs/basics/lib/python3.8/site-packages/joblib/externals/loky/backend/utils.py\", line 53, in _recursive_terminate_without_psutil\n",
      "    _recursive_terminate(process.pid)\n",
      "  File \"/nobackup/lab_bock/users/sreichl/miniconda3/envs/basics/lib/python3.8/site-packages/joblib/externals/loky/backend/utils.py\", line 92, in _recursive_terminate\n",
      "    children_pids = subprocess.check_output(\n",
      "  File \"/nobackup/lab_bock/users/sreichl/miniconda3/envs/basics/lib/python3.8/subprocess.py\", line 411, in check_output\n",
      "    return run(*popenargs, stdout=PIPE, timeout=timeout, check=True,\n",
      "  File \"/nobackup/lab_bock/users/sreichl/miniconda3/envs/basics/lib/python3.8/subprocess.py\", line 512, in run\n",
      "    raise CalledProcessError(retcode, process.args,\n",
      "subprocess.CalledProcessError: Command '['pgrep', '-P', '14651']' died with <Signals.SIGINT: 2>.\n"
     ]
    },
    {
     "ename": "KeyboardInterrupt",
     "evalue": "",
     "output_type": "error",
     "traceback": [
      "\u001b[0;31m---------------------------------------------------------------------------\u001b[0m",
      "\u001b[0;31mKeyboardInterrupt\u001b[0m                         Traceback (most recent call last)",
      "\u001b[0;32m/nobackup/lab_bock/users/sreichl/miniconda3/envs/basics/lib/python3.8/site-packages/joblib/parallel.py\u001b[0m in \u001b[0;36mretrieve\u001b[0;34m(self)\u001b[0m\n\u001b[1;32m    932\u001b[0m                 \u001b[0;32mif\u001b[0m \u001b[0mgetattr\u001b[0m\u001b[0;34m(\u001b[0m\u001b[0mself\u001b[0m\u001b[0;34m.\u001b[0m\u001b[0m_backend\u001b[0m\u001b[0;34m,\u001b[0m \u001b[0;34m'supports_timeout'\u001b[0m\u001b[0;34m,\u001b[0m \u001b[0;32mFalse\u001b[0m\u001b[0;34m)\u001b[0m\u001b[0;34m:\u001b[0m\u001b[0;34m\u001b[0m\u001b[0;34m\u001b[0m\u001b[0m\n\u001b[0;32m--> 933\u001b[0;31m                     \u001b[0mself\u001b[0m\u001b[0;34m.\u001b[0m\u001b[0m_output\u001b[0m\u001b[0;34m.\u001b[0m\u001b[0mextend\u001b[0m\u001b[0;34m(\u001b[0m\u001b[0mjob\u001b[0m\u001b[0;34m.\u001b[0m\u001b[0mget\u001b[0m\u001b[0;34m(\u001b[0m\u001b[0mtimeout\u001b[0m\u001b[0;34m=\u001b[0m\u001b[0mself\u001b[0m\u001b[0;34m.\u001b[0m\u001b[0mtimeout\u001b[0m\u001b[0;34m)\u001b[0m\u001b[0;34m)\u001b[0m\u001b[0;34m\u001b[0m\u001b[0;34m\u001b[0m\u001b[0m\n\u001b[0m\u001b[1;32m    934\u001b[0m                 \u001b[0;32melse\u001b[0m\u001b[0;34m:\u001b[0m\u001b[0;34m\u001b[0m\u001b[0;34m\u001b[0m\u001b[0m\n",
      "\u001b[0;32m/nobackup/lab_bock/users/sreichl/miniconda3/envs/basics/lib/python3.8/site-packages/joblib/_parallel_backends.py\u001b[0m in \u001b[0;36mwrap_future_result\u001b[0;34m(future, timeout)\u001b[0m\n\u001b[1;32m    541\u001b[0m         \u001b[0;32mtry\u001b[0m\u001b[0;34m:\u001b[0m\u001b[0;34m\u001b[0m\u001b[0;34m\u001b[0m\u001b[0m\n\u001b[0;32m--> 542\u001b[0;31m             \u001b[0;32mreturn\u001b[0m \u001b[0mfuture\u001b[0m\u001b[0;34m.\u001b[0m\u001b[0mresult\u001b[0m\u001b[0;34m(\u001b[0m\u001b[0mtimeout\u001b[0m\u001b[0;34m=\u001b[0m\u001b[0mtimeout\u001b[0m\u001b[0;34m)\u001b[0m\u001b[0;34m\u001b[0m\u001b[0;34m\u001b[0m\u001b[0m\n\u001b[0m\u001b[1;32m    543\u001b[0m         \u001b[0;32mexcept\u001b[0m \u001b[0mCfTimeoutError\u001b[0m \u001b[0;32mas\u001b[0m \u001b[0me\u001b[0m\u001b[0;34m:\u001b[0m\u001b[0;34m\u001b[0m\u001b[0;34m\u001b[0m\u001b[0m\n",
      "\u001b[0;32m/nobackup/lab_bock/users/sreichl/miniconda3/envs/basics/lib/python3.8/concurrent/futures/_base.py\u001b[0m in \u001b[0;36mresult\u001b[0;34m(self, timeout)\u001b[0m\n\u001b[1;32m    433\u001b[0m \u001b[0;34m\u001b[0m\u001b[0m\n\u001b[0;32m--> 434\u001b[0;31m             \u001b[0mself\u001b[0m\u001b[0;34m.\u001b[0m\u001b[0m_condition\u001b[0m\u001b[0;34m.\u001b[0m\u001b[0mwait\u001b[0m\u001b[0;34m(\u001b[0m\u001b[0mtimeout\u001b[0m\u001b[0;34m)\u001b[0m\u001b[0;34m\u001b[0m\u001b[0;34m\u001b[0m\u001b[0m\n\u001b[0m\u001b[1;32m    435\u001b[0m \u001b[0;34m\u001b[0m\u001b[0m\n",
      "\u001b[0;32m/nobackup/lab_bock/users/sreichl/miniconda3/envs/basics/lib/python3.8/threading.py\u001b[0m in \u001b[0;36mwait\u001b[0;34m(self, timeout)\u001b[0m\n\u001b[1;32m    301\u001b[0m             \u001b[0;32mif\u001b[0m \u001b[0mtimeout\u001b[0m \u001b[0;32mis\u001b[0m \u001b[0;32mNone\u001b[0m\u001b[0;34m:\u001b[0m\u001b[0;34m\u001b[0m\u001b[0;34m\u001b[0m\u001b[0m\n\u001b[0;32m--> 302\u001b[0;31m                 \u001b[0mwaiter\u001b[0m\u001b[0;34m.\u001b[0m\u001b[0macquire\u001b[0m\u001b[0;34m(\u001b[0m\u001b[0;34m)\u001b[0m\u001b[0;34m\u001b[0m\u001b[0;34m\u001b[0m\u001b[0m\n\u001b[0m\u001b[1;32m    303\u001b[0m                 \u001b[0mgotit\u001b[0m \u001b[0;34m=\u001b[0m \u001b[0;32mTrue\u001b[0m\u001b[0;34m\u001b[0m\u001b[0;34m\u001b[0m\u001b[0m\n",
      "\u001b[0;31mKeyboardInterrupt\u001b[0m: ",
      "\nDuring handling of the above exception, another exception occurred:\n",
      "\u001b[0;31mKeyboardInterrupt\u001b[0m                         Traceback (most recent call last)",
      "\u001b[0;32m/nobackup/lab_bock/users/sreichl/miniconda3/envs/basics/lib/python3.8/site-packages/joblib/parallel.py\u001b[0m in \u001b[0;36m__call__\u001b[0;34m(self, iterable)\u001b[0m\n\u001b[1;32m   1053\u001b[0m             \u001b[0;32mwith\u001b[0m \u001b[0mself\u001b[0m\u001b[0;34m.\u001b[0m\u001b[0m_backend\u001b[0m\u001b[0;34m.\u001b[0m\u001b[0mretrieval_context\u001b[0m\u001b[0;34m(\u001b[0m\u001b[0;34m)\u001b[0m\u001b[0;34m:\u001b[0m\u001b[0;34m\u001b[0m\u001b[0;34m\u001b[0m\u001b[0m\n\u001b[0;32m-> 1054\u001b[0;31m                 \u001b[0mself\u001b[0m\u001b[0;34m.\u001b[0m\u001b[0mretrieve\u001b[0m\u001b[0;34m(\u001b[0m\u001b[0;34m)\u001b[0m\u001b[0;34m\u001b[0m\u001b[0;34m\u001b[0m\u001b[0m\n\u001b[0m\u001b[1;32m   1055\u001b[0m             \u001b[0;31m# Make sure that we get a last message telling us we are done\u001b[0m\u001b[0;34m\u001b[0m\u001b[0;34m\u001b[0m\u001b[0;34m\u001b[0m\u001b[0m\n",
      "\u001b[0;32m/nobackup/lab_bock/users/sreichl/miniconda3/envs/basics/lib/python3.8/site-packages/joblib/parallel.py\u001b[0m in \u001b[0;36mretrieve\u001b[0;34m(self)\u001b[0m\n\u001b[1;32m    954\u001b[0m                     \u001b[0mensure_ready\u001b[0m \u001b[0;34m=\u001b[0m \u001b[0mself\u001b[0m\u001b[0;34m.\u001b[0m\u001b[0m_managed_backend\u001b[0m\u001b[0;34m\u001b[0m\u001b[0;34m\u001b[0m\u001b[0m\n\u001b[0;32m--> 955\u001b[0;31m                     \u001b[0mbackend\u001b[0m\u001b[0;34m.\u001b[0m\u001b[0mabort_everything\u001b[0m\u001b[0;34m(\u001b[0m\u001b[0mensure_ready\u001b[0m\u001b[0;34m=\u001b[0m\u001b[0mensure_ready\u001b[0m\u001b[0;34m)\u001b[0m\u001b[0;34m\u001b[0m\u001b[0;34m\u001b[0m\u001b[0m\n\u001b[0m\u001b[1;32m    956\u001b[0m                 \u001b[0;32mraise\u001b[0m\u001b[0;34m\u001b[0m\u001b[0;34m\u001b[0m\u001b[0m\n",
      "\u001b[0;32m/nobackup/lab_bock/users/sreichl/miniconda3/envs/basics/lib/python3.8/site-packages/joblib/_parallel_backends.py\u001b[0m in \u001b[0;36mabort_everything\u001b[0;34m(self, ensure_ready)\u001b[0m\n\u001b[1;32m    560\u001b[0m         \"\"\"\n\u001b[0;32m--> 561\u001b[0;31m         \u001b[0mself\u001b[0m\u001b[0;34m.\u001b[0m\u001b[0m_workers\u001b[0m\u001b[0;34m.\u001b[0m\u001b[0mterminate\u001b[0m\u001b[0;34m(\u001b[0m\u001b[0mkill_workers\u001b[0m\u001b[0;34m=\u001b[0m\u001b[0;32mTrue\u001b[0m\u001b[0;34m)\u001b[0m\u001b[0;34m\u001b[0m\u001b[0;34m\u001b[0m\u001b[0m\n\u001b[0m\u001b[1;32m    562\u001b[0m         \u001b[0mself\u001b[0m\u001b[0;34m.\u001b[0m\u001b[0m_workers\u001b[0m \u001b[0;34m=\u001b[0m \u001b[0;32mNone\u001b[0m\u001b[0;34m\u001b[0m\u001b[0;34m\u001b[0m\u001b[0m\n",
      "\u001b[0;32m/nobackup/lab_bock/users/sreichl/miniconda3/envs/basics/lib/python3.8/site-packages/joblib/executor.py\u001b[0m in \u001b[0;36mterminate\u001b[0;34m(self, kill_workers)\u001b[0m\n\u001b[1;32m     73\u001b[0m     \u001b[0;32mdef\u001b[0m \u001b[0mterminate\u001b[0m\u001b[0;34m(\u001b[0m\u001b[0mself\u001b[0m\u001b[0;34m,\u001b[0m \u001b[0mkill_workers\u001b[0m\u001b[0;34m=\u001b[0m\u001b[0;32mFalse\u001b[0m\u001b[0;34m)\u001b[0m\u001b[0;34m:\u001b[0m\u001b[0;34m\u001b[0m\u001b[0;34m\u001b[0m\u001b[0m\n\u001b[0;32m---> 74\u001b[0;31m         \u001b[0mself\u001b[0m\u001b[0;34m.\u001b[0m\u001b[0mshutdown\u001b[0m\u001b[0;34m(\u001b[0m\u001b[0mkill_workers\u001b[0m\u001b[0;34m=\u001b[0m\u001b[0mkill_workers\u001b[0m\u001b[0;34m)\u001b[0m\u001b[0;34m\u001b[0m\u001b[0;34m\u001b[0m\u001b[0m\n\u001b[0m\u001b[1;32m     75\u001b[0m         \u001b[0;32mif\u001b[0m \u001b[0mkill_workers\u001b[0m\u001b[0;34m:\u001b[0m\u001b[0;34m\u001b[0m\u001b[0;34m\u001b[0m\u001b[0m\n",
      "\u001b[0;32m/nobackup/lab_bock/users/sreichl/miniconda3/envs/basics/lib/python3.8/site-packages/joblib/externals/loky/process_executor.py\u001b[0m in \u001b[0;36mshutdown\u001b[0;34m(self, wait, kill_workers)\u001b[0m\n\u001b[1;32m   1170\u001b[0m         \u001b[0;32mif\u001b[0m \u001b[0mexecutor_manager_thread\u001b[0m \u001b[0;32mis\u001b[0m \u001b[0;32mnot\u001b[0m \u001b[0;32mNone\u001b[0m \u001b[0;32mand\u001b[0m \u001b[0mwait\u001b[0m\u001b[0;34m:\u001b[0m\u001b[0;34m\u001b[0m\u001b[0;34m\u001b[0m\u001b[0m\n\u001b[0;32m-> 1171\u001b[0;31m             \u001b[0mexecutor_manager_thread\u001b[0m\u001b[0;34m.\u001b[0m\u001b[0mjoin\u001b[0m\u001b[0;34m(\u001b[0m\u001b[0;34m)\u001b[0m\u001b[0;34m\u001b[0m\u001b[0;34m\u001b[0m\u001b[0m\n\u001b[0m\u001b[1;32m   1172\u001b[0m \u001b[0;34m\u001b[0m\u001b[0m\n",
      "\u001b[0;32m/nobackup/lab_bock/users/sreichl/miniconda3/envs/basics/lib/python3.8/threading.py\u001b[0m in \u001b[0;36mjoin\u001b[0;34m(self, timeout)\u001b[0m\n\u001b[1;32m   1010\u001b[0m         \u001b[0;32mif\u001b[0m \u001b[0mtimeout\u001b[0m \u001b[0;32mis\u001b[0m \u001b[0;32mNone\u001b[0m\u001b[0;34m:\u001b[0m\u001b[0;34m\u001b[0m\u001b[0;34m\u001b[0m\u001b[0m\n\u001b[0;32m-> 1011\u001b[0;31m             \u001b[0mself\u001b[0m\u001b[0;34m.\u001b[0m\u001b[0m_wait_for_tstate_lock\u001b[0m\u001b[0;34m(\u001b[0m\u001b[0;34m)\u001b[0m\u001b[0;34m\u001b[0m\u001b[0;34m\u001b[0m\u001b[0m\n\u001b[0m\u001b[1;32m   1012\u001b[0m         \u001b[0;32melse\u001b[0m\u001b[0;34m:\u001b[0m\u001b[0;34m\u001b[0m\u001b[0;34m\u001b[0m\u001b[0m\n",
      "\u001b[0;32m/nobackup/lab_bock/users/sreichl/miniconda3/envs/basics/lib/python3.8/threading.py\u001b[0m in \u001b[0;36m_wait_for_tstate_lock\u001b[0;34m(self, block, timeout)\u001b[0m\n\u001b[1;32m   1026\u001b[0m             \u001b[0;32massert\u001b[0m \u001b[0mself\u001b[0m\u001b[0;34m.\u001b[0m\u001b[0m_is_stopped\u001b[0m\u001b[0;34m\u001b[0m\u001b[0;34m\u001b[0m\u001b[0m\n\u001b[0;32m-> 1027\u001b[0;31m         \u001b[0;32melif\u001b[0m \u001b[0mlock\u001b[0m\u001b[0;34m.\u001b[0m\u001b[0macquire\u001b[0m\u001b[0;34m(\u001b[0m\u001b[0mblock\u001b[0m\u001b[0;34m,\u001b[0m \u001b[0mtimeout\u001b[0m\u001b[0;34m)\u001b[0m\u001b[0;34m:\u001b[0m\u001b[0;34m\u001b[0m\u001b[0;34m\u001b[0m\u001b[0m\n\u001b[0m\u001b[1;32m   1028\u001b[0m             \u001b[0mlock\u001b[0m\u001b[0;34m.\u001b[0m\u001b[0mrelease\u001b[0m\u001b[0;34m(\u001b[0m\u001b[0;34m)\u001b[0m\u001b[0;34m\u001b[0m\u001b[0;34m\u001b[0m\u001b[0m\n",
      "\u001b[0;31mKeyboardInterrupt\u001b[0m: ",
      "\nDuring handling of the above exception, another exception occurred:\n",
      "\u001b[0;31mKeyboardInterrupt\u001b[0m                         Traceback (most recent call last)",
      "\u001b[0;32m<ipython-input-22-d3e24122a225>\u001b[0m in \u001b[0;36m<module>\u001b[0;34m\u001b[0m\n\u001b[1;32m      2\u001b[0m     \u001b[0mpred\u001b[0m \u001b[0;34m=\u001b[0m \u001b[0msklearn\u001b[0m\u001b[0;34m.\u001b[0m\u001b[0mmodel_selection\u001b[0m\u001b[0;34m.\u001b[0m\u001b[0mcross_val_predict\u001b[0m\u001b[0;34m(\u001b[0m\u001b[0mestimator\u001b[0m\u001b[0;34m=\u001b[0m\u001b[0mclf\u001b[0m\u001b[0;34m,\u001b[0m \u001b[0mX\u001b[0m\u001b[0;34m=\u001b[0m\u001b[0mX\u001b[0m\u001b[0;34m,\u001b[0m \u001b[0my\u001b[0m\u001b[0;34m=\u001b[0m\u001b[0my\u001b[0m\u001b[0;34m,\u001b[0m \u001b[0mgroups\u001b[0m\u001b[0;34m=\u001b[0m\u001b[0mgroups\u001b[0m\u001b[0;34m,\u001b[0m \u001b[0mcv\u001b[0m\u001b[0;34m=\u001b[0m\u001b[0mcv\u001b[0m\u001b[0;34m,\u001b[0m \u001b[0mn_jobs\u001b[0m\u001b[0;34m=\u001b[0m\u001b[0;34m-\u001b[0m\u001b[0;36m1\u001b[0m\u001b[0;34m,\u001b[0m \u001b[0mmethod\u001b[0m\u001b[0;34m=\u001b[0m\u001b[0;34m'predict'\u001b[0m\u001b[0;34m)\u001b[0m\u001b[0;34m\u001b[0m\u001b[0;34m\u001b[0m\u001b[0m\n\u001b[1;32m      3\u001b[0m \u001b[0;32mif\u001b[0m \u001b[0mconn_label\u001b[0m \u001b[0;34m==\u001b[0m \u001b[0;34m'prob'\u001b[0m\u001b[0;34m:\u001b[0m\u001b[0;34m\u001b[0m\u001b[0;34m\u001b[0m\u001b[0m\n\u001b[0;32m----> 4\u001b[0;31m     \u001b[0mpred\u001b[0m \u001b[0;34m=\u001b[0m \u001b[0msklearn\u001b[0m\u001b[0;34m.\u001b[0m\u001b[0mmodel_selection\u001b[0m\u001b[0;34m.\u001b[0m\u001b[0mcross_val_predict\u001b[0m\u001b[0;34m(\u001b[0m\u001b[0mestimator\u001b[0m\u001b[0;34m=\u001b[0m\u001b[0mclf\u001b[0m\u001b[0;34m,\u001b[0m \u001b[0mX\u001b[0m\u001b[0;34m=\u001b[0m\u001b[0mX\u001b[0m\u001b[0;34m,\u001b[0m \u001b[0my\u001b[0m\u001b[0;34m=\u001b[0m\u001b[0my\u001b[0m\u001b[0;34m,\u001b[0m \u001b[0mgroups\u001b[0m\u001b[0;34m=\u001b[0m\u001b[0mgroups\u001b[0m\u001b[0;34m,\u001b[0m \u001b[0mcv\u001b[0m\u001b[0;34m=\u001b[0m\u001b[0mcv\u001b[0m\u001b[0;34m,\u001b[0m \u001b[0mn_jobs\u001b[0m\u001b[0;34m=\u001b[0m\u001b[0;34m-\u001b[0m\u001b[0;36m1\u001b[0m\u001b[0;34m,\u001b[0m \u001b[0mmethod\u001b[0m\u001b[0;34m=\u001b[0m\u001b[0;34m'predict_proba'\u001b[0m\u001b[0;34m)\u001b[0m\u001b[0;34m\u001b[0m\u001b[0;34m\u001b[0m\u001b[0m\n\u001b[0m",
      "\u001b[0;32m/nobackup/lab_bock/users/sreichl/miniconda3/envs/basics/lib/python3.8/site-packages/sklearn/utils/validation.py\u001b[0m in \u001b[0;36minner_f\u001b[0;34m(*args, **kwargs)\u001b[0m\n\u001b[1;32m     61\u001b[0m             \u001b[0mextra_args\u001b[0m \u001b[0;34m=\u001b[0m \u001b[0mlen\u001b[0m\u001b[0;34m(\u001b[0m\u001b[0margs\u001b[0m\u001b[0;34m)\u001b[0m \u001b[0;34m-\u001b[0m \u001b[0mlen\u001b[0m\u001b[0;34m(\u001b[0m\u001b[0mall_args\u001b[0m\u001b[0;34m)\u001b[0m\u001b[0;34m\u001b[0m\u001b[0;34m\u001b[0m\u001b[0m\n\u001b[1;32m     62\u001b[0m             \u001b[0;32mif\u001b[0m \u001b[0mextra_args\u001b[0m \u001b[0;34m<=\u001b[0m \u001b[0;36m0\u001b[0m\u001b[0;34m:\u001b[0m\u001b[0;34m\u001b[0m\u001b[0;34m\u001b[0m\u001b[0m\n\u001b[0;32m---> 63\u001b[0;31m                 \u001b[0;32mreturn\u001b[0m \u001b[0mf\u001b[0m\u001b[0;34m(\u001b[0m\u001b[0;34m*\u001b[0m\u001b[0margs\u001b[0m\u001b[0;34m,\u001b[0m \u001b[0;34m**\u001b[0m\u001b[0mkwargs\u001b[0m\u001b[0;34m)\u001b[0m\u001b[0;34m\u001b[0m\u001b[0;34m\u001b[0m\u001b[0m\n\u001b[0m\u001b[1;32m     64\u001b[0m \u001b[0;34m\u001b[0m\u001b[0m\n\u001b[1;32m     65\u001b[0m             \u001b[0;31m# extra_args > 0\u001b[0m\u001b[0;34m\u001b[0m\u001b[0;34m\u001b[0m\u001b[0;34m\u001b[0m\u001b[0m\n",
      "\u001b[0;32m/nobackup/lab_bock/users/sreichl/miniconda3/envs/basics/lib/python3.8/site-packages/sklearn/model_selection/_validation.py\u001b[0m in \u001b[0;36mcross_val_predict\u001b[0;34m(estimator, X, y, groups, cv, n_jobs, verbose, fit_params, pre_dispatch, method)\u001b[0m\n\u001b[1;32m    878\u001b[0m     parallel = Parallel(n_jobs=n_jobs, verbose=verbose,\n\u001b[1;32m    879\u001b[0m                         pre_dispatch=pre_dispatch)\n\u001b[0;32m--> 880\u001b[0;31m     predictions = parallel(delayed(_fit_and_predict)(\n\u001b[0m\u001b[1;32m    881\u001b[0m         clone(estimator), X, y, train, test, verbose, fit_params, method)\n\u001b[1;32m    882\u001b[0m         for train, test in splits)\n",
      "\u001b[0;32m/nobackup/lab_bock/users/sreichl/miniconda3/envs/basics/lib/python3.8/site-packages/joblib/parallel.py\u001b[0m in \u001b[0;36m__call__\u001b[0;34m(self, iterable)\u001b[0m\n\u001b[1;32m   1062\u001b[0m                 \u001b[0mself\u001b[0m\u001b[0;34m.\u001b[0m\u001b[0m_backend\u001b[0m\u001b[0;34m.\u001b[0m\u001b[0mstop_call\u001b[0m\u001b[0;34m(\u001b[0m\u001b[0;34m)\u001b[0m\u001b[0;34m\u001b[0m\u001b[0;34m\u001b[0m\u001b[0m\n\u001b[1;32m   1063\u001b[0m             \u001b[0;32mif\u001b[0m \u001b[0;32mnot\u001b[0m \u001b[0mself\u001b[0m\u001b[0;34m.\u001b[0m\u001b[0m_managed_backend\u001b[0m\u001b[0;34m:\u001b[0m\u001b[0;34m\u001b[0m\u001b[0;34m\u001b[0m\u001b[0m\n\u001b[0;32m-> 1064\u001b[0;31m                 \u001b[0mself\u001b[0m\u001b[0;34m.\u001b[0m\u001b[0m_terminate_backend\u001b[0m\u001b[0;34m(\u001b[0m\u001b[0;34m)\u001b[0m\u001b[0;34m\u001b[0m\u001b[0;34m\u001b[0m\u001b[0m\n\u001b[0m\u001b[1;32m   1065\u001b[0m             \u001b[0mself\u001b[0m\u001b[0;34m.\u001b[0m\u001b[0m_jobs\u001b[0m \u001b[0;34m=\u001b[0m \u001b[0mlist\u001b[0m\u001b[0;34m(\u001b[0m\u001b[0;34m)\u001b[0m\u001b[0;34m\u001b[0m\u001b[0;34m\u001b[0m\u001b[0m\n\u001b[1;32m   1066\u001b[0m             \u001b[0mself\u001b[0m\u001b[0;34m.\u001b[0m\u001b[0m_pickle_cache\u001b[0m \u001b[0;34m=\u001b[0m \u001b[0;32mNone\u001b[0m\u001b[0;34m\u001b[0m\u001b[0;34m\u001b[0m\u001b[0m\n",
      "\u001b[0;32m/nobackup/lab_bock/users/sreichl/miniconda3/envs/basics/lib/python3.8/site-packages/joblib/parallel.py\u001b[0m in \u001b[0;36m_terminate_backend\u001b[0;34m(self)\u001b[0m\n\u001b[1;32m    755\u001b[0m     \u001b[0;32mdef\u001b[0m \u001b[0m_terminate_backend\u001b[0m\u001b[0;34m(\u001b[0m\u001b[0mself\u001b[0m\u001b[0;34m)\u001b[0m\u001b[0;34m:\u001b[0m\u001b[0;34m\u001b[0m\u001b[0;34m\u001b[0m\u001b[0m\n\u001b[1;32m    756\u001b[0m         \u001b[0;32mif\u001b[0m \u001b[0mself\u001b[0m\u001b[0;34m.\u001b[0m\u001b[0m_backend\u001b[0m \u001b[0;32mis\u001b[0m \u001b[0;32mnot\u001b[0m \u001b[0;32mNone\u001b[0m\u001b[0;34m:\u001b[0m\u001b[0;34m\u001b[0m\u001b[0;34m\u001b[0m\u001b[0m\n\u001b[0;32m--> 757\u001b[0;31m             \u001b[0mself\u001b[0m\u001b[0;34m.\u001b[0m\u001b[0m_backend\u001b[0m\u001b[0;34m.\u001b[0m\u001b[0mterminate\u001b[0m\u001b[0;34m(\u001b[0m\u001b[0;34m)\u001b[0m\u001b[0;34m\u001b[0m\u001b[0;34m\u001b[0m\u001b[0m\n\u001b[0m\u001b[1;32m    758\u001b[0m \u001b[0;34m\u001b[0m\u001b[0m\n\u001b[1;32m    759\u001b[0m     \u001b[0;32mdef\u001b[0m \u001b[0m_dispatch\u001b[0m\u001b[0;34m(\u001b[0m\u001b[0mself\u001b[0m\u001b[0;34m,\u001b[0m \u001b[0mbatch\u001b[0m\u001b[0;34m)\u001b[0m\u001b[0;34m:\u001b[0m\u001b[0;34m\u001b[0m\u001b[0;34m\u001b[0m\u001b[0m\n",
      "\u001b[0;32m/nobackup/lab_bock/users/sreichl/miniconda3/envs/basics/lib/python3.8/site-packages/joblib/_parallel_backends.py\u001b[0m in \u001b[0;36mterminate\u001b[0;34m(self)\u001b[0m\n\u001b[1;32m    549\u001b[0m             \u001b[0;31m# calls, but cleanup the temporary resources that the Parallel call\u001b[0m\u001b[0;34m\u001b[0m\u001b[0;34m\u001b[0m\u001b[0;34m\u001b[0m\u001b[0m\n\u001b[1;32m    550\u001b[0m             \u001b[0;31m# created. This 'hack' requires a private, low-level operation.\u001b[0m\u001b[0;34m\u001b[0m\u001b[0;34m\u001b[0m\u001b[0;34m\u001b[0m\u001b[0m\n\u001b[0;32m--> 551\u001b[0;31m             self._workers._temp_folder_manager._unlink_temporary_resources(\n\u001b[0m\u001b[1;32m    552\u001b[0m                 \u001b[0mcontext_id\u001b[0m\u001b[0;34m=\u001b[0m\u001b[0mself\u001b[0m\u001b[0;34m.\u001b[0m\u001b[0mparallel\u001b[0m\u001b[0;34m.\u001b[0m\u001b[0m_id\u001b[0m\u001b[0;34m\u001b[0m\u001b[0;34m\u001b[0m\u001b[0m\n\u001b[1;32m    553\u001b[0m             )\n",
      "\u001b[0;32m/nobackup/lab_bock/users/sreichl/miniconda3/envs/basics/lib/python3.8/site-packages/joblib/_memmapping_reducer.py\u001b[0m in \u001b[0;36m_unlink_temporary_resources\u001b[0;34m(self, context_id)\u001b[0m\n\u001b[1;32m    625\u001b[0m                         \u001b[0mos\u001b[0m\u001b[0;34m.\u001b[0m\u001b[0mpath\u001b[0m\u001b[0;34m.\u001b[0m\u001b[0mjoin\u001b[0m\u001b[0;34m(\u001b[0m\u001b[0mtemp_folder\u001b[0m\u001b[0;34m,\u001b[0m \u001b[0mfilename\u001b[0m\u001b[0;34m)\u001b[0m\u001b[0;34m,\u001b[0m \u001b[0;34m\"file\"\u001b[0m\u001b[0;34m\u001b[0m\u001b[0;34m\u001b[0m\u001b[0m\n\u001b[1;32m    626\u001b[0m                     )\n\u001b[0;32m--> 627\u001b[0;31m                 self._try_delete_folder(\n\u001b[0m\u001b[1;32m    628\u001b[0m                     \u001b[0mallow_non_empty\u001b[0m\u001b[0;34m=\u001b[0m\u001b[0;32mFalse\u001b[0m\u001b[0;34m,\u001b[0m \u001b[0mcontext_id\u001b[0m\u001b[0;34m=\u001b[0m\u001b[0mcontext_id\u001b[0m\u001b[0;34m\u001b[0m\u001b[0;34m\u001b[0m\u001b[0m\n\u001b[1;32m    629\u001b[0m                 )\n",
      "\u001b[0;32m/nobackup/lab_bock/users/sreichl/miniconda3/envs/basics/lib/python3.8/site-packages/joblib/_memmapping_reducer.py\u001b[0m in \u001b[0;36m_try_delete_folder\u001b[0;34m(self, allow_non_empty, context_id)\u001b[0m\n\u001b[1;32m    652\u001b[0m             \u001b[0mtemp_folder\u001b[0m \u001b[0;34m=\u001b[0m \u001b[0mself\u001b[0m\u001b[0;34m.\u001b[0m\u001b[0m_cached_temp_folders\u001b[0m\u001b[0;34m[\u001b[0m\u001b[0mcontext_id\u001b[0m\u001b[0;34m]\u001b[0m\u001b[0;34m\u001b[0m\u001b[0;34m\u001b[0m\u001b[0m\n\u001b[1;32m    653\u001b[0m             \u001b[0;32mtry\u001b[0m\u001b[0;34m:\u001b[0m\u001b[0;34m\u001b[0m\u001b[0;34m\u001b[0m\u001b[0m\n\u001b[0;32m--> 654\u001b[0;31m                 delete_folder(\n\u001b[0m\u001b[1;32m    655\u001b[0m                     \u001b[0mtemp_folder\u001b[0m\u001b[0;34m,\u001b[0m \u001b[0mallow_non_empty\u001b[0m\u001b[0;34m=\u001b[0m\u001b[0mallow_non_empty\u001b[0m\u001b[0;34m\u001b[0m\u001b[0;34m\u001b[0m\u001b[0m\n\u001b[1;32m    656\u001b[0m                 )\n",
      "\u001b[0;32m/nobackup/lab_bock/users/sreichl/miniconda3/envs/basics/lib/python3.8/site-packages/joblib/disk.py\u001b[0m in \u001b[0;36mdelete_folder\u001b[0;34m(folder_path, onerror, allow_non_empty)\u001b[0m\n\u001b[1;32m    134\u001b[0m                         \u001b[0;31m# yet.\u001b[0m\u001b[0;34m\u001b[0m\u001b[0;34m\u001b[0m\u001b[0;34m\u001b[0m\u001b[0m\n\u001b[1;32m    135\u001b[0m                         \u001b[0;32mraise\u001b[0m\u001b[0;34m\u001b[0m\u001b[0;34m\u001b[0m\u001b[0m\n\u001b[0;32m--> 136\u001b[0;31m                 \u001b[0mtime\u001b[0m\u001b[0;34m.\u001b[0m\u001b[0msleep\u001b[0m\u001b[0;34m(\u001b[0m\u001b[0mRM_SUBDIRS_RETRY_TIME\u001b[0m\u001b[0;34m)\u001b[0m\u001b[0;34m\u001b[0m\u001b[0;34m\u001b[0m\u001b[0m\n\u001b[0m",
      "\u001b[0;31mKeyboardInterrupt\u001b[0m: "
     ]
    }
   ],
   "source": [
    "if conn_label == 'count':\n",
    "    pred = sklearn.model_selection.cross_val_predict(estimator=clf, X=X, y=y, groups=groups, cv=cv, n_jobs=-1, method='predict')\n",
    "if conn_label == 'prob':\n",
    "    pred = sklearn.model_selection.cross_val_predict(estimator=clf, X=X, y=y, groups=groups, cv=cv, n_jobs=-1, method='predict_proba')"
   ]
  },
  {
   "cell_type": "code",
   "execution_count": null,
   "id": "a55f56f0",
   "metadata": {},
   "outputs": [],
   "source": [
    "print(pred.shape)\n",
    "pred.head()"
   ]
  },
  {
   "cell_type": "code",
   "execution_count": 31,
   "id": "9d7193bc",
   "metadata": {},
   "outputs": [],
   "source": [
    "# generate & save raw and normalized count based connectivity matrix\n",
    "if conn_label == 'count':\n",
    "    # count matrix\n",
    "    conn = pd.DataFrame(sklearn.metrics.confusion_matrix(y, pred), index=classnames, columns=classnames, dtype=float)\n",
    "    print(conn.shape)\n",
    "    print(conn.head())\n",
    "    \n",
    "    # save connectivity matrix\n",
    "    conn.to_csv(os.path.join(dir_results, \"KO150_clf\"+clf_label+\"_conn\"+conn_label+\".csv\"))\n",
    "    \n",
    "    # normalized matrix\n",
    "    conn_norm = pd.DataFrame(sklearn.metrics.confusion_matrix(y, pred, normalize='true'), index=classnames, columns=classnames, dtype=float)\n",
    "    print(conn_norm.shape)\n",
    "    print(conn_norm.head())\n",
    "    \n",
    "    # save normalized connectivity matrix\n",
    "    conn_norm.to_csv(os.path.join(dir_results, \"KO150_clf\"+clf_label+\"_conn\"+conn_label+\"Norm.csv\"))"
   ]
  },
  {
   "cell_type": "code",
   "execution_count": 32,
   "id": "e6656f91",
   "metadata": {},
   "outputs": [],
   "source": [
    "# sanity check if counts are adding up correctly\n",
    "if (conn_label == 'count') & (cond!='all'):\n",
    "    assert annot.groupby(\"mixscape_class\").size().equals(conn.sum(axis=1).astype(int))"
   ]
  },
  {
   "cell_type": "code",
   "execution_count": 33,
   "id": "4d0095ab",
   "metadata": {
    "tags": []
   },
   "outputs": [],
   "source": [
    "# load raw & normalized count connectivity matrix\n",
    "if conn_label == 'count':\n",
    "    conn = pd.read_csv(os.path.join(dir_results, \"KO150_clf\"+clf_label+\"_conn\"+conn_label+\".csv\"), index_col=0, header=0,)\n",
    "    print(conn.shape)\n",
    "    print(conn.head())\n",
    "\n",
    "    # load normalized count connectivity matrix\n",
    "    conn_norm = pd.read_csv(os.path.join(dir_results, \"KO150_clf\"+clf_label+\"_conn\"+conn_label+\"Norm.csv\"), index_col=0, header=0,)\n",
    "    print(conn_norm.shape)\n",
    "    print(conn_norm.head())"
   ]
  },
  {
   "cell_type": "code",
   "execution_count": 34,
   "id": "31223728",
   "metadata": {
    "tags": []
   },
   "outputs": [],
   "source": [
    "if conn_label == 'prob':\n",
    "\n",
    "    # sanity check if approach works as intended -> pred. prob for correct label has to be 0!\n",
    "    result=pd.DataFrame(pred, columns=classnames, index=y)\n",
    "    for index, row in result.iterrows():\n",
    "        if row[index]!=0:\n",
    "            print('problem')\n",
    "            \n",
    "    conn_norm = pd.DataFrame(columns=classnames, index=classnames)\n",
    "    for col in classnames:\n",
    "        for row in classnames:\n",
    "            conn_norm.loc[row,col]=result.loc[row,col].mean()\n",
    "\n",
    "    # sanity check if approach works as intended -> diagonal has to be 0\n",
    "    if sum(np.diag(conn_norm)!=0)>0:\n",
    "        print('problem')\n",
    "\n",
    "    # save normalized probability connectivity matrix\n",
    "    conn_norm.to_csv(os.path.join(dir_results, \"KO150_clf\"+clf_label+\"_conn\"+conn_label+\"Norm.csv\"))"
   ]
  },
  {
   "cell_type": "code",
   "execution_count": 5,
   "id": "be6444e7",
   "metadata": {},
   "outputs": [
    {
     "name": "stdout",
     "output_type": "stream",
     "text": [
      "(12, 12)\n"
     ]
    }
   ],
   "source": [
    "if conn_label == 'prob':\n",
    "    # load normalized probability connectivity matrix\n",
    "    conn_norm = pd.read_csv(\n",
    "        os.path.join(dir_results, \"KO150_clf\"+clf_label+\"_conn\"+conn_label+\"Norm.csv\"), index_col=0, header=0,\n",
    "    )\n",
    "    print(conn_norm.shape)\n",
    "    conn_norm"
   ]
  },
  {
   "cell_type": "markdown",
   "id": "7602445d",
   "metadata": {},
   "source": [
    "### simplify & make symmetric to get similarity connectivity matrix"
   ]
  },
  {
   "cell_type": "code",
   "execution_count": 35,
   "id": "5c11af1a",
   "metadata": {
    "tags": []
   },
   "outputs": [],
   "source": [
    "if not(directed):\n",
    "    # simplify & make symmetric to get similarity connectivity matrix\n",
    "    conn_sim = pd.DataFrame()\n",
    "    for ct1 in conn_norm.index:\n",
    "        for ct2 in conn_norm.columns:\n",
    "            conn_sim.loc[ct1, ct2] = (\n",
    "                ((conn_norm.loc[ct1, ct2] + conn_norm.loc[ct2, ct1])/2)\n",
    "            )\n",
    "    print(conn_sim.head())\n",
    "    \n",
    "    # save similarity count connectivity matrix\n",
    "    conn_sim.to_csv(os.path.join(dir_results, \"KO150_clf\"+clf_label+\"_conn\"+conn_label+\"Sim.csv\"))"
   ]
  },
  {
   "cell_type": "code",
   "execution_count": 36,
   "id": "5860ac45",
   "metadata": {
    "tags": []
   },
   "outputs": [],
   "source": [
    "if not(directed):\n",
    "    # load similarity count connectivity matrix\n",
    "    conn_sim = pd.read_csv(os.path.join(dir_results, \"KO150_clf\"+clf_label+\"_conn\"+conn_label+\"Sim.csv\"), index_col=0, header=0,)\n",
    "    print(conn_sim.shape)\n",
    "    conn_sim"
   ]
  },
  {
   "cell_type": "markdown",
   "id": "54e15f0c",
   "metadata": {},
   "source": [
    "### build, fill and visualize graph with python-igraph"
   ]
  },
  {
   "cell_type": "code",
   "execution_count": 37,
   "id": "6f81319d",
   "metadata": {},
   "outputs": [
    {
     "name": "stdout",
     "output_type": "stream",
     "text": [
      "Index(['LO28-24h+Chd4 KO', 'LO28-24h+Ep400 KO', 'LO28-24h+Ifnar1 KO',\n",
      "       'LO28-24h+Ikzf1 KO', 'LO28-24h+Irf9 KO', 'LO28-24h+Jak1 KO',\n",
      "       'LO28-24h+Myd88 KO', 'LO28-24h+Sfpq KO', 'LO28-24h+Smc1a KO',\n",
      "       'LO28-24h+Spi1 KO', 'LO28-24h+Stat2 KO', 'LO28-24h+Tyk2 KO',\n",
      "       'LO28-6h+Arid1a KO', 'LO28-6h+Brd2 KO', 'LO28-6h+Chd4 KO',\n",
      "       'LO28-6h+Ddx21 KO', 'LO28-6h+Dnmt1 KO', 'LO28-6h+Dnttip2 KO',\n",
      "       'LO28-6h+Ep300 KO', 'LO28-6h+Ep400 KO', 'LO28-6h+Ifnar1 KO',\n",
      "       'LO28-6h+Ikzf1 KO', 'LO28-6h+Irf3 KO', 'LO28-6h+Irf9 KO',\n",
      "       'LO28-6h+Jak1 KO', 'LO28-6h+Med14 KO', 'LO28-6h+Med8 KO',\n",
      "       'LO28-6h+Myd88 KO', 'LO28-6h+Runx1 KO', 'LO28-6h+Sfpq KO',\n",
      "       'LO28-6h+Smarca4 KO', 'LO28-6h+Smc1a KO', 'LO28-6h+Spi1 KO',\n",
      "       'LO28-6h+Stat1 KO', 'LO28-6h+Stat2 KO', 'LO28-6h+Yeats2 KO',\n",
      "       'LO28-6h+Yeats4 KO', 'untreated+Arid1a KO', 'untreated+Brd2 KO',\n",
      "       'untreated+Chd4 KO', 'untreated+Chd8 KO', 'untreated+Dnmt1 KO',\n",
      "       'untreated+Dnttip2 KO', 'untreated+Ep300 KO', 'untreated+Ep400 KO',\n",
      "       'untreated+Ifnar1 KO', 'untreated+Ikzf1 KO', 'untreated+Irf9 KO',\n",
      "       'untreated+Jak1 KO', 'untreated+Med14 KO', 'untreated+Runx1 KO',\n",
      "       'untreated+Sf3b1 KO', 'untreated+Sfpq KO', 'untreated+Smc1a KO',\n",
      "       'untreated+Spi1 KO', 'untreated+Stat2 KO', 'untreated+Tyk2 KO',\n",
      "       'untreated+Yeats2 KO'],\n",
      "      dtype='object')\n"
     ]
    }
   ],
   "source": [
    "# rename connectivity similarity matrix for graph\n",
    "if directed:\n",
    "    conn_graph = conn_norm\n",
    "else:\n",
    "    conn_graph = conn_sim\n",
    "    \n",
    "print(conn_graph.index)"
   ]
  },
  {
   "cell_type": "code",
   "execution_count": 39,
   "id": "3f939da7",
   "metadata": {
    "tags": []
   },
   "outputs": [],
   "source": [
    "cut_offs = [0,0.1,0.2,0.25,0.5]\n",
    "\n",
    "for cut_off in cut_offs:\n",
    "    # initiate graph\n",
    "    g = ig.Graph(directed=directed)\n",
    "    g.add_vertices(conn_graph.index)\n",
    "    g.vs[\"label\"] = conn_graph.index\n",
    "\n",
    "    if cond!='all':\n",
    "        g.vs[\"num_samples\"] = annot.groupby(\"mixscape_class\").size()[conn_graph.index]\n",
    "\n",
    "    # create edges\n",
    "    for i, ct1 in enumerate(conn_graph.index):\n",
    "        for j, ct2 in enumerate(conn_graph.columns):\n",
    "            if i<j:\n",
    "                continue\n",
    "            if conn_graph.loc[ct1, ct2] > cut_off:\n",
    "                g.add_edge(ct1, ct2, weight=conn_graph.loc[ct1, ct2])#, label=conn_graph.loc[i, j])\n",
    "            if conn_graph.loc[ct2, ct1] > cut_off:\n",
    "                g.add_edge(ct2, ct1, weight=conn_graph.loc[ct2, ct1])\n",
    "\n",
    "    # draw graph\n",
    "    layout = g.layout(\"fr\") # Fruchterman-Reingold algorithm\n",
    "    colors = plt.cm.get_cmap(\"tab20\").colors\n",
    "    # colors = [list(color_ct_dict[ct][:3]) for ct in conn_graph.index]\n",
    "\n",
    "    visual_style = {}\n",
    "\n",
    "    # VERTICES\n",
    "    # vertex size according to no. of samples\n",
    "    if cond!='all':\n",
    "        visual_style[\"vertex_size\"] = np.array(g.vs[\"num_samples\"])/5\n",
    "    visual_style[\"vertex_color\"] = colors[:len(conn_graph.index)]\n",
    "\n",
    "    # # VERTEX LABELS\n",
    "    visual_style[\"vertex_label\"] = [s.replace(\" KO\", \"\") for s in g.vs[\"label\"]]\n",
    "    if cond=='all':\n",
    "        visual_style[\"vertex_label\"] = [s.replace(\"untreated\", \"ut\") for s in visual_style[\"vertex_label\"]]\n",
    "        visual_style[\"vertex_label\"] = [s.replace(\"LO28-\", \"\") for s in visual_style[\"vertex_label\"]]\n",
    "    visual_style[\"vertex_label_size\"] = 11\n",
    "    visual_style[\"vertex_label_dist\"] = 1.5\n",
    "    visual_style[\"vertex_label_angle\"] = 2\n",
    "\n",
    "    # # EDGES\n",
    "    visual_style[\"edge_width\"] = np.array(g.es[\"weight\"]) * 10  # mutliply to see difference\n",
    "    visual_style[\"edge_arrow_size\"] = 1/100 #rendering arrows invisible\n",
    "    visual_style[\"edge_curved\"] = False\n",
    "#     visual_style[\"edge_tapered\"] = True\n",
    "#     visual_style[\"edge_drawer_factory\"] = TaperedEdgeDrawer\n",
    "\n",
    "    # GENERAL\n",
    "    visual_style[\"margin\"] = 50\n",
    "    visual_style[\"bbox\"] = (400, 400)\n",
    "    if cond=='all':\n",
    "        visual_style[\"bbox\"] = (600, 600)\n",
    "\n",
    "    # ig.plot(g, **visual_style)\n",
    "\n",
    "    ig.plot(g, os.path.join(dir_results, \"KO150_clf\"+clf_label+\"_graph\"+conn_label+\"_cutoff\"+str(cut_off)+\".svg\"), **visual_style)"
   ]
  },
  {
   "cell_type": "code",
   "execution_count": null,
   "id": "e5a5f888",
   "metadata": {},
   "outputs": [],
   "source": []
  }
 ],
 "metadata": {
  "kernelspec": {
   "display_name": "Python_basics",
   "language": "python",
   "name": "basics"
  },
  "language_info": {
   "codemirror_mode": {
    "name": "ipython",
    "version": 3
   },
   "file_extension": ".py",
   "mimetype": "text/x-python",
   "name": "python",
   "nbconvert_exporter": "python",
   "pygments_lexer": "ipython3",
   "version": "3.8.6"
  }
 },
 "nbformat": 4,
 "nbformat_minor": 5
}
