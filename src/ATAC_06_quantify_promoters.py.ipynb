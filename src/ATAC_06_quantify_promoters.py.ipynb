{
 "cells": [
  {
   "cell_type": "markdown",
   "id": "ed47d6e5",
   "metadata": {},
   "source": [
    "# ATAC-seq - Quantify accessibility of RNA derived promoter regions\n",
    "- goal: promoter region quantification\n",
    "- input: promoter regions & ATAC samples\n",
    "- output: counts table of promoter regions by ATAC-seq samples & unsupervised analysis for QC"
   ]
  },
  {
   "cell_type": "code",
   "execution_count": 1,
   "id": "ff5b80f3",
   "metadata": {},
   "outputs": [
    {
     "name": "stdout",
     "output_type": "stream",
     "text": [
      "/home/sreichl/projects/bmdm-stim\n"
     ]
    }
   ],
   "source": [
    "cd ../"
   ]
  },
  {
   "cell_type": "code",
   "execution_count": 2,
   "id": "96ee6b55",
   "metadata": {},
   "outputs": [],
   "source": [
    "#libraries\n",
    "import os\n",
    "import pandas as pd\n",
    "import pybedtools as bedtools"
   ]
  },
  {
   "cell_type": "code",
   "execution_count": 5,
   "id": "a545492e-4849-4e2c-90cf-bf65101f35a2",
   "metadata": {},
   "outputs": [],
   "source": [
    "# import util functions\n",
    "import sys\n",
    "sys.path.insert(1, os.path.join('src'))\n",
    "\n",
    "import utils_dimred_UMAP_PCA"
   ]
  },
  {
   "cell_type": "code",
   "execution_count": 4,
   "id": "f66499a7",
   "metadata": {
    "tags": []
   },
   "outputs": [],
   "source": [
    "# configs\n",
    "dir_data = os.path.join('results','ATAC', 'all')\n",
    "\n",
    "bam_path = 'results/ATAC/atacseq_results/{0}/mapped/{0}.filtered.bam'\n",
    "chrom_file = os.path.join(\"resources/atacseq/mm10.chromSizes\")\n",
    "\n",
    "# TODO: set YOUR bedtools path here\n",
    "bedtools.helpers.set_bedtools_path(path='/nobackup/lab_bock/users/sreichl/miniconda3/envs/atac_analysis/bin')"
   ]
  },
  {
   "cell_type": "markdown",
   "id": "f385df3c",
   "metadata": {},
   "source": [
    "# load data"
   ]
  },
  {
   "cell_type": "code",
   "execution_count": 15,
   "id": "bd406e27",
   "metadata": {},
   "outputs": [
    {
     "name": "stdout",
     "output_type": "stream",
     "text": [
      "chr1\t3071252\t3073452\tENSMUSG00000102693\t.\t+\n",
      " chr1\t3100015\t3102215\tENSMUSG00000064842\t.\t+\n",
      " chr1\t3671298\t3673498\tENSMUSG00000051951\t.\t-\n",
      " chr1\t3250756\t3252956\tENSMUSG00000102851\t.\t+\n",
      " chr1\t3368349\t3370549\tENSMUSG00000103377\t.\t-\n",
      " chr1\t3377588\t3379788\tENSMUSG00000104017\t.\t-\n",
      " chr1\t3467085\t3469285\tENSMUSG00000103025\t.\t-\n",
      " chr1\t3464586\t3466786\tENSMUSG00000089699\t.\t+\n",
      " chr1\t3514307\t3516507\tENSMUSG00000103201\t.\t-\n",
      " chr1\t3529794\t3531994\tENSMUSG00000103147\t.\t+\n",
      " "
     ]
    }
   ],
   "source": [
    "# load promoter regions\n",
    "promoter_regions = bedtools.BedTool(os.path.join(dir_data, 'promoter_regions.bed'))\n",
    "promoter_regions.head()"
   ]
  },
  {
   "cell_type": "code",
   "execution_count": 5,
   "id": "5cd130a2",
   "metadata": {
    "tags": []
   },
   "outputs": [
    {
     "name": "stdout",
     "output_type": "stream",
     "text": [
      "(78, 10)\n"
     ]
    },
    {
     "data": {
      "text/html": [
       "<div>\n",
       "<style scoped>\n",
       "    .dataframe tbody tr th:only-of-type {\n",
       "        vertical-align: middle;\n",
       "    }\n",
       "\n",
       "    .dataframe tbody tr th {\n",
       "        vertical-align: top;\n",
       "    }\n",
       "\n",
       "    .dataframe thead th {\n",
       "        text-align: right;\n",
       "    }\n",
       "</style>\n",
       "<table border=\"1\" class=\"dataframe\">\n",
       "  <thead>\n",
       "    <tr style=\"text-align: right;\">\n",
       "      <th></th>\n",
       "      <th>library</th>\n",
       "      <th>timepoint after thawing</th>\n",
       "      <th>cell_line</th>\n",
       "      <th>Treatment</th>\n",
       "      <th>Treatment_time</th>\n",
       "      <th>mouse_pool</th>\n",
       "      <th>sex</th>\n",
       "      <th>bio-replicate</th>\n",
       "      <th>organism</th>\n",
       "      <th>experiment_id</th>\n",
       "    </tr>\n",
       "    <tr>\n",
       "      <th>sample_name</th>\n",
       "      <th></th>\n",
       "      <th></th>\n",
       "      <th></th>\n",
       "      <th></th>\n",
       "      <th></th>\n",
       "      <th></th>\n",
       "      <th></th>\n",
       "      <th></th>\n",
       "      <th></th>\n",
       "      <th></th>\n",
       "    </tr>\n",
       "  </thead>\n",
       "  <tbody>\n",
       "    <tr>\n",
       "      <th>PT76_R1_C_albicans_2h</th>\n",
       "      <td>ATAC-seq</td>\n",
       "      <td>d010</td>\n",
       "      <td>BMDM</td>\n",
       "      <td>C_albicans</td>\n",
       "      <td>2h</td>\n",
       "      <td>PT62_c</td>\n",
       "      <td>female</td>\n",
       "      <td>R1</td>\n",
       "      <td>mouse</td>\n",
       "      <td>PT76</td>\n",
       "    </tr>\n",
       "    <tr>\n",
       "      <th>PT76_R1_C_albicans_4h</th>\n",
       "      <td>ATAC-seq</td>\n",
       "      <td>d010</td>\n",
       "      <td>BMDM</td>\n",
       "      <td>C_albicans</td>\n",
       "      <td>4h</td>\n",
       "      <td>PT62_c</td>\n",
       "      <td>female</td>\n",
       "      <td>R1</td>\n",
       "      <td>mouse</td>\n",
       "      <td>PT76</td>\n",
       "    </tr>\n",
       "    <tr>\n",
       "      <th>PT76_R1_C_albicans_6h</th>\n",
       "      <td>ATAC-seq</td>\n",
       "      <td>d010</td>\n",
       "      <td>BMDM</td>\n",
       "      <td>C_albicans</td>\n",
       "      <td>6h</td>\n",
       "      <td>PT62_c</td>\n",
       "      <td>female</td>\n",
       "      <td>R1</td>\n",
       "      <td>mouse</td>\n",
       "      <td>PT76</td>\n",
       "    </tr>\n",
       "    <tr>\n",
       "      <th>PT76_R1_C_albicans_8h</th>\n",
       "      <td>ATAC-seq</td>\n",
       "      <td>d010</td>\n",
       "      <td>BMDM</td>\n",
       "      <td>C_albicans</td>\n",
       "      <td>8h</td>\n",
       "      <td>PT62_c</td>\n",
       "      <td>female</td>\n",
       "      <td>R1</td>\n",
       "      <td>mouse</td>\n",
       "      <td>PT76</td>\n",
       "    </tr>\n",
       "    <tr>\n",
       "      <th>PT76_R1_untreated_0h</th>\n",
       "      <td>ATAC-seq</td>\n",
       "      <td>d010</td>\n",
       "      <td>BMDM</td>\n",
       "      <td>untreated</td>\n",
       "      <td>0h</td>\n",
       "      <td>PT62_c</td>\n",
       "      <td>female</td>\n",
       "      <td>R1</td>\n",
       "      <td>mouse</td>\n",
       "      <td>PT76</td>\n",
       "    </tr>\n",
       "  </tbody>\n",
       "</table>\n",
       "</div>"
      ],
      "text/plain": [
       "                        library timepoint after thawing cell_line   Treatment  \\\n",
       "sample_name                                                                     \n",
       "PT76_R1_C_albicans_2h  ATAC-seq                    d010      BMDM  C_albicans   \n",
       "PT76_R1_C_albicans_4h  ATAC-seq                    d010      BMDM  C_albicans   \n",
       "PT76_R1_C_albicans_6h  ATAC-seq                    d010      BMDM  C_albicans   \n",
       "PT76_R1_C_albicans_8h  ATAC-seq                    d010      BMDM  C_albicans   \n",
       "PT76_R1_untreated_0h   ATAC-seq                    d010      BMDM   untreated   \n",
       "\n",
       "                      Treatment_time mouse_pool     sex bio-replicate  \\\n",
       "sample_name                                                             \n",
       "PT76_R1_C_albicans_2h             2h     PT62_c  female            R1   \n",
       "PT76_R1_C_albicans_4h             4h     PT62_c  female            R1   \n",
       "PT76_R1_C_albicans_6h             6h     PT62_c  female            R1   \n",
       "PT76_R1_C_albicans_8h             8h     PT62_c  female            R1   \n",
       "PT76_R1_untreated_0h              0h     PT62_c  female            R1   \n",
       "\n",
       "                      organism experiment_id  \n",
       "sample_name                                   \n",
       "PT76_R1_C_albicans_2h    mouse          PT76  \n",
       "PT76_R1_C_albicans_4h    mouse          PT76  \n",
       "PT76_R1_C_albicans_6h    mouse          PT76  \n",
       "PT76_R1_C_albicans_8h    mouse          PT76  \n",
       "PT76_R1_untreated_0h     mouse          PT76  "
      ]
     },
     "execution_count": 5,
     "metadata": {},
     "output_type": "execute_result"
    }
   ],
   "source": [
    "# Load sample annotation\n",
    "annot = pd.read_csv(os.path.join('metadata','ATAC_sample_metadata.csv'), index_col=0, header=0,)\n",
    "print(annot.shape)\n",
    "annot.head()"
   ]
  },
  {
   "cell_type": "code",
   "execution_count": 27,
   "id": "14f314c6",
   "metadata": {},
   "outputs": [],
   "source": [
    "annot['bam_paths'] = [bam_path.format(x) for x in annot.index]"
   ]
  },
  {
   "cell_type": "code",
   "execution_count": 38,
   "id": "c5805625",
   "metadata": {},
   "outputs": [],
   "source": [
    "sample_list = []"
   ]
  },
  {
   "cell_type": "code",
   "execution_count": null,
   "id": "2e731851",
   "metadata": {},
   "outputs": [],
   "source": [
    "for sample in annot.index:\n",
    "    tmp_result = promoter_regions.coverage(b=annot.loc[sample,'bam_paths']).to_dataframe(\n",
    "                names=[\"CHR\", \"START\", \"END\", \"ID\", \"scores\", \"strands\", sample, \"NA1\", \"NA2\", \"NA3\"],\n",
    "                dtype={sample: int},\n",
    "                usecols=['ID', sample],\n",
    "                index_col='ID')\n",
    "    \n",
    "    sample_list.append(tmp_result)"
   ]
  },
  {
   "cell_type": "code",
   "execution_count": null,
   "id": "394785f9",
   "metadata": {},
   "outputs": [],
   "source": [
    "result = pd.concat(sample_list, axis=1)"
   ]
  },
  {
   "cell_type": "code",
   "execution_count": 12,
   "id": "c0c18ecc",
   "metadata": {},
   "outputs": [
    {
     "name": "stdout",
     "output_type": "stream",
     "text": [
      "(55487, 78)\n"
     ]
    },
    {
     "data": {
      "text/html": [
       "<div>\n",
       "<style scoped>\n",
       "    .dataframe tbody tr th:only-of-type {\n",
       "        vertical-align: middle;\n",
       "    }\n",
       "\n",
       "    .dataframe tbody tr th {\n",
       "        vertical-align: top;\n",
       "    }\n",
       "\n",
       "    .dataframe thead th {\n",
       "        text-align: right;\n",
       "    }\n",
       "</style>\n",
       "<table border=\"1\" class=\"dataframe\">\n",
       "  <thead>\n",
       "    <tr style=\"text-align: right;\">\n",
       "      <th></th>\n",
       "      <th>PT76_R1_C_albicans_2h</th>\n",
       "      <th>PT76_R1_C_albicans_4h</th>\n",
       "      <th>PT76_R1_C_albicans_6h</th>\n",
       "      <th>PT76_R1_C_albicans_8h</th>\n",
       "      <th>PT76_R1_untreated_0h</th>\n",
       "      <th>PT76_R1_IFN_beta_2h</th>\n",
       "      <th>PT76_R1_IFN_beta_4h</th>\n",
       "      <th>PT76_R1_IFN_beta_6h</th>\n",
       "      <th>PT76_R1_IFN_beta_8h</th>\n",
       "      <th>PT76_R1_IFN_gamma_2h</th>\n",
       "      <th>...</th>\n",
       "      <th>PT82_R2_IFN_gamma_24h</th>\n",
       "      <th>PT82_R2_IFN_gamma_8h</th>\n",
       "      <th>PT82_R2_LCMV_Cl13_24h</th>\n",
       "      <th>PT82_R2_LCMV_Cl13_8h</th>\n",
       "      <th>PT82_R2_LO28_24h</th>\n",
       "      <th>PT82_R2_LO28_8h</th>\n",
       "      <th>PT82_R2_LPS_24h</th>\n",
       "      <th>PT82_R2_LPS_8h</th>\n",
       "      <th>PT82_R2_untreated_24h</th>\n",
       "      <th>PT82_R2_untreated_8h</th>\n",
       "    </tr>\n",
       "    <tr>\n",
       "      <th>ID</th>\n",
       "      <th></th>\n",
       "      <th></th>\n",
       "      <th></th>\n",
       "      <th></th>\n",
       "      <th></th>\n",
       "      <th></th>\n",
       "      <th></th>\n",
       "      <th></th>\n",
       "      <th></th>\n",
       "      <th></th>\n",
       "      <th></th>\n",
       "      <th></th>\n",
       "      <th></th>\n",
       "      <th></th>\n",
       "      <th></th>\n",
       "      <th></th>\n",
       "      <th></th>\n",
       "      <th></th>\n",
       "      <th></th>\n",
       "      <th></th>\n",
       "      <th></th>\n",
       "    </tr>\n",
       "  </thead>\n",
       "  <tbody>\n",
       "    <tr>\n",
       "      <th>ENSMUSG00000102693</th>\n",
       "      <td>3</td>\n",
       "      <td>7</td>\n",
       "      <td>0</td>\n",
       "      <td>5</td>\n",
       "      <td>3</td>\n",
       "      <td>3</td>\n",
       "      <td>2</td>\n",
       "      <td>1</td>\n",
       "      <td>0</td>\n",
       "      <td>2</td>\n",
       "      <td>...</td>\n",
       "      <td>3</td>\n",
       "      <td>5</td>\n",
       "      <td>2</td>\n",
       "      <td>3</td>\n",
       "      <td>14</td>\n",
       "      <td>5</td>\n",
       "      <td>1</td>\n",
       "      <td>6</td>\n",
       "      <td>6</td>\n",
       "      <td>9</td>\n",
       "    </tr>\n",
       "    <tr>\n",
       "      <th>ENSMUSG00000064842</th>\n",
       "      <td>2</td>\n",
       "      <td>3</td>\n",
       "      <td>8</td>\n",
       "      <td>1</td>\n",
       "      <td>1</td>\n",
       "      <td>5</td>\n",
       "      <td>3</td>\n",
       "      <td>2</td>\n",
       "      <td>3</td>\n",
       "      <td>5</td>\n",
       "      <td>...</td>\n",
       "      <td>2</td>\n",
       "      <td>2</td>\n",
       "      <td>1</td>\n",
       "      <td>2</td>\n",
       "      <td>11</td>\n",
       "      <td>1</td>\n",
       "      <td>3</td>\n",
       "      <td>3</td>\n",
       "      <td>5</td>\n",
       "      <td>12</td>\n",
       "    </tr>\n",
       "    <tr>\n",
       "      <th>ENSMUSG00000051951</th>\n",
       "      <td>8</td>\n",
       "      <td>11</td>\n",
       "      <td>5</td>\n",
       "      <td>11</td>\n",
       "      <td>7</td>\n",
       "      <td>10</td>\n",
       "      <td>5</td>\n",
       "      <td>2</td>\n",
       "      <td>4</td>\n",
       "      <td>13</td>\n",
       "      <td>...</td>\n",
       "      <td>6</td>\n",
       "      <td>8</td>\n",
       "      <td>5</td>\n",
       "      <td>7</td>\n",
       "      <td>22</td>\n",
       "      <td>9</td>\n",
       "      <td>6</td>\n",
       "      <td>4</td>\n",
       "      <td>10</td>\n",
       "      <td>17</td>\n",
       "    </tr>\n",
       "    <tr>\n",
       "      <th>ENSMUSG00000102851</th>\n",
       "      <td>3</td>\n",
       "      <td>8</td>\n",
       "      <td>2</td>\n",
       "      <td>7</td>\n",
       "      <td>5</td>\n",
       "      <td>6</td>\n",
       "      <td>5</td>\n",
       "      <td>4</td>\n",
       "      <td>2</td>\n",
       "      <td>7</td>\n",
       "      <td>...</td>\n",
       "      <td>7</td>\n",
       "      <td>14</td>\n",
       "      <td>7</td>\n",
       "      <td>6</td>\n",
       "      <td>41</td>\n",
       "      <td>16</td>\n",
       "      <td>9</td>\n",
       "      <td>17</td>\n",
       "      <td>5</td>\n",
       "      <td>11</td>\n",
       "    </tr>\n",
       "    <tr>\n",
       "      <th>ENSMUSG00000103377</th>\n",
       "      <td>4</td>\n",
       "      <td>3</td>\n",
       "      <td>2</td>\n",
       "      <td>4</td>\n",
       "      <td>5</td>\n",
       "      <td>1</td>\n",
       "      <td>5</td>\n",
       "      <td>2</td>\n",
       "      <td>4</td>\n",
       "      <td>9</td>\n",
       "      <td>...</td>\n",
       "      <td>4</td>\n",
       "      <td>10</td>\n",
       "      <td>3</td>\n",
       "      <td>5</td>\n",
       "      <td>11</td>\n",
       "      <td>7</td>\n",
       "      <td>7</td>\n",
       "      <td>5</td>\n",
       "      <td>9</td>\n",
       "      <td>8</td>\n",
       "    </tr>\n",
       "  </tbody>\n",
       "</table>\n",
       "<p>5 rows × 78 columns</p>\n",
       "</div>"
      ],
      "text/plain": [
       "                    PT76_R1_C_albicans_2h  PT76_R1_C_albicans_4h  \\\n",
       "ID                                                                 \n",
       "ENSMUSG00000102693                      3                      7   \n",
       "ENSMUSG00000064842                      2                      3   \n",
       "ENSMUSG00000051951                      8                     11   \n",
       "ENSMUSG00000102851                      3                      8   \n",
       "ENSMUSG00000103377                      4                      3   \n",
       "\n",
       "                    PT76_R1_C_albicans_6h  PT76_R1_C_albicans_8h  \\\n",
       "ID                                                                 \n",
       "ENSMUSG00000102693                      0                      5   \n",
       "ENSMUSG00000064842                      8                      1   \n",
       "ENSMUSG00000051951                      5                     11   \n",
       "ENSMUSG00000102851                      2                      7   \n",
       "ENSMUSG00000103377                      2                      4   \n",
       "\n",
       "                    PT76_R1_untreated_0h  PT76_R1_IFN_beta_2h  \\\n",
       "ID                                                              \n",
       "ENSMUSG00000102693                     3                    3   \n",
       "ENSMUSG00000064842                     1                    5   \n",
       "ENSMUSG00000051951                     7                   10   \n",
       "ENSMUSG00000102851                     5                    6   \n",
       "ENSMUSG00000103377                     5                    1   \n",
       "\n",
       "                    PT76_R1_IFN_beta_4h  PT76_R1_IFN_beta_6h  \\\n",
       "ID                                                             \n",
       "ENSMUSG00000102693                    2                    1   \n",
       "ENSMUSG00000064842                    3                    2   \n",
       "ENSMUSG00000051951                    5                    2   \n",
       "ENSMUSG00000102851                    5                    4   \n",
       "ENSMUSG00000103377                    5                    2   \n",
       "\n",
       "                    PT76_R1_IFN_beta_8h  PT76_R1_IFN_gamma_2h  ...  \\\n",
       "ID                                                             ...   \n",
       "ENSMUSG00000102693                    0                     2  ...   \n",
       "ENSMUSG00000064842                    3                     5  ...   \n",
       "ENSMUSG00000051951                    4                    13  ...   \n",
       "ENSMUSG00000102851                    2                     7  ...   \n",
       "ENSMUSG00000103377                    4                     9  ...   \n",
       "\n",
       "                    PT82_R2_IFN_gamma_24h  PT82_R2_IFN_gamma_8h  \\\n",
       "ID                                                                \n",
       "ENSMUSG00000102693                      3                     5   \n",
       "ENSMUSG00000064842                      2                     2   \n",
       "ENSMUSG00000051951                      6                     8   \n",
       "ENSMUSG00000102851                      7                    14   \n",
       "ENSMUSG00000103377                      4                    10   \n",
       "\n",
       "                    PT82_R2_LCMV_Cl13_24h  PT82_R2_LCMV_Cl13_8h  \\\n",
       "ID                                                                \n",
       "ENSMUSG00000102693                      2                     3   \n",
       "ENSMUSG00000064842                      1                     2   \n",
       "ENSMUSG00000051951                      5                     7   \n",
       "ENSMUSG00000102851                      7                     6   \n",
       "ENSMUSG00000103377                      3                     5   \n",
       "\n",
       "                    PT82_R2_LO28_24h  PT82_R2_LO28_8h  PT82_R2_LPS_24h  \\\n",
       "ID                                                                       \n",
       "ENSMUSG00000102693                14                5                1   \n",
       "ENSMUSG00000064842                11                1                3   \n",
       "ENSMUSG00000051951                22                9                6   \n",
       "ENSMUSG00000102851                41               16                9   \n",
       "ENSMUSG00000103377                11                7                7   \n",
       "\n",
       "                    PT82_R2_LPS_8h  PT82_R2_untreated_24h  \\\n",
       "ID                                                          \n",
       "ENSMUSG00000102693               6                      6   \n",
       "ENSMUSG00000064842               3                      5   \n",
       "ENSMUSG00000051951               4                     10   \n",
       "ENSMUSG00000102851              17                      5   \n",
       "ENSMUSG00000103377               5                      9   \n",
       "\n",
       "                    PT82_R2_untreated_8h  \n",
       "ID                                        \n",
       "ENSMUSG00000102693                     9  \n",
       "ENSMUSG00000064842                    12  \n",
       "ENSMUSG00000051951                    17  \n",
       "ENSMUSG00000102851                    11  \n",
       "ENSMUSG00000103377                     8  \n",
       "\n",
       "[5 rows x 78 columns]"
      ]
     },
     "execution_count": 12,
     "metadata": {},
     "output_type": "execute_result"
    }
   ],
   "source": [
    "print(result.shape)\n",
    "result.head()"
   ]
  },
  {
   "cell_type": "code",
   "execution_count": null,
   "id": "a1b0b7e7",
   "metadata": {},
   "outputs": [],
   "source": [
    "# save results\n",
    "result.to_csv(os.path.join(dir_data, \"promoter_counts.csv\"))"
   ]
  },
  {
   "cell_type": "code",
   "execution_count": 9,
   "id": "f441b87c",
   "metadata": {},
   "outputs": [],
   "source": [
    "# load results\n",
    "result = pd.read_csv(os.path.join(dir_data, \"promoter_counts.csv\"), index_col='ID')"
   ]
  },
  {
   "cell_type": "code",
   "execution_count": 13,
   "id": "10583704",
   "metadata": {},
   "outputs": [
    {
     "name": "stdout",
     "output_type": "stream",
     "text": [
      "discrete variable  Treatment_time\n"
     ]
    },
    {
     "data": {
      "image/png": "[encoded data removed]",
      "text/plain": [
       "<Figure size 360x360 with 1 Axes>"
      ]
     },
     "metadata": {
      "needs_background": "light"
     },
     "output_type": "display_data"
    },
    {
     "name": "stdout",
     "output_type": "stream",
     "text": [
      "discrete variable  Treatment\n"
     ]
    },
    {
     "data": {
      "image/png": "[encoded data removed]",
      "text/plain": [
       "<Figure size 360x360 with 1 Axes>"
      ]
     },
     "metadata": {
      "needs_background": "light"
     },
     "output_type": "display_data"
    },
    {
     "name": "stdout",
     "output_type": "stream",
     "text": [
      "discrete variable  Treatment_time\n"
     ]
    },
    {
     "data": {
      "image/png": "[encoded data removed]",
      "text/plain": [
       "<Figure size 360x360 with 1 Axes>"
      ]
     },
     "metadata": {
      "needs_background": "light"
     },
     "output_type": "display_data"
    },
    {
     "name": "stdout",
     "output_type": "stream",
     "text": [
      "discrete variable  Treatment\n"
     ]
    },
    {
     "data": {
      "image/png": "[encoded data removed]",
      "text/plain": [
       "<Figure size 360x360 with 1 Axes>"
      ]
     },
     "metadata": {
      "needs_background": "light"
     },
     "output_type": "display_data"
    }
   ],
   "source": [
    "# unsupervised analysis plot PCA & UMAP\n",
    "dimred_UMAP_PCA.dimred_plot(data=result.T, \n",
    "            annot=annot, \n",
    "            variables=['Treatment_time','Treatment'], \n",
    "           label='promoter_counts',\n",
    "            results_dir=os.path.join(dir_data, \"unsupervised_analysis\"),\n",
    "           )"
   ]
  }
 ],
 "metadata": {
  "kernelspec": {
   "display_name": "Python_atac_analysis",
   "language": "python",
   "name": "atac_analysis"
  },
  "language_info": {
   "codemirror_mode": {
    "name": "ipython",
    "version": 3
   },
   "file_extension": ".py",
   "mimetype": "text/x-python",
   "name": "python",
   "nbconvert_exporter": "python",
   "pygments_lexer": "ipython3",
   "version": "3.8.15"
  }
 },
 "nbformat": 4,
 "nbformat_minor": 5
}
