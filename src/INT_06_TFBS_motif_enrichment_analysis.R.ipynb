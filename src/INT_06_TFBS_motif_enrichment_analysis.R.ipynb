{
 "cells": [
  {
   "cell_type": "markdown",
   "id": "b65f49a0",
   "metadata": {},
   "source": [
    "# Integrative analysis of ATAC & RNA - Transcription factor binding site motif enrichment analysis\n",
    "- goal: find most probable TFs regulating genes from DEA, DEA-clusters & time-series analysis results\n",
    "- input: DEA & time-series analysis results\n",
    "- output: Transcription factor binding site motif enrichments"
   ]
  },
  {
   "cell_type": "code",
   "execution_count": 1,
   "id": "e1c03e62",
   "metadata": {
    "tags": []
   },
   "outputs": [
    {
     "data": {
      "text/html": [
       "'/home/sreichl/projects/bmdm-stim/src'"
      ],
      "text/latex": [
       "'/home/sreichl/projects/bmdm-stim/src'"
      ],
      "text/markdown": [
       "'/home/sreichl/projects/bmdm-stim/src'"
      ],
      "text/plain": [
       "[1] \"/home/sreichl/projects/bmdm-stim/src\""
      ]
     },
     "metadata": {},
     "output_type": "display_data"
    },
    {
     "data": {
      "text/html": [
       "'/home/sreichl/projects/bmdm-stim'"
      ],
      "text/latex": [
       "'/home/sreichl/projects/bmdm-stim'"
      ],
      "text/markdown": [
       "'/home/sreichl/projects/bmdm-stim'"
      ],
      "text/plain": [
       "[1] \"/home/sreichl/projects/bmdm-stim\""
      ]
     },
     "metadata": {},
     "output_type": "display_data"
    }
   ],
   "source": [
    "# set correct working directory -> project folder\n",
    "getwd()\n",
    "setwd('..')\n",
    "getwd()"
   ]
  },
  {
   "cell_type": "code",
   "execution_count": 2,
   "id": "8fd170b6",
   "metadata": {
    "tags": []
   },
   "outputs": [
    {
     "name": "stderr",
     "output_type": "stream",
     "text": [
      "\n",
      "Attaching package: ‘dplyr’\n",
      "\n",
      "\n",
      "The following objects are masked from ‘package:stats’:\n",
      "\n",
      "    filter, lag\n",
      "\n",
      "\n",
      "The following objects are masked from ‘package:base’:\n",
      "\n",
      "    intersect, setdiff, setequal, union\n",
      "\n",
      "\n"
     ]
    }
   ],
   "source": [
    "# load libraries\n",
    "library(RcisTarget)\n",
    "library(dplyr)\n",
    "library(purrr)"
   ]
  },
  {
   "cell_type": "code",
   "execution_count": 3,
   "id": "22c3b1d2",
   "metadata": {},
   "outputs": [],
   "source": [
    "# configs\n",
    "data_path <- file.path('results','INT')\n",
    "results_path <- file.path(data_path,'TF')\n",
    "\n",
    "gene_motif_db_dir <- file.path('resources','mm10__refseq-r80__500bp_up_and_100bp_down_tss.mc9nr.feather')\n",
    "gene_motif_db_url <- 'https://resources.aertslab.org/cistarget/databases/mus_musculus/mm10/refseq_r80/mc9nr/gene_based/mm10__refseq-r80__500bp_up_and_100bp_down_tss.mc9nr.feather'"
   ]
  },
  {
   "cell_type": "code",
   "execution_count": 4,
   "id": "0a1639bc",
   "metadata": {},
   "outputs": [],
   "source": [
    "# make directories if not exist\n",
    "dir.create(results_path, showWarnings = FALSE)"
   ]
  },
  {
   "cell_type": "markdown",
   "id": "248f30b5",
   "metadata": {},
   "source": [
    "# load data"
   ]
  },
  {
   "cell_type": "code",
   "execution_count": 5,
   "id": "24b5896a",
   "metadata": {},
   "outputs": [
    {
     "data": {
      "text/html": [
       "<style>\n",
       ".list-inline {list-style: none; margin:0; padding: 0}\n",
       ".list-inline>li {display: inline-block}\n",
       ".list-inline>li:not(:last-child)::after {content: \"\\00b7\"; padding: 0 .5ex}\n",
       "</style>\n",
       "<ol class=list-inline><li>45069</li><li>142</li></ol>\n"
      ],
      "text/latex": [
       "\\begin{enumerate*}\n",
       "\\item 45069\n",
       "\\item 142\n",
       "\\end{enumerate*}\n"
      ],
      "text/markdown": [
       "1. 45069\n",
       "2. 142\n",
       "\n",
       "\n"
      ],
      "text/plain": [
       "[1] 45069   142"
      ]
     },
     "metadata": {},
     "output_type": "display_data"
    },
    {
     "data": {
      "text/html": [
       "<table class=\"dataframe\">\n",
       "<caption>A data.frame: 6 × 142</caption>\n",
       "<thead>\n",
       "\t<tr><th></th><th scope=col>RNA_PT76_R1_C_albicans_2h</th><th scope=col>RNA_PT82_R1_C_albicans_24h</th><th scope=col>RNA_PT76_R1_C_albicans_4h</th><th scope=col>RNA_PT76_R1_C_albicans_6h</th><th scope=col>RNA_PT82_R1_C_albicans_8h</th><th scope=col>RNA_PT76_R1_untreated_0h</th><th scope=col>RNA_PT82_R1_untreated_24h</th><th scope=col>RNA_PT76_R1_IFN_beta_2h</th><th scope=col>RNA_PT82_R1_IFN_beta_24h</th><th scope=col>RNA_PT76_R1_IFN_beta_4h</th><th scope=col>⋯</th><th scope=col>PT82_R2_IFN_gamma_24h</th><th scope=col>PT82_R2_IFN_gamma_8h</th><th scope=col>PT82_R2_LCMV_Cl13_24h</th><th scope=col>PT82_R2_LCMV_Cl13_8h</th><th scope=col>PT82_R2_LO28_24h</th><th scope=col>PT82_R2_LO28_8h</th><th scope=col>PT82_R2_LPS_24h</th><th scope=col>PT82_R2_LPS_8h</th><th scope=col>PT82_R2_untreated_24h</th><th scope=col>PT82_R2_untreated_8h</th></tr>\n",
       "\t<tr><th></th><th scope=col>&lt;int&gt;</th><th scope=col>&lt;int&gt;</th><th scope=col>&lt;int&gt;</th><th scope=col>&lt;int&gt;</th><th scope=col>&lt;int&gt;</th><th scope=col>&lt;int&gt;</th><th scope=col>&lt;int&gt;</th><th scope=col>&lt;int&gt;</th><th scope=col>&lt;int&gt;</th><th scope=col>&lt;int&gt;</th><th scope=col>⋯</th><th scope=col>&lt;int&gt;</th><th scope=col>&lt;int&gt;</th><th scope=col>&lt;int&gt;</th><th scope=col>&lt;int&gt;</th><th scope=col>&lt;int&gt;</th><th scope=col>&lt;int&gt;</th><th scope=col>&lt;int&gt;</th><th scope=col>&lt;int&gt;</th><th scope=col>&lt;int&gt;</th><th scope=col>&lt;int&gt;</th></tr>\n",
       "</thead>\n",
       "<tbody>\n",
       "\t<tr><th scope=row>ENSMUSG00000098104</th><td>  1</td><td>  6</td><td>  0</td><td>  2</td><td>  1</td><td>  9</td><td>  4</td><td>  6</td><td>  4</td><td>  0</td><td>⋯</td><td>  8</td><td>  7</td><td>  3</td><td> 11</td><td> 31</td><td> 14</td><td>  5</td><td> 12</td><td> 10</td><td>  9</td></tr>\n",
       "\t<tr><th scope=row>ENSMUSG00000033845</th><td>219</td><td>220</td><td>201</td><td>169</td><td>196</td><td>204</td><td>226</td><td>202</td><td>124</td><td>153</td><td>⋯</td><td>210</td><td>109</td><td>218</td><td>185</td><td> 32</td><td>164</td><td>127</td><td>155</td><td>156</td><td>123</td></tr>\n",
       "\t<tr><th scope=row>ENSMUSG00000025903</th><td>115</td><td>105</td><td>106</td><td>113</td><td> 87</td><td>144</td><td>128</td><td>159</td><td> 98</td><td>137</td><td>⋯</td><td>366</td><td>204</td><td>351</td><td>328</td><td> 65</td><td>192</td><td>282</td><td>150</td><td>255</td><td>205</td></tr>\n",
       "\t<tr><th scope=row>ENSMUSG00000033813</th><td> 63</td><td> 57</td><td> 39</td><td> 74</td><td> 51</td><td> 53</td><td> 68</td><td> 58</td><td> 63</td><td>124</td><td>⋯</td><td>701</td><td>414</td><td>674</td><td>625</td><td>113</td><td>424</td><td>459</td><td>357</td><td>550</td><td>485</td></tr>\n",
       "\t<tr><th scope=row>ENSMUSG00000033793</th><td>315</td><td>222</td><td>309</td><td>250</td><td>312</td><td>203</td><td>277</td><td>266</td><td>222</td><td>218</td><td>⋯</td><td>  0</td><td>  5</td><td>  6</td><td>  4</td><td> 12</td><td>  6</td><td>  3</td><td>  5</td><td>  4</td><td>  9</td></tr>\n",
       "\t<tr><th scope=row>ENSMUSG00000025907</th><td>295</td><td>355</td><td>225</td><td>280</td><td>225</td><td>285</td><td>336</td><td>169</td><td>354</td><td>166</td><td>⋯</td><td> 45</td><td> 21</td><td> 18</td><td> 31</td><td> 21</td><td> 26</td><td> 15</td><td> 13</td><td> 36</td><td> 35</td></tr>\n",
       "</tbody>\n",
       "</table>\n"
      ],
      "text/latex": [
       "A data.frame: 6 × 142\n",
       "\\begin{tabular}{r|lllllllllllllllllllll}\n",
       "  & RNA\\_PT76\\_R1\\_C\\_albicans\\_2h & RNA\\_PT82\\_R1\\_C\\_albicans\\_24h & RNA\\_PT76\\_R1\\_C\\_albicans\\_4h & RNA\\_PT76\\_R1\\_C\\_albicans\\_6h & RNA\\_PT82\\_R1\\_C\\_albicans\\_8h & RNA\\_PT76\\_R1\\_untreated\\_0h & RNA\\_PT82\\_R1\\_untreated\\_24h & RNA\\_PT76\\_R1\\_IFN\\_beta\\_2h & RNA\\_PT82\\_R1\\_IFN\\_beta\\_24h & RNA\\_PT76\\_R1\\_IFN\\_beta\\_4h & ⋯ & PT82\\_R2\\_IFN\\_gamma\\_24h & PT82\\_R2\\_IFN\\_gamma\\_8h & PT82\\_R2\\_LCMV\\_Cl13\\_24h & PT82\\_R2\\_LCMV\\_Cl13\\_8h & PT82\\_R2\\_LO28\\_24h & PT82\\_R2\\_LO28\\_8h & PT82\\_R2\\_LPS\\_24h & PT82\\_R2\\_LPS\\_8h & PT82\\_R2\\_untreated\\_24h & PT82\\_R2\\_untreated\\_8h\\\\\n",
       "  & <int> & <int> & <int> & <int> & <int> & <int> & <int> & <int> & <int> & <int> & ⋯ & <int> & <int> & <int> & <int> & <int> & <int> & <int> & <int> & <int> & <int>\\\\\n",
       "\\hline\n",
       "\tENSMUSG00000098104 &   1 &   6 &   0 &   2 &   1 &   9 &   4 &   6 &   4 &   0 & ⋯ &   8 &   7 &   3 &  11 &  31 &  14 &   5 &  12 &  10 &   9\\\\\n",
       "\tENSMUSG00000033845 & 219 & 220 & 201 & 169 & 196 & 204 & 226 & 202 & 124 & 153 & ⋯ & 210 & 109 & 218 & 185 &  32 & 164 & 127 & 155 & 156 & 123\\\\\n",
       "\tENSMUSG00000025903 & 115 & 105 & 106 & 113 &  87 & 144 & 128 & 159 &  98 & 137 & ⋯ & 366 & 204 & 351 & 328 &  65 & 192 & 282 & 150 & 255 & 205\\\\\n",
       "\tENSMUSG00000033813 &  63 &  57 &  39 &  74 &  51 &  53 &  68 &  58 &  63 & 124 & ⋯ & 701 & 414 & 674 & 625 & 113 & 424 & 459 & 357 & 550 & 485\\\\\n",
       "\tENSMUSG00000033793 & 315 & 222 & 309 & 250 & 312 & 203 & 277 & 266 & 222 & 218 & ⋯ &   0 &   5 &   6 &   4 &  12 &   6 &   3 &   5 &   4 &   9\\\\\n",
       "\tENSMUSG00000025907 & 295 & 355 & 225 & 280 & 225 & 285 & 336 & 169 & 354 & 166 & ⋯ &  45 &  21 &  18 &  31 &  21 &  26 &  15 &  13 &  36 &  35\\\\\n",
       "\\end{tabular}\n"
      ],
      "text/markdown": [
       "\n",
       "A data.frame: 6 × 142\n",
       "\n",
       "| <!--/--> | RNA_PT76_R1_C_albicans_2h &lt;int&gt; | RNA_PT82_R1_C_albicans_24h &lt;int&gt; | RNA_PT76_R1_C_albicans_4h &lt;int&gt; | RNA_PT76_R1_C_albicans_6h &lt;int&gt; | RNA_PT82_R1_C_albicans_8h &lt;int&gt; | RNA_PT76_R1_untreated_0h &lt;int&gt; | RNA_PT82_R1_untreated_24h &lt;int&gt; | RNA_PT76_R1_IFN_beta_2h &lt;int&gt; | RNA_PT82_R1_IFN_beta_24h &lt;int&gt; | RNA_PT76_R1_IFN_beta_4h &lt;int&gt; | ⋯ ⋯ | PT82_R2_IFN_gamma_24h &lt;int&gt; | PT82_R2_IFN_gamma_8h &lt;int&gt; | PT82_R2_LCMV_Cl13_24h &lt;int&gt; | PT82_R2_LCMV_Cl13_8h &lt;int&gt; | PT82_R2_LO28_24h &lt;int&gt; | PT82_R2_LO28_8h &lt;int&gt; | PT82_R2_LPS_24h &lt;int&gt; | PT82_R2_LPS_8h &lt;int&gt; | PT82_R2_untreated_24h &lt;int&gt; | PT82_R2_untreated_8h &lt;int&gt; |\n",
       "|---|---|---|---|---|---|---|---|---|---|---|---|---|---|---|---|---|---|---|---|---|---|\n",
       "| ENSMUSG00000098104 |   1 |   6 |   0 |   2 |   1 |   9 |   4 |   6 |   4 |   0 | ⋯ |   8 |   7 |   3 |  11 |  31 |  14 |   5 |  12 |  10 |   9 |\n",
       "| ENSMUSG00000033845 | 219 | 220 | 201 | 169 | 196 | 204 | 226 | 202 | 124 | 153 | ⋯ | 210 | 109 | 218 | 185 |  32 | 164 | 127 | 155 | 156 | 123 |\n",
       "| ENSMUSG00000025903 | 115 | 105 | 106 | 113 |  87 | 144 | 128 | 159 |  98 | 137 | ⋯ | 366 | 204 | 351 | 328 |  65 | 192 | 282 | 150 | 255 | 205 |\n",
       "| ENSMUSG00000033813 |  63 |  57 |  39 |  74 |  51 |  53 |  68 |  58 |  63 | 124 | ⋯ | 701 | 414 | 674 | 625 | 113 | 424 | 459 | 357 | 550 | 485 |\n",
       "| ENSMUSG00000033793 | 315 | 222 | 309 | 250 | 312 | 203 | 277 | 266 | 222 | 218 | ⋯ |   0 |   5 |   6 |   4 |  12 |   6 |   3 |   5 |   4 |   9 |\n",
       "| ENSMUSG00000025907 | 295 | 355 | 225 | 280 | 225 | 285 | 336 | 169 | 354 | 166 | ⋯ |  45 |  21 |  18 |  31 |  21 |  26 |  15 |  13 |  36 |  35 |\n",
       "\n"
      ],
      "text/plain": [
       "                   RNA_PT76_R1_C_albicans_2h RNA_PT82_R1_C_albicans_24h\n",
       "ENSMUSG00000098104   1                         6                       \n",
       "ENSMUSG00000033845 219                       220                       \n",
       "ENSMUSG00000025903 115                       105                       \n",
       "ENSMUSG00000033813  63                        57                       \n",
       "ENSMUSG00000033793 315                       222                       \n",
       "ENSMUSG00000025907 295                       355                       \n",
       "                   RNA_PT76_R1_C_albicans_4h RNA_PT76_R1_C_albicans_6h\n",
       "ENSMUSG00000098104   0                         2                      \n",
       "ENSMUSG00000033845 201                       169                      \n",
       "ENSMUSG00000025903 106                       113                      \n",
       "ENSMUSG00000033813  39                        74                      \n",
       "ENSMUSG00000033793 309                       250                      \n",
       "ENSMUSG00000025907 225                       280                      \n",
       "                   RNA_PT82_R1_C_albicans_8h RNA_PT76_R1_untreated_0h\n",
       "ENSMUSG00000098104   1                         9                     \n",
       "ENSMUSG00000033845 196                       204                     \n",
       "ENSMUSG00000025903  87                       144                     \n",
       "ENSMUSG00000033813  51                        53                     \n",
       "ENSMUSG00000033793 312                       203                     \n",
       "ENSMUSG00000025907 225                       285                     \n",
       "                   RNA_PT82_R1_untreated_24h RNA_PT76_R1_IFN_beta_2h\n",
       "ENSMUSG00000098104   4                         6                    \n",
       "ENSMUSG00000033845 226                       202                    \n",
       "ENSMUSG00000025903 128                       159                    \n",
       "ENSMUSG00000033813  68                        58                    \n",
       "ENSMUSG00000033793 277                       266                    \n",
       "ENSMUSG00000025907 336                       169                    \n",
       "                   RNA_PT82_R1_IFN_beta_24h RNA_PT76_R1_IFN_beta_4h ⋯\n",
       "ENSMUSG00000098104   4                        0                     ⋯\n",
       "ENSMUSG00000033845 124                      153                     ⋯\n",
       "ENSMUSG00000025903  98                      137                     ⋯\n",
       "ENSMUSG00000033813  63                      124                     ⋯\n",
       "ENSMUSG00000033793 222                      218                     ⋯\n",
       "ENSMUSG00000025907 354                      166                     ⋯\n",
       "                   PT82_R2_IFN_gamma_24h PT82_R2_IFN_gamma_8h\n",
       "ENSMUSG00000098104   8                     7                 \n",
       "ENSMUSG00000033845 210                   109                 \n",
       "ENSMUSG00000025903 366                   204                 \n",
       "ENSMUSG00000033813 701                   414                 \n",
       "ENSMUSG00000033793   0                     5                 \n",
       "ENSMUSG00000025907  45                    21                 \n",
       "                   PT82_R2_LCMV_Cl13_24h PT82_R2_LCMV_Cl13_8h PT82_R2_LO28_24h\n",
       "ENSMUSG00000098104   3                    11                   31             \n",
       "ENSMUSG00000033845 218                   185                   32             \n",
       "ENSMUSG00000025903 351                   328                   65             \n",
       "ENSMUSG00000033813 674                   625                  113             \n",
       "ENSMUSG00000033793   6                     4                   12             \n",
       "ENSMUSG00000025907  18                    31                   21             \n",
       "                   PT82_R2_LO28_8h PT82_R2_LPS_24h PT82_R2_LPS_8h\n",
       "ENSMUSG00000098104  14               5              12           \n",
       "ENSMUSG00000033845 164             127             155           \n",
       "ENSMUSG00000025903 192             282             150           \n",
       "ENSMUSG00000033813 424             459             357           \n",
       "ENSMUSG00000033793   6               3               5           \n",
       "ENSMUSG00000025907  26              15              13           \n",
       "                   PT82_R2_untreated_24h PT82_R2_untreated_8h\n",
       "ENSMUSG00000098104  10                     9                 \n",
       "ENSMUSG00000033845 156                   123                 \n",
       "ENSMUSG00000025903 255                   205                 \n",
       "ENSMUSG00000033813 550                   485                 \n",
       "ENSMUSG00000033793   4                     9                 \n",
       "ENSMUSG00000025907  36                    35                 "
      ]
     },
     "metadata": {},
     "output_type": "display_data"
    }
   ],
   "source": [
    "# load filtered data for background genes\n",
    "data <- read.csv(file.path(data_path,'INT_counts.csv'), row.names=1)\n",
    "dim(data)\n",
    "head(data)"
   ]
  },
  {
   "cell_type": "code",
   "execution_count": 6,
   "id": "cd35dee7",
   "metadata": {
    "tags": []
   },
   "outputs": [
    {
     "data": {
      "text/html": [
       "<style>\n",
       ".list-inline {list-style: none; margin:0; padding: 0}\n",
       ".list-inline>li {display: inline-block}\n",
       ".list-inline>li:not(:last-child)::after {content: \"\\00b7\"; padding: 0 .5ex}\n",
       "</style>\n",
       "<ol class=list-inline><li>142</li><li>5</li></ol>\n"
      ],
      "text/latex": [
       "\\begin{enumerate*}\n",
       "\\item 142\n",
       "\\item 5\n",
       "\\end{enumerate*}\n"
      ],
      "text/markdown": [
       "1. 142\n",
       "2. 5\n",
       "\n",
       "\n"
      ],
      "text/plain": [
       "[1] 142   5"
      ]
     },
     "metadata": {},
     "output_type": "display_data"
    },
    {
     "data": {
      "text/html": [
       "<table class=\"dataframe\">\n",
       "<caption>A data.frame: 6 × 5</caption>\n",
       "<thead>\n",
       "\t<tr><th></th><th scope=col>library</th><th scope=col>treatment</th><th scope=col>time</th><th scope=col>experiment</th><th scope=col>group</th></tr>\n",
       "\t<tr><th></th><th scope=col>&lt;chr&gt;</th><th scope=col>&lt;chr&gt;</th><th scope=col>&lt;chr&gt;</th><th scope=col>&lt;chr&gt;</th><th scope=col>&lt;chr&gt;</th></tr>\n",
       "</thead>\n",
       "<tbody>\n",
       "\t<tr><th scope=row>RNA_PT76_R1_C_albicans_2h</th><td>Quant-seq</td><td>C_albicans</td><td>2h </td><td>PT76</td><td>C_albicans_2h </td></tr>\n",
       "\t<tr><th scope=row>RNA_PT82_R1_C_albicans_24h</th><td>Quant-seq</td><td>C_albicans</td><td>24h</td><td>PT82</td><td>C_albicans_24h</td></tr>\n",
       "\t<tr><th scope=row>RNA_PT76_R1_C_albicans_4h</th><td>Quant-seq</td><td>C_albicans</td><td>4h </td><td>PT76</td><td>C_albicans_4h </td></tr>\n",
       "\t<tr><th scope=row>RNA_PT76_R1_C_albicans_6h</th><td>Quant-seq</td><td>C_albicans</td><td>6h </td><td>PT76</td><td>C_albicans_6h </td></tr>\n",
       "\t<tr><th scope=row>RNA_PT82_R1_C_albicans_8h</th><td>Quant-seq</td><td>C_albicans</td><td>8h </td><td>PT82</td><td>C_albicans_8h </td></tr>\n",
       "\t<tr><th scope=row>RNA_PT76_R1_untreated_0h</th><td>Quant-seq</td><td>untreated </td><td>0h </td><td>PT76</td><td>untreated_0h  </td></tr>\n",
       "</tbody>\n",
       "</table>\n"
      ],
      "text/latex": [
       "A data.frame: 6 × 5\n",
       "\\begin{tabular}{r|lllll}\n",
       "  & library & treatment & time & experiment & group\\\\\n",
       "  & <chr> & <chr> & <chr> & <chr> & <chr>\\\\\n",
       "\\hline\n",
       "\tRNA\\_PT76\\_R1\\_C\\_albicans\\_2h & Quant-seq & C\\_albicans & 2h  & PT76 & C\\_albicans\\_2h \\\\\n",
       "\tRNA\\_PT82\\_R1\\_C\\_albicans\\_24h & Quant-seq & C\\_albicans & 24h & PT82 & C\\_albicans\\_24h\\\\\n",
       "\tRNA\\_PT76\\_R1\\_C\\_albicans\\_4h & Quant-seq & C\\_albicans & 4h  & PT76 & C\\_albicans\\_4h \\\\\n",
       "\tRNA\\_PT76\\_R1\\_C\\_albicans\\_6h & Quant-seq & C\\_albicans & 6h  & PT76 & C\\_albicans\\_6h \\\\\n",
       "\tRNA\\_PT82\\_R1\\_C\\_albicans\\_8h & Quant-seq & C\\_albicans & 8h  & PT82 & C\\_albicans\\_8h \\\\\n",
       "\tRNA\\_PT76\\_R1\\_untreated\\_0h & Quant-seq & untreated  & 0h  & PT76 & untreated\\_0h  \\\\\n",
       "\\end{tabular}\n"
      ],
      "text/markdown": [
       "\n",
       "A data.frame: 6 × 5\n",
       "\n",
       "| <!--/--> | library &lt;chr&gt; | treatment &lt;chr&gt; | time &lt;chr&gt; | experiment &lt;chr&gt; | group &lt;chr&gt; |\n",
       "|---|---|---|---|---|---|\n",
       "| RNA_PT76_R1_C_albicans_2h | Quant-seq | C_albicans | 2h  | PT76 | C_albicans_2h  |\n",
       "| RNA_PT82_R1_C_albicans_24h | Quant-seq | C_albicans | 24h | PT82 | C_albicans_24h |\n",
       "| RNA_PT76_R1_C_albicans_4h | Quant-seq | C_albicans | 4h  | PT76 | C_albicans_4h  |\n",
       "| RNA_PT76_R1_C_albicans_6h | Quant-seq | C_albicans | 6h  | PT76 | C_albicans_6h  |\n",
       "| RNA_PT82_R1_C_albicans_8h | Quant-seq | C_albicans | 8h  | PT82 | C_albicans_8h  |\n",
       "| RNA_PT76_R1_untreated_0h | Quant-seq | untreated  | 0h  | PT76 | untreated_0h   |\n",
       "\n"
      ],
      "text/plain": [
       "                           library   treatment  time experiment group         \n",
       "RNA_PT76_R1_C_albicans_2h  Quant-seq C_albicans 2h   PT76       C_albicans_2h \n",
       "RNA_PT82_R1_C_albicans_24h Quant-seq C_albicans 24h  PT82       C_albicans_24h\n",
       "RNA_PT76_R1_C_albicans_4h  Quant-seq C_albicans 4h   PT76       C_albicans_4h \n",
       "RNA_PT76_R1_C_albicans_6h  Quant-seq C_albicans 6h   PT76       C_albicans_6h \n",
       "RNA_PT82_R1_C_albicans_8h  Quant-seq C_albicans 8h   PT82       C_albicans_8h \n",
       "RNA_PT76_R1_untreated_0h   Quant-seq untreated  0h   PT76       untreated_0h  "
      ]
     },
     "metadata": {},
     "output_type": "display_data"
    }
   ],
   "source": [
    "# Load sample annotation\n",
    "annot <- read.csv(file.path(data_path,'INT_annotations.csv'), row.names=1)\n",
    "dim(annot)\n",
    "head(annot)"
   ]
  },
  {
   "cell_type": "code",
   "execution_count": 7,
   "id": "0e000e91",
   "metadata": {},
   "outputs": [
    {
     "data": {
      "text/html": [
       "<style>\n",
       ".list-inline {list-style: none; margin:0; padding: 0}\n",
       ".list-inline>li {display: inline-block}\n",
       ".list-inline>li:not(:last-child)::after {content: \"\\00b7\"; padding: 0 .5ex}\n",
       "</style>\n",
       "<ol class=list-inline><li>55487</li><li>8</li></ol>\n"
      ],
      "text/latex": [
       "\\begin{enumerate*}\n",
       "\\item 55487\n",
       "\\item 8\n",
       "\\end{enumerate*}\n"
      ],
      "text/markdown": [
       "1. 55487\n",
       "2. 8\n",
       "\n",
       "\n"
      ],
      "text/plain": [
       "[1] 55487     8"
      ]
     },
     "metadata": {},
     "output_type": "display_data"
    },
    {
     "data": {
      "text/html": [
       "<table class=\"dataframe\">\n",
       "<caption>A data.frame: 6 × 8</caption>\n",
       "<thead>\n",
       "\t<tr><th></th><th scope=col>version</th><th scope=col>source</th><th scope=col>external_gene_name</th><th scope=col>external_gene_source</th><th scope=col>description</th><th scope=col>gene_biotype</th><th scope=col>length</th><th scope=col>gc</th></tr>\n",
       "\t<tr><th></th><th scope=col>&lt;int&gt;</th><th scope=col>&lt;chr&gt;</th><th scope=col>&lt;chr&gt;</th><th scope=col>&lt;chr&gt;</th><th scope=col>&lt;chr&gt;</th><th scope=col>&lt;chr&gt;</th><th scope=col>&lt;int&gt;</th><th scope=col>&lt;dbl&gt;</th></tr>\n",
       "</thead>\n",
       "<tbody>\n",
       "\t<tr><th scope=row>ENSMUSG00000000194</th><td>13</td><td>ensembl_havana</td><td>Gpr107</td><td>MGI Symbol</td><td>G protein-coupled receptor 107 [Source:MGI Symbol;Acc:MGI:2139054]      </td><td>protein_coding</td><td>12766</td><td>0.4945950</td></tr>\n",
       "\t<tr><th scope=row>ENSMUSG00000000247</th><td>11</td><td>ensembl_havana</td><td>Lhx2  </td><td>MGI Symbol</td><td>LIM homeobox protein 2 [Source:MGI Symbol;Acc:MGI:96785]                </td><td>protein_coding</td><td> 4393</td><td>0.5970863</td></tr>\n",
       "\t<tr><th scope=row>ENSMUSG00000000544</th><td>14</td><td>ensembl_havana</td><td>Gpa33 </td><td>MGI Symbol</td><td>glycoprotein A33 (transmembrane) [Source:MGI Symbol;Acc:MGI:1891703]    </td><td>protein_coding</td><td> 2742</td><td>0.5309993</td></tr>\n",
       "\t<tr><th scope=row>ENSMUSG00000000817</th><td>10</td><td>ensembl_havana</td><td>Fasl  </td><td>MGI Symbol</td><td>Fas ligand (TNF superfamily, member 6) [Source:MGI Symbol;Acc:MGI:99255]</td><td>protein_coding</td><td> 1937</td><td>0.4305627</td></tr>\n",
       "\t<tr><th scope=row>ENSMUSG00000000889</th><td> 8</td><td>ensembl_havana</td><td>Dbh   </td><td>MGI Symbol</td><td>dopamine beta hydroxylase [Source:MGI Symbol;Acc:MGI:94864]             </td><td>protein_coding</td><td> 2692</td><td>0.5549777</td></tr>\n",
       "\t<tr><th scope=row>ENSMUSG00000001138</th><td>13</td><td>ensembl_havana</td><td>Cnnm3 </td><td>MGI Symbol</td><td>cyclin M3 [Source:MGI Symbol;Acc:MGI:2151055]                           </td><td>protein_coding</td><td> 6420</td><td>0.5610592</td></tr>\n",
       "</tbody>\n",
       "</table>\n"
      ],
      "text/latex": [
       "A data.frame: 6 × 8\n",
       "\\begin{tabular}{r|llllllll}\n",
       "  & version & source & external\\_gene\\_name & external\\_gene\\_source & description & gene\\_biotype & length & gc\\\\\n",
       "  & <int> & <chr> & <chr> & <chr> & <chr> & <chr> & <int> & <dbl>\\\\\n",
       "\\hline\n",
       "\tENSMUSG00000000194 & 13 & ensembl\\_havana & Gpr107 & MGI Symbol & G protein-coupled receptor 107 {[}Source:MGI Symbol;Acc:MGI:2139054{]}       & protein\\_coding & 12766 & 0.4945950\\\\\n",
       "\tENSMUSG00000000247 & 11 & ensembl\\_havana & Lhx2   & MGI Symbol & LIM homeobox protein 2 {[}Source:MGI Symbol;Acc:MGI:96785{]}                 & protein\\_coding &  4393 & 0.5970863\\\\\n",
       "\tENSMUSG00000000544 & 14 & ensembl\\_havana & Gpa33  & MGI Symbol & glycoprotein A33 (transmembrane) {[}Source:MGI Symbol;Acc:MGI:1891703{]}     & protein\\_coding &  2742 & 0.5309993\\\\\n",
       "\tENSMUSG00000000817 & 10 & ensembl\\_havana & Fasl   & MGI Symbol & Fas ligand (TNF superfamily, member 6) {[}Source:MGI Symbol;Acc:MGI:99255{]} & protein\\_coding &  1937 & 0.4305627\\\\\n",
       "\tENSMUSG00000000889 &  8 & ensembl\\_havana & Dbh    & MGI Symbol & dopamine beta hydroxylase {[}Source:MGI Symbol;Acc:MGI:94864{]}              & protein\\_coding &  2692 & 0.5549777\\\\\n",
       "\tENSMUSG00000001138 & 13 & ensembl\\_havana & Cnnm3  & MGI Symbol & cyclin M3 {[}Source:MGI Symbol;Acc:MGI:2151055{]}                            & protein\\_coding &  6420 & 0.5610592\\\\\n",
       "\\end{tabular}\n"
      ],
      "text/markdown": [
       "\n",
       "A data.frame: 6 × 8\n",
       "\n",
       "| <!--/--> | version &lt;int&gt; | source &lt;chr&gt; | external_gene_name &lt;chr&gt; | external_gene_source &lt;chr&gt; | description &lt;chr&gt; | gene_biotype &lt;chr&gt; | length &lt;int&gt; | gc &lt;dbl&gt; |\n",
       "|---|---|---|---|---|---|---|---|---|\n",
       "| ENSMUSG00000000194 | 13 | ensembl_havana | Gpr107 | MGI Symbol | G protein-coupled receptor 107 [Source:MGI Symbol;Acc:MGI:2139054]       | protein_coding | 12766 | 0.4945950 |\n",
       "| ENSMUSG00000000247 | 11 | ensembl_havana | Lhx2   | MGI Symbol | LIM homeobox protein 2 [Source:MGI Symbol;Acc:MGI:96785]                 | protein_coding |  4393 | 0.5970863 |\n",
       "| ENSMUSG00000000544 | 14 | ensembl_havana | Gpa33  | MGI Symbol | glycoprotein A33 (transmembrane) [Source:MGI Symbol;Acc:MGI:1891703]     | protein_coding |  2742 | 0.5309993 |\n",
       "| ENSMUSG00000000817 | 10 | ensembl_havana | Fasl   | MGI Symbol | Fas ligand (TNF superfamily, member 6) [Source:MGI Symbol;Acc:MGI:99255] | protein_coding |  1937 | 0.4305627 |\n",
       "| ENSMUSG00000000889 |  8 | ensembl_havana | Dbh    | MGI Symbol | dopamine beta hydroxylase [Source:MGI Symbol;Acc:MGI:94864]              | protein_coding |  2692 | 0.5549777 |\n",
       "| ENSMUSG00000001138 | 13 | ensembl_havana | Cnnm3  | MGI Symbol | cyclin M3 [Source:MGI Symbol;Acc:MGI:2151055]                            | protein_coding |  6420 | 0.5610592 |\n",
       "\n"
      ],
      "text/plain": [
       "                   version source         external_gene_name\n",
       "ENSMUSG00000000194 13      ensembl_havana Gpr107            \n",
       "ENSMUSG00000000247 11      ensembl_havana Lhx2              \n",
       "ENSMUSG00000000544 14      ensembl_havana Gpa33             \n",
       "ENSMUSG00000000817 10      ensembl_havana Fasl              \n",
       "ENSMUSG00000000889  8      ensembl_havana Dbh               \n",
       "ENSMUSG00000001138 13      ensembl_havana Cnnm3             \n",
       "                   external_gene_source\n",
       "ENSMUSG00000000194 MGI Symbol          \n",
       "ENSMUSG00000000247 MGI Symbol          \n",
       "ENSMUSG00000000544 MGI Symbol          \n",
       "ENSMUSG00000000817 MGI Symbol          \n",
       "ENSMUSG00000000889 MGI Symbol          \n",
       "ENSMUSG00000001138 MGI Symbol          \n",
       "                   description                                                             \n",
       "ENSMUSG00000000194 G protein-coupled receptor 107 [Source:MGI Symbol;Acc:MGI:2139054]      \n",
       "ENSMUSG00000000247 LIM homeobox protein 2 [Source:MGI Symbol;Acc:MGI:96785]                \n",
       "ENSMUSG00000000544 glycoprotein A33 (transmembrane) [Source:MGI Symbol;Acc:MGI:1891703]    \n",
       "ENSMUSG00000000817 Fas ligand (TNF superfamily, member 6) [Source:MGI Symbol;Acc:MGI:99255]\n",
       "ENSMUSG00000000889 dopamine beta hydroxylase [Source:MGI Symbol;Acc:MGI:94864]             \n",
       "ENSMUSG00000001138 cyclin M3 [Source:MGI Symbol;Acc:MGI:2151055]                           \n",
       "                   gene_biotype   length gc       \n",
       "ENSMUSG00000000194 protein_coding 12766  0.4945950\n",
       "ENSMUSG00000000247 protein_coding  4393  0.5970863\n",
       "ENSMUSG00000000544 protein_coding  2742  0.5309993\n",
       "ENSMUSG00000000817 protein_coding  1937  0.4305627\n",
       "ENSMUSG00000000889 protein_coding  2692  0.5549777\n",
       "ENSMUSG00000001138 protein_coding  6420  0.5610592"
      ]
     },
     "metadata": {},
     "output_type": "display_data"
    }
   ],
   "source": [
    "# load gene annotation\n",
    "gene_annot <- read.csv(file.path('results','RNA','counts','gene_annotation.tsv'), sep='\\t', row.names=1)\n",
    "dim(gene_annot)\n",
    "head(gene_annot)"
   ]
  },
  {
   "cell_type": "code",
   "execution_count": 8,
   "id": "cae0453b",
   "metadata": {},
   "outputs": [
    {
     "data": {
      "text/html": [
       "44978"
      ],
      "text/latex": [
       "44978"
      ],
      "text/markdown": [
       "44978"
      ],
      "text/plain": [
       "[1] 44978"
      ]
     },
     "metadata": {},
     "output_type": "display_data"
    },
    {
     "data": {
      "text/html": [
       "<style>\n",
       ".list-inline {list-style: none; margin:0; padding: 0}\n",
       ".list-inline>li {display: inline-block}\n",
       ".list-inline>li:not(:last-child)::after {content: \"\\00b7\"; padding: 0 .5ex}\n",
       "</style>\n",
       "<ol class=list-inline><li>'Gm6085'</li><li>'Mrpl15'</li><li>'Lypla1'</li><li>'Tcea1'</li><li>'Atp6v1h'</li><li>'Rb1cc1'</li></ol>\n"
      ],
      "text/latex": [
       "\\begin{enumerate*}\n",
       "\\item 'Gm6085'\n",
       "\\item 'Mrpl15'\n",
       "\\item 'Lypla1'\n",
       "\\item 'Tcea1'\n",
       "\\item 'Atp6v1h'\n",
       "\\item 'Rb1cc1'\n",
       "\\end{enumerate*}\n"
      ],
      "text/markdown": [
       "1. 'Gm6085'\n",
       "2. 'Mrpl15'\n",
       "3. 'Lypla1'\n",
       "4. 'Tcea1'\n",
       "5. 'Atp6v1h'\n",
       "6. 'Rb1cc1'\n",
       "\n",
       "\n"
      ],
      "text/plain": [
       "[1] \"Gm6085\"  \"Mrpl15\"  \"Lypla1\"  \"Tcea1\"   \"Atp6v1h\" \"Rb1cc1\" "
      ]
     },
     "metadata": {},
     "output_type": "display_data"
    }
   ],
   "source": [
    "#  prepare list of background genes\n",
    "background <- gene_annot[rownames(data), 'external_gene_name']\n",
    "background <- unique(background)\n",
    "# background <- toupper(background)\n",
    "length(background)\n",
    "head(background)"
   ]
  },
  {
   "cell_type": "code",
   "execution_count": 9,
   "id": "4cc5a508",
   "metadata": {},
   "outputs": [
    {
     "data": {
      "text/html": [
       "<style>\n",
       ".list-inline {list-style: none; margin:0; padding: 0}\n",
       ".list-inline>li {display: inline-block}\n",
       ".list-inline>li:not(:last-child)::after {content: \"\\00b7\"; padding: 0 .5ex}\n",
       "</style>\n",
       "<ol class=list-inline><li>'C_albicans'</li><li>'untreated'</li><li>'IFN_beta'</li><li>'IFN_gamma'</li><li>'LCMV_Cl13'</li><li>'LO28'</li><li>'LPS'</li></ol>\n"
      ],
      "text/latex": [
       "\\begin{enumerate*}\n",
       "\\item 'C\\_albicans'\n",
       "\\item 'untreated'\n",
       "\\item 'IFN\\_beta'\n",
       "\\item 'IFN\\_gamma'\n",
       "\\item 'LCMV\\_Cl13'\n",
       "\\item 'LO28'\n",
       "\\item 'LPS'\n",
       "\\end{enumerate*}\n"
      ],
      "text/markdown": [
       "1. 'C_albicans'\n",
       "2. 'untreated'\n",
       "3. 'IFN_beta'\n",
       "4. 'IFN_gamma'\n",
       "5. 'LCMV_Cl13'\n",
       "6. 'LO28'\n",
       "7. 'LPS'\n",
       "\n",
       "\n"
      ],
      "text/plain": [
       "[1] \"C_albicans\" \"untreated\"  \"IFN_beta\"   \"IFN_gamma\"  \"LCMV_Cl13\" \n",
       "[6] \"LO28\"       \"LPS\"       "
      ]
     },
     "metadata": {},
     "output_type": "display_data"
    }
   ],
   "source": [
    "treatments <- c(unique(annot$treatment))\n",
    "treatments"
   ]
  },
  {
   "cell_type": "markdown",
   "id": "756b2dc7",
   "metadata": {},
   "source": [
    "# load reference data"
   ]
  },
  {
   "cell_type": "code",
   "execution_count": 10,
   "id": "967cdda0",
   "metadata": {
    "tags": []
   },
   "outputs": [
    {
     "name": "stderr",
     "output_type": "stream",
     "text": [
      "Using the column 'features' as feature index for the ranking database.\n",
      "\n",
      "Warning message in importRankings(gene_motif_db_dir, columns = background):\n",
      "“The following columns are missing from the database: Gm6085, 4732440D04Rik, Gm19026, Gm7449, Gm24276, Gm37569, Gm38120, Gm38380, Gm38319, Gm37444, Gm5251, Gm28438, Gm28437, Gm28661, Gm37906, Gm37354, Gm38157, Gm3052, Gm37233, Gm28417, Gm38115, Rpl12-ps1, Gm43213, Gm37309, Gm15832, Gm23722, Gm8251, Poglut2, Rps27a-ps1, Gm36955, A130048G24Rik, Gm17971, Sgo2a, Gm15834, Gm37760, D430013B06Rik, Gm37531, Gm15464, 6030460B20Rik, Gm37198, Rpl18-ps1, Gm37121, Gm20342, Rpl10a-ps1, Gm8805, Gm38387, Gm38162, 6820402A03Rik, Rpl31-ps14, Gm37733, Retreg2, Gm816, 4833412K13Rik, Gm38339, Gm37902, Gm37645, Gm38062, A630081D01Rik, Gm19552, Gm37058, A530040E14Rik, AC147806.2, Gm37914, Gm38021, Gm6136, 4833421G17Rik, Gm38365, Gm15368, D130058E05Rik, Septin2, BC055308, Gm15427, Gm37642, Gm7967, Gm28187, Relch, Gm37566, Gm7160, Gm38235, Gm37510, Gm8451, Gm38248, Rpl28-ps1, Gm37407, Gm15675, Gm37084, Gm37954, Gm29488, Gm38067, 6030442K20Rik, Gm38394, Gm37368, Gm8618, Gm37949, Gm37677, Gm15445, Gm4204, 2610012C04Rik, Gm37333, Gm4258, Gm37298, Gm37124, A130050O07Rik, Gm26930, D130019J16Rik, Gm37534, Mir181a-1hg, A130071D04Rik, Gm37080, Gm37101, Gm37423, Gm37470, Gm43544, Gm37718, Ro60, Gm29170, Odr4, Gm10138, Gm37893, Gm28791, Gm38009, Gm8818, Gm9530, 9430034N14Rik, Gm2000, Csnk2a3, Gm38043, Cryzl2, Cop1, Gm37115, Gm37215, 6720464F23Rik, Gm37052, Gm37809, Gm37653, Eef1aknmt, Rpsa-ps1, D630023O14Rik, Gm15853, Gm7299, Gm10522, Gm26110, Gm20045, B930036N10Rik, Cd244a, Gm37010, Gm10521, Gm37145, Gm37125, Ifi206, Ifi203-ps, Gm38104, Gm37490, Gm37519, Gm37960, Gm37598, Gm38146, Gm37706, Gm37033, Gm37390, Gm36933, Gm38079, Gm34342, Mtarc2, Gm37254, Flvcr1, D730003I15Rik, Gm37168, Pacc1, 9430037O13Rik, Gm37349, Gm38037, Utp25, Gm37783, Gm38036, Gm37334, 9630010A21Rik, Gm45902, Gm13196, Gm13391, Fbh1, Mindy3, Gm37289, Gm37255, Gm38014, Gm37780, Gm36930, Gm38257, Gm13349, Gm13341, Gm13340, Gm13423, Paxx, Tmem250-ps, Entr1, Gm23969, Brd3os, Gm13421, Gm10134, Gm13611, Gm26236, Gm43128, Gm43761, Gm44283, Gm44291, Marchf7, Gm13571, Gm37159, Gm38236, Gm37651, Gm37747, Gm37666, Gm38377, Mettl5os, Mrpl23-ps1, Gm14427, Gm13657, Itprid2, Gm13713, Gm13803, Gm10801, Gm10800, Gm13868, Gm13886, Rpl35a-ps4, Gm29340, Oip5os1, Nusap1, Sptbn5, Stard9, Rps12-ps10, Sqor, Mtln, Morrbid, Gm10762, Gm4430, 9530056E24Rik, Gm14049, Shld1, Kat14, Smim26, Gm14165, Gm14239, Gm37274, Scand1, Gm14173, 4930518I15Rik, Rab5if, Gm14286, Gm11450, 2900093K20Rik, Zfp335os, Gm14320, Rtf2, Gm14303, Rpl30-ps5, 9230112E08Rik, n-R5s2, Rpl30-ps11, Rpl3-ps1, Gm14636, Gm26652, Rpl36-ps10, Gm14537, Gm14569, Septin6, Gm14586, Gm28730, Rtl8a, Rtl8b, Gm14650, Gm14681, Gm5391, Gm14698, Gm6039, Gm8770, Rps24-ps3, Actr3-ps, Gm6977, Gm6987, Gm9009, Rpl17-ps8, Gm14813, Gm14843, Rtl5, Gm38020, Vcp-rs, Gm7117, Gm14853, Gm6325, P2ry10b, Gm10344, Radx, Gm6451, Rps7-ps3, Nbdy, Gm4997, Bclaf3, Gm7331, Gm15726, Gm15247, Gm16685, Rbis, Sirpb1c, Gm6141, Gm43672, Gm5845, Gm43667, Gm43668, 8430422M14Rik, Zfp267, Gm43484, n-R5s195, 6430590A07Rik, Gm7899, Gm32175, Gm37498, Gm6209, 5830415G21Rik, Gm37199, Gm38357, Gm37399, Gm37968, Gm38200, C130089K02Rik, Gm6204, Gm6394, Gm18867, Gm5539, Gm37589, Gm37488, Gm37696, B430305J03Rik, Gm9701, Gm37305, Gm18588, Gm22009, Gm37558, Gask1b, Tmem131l, Gm37726, Gm19439, Naxe, Rtraf-ps, Khdc4, Gm17146, Gm43737, Gm15998, Gm16540, Gm43712, Gm19739, Gm9774, Gm42463, Gm43773, Gm43774, B230398E01Rik, A730011C13Rik, Gm24920, Prune1, Mindy1, 6330562C20Rik, Hmgb1-ps5, Gm42671, Rps10-ps1, E330034L11Rik, H2ac20, H2bc21, H3c15, Gm20627, H4c14, Gm38227, Gm42783, Gm42819, Gm42820, Gm43024, Tent5c, Gm43466, Gm43462, Gm42937, Gm42941, Gm43061, Gm43149, Gm43387, Gm15472, Gm43696, A530041M06Rik, 4930509H03Rik, Gm43581, Gm42658, Gm42659, Inka2, Gm43848, Gm43328, Gm43329, Gm43331, Atp5pb, Gm4540, Gm43071, Gm19391, C130013H08Rik, Gm4859, Gm29736, Gm4332, Gm43609, Gm42776, Gm42994, Gm9381, Gm20568, Gm43011, Gm43010, Gm43009, Gm43006, Gm43005, Gm42515, Gm42514, C230031I18Rik, Gm42587, Gm43652, Fam241a, Gm43350, Gm42876, Gm9403, Gm43379, Gm43430, Gm43429, H2az1, Gm43088, Gm43162, Gm43445, Gm43560, Rpl36a-ps2, Gm9480, Gm10288, Gm43573, Rpsa-ps10, 4930555A03Rik, Gm42611, Gm43362, Gm11808, 4930430E12Rik, Rps11-ps3, Virma, Pip4p2, Gm11942, Gm11930, C9orf72, Smim27, Gm26881, Gm12454, 1700055D18Rik, Gm568, Gm12466, Elp1, Abitram, Gm12577, Ecpas, Rpsa-ps11, Gm12543, Gm11249, Dmac1, Junos, Gm12696, Gm12689, Gm12791, Czib, Tut4, Gm12743, 9630013D21Rik, Gm12816, Gm12882, D130007C19Rik, Gm12902, Gm12940, Gm12944, Gm12967, A930004J17Rik, Snora73b, Gm22767, Maco1, 2810405F17Rik, Gm13012, Micos10, Gm13056, Gm29367, Anp32b-ps1, Gm13231, Gm13166, Zfp993, Zfp991, Gm20707, Gm13205, Cenps, Gm37795, Gm13091, Wrap73, Prxl2b, C1qtnf12, 2510017J16Rik, Pex1, Gm43679, Rps4x-ps, Gm43112, Gm43113, Gm43111, Gm43623, Gm10484, Gm43727, Gm43728, 7330423F06Rik, Rpl17-ps5, Gm43054, Gm42798, Babam2, Rpl35a-ps5, Gm10059, Gm15513, Gm42559, Gm43457, Gm5298, Gm42551, 6030400A10Rik, Gm42462, Gm16014, E430021H15Rik, Gm3364, Gm43201, Gm43200, Gm43670, Gm45495, Gm40304, Gm42635, Gm42481, Gm42480, Gm42482, Gm42479, Gm42639, Gm42640, Gm42484, Gm42483, Gm20033, C230096K16Rik, Gm43627, Tmem156, Gm43628, 1110003F10Rik, Gm43290, Gm40309, Gm42648, Gm43775, Gm43323, Gm43793, Gm43792, Gm43794, Gm43343, Gm43795, C530043K16Rik, Gm43279, Gm42670, Gm42632, Gm42735, Gm42737, D630030B08Rik, Gm42466, Gm43499, Gm42572, Gm42571, 6720475M21Rik, Gm42576, Gm42666, Rpl7-ps7, Septin11, Gm43682, Gm43681, Gm42603, 1700016F12Rik, Gm33370, C430019N01Rik, Gm17092, Gm43511, Abraxas1, Gm43513, Gm43273, Thoc2l, Gm43817, Gm28050, Dipk1a, Gm42517, Gm10419, Gm10086, Gm43365, 5430403G16Rik, Gm43138, Gm42595, Gm22716, Gm43336, Gm42913, Gm13822, C730045M19Rik, Gm13840, Gcn1, Gm43637, Gm43788, Gm43275, Gm43274, 2510016D11Rik, Hectd4, Gm42918, Gm43420, Pheta1, Gm42748, Gm42829, Gm43359, Gm43413, AI480526, 4932422M17Rik, Wdr66, Gm15747, Gm43813, Gm43133, Gm43339, Gm42633, Gm42979, Nipsnap2, Gm15903, Gm42790, Gm42986, Gm43482, Ndufa12-ps, Gm42467, Castor2, Gm43481, 2700029L08Rik, Mettl27, Bud23, Gm42731, A430110C17Rik, Gm38082, Gm20768, 9130604C24Rik, Gm36266, Gm15753, Map11, 6330403L08Rik, Gm6433, 2900089D17Rik, Gm42636, B230303O12Rik, Gm43625, D730045B01Rik, Gm43196, Gm20559, Gm43197, Gm43294, Gm44432, Gm44250, Gm43924, Gm43990, Gm43533, Gm43844, Gm15596, Gm20186, Gm8927, Gm42547, Gm42549, Gm42548, Gm37978, 5330406M23Rik, Gm37728, Gm13862, Cyren, Gm49041, Gm7783, Rbpj-ps3, Gm35931, Rny3, Rny1, Gm44041, Gm45738, Gm19253, Gsdme, Rps8-ps3, Gm27477, Gm15050, Gm44080, Mindy4, Gm3793, Gm9794, Gm15644, Gm29848, Gm23346, Gm44130, Gm29438, Gm38832, Sh2d6, Gm45053, D530018E20Rik, Gm9008, Gm43890, 5430434F05Rik, Gm43588, Gm42600, Gm43309, Gm44090, Gm44369, Gm44292, Gm44153, Gm44152, Gm44093, Gm44423, 9930120I10Rik, B130021K23Rik, H1f10, Gm44168, Gm44187, Gm44265, Gm36189, C030015A19Rik, Gm45828, Gm22971, Gm26175, Gm20696, Tpt1-ps3, Gm44045, Gm44044, Rpl36-ps12, Gm29781, Gm43912, Gm26982, D830050J10Rik, Gm44206, Gm8213, Marchf8, Gm44237, 4933440N22Rik, Hdhd5, Gm15856, Gm8430, Gm5112, 2010008C14Rik, Gm23751, Gm7308, Gm43633, Gm45769, Gm43982, H2aj, Gm44258, Gm44013, Rpl38-ps2, Gm44164, Rps25-ps1, Gm44270, Gm7618, Gm10388, Resf1, Gm15785, Gm44165, Gm15448, Gm15931, Gm45133, Gm36371, 1810019N24Rik, Zswim9, Phf20-ps, Nop53, Bicra, 9330104G04Rik, Gm10676, Mypopos, Gm16174, Gm44658, Gm10175, Dmac2, Gm44699, Gm6579, Gm26810, Rps12-ps4, Gm4673, Gm12758, BC060293, Gm44567, 2310043P16Rik, Gm44836, Gm37494, 2610021A01Rik, Gm31597, Gm32031, Gm2788, Gm44913, Gm44822, Gm7336, Gm6290, Gm44616, Gm44829, Gm44667, Gm44552, Gm44834, Gm44835, Gm44694, AU020206, Gm44639, Gm39041, Gm10616, Gm44974, Gm44950, Gm44951, Gm45203, Gm45718, Gm45698, Ramac, Gm10160, Gm44916, Gm6112, Gm16638, Gm45838, Tlnrd1, Mesd, Gm44751, Rps13-ps2, Gm45120, Gm45223, Gm45222, Gm45221, Gm45220, 6430511E19Rik, 9530078K11Rik, Gm15501, Gm8319, Gm8463, Gm6341, Gm47324, Gm45380, Gm45399, Trim30c, Gm16464, Dnhd1, Gm45684, Gm4070, Gvin1, Gm8995, 4930431P19Rik, Gm25636, AA474408, Gm45473, Gm15500, Gm44867, C430039J01Rik, AV356131, Gm45153, Gm45084, Vps35l, Gm44550, Iqck, Ppp1ccb, Rexo5, 9030407P20Rik, Mosmo, Gm45137, 2210406H18Rik, Gm45191, Gm44663, Gm44745, Gm20274, ”\n",
      "Warning message:\n",
      "“`as.tibble()` was deprecated in tibble 2.0.0.\n",
      "Please use `as_tibble()` instead.\n",
      "The signature and semantics have changed, see `?as_tibble`.\n",
      "\u001b[90mThis warning is displayed once every 8 hours.\u001b[39m\n",
      "\u001b[90mCall `lifecycle::last_lifecycle_warnings()` to see where this warning was generated.\u001b[39m”\n"
     ]
    },
    {
     "data": {
      "text/plain": [
       "Rankings for RcisTarget.\n",
       "  Number of genes: 21490 (21490 available in the full DB)\n",
       "  Number of FEATURES: 24453\n",
       "\n",
       " [Source file: mm10__refseq-r80__500bp_up_and_100bp_down_tss.mc9nr.feather]"
      ]
     },
     "metadata": {},
     "output_type": "display_data"
    },
    {
     "data": {
      "text/html": [
       "<style>\n",
       ".list-inline {list-style: none; margin:0; padding: 0}\n",
       ".list-inline>li {display: inline-block}\n",
       ".list-inline>li:not(:last-child)::after {content: \"\\00b7\"; padding: 0 .5ex}\n",
       "</style>\n",
       "<ol class=list-inline><li>24453</li><li>21491</li></ol>\n"
      ],
      "text/latex": [
       "\\begin{enumerate*}\n",
       "\\item 24453\n",
       "\\item 21491\n",
       "\\end{enumerate*}\n"
      ],
      "text/markdown": [
       "1. 24453\n",
       "2. 21491\n",
       "\n",
       "\n"
      ],
      "text/plain": [
       "[1] 24453 21491"
      ]
     },
     "metadata": {},
     "output_type": "display_data"
    },
    {
     "data": {
      "text/html": [
       "<table class=\"dataframe\">\n",
       "<caption>A tibble: 6 × 21491</caption>\n",
       "<thead>\n",
       "\t<tr><th scope=col>features</th><th scope=col>Mrpl15</th><th scope=col>Lypla1</th><th scope=col>Tcea1</th><th scope=col>Atp6v1h</th><th scope=col>Rb1cc1</th><th scope=col>St18</th><th scope=col>Pcmtd1</th><th scope=col>Rrs1</th><th scope=col>Adhfe1</th><th scope=col>⋯</th><th scope=col>Mir3086</th><th scope=col>Vax1</th><th scope=col>Kcnk18</th><th scope=col>Slc18a2</th><th scope=col>Emx2os</th><th scope=col>Emx2</th><th scope=col>2700089I24Rik</th><th scope=col>E330013P04Rik</th><th scope=col>Prlhr</th><th scope=col>Gm7102</th></tr>\n",
       "\t<tr><th scope=col>&lt;chr&gt;</th><th scope=col>&lt;int&gt;</th><th scope=col>&lt;int&gt;</th><th scope=col>&lt;int&gt;</th><th scope=col>&lt;int&gt;</th><th scope=col>&lt;int&gt;</th><th scope=col>&lt;int&gt;</th><th scope=col>&lt;int&gt;</th><th scope=col>&lt;int&gt;</th><th scope=col>&lt;int&gt;</th><th scope=col>⋯</th><th scope=col>&lt;int&gt;</th><th scope=col>&lt;int&gt;</th><th scope=col>&lt;int&gt;</th><th scope=col>&lt;int&gt;</th><th scope=col>&lt;int&gt;</th><th scope=col>&lt;int&gt;</th><th scope=col>&lt;int&gt;</th><th scope=col>&lt;int&gt;</th><th scope=col>&lt;int&gt;</th><th scope=col>&lt;int&gt;</th></tr>\n",
       "</thead>\n",
       "<tbody>\n",
       "\t<tr><td>jaspar__MA1023.1                                   </td><td> 7973</td><td> 2078</td><td> 4395</td><td> 9786</td><td>  398</td><td>10421</td><td> 4800</td><td>4112</td><td> 7248</td><td>⋯</td><td> 8470</td><td>16733</td><td>15538</td><td>20988</td><td>  725</td><td>  337</td><td>17050</td><td> 7902</td><td> 2624</td><td>15858</td></tr>\n",
       "\t<tr><td>taipale_cyt_meth__IRX3_NACGYRNNNNNNYGCGTN_eDBD_meth</td><td>18856</td><td> 5458</td><td>13735</td><td>19592</td><td> 3253</td><td>  171</td><td>19280</td><td>6516</td><td> 9693</td><td>⋯</td><td> 8037</td><td>10563</td><td> 6028</td><td>21101</td><td>  142</td><td>  217</td><td>18244</td><td> 1384</td><td> 5046</td><td>17371</td></tr>\n",
       "\t<tr><td>taipale__DBP_DBD_NRTTACGTAAYN                      </td><td> 1500</td><td>12422</td><td>21165</td><td>17887</td><td>13680</td><td>  373</td><td>17322</td><td>8600</td><td>19574</td><td>⋯</td><td>14079</td><td>14816</td><td> 3787</td><td>  456</td><td>11944</td><td>15493</td><td>15285</td><td> 9719</td><td>17125</td><td>13636</td></tr>\n",
       "\t<tr><td>cisbp__M4240                                       </td><td> 8721</td><td> 8205</td><td>16416</td><td>14348</td><td> 6252</td><td>  249</td><td>20542</td><td>1985</td><td>19639</td><td>⋯</td><td> 9830</td><td> 8531</td><td>13937</td><td> 5062</td><td>11229</td><td> 5284</td><td>10224</td><td>  212</td><td>12696</td><td>21340</td></tr>\n",
       "\t<tr><td>scertf__macisaac.ACE2                              </td><td> 7600</td><td>  923</td><td>18949</td><td>13228</td><td> 6860</td><td> 9033</td><td>20642</td><td>3703</td><td>18363</td><td>⋯</td><td> 5685</td><td>12430</td><td>11427</td><td>14307</td><td> 9901</td><td> 5312</td><td> 8734</td><td>12554</td><td> 8039</td><td>21328</td></tr>\n",
       "\t<tr><td>hocomoco__CEBPG_MOUSE.H11MO.0.B                    </td><td> 8938</td><td>18681</td><td>14783</td><td>14395</td><td> 2228</td><td> 1414</td><td>20504</td><td>7816</td><td>16061</td><td>⋯</td><td>12438</td><td>  211</td><td>18347</td><td> 6361</td><td>19287</td><td>20099</td><td>10897</td><td>10236</td><td>18224</td><td>19680</td></tr>\n",
       "</tbody>\n",
       "</table>\n"
      ],
      "text/latex": [
       "A tibble: 6 × 21491\n",
       "\\begin{tabular}{lllllllllllllllllllll}\n",
       " features & Mrpl15 & Lypla1 & Tcea1 & Atp6v1h & Rb1cc1 & St18 & Pcmtd1 & Rrs1 & Adhfe1 & ⋯ & Mir3086 & Vax1 & Kcnk18 & Slc18a2 & Emx2os & Emx2 & 2700089I24Rik & E330013P04Rik & Prlhr & Gm7102\\\\\n",
       " <chr> & <int> & <int> & <int> & <int> & <int> & <int> & <int> & <int> & <int> & ⋯ & <int> & <int> & <int> & <int> & <int> & <int> & <int> & <int> & <int> & <int>\\\\\n",
       "\\hline\n",
       "\t jaspar\\_\\_MA1023.1                                    &  7973 &  2078 &  4395 &  9786 &   398 & 10421 &  4800 & 4112 &  7248 & ⋯ &  8470 & 16733 & 15538 & 20988 &   725 &   337 & 17050 &  7902 &  2624 & 15858\\\\\n",
       "\t taipale\\_cyt\\_meth\\_\\_IRX3\\_NACGYRNNNNNNYGCGTN\\_eDBD\\_meth & 18856 &  5458 & 13735 & 19592 &  3253 &   171 & 19280 & 6516 &  9693 & ⋯ &  8037 & 10563 &  6028 & 21101 &   142 &   217 & 18244 &  1384 &  5046 & 17371\\\\\n",
       "\t taipale\\_\\_DBP\\_DBD\\_NRTTACGTAAYN                       &  1500 & 12422 & 21165 & 17887 & 13680 &   373 & 17322 & 8600 & 19574 & ⋯ & 14079 & 14816 &  3787 &   456 & 11944 & 15493 & 15285 &  9719 & 17125 & 13636\\\\\n",
       "\t cisbp\\_\\_M4240                                        &  8721 &  8205 & 16416 & 14348 &  6252 &   249 & 20542 & 1985 & 19639 & ⋯ &  9830 &  8531 & 13937 &  5062 & 11229 &  5284 & 10224 &   212 & 12696 & 21340\\\\\n",
       "\t scertf\\_\\_macisaac.ACE2                               &  7600 &   923 & 18949 & 13228 &  6860 &  9033 & 20642 & 3703 & 18363 & ⋯ &  5685 & 12430 & 11427 & 14307 &  9901 &  5312 &  8734 & 12554 &  8039 & 21328\\\\\n",
       "\t hocomoco\\_\\_CEBPG\\_MOUSE.H11MO.0.B                     &  8938 & 18681 & 14783 & 14395 &  2228 &  1414 & 20504 & 7816 & 16061 & ⋯ & 12438 &   211 & 18347 &  6361 & 19287 & 20099 & 10897 & 10236 & 18224 & 19680\\\\\n",
       "\\end{tabular}\n"
      ],
      "text/markdown": [
       "\n",
       "A tibble: 6 × 21491\n",
       "\n",
       "| features &lt;chr&gt; | Mrpl15 &lt;int&gt; | Lypla1 &lt;int&gt; | Tcea1 &lt;int&gt; | Atp6v1h &lt;int&gt; | Rb1cc1 &lt;int&gt; | St18 &lt;int&gt; | Pcmtd1 &lt;int&gt; | Rrs1 &lt;int&gt; | Adhfe1 &lt;int&gt; | ⋯ ⋯ | Mir3086 &lt;int&gt; | Vax1 &lt;int&gt; | Kcnk18 &lt;int&gt; | Slc18a2 &lt;int&gt; | Emx2os &lt;int&gt; | Emx2 &lt;int&gt; | 2700089I24Rik &lt;int&gt; | E330013P04Rik &lt;int&gt; | Prlhr &lt;int&gt; | Gm7102 &lt;int&gt; |\n",
       "|---|---|---|---|---|---|---|---|---|---|---|---|---|---|---|---|---|---|---|---|---|\n",
       "| jaspar__MA1023.1                                    |  7973 |  2078 |  4395 |  9786 |   398 | 10421 |  4800 | 4112 |  7248 | ⋯ |  8470 | 16733 | 15538 | 20988 |   725 |   337 | 17050 |  7902 |  2624 | 15858 |\n",
       "| taipale_cyt_meth__IRX3_NACGYRNNNNNNYGCGTN_eDBD_meth | 18856 |  5458 | 13735 | 19592 |  3253 |   171 | 19280 | 6516 |  9693 | ⋯ |  8037 | 10563 |  6028 | 21101 |   142 |   217 | 18244 |  1384 |  5046 | 17371 |\n",
       "| taipale__DBP_DBD_NRTTACGTAAYN                       |  1500 | 12422 | 21165 | 17887 | 13680 |   373 | 17322 | 8600 | 19574 | ⋯ | 14079 | 14816 |  3787 |   456 | 11944 | 15493 | 15285 |  9719 | 17125 | 13636 |\n",
       "| cisbp__M4240                                        |  8721 |  8205 | 16416 | 14348 |  6252 |   249 | 20542 | 1985 | 19639 | ⋯ |  9830 |  8531 | 13937 |  5062 | 11229 |  5284 | 10224 |   212 | 12696 | 21340 |\n",
       "| scertf__macisaac.ACE2                               |  7600 |   923 | 18949 | 13228 |  6860 |  9033 | 20642 | 3703 | 18363 | ⋯ |  5685 | 12430 | 11427 | 14307 |  9901 |  5312 |  8734 | 12554 |  8039 | 21328 |\n",
       "| hocomoco__CEBPG_MOUSE.H11MO.0.B                     |  8938 | 18681 | 14783 | 14395 |  2228 |  1414 | 20504 | 7816 | 16061 | ⋯ | 12438 |   211 | 18347 |  6361 | 19287 | 20099 | 10897 | 10236 | 18224 | 19680 |\n",
       "\n"
      ],
      "text/plain": [
       "  features                                            Mrpl15 Lypla1 Tcea1\n",
       "1 jaspar__MA1023.1                                     7973   2078   4395\n",
       "2 taipale_cyt_meth__IRX3_NACGYRNNNNNNYGCGTN_eDBD_meth 18856   5458  13735\n",
       "3 taipale__DBP_DBD_NRTTACGTAAYN                        1500  12422  21165\n",
       "4 cisbp__M4240                                         8721   8205  16416\n",
       "5 scertf__macisaac.ACE2                                7600    923  18949\n",
       "6 hocomoco__CEBPG_MOUSE.H11MO.0.B                      8938  18681  14783\n",
       "  Atp6v1h Rb1cc1 St18  Pcmtd1 Rrs1 Adhfe1 ⋯ Mir3086 Vax1  Kcnk18 Slc18a2 Emx2os\n",
       "1  9786     398  10421  4800  4112  7248  ⋯  8470   16733 15538  20988     725 \n",
       "2 19592    3253    171 19280  6516  9693  ⋯  8037   10563  6028  21101     142 \n",
       "3 17887   13680    373 17322  8600 19574  ⋯ 14079   14816  3787    456   11944 \n",
       "4 14348    6252    249 20542  1985 19639  ⋯  9830    8531 13937   5062   11229 \n",
       "5 13228    6860   9033 20642  3703 18363  ⋯  5685   12430 11427  14307    9901 \n",
       "6 14395    2228   1414 20504  7816 16061  ⋯ 12438     211 18347   6361   19287 \n",
       "  Emx2  2700089I24Rik E330013P04Rik Prlhr Gm7102\n",
       "1   337 17050          7902          2624 15858 \n",
       "2   217 18244          1384          5046 17371 \n",
       "3 15493 15285          9719         17125 13636 \n",
       "4  5284 10224           212         12696 21340 \n",
       "5  5312  8734         12554          8039 21328 \n",
       "6 20099 10897         10236         18224 19680 "
      ]
     },
     "metadata": {},
     "output_type": "display_data"
    }
   ],
   "source": [
    "# check if Gene-motif rankings database exists and download if not\n",
    "if (!file.exists(gene_motif_db_dir)){\n",
    "    download.file(gene_motif_db_url, destfile=gene_motif_db_dir, method='wget')\n",
    "}\n",
    "\n",
    "# import motif rankings\n",
    "# motifRankings <- importRankings(gene_motif_db_dir)\n",
    "\n",
    "# import motif rankings considering background\n",
    "rankingsDb <- importRankings(gene_motif_db_dir, columns=background)\n",
    "motifRankings <- reRank(rankingsDb)\n",
    "\n",
    "motifRankings\n",
    "ranking_df <- getRanking(motifRankings)\n",
    "dim(ranking_df)\n",
    "head(ranking_df)"
   ]
  },
  {
   "cell_type": "code",
   "execution_count": 11,
   "id": "45a85354",
   "metadata": {},
   "outputs": [
    {
     "data": {
      "text/html": [
       "<style>\n",
       ".list-inline {list-style: none; margin:0; padding: 0}\n",
       ".list-inline>li {display: inline-block}\n",
       ".list-inline>li:not(:last-child)::after {content: \"\\00b7\"; padding: 0 .5ex}\n",
       "</style>\n",
       "<ol class=list-inline><li>163338</li><li>7</li></ol>\n"
      ],
      "text/latex": [
       "\\begin{enumerate*}\n",
       "\\item 163338\n",
       "\\item 7\n",
       "\\end{enumerate*}\n"
      ],
      "text/markdown": [
       "1. 163338\n",
       "2. 7\n",
       "\n",
       "\n"
      ],
      "text/plain": [
       "[1] 163338      7"
      ]
     },
     "metadata": {},
     "output_type": "display_data"
    },
    {
     "data": {
      "text/html": [
       "<table class=\"dataframe\">\n",
       "<caption>A data.table: 6 × 7</caption>\n",
       "<thead>\n",
       "\t<tr><th scope=col>motif</th><th scope=col>TF</th><th scope=col>directAnnotation</th><th scope=col>inferred_Orthology</th><th scope=col>inferred_MotifSimil</th><th scope=col>annotationSource</th><th scope=col>description</th></tr>\n",
       "\t<tr><th scope=col>&lt;chr&gt;</th><th scope=col>&lt;chr&gt;</th><th scope=col>&lt;lgl&gt;</th><th scope=col>&lt;lgl&gt;</th><th scope=col>&lt;lgl&gt;</th><th scope=col>&lt;fct&gt;</th><th scope=col>&lt;chr&gt;</th></tr>\n",
       "</thead>\n",
       "<tbody>\n",
       "\t<tr><td>bergman__Abd-B  </td><td>Hoxa9 </td><td>FALSE</td><td>FALSE</td><td> TRUE</td><td>inferredBy_MotifSimilarity</td><td>gene is annotated for similar motif cisbp__M1008 ('HOXA6[gene ID: \"ENSG00000106006\" species: \"Homo sapiens\" TF status: \"inferred\" TF family: \"Homeodomain\" DBDs: \"Homeobox\"]; HOXB9[gene ID: \"ENSG00000170689\" species: \"Homo sapiens\" TF status: \"inferred\" TF family: \"Homeodomain\" DBDs: \"Homeobox\"]; HOXC9[gene ID: \"ENSG00000180806\" species: \"Homo sapiens\" TF status: \"inferred\" TF family: \"Homeodomain\" DBDs: \"Homeobox\"]; Hoxa9[gene ID: \"ENSMUSG00000038227\" species: \"Mus musculus\" TF status: \"direct\" TF family: \"Homeodomain\" DBDs: \"Homeobox\"]; Hoxb9[gene ID: \"ENSMUSG00000020875\" species: \"Mus musculus\" TF status: \"inferred\" TF family: \"Homeodomain\" DBDs: \"Homeobox\"]; NP_032296.2[gene ID: \"NP_032296.2\" species: \"Mus musculus\" TF status: \"inferred\" TF family: \"Homeodomain\" DBDs: \"Homeobox\"]'; q-value = 0.0006)</td></tr>\n",
       "\t<tr><td>bergman__Aef1   </td><td>Zfp128</td><td>FALSE</td><td> TRUE</td><td>FALSE</td><td>inferredBy_Orthology      </td><td>motif is annotated for orthologous gene FBgn0005694 in D. melanogaster (identity = 22%)                                                                                                                                                                                                                                                                                                                                                                                                                                                                                                                                                                                                                                                                                                                                                      </td></tr>\n",
       "\t<tr><td>bergman__Cf2    </td><td>Zfp853</td><td>FALSE</td><td> TRUE</td><td>FALSE</td><td>inferredBy_Orthology      </td><td>motif is annotated for orthologous gene FBgn0000286 in D. melanogaster (identity = 16%)                                                                                                                                                                                                                                                                                                                                                                                                                                                                                                                                                                                                                                                                                                                                                      </td></tr>\n",
       "\t<tr><td>bergman__EcR_usp</td><td>Nr1h2 </td><td>FALSE</td><td> TRUE</td><td>FALSE</td><td>inferredBy_Orthology      </td><td>gene is orthologous to FBgn0000546 in D. melanogaster (identity = 37%) which is directly annotated for motif                                                                                                                                                                                                                                                                                                                                                                                                                                                                                                                                                                                                                                                                                                                                 </td></tr>\n",
       "\t<tr><td>bergman__EcR_usp</td><td>Nr1h3 </td><td>FALSE</td><td> TRUE</td><td>FALSE</td><td>inferredBy_Orthology      </td><td>gene is orthologous to FBgn0000546 in D. melanogaster (identity = 40%) which is directly annotated for motif                                                                                                                                                                                                                                                                                                                                                                                                                                                                                                                                                                                                                                                                                                                                 </td></tr>\n",
       "\t<tr><td>bergman__EcR_usp</td><td>Nr1h4 </td><td>FALSE</td><td> TRUE</td><td>FALSE</td><td>inferredBy_Orthology      </td><td>gene is orthologous to FBgn0000546 in D. melanogaster (identity = 29%) which is directly annotated for motif                                                                                                                                                                                                                                                                                                                                                                                                                                                                                                                                                                                                                                                                                                                                 </td></tr>\n",
       "</tbody>\n",
       "</table>\n"
      ],
      "text/latex": [
       "A data.table: 6 × 7\n",
       "\\begin{tabular}{lllllll}\n",
       " motif & TF & directAnnotation & inferred\\_Orthology & inferred\\_MotifSimil & annotationSource & description\\\\\n",
       " <chr> & <chr> & <lgl> & <lgl> & <lgl> & <fct> & <chr>\\\\\n",
       "\\hline\n",
       "\t bergman\\_\\_Abd-B   & Hoxa9  & FALSE & FALSE &  TRUE & inferredBy\\_MotifSimilarity & gene is annotated for similar motif cisbp\\_\\_M1008 ('HOXA6{[}gene ID: \"ENSG00000106006\" species: \"Homo sapiens\" TF status: \"inferred\" TF family: \"Homeodomain\" DBDs: \"Homeobox\"{]}; HOXB9{[}gene ID: \"ENSG00000170689\" species: \"Homo sapiens\" TF status: \"inferred\" TF family: \"Homeodomain\" DBDs: \"Homeobox\"{]}; HOXC9{[}gene ID: \"ENSG00000180806\" species: \"Homo sapiens\" TF status: \"inferred\" TF family: \"Homeodomain\" DBDs: \"Homeobox\"{]}; Hoxa9{[}gene ID: \"ENSMUSG00000038227\" species: \"Mus musculus\" TF status: \"direct\" TF family: \"Homeodomain\" DBDs: \"Homeobox\"{]}; Hoxb9{[}gene ID: \"ENSMUSG00000020875\" species: \"Mus musculus\" TF status: \"inferred\" TF family: \"Homeodomain\" DBDs: \"Homeobox\"{]}; NP\\_032296.2{[}gene ID: \"NP\\_032296.2\" species: \"Mus musculus\" TF status: \"inferred\" TF family: \"Homeodomain\" DBDs: \"Homeobox\"{]}'; q-value = 0.0006)\\\\\n",
       "\t bergman\\_\\_Aef1    & Zfp128 & FALSE &  TRUE & FALSE & inferredBy\\_Orthology       & motif is annotated for orthologous gene FBgn0005694 in D. melanogaster (identity = 22\\%)                                                                                                                                                                                                                                                                                                                                                                                                                                                                                                                                                                                                                                                                                                                                                      \\\\\n",
       "\t bergman\\_\\_Cf2     & Zfp853 & FALSE &  TRUE & FALSE & inferredBy\\_Orthology       & motif is annotated for orthologous gene FBgn0000286 in D. melanogaster (identity = 16\\%)                                                                                                                                                                                                                                                                                                                                                                                                                                                                                                                                                                                                                                                                                                                                                      \\\\\n",
       "\t bergman\\_\\_EcR\\_usp & Nr1h2  & FALSE &  TRUE & FALSE & inferredBy\\_Orthology       & gene is orthologous to FBgn0000546 in D. melanogaster (identity = 37\\%) which is directly annotated for motif                                                                                                                                                                                                                                                                                                                                                                                                                                                                                                                                                                                                                                                                                                                                 \\\\\n",
       "\t bergman\\_\\_EcR\\_usp & Nr1h3  & FALSE &  TRUE & FALSE & inferredBy\\_Orthology       & gene is orthologous to FBgn0000546 in D. melanogaster (identity = 40\\%) which is directly annotated for motif                                                                                                                                                                                                                                                                                                                                                                                                                                                                                                                                                                                                                                                                                                                                 \\\\\n",
       "\t bergman\\_\\_EcR\\_usp & Nr1h4  & FALSE &  TRUE & FALSE & inferredBy\\_Orthology       & gene is orthologous to FBgn0000546 in D. melanogaster (identity = 29\\%) which is directly annotated for motif                                                                                                                                                                                                                                                                                                                                                                                                                                                                                                                                                                                                                                                                                                                                 \\\\\n",
       "\\end{tabular}\n"
      ],
      "text/markdown": [
       "\n",
       "A data.table: 6 × 7\n",
       "\n",
       "| motif &lt;chr&gt; | TF &lt;chr&gt; | directAnnotation &lt;lgl&gt; | inferred_Orthology &lt;lgl&gt; | inferred_MotifSimil &lt;lgl&gt; | annotationSource &lt;fct&gt; | description &lt;chr&gt; |\n",
       "|---|---|---|---|---|---|---|\n",
       "| bergman__Abd-B   | Hoxa9  | FALSE | FALSE |  TRUE | inferredBy_MotifSimilarity | gene is annotated for similar motif cisbp__M1008 ('HOXA6[gene ID: \"ENSG00000106006\" species: \"Homo sapiens\" TF status: \"inferred\" TF family: \"Homeodomain\" DBDs: \"Homeobox\"]; HOXB9[gene ID: \"ENSG00000170689\" species: \"Homo sapiens\" TF status: \"inferred\" TF family: \"Homeodomain\" DBDs: \"Homeobox\"]; HOXC9[gene ID: \"ENSG00000180806\" species: \"Homo sapiens\" TF status: \"inferred\" TF family: \"Homeodomain\" DBDs: \"Homeobox\"]; Hoxa9[gene ID: \"ENSMUSG00000038227\" species: \"Mus musculus\" TF status: \"direct\" TF family: \"Homeodomain\" DBDs: \"Homeobox\"]; Hoxb9[gene ID: \"ENSMUSG00000020875\" species: \"Mus musculus\" TF status: \"inferred\" TF family: \"Homeodomain\" DBDs: \"Homeobox\"]; NP_032296.2[gene ID: \"NP_032296.2\" species: \"Mus musculus\" TF status: \"inferred\" TF family: \"Homeodomain\" DBDs: \"Homeobox\"]'; q-value = 0.0006) |\n",
       "| bergman__Aef1    | Zfp128 | FALSE |  TRUE | FALSE | inferredBy_Orthology       | motif is annotated for orthologous gene FBgn0005694 in D. melanogaster (identity = 22%)                                                                                                                                                                                                                                                                                                                                                                                                                                                                                                                                                                                                                                                                                                                                                       |\n",
       "| bergman__Cf2     | Zfp853 | FALSE |  TRUE | FALSE | inferredBy_Orthology       | motif is annotated for orthologous gene FBgn0000286 in D. melanogaster (identity = 16%)                                                                                                                                                                                                                                                                                                                                                                                                                                                                                                                                                                                                                                                                                                                                                       |\n",
       "| bergman__EcR_usp | Nr1h2  | FALSE |  TRUE | FALSE | inferredBy_Orthology       | gene is orthologous to FBgn0000546 in D. melanogaster (identity = 37%) which is directly annotated for motif                                                                                                                                                                                                                                                                                                                                                                                                                                                                                                                                                                                                                                                                                                                                  |\n",
       "| bergman__EcR_usp | Nr1h3  | FALSE |  TRUE | FALSE | inferredBy_Orthology       | gene is orthologous to FBgn0000546 in D. melanogaster (identity = 40%) which is directly annotated for motif                                                                                                                                                                                                                                                                                                                                                                                                                                                                                                                                                                                                                                                                                                                                  |\n",
       "| bergman__EcR_usp | Nr1h4  | FALSE |  TRUE | FALSE | inferredBy_Orthology       | gene is orthologous to FBgn0000546 in D. melanogaster (identity = 29%) which is directly annotated for motif                                                                                                                                                                                                                                                                                                                                                                                                                                                                                                                                                                                                                                                                                                                                  |\n",
       "\n"
      ],
      "text/plain": [
       "  motif            TF     directAnnotation inferred_Orthology\n",
       "1 bergman__Abd-B   Hoxa9  FALSE            FALSE             \n",
       "2 bergman__Aef1    Zfp128 FALSE             TRUE             \n",
       "3 bergman__Cf2     Zfp853 FALSE             TRUE             \n",
       "4 bergman__EcR_usp Nr1h2  FALSE             TRUE             \n",
       "5 bergman__EcR_usp Nr1h3  FALSE             TRUE             \n",
       "6 bergman__EcR_usp Nr1h4  FALSE             TRUE             \n",
       "  inferred_MotifSimil annotationSource          \n",
       "1  TRUE               inferredBy_MotifSimilarity\n",
       "2 FALSE               inferredBy_Orthology      \n",
       "3 FALSE               inferredBy_Orthology      \n",
       "4 FALSE               inferredBy_Orthology      \n",
       "5 FALSE               inferredBy_Orthology      \n",
       "6 FALSE               inferredBy_Orthology      \n",
       "  description                                                                                                                                                                                                                                                                                                                                                                                                                                                                                                                                                                                                                                                                                                                                                                                                                                  \n",
       "1 gene is annotated for similar motif cisbp__M1008 ('HOXA6[gene ID: \"ENSG00000106006\" species: \"Homo sapiens\" TF status: \"inferred\" TF family: \"Homeodomain\" DBDs: \"Homeobox\"]; HOXB9[gene ID: \"ENSG00000170689\" species: \"Homo sapiens\" TF status: \"inferred\" TF family: \"Homeodomain\" DBDs: \"Homeobox\"]; HOXC9[gene ID: \"ENSG00000180806\" species: \"Homo sapiens\" TF status: \"inferred\" TF family: \"Homeodomain\" DBDs: \"Homeobox\"]; Hoxa9[gene ID: \"ENSMUSG00000038227\" species: \"Mus musculus\" TF status: \"direct\" TF family: \"Homeodomain\" DBDs: \"Homeobox\"]; Hoxb9[gene ID: \"ENSMUSG00000020875\" species: \"Mus musculus\" TF status: \"inferred\" TF family: \"Homeodomain\" DBDs: \"Homeobox\"]; NP_032296.2[gene ID: \"NP_032296.2\" species: \"Mus musculus\" TF status: \"inferred\" TF family: \"Homeodomain\" DBDs: \"Homeobox\"]'; q-value = 0.0006)\n",
       "2 motif is annotated for orthologous gene FBgn0005694 in D. melanogaster (identity = 22%)                                                                                                                                                                                                                                                                                                                                                                                                                                                                                                                                                                                                                                                                                                                                                      \n",
       "3 motif is annotated for orthologous gene FBgn0000286 in D. melanogaster (identity = 16%)                                                                                                                                                                                                                                                                                                                                                                                                                                                                                                                                                                                                                                                                                                                                                      \n",
       "4 gene is orthologous to FBgn0000546 in D. melanogaster (identity = 37%) which is directly annotated for motif                                                                                                                                                                                                                                                                                                                                                                                                                                                                                                                                                                                                                                                                                                                                 \n",
       "5 gene is orthologous to FBgn0000546 in D. melanogaster (identity = 40%) which is directly annotated for motif                                                                                                                                                                                                                                                                                                                                                                                                                                                                                                                                                                                                                                                                                                                                 \n",
       "6 gene is orthologous to FBgn0000546 in D. melanogaster (identity = 29%) which is directly annotated for motif                                                                                                                                                                                                                                                                                                                                                                                                                                                                                                                                                                                                                                                                                                                                 "
      ]
     },
     "metadata": {},
     "output_type": "display_data"
    }
   ],
   "source": [
    "# Load the annotation to mouse transcription factors\n",
    "# alternative source https://resources.aertslab.org/cistarget/motif2tf\n",
    "data(motifAnnotations_mgi)\n",
    "\n",
    "dim(motifAnnotations_mgi)\n",
    "head(motifAnnotations_mgi)"
   ]
  },
  {
   "cell_type": "markdown",
   "id": "6bef591e",
   "metadata": {},
   "source": [
    "# TF analysis"
   ]
  },
  {
   "cell_type": "markdown",
   "id": "7cdecc3f",
   "metadata": {},
   "source": [
    "## DEA results"
   ]
  },
  {
   "cell_type": "code",
   "execution_count": 175,
   "id": "e8861985",
   "metadata": {},
   "outputs": [],
   "source": [
    "# configs for plotting\n",
    "top_n <- 1"
   ]
  },
  {
   "cell_type": "code",
   "execution_count": 174,
   "id": "0e4b1773",
   "metadata": {
    "collapsed": true,
    "jupyter": {
     "outputs_hidden": true
    },
    "tags": []
   },
   "outputs": [
    {
     "data": {
      "text/html": [
       "62"
      ],
      "text/latex": [
       "62"
      ],
      "text/markdown": [
       "62"
      ],
      "text/plain": [
       "[1] 62"
      ]
     },
     "metadata": {},
     "output_type": "display_data"
    },
    {
     "data": {
      "text/html": [
       "<style>\n",
       ".list-inline {list-style: none; margin:0; padding: 0}\n",
       ".list-inline>li {display: inline-block}\n",
       ".list-inline>li:not(:last-child)::after {content: \"\\00b7\"; padding: 0 .5ex}\n",
       "</style>\n",
       "<ol class=list-inline><li>'C_albicans_24h_up'</li><li>'C_albicans_24h_down'</li><li>'C_albicans_2h_up'</li><li>'C_albicans_2h_down'</li><li>'C_albicans_4h_up'</li><li>'C_albicans_4h_down'</li><li>'C_albicans_6h_up'</li><li>'C_albicans_6h_down'</li><li>'C_albicans_8h_up'</li><li>'C_albicans_8h_down'</li><li>'untreated_0h_up'</li><li>'untreated_0h_down'</li><li>'IFN_beta_24h_up'</li><li>'IFN_beta_24h_down'</li><li>'IFN_beta_2h_up'</li><li>'IFN_beta_2h_down'</li><li>'IFN_beta_4h_up'</li><li>'IFN_beta_4h_down'</li><li>'IFN_beta_6h_up'</li><li>'IFN_beta_6h_down'</li><li>'IFN_beta_8h_up'</li><li>'IFN_beta_8h_down'</li><li>'IFN_gamma_24h_up'</li><li>'IFN_gamma_24h_down'</li><li>'IFN_gamma_2h_up'</li><li>'IFN_gamma_2h_down'</li><li>'IFN_gamma_4h_up'</li><li>'IFN_gamma_4h_down'</li><li>'IFN_gamma_6h_up'</li><li>'IFN_gamma_6h_down'</li><li>'IFN_gamma_8h_up'</li><li>'IFN_gamma_8h_down'</li><li>'LCMV_Cl13_24h_up'</li><li>'LCMV_Cl13_24h_down'</li><li>'LCMV_Cl13_2h_up'</li><li>'LCMV_Cl13_2h_down'</li><li>'LCMV_Cl13_4h_up'</li><li>'LCMV_Cl13_4h_down'</li><li>'LCMV_Cl13_6h_up'</li><li>'LCMV_Cl13_6h_down'</li><li>'LCMV_Cl13_8h_up'</li><li>'LCMV_Cl13_8h_down'</li><li>'LO28_24h_up'</li><li>'LO28_24h_down'</li><li>'LO28_2h_up'</li><li>'LO28_2h_down'</li><li>'LO28_4h_up'</li><li>'LO28_4h_down'</li><li>'LO28_6h_up'</li><li>'LO28_6h_down'</li><li>'LO28_8h_up'</li><li>'LO28_8h_down'</li><li>'LPS_24h_up'</li><li>'LPS_24h_down'</li><li>'LPS_2h_up'</li><li>'LPS_2h_down'</li><li>'LPS_4h_up'</li><li>'LPS_4h_down'</li><li>'LPS_6h_up'</li><li>'LPS_6h_down'</li><li>'LPS_8h_up'</li><li>'LPS_8h_down'</li></ol>\n"
      ],
      "text/latex": [
       "\\begin{enumerate*}\n",
       "\\item 'C\\_albicans\\_24h\\_up'\n",
       "\\item 'C\\_albicans\\_24h\\_down'\n",
       "\\item 'C\\_albicans\\_2h\\_up'\n",
       "\\item 'C\\_albicans\\_2h\\_down'\n",
       "\\item 'C\\_albicans\\_4h\\_up'\n",
       "\\item 'C\\_albicans\\_4h\\_down'\n",
       "\\item 'C\\_albicans\\_6h\\_up'\n",
       "\\item 'C\\_albicans\\_6h\\_down'\n",
       "\\item 'C\\_albicans\\_8h\\_up'\n",
       "\\item 'C\\_albicans\\_8h\\_down'\n",
       "\\item 'untreated\\_0h\\_up'\n",
       "\\item 'untreated\\_0h\\_down'\n",
       "\\item 'IFN\\_beta\\_24h\\_up'\n",
       "\\item 'IFN\\_beta\\_24h\\_down'\n",
       "\\item 'IFN\\_beta\\_2h\\_up'\n",
       "\\item 'IFN\\_beta\\_2h\\_down'\n",
       "\\item 'IFN\\_beta\\_4h\\_up'\n",
       "\\item 'IFN\\_beta\\_4h\\_down'\n",
       "\\item 'IFN\\_beta\\_6h\\_up'\n",
       "\\item 'IFN\\_beta\\_6h\\_down'\n",
       "\\item 'IFN\\_beta\\_8h\\_up'\n",
       "\\item 'IFN\\_beta\\_8h\\_down'\n",
       "\\item 'IFN\\_gamma\\_24h\\_up'\n",
       "\\item 'IFN\\_gamma\\_24h\\_down'\n",
       "\\item 'IFN\\_gamma\\_2h\\_up'\n",
       "\\item 'IFN\\_gamma\\_2h\\_down'\n",
       "\\item 'IFN\\_gamma\\_4h\\_up'\n",
       "\\item 'IFN\\_gamma\\_4h\\_down'\n",
       "\\item 'IFN\\_gamma\\_6h\\_up'\n",
       "\\item 'IFN\\_gamma\\_6h\\_down'\n",
       "\\item 'IFN\\_gamma\\_8h\\_up'\n",
       "\\item 'IFN\\_gamma\\_8h\\_down'\n",
       "\\item 'LCMV\\_Cl13\\_24h\\_up'\n",
       "\\item 'LCMV\\_Cl13\\_24h\\_down'\n",
       "\\item 'LCMV\\_Cl13\\_2h\\_up'\n",
       "\\item 'LCMV\\_Cl13\\_2h\\_down'\n",
       "\\item 'LCMV\\_Cl13\\_4h\\_up'\n",
       "\\item 'LCMV\\_Cl13\\_4h\\_down'\n",
       "\\item 'LCMV\\_Cl13\\_6h\\_up'\n",
       "\\item 'LCMV\\_Cl13\\_6h\\_down'\n",
       "\\item 'LCMV\\_Cl13\\_8h\\_up'\n",
       "\\item 'LCMV\\_Cl13\\_8h\\_down'\n",
       "\\item 'LO28\\_24h\\_up'\n",
       "\\item 'LO28\\_24h\\_down'\n",
       "\\item 'LO28\\_2h\\_up'\n",
       "\\item 'LO28\\_2h\\_down'\n",
       "\\item 'LO28\\_4h\\_up'\n",
       "\\item 'LO28\\_4h\\_down'\n",
       "\\item 'LO28\\_6h\\_up'\n",
       "\\item 'LO28\\_6h\\_down'\n",
       "\\item 'LO28\\_8h\\_up'\n",
       "\\item 'LO28\\_8h\\_down'\n",
       "\\item 'LPS\\_24h\\_up'\n",
       "\\item 'LPS\\_24h\\_down'\n",
       "\\item 'LPS\\_2h\\_up'\n",
       "\\item 'LPS\\_2h\\_down'\n",
       "\\item 'LPS\\_4h\\_up'\n",
       "\\item 'LPS\\_4h\\_down'\n",
       "\\item 'LPS\\_6h\\_up'\n",
       "\\item 'LPS\\_6h\\_down'\n",
       "\\item 'LPS\\_8h\\_up'\n",
       "\\item 'LPS\\_8h\\_down'\n",
       "\\end{enumerate*}\n"
      ],
      "text/markdown": [
       "1. 'C_albicans_24h_up'\n",
       "2. 'C_albicans_24h_down'\n",
       "3. 'C_albicans_2h_up'\n",
       "4. 'C_albicans_2h_down'\n",
       "5. 'C_albicans_4h_up'\n",
       "6. 'C_albicans_4h_down'\n",
       "7. 'C_albicans_6h_up'\n",
       "8. 'C_albicans_6h_down'\n",
       "9. 'C_albicans_8h_up'\n",
       "10. 'C_albicans_8h_down'\n",
       "11. 'untreated_0h_up'\n",
       "12. 'untreated_0h_down'\n",
       "13. 'IFN_beta_24h_up'\n",
       "14. 'IFN_beta_24h_down'\n",
       "15. 'IFN_beta_2h_up'\n",
       "16. 'IFN_beta_2h_down'\n",
       "17. 'IFN_beta_4h_up'\n",
       "18. 'IFN_beta_4h_down'\n",
       "19. 'IFN_beta_6h_up'\n",
       "20. 'IFN_beta_6h_down'\n",
       "21. 'IFN_beta_8h_up'\n",
       "22. 'IFN_beta_8h_down'\n",
       "23. 'IFN_gamma_24h_up'\n",
       "24. 'IFN_gamma_24h_down'\n",
       "25. 'IFN_gamma_2h_up'\n",
       "26. 'IFN_gamma_2h_down'\n",
       "27. 'IFN_gamma_4h_up'\n",
       "28. 'IFN_gamma_4h_down'\n",
       "29. 'IFN_gamma_6h_up'\n",
       "30. 'IFN_gamma_6h_down'\n",
       "31. 'IFN_gamma_8h_up'\n",
       "32. 'IFN_gamma_8h_down'\n",
       "33. 'LCMV_Cl13_24h_up'\n",
       "34. 'LCMV_Cl13_24h_down'\n",
       "35. 'LCMV_Cl13_2h_up'\n",
       "36. 'LCMV_Cl13_2h_down'\n",
       "37. 'LCMV_Cl13_4h_up'\n",
       "38. 'LCMV_Cl13_4h_down'\n",
       "39. 'LCMV_Cl13_6h_up'\n",
       "40. 'LCMV_Cl13_6h_down'\n",
       "41. 'LCMV_Cl13_8h_up'\n",
       "42. 'LCMV_Cl13_8h_down'\n",
       "43. 'LO28_24h_up'\n",
       "44. 'LO28_24h_down'\n",
       "45. 'LO28_2h_up'\n",
       "46. 'LO28_2h_down'\n",
       "47. 'LO28_4h_up'\n",
       "48. 'LO28_4h_down'\n",
       "49. 'LO28_6h_up'\n",
       "50. 'LO28_6h_down'\n",
       "51. 'LO28_8h_up'\n",
       "52. 'LO28_8h_down'\n",
       "53. 'LPS_24h_up'\n",
       "54. 'LPS_24h_down'\n",
       "55. 'LPS_2h_up'\n",
       "56. 'LPS_2h_down'\n",
       "57. 'LPS_4h_up'\n",
       "58. 'LPS_4h_down'\n",
       "59. 'LPS_6h_up'\n",
       "60. 'LPS_6h_down'\n",
       "61. 'LPS_8h_up'\n",
       "62. 'LPS_8h_down'\n",
       "\n",
       "\n"
      ],
      "text/plain": [
       " [1] \"C_albicans_24h_up\"   \"C_albicans_24h_down\" \"C_albicans_2h_up\"   \n",
       " [4] \"C_albicans_2h_down\"  \"C_albicans_4h_up\"    \"C_albicans_4h_down\" \n",
       " [7] \"C_albicans_6h_up\"    \"C_albicans_6h_down\"  \"C_albicans_8h_up\"   \n",
       "[10] \"C_albicans_8h_down\"  \"untreated_0h_up\"     \"untreated_0h_down\"  \n",
       "[13] \"IFN_beta_24h_up\"     \"IFN_beta_24h_down\"   \"IFN_beta_2h_up\"     \n",
       "[16] \"IFN_beta_2h_down\"    \"IFN_beta_4h_up\"      \"IFN_beta_4h_down\"   \n",
       "[19] \"IFN_beta_6h_up\"      \"IFN_beta_6h_down\"    \"IFN_beta_8h_up\"     \n",
       "[22] \"IFN_beta_8h_down\"    \"IFN_gamma_24h_up\"    \"IFN_gamma_24h_down\" \n",
       "[25] \"IFN_gamma_2h_up\"     \"IFN_gamma_2h_down\"   \"IFN_gamma_4h_up\"    \n",
       "[28] \"IFN_gamma_4h_down\"   \"IFN_gamma_6h_up\"     \"IFN_gamma_6h_down\"  \n",
       "[31] \"IFN_gamma_8h_up\"     \"IFN_gamma_8h_down\"   \"LCMV_Cl13_24h_up\"   \n",
       "[34] \"LCMV_Cl13_24h_down\"  \"LCMV_Cl13_2h_up\"     \"LCMV_Cl13_2h_down\"  \n",
       "[37] \"LCMV_Cl13_4h_up\"     \"LCMV_Cl13_4h_down\"   \"LCMV_Cl13_6h_up\"    \n",
       "[40] \"LCMV_Cl13_6h_down\"   \"LCMV_Cl13_8h_up\"     \"LCMV_Cl13_8h_down\"  \n",
       "[43] \"LO28_24h_up\"         \"LO28_24h_down\"       \"LO28_2h_up\"         \n",
       "[46] \"LO28_2h_down\"        \"LO28_4h_up\"          \"LO28_4h_down\"       \n",
       "[49] \"LO28_6h_up\"          \"LO28_6h_down\"        \"LO28_8h_up\"         \n",
       "[52] \"LO28_8h_down\"        \"LPS_24h_up\"          \"LPS_24h_down\"       \n",
       "[55] \"LPS_2h_up\"           \"LPS_2h_down\"         \"LPS_4h_up\"          \n",
       "[58] \"LPS_4h_down\"         \"LPS_6h_up\"           \"LPS_6h_down\"        \n",
       "[61] \"LPS_8h_up\"           \"LPS_8h_down\"        "
      ]
     },
     "metadata": {},
     "output_type": "display_data"
    }
   ],
   "source": [
    "# get significant genes per treatment and time point ie group\n",
    "gene_lists <- list()\n",
    "\n",
    "for (treatment in treatments){\n",
    "    # load DEA analysis results per treatment\n",
    "    tmp_results <- read.csv(file.path(data_path,'DEA',paste0('INT_DEA_',treatment,'.csv')))\n",
    "    for (group in unique(tmp_results$group)){\n",
    "\n",
    "        for (direction in c('up','down')){\n",
    "            if (direction=='up'){\n",
    "                tmp_genes <- unique(tmp_results[(tmp_results['adj.P.Val']<0.05) & (tmp_results['group']==group) & (tmp_results['logFC']>0), 'rn'])\n",
    "            }else{\n",
    "                tmp_genes <- unique(tmp_results[(tmp_results['adj.P.Val']<0.05) & (tmp_results['group']==group) & (tmp_results['logFC']<0), 'rn'])\n",
    "            }\n",
    "\n",
    "            if (length(tmp_genes)==0){\n",
    "                next\n",
    "            }\n",
    "\n",
    "            gene_lists[paste0(group,\"_\",direction)] <- list(tmp_genes)\n",
    "        }\n",
    "    }\n",
    "}\n",
    "length(gene_lists)        \n",
    "names(gene_lists)"
   ]
  },
  {
   "cell_type": "code",
   "execution_count": 176,
   "id": "e70adba3",
   "metadata": {},
   "outputs": [],
   "source": [
    "# convert gene IDs to symbols, and subset gene lists for supported genes\n",
    "for (key in names(gene_lists)){\n",
    "    gene_lists[key] <- list(gene_annot[unname(unlist(gene_lists[key])), 'external_gene_name'])\n",
    "    gene_lists[key] <- list(intersect(colnames(ranking_df), unname(unlist(gene_lists[key]))))\n",
    "#     gene_lists[key] <- list(toupper(unname(unlist(gene_lists[key]))))\n",
    "}"
   ]
  },
  {
   "cell_type": "code",
   "execution_count": null,
   "id": "53a59a19",
   "metadata": {},
   "outputs": [],
   "source": [
    "# run analysis\n",
    "motifEnrichmentTable_wGenes <- cisTarget(gene_lists,\n",
    "                                         motifRankings,\n",
    "                                         motifAnnot=motifAnnotations_mgi)\n",
    "\n",
    "dim(motifEnrichmentTable_wGenes)\n",
    "head(motifEnrichmentTable_wGenes)"
   ]
  },
  {
   "cell_type": "code",
   "execution_count": null,
   "id": "07bd04c8",
   "metadata": {},
   "outputs": [],
   "source": [
    "# save results\n",
    "write.table(motifEnrichmentTable_wGenes, file.path(results_path, 'INT_TF_DEA.csv'), sep=\",\", row.names=FALSE, quote=FALSE)"
   ]
  },
  {
   "cell_type": "code",
   "execution_count": 192,
   "id": "d1618294",
   "metadata": {},
   "outputs": [
    {
     "data": {
      "text/html": [
       "<strong>png:</strong> 2"
      ],
      "text/latex": [
       "\\textbf{png:} 2"
      ],
      "text/markdown": [
       "**png:** 2"
      ],
      "text/plain": [
       "png \n",
       "  2 "
      ]
     },
     "metadata": {},
     "output_type": "display_data"
    },
    {
     "data": {
      "text/html": [
       "<strong>png:</strong> 2"
      ],
      "text/latex": [
       "\\textbf{png:} 2"
      ],
      "text/markdown": [
       "**png:** 2"
      ],
      "text/plain": [
       "png \n",
       "  2 "
      ]
     },
     "metadata": {},
     "output_type": "display_data"
    }
   ],
   "source": [
    "# Summary dataframes and heatmaps - for NES and number of uniquely enriched genes\n",
    "\n",
    "# load TF analysis results\n",
    "tmp_results <- read.csv(file.path(results_path, 'INT_TF_DEA.csv'), sep=\",\")\n",
    "\n",
    "# determine list of unique high Confidence TFs in the results\n",
    "tmp_tfs <- unique(unlist(lapply(tmp_results$TF_highConf,\n",
    "                      function(x) {\n",
    "                        genes <- gsub(\" \\\\(.*\\\\). \", \"; \", x, fixed=FALSE)\n",
    "                        genesSplit <- unique(unlist(strsplit(genes, \"; \")))\n",
    "                        return(genesSplit)\n",
    "                        })))\n",
    "#     length(tmp_tfs)\n",
    "\n",
    "# filter for geneSet and TF, and take max per TF and NA if not found\n",
    "NES_df <- data.frame(matrix(ncol=length(tmp_tfs),nrow=length(unique(tmp_results$geneSet)), dimnames=list(unique(tmp_results$geneSet), tmp_tfs)))\n",
    "nEnrGenes_df <- data.frame(matrix(ncol=length(tmp_tfs),nrow=length(unique(tmp_results$geneSet)), dimnames=list(unique(tmp_results$geneSet), tmp_tfs)))\n",
    "\n",
    "for (gene_list in unique(tmp_results$geneSet)){\n",
    "    for (tf in tmp_tfs){\n",
    "        # max NES approach\n",
    "        tmp_nes <- suppressWarnings(max(tmp_results[intersect(grep(tf, tmp_results$TF_highConf),grep(gene_list, tmp_results$geneSet)),'NES']))\n",
    "        NES_df[gene_list, tf] <- ifelse(tmp_nes!=-Inf, tmp_nes, NA)\n",
    "\n",
    "        # number of uniquely enriched genes per TF\n",
    "        nEnrGenes_df[gene_list, tf] <- length(unique(unlist(strsplit(tmp_results[intersect(grep(tf, tmp_results$TF_highConf),grep(gene_list, tmp_results$geneSet)),'enrichedGenes'],';'))))\n",
    "    }\n",
    "}\n",
    "\n",
    "### normalize nEnrGenes by total number of genes in geneSet\n",
    "# normalize\n",
    "nGenes <- lapply(gene_lists, length)\n",
    "nEnrGenes_df_norm <- data.frame(sapply(nEnrGenes_df, function(x) x/unlist(unname(nGenes[rownames(nEnrGenes_df)]))))\n",
    "rownames(nEnrGenes_df_norm) <- rownames(nEnrGenes_df)\n",
    "\n",
    "### save results\n",
    "write.table(NES_df, file.path(results_path, paste0('INT_TF_DEA_summary_maxNES.csv')), sep=\",\", row.names=TRUE, quote=FALSE)\n",
    "write.table(nEnrGenes_df, file.path(results_path, paste0('INT_TF_DEA_summary_nEnrGenes.csv')), sep=\",\", row.names=TRUE, quote=FALSE)\n",
    "write.table(nEnrGenes_df_norm, file.path(results_path, paste0('INT_TF_DEA_summary_nEnrGenes_norm.csv')), sep=\",\", row.names=TRUE, quote=FALSE)\n",
    "\n",
    "### plot summries of top_n TFs as Heatmaps\n",
    "# nEnrGenes\n",
    "nEnrGenes_df_norm <- data.frame(t(nEnrGenes_df_norm))\n",
    "nEnrGenes_df_norm[is.na(nEnrGenes_df_norm)] <- 0\n",
    "top_tfs <- unique(unlist(as.list(sapply(nEnrGenes_df_norm, function(x) rownames(nEnrGenes_df_norm)[sort(x, decreasing=TRUE, index.return = TRUE)$ix][1:top_n]))))\n",
    "png(file=file.path(results_path, paste0('INT_TF_DEA_summary_nEnrGenes_norm_HM_top',top_n,'.png')))\n",
    "heatmap(as.matrix(nEnrGenes_df_norm[top_tfs,]))\n",
    "dev.off()\n",
    "# NES\n",
    "NES_df <- data.frame(t(NES_df))\n",
    "NES_df[is.na(NES_df)] <- 0\n",
    "top_tfs <- unique(unlist(as.list(sapply(NES_df, function(x) rownames(NES_df)[sort(x, decreasing=TRUE, index.return = TRUE)$ix][1:top_n]))))\n",
    "png(file=file.path(results_path, paste0('INT_TF_DEA_summary_maxNES_HM_top',top_n,'.png')))\n",
    "heatmap(as.matrix(NES_df[top_tfs,]))\n",
    "dev.off()"
   ]
  },
  {
   "cell_type": "markdown",
   "id": "cf421728",
   "metadata": {},
   "source": [
    "## DEG cluster results"
   ]
  },
  {
   "cell_type": "code",
   "execution_count": 168,
   "id": "0426f503",
   "metadata": {},
   "outputs": [
    {
     "data": {
      "text/html": [
       "<style>\n",
       ".list-inline {list-style: none; margin:0; padding: 0}\n",
       ".list-inline>li {display: inline-block}\n",
       ".list-inline>li:not(:last-child)::after {content: \"\\00b7\"; padding: 0 .5ex}\n",
       "</style>\n",
       "<ol class=list-inline><li>4</li><li>5</li><li>6</li><li>7</li><li>8</li><li>9</li><li>10</li><li>11</li><li>12</li></ol>\n"
      ],
      "text/latex": [
       "\\begin{enumerate*}\n",
       "\\item 4\n",
       "\\item 5\n",
       "\\item 6\n",
       "\\item 7\n",
       "\\item 8\n",
       "\\item 9\n",
       "\\item 10\n",
       "\\item 11\n",
       "\\item 12\n",
       "\\end{enumerate*}\n"
      ],
      "text/markdown": [
       "1. 4\n",
       "2. 5\n",
       "3. 6\n",
       "4. 7\n",
       "5. 8\n",
       "6. 9\n",
       "7. 10\n",
       "8. 11\n",
       "9. 12\n",
       "\n",
       "\n"
      ],
      "text/plain": [
       "[1]  4  5  6  7  8  9 10 11 12"
      ]
     },
     "metadata": {},
     "output_type": "display_data"
    }
   ],
   "source": [
    "# configs\n",
    "ks <- c(4:12)\n",
    "ks\n",
    "\n",
    "# for plotting\n",
    "top_n <- 5"
   ]
  },
  {
   "cell_type": "code",
   "execution_count": null,
   "id": "cc2d6c64",
   "metadata": {
    "tags": []
   },
   "outputs": [],
   "source": [
    "for (k in ks){\n",
    "    # get DEG cluster genes\n",
    "\n",
    "    # load clustering results\n",
    "    DEA_cluster_results <- read.csv(file.path(data_path,'DEA',paste0('Clusters_HM_',k),'Genes.csv'))\n",
    "\n",
    "    # make gene lists\n",
    "    gene_lists <- DEA_cluster_results %>% split(.$value) %>% map(pull, rn)\n",
    "\n",
    "    # rename gene_lists\n",
    "    names(gene_lists) <- paste0('cluster_',names(gene_lists))\n",
    "\n",
    "    length(gene_lists)        \n",
    "    names(gene_lists)\n",
    "\n",
    "    # convert gene IDs to symbols and subset gene lists for supported genes\n",
    "    for (key in names(gene_lists)){\n",
    "        gene_lists[key] <- list(gene_annot[unname(unlist(gene_lists[key])), 'external_gene_name'])\n",
    "        gene_lists[key] <- list(intersect(colnames(ranking_df), unname(unlist(gene_lists[key]))))\n",
    "    #     gene_lists[key] <- list(toupper(unname(unlist(gene_lists[key]))))\n",
    "    }\n",
    "\n",
    "    # run analysis\n",
    "    motifEnrichmentTable_wGenes <- cisTarget(gene_lists,\n",
    "                                             motifRankings,\n",
    "                                             motifAnnot=motifAnnotations_mgi)\n",
    "\n",
    "    dim(motifEnrichmentTable_wGenes)\n",
    "    head(motifEnrichmentTable_wGenes)\n",
    "    \n",
    "    # save results\n",
    "    write.table(motifEnrichmentTable_wGenes, file.path(results_path, paste0('INT_TF_DEGclusters_k',k,'.csv')), sep=\",\", row.names=FALSE, quote=FALSE)\n",
    "}"
   ]
  },
  {
   "cell_type": "code",
   "execution_count": 173,
   "id": "979727be",
   "metadata": {},
   "outputs": [],
   "source": [
    "# Summary dataframes and heatmaps - for NES and number of uniquely enriched genes\n",
    "for (k in ks){\n",
    "\n",
    "    # load TF analysis results\n",
    "    tmp_results <- read.csv(file.path(results_path, paste0('INT_TF_DEGclusters_k',k,'.csv')), sep=\",\")\n",
    "\n",
    "    # determine list of unique high Confidence TFs in the results\n",
    "    tmp_tfs <- unique(unlist(lapply(tmp_results$TF_highConf,\n",
    "                          function(x) {\n",
    "                            genes <- gsub(\" \\\\(.*\\\\). \", \"; \", x, fixed=FALSE)\n",
    "                            genesSplit <- unique(unlist(strsplit(genes, \"; \")))\n",
    "                            return(genesSplit)\n",
    "                            })))\n",
    "#     length(tmp_tfs)\n",
    "\n",
    "    # filter for geneSet and TF, and take max per TF and NA if not found\n",
    "    NES_df <- data.frame(matrix(ncol=length(tmp_tfs),nrow=length(unique(tmp_results$geneSet)), dimnames=list(unique(tmp_results$geneSet), tmp_tfs)))\n",
    "    nEnrGenes_df <- data.frame(matrix(ncol=length(tmp_tfs),nrow=length(unique(tmp_results$geneSet)), dimnames=list(unique(tmp_results$geneSet), tmp_tfs)))\n",
    "\n",
    "    for (gene_list in unique(tmp_results$geneSet)){\n",
    "        for (tf in tmp_tfs){\n",
    "            # max NES approach\n",
    "            tmp_nes <- suppressWarnings(max(tmp_results[intersect(grep(tf, tmp_results$TF_highConf),grep(gene_list, tmp_results$geneSet)),'NES']))\n",
    "            NES_df[gene_list, tf] <- ifelse(tmp_nes!=-Inf, tmp_nes, NA)\n",
    "            \n",
    "            # number of uniquely enriched genes per TF\n",
    "            nEnrGenes_df[gene_list, tf] <- length(unique(unlist(strsplit(tmp_results[intersect(grep(tf, tmp_results$TF_highConf),grep(gene_list, tmp_results$geneSet)),'enrichedGenes'],';'))))\n",
    "        }\n",
    "    }\n",
    "    \n",
    "    ### normalize nEnrGenes by total number of genes in cluster/group\n",
    "    # load clustering results\n",
    "    tmp_cl_results <- read.csv(file.path(data_path,'DEA',paste0('Clusters_HM_',k),'Genes.csv'))\n",
    "    tmp_cl_results$X1 <- gene_annot[tmp_cl_results$rn, 'external_gene_name']\n",
    "\n",
    "    # filter for genes that were used in the TF analysis\n",
    "    rownames(tmp_cl_results) <- tmp_cl_results$X1\n",
    "    tmp_cl_results <- tmp_cl_results[intersect(colnames(ranking_df), rownames(tmp_cl_results)), ]\n",
    "\n",
    "    # determine number of genes per clustering to use for normalization of enriched gene numbers\n",
    "    tmp_cl_results <- aggregate(tmp_cl_results$value, by=list(tmp_cl_results$value), FUN=length)\n",
    "    colnames(tmp_cl_results) <- c('cluster','nGenes')\n",
    "    rownames(tmp_cl_results) <- tmp_cl_results$cluster\n",
    "    tmp_cl_results$cluster <- NULL\n",
    "\n",
    "    # normalize\n",
    "    nEnrGenes_df_norm <- data.frame(sapply(nEnrGenes_df, function(x) x/tmp_cl_results$nGenes))\n",
    "    rownames(nEnrGenes_df_norm) <- rownames(nEnrGenes_df)\n",
    "\n",
    "    ### save results\n",
    "    write.table(NES_df, file.path(results_path, paste0('INT_TF_DEGclusters_k',k,'_summary_maxNES.csv')), sep=\",\", row.names=TRUE, quote=FALSE)\n",
    "    write.table(nEnrGenes_df, file.path(results_path, paste0('INT_TF_DEGclusters_k',k,'_summary_nEnrGenes.csv')), sep=\",\", row.names=TRUE, quote=FALSE)\n",
    "    write.table(nEnrGenes_df_norm, file.path(results_path, paste0('INT_TF_DEGclusters_k',k,'_summary_nEnrGenes_norm.csv')), sep=\",\", row.names=TRUE, quote=FALSE)\n",
    "    \n",
    "    ### plot summries of top_n TFs as Heatmaps\n",
    "    # nEnrGenes\n",
    "    nEnrGenes_df_norm <- data.frame(t(nEnrGenes_df_norm))\n",
    "    nEnrGenes_df_norm[is.na(nEnrGenes_df_norm)] <- 0\n",
    "    top_tfs <- unique(unlist(as.list(sapply(nEnrGenes_df_norm, function(x) rownames(nEnrGenes_df_norm)[sort(x, decreasing=TRUE, index.return = TRUE)$ix][1:top_n]))))\n",
    "    png(file=file.path(results_path, paste0('INT_TF_DEGclusters_k',k,'_summary_nEnrGenes_norm_HM_top',top_n,'.png')))\n",
    "    heatmap(as.matrix(nEnrGenes_df_norm[top_tfs,]))\n",
    "    dev.off()\n",
    "    # NES\n",
    "    NES_df <- data.frame(t(NES_df))\n",
    "    NES_df[is.na(NES_df)] <- 0\n",
    "    top_tfs <- unique(unlist(as.list(sapply(NES_df, function(x) rownames(NES_df)[sort(x, decreasing=TRUE, index.return = TRUE)$ix][1:top_n]))))\n",
    "    png(file=file.path(results_path, paste0('INT_TF_DEGclusters_k',k,'_summary_maxNES_HM_top',top_n,'.png')))\n",
    "    heatmap(as.matrix(NES_df[top_tfs,]))\n",
    "    dev.off()\n",
    "}"
   ]
  },
  {
   "cell_type": "markdown",
   "id": "9b096f04",
   "metadata": {},
   "source": [
    "## time-series cluster results"
   ]
  },
  {
   "cell_type": "code",
   "execution_count": 165,
   "id": "feed6107",
   "metadata": {},
   "outputs": [],
   "source": [
    "# config\n",
    "timeseries_k <- read.csv(file=file.path('config','BMDM_timeseries_k.csv'), row.names=1, header=TRUE)\n",
    "\n",
    "# for plotting\n",
    "top_n <- 5"
   ]
  },
  {
   "cell_type": "code",
   "execution_count": null,
   "id": "c58e1702",
   "metadata": {
    "tags": []
   },
   "outputs": [],
   "source": [
    "# get significant TFs per treatment and per k clustering\n",
    "for (treatment in treatments){\n",
    "    if (treatment=='untreated'){\n",
    "        next\n",
    "    }\n",
    "    \n",
    "    # load clustering results\n",
    "    ts_k <- timeseries_k[treatment, 'INT']\n",
    "    tmp_results <- read.delim(file=file.path(data_path, \"time_series\", treatment, paste0('k_',ts_k), paste0('clustering_',treatment,'.csv')), sep=',', header = TRUE)#, row.names=1)\n",
    "\n",
    "    # make gene lists\n",
    "    gene_lists <- tmp_results %>% split(.$X2) %>% map(pull, X1)\n",
    "    \n",
    "    # rename gene_lists\n",
    "    names(gene_lists) <- paste0('cluster_',names(gene_lists))\n",
    "    \n",
    "    length(gene_lists)        \n",
    "    names(gene_lists)\n",
    "\n",
    "    # subset gene lists for supported genes\n",
    "    for (key in names(gene_lists)){\n",
    "#         gene_lists[key] <- list(gene_annot[unname(unlist(gene_lists[key])), 'external_gene_name'])\n",
    "        gene_lists[key] <- list(intersect(colnames(ranking_df), unname(unlist(gene_lists[key]))))\n",
    "    #     gene_lists[key] <- list(toupper(unname(unlist(gene_lists[key]))))\n",
    "    }\n",
    "\n",
    "    # run analysis\n",
    "    motifEnrichmentTable_wGenes <- cisTarget(gene_lists,\n",
    "                                             motifRankings,\n",
    "                                             motifAnnot=motifAnnotations_mgi)\n",
    "\n",
    "    dim(motifEnrichmentTable_wGenes)\n",
    "    head(motifEnrichmentTable_wGenes)\n",
    "    \n",
    "    # save results\n",
    "    write.table(motifEnrichmentTable_wGenes, file.path(results_path, paste0('INT_TF_time_series_',treatment,'_k',ts_k,'.csv')), sep=\",\", row.names=FALSE, quote=FALSE)\n",
    "\n",
    "}"
   ]
  },
  {
   "cell_type": "code",
   "execution_count": 166,
   "id": "0ae89fe3",
   "metadata": {},
   "outputs": [],
   "source": [
    "# Summary dataframes and heatmaps - for NES and number of uniquely enriched genes\n",
    "for (treatment in treatments){\n",
    "    if (treatment=='untreated'){\n",
    "        next\n",
    "    }\n",
    "    \n",
    "    # load clustering k config\n",
    "    ts_k <- timeseries_k[treatment, 'INT']\n",
    "\n",
    "    # load TF analysis results\n",
    "    tmp_results <- read.csv(file.path(results_path, paste0('INT_TF_time_series_',treatment,'_k',ts_k,'.csv')), sep=\",\")\n",
    "\n",
    "    # determine list of unique high Confidence TFs in the results\n",
    "    tmp_tfs <- unique(unlist(lapply(tmp_results$TF_highConf,\n",
    "                          function(x) {\n",
    "                            genes <- gsub(\" \\\\(.*\\\\). \", \"; \", x, fixed=FALSE)\n",
    "                            genesSplit <- unique(unlist(strsplit(genes, \"; \")))\n",
    "                            return(genesSplit)\n",
    "                            })))\n",
    "#     length(tmp_tfs)\n",
    "\n",
    "    # filter for geneSet and TF, and take max per TF and NA if not found\n",
    "    NES_df <- data.frame(matrix(ncol=length(tmp_tfs),nrow=length(unique(tmp_results$geneSet)), dimnames=list(unique(tmp_results$geneSet), tmp_tfs)))\n",
    "    nEnrGenes_df <- data.frame(matrix(ncol=length(tmp_tfs),nrow=length(unique(tmp_results$geneSet)), dimnames=list(unique(tmp_results$geneSet), tmp_tfs)))\n",
    "\n",
    "    for (gene_list in unique(tmp_results$geneSet)){\n",
    "        for (tf in tmp_tfs){\n",
    "            # max NES approach\n",
    "            tmp_nes <- suppressWarnings(max(tmp_results[intersect(grep(tf, tmp_results$TF_highConf),grep(gene_list, tmp_results$geneSet)),'NES']))\n",
    "            NES_df[gene_list, tf] <- ifelse(tmp_nes!=-Inf, tmp_nes, NA)\n",
    "            \n",
    "            # number of uniquely enriched genes per TF\n",
    "            nEnrGenes_df[gene_list, tf] <- length(unique(unlist(strsplit(tmp_results[intersect(grep(tf, tmp_results$TF_highConf),grep(gene_list, tmp_results$geneSet)),'enrichedGenes'],';'))))\n",
    "        }\n",
    "    }\n",
    "    \n",
    "    ### normalize nEnrGenes by total number of genes in cluster/group\n",
    "    # load clustering results\n",
    "    tmp_cl_results <- read.delim(file=file.path(data_path, \"time_series\", treatment, paste0('k_',ts_k), paste0('clustering_',treatment,'.csv')), sep=',', header = TRUE)#, row.names=1)\n",
    "\n",
    "    # filter for genes that were used in the TF analysis\n",
    "    rownames(tmp_cl_results) <- tmp_cl_results$X1\n",
    "    tmp_cl_results <- tmp_cl_results[intersect(colnames(ranking_df), rownames(tmp_cl_results)), ]\n",
    "\n",
    "    # determine number of genes per clustering to use for normalization of enriched gene numbers\n",
    "    tmp_cl_results <- aggregate(tmp_cl_results$X2, by=list(tmp_cl_results$X2), FUN=length)\n",
    "    colnames(tmp_cl_results) <- c('cluster','nGenes')\n",
    "    rownames(tmp_cl_results) <- tmp_cl_results$cluster\n",
    "    tmp_cl_results$cluster <- NULL\n",
    "\n",
    "    # normalize\n",
    "    nEnrGenes_df_norm <- data.frame(sapply(nEnrGenes_df, function(x) x/tmp_cl_results$nGenes))\n",
    "    rownames(nEnrGenes_df_norm) <- rownames(nEnrGenes_df)\n",
    "\n",
    "    ### save results\n",
    "    write.table(NES_df, file.path(results_path, paste0('INT_TF_time_series_',treatment,'_k',ts_k,'_summary_maxNES.csv')), sep=\",\", row.names=TRUE, quote=FALSE)\n",
    "    write.table(nEnrGenes_df, file.path(results_path, paste0('INT_TF_time_series_',treatment,'_k',ts_k,'_summary_nEnrGenes.csv')), sep=\",\", row.names=TRUE, quote=FALSE)\n",
    "    write.table(nEnrGenes_df_norm, file.path(results_path, paste0('INT_TF_time_series_',treatment,'_k',ts_k,'_summary_nEnrGenes_norm.csv')), sep=\",\", row.names=TRUE, quote=FALSE)\n",
    "    \n",
    "    ### plot summries of top_n TFs as Heatmaps\n",
    "    # nEnrGenes\n",
    "    nEnrGenes_df_norm <- data.frame(t(nEnrGenes_df_norm))\n",
    "    nEnrGenes_df_norm[is.na(nEnrGenes_df_norm)] <- 0\n",
    "    top_tfs <- unique(unlist(as.list(sapply(nEnrGenes_df_norm, function(x) rownames(nEnrGenes_df_norm)[sort(x, decreasing=TRUE, index.return = TRUE)$ix][1:top_n]))))\n",
    "    png(file=file.path(results_path, paste0('INT_TF_time_series_',treatment,'_k',ts_k,'_summary_nEnrGenes_norm_HM_top',top_n,'.png')))\n",
    "    heatmap(as.matrix(nEnrGenes_df_norm[top_tfs,]))\n",
    "    dev.off()\n",
    "    # NES\n",
    "    NES_df <- data.frame(t(NES_df))\n",
    "    NES_df[is.na(NES_df)] <- 0\n",
    "    top_tfs <- unique(unlist(as.list(sapply(NES_df, function(x) rownames(NES_df)[sort(x, decreasing=TRUE, index.return = TRUE)$ix][1:top_n]))))\n",
    "    png(file=file.path(results_path, paste0('INT_TF_time_series_',treatment,'_k',ts_k,'_summary_maxNES_HM_top',top_n,'.png')))\n",
    "    heatmap(as.matrix(NES_df[top_tfs,]))\n",
    "    dev.off()\n",
    "}"
   ]
  },
  {
   "cell_type": "code",
   "execution_count": null,
   "id": "0edcbff0",
   "metadata": {},
   "outputs": [],
   "source": []
  }
 ],
 "metadata": {
  "kernelspec": {
   "display_name": "R_rcistarget",
   "language": "R",
   "name": "r_rcistarget"
  },
  "language_info": {
   "codemirror_mode": "r",
   "file_extension": ".r",
   "mimetype": "text/x-r-source",
   "name": "R",
   "pygments_lexer": "r",
   "version": "4.1.2"
  }
 },
 "nbformat": 4,
 "nbformat_minor": 5
}
