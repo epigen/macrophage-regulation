{
 "cells": [
  {
   "cell_type": "markdown",
   "id": "d2b80aa9",
   "metadata": {},
   "source": [
    "# Supplement Figures - RNA-seq & ATAC-seq"
   ]
  },
  {
   "cell_type": "code",
   "execution_count": 1,
   "id": "6241b8f2",
   "metadata": {
    "tags": []
   },
   "outputs": [
    {
     "data": {
      "text/html": [
       "'/home/sreichl/projects/bmdm-stim/workflow/notebooks'"
      ],
      "text/latex": [
       "'/home/sreichl/projects/bmdm-stim/workflow/notebooks'"
      ],
      "text/markdown": [
       "'/home/sreichl/projects/bmdm-stim/workflow/notebooks'"
      ],
      "text/plain": [
       "[1] \"/home/sreichl/projects/bmdm-stim/workflow/notebooks\""
      ]
     },
     "metadata": {},
     "output_type": "display_data"
    },
    {
     "data": {
      "text/html": [
       "'/home/sreichl/projects/bmdm-stim'"
      ],
      "text/latex": [
       "'/home/sreichl/projects/bmdm-stim'"
      ],
      "text/markdown": [
       "'/home/sreichl/projects/bmdm-stim'"
      ],
      "text/plain": [
       "[1] \"/home/sreichl/projects/bmdm-stim\""
      ]
     },
     "metadata": {},
     "output_type": "display_data"
    }
   ],
   "source": [
    "# set correct working directory -> project folder\n",
    "getwd()\n",
    "setwd('..')\n",
    "getwd()"
   ]
  },
  {
   "cell_type": "code",
   "execution_count": 2,
   "id": "728805f3",
   "metadata": {},
   "outputs": [],
   "source": [
    "# library\n",
    "library(eulerr)"
   ]
  },
  {
   "cell_type": "code",
   "execution_count": 3,
   "id": "f1aeaced",
   "metadata": {},
   "outputs": [],
   "source": [
    "# source the figure theme, libraries and utility functions\n",
    "source(\"./src/figure_theme.R\")"
   ]
  },
  {
   "cell_type": "markdown",
   "id": "e8e091e0",
   "metadata": {},
   "source": [
    "# configs"
   ]
  },
  {
   "cell_type": "code",
   "execution_count": 4,
   "id": "8ec3099f",
   "metadata": {},
   "outputs": [],
   "source": [
    "# configs\n",
    "data_RNA <- file.path('results','RNA')\n",
    "data_ATAC <- file.path('results','ATAC','all')\n",
    "\n",
    "results_path <- file.path('results','figures','supp_bulk')\n",
    "\n",
    "\n",
    "# time-series\n",
    "timeseries_k <- read.csv(file=file.path('config','BMDM_timeseries_k.csv'), row.names=1, header=TRUE)\n",
    "# enrichment analysis\n",
    "timeseries_enrichment_terms <- read.csv(file=file.path('config','BMDM_timeseries_enrichment_terms.csv'), row.names=1, header=TRUE)"
   ]
  },
  {
   "cell_type": "code",
   "execution_count": 5,
   "id": "e4c96f1c",
   "metadata": {},
   "outputs": [],
   "source": [
    "# make directories if not exist\n",
    "dir.create(results_path, showWarnings = FALSE, recursive = TRUE)"
   ]
  },
  {
   "cell_type": "markdown",
   "id": "8d050341",
   "metadata": {},
   "source": [
    "# Load annotations"
   ]
  },
  {
   "cell_type": "code",
   "execution_count": 6,
   "id": "b9c40214",
   "metadata": {},
   "outputs": [
    {
     "data": {
      "text/html": [
       "<style>\n",
       ".list-inline {list-style: none; margin:0; padding: 0}\n",
       ".list-inline>li {display: inline-block}\n",
       ".list-inline>li:not(:last-child)::after {content: \"\\00b7\"; padding: 0 .5ex}\n",
       "</style>\n",
       "<ol class=list-inline><li>66</li><li>10</li></ol>\n"
      ],
      "text/latex": [
       "\\begin{enumerate*}\n",
       "\\item 66\n",
       "\\item 10\n",
       "\\end{enumerate*}\n"
      ],
      "text/markdown": [
       "1. 66\n",
       "2. 10\n",
       "\n",
       "\n"
      ],
      "text/plain": [
       "[1] 66 10"
      ]
     },
     "metadata": {},
     "output_type": "display_data"
    },
    {
     "data": {
      "text/html": [
       "<table class=\"dataframe\">\n",
       "<caption>A data.frame: 6 × 10</caption>\n",
       "<thead>\n",
       "\t<tr><th></th><th scope=col>library</th><th scope=col>timepoint.after.thawing</th><th scope=col>cell_line</th><th scope=col>Treatment</th><th scope=col>Treatment_time</th><th scope=col>mouse_pool</th><th scope=col>sex</th><th scope=col>organism</th><th scope=col>bio.replicate</th><th scope=col>experiment_id</th></tr>\n",
       "\t<tr><th></th><th scope=col>&lt;chr&gt;</th><th scope=col>&lt;chr&gt;</th><th scope=col>&lt;chr&gt;</th><th scope=col>&lt;chr&gt;</th><th scope=col>&lt;chr&gt;</th><th scope=col>&lt;chr&gt;</th><th scope=col>&lt;chr&gt;</th><th scope=col>&lt;chr&gt;</th><th scope=col>&lt;chr&gt;</th><th scope=col>&lt;chr&gt;</th></tr>\n",
       "</thead>\n",
       "<tbody>\n",
       "\t<tr><th scope=row>RNA_PT76_R1_C_albicans_2h</th><td>Quant-seq</td><td>d010</td><td>BMDM</td><td>C_albicans</td><td>2h </td><td>PT62_c</td><td>female</td><td>mouse</td><td>R1</td><td>PT76</td></tr>\n",
       "\t<tr><th scope=row>RNA_PT82_R1_C_albicans_24h</th><td>Quant-seq</td><td>d010</td><td>BMDM</td><td>C_albicans</td><td>24h</td><td>PT62_c</td><td>female</td><td>mouse</td><td>R1</td><td>PT82</td></tr>\n",
       "\t<tr><th scope=row>RNA_PT76_R1_C_albicans_4h</th><td>Quant-seq</td><td>d010</td><td>BMDM</td><td>C_albicans</td><td>4h </td><td>PT62_c</td><td>female</td><td>mouse</td><td>R1</td><td>PT76</td></tr>\n",
       "\t<tr><th scope=row>RNA_PT76_R1_C_albicans_6h</th><td>Quant-seq</td><td>d010</td><td>BMDM</td><td>C_albicans</td><td>6h </td><td>PT62_c</td><td>female</td><td>mouse</td><td>R1</td><td>PT76</td></tr>\n",
       "\t<tr><th scope=row>RNA_PT82_R1_C_albicans_8h</th><td>Quant-seq</td><td>d010</td><td>BMDM</td><td>C_albicans</td><td>8h </td><td>PT62_c</td><td>female</td><td>mouse</td><td>R1</td><td>PT82</td></tr>\n",
       "\t<tr><th scope=row>RNA_PT76_R1_untreated_0h</th><td>Quant-seq</td><td>d010</td><td>BMDM</td><td>untreated </td><td>0h </td><td>PT62_c</td><td>female</td><td>mouse</td><td>R1</td><td>PT76</td></tr>\n",
       "</tbody>\n",
       "</table>\n"
      ],
      "text/latex": [
       "A data.frame: 6 × 10\n",
       "\\begin{tabular}{r|llllllllll}\n",
       "  & library & timepoint.after.thawing & cell\\_line & Treatment & Treatment\\_time & mouse\\_pool & sex & organism & bio.replicate & experiment\\_id\\\\\n",
       "  & <chr> & <chr> & <chr> & <chr> & <chr> & <chr> & <chr> & <chr> & <chr> & <chr>\\\\\n",
       "\\hline\n",
       "\tRNA\\_PT76\\_R1\\_C\\_albicans\\_2h & Quant-seq & d010 & BMDM & C\\_albicans & 2h  & PT62\\_c & female & mouse & R1 & PT76\\\\\n",
       "\tRNA\\_PT82\\_R1\\_C\\_albicans\\_24h & Quant-seq & d010 & BMDM & C\\_albicans & 24h & PT62\\_c & female & mouse & R1 & PT82\\\\\n",
       "\tRNA\\_PT76\\_R1\\_C\\_albicans\\_4h & Quant-seq & d010 & BMDM & C\\_albicans & 4h  & PT62\\_c & female & mouse & R1 & PT76\\\\\n",
       "\tRNA\\_PT76\\_R1\\_C\\_albicans\\_6h & Quant-seq & d010 & BMDM & C\\_albicans & 6h  & PT62\\_c & female & mouse & R1 & PT76\\\\\n",
       "\tRNA\\_PT82\\_R1\\_C\\_albicans\\_8h & Quant-seq & d010 & BMDM & C\\_albicans & 8h  & PT62\\_c & female & mouse & R1 & PT82\\\\\n",
       "\tRNA\\_PT76\\_R1\\_untreated\\_0h & Quant-seq & d010 & BMDM & untreated  & 0h  & PT62\\_c & female & mouse & R1 & PT76\\\\\n",
       "\\end{tabular}\n"
      ],
      "text/markdown": [
       "\n",
       "A data.frame: 6 × 10\n",
       "\n",
       "| <!--/--> | library &lt;chr&gt; | timepoint.after.thawing &lt;chr&gt; | cell_line &lt;chr&gt; | Treatment &lt;chr&gt; | Treatment_time &lt;chr&gt; | mouse_pool &lt;chr&gt; | sex &lt;chr&gt; | organism &lt;chr&gt; | bio.replicate &lt;chr&gt; | experiment_id &lt;chr&gt; |\n",
       "|---|---|---|---|---|---|---|---|---|---|---|\n",
       "| RNA_PT76_R1_C_albicans_2h | Quant-seq | d010 | BMDM | C_albicans | 2h  | PT62_c | female | mouse | R1 | PT76 |\n",
       "| RNA_PT82_R1_C_albicans_24h | Quant-seq | d010 | BMDM | C_albicans | 24h | PT62_c | female | mouse | R1 | PT82 |\n",
       "| RNA_PT76_R1_C_albicans_4h | Quant-seq | d010 | BMDM | C_albicans | 4h  | PT62_c | female | mouse | R1 | PT76 |\n",
       "| RNA_PT76_R1_C_albicans_6h | Quant-seq | d010 | BMDM | C_albicans | 6h  | PT62_c | female | mouse | R1 | PT76 |\n",
       "| RNA_PT82_R1_C_albicans_8h | Quant-seq | d010 | BMDM | C_albicans | 8h  | PT62_c | female | mouse | R1 | PT82 |\n",
       "| RNA_PT76_R1_untreated_0h | Quant-seq | d010 | BMDM | untreated  | 0h  | PT62_c | female | mouse | R1 | PT76 |\n",
       "\n"
      ],
      "text/plain": [
       "                           library   timepoint.after.thawing cell_line\n",
       "RNA_PT76_R1_C_albicans_2h  Quant-seq d010                    BMDM     \n",
       "RNA_PT82_R1_C_albicans_24h Quant-seq d010                    BMDM     \n",
       "RNA_PT76_R1_C_albicans_4h  Quant-seq d010                    BMDM     \n",
       "RNA_PT76_R1_C_albicans_6h  Quant-seq d010                    BMDM     \n",
       "RNA_PT82_R1_C_albicans_8h  Quant-seq d010                    BMDM     \n",
       "RNA_PT76_R1_untreated_0h   Quant-seq d010                    BMDM     \n",
       "                           Treatment  Treatment_time mouse_pool sex    organism\n",
       "RNA_PT76_R1_C_albicans_2h  C_albicans 2h             PT62_c     female mouse   \n",
       "RNA_PT82_R1_C_albicans_24h C_albicans 24h            PT62_c     female mouse   \n",
       "RNA_PT76_R1_C_albicans_4h  C_albicans 4h             PT62_c     female mouse   \n",
       "RNA_PT76_R1_C_albicans_6h  C_albicans 6h             PT62_c     female mouse   \n",
       "RNA_PT82_R1_C_albicans_8h  C_albicans 8h             PT62_c     female mouse   \n",
       "RNA_PT76_R1_untreated_0h   untreated  0h             PT62_c     female mouse   \n",
       "                           bio.replicate experiment_id\n",
       "RNA_PT76_R1_C_albicans_2h  R1            PT76         \n",
       "RNA_PT82_R1_C_albicans_24h R1            PT82         \n",
       "RNA_PT76_R1_C_albicans_4h  R1            PT76         \n",
       "RNA_PT76_R1_C_albicans_6h  R1            PT76         \n",
       "RNA_PT82_R1_C_albicans_8h  R1            PT82         \n",
       "RNA_PT76_R1_untreated_0h   R1            PT76         "
      ]
     },
     "metadata": {},
     "output_type": "display_data"
    }
   ],
   "source": [
    "# load RNA annotations\n",
    "RNA_annot <- read.csv(file=file.path('metadata','RNA_sample_metadata.csv'), row.names=1)\n",
    "dim(RNA_annot)\n",
    "head(RNA_annot)"
   ]
  },
  {
   "cell_type": "code",
   "execution_count": 7,
   "id": "2adb5c17",
   "metadata": {},
   "outputs": [],
   "source": [
    "RNA_annot[RNA_annot$Treatment=='untreated','Treatment_time'] <- '0h'"
   ]
  },
  {
   "cell_type": "code",
   "execution_count": 8,
   "id": "e2015fe8",
   "metadata": {},
   "outputs": [
    {
     "data": {
      "text/html": [
       "<style>\n",
       ".list-inline {list-style: none; margin:0; padding: 0}\n",
       ".list-inline>li {display: inline-block}\n",
       ".list-inline>li:not(:last-child)::after {content: \"\\00b7\"; padding: 0 .5ex}\n",
       "</style>\n",
       "<ol class=list-inline><li>78</li><li>10</li></ol>\n"
      ],
      "text/latex": [
       "\\begin{enumerate*}\n",
       "\\item 78\n",
       "\\item 10\n",
       "\\end{enumerate*}\n"
      ],
      "text/markdown": [
       "1. 78\n",
       "2. 10\n",
       "\n",
       "\n"
      ],
      "text/plain": [
       "[1] 78 10"
      ]
     },
     "metadata": {},
     "output_type": "display_data"
    },
    {
     "data": {
      "text/html": [
       "<table class=\"dataframe\">\n",
       "<caption>A data.frame: 6 × 10</caption>\n",
       "<thead>\n",
       "\t<tr><th></th><th scope=col>library</th><th scope=col>timepoint.after.thawing</th><th scope=col>cell_line</th><th scope=col>Treatment</th><th scope=col>Treatment_time</th><th scope=col>mouse_pool</th><th scope=col>sex</th><th scope=col>bio.replicate</th><th scope=col>organism</th><th scope=col>experiment_id</th></tr>\n",
       "\t<tr><th></th><th scope=col>&lt;chr&gt;</th><th scope=col>&lt;chr&gt;</th><th scope=col>&lt;chr&gt;</th><th scope=col>&lt;chr&gt;</th><th scope=col>&lt;chr&gt;</th><th scope=col>&lt;chr&gt;</th><th scope=col>&lt;chr&gt;</th><th scope=col>&lt;chr&gt;</th><th scope=col>&lt;chr&gt;</th><th scope=col>&lt;chr&gt;</th></tr>\n",
       "</thead>\n",
       "<tbody>\n",
       "\t<tr><th scope=row>PT76_R1_C_albicans_2h</th><td>ATAC-seq</td><td>d010</td><td>BMDM</td><td>C_albicans</td><td>2h</td><td>PT62_c</td><td>female</td><td>R1</td><td>mouse</td><td>PT76</td></tr>\n",
       "\t<tr><th scope=row>PT76_R1_C_albicans_4h</th><td>ATAC-seq</td><td>d010</td><td>BMDM</td><td>C_albicans</td><td>4h</td><td>PT62_c</td><td>female</td><td>R1</td><td>mouse</td><td>PT76</td></tr>\n",
       "\t<tr><th scope=row>PT76_R1_C_albicans_6h</th><td>ATAC-seq</td><td>d010</td><td>BMDM</td><td>C_albicans</td><td>6h</td><td>PT62_c</td><td>female</td><td>R1</td><td>mouse</td><td>PT76</td></tr>\n",
       "\t<tr><th scope=row>PT76_R1_C_albicans_8h</th><td>ATAC-seq</td><td>d010</td><td>BMDM</td><td>C_albicans</td><td>8h</td><td>PT62_c</td><td>female</td><td>R1</td><td>mouse</td><td>PT76</td></tr>\n",
       "\t<tr><th scope=row>PT76_R1_untreated_0h</th><td>ATAC-seq</td><td>d010</td><td>BMDM</td><td>untreated </td><td>0h</td><td>PT62_c</td><td>female</td><td>R1</td><td>mouse</td><td>PT76</td></tr>\n",
       "\t<tr><th scope=row>PT76_R1_IFN_beta_2h</th><td>ATAC-seq</td><td>d010</td><td>BMDM</td><td>IFN_beta  </td><td>2h</td><td>PT62_c</td><td>female</td><td>R1</td><td>mouse</td><td>PT76</td></tr>\n",
       "</tbody>\n",
       "</table>\n"
      ],
      "text/latex": [
       "A data.frame: 6 × 10\n",
       "\\begin{tabular}{r|llllllllll}\n",
       "  & library & timepoint.after.thawing & cell\\_line & Treatment & Treatment\\_time & mouse\\_pool & sex & bio.replicate & organism & experiment\\_id\\\\\n",
       "  & <chr> & <chr> & <chr> & <chr> & <chr> & <chr> & <chr> & <chr> & <chr> & <chr>\\\\\n",
       "\\hline\n",
       "\tPT76\\_R1\\_C\\_albicans\\_2h & ATAC-seq & d010 & BMDM & C\\_albicans & 2h & PT62\\_c & female & R1 & mouse & PT76\\\\\n",
       "\tPT76\\_R1\\_C\\_albicans\\_4h & ATAC-seq & d010 & BMDM & C\\_albicans & 4h & PT62\\_c & female & R1 & mouse & PT76\\\\\n",
       "\tPT76\\_R1\\_C\\_albicans\\_6h & ATAC-seq & d010 & BMDM & C\\_albicans & 6h & PT62\\_c & female & R1 & mouse & PT76\\\\\n",
       "\tPT76\\_R1\\_C\\_albicans\\_8h & ATAC-seq & d010 & BMDM & C\\_albicans & 8h & PT62\\_c & female & R1 & mouse & PT76\\\\\n",
       "\tPT76\\_R1\\_untreated\\_0h & ATAC-seq & d010 & BMDM & untreated  & 0h & PT62\\_c & female & R1 & mouse & PT76\\\\\n",
       "\tPT76\\_R1\\_IFN\\_beta\\_2h & ATAC-seq & d010 & BMDM & IFN\\_beta   & 2h & PT62\\_c & female & R1 & mouse & PT76\\\\\n",
       "\\end{tabular}\n"
      ],
      "text/markdown": [
       "\n",
       "A data.frame: 6 × 10\n",
       "\n",
       "| <!--/--> | library &lt;chr&gt; | timepoint.after.thawing &lt;chr&gt; | cell_line &lt;chr&gt; | Treatment &lt;chr&gt; | Treatment_time &lt;chr&gt; | mouse_pool &lt;chr&gt; | sex &lt;chr&gt; | bio.replicate &lt;chr&gt; | organism &lt;chr&gt; | experiment_id &lt;chr&gt; |\n",
       "|---|---|---|---|---|---|---|---|---|---|---|\n",
       "| PT76_R1_C_albicans_2h | ATAC-seq | d010 | BMDM | C_albicans | 2h | PT62_c | female | R1 | mouse | PT76 |\n",
       "| PT76_R1_C_albicans_4h | ATAC-seq | d010 | BMDM | C_albicans | 4h | PT62_c | female | R1 | mouse | PT76 |\n",
       "| PT76_R1_C_albicans_6h | ATAC-seq | d010 | BMDM | C_albicans | 6h | PT62_c | female | R1 | mouse | PT76 |\n",
       "| PT76_R1_C_albicans_8h | ATAC-seq | d010 | BMDM | C_albicans | 8h | PT62_c | female | R1 | mouse | PT76 |\n",
       "| PT76_R1_untreated_0h | ATAC-seq | d010 | BMDM | untreated  | 0h | PT62_c | female | R1 | mouse | PT76 |\n",
       "| PT76_R1_IFN_beta_2h | ATAC-seq | d010 | BMDM | IFN_beta   | 2h | PT62_c | female | R1 | mouse | PT76 |\n",
       "\n"
      ],
      "text/plain": [
       "                      library  timepoint.after.thawing cell_line Treatment \n",
       "PT76_R1_C_albicans_2h ATAC-seq d010                    BMDM      C_albicans\n",
       "PT76_R1_C_albicans_4h ATAC-seq d010                    BMDM      C_albicans\n",
       "PT76_R1_C_albicans_6h ATAC-seq d010                    BMDM      C_albicans\n",
       "PT76_R1_C_albicans_8h ATAC-seq d010                    BMDM      C_albicans\n",
       "PT76_R1_untreated_0h  ATAC-seq d010                    BMDM      untreated \n",
       "PT76_R1_IFN_beta_2h   ATAC-seq d010                    BMDM      IFN_beta  \n",
       "                      Treatment_time mouse_pool sex    bio.replicate organism\n",
       "PT76_R1_C_albicans_2h 2h             PT62_c     female R1            mouse   \n",
       "PT76_R1_C_albicans_4h 4h             PT62_c     female R1            mouse   \n",
       "PT76_R1_C_albicans_6h 6h             PT62_c     female R1            mouse   \n",
       "PT76_R1_C_albicans_8h 8h             PT62_c     female R1            mouse   \n",
       "PT76_R1_untreated_0h  0h             PT62_c     female R1            mouse   \n",
       "PT76_R1_IFN_beta_2h   2h             PT62_c     female R1            mouse   \n",
       "                      experiment_id\n",
       "PT76_R1_C_albicans_2h PT76         \n",
       "PT76_R1_C_albicans_4h PT76         \n",
       "PT76_R1_C_albicans_6h PT76         \n",
       "PT76_R1_C_albicans_8h PT76         \n",
       "PT76_R1_untreated_0h  PT76         \n",
       "PT76_R1_IFN_beta_2h   PT76         "
      ]
     },
     "metadata": {},
     "output_type": "display_data"
    }
   ],
   "source": [
    "# load ATAC annotations\n",
    "ATAC_annot <- read.csv(file=file.path('metadata','ATAC_sample_metadata.csv'), row.names=1)\n",
    "dim(ATAC_annot)\n",
    "head(ATAC_annot)"
   ]
  },
  {
   "cell_type": "code",
   "execution_count": 9,
   "id": "3a048548",
   "metadata": {},
   "outputs": [],
   "source": [
    "ATAC_annot[ATAC_annot$Treatment=='untreated','Treatment_time'] <- '0h'"
   ]
  },
  {
   "cell_type": "code",
   "execution_count": 10,
   "id": "3b77801b",
   "metadata": {},
   "outputs": [
    {
     "data": {
      "text/html": [
       "<style>\n",
       ".dl-inline {width: auto; margin:0; padding: 0}\n",
       ".dl-inline>dt, .dl-inline>dd {float: none; width: auto; display: inline-block}\n",
       ".dl-inline>dt::after {content: \":\\0020\"; padding-right: .5ex}\n",
       ".dl-inline>dt:not(:first-of-type) {padding-left: .5ex}\n",
       "</style><dl class=dl-inline><dt>untreated</dt><dd>'#707070'</dd><dt>C albicans</dt><dd>'#0072B2'</dd><dt>IFN beta</dt><dd>'#D55E00'</dd><dt>IFN gamma</dt><dd>'#E69F00'</dd><dt>LCMV Cl13</dt><dd>'#CC79A7'</dd><dt>LO28</dt><dd>'#009E73'</dd><dt>LPS</dt><dd>'#56B4E9'</dd></dl>\n"
      ],
      "text/latex": [
       "\\begin{description*}\n",
       "\\item[untreated] '\\#707070'\n",
       "\\item[C albicans] '\\#0072B2'\n",
       "\\item[IFN beta] '\\#D55E00'\n",
       "\\item[IFN gamma] '\\#E69F00'\n",
       "\\item[LCMV Cl13] '\\#CC79A7'\n",
       "\\item[LO28] '\\#009E73'\n",
       "\\item[LPS] '\\#56B4E9'\n",
       "\\end{description*}\n"
      ],
      "text/markdown": [
       "untreated\n",
       ":   '#707070'C albicans\n",
       ":   '#0072B2'IFN beta\n",
       ":   '#D55E00'IFN gamma\n",
       ":   '#E69F00'LCMV Cl13\n",
       ":   '#CC79A7'LO28\n",
       ":   '#009E73'LPS\n",
       ":   '#56B4E9'\n",
       "\n"
      ],
      "text/plain": [
       " untreated C albicans   IFN beta  IFN gamma  LCMV Cl13       LO28        LPS \n",
       " \"#707070\"  \"#0072B2\"  \"#D55E00\"  \"#E69F00\"  \"#CC79A7\"  \"#009E73\"  \"#56B4E9\" "
      ]
     },
     "metadata": {},
     "output_type": "display_data"
    }
   ],
   "source": [
    "# loaded from central theme\n",
    "treatment_colors"
   ]
  },
  {
   "cell_type": "code",
   "execution_count": 11,
   "id": "90e1eb69",
   "metadata": {},
   "outputs": [
    {
     "data": {
      "text/html": [
       "<style>\n",
       ".dl-inline {width: auto; margin:0; padding: 0}\n",
       ".dl-inline>dt, .dl-inline>dd {float: none; width: auto; display: inline-block}\n",
       ".dl-inline>dt::after {content: \":\\0020\"; padding-right: .5ex}\n",
       ".dl-inline>dt:not(:first-of-type) {padding-left: .5ex}\n",
       "</style><dl class=dl-inline><dt>0h</dt><dd>0.5</dd><dt>2h</dt><dd>1</dd><dt>4h</dt><dd>2</dd><dt>6h</dt><dd>3</dd><dt>8h</dt><dd>4</dd><dt>24h</dt><dd>5</dd></dl>\n"
      ],
      "text/latex": [
       "\\begin{description*}\n",
       "\\item[0h] 0.5\n",
       "\\item[2h] 1\n",
       "\\item[4h] 2\n",
       "\\item[6h] 3\n",
       "\\item[8h] 4\n",
       "\\item[24h] 5\n",
       "\\end{description*}\n"
      ],
      "text/markdown": [
       "0h\n",
       ":   0.52h\n",
       ":   14h\n",
       ":   26h\n",
       ":   38h\n",
       ":   424h\n",
       ":   5\n",
       "\n"
      ],
      "text/plain": [
       " 0h  2h  4h  6h  8h 24h \n",
       "0.5 1.0 2.0 3.0 4.0 5.0 "
      ]
     },
     "metadata": {},
     "output_type": "display_data"
    }
   ],
   "source": [
    "# loaded from central theme\n",
    "time_sizes"
   ]
  },
  {
   "cell_type": "markdown",
   "id": "1c0e329f",
   "metadata": {},
   "source": [
    "# Unsupervised Analysis"
   ]
  },
  {
   "cell_type": "code",
   "execution_count": 12,
   "id": "8a77ea5f",
   "metadata": {},
   "outputs": [
    {
     "data": {
      "text/html": [
       "<style>\n",
       ".list-inline {list-style: none; margin:0; padding: 0}\n",
       ".list-inline>li {display: inline-block}\n",
       ".list-inline>li:not(:last-child)::after {content: \"\\00b7\"; padding: 0 .5ex}\n",
       "</style>\n",
       "<ol class=list-inline><li>64</li><li>5</li></ol>\n"
      ],
      "text/latex": [
       "\\begin{enumerate*}\n",
       "\\item 64\n",
       "\\item 5\n",
       "\\end{enumerate*}\n"
      ],
      "text/markdown": [
       "1. 64\n",
       "2. 5\n",
       "\n",
       "\n"
      ],
      "text/plain": [
       "[1] 64  5"
      ]
     },
     "metadata": {},
     "output_type": "display_data"
    },
    {
     "data": {
      "text/html": [
       "<table class=\"dataframe\">\n",
       "<caption>A data.frame: 6 × 5</caption>\n",
       "<thead>\n",
       "\t<tr><th></th><th scope=col>PC_1</th><th scope=col>PC_2</th><th scope=col>treatment</th><th scope=col>time</th><th scope=col>time2</th></tr>\n",
       "\t<tr><th></th><th scope=col>&lt;dbl&gt;</th><th scope=col>&lt;dbl&gt;</th><th scope=col>&lt;chr&gt;</th><th scope=col>&lt;chr&gt;</th><th scope=col>&lt;chr&gt;</th></tr>\n",
       "</thead>\n",
       "<tbody>\n",
       "\t<tr><th scope=row>RNA_PT82_R1_LO28_24h</th><td> 30.279577</td><td>128.39888</td><td>LO28     </td><td>24h</td><td>24</td></tr>\n",
       "\t<tr><th scope=row>RNA_PT82_R2_LO28_24h</th><td> 21.348567</td><td>132.45559</td><td>LO28     </td><td>24h</td><td>24</td></tr>\n",
       "\t<tr><th scope=row>RNA_PT76_R2_LCMV_Cl13_4h</th><td>-58.505778</td><td> 21.15368</td><td>LCMV Cl13</td><td>4h </td><td>4 </td></tr>\n",
       "\t<tr><th scope=row>RNA_PT76_R1_LO28_6h</th><td> 91.832055</td><td> 12.87189</td><td>LO28     </td><td>6h </td><td>6 </td></tr>\n",
       "\t<tr><th scope=row>RNA_PT82_R2_untreated_24h</th><td>-63.828909</td><td> 12.63604</td><td>untreated</td><td>0h </td><td>0 </td></tr>\n",
       "\t<tr><th scope=row>RNA_PT82_R2_IFN_beta_24h</th><td> -3.448831</td><td> 87.81184</td><td>IFN beta </td><td>24h</td><td>24</td></tr>\n",
       "</tbody>\n",
       "</table>\n"
      ],
      "text/latex": [
       "A data.frame: 6 × 5\n",
       "\\begin{tabular}{r|lllll}\n",
       "  & PC\\_1 & PC\\_2 & treatment & time & time2\\\\\n",
       "  & <dbl> & <dbl> & <chr> & <chr> & <chr>\\\\\n",
       "\\hline\n",
       "\tRNA\\_PT82\\_R1\\_LO28\\_24h &  30.279577 & 128.39888 & LO28      & 24h & 24\\\\\n",
       "\tRNA\\_PT82\\_R2\\_LO28\\_24h &  21.348567 & 132.45559 & LO28      & 24h & 24\\\\\n",
       "\tRNA\\_PT76\\_R2\\_LCMV\\_Cl13\\_4h & -58.505778 &  21.15368 & LCMV Cl13 & 4h  & 4 \\\\\n",
       "\tRNA\\_PT76\\_R1\\_LO28\\_6h &  91.832055 &  12.87189 & LO28      & 6h  & 6 \\\\\n",
       "\tRNA\\_PT82\\_R2\\_untreated\\_24h & -63.828909 &  12.63604 & untreated & 0h  & 0 \\\\\n",
       "\tRNA\\_PT82\\_R2\\_IFN\\_beta\\_24h &  -3.448831 &  87.81184 & IFN beta  & 24h & 24\\\\\n",
       "\\end{tabular}\n"
      ],
      "text/markdown": [
       "\n",
       "A data.frame: 6 × 5\n",
       "\n",
       "| <!--/--> | PC_1 &lt;dbl&gt; | PC_2 &lt;dbl&gt; | treatment &lt;chr&gt; | time &lt;chr&gt; | time2 &lt;chr&gt; |\n",
       "|---|---|---|---|---|---|\n",
       "| RNA_PT82_R1_LO28_24h |  30.279577 | 128.39888 | LO28      | 24h | 24 |\n",
       "| RNA_PT82_R2_LO28_24h |  21.348567 | 132.45559 | LO28      | 24h | 24 |\n",
       "| RNA_PT76_R2_LCMV_Cl13_4h | -58.505778 |  21.15368 | LCMV Cl13 | 4h  | 4  |\n",
       "| RNA_PT76_R1_LO28_6h |  91.832055 |  12.87189 | LO28      | 6h  | 6  |\n",
       "| RNA_PT82_R2_untreated_24h | -63.828909 |  12.63604 | untreated | 0h  | 0  |\n",
       "| RNA_PT82_R2_IFN_beta_24h |  -3.448831 |  87.81184 | IFN beta  | 24h | 24 |\n",
       "\n"
      ],
      "text/plain": [
       "                          PC_1       PC_2      treatment time time2\n",
       "RNA_PT82_R1_LO28_24h       30.279577 128.39888 LO28      24h  24   \n",
       "RNA_PT82_R2_LO28_24h       21.348567 132.45559 LO28      24h  24   \n",
       "RNA_PT76_R2_LCMV_Cl13_4h  -58.505778  21.15368 LCMV Cl13 4h   4    \n",
       "RNA_PT76_R1_LO28_6h        91.832055  12.87189 LO28      6h   6    \n",
       "RNA_PT82_R2_untreated_24h -63.828909  12.63604 untreated 0h   0    \n",
       "RNA_PT82_R2_IFN_beta_24h   -3.448831  87.81184 IFN beta  24h  24   "
      ]
     },
     "metadata": {},
     "output_type": "display_data"
    }
   ],
   "source": [
    "# load RNA data\n",
    "RNA_PCA_var <- read.csv(file=file.path(data_RNA,'unsupervised_analysis','PCA_normCQN_explained_variance.csv'), row.names=1)\n",
    "RNA_PCA <- read.csv(file=file.path(data_RNA,'unsupervised_analysis','PCA_normCQN.csv'), row.names=1)\n",
    "RNA_PCA <- RNA_PCA[,1:2]\n",
    "colnames(RNA_PCA) <- c('PC_1', 'PC_2')\n",
    "RNA_PCA$treatment <- RNA_annot[rownames(RNA_PCA),'Treatment']\n",
    "RNA_PCA$treatment <- str_replace(RNA_PCA$treatment, '_', ' ')\n",
    "RNA_PCA$time <- RNA_annot[rownames(RNA_PCA),'Treatment_time']\n",
    "RNA_PCA$time2 <- substr(RNA_PCA$time,1,nchar(RNA_PCA$time)-1)\n",
    "dim(RNA_PCA)\n",
    "head(RNA_PCA)"
   ]
  },
  {
   "cell_type": "code",
   "execution_count": 13,
   "id": "21887d3e",
   "metadata": {},
   "outputs": [
    {
     "data": {
      "text/html": [
       "<style>\n",
       ".list-inline {list-style: none; margin:0; padding: 0}\n",
       ".list-inline>li {display: inline-block}\n",
       ".list-inline>li:not(:last-child)::after {content: \"\\00b7\"; padding: 0 .5ex}\n",
       "</style>\n",
       "<ol class=list-inline><li>78</li><li>5</li></ol>\n"
      ],
      "text/latex": [
       "\\begin{enumerate*}\n",
       "\\item 78\n",
       "\\item 5\n",
       "\\end{enumerate*}\n"
      ],
      "text/markdown": [
       "1. 78\n",
       "2. 5\n",
       "\n",
       "\n"
      ],
      "text/plain": [
       "[1] 78  5"
      ]
     },
     "metadata": {},
     "output_type": "display_data"
    },
    {
     "data": {
      "text/html": [
       "<table class=\"dataframe\">\n",
       "<caption>A data.frame: 6 × 5</caption>\n",
       "<thead>\n",
       "\t<tr><th></th><th scope=col>PC_1</th><th scope=col>PC_2</th><th scope=col>treatment</th><th scope=col>time</th><th scope=col>time2</th></tr>\n",
       "\t<tr><th></th><th scope=col>&lt;dbl&gt;</th><th scope=col>&lt;dbl&gt;</th><th scope=col>&lt;chr&gt;</th><th scope=col>&lt;chr&gt;</th><th scope=col>&lt;chr&gt;</th></tr>\n",
       "</thead>\n",
       "<tbody>\n",
       "\t<tr><th scope=row>PT76_R1_C_albicans_2h</th><td> -83.68200</td><td>-133.92047</td><td>C albicans</td><td>2h</td><td>2</td></tr>\n",
       "\t<tr><th scope=row>PT76_R1_C_albicans_4h</th><td> -57.07280</td><td>-161.01642</td><td>C albicans</td><td>4h</td><td>4</td></tr>\n",
       "\t<tr><th scope=row>PT76_R1_C_albicans_6h</th><td> -57.57283</td><td>-145.46150</td><td>C albicans</td><td>6h</td><td>6</td></tr>\n",
       "\t<tr><th scope=row>PT76_R1_C_albicans_8h</th><td> -54.96527</td><td>-129.61160</td><td>C albicans</td><td>8h</td><td>8</td></tr>\n",
       "\t<tr><th scope=row>PT76_R1_untreated_0h</th><td>-194.39197</td><td> -52.14000</td><td>untreated </td><td>0h</td><td>0</td></tr>\n",
       "\t<tr><th scope=row>PT76_R1_IFN_beta_2h</th><td>-134.00865</td><td>  39.36419</td><td>IFN beta  </td><td>2h</td><td>2</td></tr>\n",
       "</tbody>\n",
       "</table>\n"
      ],
      "text/latex": [
       "A data.frame: 6 × 5\n",
       "\\begin{tabular}{r|lllll}\n",
       "  & PC\\_1 & PC\\_2 & treatment & time & time2\\\\\n",
       "  & <dbl> & <dbl> & <chr> & <chr> & <chr>\\\\\n",
       "\\hline\n",
       "\tPT76\\_R1\\_C\\_albicans\\_2h &  -83.68200 & -133.92047 & C albicans & 2h & 2\\\\\n",
       "\tPT76\\_R1\\_C\\_albicans\\_4h &  -57.07280 & -161.01642 & C albicans & 4h & 4\\\\\n",
       "\tPT76\\_R1\\_C\\_albicans\\_6h &  -57.57283 & -145.46150 & C albicans & 6h & 6\\\\\n",
       "\tPT76\\_R1\\_C\\_albicans\\_8h &  -54.96527 & -129.61160 & C albicans & 8h & 8\\\\\n",
       "\tPT76\\_R1\\_untreated\\_0h & -194.39197 &  -52.14000 & untreated  & 0h & 0\\\\\n",
       "\tPT76\\_R1\\_IFN\\_beta\\_2h & -134.00865 &   39.36419 & IFN beta   & 2h & 2\\\\\n",
       "\\end{tabular}\n"
      ],
      "text/markdown": [
       "\n",
       "A data.frame: 6 × 5\n",
       "\n",
       "| <!--/--> | PC_1 &lt;dbl&gt; | PC_2 &lt;dbl&gt; | treatment &lt;chr&gt; | time &lt;chr&gt; | time2 &lt;chr&gt; |\n",
       "|---|---|---|---|---|---|\n",
       "| PT76_R1_C_albicans_2h |  -83.68200 | -133.92047 | C albicans | 2h | 2 |\n",
       "| PT76_R1_C_albicans_4h |  -57.07280 | -161.01642 | C albicans | 4h | 4 |\n",
       "| PT76_R1_C_albicans_6h |  -57.57283 | -145.46150 | C albicans | 6h | 6 |\n",
       "| PT76_R1_C_albicans_8h |  -54.96527 | -129.61160 | C albicans | 8h | 8 |\n",
       "| PT76_R1_untreated_0h | -194.39197 |  -52.14000 | untreated  | 0h | 0 |\n",
       "| PT76_R1_IFN_beta_2h | -134.00865 |   39.36419 | IFN beta   | 2h | 2 |\n",
       "\n"
      ],
      "text/plain": [
       "                      PC_1       PC_2       treatment  time time2\n",
       "PT76_R1_C_albicans_2h  -83.68200 -133.92047 C albicans 2h   2    \n",
       "PT76_R1_C_albicans_4h  -57.07280 -161.01642 C albicans 4h   4    \n",
       "PT76_R1_C_albicans_6h  -57.57283 -145.46150 C albicans 6h   6    \n",
       "PT76_R1_C_albicans_8h  -54.96527 -129.61160 C albicans 8h   8    \n",
       "PT76_R1_untreated_0h  -194.39197  -52.14000 untreated  0h   0    \n",
       "PT76_R1_IFN_beta_2h   -134.00865   39.36419 IFN beta   2h   2    "
      ]
     },
     "metadata": {},
     "output_type": "display_data"
    }
   ],
   "source": [
    "# load ATAC data\n",
    "ATAC_PCA_var <- read.csv(file=file.path(data_ATAC,'unsupervised_analysis','PCA_all_normCQN_explained_variance.csv'), row.names=1)\n",
    "ATAC_PCA <- read.csv(file=file.path(data_ATAC,'unsupervised_analysis','PCA_all_normCQN.csv'), row.names=1)\n",
    "ATAC_PCA <- ATAC_PCA[,1:2]\n",
    "colnames(ATAC_PCA) <- c('PC_1', 'PC_2')\n",
    "ATAC_PCA$treatment <- ATAC_annot[rownames(ATAC_PCA),'Treatment']\n",
    "ATAC_PCA$treatment <- str_replace(ATAC_PCA$treatment, '_', ' ')\n",
    "ATAC_PCA$time <- ATAC_annot[rownames(ATAC_PCA),'Treatment_time']\n",
    "ATAC_PCA$time2 <- substr(ATAC_PCA$time,1,nchar(ATAC_PCA$time)-1)\n",
    "dim(ATAC_PCA)\n",
    "head(ATAC_PCA)"
   ]
  },
  {
   "cell_type": "code",
   "execution_count": 14,
   "id": "f1dccf20",
   "metadata": {},
   "outputs": [],
   "source": [
    "width <- 5\n",
    "height <- 4\n",
    "options(repr.plot.width=width, repr.plot.height=height)"
   ]
  },
  {
   "cell_type": "code",
   "execution_count": 18,
   "id": "0fe73e98",
   "metadata": {
    "tags": []
   },
   "outputs": [
    {
     "data": {
      "image/png": "[encoded data removed]",
      "text/plain": [
       "plot without title"
      ]
     },
     "metadata": {
      "image/png": {
       "height": 240,
       "width": 300
      }
     },
     "output_type": "display_data"
    }
   ],
   "source": [
    "# plot RNA data\n",
    "RNA_PCA_p <- ggplot(RNA_PCA, aes(x=PC_1, y=PC_2, group=treatment)) +\n",
    "geom_point(aes(size=time, color=treatment), shape=21, stroke = 0.5) + # for time encoded by size\n",
    "scale_size_manual(values=time_sizes) +\n",
    "scale_color_manual(values=treatment_colors, labels=treatment_format, drop=FALSE) +\n",
    "    xlab(paste0(\"PC 1 (\",round(RNA_PCA_var[1,1]*100,2),\"%)\")) +    \n",
    "    ylab(paste0(\"PC 2 (\",round(RNA_PCA_var[2,1]*100,2),\"%)\")) +  \n",
    "guides(color=guide_legend(title=\"Treatment\", order=1), size=guide_legend(title=\"Time\", order=2)) +\n",
    "ggtitle(\"RNA expression\") +\n",
    "    macro_theme()\n",
    "\n",
    "RNA_PCA_p"
   ]
  },
  {
   "cell_type": "code",
   "execution_count": 19,
   "id": "1b444a5b",
   "metadata": {},
   "outputs": [],
   "source": [
    "# save plot\n",
    "ggsave_new(filename=\"RNA_unsupervised_analysis_PCA\",\n",
    "           results_path=results_path,\n",
    "           plot=RNA_PCA_p,\n",
    "           width=width,\n",
    "           height=height\n",
    "          )"
   ]
  },
  {
   "cell_type": "code",
   "execution_count": 21,
   "id": "245b1df9",
   "metadata": {},
   "outputs": [
    {
     "data": {
      "image/png": "[encoded data removed]",
      "text/plain": [
       "plot without title"
      ]
     },
     "metadata": {
      "image/png": {
       "height": 240,
       "width": 300
      }
     },
     "output_type": "display_data"
    }
   ],
   "source": [
    "# plot ATAC data\n",
    "set.seed(42)\n",
    "ATAC_PCA_p <- ggplot(ATAC_PCA, aes(x=PC_1, y=PC_2, group=treatment)) +\n",
    "geom_point(aes(size=time, color=treatment), shape=21, stroke = 0.5) +\n",
    "# geom_jitter(aes(size=time, color=treatment), shape=21, stroke = 0.5, width = 2, height = 0) + # for time encoded by size\n",
    "scale_size_manual(values=time_sizes) +\n",
    "scale_color_manual(values=treatment_colors,  labels=treatment_format, drop=FALSE) +\n",
    "    xlab(paste0(\"PC 1 (\",round(ATAC_PCA_var[1,1]*100,2),\"%)\")) +    \n",
    "    ylab(paste0(\"PC 2 (\",round(ATAC_PCA_var[2,1]*100,2),\"%)\")) +  \n",
    "guides(color=guide_legend(title=\"Treatment\", order=1), size=guide_legend(title=\"Time\", order=2)) +\n",
    "ggtitle(\"Chromatin accessibility\") +\n",
    "    macro_theme()\n",
    "\n",
    "ATAC_PCA_p"
   ]
  },
  {
   "cell_type": "code",
   "execution_count": 22,
   "id": "e7c6bd33",
   "metadata": {},
   "outputs": [],
   "source": [
    "# save plot\n",
    "ggsave_new(filename=\"ATAC_unsupervised_analysis_PCA\",\n",
    "           results_path=results_path,\n",
    "           plot=ATAC_PCA_p,\n",
    "           width=width,\n",
    "           height=height\n",
    "          )"
   ]
  },
  {
   "cell_type": "code",
   "execution_count": 23,
   "id": "97d3d717",
   "metadata": {},
   "outputs": [
    {
     "data": {
      "image/png": "[encoded data removed]",
      "text/plain": [
       "plot without title"
      ]
     },
     "metadata": {
      "image/png": {
       "height": 300,
       "width": 660
      }
     },
     "output_type": "display_data"
    }
   ],
   "source": [
    "width <- 11\n",
    "height <- 5\n",
    "\n",
    "options(repr.plot.width=width, repr.plot.height=height)\n",
    "\n",
    "panel_unsupervised_analysis <- RNA_PCA_p + theme(legend.position = \"none\") | ATAC_PCA_p\n",
    "panel_unsupervised_analysis"
   ]
  },
  {
   "cell_type": "code",
   "execution_count": 24,
   "id": "60612c15",
   "metadata": {},
   "outputs": [],
   "source": [
    "# save plot\n",
    "ggsave_new(filename=\"BULK_unsupervised_analysis_PCA\",\n",
    "           results_path=results_path,\n",
    "           plot=panel_unsupervised_analysis,\n",
    "           width=width,\n",
    "           height=height\n",
    "          )"
   ]
  },
  {
   "cell_type": "markdown",
   "id": "e651bb1b",
   "metadata": {},
   "source": [
    "# Differential Analysis - Scatter plot"
   ]
  },
  {
   "cell_type": "code",
   "execution_count": 25,
   "id": "49655ab2",
   "metadata": {},
   "outputs": [
    {
     "data": {
      "text/html": [
       "<style>\n",
       ".list-inline {list-style: none; margin:0; padding: 0}\n",
       ".list-inline>li {display: inline-block}\n",
       ".list-inline>li:not(:last-child)::after {content: \"\\00b7\"; padding: 0 .5ex}\n",
       "</style>\n",
       "<ol class=list-inline><li>99951</li><li>17</li></ol>\n"
      ],
      "text/latex": [
       "\\begin{enumerate*}\n",
       "\\item 99951\n",
       "\\item 17\n",
       "\\end{enumerate*}\n"
      ],
      "text/markdown": [
       "1. 99951\n",
       "2. 17\n",
       "\n",
       "\n"
      ],
      "text/plain": [
       "[1] 99951    17"
      ]
     },
     "metadata": {},
     "output_type": "display_data"
    },
    {
     "data": {
      "text/html": [
       "<table class=\"dataframe\">\n",
       "<caption>A data.frame: 6 × 17</caption>\n",
       "<thead>\n",
       "\t<tr><th></th><th scope=col>ensembl_gene_id</th><th scope=col>version</th><th scope=col>source</th><th scope=col>external_gene_name</th><th scope=col>external_gene_source</th><th scope=col>description</th><th scope=col>gene_biotype</th><th scope=col>length</th><th scope=col>gc</th><th scope=col>group</th><th scope=col>logFC</th><th scope=col>AveExpr</th><th scope=col>t</th><th scope=col>P.Value</th><th scope=col>adj.P.Val</th><th scope=col>B</th><th scope=col>direction</th></tr>\n",
       "\t<tr><th></th><th scope=col>&lt;chr&gt;</th><th scope=col>&lt;int&gt;</th><th scope=col>&lt;chr&gt;</th><th scope=col>&lt;chr&gt;</th><th scope=col>&lt;chr&gt;</th><th scope=col>&lt;chr&gt;</th><th scope=col>&lt;chr&gt;</th><th scope=col>&lt;int&gt;</th><th scope=col>&lt;dbl&gt;</th><th scope=col>&lt;chr&gt;</th><th scope=col>&lt;dbl&gt;</th><th scope=col>&lt;dbl&gt;</th><th scope=col>&lt;dbl&gt;</th><th scope=col>&lt;dbl&gt;</th><th scope=col>&lt;dbl&gt;</th><th scope=col>&lt;dbl&gt;</th><th scope=col>&lt;chr&gt;</th></tr>\n",
       "</thead>\n",
       "<tbody>\n",
       "\t<tr><th scope=row>1</th><td>ENSMUSG00000000028</td><td>15</td><td>ensembl_havana</td><td>Cdc45</td><td>MGI Symbol</td><td>cell division cycle 45 [Source:MGI Symbol;Acc:MGI:1338073]</td><td>protein_coding</td><td>3506</td><td>0.4962921</td><td>LPS_8h       </td><td>-3.472169</td><td>3.097686</td><td>-5.224250</td><td>6.014661e-06</td><td>3.276022e-05</td><td> 3.8304187</td><td>down</td></tr>\n",
       "\t<tr><th scope=row>2</th><td>ENSMUSG00000000028</td><td>15</td><td>ensembl_havana</td><td>Cdc45</td><td>MGI Symbol</td><td>cell division cycle 45 [Source:MGI Symbol;Acc:MGI:1338073]</td><td>protein_coding</td><td>3506</td><td>0.4962921</td><td>LO28_6h      </td><td>-2.141904</td><td>3.097686</td><td>-3.562033</td><td>9.812481e-04</td><td>2.505076e-03</td><td>-1.0748088</td><td>down</td></tr>\n",
       "\t<tr><th scope=row>3</th><td>ENSMUSG00000000028</td><td>15</td><td>ensembl_havana</td><td>Cdc45</td><td>MGI Symbol</td><td>cell division cycle 45 [Source:MGI Symbol;Acc:MGI:1338073]</td><td>protein_coding</td><td>3506</td><td>0.4962921</td><td>IFN_beta_6h  </td><td>-1.827678</td><td>3.097686</td><td>-3.442471</td><td>1.380388e-03</td><td>3.969044e-03</td><td>-1.4727414</td><td>down</td></tr>\n",
       "\t<tr><th scope=row>4</th><td>ENSMUSG00000000028</td><td>15</td><td>ensembl_havana</td><td>Cdc45</td><td>MGI Symbol</td><td>cell division cycle 45 [Source:MGI Symbol;Acc:MGI:1338073]</td><td>protein_coding</td><td>3506</td><td>0.4962921</td><td>LCMV_Cl13_24h</td><td>-1.775335</td><td>3.097686</td><td>-3.632385</td><td>8.009786e-04</td><td>4.657678e-03</td><td>-0.8547959</td><td>down</td></tr>\n",
       "\t<tr><th scope=row>5</th><td>ENSMUSG00000000028</td><td>15</td><td>ensembl_havana</td><td>Cdc45</td><td>MGI Symbol</td><td>cell division cycle 45 [Source:MGI Symbol;Acc:MGI:1338073]</td><td>protein_coding</td><td>3506</td><td>0.4962921</td><td>IFN_beta_4h  </td><td>-1.182338</td><td>3.097686</td><td>-2.448738</td><td>1.888964e-02</td><td>4.305215e-02</td><td>-3.9544792</td><td>down</td></tr>\n",
       "\t<tr><th scope=row>6</th><td>ENSMUSG00000000028</td><td>15</td><td>ensembl_havana</td><td>Cdc45</td><td>MGI Symbol</td><td>cell division cycle 45 [Source:MGI Symbol;Acc:MGI:1338073]</td><td>protein_coding</td><td>3506</td><td>0.4962921</td><td>LPS_24h      </td><td>-4.737483</td><td>3.097686</td><td>-3.813135</td><td>4.722140e-04</td><td>3.642916e-03</td><td>-0.0977867</td><td>down</td></tr>\n",
       "</tbody>\n",
       "</table>\n"
      ],
      "text/latex": [
       "A data.frame: 6 × 17\n",
       "\\begin{tabular}{r|lllllllllllllllll}\n",
       "  & ensembl\\_gene\\_id & version & source & external\\_gene\\_name & external\\_gene\\_source & description & gene\\_biotype & length & gc & group & logFC & AveExpr & t & P.Value & adj.P.Val & B & direction\\\\\n",
       "  & <chr> & <int> & <chr> & <chr> & <chr> & <chr> & <chr> & <int> & <dbl> & <chr> & <dbl> & <dbl> & <dbl> & <dbl> & <dbl> & <dbl> & <chr>\\\\\n",
       "\\hline\n",
       "\t1 & ENSMUSG00000000028 & 15 & ensembl\\_havana & Cdc45 & MGI Symbol & cell division cycle 45 {[}Source:MGI Symbol;Acc:MGI:1338073{]} & protein\\_coding & 3506 & 0.4962921 & LPS\\_8h        & -3.472169 & 3.097686 & -5.224250 & 6.014661e-06 & 3.276022e-05 &  3.8304187 & down\\\\\n",
       "\t2 & ENSMUSG00000000028 & 15 & ensembl\\_havana & Cdc45 & MGI Symbol & cell division cycle 45 {[}Source:MGI Symbol;Acc:MGI:1338073{]} & protein\\_coding & 3506 & 0.4962921 & LO28\\_6h       & -2.141904 & 3.097686 & -3.562033 & 9.812481e-04 & 2.505076e-03 & -1.0748088 & down\\\\\n",
       "\t3 & ENSMUSG00000000028 & 15 & ensembl\\_havana & Cdc45 & MGI Symbol & cell division cycle 45 {[}Source:MGI Symbol;Acc:MGI:1338073{]} & protein\\_coding & 3506 & 0.4962921 & IFN\\_beta\\_6h   & -1.827678 & 3.097686 & -3.442471 & 1.380388e-03 & 3.969044e-03 & -1.4727414 & down\\\\\n",
       "\t4 & ENSMUSG00000000028 & 15 & ensembl\\_havana & Cdc45 & MGI Symbol & cell division cycle 45 {[}Source:MGI Symbol;Acc:MGI:1338073{]} & protein\\_coding & 3506 & 0.4962921 & LCMV\\_Cl13\\_24h & -1.775335 & 3.097686 & -3.632385 & 8.009786e-04 & 4.657678e-03 & -0.8547959 & down\\\\\n",
       "\t5 & ENSMUSG00000000028 & 15 & ensembl\\_havana & Cdc45 & MGI Symbol & cell division cycle 45 {[}Source:MGI Symbol;Acc:MGI:1338073{]} & protein\\_coding & 3506 & 0.4962921 & IFN\\_beta\\_4h   & -1.182338 & 3.097686 & -2.448738 & 1.888964e-02 & 4.305215e-02 & -3.9544792 & down\\\\\n",
       "\t6 & ENSMUSG00000000028 & 15 & ensembl\\_havana & Cdc45 & MGI Symbol & cell division cycle 45 {[}Source:MGI Symbol;Acc:MGI:1338073{]} & protein\\_coding & 3506 & 0.4962921 & LPS\\_24h       & -4.737483 & 3.097686 & -3.813135 & 4.722140e-04 & 3.642916e-03 & -0.0977867 & down\\\\\n",
       "\\end{tabular}\n"
      ],
      "text/markdown": [
       "\n",
       "A data.frame: 6 × 17\n",
       "\n",
       "| <!--/--> | ensembl_gene_id &lt;chr&gt; | version &lt;int&gt; | source &lt;chr&gt; | external_gene_name &lt;chr&gt; | external_gene_source &lt;chr&gt; | description &lt;chr&gt; | gene_biotype &lt;chr&gt; | length &lt;int&gt; | gc &lt;dbl&gt; | group &lt;chr&gt; | logFC &lt;dbl&gt; | AveExpr &lt;dbl&gt; | t &lt;dbl&gt; | P.Value &lt;dbl&gt; | adj.P.Val &lt;dbl&gt; | B &lt;dbl&gt; | direction &lt;chr&gt; |\n",
       "|---|---|---|---|---|---|---|---|---|---|---|---|---|---|---|---|---|---|\n",
       "| 1 | ENSMUSG00000000028 | 15 | ensembl_havana | Cdc45 | MGI Symbol | cell division cycle 45 [Source:MGI Symbol;Acc:MGI:1338073] | protein_coding | 3506 | 0.4962921 | LPS_8h        | -3.472169 | 3.097686 | -5.224250 | 6.014661e-06 | 3.276022e-05 |  3.8304187 | down |\n",
       "| 2 | ENSMUSG00000000028 | 15 | ensembl_havana | Cdc45 | MGI Symbol | cell division cycle 45 [Source:MGI Symbol;Acc:MGI:1338073] | protein_coding | 3506 | 0.4962921 | LO28_6h       | -2.141904 | 3.097686 | -3.562033 | 9.812481e-04 | 2.505076e-03 | -1.0748088 | down |\n",
       "| 3 | ENSMUSG00000000028 | 15 | ensembl_havana | Cdc45 | MGI Symbol | cell division cycle 45 [Source:MGI Symbol;Acc:MGI:1338073] | protein_coding | 3506 | 0.4962921 | IFN_beta_6h   | -1.827678 | 3.097686 | -3.442471 | 1.380388e-03 | 3.969044e-03 | -1.4727414 | down |\n",
       "| 4 | ENSMUSG00000000028 | 15 | ensembl_havana | Cdc45 | MGI Symbol | cell division cycle 45 [Source:MGI Symbol;Acc:MGI:1338073] | protein_coding | 3506 | 0.4962921 | LCMV_Cl13_24h | -1.775335 | 3.097686 | -3.632385 | 8.009786e-04 | 4.657678e-03 | -0.8547959 | down |\n",
       "| 5 | ENSMUSG00000000028 | 15 | ensembl_havana | Cdc45 | MGI Symbol | cell division cycle 45 [Source:MGI Symbol;Acc:MGI:1338073] | protein_coding | 3506 | 0.4962921 | IFN_beta_4h   | -1.182338 | 3.097686 | -2.448738 | 1.888964e-02 | 4.305215e-02 | -3.9544792 | down |\n",
       "| 6 | ENSMUSG00000000028 | 15 | ensembl_havana | Cdc45 | MGI Symbol | cell division cycle 45 [Source:MGI Symbol;Acc:MGI:1338073] | protein_coding | 3506 | 0.4962921 | LPS_24h       | -4.737483 | 3.097686 | -3.813135 | 4.722140e-04 | 3.642916e-03 | -0.0977867 | down |\n",
       "\n"
      ],
      "text/plain": [
       "  ensembl_gene_id    version source         external_gene_name\n",
       "1 ENSMUSG00000000028 15      ensembl_havana Cdc45             \n",
       "2 ENSMUSG00000000028 15      ensembl_havana Cdc45             \n",
       "3 ENSMUSG00000000028 15      ensembl_havana Cdc45             \n",
       "4 ENSMUSG00000000028 15      ensembl_havana Cdc45             \n",
       "5 ENSMUSG00000000028 15      ensembl_havana Cdc45             \n",
       "6 ENSMUSG00000000028 15      ensembl_havana Cdc45             \n",
       "  external_gene_source\n",
       "1 MGI Symbol          \n",
       "2 MGI Symbol          \n",
       "3 MGI Symbol          \n",
       "4 MGI Symbol          \n",
       "5 MGI Symbol          \n",
       "6 MGI Symbol          \n",
       "  description                                                gene_biotype  \n",
       "1 cell division cycle 45 [Source:MGI Symbol;Acc:MGI:1338073] protein_coding\n",
       "2 cell division cycle 45 [Source:MGI Symbol;Acc:MGI:1338073] protein_coding\n",
       "3 cell division cycle 45 [Source:MGI Symbol;Acc:MGI:1338073] protein_coding\n",
       "4 cell division cycle 45 [Source:MGI Symbol;Acc:MGI:1338073] protein_coding\n",
       "5 cell division cycle 45 [Source:MGI Symbol;Acc:MGI:1338073] protein_coding\n",
       "6 cell division cycle 45 [Source:MGI Symbol;Acc:MGI:1338073] protein_coding\n",
       "  length gc        group         logFC     AveExpr  t         P.Value     \n",
       "1 3506   0.4962921 LPS_8h        -3.472169 3.097686 -5.224250 6.014661e-06\n",
       "2 3506   0.4962921 LO28_6h       -2.141904 3.097686 -3.562033 9.812481e-04\n",
       "3 3506   0.4962921 IFN_beta_6h   -1.827678 3.097686 -3.442471 1.380388e-03\n",
       "4 3506   0.4962921 LCMV_Cl13_24h -1.775335 3.097686 -3.632385 8.009786e-04\n",
       "5 3506   0.4962921 IFN_beta_4h   -1.182338 3.097686 -2.448738 1.888964e-02\n",
       "6 3506   0.4962921 LPS_24h       -4.737483 3.097686 -3.813135 4.722140e-04\n",
       "  adj.P.Val    B          direction\n",
       "1 3.276022e-05  3.8304187 down     \n",
       "2 2.505076e-03 -1.0748088 down     \n",
       "3 3.969044e-03 -1.4727414 down     \n",
       "4 4.657678e-03 -0.8547959 down     \n",
       "5 4.305215e-02 -3.9544792 down     \n",
       "6 3.642916e-03 -0.0977867 down     "
      ]
     },
     "metadata": {},
     "output_type": "display_data"
    }
   ],
   "source": [
    "# load RNA data\n",
    "RNA_DEA <- read.delim(file=file.path(data_RNA,'DEA','Significant.genes.tsv'), sep = '\\t', header = TRUE)\n",
    "dim(RNA_DEA)\n",
    "head(RNA_DEA)"
   ]
  },
  {
   "cell_type": "code",
   "execution_count": 26,
   "id": "6d24e9db",
   "metadata": {},
   "outputs": [
    {
     "data": {
      "text/html": [
       "<style>\n",
       ".list-inline {list-style: none; margin:0; padding: 0}\n",
       ".list-inline>li {display: inline-block}\n",
       ".list-inline>li:not(:last-child)::after {content: \"\\00b7\"; padding: 0 .5ex}\n",
       "</style>\n",
       "<ol class=list-inline><li>52</li><li>2</li></ol>\n"
      ],
      "text/latex": [
       "\\begin{enumerate*}\n",
       "\\item 52\n",
       "\\item 2\n",
       "\\end{enumerate*}\n"
      ],
      "text/markdown": [
       "1. 52\n",
       "2. 2\n",
       "\n",
       "\n"
      ],
      "text/plain": [
       "[1] 52  2"
      ]
     },
     "metadata": {},
     "output_type": "display_data"
    },
    {
     "data": {
      "text/html": [
       "<table class=\"dataframe\">\n",
       "<caption>A data.frame: 6 × 2</caption>\n",
       "<thead>\n",
       "\t<tr><th></th><th scope=col>group</th><th scope=col>gene_count</th></tr>\n",
       "\t<tr><th></th><th scope=col>&lt;fct&gt;</th><th scope=col>&lt;int&gt;</th></tr>\n",
       "</thead>\n",
       "<tbody>\n",
       "\t<tr><th scope=row>1</th><td>C_albicans_24h_up </td><td>  1</td></tr>\n",
       "\t<tr><th scope=row>2</th><td>C_albicans_2h_down</td><td> 49</td></tr>\n",
       "\t<tr><th scope=row>3</th><td>C_albicans_2h_up  </td><td>172</td></tr>\n",
       "\t<tr><th scope=row>4</th><td>C_albicans_4h_down</td><td> 49</td></tr>\n",
       "\t<tr><th scope=row>5</th><td>C_albicans_4h_up  </td><td> 72</td></tr>\n",
       "\t<tr><th scope=row>6</th><td>C_albicans_6h_down</td><td>130</td></tr>\n",
       "</tbody>\n",
       "</table>\n"
      ],
      "text/latex": [
       "A data.frame: 6 × 2\n",
       "\\begin{tabular}{r|ll}\n",
       "  & group & gene\\_count\\\\\n",
       "  & <fct> & <int>\\\\\n",
       "\\hline\n",
       "\t1 & C\\_albicans\\_24h\\_up  &   1\\\\\n",
       "\t2 & C\\_albicans\\_2h\\_down &  49\\\\\n",
       "\t3 & C\\_albicans\\_2h\\_up   & 172\\\\\n",
       "\t4 & C\\_albicans\\_4h\\_down &  49\\\\\n",
       "\t5 & C\\_albicans\\_4h\\_up   &  72\\\\\n",
       "\t6 & C\\_albicans\\_6h\\_down & 130\\\\\n",
       "\\end{tabular}\n"
      ],
      "text/markdown": [
       "\n",
       "A data.frame: 6 × 2\n",
       "\n",
       "| <!--/--> | group &lt;fct&gt; | gene_count &lt;int&gt; |\n",
       "|---|---|---|\n",
       "| 1 | C_albicans_24h_up  |   1 |\n",
       "| 2 | C_albicans_2h_down |  49 |\n",
       "| 3 | C_albicans_2h_up   | 172 |\n",
       "| 4 | C_albicans_4h_down |  49 |\n",
       "| 5 | C_albicans_4h_up   |  72 |\n",
       "| 6 | C_albicans_6h_down | 130 |\n",
       "\n"
      ],
      "text/plain": [
       "  group              gene_count\n",
       "1 C_albicans_24h_up    1       \n",
       "2 C_albicans_2h_down  49       \n",
       "3 C_albicans_2h_up   172       \n",
       "4 C_albicans_4h_down  49       \n",
       "5 C_albicans_4h_up    72       \n",
       "6 C_albicans_6h_down 130       "
      ]
     },
     "metadata": {},
     "output_type": "display_data"
    }
   ],
   "source": [
    "RNA_DEA_counts <- data.frame(table(paste0(RNA_DEA$group,'_',RNA_DEA$direction)))\n",
    "colnames(RNA_DEA_counts) <- c('group','gene_count')\n",
    "dim(RNA_DEA_counts)\n",
    "head(RNA_DEA_counts)"
   ]
  },
  {
   "cell_type": "code",
   "execution_count": 27,
   "id": "f57c7f77",
   "metadata": {},
   "outputs": [
    {
     "data": {
      "text/html": [
       "<style>\n",
       ".list-inline {list-style: none; margin:0; padding: 0}\n",
       ".list-inline>li {display: inline-block}\n",
       ".list-inline>li:not(:last-child)::after {content: \"\\00b7\"; padding: 0 .5ex}\n",
       "</style>\n",
       "<ol class=list-inline><li>906135</li><li>9</li></ol>\n"
      ],
      "text/latex": [
       "\\begin{enumerate*}\n",
       "\\item 906135\n",
       "\\item 9\n",
       "\\end{enumerate*}\n"
      ],
      "text/markdown": [
       "1. 906135\n",
       "2. 9\n",
       "\n",
       "\n"
      ],
      "text/plain": [
       "[1] 906135      9"
      ]
     },
     "metadata": {},
     "output_type": "display_data"
    },
    {
     "data": {
      "text/html": [
       "<table class=\"dataframe\">\n",
       "<caption>A data.frame: 6 × 9</caption>\n",
       "<thead>\n",
       "\t<tr><th></th><th scope=col>group</th><th scope=col>rn</th><th scope=col>logFC</th><th scope=col>AveExpr</th><th scope=col>t</th><th scope=col>P.Value</th><th scope=col>adj.P.Val</th><th scope=col>B</th><th scope=col>direction</th></tr>\n",
       "\t<tr><th></th><th scope=col>&lt;chr&gt;</th><th scope=col>&lt;chr&gt;</th><th scope=col>&lt;dbl&gt;</th><th scope=col>&lt;dbl&gt;</th><th scope=col>&lt;dbl&gt;</th><th scope=col>&lt;dbl&gt;</th><th scope=col>&lt;dbl&gt;</th><th scope=col>&lt;dbl&gt;</th><th scope=col>&lt;chr&gt;</th></tr>\n",
       "</thead>\n",
       "<tbody>\n",
       "\t<tr><th scope=row>1</th><td>C_albicans_2h</td><td>CONS00000130796</td><td>1.1737837</td><td>4.369844</td><td>9.827757</td><td>2.008776e-15</td><td>2.746700e-10</td><td>24.58950</td><td>up</td></tr>\n",
       "\t<tr><th scope=row>2</th><td>C_albicans_2h</td><td>CONS00000032052</td><td>1.3161087</td><td>4.621430</td><td>9.277651</td><td>2.412696e-14</td><td>1.649500e-09</td><td>22.18837</td><td>up</td></tr>\n",
       "\t<tr><th scope=row>3</th><td>C_albicans_2h</td><td>CONS00000181342</td><td>0.8823945</td><td>5.109763</td><td>9.120974</td><td>4.906553e-14</td><td>2.236325e-09</td><td>21.59656</td><td>up</td></tr>\n",
       "\t<tr><th scope=row>4</th><td>C_albicans_2h</td><td>CONS00000021736</td><td>1.1249054</td><td>5.030621</td><td>8.978311</td><td>9.368332e-14</td><td>2.628066e-09</td><td>20.93968</td><td>up</td></tr>\n",
       "\t<tr><th scope=row>5</th><td>C_albicans_2h</td><td>CONS00000173048</td><td>1.1362798</td><td>3.910130</td><td>8.938770</td><td>1.120819e-13</td><td>2.628066e-09</td><td>20.76723</td><td>up</td></tr>\n",
       "\t<tr><th scope=row>6</th><td>C_albicans_2h</td><td>CONS00000017578</td><td>1.1454787</td><td>4.607287</td><td>8.932488</td><td>1.153208e-13</td><td>2.628066e-09</td><td>20.74454</td><td>up</td></tr>\n",
       "</tbody>\n",
       "</table>\n"
      ],
      "text/latex": [
       "A data.frame: 6 × 9\n",
       "\\begin{tabular}{r|lllllllll}\n",
       "  & group & rn & logFC & AveExpr & t & P.Value & adj.P.Val & B & direction\\\\\n",
       "  & <chr> & <chr> & <dbl> & <dbl> & <dbl> & <dbl> & <dbl> & <dbl> & <chr>\\\\\n",
       "\\hline\n",
       "\t1 & C\\_albicans\\_2h & CONS00000130796 & 1.1737837 & 4.369844 & 9.827757 & 2.008776e-15 & 2.746700e-10 & 24.58950 & up\\\\\n",
       "\t2 & C\\_albicans\\_2h & CONS00000032052 & 1.3161087 & 4.621430 & 9.277651 & 2.412696e-14 & 1.649500e-09 & 22.18837 & up\\\\\n",
       "\t3 & C\\_albicans\\_2h & CONS00000181342 & 0.8823945 & 5.109763 & 9.120974 & 4.906553e-14 & 2.236325e-09 & 21.59656 & up\\\\\n",
       "\t4 & C\\_albicans\\_2h & CONS00000021736 & 1.1249054 & 5.030621 & 8.978311 & 9.368332e-14 & 2.628066e-09 & 20.93968 & up\\\\\n",
       "\t5 & C\\_albicans\\_2h & CONS00000173048 & 1.1362798 & 3.910130 & 8.938770 & 1.120819e-13 & 2.628066e-09 & 20.76723 & up\\\\\n",
       "\t6 & C\\_albicans\\_2h & CONS00000017578 & 1.1454787 & 4.607287 & 8.932488 & 1.153208e-13 & 2.628066e-09 & 20.74454 & up\\\\\n",
       "\\end{tabular}\n"
      ],
      "text/markdown": [
       "\n",
       "A data.frame: 6 × 9\n",
       "\n",
       "| <!--/--> | group &lt;chr&gt; | rn &lt;chr&gt; | logFC &lt;dbl&gt; | AveExpr &lt;dbl&gt; | t &lt;dbl&gt; | P.Value &lt;dbl&gt; | adj.P.Val &lt;dbl&gt; | B &lt;dbl&gt; | direction &lt;chr&gt; |\n",
       "|---|---|---|---|---|---|---|---|---|---|\n",
       "| 1 | C_albicans_2h | CONS00000130796 | 1.1737837 | 4.369844 | 9.827757 | 2.008776e-15 | 2.746700e-10 | 24.58950 | up |\n",
       "| 2 | C_albicans_2h | CONS00000032052 | 1.3161087 | 4.621430 | 9.277651 | 2.412696e-14 | 1.649500e-09 | 22.18837 | up |\n",
       "| 3 | C_albicans_2h | CONS00000181342 | 0.8823945 | 5.109763 | 9.120974 | 4.906553e-14 | 2.236325e-09 | 21.59656 | up |\n",
       "| 4 | C_albicans_2h | CONS00000021736 | 1.1249054 | 5.030621 | 8.978311 | 9.368332e-14 | 2.628066e-09 | 20.93968 | up |\n",
       "| 5 | C_albicans_2h | CONS00000173048 | 1.1362798 | 3.910130 | 8.938770 | 1.120819e-13 | 2.628066e-09 | 20.76723 | up |\n",
       "| 6 | C_albicans_2h | CONS00000017578 | 1.1454787 | 4.607287 | 8.932488 | 1.153208e-13 | 2.628066e-09 | 20.74454 | up |\n",
       "\n"
      ],
      "text/plain": [
       "  group         rn              logFC     AveExpr  t        P.Value     \n",
       "1 C_albicans_2h CONS00000130796 1.1737837 4.369844 9.827757 2.008776e-15\n",
       "2 C_albicans_2h CONS00000032052 1.3161087 4.621430 9.277651 2.412696e-14\n",
       "3 C_albicans_2h CONS00000181342 0.8823945 5.109763 9.120974 4.906553e-14\n",
       "4 C_albicans_2h CONS00000021736 1.1249054 5.030621 8.978311 9.368332e-14\n",
       "5 C_albicans_2h CONS00000173048 1.1362798 3.910130 8.938770 1.120819e-13\n",
       "6 C_albicans_2h CONS00000017578 1.1454787 4.607287 8.932488 1.153208e-13\n",
       "  adj.P.Val    B        direction\n",
       "1 2.746700e-10 24.58950 up       \n",
       "2 1.649500e-09 22.18837 up       \n",
       "3 2.236325e-09 21.59656 up       \n",
       "4 2.628066e-09 20.93968 up       \n",
       "5 2.628066e-09 20.76723 up       \n",
       "6 2.628066e-09 20.74454 up       "
      ]
     },
     "metadata": {},
     "output_type": "display_data"
    }
   ],
   "source": [
    "# load ATAC data\n",
    "ATAC_DEA <- read.delim(file=file.path(data_ATAC,'DEA','Significant.regions.tsv'), sep = '\\t', header = TRUE)\n",
    "dim(ATAC_DEA)\n",
    "head(ATAC_DEA)"
   ]
  },
  {
   "cell_type": "code",
   "execution_count": 28,
   "id": "af124f93",
   "metadata": {},
   "outputs": [
    {
     "data": {
      "text/html": [
       "<style>\n",
       ".list-inline {list-style: none; margin:0; padding: 0}\n",
       ".list-inline>li {display: inline-block}\n",
       ".list-inline>li:not(:last-child)::after {content: \"\\00b7\"; padding: 0 .5ex}\n",
       "</style>\n",
       "<ol class=list-inline><li>51</li><li>2</li></ol>\n"
      ],
      "text/latex": [
       "\\begin{enumerate*}\n",
       "\\item 51\n",
       "\\item 2\n",
       "\\end{enumerate*}\n"
      ],
      "text/markdown": [
       "1. 51\n",
       "2. 2\n",
       "\n",
       "\n"
      ],
      "text/plain": [
       "[1] 51  2"
      ]
     },
     "metadata": {},
     "output_type": "display_data"
    },
    {
     "data": {
      "text/html": [
       "<table class=\"dataframe\">\n",
       "<caption>A data.frame: 6 × 2</caption>\n",
       "<thead>\n",
       "\t<tr><th></th><th scope=col>group</th><th scope=col>region_count</th></tr>\n",
       "\t<tr><th></th><th scope=col>&lt;fct&gt;</th><th scope=col>&lt;int&gt;</th></tr>\n",
       "</thead>\n",
       "<tbody>\n",
       "\t<tr><th scope=row>1</th><td>C_albicans_2h_down</td><td> 448</td></tr>\n",
       "\t<tr><th scope=row>2</th><td>C_albicans_2h_up  </td><td>2005</td></tr>\n",
       "\t<tr><th scope=row>3</th><td>C_albicans_4h_down</td><td> 280</td></tr>\n",
       "\t<tr><th scope=row>4</th><td>C_albicans_4h_up  </td><td>1058</td></tr>\n",
       "\t<tr><th scope=row>5</th><td>C_albicans_6h_down</td><td> 262</td></tr>\n",
       "\t<tr><th scope=row>6</th><td>C_albicans_6h_up  </td><td>1425</td></tr>\n",
       "</tbody>\n",
       "</table>\n"
      ],
      "text/latex": [
       "A data.frame: 6 × 2\n",
       "\\begin{tabular}{r|ll}\n",
       "  & group & region\\_count\\\\\n",
       "  & <fct> & <int>\\\\\n",
       "\\hline\n",
       "\t1 & C\\_albicans\\_2h\\_down &  448\\\\\n",
       "\t2 & C\\_albicans\\_2h\\_up   & 2005\\\\\n",
       "\t3 & C\\_albicans\\_4h\\_down &  280\\\\\n",
       "\t4 & C\\_albicans\\_4h\\_up   & 1058\\\\\n",
       "\t5 & C\\_albicans\\_6h\\_down &  262\\\\\n",
       "\t6 & C\\_albicans\\_6h\\_up   & 1425\\\\\n",
       "\\end{tabular}\n"
      ],
      "text/markdown": [
       "\n",
       "A data.frame: 6 × 2\n",
       "\n",
       "| <!--/--> | group &lt;fct&gt; | region_count &lt;int&gt; |\n",
       "|---|---|---|\n",
       "| 1 | C_albicans_2h_down |  448 |\n",
       "| 2 | C_albicans_2h_up   | 2005 |\n",
       "| 3 | C_albicans_4h_down |  280 |\n",
       "| 4 | C_albicans_4h_up   | 1058 |\n",
       "| 5 | C_albicans_6h_down |  262 |\n",
       "| 6 | C_albicans_6h_up   | 1425 |\n",
       "\n"
      ],
      "text/plain": [
       "  group              region_count\n",
       "1 C_albicans_2h_down  448        \n",
       "2 C_albicans_2h_up   2005        \n",
       "3 C_albicans_4h_down  280        \n",
       "4 C_albicans_4h_up   1058        \n",
       "5 C_albicans_6h_down  262        \n",
       "6 C_albicans_6h_up   1425        "
      ]
     },
     "metadata": {},
     "output_type": "display_data"
    }
   ],
   "source": [
    "ATAC_DEA_counts <- data.frame(table(paste0(ATAC_DEA$group,'_',ATAC_DEA$direction)))\n",
    "colnames(ATAC_DEA_counts) <- c('group','region_count')\n",
    "dim(ATAC_DEA_counts)\n",
    "head(ATAC_DEA_counts)"
   ]
  },
  {
   "cell_type": "code",
   "execution_count": 29,
   "id": "36efaeea",
   "metadata": {},
   "outputs": [
    {
     "data": {
      "text/html": [
       "<style>\n",
       ".list-inline {list-style: none; margin:0; padding: 0}\n",
       ".list-inline>li {display: inline-block}\n",
       ".list-inline>li:not(:last-child)::after {content: \"\\00b7\"; padding: 0 .5ex}\n",
       "</style>\n",
       "<ol class=list-inline><li>53</li><li>9</li></ol>\n"
      ],
      "text/latex": [
       "\\begin{enumerate*}\n",
       "\\item 53\n",
       "\\item 9\n",
       "\\end{enumerate*}\n"
      ],
      "text/markdown": [
       "1. 53\n",
       "2. 9\n",
       "\n",
       "\n"
      ],
      "text/plain": [
       "[1] 53  9"
      ]
     },
     "metadata": {},
     "output_type": "display_data"
    },
    {
     "data": {
      "text/html": [
       "<table class=\"dataframe\">\n",
       "<caption>A data.frame: 6 × 9</caption>\n",
       "<thead>\n",
       "\t<tr><th></th><th scope=col>group</th><th scope=col>gene_count</th><th scope=col>region_count</th><th scope=col>time</th><th scope=col>time2</th><th scope=col>direction</th><th scope=col>direction2</th><th scope=col>treatment</th><th scope=col>time3</th></tr>\n",
       "\t<tr><th></th><th scope=col>&lt;fct&gt;</th><th scope=col>&lt;dbl&gt;</th><th scope=col>&lt;dbl&gt;</th><th scope=col>&lt;chr&gt;</th><th scope=col>&lt;chr&gt;</th><th scope=col>&lt;chr&gt;</th><th scope=col>&lt;chr&gt;</th><th scope=col>&lt;chr&gt;</th><th scope=col>&lt;chr&gt;</th></tr>\n",
       "</thead>\n",
       "<tbody>\n",
       "\t<tr><th scope=row>1</th><td>C_albicans_24h_up </td><td>  1</td><td>   0</td><td>24h</td><td>24</td><td>up  </td><td>^</td><td>C albicans</td><td>24^</td></tr>\n",
       "\t<tr><th scope=row>2</th><td>C_albicans_2h_down</td><td> 49</td><td> 448</td><td>2h </td><td>2 </td><td>down</td><td>v</td><td>C albicans</td><td>2v </td></tr>\n",
       "\t<tr><th scope=row>3</th><td>C_albicans_2h_up  </td><td>172</td><td>2005</td><td>2h </td><td>2 </td><td>up  </td><td>^</td><td>C albicans</td><td>2^ </td></tr>\n",
       "\t<tr><th scope=row>4</th><td>C_albicans_4h_down</td><td> 49</td><td> 280</td><td>4h </td><td>4 </td><td>down</td><td>v</td><td>C albicans</td><td>4v </td></tr>\n",
       "\t<tr><th scope=row>5</th><td>C_albicans_4h_up  </td><td> 72</td><td>1058</td><td>4h </td><td>4 </td><td>up  </td><td>^</td><td>C albicans</td><td>4^ </td></tr>\n",
       "\t<tr><th scope=row>6</th><td>C_albicans_6h_down</td><td>130</td><td> 262</td><td>6h </td><td>6 </td><td>down</td><td>v</td><td>C albicans</td><td>6v </td></tr>\n",
       "</tbody>\n",
       "</table>\n"
      ],
      "text/latex": [
       "A data.frame: 6 × 9\n",
       "\\begin{tabular}{r|lllllllll}\n",
       "  & group & gene\\_count & region\\_count & time & time2 & direction & direction2 & treatment & time3\\\\\n",
       "  & <fct> & <dbl> & <dbl> & <chr> & <chr> & <chr> & <chr> & <chr> & <chr>\\\\\n",
       "\\hline\n",
       "\t1 & C\\_albicans\\_24h\\_up  &   1 &    0 & 24h & 24 & up   & \\textasciicircum{} & C albicans & 24\\textasciicircum{}\\\\\n",
       "\t2 & C\\_albicans\\_2h\\_down &  49 &  448 & 2h  & 2  & down & v & C albicans & 2v \\\\\n",
       "\t3 & C\\_albicans\\_2h\\_up   & 172 & 2005 & 2h  & 2  & up   & \\textasciicircum{} & C albicans & 2\\textasciicircum{} \\\\\n",
       "\t4 & C\\_albicans\\_4h\\_down &  49 &  280 & 4h  & 4  & down & v & C albicans & 4v \\\\\n",
       "\t5 & C\\_albicans\\_4h\\_up   &  72 & 1058 & 4h  & 4  & up   & \\textasciicircum{} & C albicans & 4\\textasciicircum{} \\\\\n",
       "\t6 & C\\_albicans\\_6h\\_down & 130 &  262 & 6h  & 6  & down & v & C albicans & 6v \\\\\n",
       "\\end{tabular}\n"
      ],
      "text/markdown": [
       "\n",
       "A data.frame: 6 × 9\n",
       "\n",
       "| <!--/--> | group &lt;fct&gt; | gene_count &lt;dbl&gt; | region_count &lt;dbl&gt; | time &lt;chr&gt; | time2 &lt;chr&gt; | direction &lt;chr&gt; | direction2 &lt;chr&gt; | treatment &lt;chr&gt; | time3 &lt;chr&gt; |\n",
       "|---|---|---|---|---|---|---|---|---|---|\n",
       "| 1 | C_albicans_24h_up  |   1 |    0 | 24h | 24 | up   | ^ | C albicans | 24^ |\n",
       "| 2 | C_albicans_2h_down |  49 |  448 | 2h  | 2  | down | v | C albicans | 2v  |\n",
       "| 3 | C_albicans_2h_up   | 172 | 2005 | 2h  | 2  | up   | ^ | C albicans | 2^  |\n",
       "| 4 | C_albicans_4h_down |  49 |  280 | 4h  | 4  | down | v | C albicans | 4v  |\n",
       "| 5 | C_albicans_4h_up   |  72 | 1058 | 4h  | 4  | up   | ^ | C albicans | 4^  |\n",
       "| 6 | C_albicans_6h_down | 130 |  262 | 6h  | 6  | down | v | C albicans | 6v  |\n",
       "\n"
      ],
      "text/plain": [
       "  group              gene_count region_count time time2 direction direction2\n",
       "1 C_albicans_24h_up    1           0         24h  24    up        ^         \n",
       "2 C_albicans_2h_down  49         448         2h   2     down      v         \n",
       "3 C_albicans_2h_up   172        2005         2h   2     up        ^         \n",
       "4 C_albicans_4h_down  49         280         4h   4     down      v         \n",
       "5 C_albicans_4h_up    72        1058         4h   4     up        ^         \n",
       "6 C_albicans_6h_down 130         262         6h   6     down      v         \n",
       "  treatment  time3\n",
       "1 C albicans 24^  \n",
       "2 C albicans 2v   \n",
       "3 C albicans 2^   \n",
       "4 C albicans 4v   \n",
       "5 C albicans 4^   \n",
       "6 C albicans 6v   "
      ]
     },
     "metadata": {},
     "output_type": "display_data"
    }
   ],
   "source": [
    "# merge count tables & fill NA with 0\n",
    "DEA_counts <- merge(RNA_DEA_counts, ATAC_DEA_counts , by=\"group\", all = TRUE)\n",
    "\n",
    "DEA_counts[is.na(DEA_counts)] <- 0\n",
    "\n",
    "DEA_counts$time <- lapply(DEA_counts$group, function(x) tail(str_split(x, '_')[[1]], n=2)[1])\n",
    "DEA_counts$time <- paste0(DEA_counts$time)\n",
    "DEA_counts$time2 <- substr(DEA_counts$time,1,nchar(DEA_counts$time)-1)\n",
    "\n",
    "DEA_counts$direction <- lapply(DEA_counts$group, function(x) as.character(tail(str_split(x, '_')[[1]], n=2)[2]))\n",
    "DEA_counts$direction <- paste0(DEA_counts$direction)\n",
    "DEA_counts$direction2 <- ifelse(DEA_counts$direction=='up', '^', 'v')\n",
    "                              \n",
    "DEA_counts$treatment <- str_remove(DEA_counts$group, paste0('_',DEA_counts$time,'_',DEA_counts$direction))\n",
    "DEA_counts$treatment <- str_replace(DEA_counts$treatment, '_', ' ')\n",
    "                             \n",
    "DEA_counts$time3 <- paste0(DEA_counts$time2, DEA_counts$direction2)\n",
    "\n",
    "dim(DEA_counts)\n",
    "head(DEA_counts)"
   ]
  },
  {
   "cell_type": "code",
   "execution_count": 30,
   "id": "6c4891c4",
   "metadata": {},
   "outputs": [],
   "source": [
    "treatment_colors['up'] <- '#FF0000'\n",
    "treatment_colors['down'] <- '#00008B'"
   ]
  },
  {
   "cell_type": "code",
   "execution_count": 36,
   "id": "d7df293f",
   "metadata": {},
   "outputs": [
    {
     "data": {
      "text/html": [
       "<style>\n",
       ".dl-inline {width: auto; margin:0; padding: 0}\n",
       ".dl-inline>dt, .dl-inline>dd {float: none; width: auto; display: inline-block}\n",
       ".dl-inline>dt::after {content: \":\\0020\"; padding-right: .5ex}\n",
       ".dl-inline>dt:not(:first-of-type) {padding-left: .5ex}\n",
       "</style><dl class=dl-inline><dt>C albicans</dt><dd>'#0072B2'</dd><dt>IFN beta</dt><dd>'#D55E00'</dd><dt>IFN gamma</dt><dd>'#E69F00'</dd><dt>LCMV Cl13</dt><dd>'#CC79A7'</dd><dt>LO28</dt><dd>'#009E73'</dd><dt>LPS</dt><dd>'#56B4E9'</dd><dt>up</dt><dd>'#FF0000'</dd><dt>down</dt><dd>'#00008B'</dd></dl>\n"
      ],
      "text/latex": [
       "\\begin{description*}\n",
       "\\item[C albicans] '\\#0072B2'\n",
       "\\item[IFN beta] '\\#D55E00'\n",
       "\\item[IFN gamma] '\\#E69F00'\n",
       "\\item[LCMV Cl13] '\\#CC79A7'\n",
       "\\item[LO28] '\\#009E73'\n",
       "\\item[LPS] '\\#56B4E9'\n",
       "\\item[up] '\\#FF0000'\n",
       "\\item[down] '\\#00008B'\n",
       "\\end{description*}\n"
      ],
      "text/markdown": [
       "C albicans\n",
       ":   '#0072B2'IFN beta\n",
       ":   '#D55E00'IFN gamma\n",
       ":   '#E69F00'LCMV Cl13\n",
       ":   '#CC79A7'LO28\n",
       ":   '#009E73'LPS\n",
       ":   '#56B4E9'up\n",
       ":   '#FF0000'down\n",
       ":   '#00008B'\n",
       "\n"
      ],
      "text/plain": [
       "C albicans   IFN beta  IFN gamma  LCMV Cl13       LO28        LPS         up \n",
       " \"#0072B2\"  \"#D55E00\"  \"#E69F00\"  \"#CC79A7\"  \"#009E73\"  \"#56B4E9\"  \"#FF0000\" \n",
       "      down \n",
       " \"#00008B\" "
      ]
     },
     "metadata": {},
     "output_type": "display_data"
    }
   ],
   "source": [
    "treatment_colors[-1]"
   ]
  },
  {
   "cell_type": "code",
   "execution_count": 37,
   "id": "9f49dc9f",
   "metadata": {
    "tags": []
   },
   "outputs": [
    {
     "data": {
      "image/png": "[encoded data removed]",
      "text/plain": [
       "plot without title"
      ]
     },
     "metadata": {
      "image/png": {
       "height": 240,
       "width": 300
      }
     },
     "output_type": "display_data"
    }
   ],
   "source": [
    "# plot DEA counts\n",
    "width <- 5\n",
    "height <- 4\n",
    "\n",
    "options(repr.plot.width=width, repr.plot.height=height)\n",
    "\n",
    "DEA_counts_p <- ggplot(DEA_counts, aes(x=gene_count, y=region_count, group=treatment)) +\n",
    "geom_point(aes(size=time, color=treatment), shape=21, stroke = 0.5) + # for time encoded by size\n",
    "scale_size_manual(values=time_sizes) +\n",
    "scale_color_manual(values=treatment_colors[-1], labels=treatment_format, drop=TRUE) +\n",
    "geom_point(aes(color=direction), size=0.5, shape=19, alpha=1) +\n",
    " labs(x = \"# Differentially Expressed Genes (DEGs)\",\n",
    "      y = \"# Differentially Accessible Regions (DARs)\",\n",
    "      color = \"direction\") +\n",
    "guides(color=guide_legend(title=\"Treatment\", order=1), shape=guide_legend(title=\"Time\", order=2)) +\n",
    "    macro_theme()\n",
    "\n",
    "DEA_counts_p"
   ]
  },
  {
   "cell_type": "code",
   "execution_count": 38,
   "id": "e0ac16f4",
   "metadata": {},
   "outputs": [],
   "source": [
    "# save plot\n",
    "ggsave_new(filename=\"BULK_DEA_counts\",\n",
    "           results_path=results_path,\n",
    "           plot=DEA_counts_p,\n",
    "           width=width,\n",
    "           height=height\n",
    "          )"
   ]
  },
  {
   "cell_type": "markdown",
   "id": "cb6264fd",
   "metadata": {},
   "source": [
    "# ATAC-seq region annotation distribution"
   ]
  },
  {
   "cell_type": "code",
   "execution_count": 39,
   "id": "667cb79a",
   "metadata": {},
   "outputs": [
    {
     "data": {
      "text/html": [
       "<style>\n",
       ".list-inline {list-style: none; margin:0; padding: 0}\n",
       ".list-inline>li {display: inline-block}\n",
       ".list-inline>li:not(:last-child)::after {content: \"\\00b7\"; padding: 0 .5ex}\n",
       "</style>\n",
       "<ol class=list-inline><li>136735</li><li>25</li></ol>\n"
      ],
      "text/latex": [
       "\\begin{enumerate*}\n",
       "\\item 136735\n",
       "\\item 25\n",
       "\\end{enumerate*}\n"
      ],
      "text/markdown": [
       "1. 136735\n",
       "2. 25\n",
       "\n",
       "\n"
      ],
      "text/plain": [
       "[1] 136735     25"
      ]
     },
     "metadata": {},
     "output_type": "display_data"
    },
    {
     "data": {
      "text/html": [
       "<table class=\"dataframe\">\n",
       "<caption>A data.frame: 6 × 25</caption>\n",
       "<thead>\n",
       "\t<tr><th></th><th scope=col>gencode_chr</th><th scope=col>gencode_start</th><th scope=col>gencode_end</th><th scope=col>gencode_length</th><th scope=col>gencode_feat_anchor</th><th scope=col>gencode_distance</th><th scope=col>gencode_location</th><th scope=col>gencode_feat_type</th><th scope=col>gencode_gene_id</th><th scope=col>gencode_gene_name</th><th scope=col>⋯</th><th scope=col>homer_Entrez.ID</th><th scope=col>homer_Nearest.Unigene</th><th scope=col>homer_Nearest.Refseq</th><th scope=col>homer_Nearest.Ensembl</th><th scope=col>homer_Gene.Name</th><th scope=col>homer_Gene.Alias</th><th scope=col>homer_Gene.Description</th><th scope=col>homer_Gene.Type</th><th scope=col>regulatoryBuild_reg_feature</th><th scope=col>regulatoryBuild_reg_feature_id</th></tr>\n",
       "\t<tr><th></th><th scope=col>&lt;chr&gt;</th><th scope=col>&lt;int&gt;</th><th scope=col>&lt;int&gt;</th><th scope=col>&lt;int&gt;</th><th scope=col>&lt;chr&gt;</th><th scope=col>&lt;int&gt;</th><th scope=col>&lt;chr&gt;</th><th scope=col>&lt;chr&gt;</th><th scope=col>&lt;chr&gt;</th><th scope=col>&lt;chr&gt;</th><th scope=col>⋯</th><th scope=col>&lt;dbl&gt;</th><th scope=col>&lt;chr&gt;</th><th scope=col>&lt;chr&gt;</th><th scope=col>&lt;chr&gt;</th><th scope=col>&lt;chr&gt;</th><th scope=col>&lt;chr&gt;</th><th scope=col>&lt;chr&gt;</th><th scope=col>&lt;chr&gt;</th><th scope=col>&lt;chr&gt;</th><th scope=col>&lt;chr&gt;</th></tr>\n",
       "</thead>\n",
       "<tbody>\n",
       "\t<tr><th scope=row>CONS00000000005</th><td>chr1</td><td>4414052</td><td>4415256</td><td>1204</td><td>start</td><td>  5413</td><td>Upstream         </td><td>gene:protein_coding</td><td>ENSMUSG00000025900.13</td><td>Rp1   </td><td>⋯</td><td>19888</td><td>Mm.294263</td><td>NM_011283</td><td>ENSMUSG00000025900</td><td>Rp1   </td><td>Dcdc3|Gm38717|Orp1|Rp1h|mG145</td><td>retinitis pigmentosa 1 (human)       </td><td>protein-coding</td><td>reg_NONE         </td><td>                  </td></tr>\n",
       "\t<tr><th scope=row>CONS00000000006</th><td>chr1</td><td>4416568</td><td>4417221</td><td> 653</td><td>start</td><td>  7653</td><td>Upstream         </td><td>gene:protein_coding</td><td>ENSMUSG00000025900.13</td><td>Rp1   </td><td>⋯</td><td>19888</td><td>Mm.294263</td><td>NM_011283</td><td>ENSMUSG00000025900</td><td>Rp1   </td><td>Dcdc3|Gm38717|Orp1|Rp1h|mG145</td><td>retinitis pigmentosa 1 (human)       </td><td>protein-coding</td><td>regulatory_region</td><td>ENSMUSR00000293483</td></tr>\n",
       "\t<tr><th scope=row>CONS00000000011</th><td>chr1</td><td>4491871</td><td>4492835</td><td> 964</td><td>end  </td><td>  1423</td><td>PeakInsideFeature</td><td>gene:protein_coding</td><td>ENSMUSG00000025902.13</td><td>Sox17 </td><td>⋯</td><td>20671</td><td>Mm.279103</td><td>NM_011441</td><td>ENSMUSG00000025902</td><td>Sox17 </td><td>-                            </td><td>SRY (sex determining region Y)-box 17</td><td>protein-coding</td><td>regulatory_region</td><td>ENSMUSR00000293490</td></tr>\n",
       "\t<tr><th scope=row>CONS00000000013</th><td>chr1</td><td>4622075</td><td>4622934</td><td> 859</td><td>start</td><td>125150</td><td>Upstream         </td><td>gene:protein_coding</td><td>ENSMUSG00000025902.13</td><td>Sox17 </td><td>⋯</td><td>20671</td><td>Mm.279103</td><td>NM_011441</td><td>ENSMUSG00000025902</td><td>Sox17 </td><td>-                            </td><td>SRY (sex determining region Y)-box 17</td><td>protein-coding</td><td>regulatory_region</td><td>ENSMUSR00000476227</td></tr>\n",
       "\t<tr><th scope=row>CONS00000000017</th><td>chr1</td><td>4755824</td><td>4756551</td><td> 727</td><td>start</td><td> 29552</td><td>Downstream       </td><td>gene:protein_coding</td><td>ENSMUSG00000033845.13</td><td>Mrpl15</td><td>⋯</td><td>27395</td><td>Mm.182927</td><td>NM_025300</td><td>ENSMUSG00000033845</td><td>Mrpl15</td><td>HSPC145|MRP-L7|Rpml7         </td><td>mitochondrial ribosomal protein L15  </td><td>protein-coding</td><td>reg_NONE         </td><td>                  </td></tr>\n",
       "\t<tr><th scope=row>CONS00000000020</th><td>chr1</td><td>4768266</td><td>4768898</td><td> 632</td><td>start</td><td> 17157</td><td>Downstream       </td><td>gene:protein_coding</td><td>ENSMUSG00000033845.13</td><td>Mrpl15</td><td>⋯</td><td>27395</td><td>Mm.182927</td><td>NM_025300</td><td>ENSMUSG00000033845</td><td>Mrpl15</td><td>HSPC145|MRP-L7|Rpml7         </td><td>mitochondrial ribosomal protein L15  </td><td>protein-coding</td><td>regulatory_region</td><td>ENSMUSR00000293514</td></tr>\n",
       "</tbody>\n",
       "</table>\n"
      ],
      "text/latex": [
       "A data.frame: 6 × 25\n",
       "\\begin{tabular}{r|lllllllllllllllllllll}\n",
       "  & gencode\\_chr & gencode\\_start & gencode\\_end & gencode\\_length & gencode\\_feat\\_anchor & gencode\\_distance & gencode\\_location & gencode\\_feat\\_type & gencode\\_gene\\_id & gencode\\_gene\\_name & ⋯ & homer\\_Entrez.ID & homer\\_Nearest.Unigene & homer\\_Nearest.Refseq & homer\\_Nearest.Ensembl & homer\\_Gene.Name & homer\\_Gene.Alias & homer\\_Gene.Description & homer\\_Gene.Type & regulatoryBuild\\_reg\\_feature & regulatoryBuild\\_reg\\_feature\\_id\\\\\n",
       "  & <chr> & <int> & <int> & <int> & <chr> & <int> & <chr> & <chr> & <chr> & <chr> & ⋯ & <dbl> & <chr> & <chr> & <chr> & <chr> & <chr> & <chr> & <chr> & <chr> & <chr>\\\\\n",
       "\\hline\n",
       "\tCONS00000000005 & chr1 & 4414052 & 4415256 & 1204 & start &   5413 & Upstream          & gene:protein\\_coding & ENSMUSG00000025900.13 & Rp1    & ⋯ & 19888 & Mm.294263 & NM\\_011283 & ENSMUSG00000025900 & Rp1    & Dcdc3\\textbar{}Gm38717\\textbar{}Orp1\\textbar{}Rp1h\\textbar{}mG145 & retinitis pigmentosa 1 (human)        & protein-coding & reg\\_NONE          &                   \\\\\n",
       "\tCONS00000000006 & chr1 & 4416568 & 4417221 &  653 & start &   7653 & Upstream          & gene:protein\\_coding & ENSMUSG00000025900.13 & Rp1    & ⋯ & 19888 & Mm.294263 & NM\\_011283 & ENSMUSG00000025900 & Rp1    & Dcdc3\\textbar{}Gm38717\\textbar{}Orp1\\textbar{}Rp1h\\textbar{}mG145 & retinitis pigmentosa 1 (human)        & protein-coding & regulatory\\_region & ENSMUSR00000293483\\\\\n",
       "\tCONS00000000011 & chr1 & 4491871 & 4492835 &  964 & end   &   1423 & PeakInsideFeature & gene:protein\\_coding & ENSMUSG00000025902.13 & Sox17  & ⋯ & 20671 & Mm.279103 & NM\\_011441 & ENSMUSG00000025902 & Sox17  & -                             & SRY (sex determining region Y)-box 17 & protein-coding & regulatory\\_region & ENSMUSR00000293490\\\\\n",
       "\tCONS00000000013 & chr1 & 4622075 & 4622934 &  859 & start & 125150 & Upstream          & gene:protein\\_coding & ENSMUSG00000025902.13 & Sox17  & ⋯ & 20671 & Mm.279103 & NM\\_011441 & ENSMUSG00000025902 & Sox17  & -                             & SRY (sex determining region Y)-box 17 & protein-coding & regulatory\\_region & ENSMUSR00000476227\\\\\n",
       "\tCONS00000000017 & chr1 & 4755824 & 4756551 &  727 & start &  29552 & Downstream        & gene:protein\\_coding & ENSMUSG00000033845.13 & Mrpl15 & ⋯ & 27395 & Mm.182927 & NM\\_025300 & ENSMUSG00000033845 & Mrpl15 & HSPC145\\textbar{}MRP-L7\\textbar{}Rpml7          & mitochondrial ribosomal protein L15   & protein-coding & reg\\_NONE          &                   \\\\\n",
       "\tCONS00000000020 & chr1 & 4768266 & 4768898 &  632 & start &  17157 & Downstream        & gene:protein\\_coding & ENSMUSG00000033845.13 & Mrpl15 & ⋯ & 27395 & Mm.182927 & NM\\_025300 & ENSMUSG00000033845 & Mrpl15 & HSPC145\\textbar{}MRP-L7\\textbar{}Rpml7          & mitochondrial ribosomal protein L15   & protein-coding & regulatory\\_region & ENSMUSR00000293514\\\\\n",
       "\\end{tabular}\n"
      ],
      "text/markdown": [
       "\n",
       "A data.frame: 6 × 25\n",
       "\n",
       "| <!--/--> | gencode_chr &lt;chr&gt; | gencode_start &lt;int&gt; | gencode_end &lt;int&gt; | gencode_length &lt;int&gt; | gencode_feat_anchor &lt;chr&gt; | gencode_distance &lt;int&gt; | gencode_location &lt;chr&gt; | gencode_feat_type &lt;chr&gt; | gencode_gene_id &lt;chr&gt; | gencode_gene_name &lt;chr&gt; | ⋯ ⋯ | homer_Entrez.ID &lt;dbl&gt; | homer_Nearest.Unigene &lt;chr&gt; | homer_Nearest.Refseq &lt;chr&gt; | homer_Nearest.Ensembl &lt;chr&gt; | homer_Gene.Name &lt;chr&gt; | homer_Gene.Alias &lt;chr&gt; | homer_Gene.Description &lt;chr&gt; | homer_Gene.Type &lt;chr&gt; | regulatoryBuild_reg_feature &lt;chr&gt; | regulatoryBuild_reg_feature_id &lt;chr&gt; |\n",
       "|---|---|---|---|---|---|---|---|---|---|---|---|---|---|---|---|---|---|---|---|---|---|\n",
       "| CONS00000000005 | chr1 | 4414052 | 4415256 | 1204 | start |   5413 | Upstream          | gene:protein_coding | ENSMUSG00000025900.13 | Rp1    | ⋯ | 19888 | Mm.294263 | NM_011283 | ENSMUSG00000025900 | Rp1    | Dcdc3|Gm38717|Orp1|Rp1h|mG145 | retinitis pigmentosa 1 (human)        | protein-coding | reg_NONE          | <!----> |\n",
       "| CONS00000000006 | chr1 | 4416568 | 4417221 |  653 | start |   7653 | Upstream          | gene:protein_coding | ENSMUSG00000025900.13 | Rp1    | ⋯ | 19888 | Mm.294263 | NM_011283 | ENSMUSG00000025900 | Rp1    | Dcdc3|Gm38717|Orp1|Rp1h|mG145 | retinitis pigmentosa 1 (human)        | protein-coding | regulatory_region | ENSMUSR00000293483 |\n",
       "| CONS00000000011 | chr1 | 4491871 | 4492835 |  964 | end   |   1423 | PeakInsideFeature | gene:protein_coding | ENSMUSG00000025902.13 | Sox17  | ⋯ | 20671 | Mm.279103 | NM_011441 | ENSMUSG00000025902 | Sox17  | -                             | SRY (sex determining region Y)-box 17 | protein-coding | regulatory_region | ENSMUSR00000293490 |\n",
       "| CONS00000000013 | chr1 | 4622075 | 4622934 |  859 | start | 125150 | Upstream          | gene:protein_coding | ENSMUSG00000025902.13 | Sox17  | ⋯ | 20671 | Mm.279103 | NM_011441 | ENSMUSG00000025902 | Sox17  | -                             | SRY (sex determining region Y)-box 17 | protein-coding | regulatory_region | ENSMUSR00000476227 |\n",
       "| CONS00000000017 | chr1 | 4755824 | 4756551 |  727 | start |  29552 | Downstream        | gene:protein_coding | ENSMUSG00000033845.13 | Mrpl15 | ⋯ | 27395 | Mm.182927 | NM_025300 | ENSMUSG00000033845 | Mrpl15 | HSPC145|MRP-L7|Rpml7          | mitochondrial ribosomal protein L15   | protein-coding | reg_NONE          | <!----> |\n",
       "| CONS00000000020 | chr1 | 4768266 | 4768898 |  632 | start |  17157 | Downstream        | gene:protein_coding | ENSMUSG00000033845.13 | Mrpl15 | ⋯ | 27395 | Mm.182927 | NM_025300 | ENSMUSG00000033845 | Mrpl15 | HSPC145|MRP-L7|Rpml7          | mitochondrial ribosomal protein L15   | protein-coding | regulatory_region | ENSMUSR00000293514 |\n",
       "\n"
      ],
      "text/plain": [
       "                gencode_chr gencode_start gencode_end gencode_length\n",
       "CONS00000000005 chr1        4414052       4415256     1204          \n",
       "CONS00000000006 chr1        4416568       4417221      653          \n",
       "CONS00000000011 chr1        4491871       4492835      964          \n",
       "CONS00000000013 chr1        4622075       4622934      859          \n",
       "CONS00000000017 chr1        4755824       4756551      727          \n",
       "CONS00000000020 chr1        4768266       4768898      632          \n",
       "                gencode_feat_anchor gencode_distance gencode_location \n",
       "CONS00000000005 start                 5413           Upstream         \n",
       "CONS00000000006 start                 7653           Upstream         \n",
       "CONS00000000011 end                   1423           PeakInsideFeature\n",
       "CONS00000000013 start               125150           Upstream         \n",
       "CONS00000000017 start                29552           Downstream       \n",
       "CONS00000000020 start                17157           Downstream       \n",
       "                gencode_feat_type   gencode_gene_id       gencode_gene_name ⋯\n",
       "CONS00000000005 gene:protein_coding ENSMUSG00000025900.13 Rp1               ⋯\n",
       "CONS00000000006 gene:protein_coding ENSMUSG00000025900.13 Rp1               ⋯\n",
       "CONS00000000011 gene:protein_coding ENSMUSG00000025902.13 Sox17             ⋯\n",
       "CONS00000000013 gene:protein_coding ENSMUSG00000025902.13 Sox17             ⋯\n",
       "CONS00000000017 gene:protein_coding ENSMUSG00000033845.13 Mrpl15            ⋯\n",
       "CONS00000000020 gene:protein_coding ENSMUSG00000033845.13 Mrpl15            ⋯\n",
       "                homer_Entrez.ID homer_Nearest.Unigene homer_Nearest.Refseq\n",
       "CONS00000000005 19888           Mm.294263             NM_011283           \n",
       "CONS00000000006 19888           Mm.294263             NM_011283           \n",
       "CONS00000000011 20671           Mm.279103             NM_011441           \n",
       "CONS00000000013 20671           Mm.279103             NM_011441           \n",
       "CONS00000000017 27395           Mm.182927             NM_025300           \n",
       "CONS00000000020 27395           Mm.182927             NM_025300           \n",
       "                homer_Nearest.Ensembl homer_Gene.Name\n",
       "CONS00000000005 ENSMUSG00000025900    Rp1            \n",
       "CONS00000000006 ENSMUSG00000025900    Rp1            \n",
       "CONS00000000011 ENSMUSG00000025902    Sox17          \n",
       "CONS00000000013 ENSMUSG00000025902    Sox17          \n",
       "CONS00000000017 ENSMUSG00000033845    Mrpl15         \n",
       "CONS00000000020 ENSMUSG00000033845    Mrpl15         \n",
       "                homer_Gene.Alias             \n",
       "CONS00000000005 Dcdc3|Gm38717|Orp1|Rp1h|mG145\n",
       "CONS00000000006 Dcdc3|Gm38717|Orp1|Rp1h|mG145\n",
       "CONS00000000011 -                            \n",
       "CONS00000000013 -                            \n",
       "CONS00000000017 HSPC145|MRP-L7|Rpml7         \n",
       "CONS00000000020 HSPC145|MRP-L7|Rpml7         \n",
       "                homer_Gene.Description                homer_Gene.Type\n",
       "CONS00000000005 retinitis pigmentosa 1 (human)        protein-coding \n",
       "CONS00000000006 retinitis pigmentosa 1 (human)        protein-coding \n",
       "CONS00000000011 SRY (sex determining region Y)-box 17 protein-coding \n",
       "CONS00000000013 SRY (sex determining region Y)-box 17 protein-coding \n",
       "CONS00000000017 mitochondrial ribosomal protein L15   protein-coding \n",
       "CONS00000000020 mitochondrial ribosomal protein L15   protein-coding \n",
       "                regulatoryBuild_reg_feature regulatoryBuild_reg_feature_id\n",
       "CONS00000000005 reg_NONE                                                  \n",
       "CONS00000000006 regulatory_region           ENSMUSR00000293483            \n",
       "CONS00000000011 regulatory_region           ENSMUSR00000293490            \n",
       "CONS00000000013 regulatory_region           ENSMUSR00000476227            \n",
       "CONS00000000017 reg_NONE                                                  \n",
       "CONS00000000020 regulatory_region           ENSMUSR00000293514            "
      ]
     },
     "metadata": {},
     "output_type": "display_data"
    }
   ],
   "source": [
    "# load region annotations\n",
    "region_annot <- read.delim(file=file.path(data_ATAC,'all_consensus_regions_annotation_filtered.csv'), sep=',', header = TRUE, row.names=1)\n",
    "region_annot$homer_Annotation <- lapply(region_annot$homer_Annotation, function(x) strsplit(x,\" \\\\(\")[[1]][1])\n",
    "region_annot$homer_Annotation <- paste0(region_annot$homer_Annotation)\n",
    "dim(region_annot)\n",
    "head(region_annot)"
   ]
  },
  {
   "cell_type": "code",
   "execution_count": 40,
   "id": "2dee50dd",
   "metadata": {},
   "outputs": [
    {
     "data": {
      "text/html": [
       "<style>\n",
       ".list-inline {list-style: none; margin:0; padding: 0}\n",
       ".list-inline>li {display: inline-block}\n",
       ".list-inline>li:not(:last-child)::after {content: \"\\00b7\"; padding: 0 .5ex}\n",
       "</style>\n",
       "<ol class=list-inline><li>906135</li><li>9</li></ol>\n"
      ],
      "text/latex": [
       "\\begin{enumerate*}\n",
       "\\item 906135\n",
       "\\item 9\n",
       "\\end{enumerate*}\n"
      ],
      "text/markdown": [
       "1. 906135\n",
       "2. 9\n",
       "\n",
       "\n"
      ],
      "text/plain": [
       "[1] 906135      9"
      ]
     },
     "metadata": {},
     "output_type": "display_data"
    },
    {
     "data": {
      "text/html": [
       "<table class=\"dataframe\">\n",
       "<caption>A data.frame: 6 × 9</caption>\n",
       "<thead>\n",
       "\t<tr><th></th><th scope=col>group</th><th scope=col>rn</th><th scope=col>logFC</th><th scope=col>AveExpr</th><th scope=col>t</th><th scope=col>P.Value</th><th scope=col>adj.P.Val</th><th scope=col>B</th><th scope=col>direction</th></tr>\n",
       "\t<tr><th></th><th scope=col>&lt;chr&gt;</th><th scope=col>&lt;chr&gt;</th><th scope=col>&lt;dbl&gt;</th><th scope=col>&lt;dbl&gt;</th><th scope=col>&lt;dbl&gt;</th><th scope=col>&lt;dbl&gt;</th><th scope=col>&lt;dbl&gt;</th><th scope=col>&lt;dbl&gt;</th><th scope=col>&lt;chr&gt;</th></tr>\n",
       "</thead>\n",
       "<tbody>\n",
       "\t<tr><th scope=row>1</th><td>C_albicans_2h</td><td>CONS00000130796</td><td>1.1737837</td><td>4.369844</td><td>9.827757</td><td>2.008776e-15</td><td>2.746700e-10</td><td>24.58950</td><td>up</td></tr>\n",
       "\t<tr><th scope=row>2</th><td>C_albicans_2h</td><td>CONS00000032052</td><td>1.3161087</td><td>4.621430</td><td>9.277651</td><td>2.412696e-14</td><td>1.649500e-09</td><td>22.18837</td><td>up</td></tr>\n",
       "\t<tr><th scope=row>3</th><td>C_albicans_2h</td><td>CONS00000181342</td><td>0.8823945</td><td>5.109763</td><td>9.120974</td><td>4.906553e-14</td><td>2.236325e-09</td><td>21.59656</td><td>up</td></tr>\n",
       "\t<tr><th scope=row>4</th><td>C_albicans_2h</td><td>CONS00000021736</td><td>1.1249054</td><td>5.030621</td><td>8.978311</td><td>9.368332e-14</td><td>2.628066e-09</td><td>20.93968</td><td>up</td></tr>\n",
       "\t<tr><th scope=row>5</th><td>C_albicans_2h</td><td>CONS00000173048</td><td>1.1362798</td><td>3.910130</td><td>8.938770</td><td>1.120819e-13</td><td>2.628066e-09</td><td>20.76723</td><td>up</td></tr>\n",
       "\t<tr><th scope=row>6</th><td>C_albicans_2h</td><td>CONS00000017578</td><td>1.1454787</td><td>4.607287</td><td>8.932488</td><td>1.153208e-13</td><td>2.628066e-09</td><td>20.74454</td><td>up</td></tr>\n",
       "</tbody>\n",
       "</table>\n"
      ],
      "text/latex": [
       "A data.frame: 6 × 9\n",
       "\\begin{tabular}{r|lllllllll}\n",
       "  & group & rn & logFC & AveExpr & t & P.Value & adj.P.Val & B & direction\\\\\n",
       "  & <chr> & <chr> & <dbl> & <dbl> & <dbl> & <dbl> & <dbl> & <dbl> & <chr>\\\\\n",
       "\\hline\n",
       "\t1 & C\\_albicans\\_2h & CONS00000130796 & 1.1737837 & 4.369844 & 9.827757 & 2.008776e-15 & 2.746700e-10 & 24.58950 & up\\\\\n",
       "\t2 & C\\_albicans\\_2h & CONS00000032052 & 1.3161087 & 4.621430 & 9.277651 & 2.412696e-14 & 1.649500e-09 & 22.18837 & up\\\\\n",
       "\t3 & C\\_albicans\\_2h & CONS00000181342 & 0.8823945 & 5.109763 & 9.120974 & 4.906553e-14 & 2.236325e-09 & 21.59656 & up\\\\\n",
       "\t4 & C\\_albicans\\_2h & CONS00000021736 & 1.1249054 & 5.030621 & 8.978311 & 9.368332e-14 & 2.628066e-09 & 20.93968 & up\\\\\n",
       "\t5 & C\\_albicans\\_2h & CONS00000173048 & 1.1362798 & 3.910130 & 8.938770 & 1.120819e-13 & 2.628066e-09 & 20.76723 & up\\\\\n",
       "\t6 & C\\_albicans\\_2h & CONS00000017578 & 1.1454787 & 4.607287 & 8.932488 & 1.153208e-13 & 2.628066e-09 & 20.74454 & up\\\\\n",
       "\\end{tabular}\n"
      ],
      "text/markdown": [
       "\n",
       "A data.frame: 6 × 9\n",
       "\n",
       "| <!--/--> | group &lt;chr&gt; | rn &lt;chr&gt; | logFC &lt;dbl&gt; | AveExpr &lt;dbl&gt; | t &lt;dbl&gt; | P.Value &lt;dbl&gt; | adj.P.Val &lt;dbl&gt; | B &lt;dbl&gt; | direction &lt;chr&gt; |\n",
       "|---|---|---|---|---|---|---|---|---|---|\n",
       "| 1 | C_albicans_2h | CONS00000130796 | 1.1737837 | 4.369844 | 9.827757 | 2.008776e-15 | 2.746700e-10 | 24.58950 | up |\n",
       "| 2 | C_albicans_2h | CONS00000032052 | 1.3161087 | 4.621430 | 9.277651 | 2.412696e-14 | 1.649500e-09 | 22.18837 | up |\n",
       "| 3 | C_albicans_2h | CONS00000181342 | 0.8823945 | 5.109763 | 9.120974 | 4.906553e-14 | 2.236325e-09 | 21.59656 | up |\n",
       "| 4 | C_albicans_2h | CONS00000021736 | 1.1249054 | 5.030621 | 8.978311 | 9.368332e-14 | 2.628066e-09 | 20.93968 | up |\n",
       "| 5 | C_albicans_2h | CONS00000173048 | 1.1362798 | 3.910130 | 8.938770 | 1.120819e-13 | 2.628066e-09 | 20.76723 | up |\n",
       "| 6 | C_albicans_2h | CONS00000017578 | 1.1454787 | 4.607287 | 8.932488 | 1.153208e-13 | 2.628066e-09 | 20.74454 | up |\n",
       "\n"
      ],
      "text/plain": [
       "  group         rn              logFC     AveExpr  t        P.Value     \n",
       "1 C_albicans_2h CONS00000130796 1.1737837 4.369844 9.827757 2.008776e-15\n",
       "2 C_albicans_2h CONS00000032052 1.3161087 4.621430 9.277651 2.412696e-14\n",
       "3 C_albicans_2h CONS00000181342 0.8823945 5.109763 9.120974 4.906553e-14\n",
       "4 C_albicans_2h CONS00000021736 1.1249054 5.030621 8.978311 9.368332e-14\n",
       "5 C_albicans_2h CONS00000173048 1.1362798 3.910130 8.938770 1.120819e-13\n",
       "6 C_albicans_2h CONS00000017578 1.1454787 4.607287 8.932488 1.153208e-13\n",
       "  adj.P.Val    B        direction\n",
       "1 2.746700e-10 24.58950 up       \n",
       "2 1.649500e-09 22.18837 up       \n",
       "3 2.236325e-09 21.59656 up       \n",
       "4 2.628066e-09 20.93968 up       \n",
       "5 2.628066e-09 20.76723 up       \n",
       "6 2.628066e-09 20.74454 up       "
      ]
     },
     "metadata": {},
     "output_type": "display_data"
    }
   ],
   "source": [
    "# load ATAC DEA results\n",
    "atac_dea <- read.delim(file=file.path(data_ATAC,'DEA','Significant.regions.tsv'), sep='\\t', header = TRUE)\n",
    "dim(atac_dea)\n",
    "head(atac_dea)"
   ]
  },
  {
   "cell_type": "code",
   "execution_count": 41,
   "id": "9e912ee1",
   "metadata": {},
   "outputs": [
    {
     "data": {
      "text/html": [
       "<style>\n",
       ".list-inline {list-style: none; margin:0; padding: 0}\n",
       ".list-inline>li {display: inline-block}\n",
       ".list-inline>li:not(:last-child)::after {content: \"\\00b7\"; padding: 0 .5ex}\n",
       "</style>\n",
       "<ol class=list-inline><li>70801</li><li>9</li></ol>\n"
      ],
      "text/latex": [
       "\\begin{enumerate*}\n",
       "\\item 70801\n",
       "\\item 9\n",
       "\\end{enumerate*}\n"
      ],
      "text/markdown": [
       "1. 70801\n",
       "2. 9\n",
       "\n",
       "\n"
      ],
      "text/plain": [
       "[1] 70801     9"
      ]
     },
     "metadata": {},
     "output_type": "display_data"
    },
    {
     "data": {
      "text/html": [
       "<table class=\"dataframe\">\n",
       "<caption>A data.frame: 6 × 9</caption>\n",
       "<thead>\n",
       "\t<tr><th></th><th scope=col>group</th><th scope=col>rn</th><th scope=col>logFC</th><th scope=col>AveExpr</th><th scope=col>t</th><th scope=col>P.Value</th><th scope=col>adj.P.Val</th><th scope=col>B</th><th scope=col>direction</th></tr>\n",
       "\t<tr><th></th><th scope=col>&lt;chr&gt;</th><th scope=col>&lt;chr&gt;</th><th scope=col>&lt;dbl&gt;</th><th scope=col>&lt;dbl&gt;</th><th scope=col>&lt;dbl&gt;</th><th scope=col>&lt;dbl&gt;</th><th scope=col>&lt;dbl&gt;</th><th scope=col>&lt;dbl&gt;</th><th scope=col>&lt;chr&gt;</th></tr>\n",
       "</thead>\n",
       "<tbody>\n",
       "\t<tr><th scope=row>12</th><td>C_albicans_2h</td><td>CONS00000003577</td><td>2.027163</td><td>3.356042</td><td>8.242825</td><td>2.629861e-12</td><td>2.996617e-08</td><td>17.37412</td><td>up</td></tr>\n",
       "\t<tr><th scope=row>16</th><td>C_albicans_2h</td><td>CONS00000130801</td><td>2.041275</td><td>2.720291</td><td>8.054457</td><td>6.167497e-12</td><td>5.622085e-08</td><td>16.62792</td><td>up</td></tr>\n",
       "\t<tr><th scope=row>30</th><td>C_albicans_2h</td><td>CONS00000029769</td><td>2.024547</td><td>2.431062</td><td>7.736048</td><td>2.595284e-11</td><td>1.364870e-07</td><td>14.77462</td><td>up</td></tr>\n",
       "\t<tr><th scope=row>42</th><td>C_albicans_2h</td><td>CONS00000101018</td><td>2.053408</td><td>2.274132</td><td>7.433932</td><td>1.008300e-10</td><td>3.746209e-07</td><td>13.57290</td><td>up</td></tr>\n",
       "\t<tr><th scope=row>59</th><td>C_albicans_2h</td><td>CONS00000033602</td><td>2.086051</td><td>1.651338</td><td>7.231989</td><td>2.486541e-10</td><td>7.233981e-07</td><td>12.30219</td><td>up</td></tr>\n",
       "\t<tr><th scope=row>74</th><td>C_albicans_2h</td><td>CONS00000102612</td><td>2.265512</td><td>2.256551</td><td>6.930506</td><td>9.486935e-10</td><td>1.965449e-06</td><td>11.38307</td><td>up</td></tr>\n",
       "</tbody>\n",
       "</table>\n"
      ],
      "text/latex": [
       "A data.frame: 6 × 9\n",
       "\\begin{tabular}{r|lllllllll}\n",
       "  & group & rn & logFC & AveExpr & t & P.Value & adj.P.Val & B & direction\\\\\n",
       "  & <chr> & <chr> & <dbl> & <dbl> & <dbl> & <dbl> & <dbl> & <dbl> & <chr>\\\\\n",
       "\\hline\n",
       "\t12 & C\\_albicans\\_2h & CONS00000003577 & 2.027163 & 3.356042 & 8.242825 & 2.629861e-12 & 2.996617e-08 & 17.37412 & up\\\\\n",
       "\t16 & C\\_albicans\\_2h & CONS00000130801 & 2.041275 & 2.720291 & 8.054457 & 6.167497e-12 & 5.622085e-08 & 16.62792 & up\\\\\n",
       "\t30 & C\\_albicans\\_2h & CONS00000029769 & 2.024547 & 2.431062 & 7.736048 & 2.595284e-11 & 1.364870e-07 & 14.77462 & up\\\\\n",
       "\t42 & C\\_albicans\\_2h & CONS00000101018 & 2.053408 & 2.274132 & 7.433932 & 1.008300e-10 & 3.746209e-07 & 13.57290 & up\\\\\n",
       "\t59 & C\\_albicans\\_2h & CONS00000033602 & 2.086051 & 1.651338 & 7.231989 & 2.486541e-10 & 7.233981e-07 & 12.30219 & up\\\\\n",
       "\t74 & C\\_albicans\\_2h & CONS00000102612 & 2.265512 & 2.256551 & 6.930506 & 9.486935e-10 & 1.965449e-06 & 11.38307 & up\\\\\n",
       "\\end{tabular}\n"
      ],
      "text/markdown": [
       "\n",
       "A data.frame: 6 × 9\n",
       "\n",
       "| <!--/--> | group &lt;chr&gt; | rn &lt;chr&gt; | logFC &lt;dbl&gt; | AveExpr &lt;dbl&gt; | t &lt;dbl&gt; | P.Value &lt;dbl&gt; | adj.P.Val &lt;dbl&gt; | B &lt;dbl&gt; | direction &lt;chr&gt; |\n",
       "|---|---|---|---|---|---|---|---|---|---|\n",
       "| 12 | C_albicans_2h | CONS00000003577 | 2.027163 | 3.356042 | 8.242825 | 2.629861e-12 | 2.996617e-08 | 17.37412 | up |\n",
       "| 16 | C_albicans_2h | CONS00000130801 | 2.041275 | 2.720291 | 8.054457 | 6.167497e-12 | 5.622085e-08 | 16.62792 | up |\n",
       "| 30 | C_albicans_2h | CONS00000029769 | 2.024547 | 2.431062 | 7.736048 | 2.595284e-11 | 1.364870e-07 | 14.77462 | up |\n",
       "| 42 | C_albicans_2h | CONS00000101018 | 2.053408 | 2.274132 | 7.433932 | 1.008300e-10 | 3.746209e-07 | 13.57290 | up |\n",
       "| 59 | C_albicans_2h | CONS00000033602 | 2.086051 | 1.651338 | 7.231989 | 2.486541e-10 | 7.233981e-07 | 12.30219 | up |\n",
       "| 74 | C_albicans_2h | CONS00000102612 | 2.265512 | 2.256551 | 6.930506 | 9.486935e-10 | 1.965449e-06 | 11.38307 | up |\n",
       "\n"
      ],
      "text/plain": [
       "   group         rn              logFC    AveExpr  t        P.Value     \n",
       "12 C_albicans_2h CONS00000003577 2.027163 3.356042 8.242825 2.629861e-12\n",
       "16 C_albicans_2h CONS00000130801 2.041275 2.720291 8.054457 6.167497e-12\n",
       "30 C_albicans_2h CONS00000029769 2.024547 2.431062 7.736048 2.595284e-11\n",
       "42 C_albicans_2h CONS00000101018 2.053408 2.274132 7.433932 1.008300e-10\n",
       "59 C_albicans_2h CONS00000033602 2.086051 1.651338 7.231989 2.486541e-10\n",
       "74 C_albicans_2h CONS00000102612 2.265512 2.256551 6.930506 9.486935e-10\n",
       "   adj.P.Val    B        direction\n",
       "12 2.996617e-08 17.37412 up       \n",
       "16 5.622085e-08 16.62792 up       \n",
       "30 1.364870e-07 14.77462 up       \n",
       "42 3.746209e-07 13.57290 up       \n",
       "59 7.233981e-07 12.30219 up       \n",
       "74 1.965449e-06 11.38307 up       "
      ]
     },
     "metadata": {},
     "output_type": "display_data"
    }
   ],
   "source": [
    "# filter for stat. sign. and effect size\n",
    "atac_dea <- atac_dea[(atac_dea$adj.P.Val<0.05) & (abs(atac_dea$logFC)>2) & (atac_dea$AveExpr>0), ]\n",
    "dim(atac_dea)\n",
    "head(atac_dea)"
   ]
  },
  {
   "cell_type": "markdown",
   "id": "c49c430d",
   "metadata": {},
   "source": [
    "## all statistical significant DARs"
   ]
  },
  {
   "cell_type": "code",
   "execution_count": 42,
   "id": "7d1fa307",
   "metadata": {},
   "outputs": [],
   "source": [
    "# make data table for plot\n",
    "atac_dea$homer_Annotation <- region_annot[atac_dea$rn, 'homer_Annotation']\n",
    "atac_dea_table <- data.table(table(atac_dea[,c('group','direction','homer_Annotation')]))\n",
    "# make group factor and order chronological\n",
    "\n",
    "times <- names(time_colors)[-1]\n",
    "treatments <- str_replace_all(names(treatment_colors)[-1], ' ', '_')\n",
    "treatments <- treatments[treatments!='up' & treatments!='down']\n",
    "\n",
    "atac_dea_table$group <- factor(atac_dea_table$group, levels = paste(rep(treatments, each = length(times)), times, sep = \"_\"))"
   ]
  },
  {
   "cell_type": "code",
   "execution_count": 43,
   "id": "a2ce9813",
   "metadata": {},
   "outputs": [],
   "source": [
    "width <- 8\n",
    "height <- 2.5\n",
    "options(repr.plot.width=width, repr.plot.height=height)"
   ]
  },
  {
   "cell_type": "code",
   "execution_count": 44,
   "id": "d9f89d4f",
   "metadata": {},
   "outputs": [
    {
     "name": "stderr",
     "output_type": "stream",
     "text": [
      "Warning message:\n",
      "“Removed 8 rows containing missing values (geom_bar).”\n",
      "Warning message:\n",
      "“Removed 8 rows containing missing values (geom_bar).”\n"
     ]
    }
   ],
   "source": [
    "for (directionx in c('up', 'down')){\n",
    "    for (position in c('stack', 'fill')){\n",
    "    \n",
    "        # stacked barplot\n",
    "        region_p <- ggplot() + \n",
    "        geom_bar(data=atac_dea_table[direction==directionx], aes(fill=homer_Annotation, y=N, x=group), position=position, stat=\"identity\") +\n",
    "        ggtitle(paste0(\"Genomic Region Annotation of DARs \",directionx)) +\n",
    "        macro_theme() + \n",
    "        theme(axis.text.x = element_text(angle = 45, hjust = 1, vjust=1),\n",
    "              axis.title.x=element_blank(),\n",
    "              axis.title.y=element_blank())\n",
    "\n",
    "    #     print(region_p)\n",
    "\n",
    "        # save plot\n",
    "        ggsave_new(filename=paste0(\"ATAC_region_annotation_DAR_\",directionx,\"_\",position),\n",
    "                   results_path=results_path,\n",
    "                   plot=region_p,\n",
    "                   width=width,\n",
    "                   height=height\n",
    "                  )\n",
    "    }\n",
    "}"
   ]
  },
  {
   "cell_type": "markdown",
   "id": "d51964dc",
   "metadata": {},
   "source": [
    "## ONLY top 1% of all DARs"
   ]
  },
  {
   "cell_type": "code",
   "execution_count": 45,
   "id": "0398e0c6",
   "metadata": {},
   "outputs": [],
   "source": [
    "# keep only top 1% for each group by effect-size\n",
    "atac_dea_top <- data.frame()\n",
    "for (groupx in unique(atac_dea$group)){\n",
    "    group_dea_table <- atac_dea[atac_dea$group==groupx,]\n",
    "    top_n <- ceiling(dim(group_dea_table)[1]*0.01)\n",
    "\n",
    "    group_dea_table <- group_dea_table[order(abs(group_dea_table$logFC), decreasing = TRUE)[1:top_n],]\n",
    "\n",
    "    if (dim(atac_dea_top)[1]==0){\n",
    "        atac_dea_top <- group_dea_table\n",
    "    }else{\n",
    "        atac_dea_top <- rbind(atac_dea_top, group_dea_table)\n",
    "    }  \n",
    "}"
   ]
  },
  {
   "cell_type": "code",
   "execution_count": 46,
   "id": "37ecb90c",
   "metadata": {},
   "outputs": [],
   "source": [
    "# make data table for plot\n",
    "atac_dea_top_table <- data.table(table(atac_dea_top[,c('group','direction','homer_Annotation')]))\n",
    "# make group factor and order chronological\n",
    "atac_dea_top_table$group <- factor(atac_dea_top_table$group, levels = paste(rep(treatments, each = length(times)), times, sep = \"_\"))"
   ]
  },
  {
   "cell_type": "code",
   "execution_count": 47,
   "id": "9128bd4d",
   "metadata": {},
   "outputs": [
    {
     "name": "stderr",
     "output_type": "stream",
     "text": [
      "Warning message:\n",
      "“Removed 14 rows containing missing values (geom_bar).”\n",
      "Warning message:\n",
      "“Removed 14 rows containing missing values (geom_bar).”\n",
      "Warning message:\n",
      "“Removed 133 rows containing missing values (geom_bar).”\n",
      "Warning message:\n",
      "“Removed 133 rows containing missing values (geom_bar).”\n"
     ]
    }
   ],
   "source": [
    "for (directionx in c('up', 'down')){\n",
    "    for (position in c('stack', 'fill')){\n",
    "    \n",
    "        # stacked barplot\n",
    "        region_p <- ggplot() + \n",
    "        geom_bar(data=atac_dea_top_table[direction==directionx], aes(fill=homer_Annotation, y=N, x=group), position=position, stat=\"identity\") +\n",
    "        ggtitle(paste0(\"Genomic Region Annotation of top 1% DARs \",directionx)) +\n",
    "        macro_theme() + \n",
    "        theme(axis.text.x = element_text(angle = 45, hjust = 1, vjust=1),\n",
    "              axis.title.x=element_blank(),\n",
    "              axis.title.y=element_blank())\n",
    "\n",
    "    #     print(region_p)\n",
    "\n",
    "        # save plot\n",
    "        ggsave_new(filename=paste0(\"ATAC_region_annotation_DAR_top_\",directionx,\"_\",position),\n",
    "                   results_path=results_path,\n",
    "                   plot=region_p,\n",
    "                   width=width,\n",
    "                   height=height\n",
    "                  )\n",
    "    }\n",
    "}"
   ]
  },
  {
   "cell_type": "markdown",
   "id": "3c5a45d3",
   "metadata": {},
   "source": [
    "## accesible region distributions"
   ]
  },
  {
   "cell_type": "code",
   "execution_count": 48,
   "id": "54866db3",
   "metadata": {},
   "outputs": [
    {
     "data": {
      "text/html": [
       "<style>\n",
       ".list-inline {list-style: none; margin:0; padding: 0}\n",
       ".list-inline>li {display: inline-block}\n",
       ".list-inline>li:not(:last-child)::after {content: \"\\00b7\"; padding: 0 .5ex}\n",
       "</style>\n",
       "<ol class=list-inline><li>136735</li><li>78</li></ol>\n"
      ],
      "text/latex": [
       "\\begin{enumerate*}\n",
       "\\item 136735\n",
       "\\item 78\n",
       "\\end{enumerate*}\n"
      ],
      "text/markdown": [
       "1. 136735\n",
       "2. 78\n",
       "\n",
       "\n"
      ],
      "text/plain": [
       "[1] 136735     78"
      ]
     },
     "metadata": {},
     "output_type": "display_data"
    },
    {
     "data": {
      "text/html": [
       "<table class=\"dataframe\">\n",
       "<caption>A data.frame: 6 × 78</caption>\n",
       "<thead>\n",
       "\t<tr><th></th><th scope=col>PT76_R1_C_albicans_2h</th><th scope=col>PT76_R1_C_albicans_4h</th><th scope=col>PT76_R1_C_albicans_6h</th><th scope=col>PT76_R1_C_albicans_8h</th><th scope=col>PT76_R1_untreated_0h</th><th scope=col>PT76_R1_IFN_beta_2h</th><th scope=col>PT76_R1_IFN_beta_4h</th><th scope=col>PT76_R1_IFN_beta_6h</th><th scope=col>PT76_R1_IFN_beta_8h</th><th scope=col>PT76_R1_IFN_gamma_2h</th><th scope=col>⋯</th><th scope=col>PT82_R2_IFN_gamma_24h</th><th scope=col>PT82_R2_IFN_gamma_8h</th><th scope=col>PT82_R2_LCMV_Cl13_24h</th><th scope=col>PT82_R2_LCMV_Cl13_8h</th><th scope=col>PT82_R2_LO28_24h</th><th scope=col>PT82_R2_LO28_8h</th><th scope=col>PT82_R2_LPS_24h</th><th scope=col>PT82_R2_LPS_8h</th><th scope=col>PT82_R2_untreated_24h</th><th scope=col>PT82_R2_untreated_8h</th></tr>\n",
       "\t<tr><th></th><th scope=col>&lt;int&gt;</th><th scope=col>&lt;int&gt;</th><th scope=col>&lt;int&gt;</th><th scope=col>&lt;int&gt;</th><th scope=col>&lt;int&gt;</th><th scope=col>&lt;int&gt;</th><th scope=col>&lt;int&gt;</th><th scope=col>&lt;int&gt;</th><th scope=col>&lt;int&gt;</th><th scope=col>&lt;int&gt;</th><th scope=col>⋯</th><th scope=col>&lt;int&gt;</th><th scope=col>&lt;int&gt;</th><th scope=col>&lt;int&gt;</th><th scope=col>&lt;int&gt;</th><th scope=col>&lt;int&gt;</th><th scope=col>&lt;int&gt;</th><th scope=col>&lt;int&gt;</th><th scope=col>&lt;int&gt;</th><th scope=col>&lt;int&gt;</th><th scope=col>&lt;int&gt;</th></tr>\n",
       "</thead>\n",
       "<tbody>\n",
       "\t<tr><th scope=row>CONS00000000005</th><td>47</td><td>55</td><td>65</td><td>44</td><td>60</td><td>21</td><td>19</td><td>37</td><td>43</td><td>14</td><td>⋯</td><td>50</td><td>40</td><td>229</td><td>120</td><td>22</td><td>115</td><td>114</td><td>97</td><td>122</td><td>96</td></tr>\n",
       "\t<tr><th scope=row>CONS00000000006</th><td> 8</td><td> 8</td><td>13</td><td> 8</td><td> 6</td><td> 8</td><td> 4</td><td> 4</td><td> 7</td><td>10</td><td>⋯</td><td>25</td><td>22</td><td> 41</td><td> 24</td><td> 6</td><td> 15</td><td> 11</td><td>15</td><td> 24</td><td> 7</td></tr>\n",
       "\t<tr><th scope=row>CONS00000000011</th><td> 8</td><td> 4</td><td> 3</td><td> 9</td><td> 9</td><td>11</td><td>10</td><td> 2</td><td> 5</td><td>13</td><td>⋯</td><td> 8</td><td>21</td><td>  7</td><td> 18</td><td>18</td><td> 11</td><td>  4</td><td>19</td><td> 18</td><td>21</td></tr>\n",
       "\t<tr><th scope=row>CONS00000000013</th><td> 3</td><td> 8</td><td> 8</td><td> 3</td><td> 3</td><td> 4</td><td> 2</td><td> 0</td><td> 4</td><td> 3</td><td>⋯</td><td> 2</td><td> 5</td><td> 15</td><td>  1</td><td> 6</td><td> 19</td><td>  7</td><td>25</td><td>  1</td><td> 6</td></tr>\n",
       "\t<tr><th scope=row>CONS00000000017</th><td> 3</td><td> 3</td><td> 2</td><td> 5</td><td> 6</td><td> 4</td><td> 4</td><td> 9</td><td> 8</td><td> 5</td><td>⋯</td><td> 6</td><td> 9</td><td> 19</td><td>  8</td><td> 6</td><td>  9</td><td>  7</td><td>12</td><td>  7</td><td>14</td></tr>\n",
       "\t<tr><th scope=row>CONS00000000020</th><td> 2</td><td> 4</td><td> 6</td><td> 3</td><td> 9</td><td> 3</td><td> 5</td><td> 4</td><td> 5</td><td> 8</td><td>⋯</td><td> 8</td><td> 9</td><td> 10</td><td> 14</td><td> 3</td><td>  8</td><td>  5</td><td> 9</td><td> 10</td><td> 7</td></tr>\n",
       "</tbody>\n",
       "</table>\n"
      ],
      "text/latex": [
       "A data.frame: 6 × 78\n",
       "\\begin{tabular}{r|lllllllllllllllllllll}\n",
       "  & PT76\\_R1\\_C\\_albicans\\_2h & PT76\\_R1\\_C\\_albicans\\_4h & PT76\\_R1\\_C\\_albicans\\_6h & PT76\\_R1\\_C\\_albicans\\_8h & PT76\\_R1\\_untreated\\_0h & PT76\\_R1\\_IFN\\_beta\\_2h & PT76\\_R1\\_IFN\\_beta\\_4h & PT76\\_R1\\_IFN\\_beta\\_6h & PT76\\_R1\\_IFN\\_beta\\_8h & PT76\\_R1\\_IFN\\_gamma\\_2h & ⋯ & PT82\\_R2\\_IFN\\_gamma\\_24h & PT82\\_R2\\_IFN\\_gamma\\_8h & PT82\\_R2\\_LCMV\\_Cl13\\_24h & PT82\\_R2\\_LCMV\\_Cl13\\_8h & PT82\\_R2\\_LO28\\_24h & PT82\\_R2\\_LO28\\_8h & PT82\\_R2\\_LPS\\_24h & PT82\\_R2\\_LPS\\_8h & PT82\\_R2\\_untreated\\_24h & PT82\\_R2\\_untreated\\_8h\\\\\n",
       "  & <int> & <int> & <int> & <int> & <int> & <int> & <int> & <int> & <int> & <int> & ⋯ & <int> & <int> & <int> & <int> & <int> & <int> & <int> & <int> & <int> & <int>\\\\\n",
       "\\hline\n",
       "\tCONS00000000005 & 47 & 55 & 65 & 44 & 60 & 21 & 19 & 37 & 43 & 14 & ⋯ & 50 & 40 & 229 & 120 & 22 & 115 & 114 & 97 & 122 & 96\\\\\n",
       "\tCONS00000000006 &  8 &  8 & 13 &  8 &  6 &  8 &  4 &  4 &  7 & 10 & ⋯ & 25 & 22 &  41 &  24 &  6 &  15 &  11 & 15 &  24 &  7\\\\\n",
       "\tCONS00000000011 &  8 &  4 &  3 &  9 &  9 & 11 & 10 &  2 &  5 & 13 & ⋯ &  8 & 21 &   7 &  18 & 18 &  11 &   4 & 19 &  18 & 21\\\\\n",
       "\tCONS00000000013 &  3 &  8 &  8 &  3 &  3 &  4 &  2 &  0 &  4 &  3 & ⋯ &  2 &  5 &  15 &   1 &  6 &  19 &   7 & 25 &   1 &  6\\\\\n",
       "\tCONS00000000017 &  3 &  3 &  2 &  5 &  6 &  4 &  4 &  9 &  8 &  5 & ⋯ &  6 &  9 &  19 &   8 &  6 &   9 &   7 & 12 &   7 & 14\\\\\n",
       "\tCONS00000000020 &  2 &  4 &  6 &  3 &  9 &  3 &  5 &  4 &  5 &  8 & ⋯ &  8 &  9 &  10 &  14 &  3 &   8 &   5 &  9 &  10 &  7\\\\\n",
       "\\end{tabular}\n"
      ],
      "text/markdown": [
       "\n",
       "A data.frame: 6 × 78\n",
       "\n",
       "| <!--/--> | PT76_R1_C_albicans_2h &lt;int&gt; | PT76_R1_C_albicans_4h &lt;int&gt; | PT76_R1_C_albicans_6h &lt;int&gt; | PT76_R1_C_albicans_8h &lt;int&gt; | PT76_R1_untreated_0h &lt;int&gt; | PT76_R1_IFN_beta_2h &lt;int&gt; | PT76_R1_IFN_beta_4h &lt;int&gt; | PT76_R1_IFN_beta_6h &lt;int&gt; | PT76_R1_IFN_beta_8h &lt;int&gt; | PT76_R1_IFN_gamma_2h &lt;int&gt; | ⋯ ⋯ | PT82_R2_IFN_gamma_24h &lt;int&gt; | PT82_R2_IFN_gamma_8h &lt;int&gt; | PT82_R2_LCMV_Cl13_24h &lt;int&gt; | PT82_R2_LCMV_Cl13_8h &lt;int&gt; | PT82_R2_LO28_24h &lt;int&gt; | PT82_R2_LO28_8h &lt;int&gt; | PT82_R2_LPS_24h &lt;int&gt; | PT82_R2_LPS_8h &lt;int&gt; | PT82_R2_untreated_24h &lt;int&gt; | PT82_R2_untreated_8h &lt;int&gt; |\n",
       "|---|---|---|---|---|---|---|---|---|---|---|---|---|---|---|---|---|---|---|---|---|---|\n",
       "| CONS00000000005 | 47 | 55 | 65 | 44 | 60 | 21 | 19 | 37 | 43 | 14 | ⋯ | 50 | 40 | 229 | 120 | 22 | 115 | 114 | 97 | 122 | 96 |\n",
       "| CONS00000000006 |  8 |  8 | 13 |  8 |  6 |  8 |  4 |  4 |  7 | 10 | ⋯ | 25 | 22 |  41 |  24 |  6 |  15 |  11 | 15 |  24 |  7 |\n",
       "| CONS00000000011 |  8 |  4 |  3 |  9 |  9 | 11 | 10 |  2 |  5 | 13 | ⋯ |  8 | 21 |   7 |  18 | 18 |  11 |   4 | 19 |  18 | 21 |\n",
       "| CONS00000000013 |  3 |  8 |  8 |  3 |  3 |  4 |  2 |  0 |  4 |  3 | ⋯ |  2 |  5 |  15 |   1 |  6 |  19 |   7 | 25 |   1 |  6 |\n",
       "| CONS00000000017 |  3 |  3 |  2 |  5 |  6 |  4 |  4 |  9 |  8 |  5 | ⋯ |  6 |  9 |  19 |   8 |  6 |   9 |   7 | 12 |   7 | 14 |\n",
       "| CONS00000000020 |  2 |  4 |  6 |  3 |  9 |  3 |  5 |  4 |  5 |  8 | ⋯ |  8 |  9 |  10 |  14 |  3 |   8 |   5 |  9 |  10 |  7 |\n",
       "\n"
      ],
      "text/plain": [
       "                PT76_R1_C_albicans_2h PT76_R1_C_albicans_4h\n",
       "CONS00000000005 47                    55                   \n",
       "CONS00000000006  8                     8                   \n",
       "CONS00000000011  8                     4                   \n",
       "CONS00000000013  3                     8                   \n",
       "CONS00000000017  3                     3                   \n",
       "CONS00000000020  2                     4                   \n",
       "                PT76_R1_C_albicans_6h PT76_R1_C_albicans_8h\n",
       "CONS00000000005 65                    44                   \n",
       "CONS00000000006 13                     8                   \n",
       "CONS00000000011  3                     9                   \n",
       "CONS00000000013  8                     3                   \n",
       "CONS00000000017  2                     5                   \n",
       "CONS00000000020  6                     3                   \n",
       "                PT76_R1_untreated_0h PT76_R1_IFN_beta_2h PT76_R1_IFN_beta_4h\n",
       "CONS00000000005 60                   21                  19                 \n",
       "CONS00000000006  6                    8                   4                 \n",
       "CONS00000000011  9                   11                  10                 \n",
       "CONS00000000013  3                    4                   2                 \n",
       "CONS00000000017  6                    4                   4                 \n",
       "CONS00000000020  9                    3                   5                 \n",
       "                PT76_R1_IFN_beta_6h PT76_R1_IFN_beta_8h PT76_R1_IFN_gamma_2h ⋯\n",
       "CONS00000000005 37                  43                  14                   ⋯\n",
       "CONS00000000006  4                   7                  10                   ⋯\n",
       "CONS00000000011  2                   5                  13                   ⋯\n",
       "CONS00000000013  0                   4                   3                   ⋯\n",
       "CONS00000000017  9                   8                   5                   ⋯\n",
       "CONS00000000020  4                   5                   8                   ⋯\n",
       "                PT82_R2_IFN_gamma_24h PT82_R2_IFN_gamma_8h\n",
       "CONS00000000005 50                    40                  \n",
       "CONS00000000006 25                    22                  \n",
       "CONS00000000011  8                    21                  \n",
       "CONS00000000013  2                     5                  \n",
       "CONS00000000017  6                     9                  \n",
       "CONS00000000020  8                     9                  \n",
       "                PT82_R2_LCMV_Cl13_24h PT82_R2_LCMV_Cl13_8h PT82_R2_LO28_24h\n",
       "CONS00000000005 229                   120                  22              \n",
       "CONS00000000006  41                    24                   6              \n",
       "CONS00000000011   7                    18                  18              \n",
       "CONS00000000013  15                     1                   6              \n",
       "CONS00000000017  19                     8                   6              \n",
       "CONS00000000020  10                    14                   3              \n",
       "                PT82_R2_LO28_8h PT82_R2_LPS_24h PT82_R2_LPS_8h\n",
       "CONS00000000005 115             114             97            \n",
       "CONS00000000006  15              11             15            \n",
       "CONS00000000011  11               4             19            \n",
       "CONS00000000013  19               7             25            \n",
       "CONS00000000017   9               7             12            \n",
       "CONS00000000020   8               5              9            \n",
       "                PT82_R2_untreated_24h PT82_R2_untreated_8h\n",
       "CONS00000000005 122                   96                  \n",
       "CONS00000000006  24                    7                  \n",
       "CONS00000000011  18                   21                  \n",
       "CONS00000000013   1                    6                  \n",
       "CONS00000000017   7                   14                  \n",
       "CONS00000000020  10                    7                  "
      ]
     },
     "metadata": {},
     "output_type": "display_data"
    }
   ],
   "source": [
    "# load ATAC data\n",
    "atac_data <- read.delim(file=file.path(data_ATAC,'all_filtered.csv'), sep=',', header = TRUE, row.names=1)\n",
    "dim(atac_data)\n",
    "head(atac_data)"
   ]
  },
  {
   "cell_type": "code",
   "execution_count": 49,
   "id": "3151fc99",
   "metadata": {},
   "outputs": [],
   "source": [
    "ATAC_annot$group <- paste0(ATAC_annot$Treatment, '_',ATAC_annot$Treatment_time)"
   ]
  },
  {
   "cell_type": "code",
   "execution_count": 50,
   "id": "3635c793",
   "metadata": {},
   "outputs": [],
   "source": [
    "groups <- c(\"untreated_0h\", paste(rep(treatments, each = length(times)), times, sep = \"_\"))"
   ]
  },
  {
   "cell_type": "code",
   "execution_count": 51,
   "id": "95e363c7",
   "metadata": {},
   "outputs": [],
   "source": [
    "atac_data_mean <- data.frame()\n",
    "\n",
    "for(group in groups){\n",
    "    \n",
    "    if(dim(atac_data_mean)[1]==0){\n",
    "        atac_data_mean <- setNames(data.frame(rowMeans(atac_data[, rownames(ATAC_annot)[ATAC_annot$group==group]])), group)\n",
    "    }else{\n",
    "        atac_data_mean[,group] <- rowMeans(atac_data[, rownames(ATAC_annot)[ATAC_annot$group==group]])\n",
    "    }\n",
    "}"
   ]
  },
  {
   "cell_type": "code",
   "execution_count": 52,
   "id": "ed655a95",
   "metadata": {},
   "outputs": [],
   "source": [
    "mean_table <- reshape2::melt(t(atac_data_mean))\n",
    "colnames(mean_table) <- c('group','region','value')"
   ]
  },
  {
   "cell_type": "code",
   "execution_count": 53,
   "id": "1f2c2ed3",
   "metadata": {},
   "outputs": [],
   "source": [
    "# filter for expression\n",
    "mean_table <- mean_table[mean_table$value>0,]"
   ]
  },
  {
   "cell_type": "code",
   "execution_count": 54,
   "id": "92be756c",
   "metadata": {},
   "outputs": [],
   "source": [
    "# add annotation\n",
    "mean_table$homer_Annotation <- region_annot[mean_table$region, 'homer_Annotation']"
   ]
  },
  {
   "cell_type": "code",
   "execution_count": 55,
   "id": "41fea58e",
   "metadata": {},
   "outputs": [],
   "source": [
    "# get counts\n",
    "mean_table <- data.table(table(mean_table[,c('group','homer_Annotation')]))"
   ]
  },
  {
   "cell_type": "code",
   "execution_count": 56,
   "id": "28687ee2",
   "metadata": {},
   "outputs": [],
   "source": [
    "# sort groups\n",
    "mean_table$group <- factor(mean_table$group, levels = groups)"
   ]
  },
  {
   "cell_type": "code",
   "execution_count": 57,
   "id": "97337d50",
   "metadata": {},
   "outputs": [],
   "source": [
    "for (position in c('stack', 'fill')){\n",
    "\n",
    "    # stacked barplot\n",
    "    region_p <- ggplot() + \n",
    "    geom_bar(data=mean_table, aes(fill=homer_Annotation, y=N, x=group), position=position, stat=\"identity\") +\n",
    "    ggtitle(paste0(\"Genomic Region Annotation of accessible regions \")) +\n",
    "    macro_theme() + \n",
    "    theme(axis.text.x = element_text(angle = 45, hjust = 1, vjust=1),\n",
    "          axis.title.x=element_blank(),\n",
    "          axis.title.y=element_blank())\n",
    "\n",
    "#     print(region_p)\n",
    "\n",
    "    # save plot\n",
    "    ggsave_new(filename=paste0(\"ATAC_region_annotation_accessible_\",position),\n",
    "               results_path=results_path,\n",
    "               plot=region_p,\n",
    "               width=width,\n",
    "               height=height\n",
    "              )\n",
    "}"
   ]
  },
  {
   "cell_type": "markdown",
   "id": "92a49d0f",
   "metadata": {},
   "source": [
    "# DEG Euler diagrams"
   ]
  },
  {
   "cell_type": "code",
   "execution_count": 26,
   "id": "6eb872d0",
   "metadata": {},
   "outputs": [],
   "source": [
    "times <- names(time_colors)[-1]\n",
    "treatments <- str_replace_all(names(treatment_colors)[-1], ' ', '_')\n",
    "treatments <- treatments[(treatments!='up') & (treatments!='down')]"
   ]
  },
  {
   "cell_type": "code",
   "execution_count": 13,
   "id": "fad664e0",
   "metadata": {},
   "outputs": [
    {
     "data": {
      "text/html": [
       "<style>\n",
       ".list-inline {list-style: none; margin:0; padding: 0}\n",
       ".list-inline>li {display: inline-block}\n",
       ".list-inline>li:not(:last-child)::after {content: \"\\00b7\"; padding: 0 .5ex}\n",
       "</style>\n",
       "<ol class=list-inline><li>99951</li><li>17</li></ol>\n"
      ],
      "text/latex": [
       "\\begin{enumerate*}\n",
       "\\item 99951\n",
       "\\item 17\n",
       "\\end{enumerate*}\n"
      ],
      "text/markdown": [
       "1. 99951\n",
       "2. 17\n",
       "\n",
       "\n"
      ],
      "text/plain": [
       "[1] 99951    17"
      ]
     },
     "metadata": {},
     "output_type": "display_data"
    },
    {
     "data": {
      "text/html": [
       "<table class=\"dataframe\">\n",
       "<caption>A data.frame: 6 × 17</caption>\n",
       "<thead>\n",
       "\t<tr><th></th><th scope=col>ensembl_gene_id</th><th scope=col>version</th><th scope=col>source</th><th scope=col>external_gene_name</th><th scope=col>external_gene_source</th><th scope=col>description</th><th scope=col>gene_biotype</th><th scope=col>length</th><th scope=col>gc</th><th scope=col>group</th><th scope=col>logFC</th><th scope=col>AveExpr</th><th scope=col>t</th><th scope=col>P.Value</th><th scope=col>adj.P.Val</th><th scope=col>B</th><th scope=col>direction</th></tr>\n",
       "\t<tr><th></th><th scope=col>&lt;chr&gt;</th><th scope=col>&lt;int&gt;</th><th scope=col>&lt;chr&gt;</th><th scope=col>&lt;chr&gt;</th><th scope=col>&lt;chr&gt;</th><th scope=col>&lt;chr&gt;</th><th scope=col>&lt;chr&gt;</th><th scope=col>&lt;int&gt;</th><th scope=col>&lt;dbl&gt;</th><th scope=col>&lt;chr&gt;</th><th scope=col>&lt;dbl&gt;</th><th scope=col>&lt;dbl&gt;</th><th scope=col>&lt;dbl&gt;</th><th scope=col>&lt;dbl&gt;</th><th scope=col>&lt;dbl&gt;</th><th scope=col>&lt;dbl&gt;</th><th scope=col>&lt;chr&gt;</th></tr>\n",
       "</thead>\n",
       "<tbody>\n",
       "\t<tr><th scope=row>1</th><td>ENSMUSG00000000028</td><td>15</td><td>ensembl_havana</td><td>Cdc45</td><td>MGI Symbol</td><td>cell division cycle 45 [Source:MGI Symbol;Acc:MGI:1338073]</td><td>protein_coding</td><td>3506</td><td>0.4962921</td><td>LPS_8h       </td><td>-3.472169</td><td>3.097686</td><td>-5.224250</td><td>6.014661e-06</td><td>3.276022e-05</td><td> 3.8304187</td><td>down</td></tr>\n",
       "\t<tr><th scope=row>2</th><td>ENSMUSG00000000028</td><td>15</td><td>ensembl_havana</td><td>Cdc45</td><td>MGI Symbol</td><td>cell division cycle 45 [Source:MGI Symbol;Acc:MGI:1338073]</td><td>protein_coding</td><td>3506</td><td>0.4962921</td><td>LO28_6h      </td><td>-2.141904</td><td>3.097686</td><td>-3.562033</td><td>9.812481e-04</td><td>2.505076e-03</td><td>-1.0748088</td><td>down</td></tr>\n",
       "\t<tr><th scope=row>3</th><td>ENSMUSG00000000028</td><td>15</td><td>ensembl_havana</td><td>Cdc45</td><td>MGI Symbol</td><td>cell division cycle 45 [Source:MGI Symbol;Acc:MGI:1338073]</td><td>protein_coding</td><td>3506</td><td>0.4962921</td><td>IFN_beta_6h  </td><td>-1.827678</td><td>3.097686</td><td>-3.442471</td><td>1.380388e-03</td><td>3.969044e-03</td><td>-1.4727414</td><td>down</td></tr>\n",
       "\t<tr><th scope=row>4</th><td>ENSMUSG00000000028</td><td>15</td><td>ensembl_havana</td><td>Cdc45</td><td>MGI Symbol</td><td>cell division cycle 45 [Source:MGI Symbol;Acc:MGI:1338073]</td><td>protein_coding</td><td>3506</td><td>0.4962921</td><td>LCMV_Cl13_24h</td><td>-1.775335</td><td>3.097686</td><td>-3.632385</td><td>8.009786e-04</td><td>4.657678e-03</td><td>-0.8547959</td><td>down</td></tr>\n",
       "\t<tr><th scope=row>5</th><td>ENSMUSG00000000028</td><td>15</td><td>ensembl_havana</td><td>Cdc45</td><td>MGI Symbol</td><td>cell division cycle 45 [Source:MGI Symbol;Acc:MGI:1338073]</td><td>protein_coding</td><td>3506</td><td>0.4962921</td><td>IFN_beta_4h  </td><td>-1.182338</td><td>3.097686</td><td>-2.448738</td><td>1.888964e-02</td><td>4.305215e-02</td><td>-3.9544792</td><td>down</td></tr>\n",
       "\t<tr><th scope=row>6</th><td>ENSMUSG00000000028</td><td>15</td><td>ensembl_havana</td><td>Cdc45</td><td>MGI Symbol</td><td>cell division cycle 45 [Source:MGI Symbol;Acc:MGI:1338073]</td><td>protein_coding</td><td>3506</td><td>0.4962921</td><td>LPS_24h      </td><td>-4.737483</td><td>3.097686</td><td>-3.813135</td><td>4.722140e-04</td><td>3.642916e-03</td><td>-0.0977867</td><td>down</td></tr>\n",
       "</tbody>\n",
       "</table>\n"
      ],
      "text/latex": [
       "A data.frame: 6 × 17\n",
       "\\begin{tabular}{r|lllllllllllllllll}\n",
       "  & ensembl\\_gene\\_id & version & source & external\\_gene\\_name & external\\_gene\\_source & description & gene\\_biotype & length & gc & group & logFC & AveExpr & t & P.Value & adj.P.Val & B & direction\\\\\n",
       "  & <chr> & <int> & <chr> & <chr> & <chr> & <chr> & <chr> & <int> & <dbl> & <chr> & <dbl> & <dbl> & <dbl> & <dbl> & <dbl> & <dbl> & <chr>\\\\\n",
       "\\hline\n",
       "\t1 & ENSMUSG00000000028 & 15 & ensembl\\_havana & Cdc45 & MGI Symbol & cell division cycle 45 {[}Source:MGI Symbol;Acc:MGI:1338073{]} & protein\\_coding & 3506 & 0.4962921 & LPS\\_8h        & -3.472169 & 3.097686 & -5.224250 & 6.014661e-06 & 3.276022e-05 &  3.8304187 & down\\\\\n",
       "\t2 & ENSMUSG00000000028 & 15 & ensembl\\_havana & Cdc45 & MGI Symbol & cell division cycle 45 {[}Source:MGI Symbol;Acc:MGI:1338073{]} & protein\\_coding & 3506 & 0.4962921 & LO28\\_6h       & -2.141904 & 3.097686 & -3.562033 & 9.812481e-04 & 2.505076e-03 & -1.0748088 & down\\\\\n",
       "\t3 & ENSMUSG00000000028 & 15 & ensembl\\_havana & Cdc45 & MGI Symbol & cell division cycle 45 {[}Source:MGI Symbol;Acc:MGI:1338073{]} & protein\\_coding & 3506 & 0.4962921 & IFN\\_beta\\_6h   & -1.827678 & 3.097686 & -3.442471 & 1.380388e-03 & 3.969044e-03 & -1.4727414 & down\\\\\n",
       "\t4 & ENSMUSG00000000028 & 15 & ensembl\\_havana & Cdc45 & MGI Symbol & cell division cycle 45 {[}Source:MGI Symbol;Acc:MGI:1338073{]} & protein\\_coding & 3506 & 0.4962921 & LCMV\\_Cl13\\_24h & -1.775335 & 3.097686 & -3.632385 & 8.009786e-04 & 4.657678e-03 & -0.8547959 & down\\\\\n",
       "\t5 & ENSMUSG00000000028 & 15 & ensembl\\_havana & Cdc45 & MGI Symbol & cell division cycle 45 {[}Source:MGI Symbol;Acc:MGI:1338073{]} & protein\\_coding & 3506 & 0.4962921 & IFN\\_beta\\_4h   & -1.182338 & 3.097686 & -2.448738 & 1.888964e-02 & 4.305215e-02 & -3.9544792 & down\\\\\n",
       "\t6 & ENSMUSG00000000028 & 15 & ensembl\\_havana & Cdc45 & MGI Symbol & cell division cycle 45 {[}Source:MGI Symbol;Acc:MGI:1338073{]} & protein\\_coding & 3506 & 0.4962921 & LPS\\_24h       & -4.737483 & 3.097686 & -3.813135 & 4.722140e-04 & 3.642916e-03 & -0.0977867 & down\\\\\n",
       "\\end{tabular}\n"
      ],
      "text/markdown": [
       "\n",
       "A data.frame: 6 × 17\n",
       "\n",
       "| <!--/--> | ensembl_gene_id &lt;chr&gt; | version &lt;int&gt; | source &lt;chr&gt; | external_gene_name &lt;chr&gt; | external_gene_source &lt;chr&gt; | description &lt;chr&gt; | gene_biotype &lt;chr&gt; | length &lt;int&gt; | gc &lt;dbl&gt; | group &lt;chr&gt; | logFC &lt;dbl&gt; | AveExpr &lt;dbl&gt; | t &lt;dbl&gt; | P.Value &lt;dbl&gt; | adj.P.Val &lt;dbl&gt; | B &lt;dbl&gt; | direction &lt;chr&gt; |\n",
       "|---|---|---|---|---|---|---|---|---|---|---|---|---|---|---|---|---|---|\n",
       "| 1 | ENSMUSG00000000028 | 15 | ensembl_havana | Cdc45 | MGI Symbol | cell division cycle 45 [Source:MGI Symbol;Acc:MGI:1338073] | protein_coding | 3506 | 0.4962921 | LPS_8h        | -3.472169 | 3.097686 | -5.224250 | 6.014661e-06 | 3.276022e-05 |  3.8304187 | down |\n",
       "| 2 | ENSMUSG00000000028 | 15 | ensembl_havana | Cdc45 | MGI Symbol | cell division cycle 45 [Source:MGI Symbol;Acc:MGI:1338073] | protein_coding | 3506 | 0.4962921 | LO28_6h       | -2.141904 | 3.097686 | -3.562033 | 9.812481e-04 | 2.505076e-03 | -1.0748088 | down |\n",
       "| 3 | ENSMUSG00000000028 | 15 | ensembl_havana | Cdc45 | MGI Symbol | cell division cycle 45 [Source:MGI Symbol;Acc:MGI:1338073] | protein_coding | 3506 | 0.4962921 | IFN_beta_6h   | -1.827678 | 3.097686 | -3.442471 | 1.380388e-03 | 3.969044e-03 | -1.4727414 | down |\n",
       "| 4 | ENSMUSG00000000028 | 15 | ensembl_havana | Cdc45 | MGI Symbol | cell division cycle 45 [Source:MGI Symbol;Acc:MGI:1338073] | protein_coding | 3506 | 0.4962921 | LCMV_Cl13_24h | -1.775335 | 3.097686 | -3.632385 | 8.009786e-04 | 4.657678e-03 | -0.8547959 | down |\n",
       "| 5 | ENSMUSG00000000028 | 15 | ensembl_havana | Cdc45 | MGI Symbol | cell division cycle 45 [Source:MGI Symbol;Acc:MGI:1338073] | protein_coding | 3506 | 0.4962921 | IFN_beta_4h   | -1.182338 | 3.097686 | -2.448738 | 1.888964e-02 | 4.305215e-02 | -3.9544792 | down |\n",
       "| 6 | ENSMUSG00000000028 | 15 | ensembl_havana | Cdc45 | MGI Symbol | cell division cycle 45 [Source:MGI Symbol;Acc:MGI:1338073] | protein_coding | 3506 | 0.4962921 | LPS_24h       | -4.737483 | 3.097686 | -3.813135 | 4.722140e-04 | 3.642916e-03 | -0.0977867 | down |\n",
       "\n"
      ],
      "text/plain": [
       "  ensembl_gene_id    version source         external_gene_name\n",
       "1 ENSMUSG00000000028 15      ensembl_havana Cdc45             \n",
       "2 ENSMUSG00000000028 15      ensembl_havana Cdc45             \n",
       "3 ENSMUSG00000000028 15      ensembl_havana Cdc45             \n",
       "4 ENSMUSG00000000028 15      ensembl_havana Cdc45             \n",
       "5 ENSMUSG00000000028 15      ensembl_havana Cdc45             \n",
       "6 ENSMUSG00000000028 15      ensembl_havana Cdc45             \n",
       "  external_gene_source\n",
       "1 MGI Symbol          \n",
       "2 MGI Symbol          \n",
       "3 MGI Symbol          \n",
       "4 MGI Symbol          \n",
       "5 MGI Symbol          \n",
       "6 MGI Symbol          \n",
       "  description                                                gene_biotype  \n",
       "1 cell division cycle 45 [Source:MGI Symbol;Acc:MGI:1338073] protein_coding\n",
       "2 cell division cycle 45 [Source:MGI Symbol;Acc:MGI:1338073] protein_coding\n",
       "3 cell division cycle 45 [Source:MGI Symbol;Acc:MGI:1338073] protein_coding\n",
       "4 cell division cycle 45 [Source:MGI Symbol;Acc:MGI:1338073] protein_coding\n",
       "5 cell division cycle 45 [Source:MGI Symbol;Acc:MGI:1338073] protein_coding\n",
       "6 cell division cycle 45 [Source:MGI Symbol;Acc:MGI:1338073] protein_coding\n",
       "  length gc        group         logFC     AveExpr  t         P.Value     \n",
       "1 3506   0.4962921 LPS_8h        -3.472169 3.097686 -5.224250 6.014661e-06\n",
       "2 3506   0.4962921 LO28_6h       -2.141904 3.097686 -3.562033 9.812481e-04\n",
       "3 3506   0.4962921 IFN_beta_6h   -1.827678 3.097686 -3.442471 1.380388e-03\n",
       "4 3506   0.4962921 LCMV_Cl13_24h -1.775335 3.097686 -3.632385 8.009786e-04\n",
       "5 3506   0.4962921 IFN_beta_4h   -1.182338 3.097686 -2.448738 1.888964e-02\n",
       "6 3506   0.4962921 LPS_24h       -4.737483 3.097686 -3.813135 4.722140e-04\n",
       "  adj.P.Val    B          direction\n",
       "1 3.276022e-05  3.8304187 down     \n",
       "2 2.505076e-03 -1.0748088 down     \n",
       "3 3.969044e-03 -1.4727414 down     \n",
       "4 4.657678e-03 -0.8547959 down     \n",
       "5 4.305215e-02 -3.9544792 down     \n",
       "6 3.642916e-03 -0.0977867 down     "
      ]
     },
     "metadata": {},
     "output_type": "display_data"
    }
   ],
   "source": [
    "# load RNA DEA results\n",
    "rna_dea <- read.delim(file=file.path(data_RNA,'DEA','Significant.genes.tsv'), sep='\\t', header = TRUE)\n",
    "dim(rna_dea)\n",
    "head(rna_dea)"
   ]
  },
  {
   "cell_type": "code",
   "execution_count": 14,
   "id": "f14a40ec",
   "metadata": {},
   "outputs": [
    {
     "data": {
      "text/html": [
       "<style>\n",
       ".list-inline {list-style: none; margin:0; padding: 0}\n",
       ".list-inline>li {display: inline-block}\n",
       ".list-inline>li:not(:last-child)::after {content: \"\\00b7\"; padding: 0 .5ex}\n",
       "</style>\n",
       "<ol class=list-inline><li>22056</li><li>17</li></ol>\n"
      ],
      "text/latex": [
       "\\begin{enumerate*}\n",
       "\\item 22056\n",
       "\\item 17\n",
       "\\end{enumerate*}\n"
      ],
      "text/markdown": [
       "1. 22056\n",
       "2. 17\n",
       "\n",
       "\n"
      ],
      "text/plain": [
       "[1] 22056    17"
      ]
     },
     "metadata": {},
     "output_type": "display_data"
    },
    {
     "data": {
      "text/html": [
       "<table class=\"dataframe\">\n",
       "<caption>A data.frame: 6 × 17</caption>\n",
       "<thead>\n",
       "\t<tr><th></th><th scope=col>ensembl_gene_id</th><th scope=col>version</th><th scope=col>source</th><th scope=col>external_gene_name</th><th scope=col>external_gene_source</th><th scope=col>description</th><th scope=col>gene_biotype</th><th scope=col>length</th><th scope=col>gc</th><th scope=col>group</th><th scope=col>logFC</th><th scope=col>AveExpr</th><th scope=col>t</th><th scope=col>P.Value</th><th scope=col>adj.P.Val</th><th scope=col>B</th><th scope=col>direction</th></tr>\n",
       "\t<tr><th></th><th scope=col>&lt;chr&gt;</th><th scope=col>&lt;int&gt;</th><th scope=col>&lt;chr&gt;</th><th scope=col>&lt;chr&gt;</th><th scope=col>&lt;chr&gt;</th><th scope=col>&lt;chr&gt;</th><th scope=col>&lt;chr&gt;</th><th scope=col>&lt;int&gt;</th><th scope=col>&lt;dbl&gt;</th><th scope=col>&lt;chr&gt;</th><th scope=col>&lt;dbl&gt;</th><th scope=col>&lt;dbl&gt;</th><th scope=col>&lt;dbl&gt;</th><th scope=col>&lt;dbl&gt;</th><th scope=col>&lt;dbl&gt;</th><th scope=col>&lt;dbl&gt;</th><th scope=col>&lt;chr&gt;</th></tr>\n",
       "</thead>\n",
       "<tbody>\n",
       "\t<tr><th scope=row>1</th><td>ENSMUSG00000000028</td><td>15</td><td>ensembl_havana</td><td>Cdc45</td><td>MGI Symbol</td><td>cell division cycle 45 [Source:MGI Symbol;Acc:MGI:1338073]</td><td>protein_coding</td><td>3506</td><td>0.4962921</td><td>LPS_8h  </td><td>-3.472169</td><td>3.097686</td><td>-5.224250</td><td>6.014661e-06</td><td>3.276022e-05</td><td> 3.8304187</td><td>down</td></tr>\n",
       "\t<tr><th scope=row>2</th><td>ENSMUSG00000000028</td><td>15</td><td>ensembl_havana</td><td>Cdc45</td><td>MGI Symbol</td><td>cell division cycle 45 [Source:MGI Symbol;Acc:MGI:1338073]</td><td>protein_coding</td><td>3506</td><td>0.4962921</td><td>LO28_6h </td><td>-2.141904</td><td>3.097686</td><td>-3.562033</td><td>9.812481e-04</td><td>2.505076e-03</td><td>-1.0748088</td><td>down</td></tr>\n",
       "\t<tr><th scope=row>6</th><td>ENSMUSG00000000028</td><td>15</td><td>ensembl_havana</td><td>Cdc45</td><td>MGI Symbol</td><td>cell division cycle 45 [Source:MGI Symbol;Acc:MGI:1338073]</td><td>protein_coding</td><td>3506</td><td>0.4962921</td><td>LPS_24h </td><td>-4.737483</td><td>3.097686</td><td>-3.813135</td><td>4.722140e-04</td><td>3.642916e-03</td><td>-0.0977867</td><td>down</td></tr>\n",
       "\t<tr><th scope=row>8</th><td>ENSMUSG00000000028</td><td>15</td><td>ensembl_havana</td><td>Cdc45</td><td>MGI Symbol</td><td>cell division cycle 45 [Source:MGI Symbol;Acc:MGI:1338073]</td><td>protein_coding</td><td>3506</td><td>0.4962921</td><td>LO28_24h</td><td>-4.461169</td><td>3.097686</td><td>-4.902902</td><td>1.667343e-05</td><td>7.382125e-05</td><td> 2.9286268</td><td>down</td></tr>\n",
       "\t<tr><th scope=row>10</th><td>ENSMUSG00000000028</td><td>15</td><td>ensembl_havana</td><td>Cdc45</td><td>MGI Symbol</td><td>cell division cycle 45 [Source:MGI Symbol;Acc:MGI:1338073]</td><td>protein_coding</td><td>3506</td><td>0.4962921</td><td>LO28_8h </td><td>-2.995553</td><td>3.097686</td><td>-4.786143</td><td>2.408588e-05</td><td>9.100302e-05</td><td> 2.4851817</td><td>down</td></tr>\n",
       "\t<tr><th scope=row>12</th><td>ENSMUSG00000000028</td><td>15</td><td>ensembl_havana</td><td>Cdc45</td><td>MGI Symbol</td><td>cell division cycle 45 [Source:MGI Symbol;Acc:MGI:1338073]</td><td>protein_coding</td><td>3506</td><td>0.4962921</td><td>LPS_6h  </td><td>-3.695352</td><td>3.097686</td><td>-4.706786</td><td>3.089620e-05</td><td>1.338590e-04</td><td> 2.3237962</td><td>down</td></tr>\n",
       "</tbody>\n",
       "</table>\n"
      ],
      "text/latex": [
       "A data.frame: 6 × 17\n",
       "\\begin{tabular}{r|lllllllllllllllll}\n",
       "  & ensembl\\_gene\\_id & version & source & external\\_gene\\_name & external\\_gene\\_source & description & gene\\_biotype & length & gc & group & logFC & AveExpr & t & P.Value & adj.P.Val & B & direction\\\\\n",
       "  & <chr> & <int> & <chr> & <chr> & <chr> & <chr> & <chr> & <int> & <dbl> & <chr> & <dbl> & <dbl> & <dbl> & <dbl> & <dbl> & <dbl> & <chr>\\\\\n",
       "\\hline\n",
       "\t1 & ENSMUSG00000000028 & 15 & ensembl\\_havana & Cdc45 & MGI Symbol & cell division cycle 45 {[}Source:MGI Symbol;Acc:MGI:1338073{]} & protein\\_coding & 3506 & 0.4962921 & LPS\\_8h   & -3.472169 & 3.097686 & -5.224250 & 6.014661e-06 & 3.276022e-05 &  3.8304187 & down\\\\\n",
       "\t2 & ENSMUSG00000000028 & 15 & ensembl\\_havana & Cdc45 & MGI Symbol & cell division cycle 45 {[}Source:MGI Symbol;Acc:MGI:1338073{]} & protein\\_coding & 3506 & 0.4962921 & LO28\\_6h  & -2.141904 & 3.097686 & -3.562033 & 9.812481e-04 & 2.505076e-03 & -1.0748088 & down\\\\\n",
       "\t6 & ENSMUSG00000000028 & 15 & ensembl\\_havana & Cdc45 & MGI Symbol & cell division cycle 45 {[}Source:MGI Symbol;Acc:MGI:1338073{]} & protein\\_coding & 3506 & 0.4962921 & LPS\\_24h  & -4.737483 & 3.097686 & -3.813135 & 4.722140e-04 & 3.642916e-03 & -0.0977867 & down\\\\\n",
       "\t8 & ENSMUSG00000000028 & 15 & ensembl\\_havana & Cdc45 & MGI Symbol & cell division cycle 45 {[}Source:MGI Symbol;Acc:MGI:1338073{]} & protein\\_coding & 3506 & 0.4962921 & LO28\\_24h & -4.461169 & 3.097686 & -4.902902 & 1.667343e-05 & 7.382125e-05 &  2.9286268 & down\\\\\n",
       "\t10 & ENSMUSG00000000028 & 15 & ensembl\\_havana & Cdc45 & MGI Symbol & cell division cycle 45 {[}Source:MGI Symbol;Acc:MGI:1338073{]} & protein\\_coding & 3506 & 0.4962921 & LO28\\_8h  & -2.995553 & 3.097686 & -4.786143 & 2.408588e-05 & 9.100302e-05 &  2.4851817 & down\\\\\n",
       "\t12 & ENSMUSG00000000028 & 15 & ensembl\\_havana & Cdc45 & MGI Symbol & cell division cycle 45 {[}Source:MGI Symbol;Acc:MGI:1338073{]} & protein\\_coding & 3506 & 0.4962921 & LPS\\_6h   & -3.695352 & 3.097686 & -4.706786 & 3.089620e-05 & 1.338590e-04 &  2.3237962 & down\\\\\n",
       "\\end{tabular}\n"
      ],
      "text/markdown": [
       "\n",
       "A data.frame: 6 × 17\n",
       "\n",
       "| <!--/--> | ensembl_gene_id &lt;chr&gt; | version &lt;int&gt; | source &lt;chr&gt; | external_gene_name &lt;chr&gt; | external_gene_source &lt;chr&gt; | description &lt;chr&gt; | gene_biotype &lt;chr&gt; | length &lt;int&gt; | gc &lt;dbl&gt; | group &lt;chr&gt; | logFC &lt;dbl&gt; | AveExpr &lt;dbl&gt; | t &lt;dbl&gt; | P.Value &lt;dbl&gt; | adj.P.Val &lt;dbl&gt; | B &lt;dbl&gt; | direction &lt;chr&gt; |\n",
       "|---|---|---|---|---|---|---|---|---|---|---|---|---|---|---|---|---|---|\n",
       "| 1 | ENSMUSG00000000028 | 15 | ensembl_havana | Cdc45 | MGI Symbol | cell division cycle 45 [Source:MGI Symbol;Acc:MGI:1338073] | protein_coding | 3506 | 0.4962921 | LPS_8h   | -3.472169 | 3.097686 | -5.224250 | 6.014661e-06 | 3.276022e-05 |  3.8304187 | down |\n",
       "| 2 | ENSMUSG00000000028 | 15 | ensembl_havana | Cdc45 | MGI Symbol | cell division cycle 45 [Source:MGI Symbol;Acc:MGI:1338073] | protein_coding | 3506 | 0.4962921 | LO28_6h  | -2.141904 | 3.097686 | -3.562033 | 9.812481e-04 | 2.505076e-03 | -1.0748088 | down |\n",
       "| 6 | ENSMUSG00000000028 | 15 | ensembl_havana | Cdc45 | MGI Symbol | cell division cycle 45 [Source:MGI Symbol;Acc:MGI:1338073] | protein_coding | 3506 | 0.4962921 | LPS_24h  | -4.737483 | 3.097686 | -3.813135 | 4.722140e-04 | 3.642916e-03 | -0.0977867 | down |\n",
       "| 8 | ENSMUSG00000000028 | 15 | ensembl_havana | Cdc45 | MGI Symbol | cell division cycle 45 [Source:MGI Symbol;Acc:MGI:1338073] | protein_coding | 3506 | 0.4962921 | LO28_24h | -4.461169 | 3.097686 | -4.902902 | 1.667343e-05 | 7.382125e-05 |  2.9286268 | down |\n",
       "| 10 | ENSMUSG00000000028 | 15 | ensembl_havana | Cdc45 | MGI Symbol | cell division cycle 45 [Source:MGI Symbol;Acc:MGI:1338073] | protein_coding | 3506 | 0.4962921 | LO28_8h  | -2.995553 | 3.097686 | -4.786143 | 2.408588e-05 | 9.100302e-05 |  2.4851817 | down |\n",
       "| 12 | ENSMUSG00000000028 | 15 | ensembl_havana | Cdc45 | MGI Symbol | cell division cycle 45 [Source:MGI Symbol;Acc:MGI:1338073] | protein_coding | 3506 | 0.4962921 | LPS_6h   | -3.695352 | 3.097686 | -4.706786 | 3.089620e-05 | 1.338590e-04 |  2.3237962 | down |\n",
       "\n"
      ],
      "text/plain": [
       "   ensembl_gene_id    version source         external_gene_name\n",
       "1  ENSMUSG00000000028 15      ensembl_havana Cdc45             \n",
       "2  ENSMUSG00000000028 15      ensembl_havana Cdc45             \n",
       "6  ENSMUSG00000000028 15      ensembl_havana Cdc45             \n",
       "8  ENSMUSG00000000028 15      ensembl_havana Cdc45             \n",
       "10 ENSMUSG00000000028 15      ensembl_havana Cdc45             \n",
       "12 ENSMUSG00000000028 15      ensembl_havana Cdc45             \n",
       "   external_gene_source\n",
       "1  MGI Symbol          \n",
       "2  MGI Symbol          \n",
       "6  MGI Symbol          \n",
       "8  MGI Symbol          \n",
       "10 MGI Symbol          \n",
       "12 MGI Symbol          \n",
       "   description                                                gene_biotype  \n",
       "1  cell division cycle 45 [Source:MGI Symbol;Acc:MGI:1338073] protein_coding\n",
       "2  cell division cycle 45 [Source:MGI Symbol;Acc:MGI:1338073] protein_coding\n",
       "6  cell division cycle 45 [Source:MGI Symbol;Acc:MGI:1338073] protein_coding\n",
       "8  cell division cycle 45 [Source:MGI Symbol;Acc:MGI:1338073] protein_coding\n",
       "10 cell division cycle 45 [Source:MGI Symbol;Acc:MGI:1338073] protein_coding\n",
       "12 cell division cycle 45 [Source:MGI Symbol;Acc:MGI:1338073] protein_coding\n",
       "   length gc        group    logFC     AveExpr  t         P.Value     \n",
       "1  3506   0.4962921 LPS_8h   -3.472169 3.097686 -5.224250 6.014661e-06\n",
       "2  3506   0.4962921 LO28_6h  -2.141904 3.097686 -3.562033 9.812481e-04\n",
       "6  3506   0.4962921 LPS_24h  -4.737483 3.097686 -3.813135 4.722140e-04\n",
       "8  3506   0.4962921 LO28_24h -4.461169 3.097686 -4.902902 1.667343e-05\n",
       "10 3506   0.4962921 LO28_8h  -2.995553 3.097686 -4.786143 2.408588e-05\n",
       "12 3506   0.4962921 LPS_6h   -3.695352 3.097686 -4.706786 3.089620e-05\n",
       "   adj.P.Val    B          direction\n",
       "1  3.276022e-05  3.8304187 down     \n",
       "2  2.505076e-03 -1.0748088 down     \n",
       "6  3.642916e-03 -0.0977867 down     \n",
       "8  7.382125e-05  2.9286268 down     \n",
       "10 9.100302e-05  2.4851817 down     \n",
       "12 1.338590e-04  2.3237962 down     "
      ]
     },
     "metadata": {},
     "output_type": "display_data"
    }
   ],
   "source": [
    "# filter for stat. sign. and effect size\n",
    "rna_dea <- rna_dea[(rna_dea$adj.P.Val<0.05) & (abs(rna_dea$logFC)>2) & (rna_dea$AveExpr>1), ]\n",
    "dim(rna_dea)\n",
    "head(rna_dea)"
   ]
  },
  {
   "cell_type": "code",
   "execution_count": 15,
   "id": "82f9a6da",
   "metadata": {},
   "outputs": [],
   "source": [
    "dea_treatments <- data.frame(matrix(ncol = 0, nrow = length(unique(rna_dea$external_gene_name))))\n",
    "rownames(dea_treatments) <- unique(rna_dea$external_gene_name)\n",
    "for (treatment in treatments){\n",
    "    treatment_genes <- unique(rna_dea[grepl(treatment, rna_dea$group, fixed = TRUE),'external_gene_name'])\n",
    "    dea_treatments[treatment_genes, treatment] <- TRUE\n",
    "}\n",
    "dea_treatments[is.na(dea_treatments)] <- FALSE"
   ]
  },
  {
   "cell_type": "code",
   "execution_count": 16,
   "id": "bc0e16f1",
   "metadata": {},
   "outputs": [],
   "source": [
    "# in LCMV, LPS or LO28\n",
    "dea_treatments$LCMV_LPS_LO28 <- dea_treatments$LCMV_Cl13 | dea_treatments$LPS | dea_treatments$LO28"
   ]
  },
  {
   "cell_type": "code",
   "execution_count": 17,
   "id": "489c19f1",
   "metadata": {},
   "outputs": [],
   "source": [
    "# in LCMV, LPS or LO28 but NOT in IFN-beta\n",
    "dea_treatments$LCMV_LPS_LO28_notIFN_beta <- (dea_treatments$LCMV_LPS_LO28) & !(dea_treatments$IFN_beta)"
   ]
  },
  {
   "cell_type": "code",
   "execution_count": 18,
   "id": "2833e962",
   "metadata": {},
   "outputs": [
    {
     "data": {
      "text/html": [
       "<style>\n",
       ".list-inline {list-style: none; margin:0; padding: 0}\n",
       ".list-inline>li {display: inline-block}\n",
       ".list-inline>li:not(:last-child)::after {content: \"\\00b7\"; padding: 0 .5ex}\n",
       "</style>\n",
       "<ol class=list-inline><li>4756</li><li>8</li></ol>\n"
      ],
      "text/latex": [
       "\\begin{enumerate*}\n",
       "\\item 4756\n",
       "\\item 8\n",
       "\\end{enumerate*}\n"
      ],
      "text/markdown": [
       "1. 4756\n",
       "2. 8\n",
       "\n",
       "\n"
      ],
      "text/plain": [
       "[1] 4756    8"
      ]
     },
     "metadata": {},
     "output_type": "display_data"
    },
    {
     "data": {
      "text/html": [
       "<table class=\"dataframe\">\n",
       "<caption>A data.frame: 6 × 8</caption>\n",
       "<thead>\n",
       "\t<tr><th></th><th scope=col>C_albicans</th><th scope=col>IFN_beta</th><th scope=col>IFN_gamma</th><th scope=col>LCMV_Cl13</th><th scope=col>LO28</th><th scope=col>LPS</th><th scope=col>LCMV_LPS_LO28</th><th scope=col>LCMV_LPS_LO28_notIFN_beta</th></tr>\n",
       "\t<tr><th></th><th scope=col>&lt;lgl&gt;</th><th scope=col>&lt;lgl&gt;</th><th scope=col>&lt;lgl&gt;</th><th scope=col>&lt;lgl&gt;</th><th scope=col>&lt;lgl&gt;</th><th scope=col>&lt;lgl&gt;</th><th scope=col>&lt;lgl&gt;</th><th scope=col>&lt;lgl&gt;</th></tr>\n",
       "</thead>\n",
       "<tbody>\n",
       "\t<tr><th scope=row>Cdc45</th><td>FALSE</td><td>TRUE</td><td>FALSE</td><td>FALSE</td><td> TRUE</td><td> TRUE</td><td>TRUE</td><td>FALSE</td></tr>\n",
       "\t<tr><th scope=row>Narf</th><td>FALSE</td><td>TRUE</td><td>FALSE</td><td>FALSE</td><td> TRUE</td><td> TRUE</td><td>TRUE</td><td>FALSE</td></tr>\n",
       "\t<tr><th scope=row>Cav2</th><td>FALSE</td><td>TRUE</td><td>FALSE</td><td>FALSE</td><td>FALSE</td><td> TRUE</td><td>TRUE</td><td>FALSE</td></tr>\n",
       "\t<tr><th scope=row>Scmh1</th><td>FALSE</td><td>TRUE</td><td>FALSE</td><td>FALSE</td><td> TRUE</td><td> TRUE</td><td>TRUE</td><td>FALSE</td></tr>\n",
       "\t<tr><th scope=row>Brat1</th><td>FALSE</td><td>TRUE</td><td>FALSE</td><td>FALSE</td><td> TRUE</td><td>FALSE</td><td>TRUE</td><td>FALSE</td></tr>\n",
       "\t<tr><th scope=row>Gna12</th><td>FALSE</td><td>TRUE</td><td>FALSE</td><td>FALSE</td><td> TRUE</td><td> TRUE</td><td>TRUE</td><td>FALSE</td></tr>\n",
       "</tbody>\n",
       "</table>\n"
      ],
      "text/latex": [
       "A data.frame: 6 × 8\n",
       "\\begin{tabular}{r|llllllll}\n",
       "  & C\\_albicans & IFN\\_beta & IFN\\_gamma & LCMV\\_Cl13 & LO28 & LPS & LCMV\\_LPS\\_LO28 & LCMV\\_LPS\\_LO28\\_notIFN\\_beta\\\\\n",
       "  & <lgl> & <lgl> & <lgl> & <lgl> & <lgl> & <lgl> & <lgl> & <lgl>\\\\\n",
       "\\hline\n",
       "\tCdc45 & FALSE & TRUE & FALSE & FALSE &  TRUE &  TRUE & TRUE & FALSE\\\\\n",
       "\tNarf & FALSE & TRUE & FALSE & FALSE &  TRUE &  TRUE & TRUE & FALSE\\\\\n",
       "\tCav2 & FALSE & TRUE & FALSE & FALSE & FALSE &  TRUE & TRUE & FALSE\\\\\n",
       "\tScmh1 & FALSE & TRUE & FALSE & FALSE &  TRUE &  TRUE & TRUE & FALSE\\\\\n",
       "\tBrat1 & FALSE & TRUE & FALSE & FALSE &  TRUE & FALSE & TRUE & FALSE\\\\\n",
       "\tGna12 & FALSE & TRUE & FALSE & FALSE &  TRUE &  TRUE & TRUE & FALSE\\\\\n",
       "\\end{tabular}\n"
      ],
      "text/markdown": [
       "\n",
       "A data.frame: 6 × 8\n",
       "\n",
       "| <!--/--> | C_albicans &lt;lgl&gt; | IFN_beta &lt;lgl&gt; | IFN_gamma &lt;lgl&gt; | LCMV_Cl13 &lt;lgl&gt; | LO28 &lt;lgl&gt; | LPS &lt;lgl&gt; | LCMV_LPS_LO28 &lt;lgl&gt; | LCMV_LPS_LO28_notIFN_beta &lt;lgl&gt; |\n",
       "|---|---|---|---|---|---|---|---|---|\n",
       "| Cdc45 | FALSE | TRUE | FALSE | FALSE |  TRUE |  TRUE | TRUE | FALSE |\n",
       "| Narf | FALSE | TRUE | FALSE | FALSE |  TRUE |  TRUE | TRUE | FALSE |\n",
       "| Cav2 | FALSE | TRUE | FALSE | FALSE | FALSE |  TRUE | TRUE | FALSE |\n",
       "| Scmh1 | FALSE | TRUE | FALSE | FALSE |  TRUE |  TRUE | TRUE | FALSE |\n",
       "| Brat1 | FALSE | TRUE | FALSE | FALSE |  TRUE | FALSE | TRUE | FALSE |\n",
       "| Gna12 | FALSE | TRUE | FALSE | FALSE |  TRUE |  TRUE | TRUE | FALSE |\n",
       "\n"
      ],
      "text/plain": [
       "      C_albicans IFN_beta IFN_gamma LCMV_Cl13 LO28  LPS   LCMV_LPS_LO28\n",
       "Cdc45 FALSE      TRUE     FALSE     FALSE      TRUE  TRUE TRUE         \n",
       "Narf  FALSE      TRUE     FALSE     FALSE      TRUE  TRUE TRUE         \n",
       "Cav2  FALSE      TRUE     FALSE     FALSE     FALSE  TRUE TRUE         \n",
       "Scmh1 FALSE      TRUE     FALSE     FALSE      TRUE  TRUE TRUE         \n",
       "Brat1 FALSE      TRUE     FALSE     FALSE      TRUE FALSE TRUE         \n",
       "Gna12 FALSE      TRUE     FALSE     FALSE      TRUE  TRUE TRUE         \n",
       "      LCMV_LPS_LO28_notIFN_beta\n",
       "Cdc45 FALSE                    \n",
       "Narf  FALSE                    \n",
       "Cav2  FALSE                    \n",
       "Scmh1 FALSE                    \n",
       "Brat1 FALSE                    \n",
       "Gna12 FALSE                    "
      ]
     },
     "metadata": {},
     "output_type": "display_data"
    }
   ],
   "source": [
    "dim(dea_treatments)\n",
    "head(dea_treatments)"
   ]
  },
  {
   "cell_type": "code",
   "execution_count": 57,
   "id": "e8c1baee",
   "metadata": {},
   "outputs": [],
   "source": [
    "# save dataframe\n",
    "write.csv(dea_treatments, file.path(results_path, \"RNA_DEG_euler.csv\"))"
   ]
  },
  {
   "cell_type": "code",
   "execution_count": 58,
   "id": "cd1c902e",
   "metadata": {},
   "outputs": [],
   "source": [
    "set.seed(42)"
   ]
  },
  {
   "cell_type": "code",
   "execution_count": 59,
   "id": "ad1ea8b6",
   "metadata": {},
   "outputs": [
    {
     "data": {
      "text/html": [
       "<strong>png:</strong> 2"
      ],
      "text/latex": [
       "\\textbf{png:} 2"
      ],
      "text/markdown": [
       "**png:** 2"
      ],
      "text/plain": [
       "png \n",
       "  2 "
      ]
     },
     "metadata": {},
     "output_type": "display_data"
    }
   ],
   "source": [
    "svg(filename=file.path(results_path, \"RNA_DEG_euler_all.svg\"), width = 10, height = 10)\n",
    "\n",
    "dea_fit <- euler(dea_treatments[c('C_albicans','IFN_beta','IFN_gamma','LCMV_Cl13','LPS','LO28')],shape = \"ellipse\")\n",
    "plot(dea_fit, quantities = TRUE)\n",
    "\n",
    "dev.off()"
   ]
  },
  {
   "cell_type": "code",
   "execution_count": 60,
   "id": "8ae793e7",
   "metadata": {},
   "outputs": [
    {
     "data": {
      "text/html": [
       "<strong>png:</strong> 2"
      ],
      "text/latex": [
       "\\textbf{png:} 2"
      ],
      "text/markdown": [
       "**png:** 2"
      ],
      "text/plain": [
       "png \n",
       "  2 "
      ]
     },
     "metadata": {},
     "output_type": "display_data"
    }
   ],
   "source": [
    "svg(filename=file.path(results_path, \"RNA_DEG_euler_LCMV_LPS_LO28.svg\"), width = 4, height = 4)\n",
    "\n",
    "dea_fit <- euler(dea_treatments[c('LCMV_Cl13','LPS','LO28')],shape = \"ellipse\")\n",
    "plot(dea_fit, quantities = TRUE)\n",
    "\n",
    "dev.off()"
   ]
  },
  {
   "cell_type": "code",
   "execution_count": 19,
   "id": "deb815e7",
   "metadata": {
    "tags": []
   },
   "outputs": [
    {
     "data": {
      "text/html": [
       "<strong>png:</strong> 2"
      ],
      "text/latex": [
       "\\textbf{png:} 2"
      ],
      "text/markdown": [
       "**png:** 2"
      ],
      "text/plain": [
       "png \n",
       "  2 "
      ]
     },
     "metadata": {},
     "output_type": "display_data"
    }
   ],
   "source": [
    "svg(filename=file.path(results_path, \"RNA_DEG_euler_LCMV+LPS+LO28_IFN_beta.svg\"), width = 4, height = 4)\n",
    "\n",
    "dea_fit <- euler(dea_treatments[c('LCMV_LPS_LO28', 'IFN_beta')], shape = \"ellipse\")\n",
    "plot(dea_fit, quantities = TRUE)\n",
    "\n",
    "dev.off()"
   ]
  },
  {
   "cell_type": "code",
   "execution_count": 62,
   "id": "ce333732",
   "metadata": {},
   "outputs": [
    {
     "data": {
      "text/html": [
       "<strong>png:</strong> 2"
      ],
      "text/latex": [
       "\\textbf{png:} 2"
      ],
      "text/markdown": [
       "**png:** 2"
      ],
      "text/plain": [
       "png \n",
       "  2 "
      ]
     },
     "metadata": {},
     "output_type": "display_data"
    }
   ],
   "source": [
    "svg(filename=file.path(results_path, \"RNA_DEG_euler_LCMV+LPS+LO28_notIFN_beta.svg\"), width = 4, height = 4)\n",
    "\n",
    "dea_fit <- euler(dea_treatments[c('LCMV_LPS_LO28_notIFN_beta', 'IFN_beta')],shape = \"ellipse\")\n",
    "plot(dea_fit,quantities = TRUE)\n",
    "\n",
    "dev.off()"
   ]
  },
  {
   "cell_type": "markdown",
   "id": "ec054a81",
   "metadata": {},
   "source": [
    "# Time Series - Enrichment Analysis per Treatment"
   ]
  },
  {
   "cell_type": "markdown",
   "id": "5193370d",
   "metadata": {},
   "source": [
    "## RNA"
   ]
  },
  {
   "cell_type": "code",
   "execution_count": 89,
   "id": "7801c057",
   "metadata": {},
   "outputs": [],
   "source": [
    "# mode <- 'selected' #'data_driven'\n",
    "# treatment <- 'LO28'"
   ]
  },
  {
   "cell_type": "code",
   "execution_count": 90,
   "id": "fa7f42e6",
   "metadata": {
    "tags": []
   },
   "outputs": [
    {
     "name": "stdout",
     "output_type": "stream",
     "text": [
      "[1] 5.376289\n"
     ]
    },
    {
     "name": "stderr",
     "output_type": "stream",
     "text": [
      "Warning message in melt(tmp_enrichments):\n",
      "“The melt generic in data.table has been passed a data.frame and will attempt to redirect to the relevant reshape2 method; please note that reshape2 is deprecated, and this redirection is now deprecated as well. To continue using melt methods from reshape2 while both libraries are attached, e.g. melt.list, you can prepend the namespace like reshape2::melt(tmp_enrichments). In the next version, this warning will become an error.”\n",
      "Using terms as id variables\n",
      "\n",
      "Warning message in melt(t(RNA_DEG_new)):\n",
      "“The melt generic in data.table has been passed a matrix and will attempt to redirect to the relevant reshape2 method; please note that reshape2 is deprecated, and this redirection is now deprecated as well. To continue using melt methods from reshape2 while both libraries are attached, e.g. melt.list, you can prepend the namespace like reshape2::melt(t(RNA_DEG_new)). In the next version, this warning will become an error.”\n"
     ]
    },
    {
     "name": "stdout",
     "output_type": "stream",
     "text": [
      "[1] 5.463484\n"
     ]
    },
    {
     "name": "stderr",
     "output_type": "stream",
     "text": [
      "Warning message in melt(tmp_enrichments):\n",
      "“The melt generic in data.table has been passed a data.frame and will attempt to redirect to the relevant reshape2 method; please note that reshape2 is deprecated, and this redirection is now deprecated as well. To continue using melt methods from reshape2 while both libraries are attached, e.g. melt.list, you can prepend the namespace like reshape2::melt(tmp_enrichments). In the next version, this warning will become an error.”\n",
      "Using terms as id variables\n",
      "\n",
      "Warning message in melt(t(RNA_DEG_new)):\n",
      "“The melt generic in data.table has been passed a matrix and will attempt to redirect to the relevant reshape2 method; please note that reshape2 is deprecated, and this redirection is now deprecated as well. To continue using melt methods from reshape2 while both libraries are attached, e.g. melt.list, you can prepend the namespace like reshape2::melt(t(RNA_DEG_new)). In the next version, this warning will become an error.”\n"
     ]
    },
    {
     "name": "stdout",
     "output_type": "stream",
     "text": [
      "[1] 6.701143\n"
     ]
    },
    {
     "name": "stderr",
     "output_type": "stream",
     "text": [
      "Warning message in melt(tmp_enrichments):\n",
      "“The melt generic in data.table has been passed a data.frame and will attempt to redirect to the relevant reshape2 method; please note that reshape2 is deprecated, and this redirection is now deprecated as well. To continue using melt methods from reshape2 while both libraries are attached, e.g. melt.list, you can prepend the namespace like reshape2::melt(tmp_enrichments). In the next version, this warning will become an error.”\n",
      "Using terms as id variables\n",
      "\n",
      "Warning message in melt(t(RNA_DEG_new)):\n",
      "“The melt generic in data.table has been passed a matrix and will attempt to redirect to the relevant reshape2 method; please note that reshape2 is deprecated, and this redirection is now deprecated as well. To continue using melt methods from reshape2 while both libraries are attached, e.g. melt.list, you can prepend the namespace like reshape2::melt(t(RNA_DEG_new)). In the next version, this warning will become an error.”\n"
     ]
    },
    {
     "name": "stdout",
     "output_type": "stream",
     "text": [
      "[1] 3.811915\n"
     ]
    },
    {
     "name": "stderr",
     "output_type": "stream",
     "text": [
      "Warning message in melt(tmp_enrichments):\n",
      "“The melt generic in data.table has been passed a data.frame and will attempt to redirect to the relevant reshape2 method; please note that reshape2 is deprecated, and this redirection is now deprecated as well. To continue using melt methods from reshape2 while both libraries are attached, e.g. melt.list, you can prepend the namespace like reshape2::melt(tmp_enrichments). In the next version, this warning will become an error.”\n",
      "Using terms as id variables\n",
      "\n",
      "Warning message in melt(t(RNA_DEG_new)):\n",
      "“The melt generic in data.table has been passed a matrix and will attempt to redirect to the relevant reshape2 method; please note that reshape2 is deprecated, and this redirection is now deprecated as well. To continue using melt methods from reshape2 while both libraries are attached, e.g. melt.list, you can prepend the namespace like reshape2::melt(t(RNA_DEG_new)). In the next version, this warning will become an error.”\n"
     ]
    },
    {
     "name": "stdout",
     "output_type": "stream",
     "text": [
      "[1] 5.166277\n"
     ]
    },
    {
     "name": "stderr",
     "output_type": "stream",
     "text": [
      "Warning message in melt(tmp_enrichments):\n",
      "“The melt generic in data.table has been passed a data.frame and will attempt to redirect to the relevant reshape2 method; please note that reshape2 is deprecated, and this redirection is now deprecated as well. To continue using melt methods from reshape2 while both libraries are attached, e.g. melt.list, you can prepend the namespace like reshape2::melt(tmp_enrichments). In the next version, this warning will become an error.”\n",
      "Using terms as id variables\n",
      "\n",
      "Warning message in melt(t(RNA_DEG_new)):\n",
      "“The melt generic in data.table has been passed a matrix and will attempt to redirect to the relevant reshape2 method; please note that reshape2 is deprecated, and this redirection is now deprecated as well. To continue using melt methods from reshape2 while both libraries are attached, e.g. melt.list, you can prepend the namespace like reshape2::melt(t(RNA_DEG_new)). In the next version, this warning will become an error.”\n"
     ]
    },
    {
     "name": "stdout",
     "output_type": "stream",
     "text": [
      "[1] 5.014176\n"
     ]
    },
    {
     "name": "stderr",
     "output_type": "stream",
     "text": [
      "Warning message in melt(tmp_enrichments):\n",
      "“The melt generic in data.table has been passed a data.frame and will attempt to redirect to the relevant reshape2 method; please note that reshape2 is deprecated, and this redirection is now deprecated as well. To continue using melt methods from reshape2 while both libraries are attached, e.g. melt.list, you can prepend the namespace like reshape2::melt(tmp_enrichments). In the next version, this warning will become an error.”\n",
      "Using terms as id variables\n",
      "\n",
      "Warning message in melt(t(RNA_DEG_new)):\n",
      "“The melt generic in data.table has been passed a matrix and will attempt to redirect to the relevant reshape2 method; please note that reshape2 is deprecated, and this redirection is now deprecated as well. To continue using melt methods from reshape2 while both libraries are attached, e.g. melt.list, you can prepend the namespace like reshape2::melt(t(RNA_DEG_new)). In the next version, this warning will become an error.”\n",
      "Warning message:\n",
      "“Removed 20 rows containing missing values (geom_point).”\n",
      "Warning message:\n",
      "“Removed 55 rows containing missing values (geom_point).”\n",
      "Warning message:\n",
      "“Removed 25 rows containing missing values (geom_point).”\n",
      "Warning message:\n",
      "“Removed 23 rows containing missing values (geom_point).”\n",
      "Warning message:\n",
      "“Removed 148 rows containing missing values (geom_point).”\n",
      "Warning message:\n",
      "“Removed 121 rows containing missing values (geom_point).”\n",
      "Warning message:\n",
      "“Removed 20 rows containing missing values (geom_point).”\n",
      "Warning message:\n",
      "“Removed 55 rows containing missing values (geom_point).”\n",
      "Warning message:\n",
      "“Removed 25 rows containing missing values (geom_point).”\n",
      "Warning message:\n",
      "“Removed 23 rows containing missing values (geom_point).”\n",
      "Warning message:\n",
      "“Removed 148 rows containing missing values (geom_point).”\n",
      "Warning message:\n",
      "“Removed 121 rows containing missing values (geom_point).”\n"
     ]
    }
   ],
   "source": [
    "for (mode in c('data_driven')){ #'selected',\n",
    "    \n",
    "    mode_plots <- list()\n",
    "    heights <- list()\n",
    "    \n",
    "    for (treatment in unique(RNA_annot$Treatment)){\n",
    "        if (treatment=='untreated'){\n",
    "            next\n",
    "        }\n",
    "    \n",
    "        # configs\n",
    "        k_RNA <- timeseries_k[treatment, 'RNA']\n",
    "        # relevant only for data driven\n",
    "        top_n <- ceiling(25/k_RNA)\n",
    "\n",
    "        db <- timeseries_enrichment_terms[treatment, 'RNA_database']\n",
    "\n",
    "        if (mode=='data_driven'){\n",
    "            # load adjusted p-values & select most significant terms for each cluster\n",
    "            tmp_adjpvalues <- read.delim(file=file.path(data_RNA, \n",
    "                                                         \"enrichment_analysis\", \n",
    "                                                         \"time_series\", \n",
    "                                                         treatment, \n",
    "                                                         paste0('k_', k_RNA), \n",
    "                                                         paste0('summary_',db,'_adjpvalues.csv')\n",
    "                                                        ), \n",
    "                                          sep=',', header = TRUE, row.names=1)\n",
    "\n",
    "            # remove all columns with not one single significant hit\n",
    "            tmp_adjpvalues <- tmp_adjpvalues[,colSums(is.na(tmp_adjpvalues))<nrow(tmp_adjpvalues)]\n",
    "\n",
    "            # identify most significant term per group\n",
    "            #tmp_terms <- unique(as.vector(sapply(tmp_adjpvalues, function(x) rownames(tmp_adjpvalues)[sort(x, index.return = TRUE)$ix][1:top_n])))\n",
    "            #unique(sapply(tmp_adjpvalues, function(x) rownames(tmp_adjpvalues)[sort(x, index.return = TRUE)$ix][1:top_n]))\n",
    "            tmp_terms <- unique(as.vector(sapply(tmp_adjpvalues, function(x) rownames(tmp_adjpvalues)[order(x)][1:top_n])))\n",
    "\n",
    "\n",
    "            # load odds ratios of enrichment results\n",
    "            tmp_enrichments <- read.delim(file=file.path(data_RNA, \n",
    "                                                         \"enrichment_analysis\", \n",
    "                                                         \"time_series\", \n",
    "                                                         treatment, \n",
    "                                                         paste0('k_', k_RNA), \n",
    "                                                         paste0('summary_',db,'_oddsratio.csv')\n",
    "                                                        ), \n",
    "                                          sep=',', header = TRUE, row.names=1)\n",
    "\n",
    "            # filter by selected enrichment terms\n",
    "            tmp_enrichments <- tmp_enrichments[tmp_terms,]\n",
    "        }\n",
    "\n",
    "        if (mode=='selected'){\n",
    "            # load odds ratios of enrichment results\n",
    "            tmp_enrichments <- read.delim(file=file.path(data_RNA, \n",
    "                                                         \"enrichment_analysis\", \n",
    "                                                         \"time_series\", \n",
    "                                                         treatment, \n",
    "                                                         paste0('k_', k_RNA), \n",
    "                                                         paste0('summary_',db,'_oddsratio.csv')\n",
    "                                                        ), \n",
    "                                          sep=',', header = TRUE, row.names=1)\n",
    "\n",
    "            tmp_terms <- unique(str_split(string = timeseries_enrichment_terms[treatment,'RNA_terms'], pattern = ' \\\\| ')[[1]])\n",
    "\n",
    "            # filter by selected enrichment terms\n",
    "            tmp_enrichments <- tmp_enrichments[tmp_terms,]\n",
    "        }\n",
    "                                                 \n",
    "        ## prepare data for plotting\n",
    "        # fill NA and below 1 with 1\n",
    "        tmp_enrichments[is.na(tmp_enrichments)] <- 1\n",
    "        tmp_enrichments[tmp_enrichments<1] <- 1\n",
    "        print(log2(max(tmp_enrichments)))\n",
    "        # perform hierarchical clustering on the log2 odds ratios of the terms\n",
    "        hc_RNA_rows <- hclust(dist(log2(tmp_enrichments)))#, method=\"single\")\n",
    "        hc_RNA_cols <- hclust(dist(t(log2(tmp_enrichments))))#, method=\"single\")\n",
    "        tmp_enrichments <- tmp_enrichments[hc_RNA_rows$order,hc_RNA_cols$order]\n",
    "        # add column for terms\n",
    "        tmp_enrichments$terms <- rownames(tmp_enrichments)\n",
    "        # melt data frame for plotting\n",
    "        plot_enrichments <- melt(tmp_enrichments)\n",
    "        # rename columns\n",
    "        colnames(plot_enrichments) <- c('terms','cluster', 'odds_ratio')\n",
    "\n",
    "        # load adjusted p-values\n",
    "        tmp_adjpvalues <- read.delim(file=file.path(data_RNA, \n",
    "                                                     \"enrichment_analysis\", \n",
    "                                                     \"time_series\", \n",
    "                                                     treatment, \n",
    "                                                     paste0('k_', k_RNA), \n",
    "                                                     paste0('summary_',db,'_adjpvalues.csv')\n",
    "                                                    ), \n",
    "                                      sep=',', header = TRUE, row.names=1)\n",
    "\n",
    "        # add adjusted p-values to plot dataframe\n",
    "        plot_enrichments$adjpvalues <- apply(plot_enrichments, 1, function(x) tmp_adjpvalues[x[1], x[2]])\n",
    "\n",
    "        plot_enrichments$terms <- remove_term_suffix(db=db, terms=plot_enrichments$terms)\n",
    "\n",
    "        # calculate & cap -log10(pvalue)\n",
    "        plot_enrichments$adjpvalues <- -log10(plot_enrichments$adjpvalues)\n",
    "        plot_enrichments$adjpvalues[plot_enrichments$adjpvalues>4] <- 4\n",
    "\n",
    "        plot_enrichments$odds_ratio[plot_enrichments$odds_ratio<=1] <- NA\n",
    "\n",
    "        # ensure that the order of terms is kept\n",
    "        plot_enrichments$terms <- factor(plot_enrichments$terms,levels=rev(unique(plot_enrichments$terms)))\n",
    "        plot_enrichments$cluster <- factor(plot_enrichments$cluster, levels=rev(unique(plot_enrichments$cluster)))\n",
    "\n",
    "#         dim(plot_enrichments)\n",
    "#         head(plot_enrichments)\n",
    "\n",
    "        cluster_labels <- str_split(rev(levels(plot_enrichments$cluster)), '_', simplify=TRUE)[,2]\n",
    "        cluster_labels <- as.character(as.roman(cluster_labels))\n",
    "        names(cluster_labels) <- rev(levels(plot_enrichments$cluster))\n",
    "\n",
    "#         width <- 6\n",
    "#         height <- 5\n",
    "#         options(repr.plot.width=width, repr.plot.height=height)\n",
    "\n",
    "        RNA_DEG_enr_p <- ggplot(plot_enrichments, aes(x=terms, y=cluster, fill=adjpvalues, size=log2(odds_ratio)))+ \n",
    "        # geom_point() +\n",
    "        geom_point(shape=21, stroke=0.25) +\n",
    "        # scale_color_gradient(low=\"grey\", high=\"red\") +\n",
    "        scale_fill_gradient(low=\"grey\", high=\"red\", breaks = c(1, 2, 3, 4), limits = c(0, 4)) +\n",
    "        scale_x_discrete() + #label=addline_format\n",
    "        scale_size_continuous(\n",
    "#             range = c(0.5,5) \n",
    "            breaks = c(1, 3, 5, 7),\n",
    "            limits = c(0, 7)\n",
    "        ) +\n",
    "        macro_theme() +\n",
    "        scale_y_discrete(limits = rev(levels(plot_enrichments$cluster)), labels = cluster_labels) +\n",
    "        labs(title = treatment_format(treatment)) + \n",
    "        theme(axis.text.x = element_text(angle = 45, hjust = 1, vjust=1),\n",
    "              axis.title.x=element_blank(),\n",
    "              axis.title.y=element_blank())\n",
    "\n",
    "#         RNA_DEG_enr_p\n",
    "\n",
    "        # load RNA time-series clustering\n",
    "        RNA_clustering <- read.delim(file=file.path(data_RNA, \"time_series\", treatment, paste0('k_',k_RNA), paste0('clustering_',treatment,'.csv')), sep=',', header = TRUE, row.names=2)\n",
    "        RNA_clustering[,1] <- NULL\n",
    "        colnames(RNA_clustering) <- c('gene','cluster')\n",
    "                                             \n",
    "#         dim(RNA_clustering)\n",
    "#         head(RNA_clustering)\n",
    "\n",
    "        # load RNA DEA results for individual cluster plots\n",
    "        RNA_DEG <- read.delim(file=file.path(data_RNA,'DEA',paste0('DEA_',treatment,'.tsv')), sep = '\\t', header = TRUE)\n",
    "        RNA_DEG <- RNA_DEG[, c('group', 'rn', 'logFC')]\n",
    "                                             \n",
    "#         dim(RNA_DEG)\n",
    "#         head(RNA_DEG)\n",
    "\n",
    "        times <- c('2h','4h','6h','8h','24h')\n",
    "        RNA_DEG_new <- data.frame()\n",
    "        for (time in times){\n",
    "            tmp_df <- RNA_DEG[RNA_DEG$group==paste0(treatment,'_',time),c('rn','logFC')]\n",
    "            colnames(tmp_df) <- c('rn',time)\n",
    "            if (dim(RNA_DEG_new)[1]==0){\n",
    "                RNA_DEG_new <- tmp_df\n",
    "            }\n",
    "            else{\n",
    "                RNA_DEG_new <- merge(RNA_DEG_new, tmp_df, by='rn')\n",
    "            }\n",
    "\n",
    "        }\n",
    "\n",
    "        rownames(RNA_DEG_new) <- RNA_DEG_new$rn\n",
    "        RNA_DEG_new$rn <- NULL\n",
    "        # colnames(RNA_DEG_new) <- str_remove(colnames(RNA_DEG_new), paste0(treatment,'_'))\n",
    "        colnames(RNA_DEG_new) <- str_remove(colnames(RNA_DEG_new), 'h')\n",
    "\n",
    "        RNA_DEG_new <- RNA_DEG_new[rownames(RNA_clustering),]\n",
    "\n",
    "        # add time point 0h with values 0\n",
    "        RNA_DEG_new[,'0'] <- 0\n",
    "\n",
    "#         dim(RNA_DEG_new)\n",
    "#         head(RNA_DEG_new)\n",
    "\n",
    "        RNA_DEG_plot <- melt(t(RNA_DEG_new))\n",
    "        RNA_DEG_plot$Var1 <- factor(RNA_DEG_plot$Var1, levels=c(\"0\", \"2\", \"4\", \"6\", \"8\", \"24\"))\n",
    "        \n",
    "#         head(RNA_DEG_plot)\n",
    "\n",
    "        # get order of clusters from enrichment plot \n",
    "        clusters_ordered <- as.numeric(str_split(levels(plot_enrichments$cluster),'_', simplify = TRUE)[,2])\n",
    "#         clusters_ordered\n",
    "\n",
    "        # make RNA time-series cluster plots\n",
    "        RNA_DEG_p <- list()\n",
    "\n",
    "        for (cluster in unique(RNA_clustering$cluster)){\n",
    "            tmp_idx <- (RNA_DEG_plot$Var2 %in% rownames(RNA_clustering)[RNA_clustering$cluster==cluster])\n",
    "            tmp_cluster_p <- ggplot(RNA_DEG_plot[tmp_idx,], aes(x=Var1, y=value, group=Var2)) +\n",
    "            geom_line(size=0.5, alpha=0.05, color=cluster_colors[cluster]) +\n",
    "        #     facet_grid(. ~ cluster) +\n",
    "            scale_x_discrete(expand = expansion(add = 0))+\n",
    "            scale_y_continuous(breaks=c(-4,0,4)) +\n",
    "        #     scale_y_continuous(breaks=c(0)) + # only zero\n",
    "            macro_theme() + \n",
    "            theme(\n",
    "                axis.title.x=element_blank(),\n",
    "                axis.title.y=element_blank(), \n",
    "                plot.margin = unit(c(0,0,0,0), \"cm\"),\n",
    "                plot.title = element_text(hjust = 0.5) # not necessary\n",
    "        #         strip.background =element_rect(fill=treatment_colors[treatment]), \n",
    "        #         strip.text = element_text(colour = 'black'),\n",
    "        #         panel.border = element_rect(colour = \"black\", fill=NA, size=1)\n",
    "            )\n",
    "\n",
    "            # last entry can keep the x axis labels                                 \n",
    "            if(cluster==clusters_ordered[length(clusters_ordered)]){ #max(unique(RNA_clustering$cluster))){\n",
    "                RNA_DEG_p[[cluster]] <- tmp_cluster_p\n",
    "            }\n",
    "            else{\n",
    "                RNA_DEG_p[[cluster]] <- tmp_cluster_p + theme(axis.text.x = element_blank(), axis.ticks.x = element_blank())\n",
    "            }\n",
    "\n",
    "        }\n",
    "\n",
    "#         width <- 1\n",
    "#         height <- 5\n",
    "#         options(repr.plot.width=width, repr.plot.height=height)\n",
    "\n",
    "        # plot all RNA time-series clusters \n",
    "        RNA_DEG_all_p <- wrap_plots(RNA_DEG_p[clusters_ordered], ncol = 1)\n",
    "#         RNA_DEG_all_p\n",
    "\n",
    "#         width <- 7\n",
    "#         height <- 0.5 * k_RNA + 2\n",
    "#         options(repr.plot.width=width, repr.plot.height=height)\n",
    "\n",
    "        # putting the RNA time-series clusters and enrichment together\n",
    "        RNA_treatment_p <- (RNA_DEG_all_p | RNA_DEG_enr_p + theme(axis.ticks.y = element_blank())) + plot_layout(widths = c(1, 11))\n",
    "#         RNA_treatment_p\n",
    "\n",
    "#         # save plot\n",
    "#         ggsave_new(filename=paste0(\"RNA_enrichment_\",treatment,\"_\",mode),\n",
    "#                    results_path=results_path,\n",
    "#                    plot=RNA_treatment_p,\n",
    "#                    width=width,\n",
    "#                    height=height\n",
    "#                   )\n",
    "                                             \n",
    "        mode_plots[[treatment]] <- RNA_treatment_p\n",
    "        heights[[treatment]] <- k_RNA\n",
    "    }\n",
    "                                             \n",
    "    # save plot\n",
    "    ggsave_new(filename=paste0(\"RNA_enrichment_\",mode),\n",
    "               results_path=results_path,\n",
    "               plot=wrap_plots(mode_plots, ncol=1, guides = \"collect\", heights = heights),\n",
    "               width=12,\n",
    "               height=22\n",
    "              )\n",
    "}"
   ]
  },
  {
   "cell_type": "markdown",
   "id": "6d358797",
   "metadata": {},
   "source": [
    "## ATAC"
   ]
  },
  {
   "cell_type": "code",
   "execution_count": 91,
   "id": "273a01be",
   "metadata": {
    "tags": []
   },
   "outputs": [
    {
     "name": "stdout",
     "output_type": "stream",
     "text": [
      "[1] 4.25226\n"
     ]
    },
    {
     "name": "stderr",
     "output_type": "stream",
     "text": [
      "Warning message in melt(tmp_enrichments, id.vars = \"terms\"):\n",
      "“The melt generic in data.table has been passed a data.frame and will attempt to redirect to the relevant reshape2 method; please note that reshape2 is deprecated, and this redirection is now deprecated as well. To continue using melt methods from reshape2 while both libraries are attached, e.g. melt.list, you can prepend the namespace like reshape2::melt(tmp_enrichments). In the next version, this warning will become an error.”\n",
      "Warning message in melt(t(ATAC_DEG_new)):\n",
      "“The melt generic in data.table has been passed a matrix and will attempt to redirect to the relevant reshape2 method; please note that reshape2 is deprecated, and this redirection is now deprecated as well. To continue using melt methods from reshape2 while both libraries are attached, e.g. melt.list, you can prepend the namespace like reshape2::melt(t(ATAC_DEG_new)). In the next version, this warning will become an error.”\n"
     ]
    },
    {
     "name": "stdout",
     "output_type": "stream",
     "text": [
      "[1] 3.488796\n"
     ]
    },
    {
     "name": "stderr",
     "output_type": "stream",
     "text": [
      "Warning message in melt(tmp_enrichments, id.vars = \"terms\"):\n",
      "“The melt generic in data.table has been passed a data.frame and will attempt to redirect to the relevant reshape2 method; please note that reshape2 is deprecated, and this redirection is now deprecated as well. To continue using melt methods from reshape2 while both libraries are attached, e.g. melt.list, you can prepend the namespace like reshape2::melt(tmp_enrichments). In the next version, this warning will become an error.”\n",
      "Warning message in melt(t(ATAC_DEG_new)):\n",
      "“The melt generic in data.table has been passed a matrix and will attempt to redirect to the relevant reshape2 method; please note that reshape2 is deprecated, and this redirection is now deprecated as well. To continue using melt methods from reshape2 while both libraries are attached, e.g. melt.list, you can prepend the namespace like reshape2::melt(t(ATAC_DEG_new)). In the next version, this warning will become an error.”\n"
     ]
    },
    {
     "name": "stdout",
     "output_type": "stream",
     "text": [
      "[1] 3.130446\n"
     ]
    },
    {
     "name": "stderr",
     "output_type": "stream",
     "text": [
      "Warning message in melt(tmp_enrichments, id.vars = \"terms\"):\n",
      "“The melt generic in data.table has been passed a data.frame and will attempt to redirect to the relevant reshape2 method; please note that reshape2 is deprecated, and this redirection is now deprecated as well. To continue using melt methods from reshape2 while both libraries are attached, e.g. melt.list, you can prepend the namespace like reshape2::melt(tmp_enrichments). In the next version, this warning will become an error.”\n",
      "Warning message in melt(t(ATAC_DEG_new)):\n",
      "“The melt generic in data.table has been passed a matrix and will attempt to redirect to the relevant reshape2 method; please note that reshape2 is deprecated, and this redirection is now deprecated as well. To continue using melt methods from reshape2 while both libraries are attached, e.g. melt.list, you can prepend the namespace like reshape2::melt(t(ATAC_DEG_new)). In the next version, this warning will become an error.”\n"
     ]
    },
    {
     "name": "stdout",
     "output_type": "stream",
     "text": [
      "[1] 2.796031\n"
     ]
    },
    {
     "name": "stderr",
     "output_type": "stream",
     "text": [
      "Warning message in melt(tmp_enrichments, id.vars = \"terms\"):\n",
      "“The melt generic in data.table has been passed a data.frame and will attempt to redirect to the relevant reshape2 method; please note that reshape2 is deprecated, and this redirection is now deprecated as well. To continue using melt methods from reshape2 while both libraries are attached, e.g. melt.list, you can prepend the namespace like reshape2::melt(tmp_enrichments). In the next version, this warning will become an error.”\n",
      "Warning message in melt(t(ATAC_DEG_new)):\n",
      "“The melt generic in data.table has been passed a matrix and will attempt to redirect to the relevant reshape2 method; please note that reshape2 is deprecated, and this redirection is now deprecated as well. To continue using melt methods from reshape2 while both libraries are attached, e.g. melt.list, you can prepend the namespace like reshape2::melt(t(ATAC_DEG_new)). In the next version, this warning will become an error.”\n"
     ]
    },
    {
     "name": "stdout",
     "output_type": "stream",
     "text": [
      "[1] 1.984927\n"
     ]
    },
    {
     "name": "stderr",
     "output_type": "stream",
     "text": [
      "Warning message in melt(tmp_enrichments, id.vars = \"terms\"):\n",
      "“The melt generic in data.table has been passed a data.frame and will attempt to redirect to the relevant reshape2 method; please note that reshape2 is deprecated, and this redirection is now deprecated as well. To continue using melt methods from reshape2 while both libraries are attached, e.g. melt.list, you can prepend the namespace like reshape2::melt(tmp_enrichments). In the next version, this warning will become an error.”\n",
      "Warning message in melt(t(ATAC_DEG_new)):\n",
      "“The melt generic in data.table has been passed a matrix and will attempt to redirect to the relevant reshape2 method; please note that reshape2 is deprecated, and this redirection is now deprecated as well. To continue using melt methods from reshape2 while both libraries are attached, e.g. melt.list, you can prepend the namespace like reshape2::melt(t(ATAC_DEG_new)). In the next version, this warning will become an error.”\n",
      "Warning message:\n",
      "“Removed 41 rows containing missing values (geom_point).”\n",
      "Warning message:\n",
      "“Removed 45 rows containing missing values (geom_point).”\n",
      "Warning message:\n",
      "“Removed 2 rows containing missing values (geom_point).”\n",
      "Warning message:\n",
      "“Removed 45 rows containing missing values (geom_point).”\n",
      "Warning message:\n",
      "“Removed 22 rows containing missing values (geom_point).”\n",
      "Warning message:\n",
      "“Removed 41 rows containing missing values (geom_point).”\n",
      "Warning message:\n",
      "“Removed 45 rows containing missing values (geom_point).”\n",
      "Warning message:\n",
      "“Removed 2 rows containing missing values (geom_point).”\n",
      "Warning message:\n",
      "“Removed 45 rows containing missing values (geom_point).”\n",
      "Warning message:\n",
      "“Removed 22 rows containing missing values (geom_point).”\n"
     ]
    }
   ],
   "source": [
    "for (mode in c('data_driven')){ #'selected',\n",
    "    \n",
    "    mode_plots <- list()\n",
    "    heights <- list()\n",
    "    \n",
    "    for (treatment in unique(ATAC_annot$Treatment)){\n",
    "        if (treatment=='untreated'){\n",
    "            next\n",
    "        }\n",
    "    \n",
    "        # configs\n",
    "        k_ATAC <- timeseries_k[treatment, 'ATAC']\n",
    "        # relevant only for data driven\n",
    "        top_n <- ceiling(25/k_ATAC)\n",
    "\n",
    "        db <- timeseries_enrichment_terms[treatment, 'ATAC_database']\n",
    "        \n",
    "        if (mode=='data_driven'){\n",
    "            # load adjusted p-values & select most significant terms for each cluster\n",
    "            tmp_adjpvalues <- read.delim(file=file.path(data_ATAC, \n",
    "                                                         \"enrichment_analysis\", \n",
    "                                                         \"time_series\", \n",
    "                                                         paste0(treatment,'_k', k_ATAC,'_'),\n",
    "                                                        '0_summaries',\n",
    "                                                         paste0('summary_',db,'_adjpvalues.csv')\n",
    "                                                        ), \n",
    "                                          sep=',', header = TRUE, row.names=1)\n",
    "\n",
    "            # remove all columns with not one single significant hit\n",
    "            tmp_adjpvalues <- tmp_adjpvalues[,colSums(is.na(tmp_adjpvalues))<nrow(tmp_adjpvalues)]\n",
    "\n",
    "            # identify most significant term per group\n",
    "            #tmp_terms <- unique(as.vector(sapply(tmp_adjpvalues, function(x) rownames(tmp_adjpvalues)[sort(x, index.return = TRUE)$ix][1:top_n])))\n",
    "            #unique(sapply(tmp_adjpvalues, function(x) rownames(tmp_adjpvalues)[sort(x, index.return = TRUE)$ix][1:top_n]))\n",
    "            tmp_terms <- unique(as.vector(sapply(tmp_adjpvalues, function(x) rownames(tmp_adjpvalues)[order(x)][1:top_n])))\n",
    "            tmp_terms <- tmp_terms[!is.na(tmp_terms)]\n",
    "\n",
    "            # load odds ratios of enrichment results\n",
    "            tmp_enrichments <- read.delim(file=file.path(data_ATAC, \n",
    "                                                         \"enrichment_analysis\", \n",
    "                                                         \"time_series\", \n",
    "                                                         paste0(treatment,'_k', k_ATAC,'_'),\n",
    "                                                         '0_summaries',\n",
    "                                                         paste0('summary_',db,'_oddsratio.csv')\n",
    "                                                        ), \n",
    "                                          sep=',', header = TRUE, row.names=1)\n",
    "\n",
    "            if(length(tmp_terms)==0){\n",
    "                next\n",
    "            }\n",
    "                                                 \n",
    "            # filter by selected enrichment terms\n",
    "            tmp_enrichments <- tmp_enrichments[tmp_terms,]\n",
    "        }\n",
    "        \n",
    "        if (mode=='selected'){\n",
    "            # load odds ratios of enrichment results\n",
    "            tmp_enrichments <- read.delim(file=file.path(data_ATAC, \n",
    "                                                         \"enrichment_analysis\", \n",
    "                                                         \"time_series\",\n",
    "                                                         paste0(treatment,'_k', k_ATAC,'_'),\n",
    "                                                         '0_summaries',\n",
    "                                                         paste0('summary_',db,'_oddsratio.csv')\n",
    "                                                        ), \n",
    "                                          sep=',', header = TRUE, row.names=1)\n",
    "\n",
    "            # tmp_terms <- unique(rownames(tmp_enrichments)[apply(tmp_enrichments,2,which.min)])\n",
    "\n",
    "            tmp_terms <- unique(str_split(string = timeseries_enrichment_terms[treatment,'ATAC_terms'], pattern = ' \\\\| ')[[1]])\n",
    "            \n",
    "            if((length(tmp_terms)==0)|(is.na(tmp_terms))){\n",
    "                next\n",
    "            }\n",
    "            tmp_terms <- tmp_terms[!is.na(tmp_terms)]\n",
    "            # filter by selected enrichment terms\n",
    "            tmp_enrichments <- tmp_enrichments[tmp_terms,]\n",
    "        }\n",
    "        # fill NA with 1\n",
    "        tmp_enrichments[is.na(tmp_enrichments)] <- 1\n",
    "        tmp_enrichments[tmp_enrichments<1] <- 1\n",
    "        print(log2(max(tmp_enrichments)))\n",
    "        # log transform for clustering\n",
    "        tmp_enrichments_log <- log2(tmp_enrichments)\n",
    "        # manage inf values in log-space\n",
    "#         tmp_enrichments_log[is.infinite(as.matrix(tmp_enrichments_log)) & as.matrix(tmp_enrichments_log)<0] <- min(tmp_enrichments_log[is.finite(as.matrix(tmp_enrichments_log))])\n",
    "#         tmp_enrichments_log[is.infinite(as.matrix(tmp_enrichments_log)) & as.matrix(tmp_enrichments_log)>0] <- max(tmp_enrichments_log[is.finite(as.matrix(tmp_enrichments_log))])\n",
    "        # perform hierarchical clustering on the log odds-ratios of the terms\n",
    "        hc_ATAC_rows <- hclust(dist(tmp_enrichments_log))#, method=\"single\")\n",
    "        hc_ATAC_cols <- hclust(dist(t(tmp_enrichments_log)))#, method=\"single\")\n",
    "        tmp_enrichments <- tmp_enrichments[hc_ATAC_rows$order,hc_ATAC_cols$order]\n",
    "        # add column for terms\n",
    "        tmp_enrichments$terms <- rownames(tmp_enrichments)\n",
    "        # melt data frame for plotting\n",
    "        plot_enrichments <- melt(tmp_enrichments, id.vars='terms')\n",
    "        # rename columns\n",
    "        colnames(plot_enrichments) <- c('terms','cluster', 'odds_ratio')\n",
    "\n",
    "        # load adjusted p-values\n",
    "        tmp_adjpvalues <- read.delim(file=file.path(data_ATAC, \n",
    "                                                     \"enrichment_analysis\", \n",
    "                                                     \"time_series\", \n",
    "                                                     paste0(treatment,'_k', k_ATAC,'_'),\n",
    "                                                     '0_summaries',\n",
    "                                                     paste0('summary_',db,'_adjpvalues.csv')\n",
    "                                                    ), \n",
    "                                      sep=',', header = TRUE, row.names=1)\n",
    "\n",
    "        # add odds ratios to plot dataframe\n",
    "        plot_enrichments$adjpvalues <- apply(plot_enrichments, 1, function(x) tmp_adjpvalues[x[1], x[2]])\n",
    "\n",
    "        plot_enrichments$terms <- remove_term_suffix(db=db, terms=plot_enrichments$terms)\n",
    "\n",
    "        # calculate & cap -log10(pvalue)\n",
    "        plot_enrichments$adjpvalues <- -log10(plot_enrichments$adjpvalues)\n",
    "        plot_enrichments$adjpvalues[plot_enrichments$adjpvalues>4] <- 4\n",
    "\n",
    "        # only keep positive log(odds-ratio)\n",
    "        plot_enrichments$odds_ratio[plot_enrichments$odds_ratio<=1] <- NA\n",
    "\n",
    "        # ensure that the order of terms is kept\n",
    "        plot_enrichments$terms <- factor(plot_enrichments$terms,levels=rev(unique(plot_enrichments$terms)))\n",
    "        plot_enrichments$cluster <- factor(plot_enrichments$cluster, levels=rev(unique(plot_enrichments$cluster)))\n",
    "\n",
    "#         dim(plot_enrichments)\n",
    "#         head(plot_enrichments)\n",
    "\n",
    "        cluster_labels <- str_split(rev(levels(plot_enrichments$cluster)), '_', simplify=TRUE)\n",
    "#         cluster_labels <- str_split(rev(levels(plot_enrichments$cluster)), '_', simplify=TRUE)[,2] # from RNA\n",
    "        cluster_labels <- cluster_labels[,ncol(cluster_labels)]\n",
    "        cluster_labels <- as.character(as.roman(cluster_labels))\n",
    "        names(cluster_labels) <- rev(levels(plot_enrichments$cluster))\n",
    "\n",
    "#         width <- 6\n",
    "#         height <- 5\n",
    "#         options(repr.plot.width=width, repr.plot.height=height)\n",
    "\n",
    "        ATAC_DEG_enr_p <- ggplot(plot_enrichments, aes(x=terms, y=cluster, fill=adjpvalues, size=log2(odds_ratio)))+ \n",
    "        # geom_point() +\n",
    "        geom_point(shape=21, stroke=0.25) +\n",
    "        # scale_color_gradient(low=\"grey\", high=\"red\") +\n",
    "        scale_fill_gradient(low=\"grey\", high=\"red\") +\n",
    "        scale_x_discrete(label=addline_format) + \n",
    "        scale_size_continuous(\n",
    "#             range = c(0.5,5) \n",
    "            breaks = c(1, 3, 5, 7),\n",
    "            limits = c(0, 7)\n",
    "        ) +\n",
    "        macro_theme() +\n",
    "        scale_y_discrete(limits = (levels(plot_enrichments$cluster)), labels = cluster_labels) +\n",
    "        labs(title = treatment_format(treatment)) + \n",
    "        theme(axis.text.x = element_text(angle = 45, hjust = 1, vjust=1),\n",
    "              axis.title.x=element_blank(),\n",
    "              axis.title.y=element_blank())\n",
    "\n",
    "#         ATAC_DEG_enr_p\n",
    "\n",
    "        # load ATAC time-series clustering\n",
    "        ATAC_clustering <- read.delim(file=file.path(data_ATAC, \"time_series\", treatment, paste0('k_',k_ATAC), paste0('clustering_',treatment,'.csv')), sep=',', header = TRUE, row.names=2)\n",
    "        ATAC_clustering[,1] <- NULL\n",
    "        colnames(ATAC_clustering) <- c('cluster')\n",
    "#         dim(ATAC_clustering)\n",
    "#         head(ATAC_clustering)\n",
    "\n",
    "        # load ATAC DEA results for individual cluster plots\n",
    "        ATAC_DEG <- read.delim(file=file.path(data_ATAC,'DEA',paste0('DEA_',treatment,'.tsv')), sep = '\\t', header = TRUE)\n",
    "        ATAC_DEG <- ATAC_DEG[, c('group', 'rn', 'logFC')]\n",
    "#         dim(ATAC_DEG)\n",
    "#         head(ATAC_DEG)\n",
    "\n",
    "        times <- c('2h','4h','6h','8h','24h')\n",
    "        ATAC_DEG_new <- data.frame()\n",
    "        for (time in times){\n",
    "            tmp_df <- ATAC_DEG[ATAC_DEG$group==paste0(treatment,'_',time),c('rn','logFC')]\n",
    "            colnames(tmp_df) <- c('rn',time)\n",
    "            if (dim(ATAC_DEG_new)[1]==0){\n",
    "                ATAC_DEG_new <- tmp_df\n",
    "            }\n",
    "            else{\n",
    "                ATAC_DEG_new <- merge(ATAC_DEG_new, tmp_df, by='rn')\n",
    "            }\n",
    "\n",
    "        }\n",
    "\n",
    "        rownames(ATAC_DEG_new) <- ATAC_DEG_new$rn\n",
    "        ATAC_DEG_new$rn <- NULL\n",
    "        colnames(ATAC_DEG_new) <- str_remove(colnames(ATAC_DEG_new), paste0(treatment,'_'))\n",
    "        colnames(ATAC_DEG_new) <- str_remove(colnames(ATAC_DEG_new), 'h')\n",
    "\n",
    "        ATAC_DEG_new <- ATAC_DEG_new[rownames(ATAC_clustering),]\n",
    "\n",
    "        # add time point 0h with values 0\n",
    "        ATAC_DEG_new[,'0'] <- 0\n",
    "\n",
    "#         dim(ATAC_DEG_new)\n",
    "#         head(ATAC_DEG_new)\n",
    "\n",
    "        ATAC_DEG_plot <- melt(t(ATAC_DEG_new))\n",
    "        ATAC_DEG_plot$Var1 <- factor(ATAC_DEG_plot$Var1, levels=c(\"0\", \"2\", \"4\", \"6\",\"8\", \"24\"))\n",
    "#         head(ATAC_DEG_plot)\n",
    "\n",
    "        # get order of clusters from enrichment plot \n",
    "        clusters_ordered <- as.numeric(as.roman(cluster_labels))\n",
    "#         clusters_ordered\n",
    "\n",
    "        # make ATAC time-series cluster plots\n",
    "        ATAC_DEG_p <- list()\n",
    "\n",
    "        for (cluster in unique(ATAC_clustering$cluster)){\n",
    "            tmp_idx <- (ATAC_DEG_plot$Var2 %in% rownames(ATAC_clustering)[ATAC_clustering$cluster==cluster])\n",
    "            tmp_cluster_p <- ggplot(ATAC_DEG_plot[tmp_idx,], aes(x=Var1, y=value, group=Var2)) +\n",
    "            geom_line(size=0.5, alpha=0.01, color=cluster_colors[cluster]) +\n",
    "        #     facet_grid(. ~ cluster) +\n",
    "            scale_x_discrete(expand = expansion(add = 0))+\n",
    "            scale_y_continuous(breaks=c(-4,0,4)) +\n",
    "            #     scale_y_continuous(breaks=c(0)) + # only zero\n",
    "            macro_theme() + \n",
    "            theme(\n",
    "                axis.title.x=element_blank(),\n",
    "                axis.title.y=element_blank(), \n",
    "                plot.margin = unit(c(0,0,0,0), \"cm\"),\n",
    "                plot.title = element_text(hjust = 0.5) # not necessary\n",
    "        #         strip.background =element_rect(fill=treatment_colors[treatment]), \n",
    "        #         strip.text = element_text(colour = 'black'),\n",
    "        #         panel.border = element_rect(colour = \"black\", fill=NA, size=1)\n",
    "            )\n",
    "\n",
    "            # last entry can keep the x axis labels                                 \n",
    "            if(cluster==clusters_ordered[length(clusters_ordered)]){ #max(unique(ATAC_clustering$cluster))){\n",
    "                ATAC_DEG_p[[cluster]] <- tmp_cluster_p\n",
    "            }\n",
    "            else{\n",
    "                ATAC_DEG_p[[cluster]] <- tmp_cluster_p + theme(axis.text.x = element_blank(), axis.ticks.x = element_blank())\n",
    "            }\n",
    "\n",
    "        }\n",
    "\n",
    "#         width <- 1\n",
    "#         height <- 5\n",
    "#         options(repr.plot.width=width, repr.plot.height=height)\n",
    "\n",
    "        # plot all ATAC time-series clusters \n",
    "        ATAC_DEG_all_p <- wrap_plots(ATAC_DEG_p[clusters_ordered], ncol = 1)\n",
    "#         ATAC_DEG_all_p\n",
    "\n",
    "#         width <- 7\n",
    "#         height <- 5\n",
    "#         options(repr.plot.width=width, repr.plot.height=height)\n",
    "\n",
    "        # putting the ATAC time-series clusters and enrichment together\n",
    "        ATAC_listeria_p <- (ATAC_DEG_all_p | ATAC_DEG_enr_p + theme(axis.ticks.y = element_blank())) + plot_layout(widths = c(1, 11))\n",
    "#         ATAC_listeria_p\n",
    "\n",
    "#         # save plot\n",
    "#         ggsave_new(filename=\"Listeria_enrichments_ATAC\",\n",
    "#                    results_path=results_path,\n",
    "#                    plot=ATAC_listeria_p,\n",
    "#                    width=width,\n",
    "#                    height=height\n",
    "#                   )\n",
    "                                             \n",
    "        mode_plots[[treatment]] <- ATAC_listeria_p\n",
    "        heights[[treatment]] <- k_ATAC\n",
    "    }\n",
    "                                             \n",
    "    # save plot\n",
    "    ggsave_new(filename=paste0(\"ATAC_enrichment_\",mode),\n",
    "               results_path=results_path,\n",
    "               plot=wrap_plots(mode_plots, ncol=1, guides = \"collect\", heights = heights),\n",
    "               width=12,\n",
    "               height=22\n",
    "              )\n",
    "}"
   ]
  }
 ],
 "metadata": {
  "kernelspec": {
   "display_name": "R_plot",
   "language": "R",
   "name": "r_plot"
  },
  "language_info": {
   "codemirror_mode": "r",
   "file_extension": ".r",
   "mimetype": "text/x-r-source",
   "name": "R",
   "pygments_lexer": "r",
   "version": "4.0.5"
  }
 },
 "nbformat": 4,
 "nbformat_minor": 5
}
