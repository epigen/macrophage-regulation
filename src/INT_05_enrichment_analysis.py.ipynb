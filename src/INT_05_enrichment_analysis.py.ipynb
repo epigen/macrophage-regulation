{
 "cells": [
  {
   "cell_type": "markdown",
   "id": "57a8121f",
   "metadata": {},
   "source": [
    "# Integrative analysis of ATAC & RNA - Enrichment analysis\n",
    "- goal: enrichments of DEA, DEA-clusters & time-series analysis results\n",
    "- input: DEA & time-series analysis results\n",
    "- output: enrichment results, summary files & plots"
   ]
  },
  {
   "cell_type": "code",
   "execution_count": 1,
   "id": "98030696",
   "metadata": {},
   "outputs": [
    {
     "name": "stdout",
     "output_type": "stream",
     "text": [
      "/home/sreichl/projects/bmdm-stim\n"
     ]
    }
   ],
   "source": [
    "cd ../"
   ]
  },
  {
   "cell_type": "code",
   "execution_count": 2,
   "id": "c7b896a9",
   "metadata": {},
   "outputs": [],
   "source": [
    "# libraries\n",
    "import pandas as pd\n",
    "import os\n",
    "\n",
    "import matplotlib.pyplot as plt\n",
    "import seaborn as sns\n",
    "import numpy as np\n",
    "\n",
    "import gseapy as gp"
   ]
  },
  {
   "cell_type": "code",
   "execution_count": 5,
   "id": "6ab48c35-8446-44ef-8f95-b4d20a8c8e0c",
   "metadata": {},
   "outputs": [],
   "source": [
    "# import util functions\n",
    "import sys\n",
    "sys.path.insert(1, os.path.join('src'))\n",
    "\n",
    "import utils_GSEApy"
   ]
  },
  {
   "cell_type": "code",
   "execution_count": 4,
   "id": "a0025c8a",
   "metadata": {},
   "outputs": [],
   "source": [
    "# for relaoding a module\n",
    "# importlib.reload(utils_GSEApy)"
   ]
  },
  {
   "cell_type": "code",
   "execution_count": 6,
   "id": "6498f881",
   "metadata": {
    "tags": []
   },
   "outputs": [],
   "source": [
    "# configs\n",
    "dir_data = os.path.join('results','INT')\n",
    "dir_results=os.path.join(dir_data,'enrichment_analysis')\n",
    "\n",
    "databases = [\"ENCODE_TF_ChIP-seq_2015\", # TF\n",
    "             \"ChEA_2016\", # TF\n",
    "             \"BioPlanet_2019\", \n",
    "             \"KEGG_2019_Mouse\", \n",
    "             \"WikiPathways_2019_Mouse\",\n",
    "             \"GO_Biological_Process_2021\"\n",
    "            ]\n",
    "\n",
    "# more stringent adj.p-value cut-off -> not used anymore\n",
    "# databases_strict=[\"BioPlanet_2019\", \"GO_Biological_Process_2021\"]\n",
    "databases_strict=[]\n",
    "\n",
    "adj_pvalue=0.05\n",
    "adj_pvalue_strict=0.01 #  -> not used anymore"
   ]
  },
  {
   "cell_type": "code",
   "execution_count": 7,
   "id": "d3eaa347",
   "metadata": {},
   "outputs": [],
   "source": [
    "if not os.path.exists(dir_results):\n",
    "        os.mkdir(dir_results)"
   ]
  },
  {
   "cell_type": "markdown",
   "id": "157639ee",
   "metadata": {},
   "source": [
    "# load data"
   ]
  },
  {
   "cell_type": "code",
   "execution_count": 9,
   "id": "e4095d6a",
   "metadata": {},
   "outputs": [
    {
     "name": "stdout",
     "output_type": "stream",
     "text": [
      "(45069, 142)\n"
     ]
    },
    {
     "data": {
      "text/html": [
       "<div>\n",
       "<style scoped>\n",
       "    .dataframe tbody tr th:only-of-type {\n",
       "        vertical-align: middle;\n",
       "    }\n",
       "\n",
       "    .dataframe tbody tr th {\n",
       "        vertical-align: top;\n",
       "    }\n",
       "\n",
       "    .dataframe thead th {\n",
       "        text-align: right;\n",
       "    }\n",
       "</style>\n",
       "<table border=\"1\" class=\"dataframe\">\n",
       "  <thead>\n",
       "    <tr style=\"text-align: right;\">\n",
       "      <th></th>\n",
       "      <th>RNA_PT76_R1_C_albicans_2h</th>\n",
       "      <th>RNA_PT82_R1_C_albicans_24h</th>\n",
       "      <th>RNA_PT76_R1_C_albicans_4h</th>\n",
       "      <th>RNA_PT76_R1_C_albicans_6h</th>\n",
       "      <th>RNA_PT82_R1_C_albicans_8h</th>\n",
       "      <th>RNA_PT76_R1_untreated_0h</th>\n",
       "      <th>RNA_PT82_R1_untreated_24h</th>\n",
       "      <th>RNA_PT76_R1_IFN_beta_2h</th>\n",
       "      <th>RNA_PT82_R1_IFN_beta_24h</th>\n",
       "      <th>RNA_PT76_R1_IFN_beta_4h</th>\n",
       "      <th>...</th>\n",
       "      <th>PT82_R2_IFN_gamma_24h</th>\n",
       "      <th>PT82_R2_IFN_gamma_8h</th>\n",
       "      <th>PT82_R2_LCMV_Cl13_24h</th>\n",
       "      <th>PT82_R2_LCMV_Cl13_8h</th>\n",
       "      <th>PT82_R2_LO28_24h</th>\n",
       "      <th>PT82_R2_LO28_8h</th>\n",
       "      <th>PT82_R2_LPS_24h</th>\n",
       "      <th>PT82_R2_LPS_8h</th>\n",
       "      <th>PT82_R2_untreated_24h</th>\n",
       "      <th>PT82_R2_untreated_8h</th>\n",
       "    </tr>\n",
       "  </thead>\n",
       "  <tbody>\n",
       "    <tr>\n",
       "      <th>ENSMUSG00000098104</th>\n",
       "      <td>1</td>\n",
       "      <td>6</td>\n",
       "      <td>0</td>\n",
       "      <td>2</td>\n",
       "      <td>1</td>\n",
       "      <td>9</td>\n",
       "      <td>4</td>\n",
       "      <td>6</td>\n",
       "      <td>4</td>\n",
       "      <td>0</td>\n",
       "      <td>...</td>\n",
       "      <td>8</td>\n",
       "      <td>7</td>\n",
       "      <td>3</td>\n",
       "      <td>11</td>\n",
       "      <td>31</td>\n",
       "      <td>14</td>\n",
       "      <td>5</td>\n",
       "      <td>12</td>\n",
       "      <td>10</td>\n",
       "      <td>9</td>\n",
       "    </tr>\n",
       "    <tr>\n",
       "      <th>ENSMUSG00000033845</th>\n",
       "      <td>219</td>\n",
       "      <td>220</td>\n",
       "      <td>201</td>\n",
       "      <td>169</td>\n",
       "      <td>196</td>\n",
       "      <td>204</td>\n",
       "      <td>226</td>\n",
       "      <td>202</td>\n",
       "      <td>124</td>\n",
       "      <td>153</td>\n",
       "      <td>...</td>\n",
       "      <td>210</td>\n",
       "      <td>109</td>\n",
       "      <td>218</td>\n",
       "      <td>185</td>\n",
       "      <td>32</td>\n",
       "      <td>164</td>\n",
       "      <td>127</td>\n",
       "      <td>155</td>\n",
       "      <td>156</td>\n",
       "      <td>123</td>\n",
       "    </tr>\n",
       "    <tr>\n",
       "      <th>ENSMUSG00000025903</th>\n",
       "      <td>115</td>\n",
       "      <td>105</td>\n",
       "      <td>106</td>\n",
       "      <td>113</td>\n",
       "      <td>87</td>\n",
       "      <td>144</td>\n",
       "      <td>128</td>\n",
       "      <td>159</td>\n",
       "      <td>98</td>\n",
       "      <td>137</td>\n",
       "      <td>...</td>\n",
       "      <td>366</td>\n",
       "      <td>204</td>\n",
       "      <td>351</td>\n",
       "      <td>328</td>\n",
       "      <td>65</td>\n",
       "      <td>192</td>\n",
       "      <td>282</td>\n",
       "      <td>150</td>\n",
       "      <td>255</td>\n",
       "      <td>205</td>\n",
       "    </tr>\n",
       "    <tr>\n",
       "      <th>ENSMUSG00000033813</th>\n",
       "      <td>63</td>\n",
       "      <td>57</td>\n",
       "      <td>39</td>\n",
       "      <td>74</td>\n",
       "      <td>51</td>\n",
       "      <td>53</td>\n",
       "      <td>68</td>\n",
       "      <td>58</td>\n",
       "      <td>63</td>\n",
       "      <td>124</td>\n",
       "      <td>...</td>\n",
       "      <td>701</td>\n",
       "      <td>414</td>\n",
       "      <td>674</td>\n",
       "      <td>625</td>\n",
       "      <td>113</td>\n",
       "      <td>424</td>\n",
       "      <td>459</td>\n",
       "      <td>357</td>\n",
       "      <td>550</td>\n",
       "      <td>485</td>\n",
       "    </tr>\n",
       "    <tr>\n",
       "      <th>ENSMUSG00000033793</th>\n",
       "      <td>315</td>\n",
       "      <td>222</td>\n",
       "      <td>309</td>\n",
       "      <td>250</td>\n",
       "      <td>312</td>\n",
       "      <td>203</td>\n",
       "      <td>277</td>\n",
       "      <td>266</td>\n",
       "      <td>222</td>\n",
       "      <td>218</td>\n",
       "      <td>...</td>\n",
       "      <td>0</td>\n",
       "      <td>5</td>\n",
       "      <td>6</td>\n",
       "      <td>4</td>\n",
       "      <td>12</td>\n",
       "      <td>6</td>\n",
       "      <td>3</td>\n",
       "      <td>5</td>\n",
       "      <td>4</td>\n",
       "      <td>9</td>\n",
       "    </tr>\n",
       "  </tbody>\n",
       "</table>\n",
       "<p>5 rows × 142 columns</p>\n",
       "</div>"
      ],
      "text/plain": [
       "                    RNA_PT76_R1_C_albicans_2h  RNA_PT82_R1_C_albicans_24h  \\\n",
       "ENSMUSG00000098104                          1                           6   \n",
       "ENSMUSG00000033845                        219                         220   \n",
       "ENSMUSG00000025903                        115                         105   \n",
       "ENSMUSG00000033813                         63                          57   \n",
       "ENSMUSG00000033793                        315                         222   \n",
       "\n",
       "                    RNA_PT76_R1_C_albicans_4h  RNA_PT76_R1_C_albicans_6h  \\\n",
       "ENSMUSG00000098104                          0                          2   \n",
       "ENSMUSG00000033845                        201                        169   \n",
       "ENSMUSG00000025903                        106                        113   \n",
       "ENSMUSG00000033813                         39                         74   \n",
       "ENSMUSG00000033793                        309                        250   \n",
       "\n",
       "                    RNA_PT82_R1_C_albicans_8h  RNA_PT76_R1_untreated_0h  \\\n",
       "ENSMUSG00000098104                          1                         9   \n",
       "ENSMUSG00000033845                        196                       204   \n",
       "ENSMUSG00000025903                         87                       144   \n",
       "ENSMUSG00000033813                         51                        53   \n",
       "ENSMUSG00000033793                        312                       203   \n",
       "\n",
       "                    RNA_PT82_R1_untreated_24h  RNA_PT76_R1_IFN_beta_2h  \\\n",
       "ENSMUSG00000098104                          4                        6   \n",
       "ENSMUSG00000033845                        226                      202   \n",
       "ENSMUSG00000025903                        128                      159   \n",
       "ENSMUSG00000033813                         68                       58   \n",
       "ENSMUSG00000033793                        277                      266   \n",
       "\n",
       "                    RNA_PT82_R1_IFN_beta_24h  RNA_PT76_R1_IFN_beta_4h  ...  \\\n",
       "ENSMUSG00000098104                         4                        0  ...   \n",
       "ENSMUSG00000033845                       124                      153  ...   \n",
       "ENSMUSG00000025903                        98                      137  ...   \n",
       "ENSMUSG00000033813                        63                      124  ...   \n",
       "ENSMUSG00000033793                       222                      218  ...   \n",
       "\n",
       "                    PT82_R2_IFN_gamma_24h  PT82_R2_IFN_gamma_8h  \\\n",
       "ENSMUSG00000098104                      8                     7   \n",
       "ENSMUSG00000033845                    210                   109   \n",
       "ENSMUSG00000025903                    366                   204   \n",
       "ENSMUSG00000033813                    701                   414   \n",
       "ENSMUSG00000033793                      0                     5   \n",
       "\n",
       "                    PT82_R2_LCMV_Cl13_24h  PT82_R2_LCMV_Cl13_8h  \\\n",
       "ENSMUSG00000098104                      3                    11   \n",
       "ENSMUSG00000033845                    218                   185   \n",
       "ENSMUSG00000025903                    351                   328   \n",
       "ENSMUSG00000033813                    674                   625   \n",
       "ENSMUSG00000033793                      6                     4   \n",
       "\n",
       "                    PT82_R2_LO28_24h  PT82_R2_LO28_8h  PT82_R2_LPS_24h  \\\n",
       "ENSMUSG00000098104                31               14                5   \n",
       "ENSMUSG00000033845                32              164              127   \n",
       "ENSMUSG00000025903                65              192              282   \n",
       "ENSMUSG00000033813               113              424              459   \n",
       "ENSMUSG00000033793                12                6                3   \n",
       "\n",
       "                    PT82_R2_LPS_8h  PT82_R2_untreated_24h  \\\n",
       "ENSMUSG00000098104              12                     10   \n",
       "ENSMUSG00000033845             155                    156   \n",
       "ENSMUSG00000025903             150                    255   \n",
       "ENSMUSG00000033813             357                    550   \n",
       "ENSMUSG00000033793               5                      4   \n",
       "\n",
       "                    PT82_R2_untreated_8h  \n",
       "ENSMUSG00000098104                     9  \n",
       "ENSMUSG00000033845                   123  \n",
       "ENSMUSG00000025903                   205  \n",
       "ENSMUSG00000033813                   485  \n",
       "ENSMUSG00000033793                     9  \n",
       "\n",
       "[5 rows x 142 columns]"
      ]
     },
     "execution_count": 9,
     "metadata": {},
     "output_type": "execute_result"
    }
   ],
   "source": [
    "# load filtered data for background genes\n",
    "data = pd.read_csv(os.path.join(dir_data,'INT_counts.csv'), index_col=0, header=0,)\n",
    "print(data.shape)\n",
    "data.head()"
   ]
  },
  {
   "cell_type": "code",
   "execution_count": 10,
   "id": "2312efc2",
   "metadata": {
    "tags": []
   },
   "outputs": [
    {
     "name": "stdout",
     "output_type": "stream",
     "text": [
      "(142, 5)\n"
     ]
    },
    {
     "data": {
      "text/html": [
       "<div>\n",
       "<style scoped>\n",
       "    .dataframe tbody tr th:only-of-type {\n",
       "        vertical-align: middle;\n",
       "    }\n",
       "\n",
       "    .dataframe tbody tr th {\n",
       "        vertical-align: top;\n",
       "    }\n",
       "\n",
       "    .dataframe thead th {\n",
       "        text-align: right;\n",
       "    }\n",
       "</style>\n",
       "<table border=\"1\" class=\"dataframe\">\n",
       "  <thead>\n",
       "    <tr style=\"text-align: right;\">\n",
       "      <th></th>\n",
       "      <th>library</th>\n",
       "      <th>treatment</th>\n",
       "      <th>time</th>\n",
       "      <th>experiment</th>\n",
       "      <th>group</th>\n",
       "    </tr>\n",
       "  </thead>\n",
       "  <tbody>\n",
       "    <tr>\n",
       "      <th>RNA_PT76_R1_C_albicans_2h</th>\n",
       "      <td>Quant-seq</td>\n",
       "      <td>C_albicans</td>\n",
       "      <td>2h</td>\n",
       "      <td>PT76</td>\n",
       "      <td>C_albicans_2h</td>\n",
       "    </tr>\n",
       "    <tr>\n",
       "      <th>RNA_PT82_R1_C_albicans_24h</th>\n",
       "      <td>Quant-seq</td>\n",
       "      <td>C_albicans</td>\n",
       "      <td>24h</td>\n",
       "      <td>PT82</td>\n",
       "      <td>C_albicans_24h</td>\n",
       "    </tr>\n",
       "    <tr>\n",
       "      <th>RNA_PT76_R1_C_albicans_4h</th>\n",
       "      <td>Quant-seq</td>\n",
       "      <td>C_albicans</td>\n",
       "      <td>4h</td>\n",
       "      <td>PT76</td>\n",
       "      <td>C_albicans_4h</td>\n",
       "    </tr>\n",
       "    <tr>\n",
       "      <th>RNA_PT76_R1_C_albicans_6h</th>\n",
       "      <td>Quant-seq</td>\n",
       "      <td>C_albicans</td>\n",
       "      <td>6h</td>\n",
       "      <td>PT76</td>\n",
       "      <td>C_albicans_6h</td>\n",
       "    </tr>\n",
       "    <tr>\n",
       "      <th>RNA_PT82_R1_C_albicans_8h</th>\n",
       "      <td>Quant-seq</td>\n",
       "      <td>C_albicans</td>\n",
       "      <td>8h</td>\n",
       "      <td>PT82</td>\n",
       "      <td>C_albicans_8h</td>\n",
       "    </tr>\n",
       "  </tbody>\n",
       "</table>\n",
       "</div>"
      ],
      "text/plain": [
       "                              library   treatment time experiment  \\\n",
       "RNA_PT76_R1_C_albicans_2h   Quant-seq  C_albicans   2h       PT76   \n",
       "RNA_PT82_R1_C_albicans_24h  Quant-seq  C_albicans  24h       PT82   \n",
       "RNA_PT76_R1_C_albicans_4h   Quant-seq  C_albicans   4h       PT76   \n",
       "RNA_PT76_R1_C_albicans_6h   Quant-seq  C_albicans   6h       PT76   \n",
       "RNA_PT82_R1_C_albicans_8h   Quant-seq  C_albicans   8h       PT82   \n",
       "\n",
       "                                     group  \n",
       "RNA_PT76_R1_C_albicans_2h    C_albicans_2h  \n",
       "RNA_PT82_R1_C_albicans_24h  C_albicans_24h  \n",
       "RNA_PT76_R1_C_albicans_4h    C_albicans_4h  \n",
       "RNA_PT76_R1_C_albicans_6h    C_albicans_6h  \n",
       "RNA_PT82_R1_C_albicans_8h    C_albicans_8h  "
      ]
     },
     "execution_count": 10,
     "metadata": {},
     "output_type": "execute_result"
    }
   ],
   "source": [
    "# Load sample annotation\n",
    "annot = pd.read_csv(os.path.join(dir_data,'INT_annotations.csv'), index_col=0, header=0,)\n",
    "print(annot.shape)\n",
    "annot.head()"
   ]
  },
  {
   "cell_type": "code",
   "execution_count": 11,
   "id": "34f7a1f2",
   "metadata": {},
   "outputs": [
    {
     "name": "stdout",
     "output_type": "stream",
     "text": [
      "(55487, 8)\n"
     ]
    },
    {
     "data": {
      "text/html": [
       "<div>\n",
       "<style scoped>\n",
       "    .dataframe tbody tr th:only-of-type {\n",
       "        vertical-align: middle;\n",
       "    }\n",
       "\n",
       "    .dataframe tbody tr th {\n",
       "        vertical-align: top;\n",
       "    }\n",
       "\n",
       "    .dataframe thead th {\n",
       "        text-align: right;\n",
       "    }\n",
       "</style>\n",
       "<table border=\"1\" class=\"dataframe\">\n",
       "  <thead>\n",
       "    <tr style=\"text-align: right;\">\n",
       "      <th></th>\n",
       "      <th>version</th>\n",
       "      <th>source</th>\n",
       "      <th>external_gene_name</th>\n",
       "      <th>external_gene_source</th>\n",
       "      <th>description</th>\n",
       "      <th>gene_biotype</th>\n",
       "      <th>length</th>\n",
       "      <th>gc</th>\n",
       "    </tr>\n",
       "    <tr>\n",
       "      <th>ensembl_gene_id</th>\n",
       "      <th></th>\n",
       "      <th></th>\n",
       "      <th></th>\n",
       "      <th></th>\n",
       "      <th></th>\n",
       "      <th></th>\n",
       "      <th></th>\n",
       "      <th></th>\n",
       "    </tr>\n",
       "  </thead>\n",
       "  <tbody>\n",
       "    <tr>\n",
       "      <th>ENSMUSG00000000194</th>\n",
       "      <td>13</td>\n",
       "      <td>ensembl_havana</td>\n",
       "      <td>Gpr107</td>\n",
       "      <td>MGI Symbol</td>\n",
       "      <td>G protein-coupled receptor 107 [Source:MGI Sym...</td>\n",
       "      <td>protein_coding</td>\n",
       "      <td>12766</td>\n",
       "      <td>0.494595</td>\n",
       "    </tr>\n",
       "    <tr>\n",
       "      <th>ENSMUSG00000000247</th>\n",
       "      <td>11</td>\n",
       "      <td>ensembl_havana</td>\n",
       "      <td>Lhx2</td>\n",
       "      <td>MGI Symbol</td>\n",
       "      <td>LIM homeobox protein 2 [Source:MGI Symbol;Acc:...</td>\n",
       "      <td>protein_coding</td>\n",
       "      <td>4393</td>\n",
       "      <td>0.597086</td>\n",
       "    </tr>\n",
       "    <tr>\n",
       "      <th>ENSMUSG00000000544</th>\n",
       "      <td>14</td>\n",
       "      <td>ensembl_havana</td>\n",
       "      <td>Gpa33</td>\n",
       "      <td>MGI Symbol</td>\n",
       "      <td>glycoprotein A33 (transmembrane) [Source:MGI S...</td>\n",
       "      <td>protein_coding</td>\n",
       "      <td>2742</td>\n",
       "      <td>0.530999</td>\n",
       "    </tr>\n",
       "    <tr>\n",
       "      <th>ENSMUSG00000000817</th>\n",
       "      <td>10</td>\n",
       "      <td>ensembl_havana</td>\n",
       "      <td>Fasl</td>\n",
       "      <td>MGI Symbol</td>\n",
       "      <td>Fas ligand (TNF superfamily, member 6) [Source...</td>\n",
       "      <td>protein_coding</td>\n",
       "      <td>1937</td>\n",
       "      <td>0.430563</td>\n",
       "    </tr>\n",
       "    <tr>\n",
       "      <th>ENSMUSG00000000889</th>\n",
       "      <td>8</td>\n",
       "      <td>ensembl_havana</td>\n",
       "      <td>Dbh</td>\n",
       "      <td>MGI Symbol</td>\n",
       "      <td>dopamine beta hydroxylase [Source:MGI Symbol;A...</td>\n",
       "      <td>protein_coding</td>\n",
       "      <td>2692</td>\n",
       "      <td>0.554978</td>\n",
       "    </tr>\n",
       "  </tbody>\n",
       "</table>\n",
       "</div>"
      ],
      "text/plain": [
       "                    version          source external_gene_name  \\\n",
       "ensembl_gene_id                                                  \n",
       "ENSMUSG00000000194       13  ensembl_havana             Gpr107   \n",
       "ENSMUSG00000000247       11  ensembl_havana               Lhx2   \n",
       "ENSMUSG00000000544       14  ensembl_havana              Gpa33   \n",
       "ENSMUSG00000000817       10  ensembl_havana               Fasl   \n",
       "ENSMUSG00000000889        8  ensembl_havana                Dbh   \n",
       "\n",
       "                   external_gene_source  \\\n",
       "ensembl_gene_id                           \n",
       "ENSMUSG00000000194           MGI Symbol   \n",
       "ENSMUSG00000000247           MGI Symbol   \n",
       "ENSMUSG00000000544           MGI Symbol   \n",
       "ENSMUSG00000000817           MGI Symbol   \n",
       "ENSMUSG00000000889           MGI Symbol   \n",
       "\n",
       "                                                          description  \\\n",
       "ensembl_gene_id                                                         \n",
       "ENSMUSG00000000194  G protein-coupled receptor 107 [Source:MGI Sym...   \n",
       "ENSMUSG00000000247  LIM homeobox protein 2 [Source:MGI Symbol;Acc:...   \n",
       "ENSMUSG00000000544  glycoprotein A33 (transmembrane) [Source:MGI S...   \n",
       "ENSMUSG00000000817  Fas ligand (TNF superfamily, member 6) [Source...   \n",
       "ENSMUSG00000000889  dopamine beta hydroxylase [Source:MGI Symbol;A...   \n",
       "\n",
       "                      gene_biotype  length        gc  \n",
       "ensembl_gene_id                                       \n",
       "ENSMUSG00000000194  protein_coding   12766  0.494595  \n",
       "ENSMUSG00000000247  protein_coding    4393  0.597086  \n",
       "ENSMUSG00000000544  protein_coding    2742  0.530999  \n",
       "ENSMUSG00000000817  protein_coding    1937  0.430563  \n",
       "ENSMUSG00000000889  protein_coding    2692  0.554978  "
      ]
     },
     "execution_count": 11,
     "metadata": {},
     "output_type": "execute_result"
    }
   ],
   "source": [
    "# load gene annotation\n",
    "gene_annot = pd.read_csv(os.path.join('results','RNA','counts','gene_annotation.tsv'), sep='\\t', index_col=0, header=0,)\n",
    "print(gene_annot.shape)\n",
    "gene_annot.head()"
   ]
  },
  {
   "cell_type": "code",
   "execution_count": 12,
   "id": "9635ca2c",
   "metadata": {},
   "outputs": [
    {
     "name": "stdout",
     "output_type": "stream",
     "text": [
      "44978\n"
     ]
    },
    {
     "data": {
      "text/plain": [
       "['OLFR369-PS1', 'GM26104', 'GM24782', 'GM27421', 'RUVBL2']"
      ]
     },
     "execution_count": 12,
     "metadata": {},
     "output_type": "execute_result"
    }
   ],
   "source": [
    "#  prepare list of background genes\n",
    "background = gene_annot.loc[data.index, 'external_gene_name']\n",
    "background = list(set(background))\n",
    "background=[str(x).upper() for x in list(background)]\n",
    "print(len(background))\n",
    "background[:5]"
   ]
  },
  {
   "cell_type": "code",
   "execution_count": 13,
   "id": "0039ddb6",
   "metadata": {},
   "outputs": [],
   "source": [
    "treatments = list(annot['treatment'].unique())"
   ]
  },
  {
   "cell_type": "markdown",
   "id": "e8b41b97",
   "metadata": {},
   "source": [
    "# Enrichment analysis"
   ]
  },
  {
   "cell_type": "markdown",
   "id": "8c870a26",
   "metadata": {},
   "source": [
    "## DEA results"
   ]
  },
  {
   "cell_type": "code",
   "execution_count": 14,
   "id": "b0a7f687",
   "metadata": {},
   "outputs": [
    {
     "name": "stdout",
     "output_type": "stream",
     "text": [
      "62\n"
     ]
    },
    {
     "data": {
      "text/plain": [
       "dict_keys(['C_albicans_24h_up', 'C_albicans_24h_down', 'C_albicans_2h_up', 'C_albicans_2h_down', 'C_albicans_4h_up', 'C_albicans_4h_down', 'C_albicans_6h_up', 'C_albicans_6h_down', 'C_albicans_8h_up', 'C_albicans_8h_down', 'untreated_0h_up', 'untreated_0h_down', 'IFN_beta_24h_up', 'IFN_beta_24h_down', 'IFN_beta_2h_up', 'IFN_beta_2h_down', 'IFN_beta_4h_up', 'IFN_beta_4h_down', 'IFN_beta_6h_up', 'IFN_beta_6h_down', 'IFN_beta_8h_up', 'IFN_beta_8h_down', 'IFN_gamma_24h_up', 'IFN_gamma_24h_down', 'IFN_gamma_2h_up', 'IFN_gamma_2h_down', 'IFN_gamma_4h_up', 'IFN_gamma_4h_down', 'IFN_gamma_6h_up', 'IFN_gamma_6h_down', 'IFN_gamma_8h_up', 'IFN_gamma_8h_down', 'LCMV_Cl13_24h_up', 'LCMV_Cl13_24h_down', 'LCMV_Cl13_2h_up', 'LCMV_Cl13_2h_down', 'LCMV_Cl13_4h_up', 'LCMV_Cl13_4h_down', 'LCMV_Cl13_6h_up', 'LCMV_Cl13_6h_down', 'LCMV_Cl13_8h_up', 'LCMV_Cl13_8h_down', 'LO28_24h_up', 'LO28_24h_down', 'LO28_2h_up', 'LO28_2h_down', 'LO28_4h_up', 'LO28_4h_down', 'LO28_6h_up', 'LO28_6h_down', 'LO28_8h_up', 'LO28_8h_down', 'LPS_24h_up', 'LPS_24h_down', 'LPS_2h_up', 'LPS_2h_down', 'LPS_4h_up', 'LPS_4h_down', 'LPS_6h_up', 'LPS_6h_down', 'LPS_8h_up', 'LPS_8h_down'])"
      ]
     },
     "execution_count": 14,
     "metadata": {},
     "output_type": "execute_result"
    }
   ],
   "source": [
    "# get significant genes per treatment and time point ie group\n",
    "gene_lists = dict()\n",
    "\n",
    "for treatment in treatments:\n",
    "    # load DEA analysis results per treatment\n",
    "    tmp_results = pd.read_csv(os.path.join(dir_data,'DEA','INT_DEA_'+treatment+'.csv'), header=0, index_col='rn')\n",
    "    for group in tmp_results['group'].unique():\n",
    "        \n",
    "        for direction in ['up','down']:\n",
    "            if direction=='up':\n",
    "                tmp_genes = tmp_results.loc[(tmp_results['adj.P.Val']<0.05) & (tmp_results['group']==group) & (tmp_results['logFC']>0), ].index.unique()\n",
    "            else:\n",
    "                tmp_genes = tmp_results.loc[(tmp_results['adj.P.Val']<0.05) & (tmp_results['group']==group) & (tmp_results['logFC']<0), ].index.unique()\n",
    "        \n",
    "            if len(tmp_genes)==0:\n",
    "                continue\n",
    "            \n",
    "            gene_lists[group+\"_\"+direction] = tmp_genes\n",
    "\n",
    "print(len(gene_lists.keys()))        \n",
    "gene_lists.keys()"
   ]
  },
  {
   "cell_type": "code",
   "execution_count": 15,
   "id": "1f472df9",
   "metadata": {},
   "outputs": [],
   "source": [
    "# convert gene IDs to symbols, and upper-case\n",
    "for key in gene_lists.keys():\n",
    "    gene_lists[key] = gene_annot.loc[gene_lists[key], 'external_gene_name']\n",
    "    gene_lists[key] = list(gene_lists[key])\n",
    "    gene_lists[key] = [str(x).upper() for x in list(gene_lists[key])]"
   ]
  },
  {
   "cell_type": "code",
   "execution_count": 16,
   "id": "ded319a9",
   "metadata": {
    "collapsed": true,
    "jupyter": {
     "outputs_hidden": true
    },
    "tags": []
   },
   "outputs": [
    {
     "name": "stderr",
     "output_type": "stream",
     "text": [
      "/nobackup/lab_bock/users/sreichl/miniconda3/envs/enrichment_analysis/lib/python3.9/site-packages/urllib3/connectionpool.py:1013: InsecureRequestWarning: Unverified HTTPS request is being made to host 'maayanlab.cloud'. Adding certificate verification is strongly advised. See: https://urllib3.readthedocs.io/en/1.26.x/advanced-usage.html#ssl-warnings\n",
      "  warnings.warn(\n",
      "/nobackup/lab_bock/users/sreichl/miniconda3/envs/enrichment_analysis/lib/python3.9/site-packages/urllib3/connectionpool.py:1013: InsecureRequestWarning: Unverified HTTPS request is being made to host 'maayanlab.cloud'. Adding certificate verification is strongly advised. See: https://urllib3.readthedocs.io/en/1.26.x/advanced-usage.html#ssl-warnings\n",
      "  warnings.warn(\n",
      "/nobackup/lab_bock/users/sreichl/miniconda3/envs/enrichment_analysis/lib/python3.9/site-packages/urllib3/connectionpool.py:1013: InsecureRequestWarning: Unverified HTTPS request is being made to host 'maayanlab.cloud'. Adding certificate verification is strongly advised. See: https://urllib3.readthedocs.io/en/1.26.x/advanced-usage.html#ssl-warnings\n",
      "  warnings.warn(\n",
      "/nobackup/lab_bock/users/sreichl/miniconda3/envs/enrichment_analysis/lib/python3.9/site-packages/urllib3/connectionpool.py:1013: InsecureRequestWarning: Unverified HTTPS request is being made to host 'maayanlab.cloud'. Adding certificate verification is strongly advised. See: https://urllib3.readthedocs.io/en/1.26.x/advanced-usage.html#ssl-warnings\n",
      "  warnings.warn(\n",
      "/nobackup/lab_bock/users/sreichl/miniconda3/envs/enrichment_analysis/lib/python3.9/site-packages/urllib3/connectionpool.py:1013: InsecureRequestWarning: Unverified HTTPS request is being made to host 'maayanlab.cloud'. Adding certificate verification is strongly advised. See: https://urllib3.readthedocs.io/en/1.26.x/advanced-usage.html#ssl-warnings\n",
      "  warnings.warn(\n",
      "/nobackup/lab_bock/users/sreichl/miniconda3/envs/enrichment_analysis/lib/python3.9/site-packages/urllib3/connectionpool.py:1013: InsecureRequestWarning: Unverified HTTPS request is being made to host 'maayanlab.cloud'. Adding certificate verification is strongly advised. See: https://urllib3.readthedocs.io/en/1.26.x/advanced-usage.html#ssl-warnings\n",
      "  warnings.warn(\n"
     ]
    },
    {
     "name": "stdout",
     "output_type": "stream",
     "text": [
      "ENCODE_TF_ChIP-seq_2015\n"
     ]
    },
    {
     "name": "stderr",
     "output_type": "stream",
     "text": [
      "2021-12-29 15:19:47,723 Warning: No enrich terms using library CUSTOM46917723252032 when cutoff = 0.05\n",
      "WARNING:gseapy:Warning: No enrich terms using library CUSTOM46917723252032 when cutoff = 0.05\n",
      "2021-12-29 15:19:52,639 Warning: No enrich terms using library CUSTOM46917723252032 when cutoff = 0.05\n",
      "WARNING:gseapy:Warning: No enrich terms using library CUSTOM46917723252032 when cutoff = 0.05\n",
      "2021-12-29 15:22:15,595 Warning: No enrich terms using library CUSTOM46917723252032 when cutoff = 0.05\n",
      "WARNING:gseapy:Warning: No enrich terms using library CUSTOM46917723252032 when cutoff = 0.05\n",
      "2021-12-29 15:25:03,667 Warning: No enrich terms using library CUSTOM46917723252032 when cutoff = 0.05\n",
      "WARNING:gseapy:Warning: No enrich terms using library CUSTOM46917723252032 when cutoff = 0.05\n"
     ]
    },
    {
     "name": "stdout",
     "output_type": "stream",
     "text": [
      "ChEA_2016\n"
     ]
    },
    {
     "name": "stderr",
     "output_type": "stream",
     "text": [
      "2021-12-29 15:28:02,398 Warning: No enrich terms using library CUSTOM46917894740416 when cutoff = 0.05\n",
      "WARNING:gseapy:Warning: No enrich terms using library CUSTOM46917894740416 when cutoff = 0.05\n"
     ]
    },
    {
     "name": "stdout",
     "output_type": "stream",
     "text": [
      "BioPlanet_2019\n"
     ]
    },
    {
     "name": "stderr",
     "output_type": "stream",
     "text": [
      "2021-12-29 15:32:23,929 Warning: No enrich terms using library CUSTOM46917959857472 when cutoff = 0.05\n",
      "WARNING:gseapy:Warning: No enrich terms using library CUSTOM46917959857472 when cutoff = 0.05\n",
      "2021-12-29 15:32:24,098 Warning: No enrich terms using library CUSTOM46917959857472 when cutoff = 0.05\n",
      "WARNING:gseapy:Warning: No enrich terms using library CUSTOM46917959857472 when cutoff = 0.05\n",
      "2021-12-29 15:32:37,365 Warning: No enrich terms using library CUSTOM46917959857472 when cutoff = 0.05\n",
      "WARNING:gseapy:Warning: No enrich terms using library CUSTOM46917959857472 when cutoff = 0.05\n",
      "2021-12-29 15:32:54,812 Warning: No enrich terms using library CUSTOM46917959857472 when cutoff = 0.05\n",
      "WARNING:gseapy:Warning: No enrich terms using library CUSTOM46917959857472 when cutoff = 0.05\n",
      "2021-12-29 15:32:55,523 Warning: No enrich terms using library CUSTOM46917959857472 when cutoff = 0.05\n",
      "WARNING:gseapy:Warning: No enrich terms using library CUSTOM46917959857472 when cutoff = 0.05\n",
      "2021-12-29 15:33:06,561 Warning: No enrich terms using library CUSTOM46917959857472 when cutoff = 0.05\n",
      "WARNING:gseapy:Warning: No enrich terms using library CUSTOM46917959857472 when cutoff = 0.05\n"
     ]
    },
    {
     "name": "stdout",
     "output_type": "stream",
     "text": [
      "KEGG_2019_Mouse\n"
     ]
    },
    {
     "name": "stderr",
     "output_type": "stream",
     "text": [
      "2021-12-29 15:33:59,285 Warning: No enrich terms using library CUSTOM46917965101248 when cutoff = 0.05\n",
      "WARNING:gseapy:Warning: No enrich terms using library CUSTOM46917965101248 when cutoff = 0.05\n",
      "2021-12-29 15:33:59,552 Warning: No enrich terms using library CUSTOM46917965101248 when cutoff = 0.05\n",
      "WARNING:gseapy:Warning: No enrich terms using library CUSTOM46917965101248 when cutoff = 0.05\n",
      "2021-12-29 15:34:06,479 Warning: No enrich terms using library CUSTOM46917965101248 when cutoff = 0.05\n",
      "WARNING:gseapy:Warning: No enrich terms using library CUSTOM46917965101248 when cutoff = 0.05\n",
      "2021-12-29 15:34:22,814 Warning: No enrich terms using library CUSTOM46917965101248 when cutoff = 0.05\n",
      "WARNING:gseapy:Warning: No enrich terms using library CUSTOM46917965101248 when cutoff = 0.05\n"
     ]
    },
    {
     "name": "stdout",
     "output_type": "stream",
     "text": [
      "WikiPathways_2019_Mouse\n"
     ]
    },
    {
     "name": "stderr",
     "output_type": "stream",
     "text": [
      "2021-12-29 15:34:49,211 Warning: No enrich terms using library CUSTOM46917967096704 when cutoff = 0.05\n",
      "WARNING:gseapy:Warning: No enrich terms using library CUSTOM46917967096704 when cutoff = 0.05\n",
      "2021-12-29 15:34:49,260 Warning: No enrich terms using library CUSTOM46917967096704 when cutoff = 0.05\n",
      "WARNING:gseapy:Warning: No enrich terms using library CUSTOM46917967096704 when cutoff = 0.05\n",
      "2021-12-29 15:34:49,301 Warning: No enrich terms using library CUSTOM46917967096704 when cutoff = 0.05\n",
      "WARNING:gseapy:Warning: No enrich terms using library CUSTOM46917967096704 when cutoff = 0.05\n",
      "2021-12-29 15:34:49,340 Warning: No enrich terms using library CUSTOM46917967096704 when cutoff = 0.05\n",
      "WARNING:gseapy:Warning: No enrich terms using library CUSTOM46917967096704 when cutoff = 0.05\n",
      "2021-12-29 15:34:53,233 Warning: No enrich terms using library CUSTOM46917967096704 when cutoff = 0.05\n",
      "WARNING:gseapy:Warning: No enrich terms using library CUSTOM46917967096704 when cutoff = 0.05\n",
      "2021-12-29 15:34:58,212 Warning: No enrich terms using library CUSTOM46917967096704 when cutoff = 0.05\n",
      "WARNING:gseapy:Warning: No enrich terms using library CUSTOM46917967096704 when cutoff = 0.05\n",
      "2021-12-29 15:34:58,679 Warning: No enrich terms using library CUSTOM46917967096704 when cutoff = 0.05\n",
      "WARNING:gseapy:Warning: No enrich terms using library CUSTOM46917967096704 when cutoff = 0.05\n",
      "2021-12-29 15:34:58,826 Warning: No enrich terms using library CUSTOM46917967096704 when cutoff = 0.05\n",
      "WARNING:gseapy:Warning: No enrich terms using library CUSTOM46917967096704 when cutoff = 0.05\n",
      "2021-12-29 15:35:00,506 Warning: No enrich terms using library CUSTOM46917967096704 when cutoff = 0.05\n",
      "WARNING:gseapy:Warning: No enrich terms using library CUSTOM46917967096704 when cutoff = 0.05\n",
      "2021-12-29 15:35:04,861 Warning: No enrich terms using library CUSTOM46917967096704 when cutoff = 0.05\n",
      "WARNING:gseapy:Warning: No enrich terms using library CUSTOM46917967096704 when cutoff = 0.05\n"
     ]
    },
    {
     "name": "stdout",
     "output_type": "stream",
     "text": [
      "GO_Biological_Process_2021\n"
     ]
    },
    {
     "name": "stderr",
     "output_type": "stream",
     "text": [
      "2021-12-29 15:35:22,830 Warning: No enrich terms using library CUSTOM46917967771136 when cutoff = 0.05\n",
      "WARNING:gseapy:Warning: No enrich terms using library CUSTOM46917967771136 when cutoff = 0.05\n",
      "2021-12-29 15:36:45,243 Warning: No enrich terms using library CUSTOM46917967771136 when cutoff = 0.05\n",
      "WARNING:gseapy:Warning: No enrich terms using library CUSTOM46917967771136 when cutoff = 0.05\n",
      "2021-12-29 15:37:13,342 Warning: No enrich terms using library CUSTOM46917967771136 when cutoff = 0.05\n",
      "WARNING:gseapy:Warning: No enrich terms using library CUSTOM46917967771136 when cutoff = 0.05\n"
     ]
    },
    {
     "name": "stdout",
     "output_type": "stream",
     "text": [
      "ENCODE_TF_ChIP-seq_2015 816\n",
      "ChEA_2016 645\n",
      "BioPlanet_2019 995\n",
      "KEGG_2019_Mouse 260\n",
      "WikiPathways_2019_Mouse 141\n",
      "GO_Biological_Process_2021 3163\n"
     ]
    }
   ],
   "source": [
    "util_GSEApy.do_enrichment_all(gene_lists=gene_lists, \n",
    "                  background=background, \n",
    "                  databases=databases, \n",
    "                  databases_strict=databases_strict, \n",
    "                  adj_pvalue=adj_pvalue, \n",
    "                  adj_pvalue_strict=adj_pvalue_strict, \n",
    "                  dir_results=os.path.join(dir_results,'DEA'),\n",
    "                  top_n = 5\n",
    "                 )"
   ]
  },
  {
   "cell_type": "markdown",
   "id": "9f547e10",
   "metadata": {},
   "source": [
    "## DEG clusters"
   ]
  },
  {
   "cell_type": "code",
   "execution_count": 17,
   "id": "6d859096",
   "metadata": {},
   "outputs": [
    {
     "data": {
      "text/plain": [
       "[4, 5, 6, 7, 8, 9, 10, 11, 12]"
      ]
     },
     "execution_count": 17,
     "metadata": {},
     "output_type": "execute_result"
    }
   ],
   "source": [
    "# configs\n",
    "ks = list(range(4,13))\n",
    "ks"
   ]
  },
  {
   "cell_type": "code",
   "execution_count": 18,
   "id": "7a61ba84",
   "metadata": {
    "collapsed": true,
    "jupyter": {
     "outputs_hidden": true
    },
    "tags": []
   },
   "outputs": [
    {
     "name": "stdout",
     "output_type": "stream",
     "text": [
      "4\n",
      "dict_keys(['cluster_1', 'cluster_2', 'cluster_3', 'cluster_4'])\n"
     ]
    },
    {
     "name": "stderr",
     "output_type": "stream",
     "text": [
      "/nobackup/lab_bock/users/sreichl/miniconda3/envs/enrichment_analysis/lib/python3.9/site-packages/urllib3/connectionpool.py:1013: InsecureRequestWarning: Unverified HTTPS request is being made to host 'maayanlab.cloud'. Adding certificate verification is strongly advised. See: https://urllib3.readthedocs.io/en/1.26.x/advanced-usage.html#ssl-warnings\n",
      "  warnings.warn(\n",
      "/nobackup/lab_bock/users/sreichl/miniconda3/envs/enrichment_analysis/lib/python3.9/site-packages/urllib3/connectionpool.py:1013: InsecureRequestWarning: Unverified HTTPS request is being made to host 'maayanlab.cloud'. Adding certificate verification is strongly advised. See: https://urllib3.readthedocs.io/en/1.26.x/advanced-usage.html#ssl-warnings\n",
      "  warnings.warn(\n",
      "/nobackup/lab_bock/users/sreichl/miniconda3/envs/enrichment_analysis/lib/python3.9/site-packages/urllib3/connectionpool.py:1013: InsecureRequestWarning: Unverified HTTPS request is being made to host 'maayanlab.cloud'. Adding certificate verification is strongly advised. See: https://urllib3.readthedocs.io/en/1.26.x/advanced-usage.html#ssl-warnings\n",
      "  warnings.warn(\n",
      "/nobackup/lab_bock/users/sreichl/miniconda3/envs/enrichment_analysis/lib/python3.9/site-packages/urllib3/connectionpool.py:1013: InsecureRequestWarning: Unverified HTTPS request is being made to host 'maayanlab.cloud'. Adding certificate verification is strongly advised. See: https://urllib3.readthedocs.io/en/1.26.x/advanced-usage.html#ssl-warnings\n",
      "  warnings.warn(\n",
      "/nobackup/lab_bock/users/sreichl/miniconda3/envs/enrichment_analysis/lib/python3.9/site-packages/urllib3/connectionpool.py:1013: InsecureRequestWarning: Unverified HTTPS request is being made to host 'maayanlab.cloud'. Adding certificate verification is strongly advised. See: https://urllib3.readthedocs.io/en/1.26.x/advanced-usage.html#ssl-warnings\n",
      "  warnings.warn(\n",
      "/nobackup/lab_bock/users/sreichl/miniconda3/envs/enrichment_analysis/lib/python3.9/site-packages/urllib3/connectionpool.py:1013: InsecureRequestWarning: Unverified HTTPS request is being made to host 'maayanlab.cloud'. Adding certificate verification is strongly advised. See: https://urllib3.readthedocs.io/en/1.26.x/advanced-usage.html#ssl-warnings\n",
      "  warnings.warn(\n"
     ]
    },
    {
     "name": "stdout",
     "output_type": "stream",
     "text": [
      "ENCODE_TF_ChIP-seq_2015\n"
     ]
    },
    {
     "name": "stderr",
     "output_type": "stream",
     "text": [
      "2021-12-29 15:46:41,818 Warning: No enrich terms using library CUSTOM46918164305536 when cutoff = 0.05\n",
      "WARNING:gseapy:Warning: No enrich terms using library CUSTOM46918164305536 when cutoff = 0.05\n"
     ]
    },
    {
     "name": "stdout",
     "output_type": "stream",
     "text": [
      "ChEA_2016\n",
      "BioPlanet_2019\n",
      "KEGG_2019_Mouse\n",
      "WikiPathways_2019_Mouse\n",
      "GO_Biological_Process_2021\n",
      "ENCODE_TF_ChIP-seq_2015 813\n",
      "ChEA_2016 640\n",
      "BioPlanet_2019 880\n",
      "KEGG_2019_Mouse 254\n",
      "WikiPathways_2019_Mouse 113\n",
      "GO_Biological_Process_2021 2436\n"
     ]
    },
    {
     "name": "stderr",
     "output_type": "stream",
     "text": [
      "/nobackup/lab_bock/users/sreichl/miniconda3/envs/enrichment_analysis/lib/python3.9/site-packages/seaborn/matrix.py:1203: UserWarning: Tight layout not applied. The left and right margins cannot be made large enough to accommodate all axes decorations. \n",
      "  self._figure.tight_layout(**tight_params)\n"
     ]
    },
    {
     "name": "stdout",
     "output_type": "stream",
     "text": [
      "5\n",
      "dict_keys(['cluster_1', 'cluster_2', 'cluster_3', 'cluster_4', 'cluster_5'])\n"
     ]
    },
    {
     "name": "stderr",
     "output_type": "stream",
     "text": [
      "/nobackup/lab_bock/users/sreichl/miniconda3/envs/enrichment_analysis/lib/python3.9/site-packages/urllib3/connectionpool.py:1013: InsecureRequestWarning: Unverified HTTPS request is being made to host 'maayanlab.cloud'. Adding certificate verification is strongly advised. See: https://urllib3.readthedocs.io/en/1.26.x/advanced-usage.html#ssl-warnings\n",
      "  warnings.warn(\n",
      "/nobackup/lab_bock/users/sreichl/miniconda3/envs/enrichment_analysis/lib/python3.9/site-packages/urllib3/connectionpool.py:1013: InsecureRequestWarning: Unverified HTTPS request is being made to host 'maayanlab.cloud'. Adding certificate verification is strongly advised. See: https://urllib3.readthedocs.io/en/1.26.x/advanced-usage.html#ssl-warnings\n",
      "  warnings.warn(\n",
      "/nobackup/lab_bock/users/sreichl/miniconda3/envs/enrichment_analysis/lib/python3.9/site-packages/urllib3/connectionpool.py:1013: InsecureRequestWarning: Unverified HTTPS request is being made to host 'maayanlab.cloud'. Adding certificate verification is strongly advised. See: https://urllib3.readthedocs.io/en/1.26.x/advanced-usage.html#ssl-warnings\n",
      "  warnings.warn(\n",
      "/nobackup/lab_bock/users/sreichl/miniconda3/envs/enrichment_analysis/lib/python3.9/site-packages/urllib3/connectionpool.py:1013: InsecureRequestWarning: Unverified HTTPS request is being made to host 'maayanlab.cloud'. Adding certificate verification is strongly advised. See: https://urllib3.readthedocs.io/en/1.26.x/advanced-usage.html#ssl-warnings\n",
      "  warnings.warn(\n",
      "/nobackup/lab_bock/users/sreichl/miniconda3/envs/enrichment_analysis/lib/python3.9/site-packages/urllib3/connectionpool.py:1013: InsecureRequestWarning: Unverified HTTPS request is being made to host 'maayanlab.cloud'. Adding certificate verification is strongly advised. See: https://urllib3.readthedocs.io/en/1.26.x/advanced-usage.html#ssl-warnings\n",
      "  warnings.warn(\n",
      "/nobackup/lab_bock/users/sreichl/miniconda3/envs/enrichment_analysis/lib/python3.9/site-packages/urllib3/connectionpool.py:1013: InsecureRequestWarning: Unverified HTTPS request is being made to host 'maayanlab.cloud'. Adding certificate verification is strongly advised. See: https://urllib3.readthedocs.io/en/1.26.x/advanced-usage.html#ssl-warnings\n",
      "  warnings.warn(\n"
     ]
    },
    {
     "name": "stdout",
     "output_type": "stream",
     "text": [
      "ENCODE_TF_ChIP-seq_2015\n"
     ]
    },
    {
     "name": "stderr",
     "output_type": "stream",
     "text": [
      "2021-12-29 15:50:19,689 Warning: No enrich terms using library CUSTOM46918225913600 when cutoff = 0.05\n",
      "WARNING:gseapy:Warning: No enrich terms using library CUSTOM46918225913600 when cutoff = 0.05\n"
     ]
    },
    {
     "name": "stdout",
     "output_type": "stream",
     "text": [
      "ChEA_2016\n",
      "BioPlanet_2019\n"
     ]
    },
    {
     "name": "stderr",
     "output_type": "stream",
     "text": [
      "2021-12-29 15:50:38,478 Warning: No enrich terms using library CUSTOM46917882058880 when cutoff = 0.05\n",
      "WARNING:gseapy:Warning: No enrich terms using library CUSTOM46917882058880 when cutoff = 0.05\n"
     ]
    },
    {
     "name": "stdout",
     "output_type": "stream",
     "text": [
      "KEGG_2019_Mouse\n",
      "WikiPathways_2019_Mouse\n"
     ]
    },
    {
     "name": "stderr",
     "output_type": "stream",
     "text": [
      "2021-12-29 15:50:45,169 Warning: No enrich terms using library CUSTOM46917889199808 when cutoff = 0.05\n",
      "WARNING:gseapy:Warning: No enrich terms using library CUSTOM46917889199808 when cutoff = 0.05\n"
     ]
    },
    {
     "name": "stdout",
     "output_type": "stream",
     "text": [
      "GO_Biological_Process_2021\n",
      "ENCODE_TF_ChIP-seq_2015 813\n",
      "ChEA_2016 639\n",
      "BioPlanet_2019 865\n",
      "KEGG_2019_Mouse 254\n",
      "WikiPathways_2019_Mouse 111\n",
      "GO_Biological_Process_2021 2334\n",
      "6\n",
      "dict_keys(['cluster_1', 'cluster_2', 'cluster_3', 'cluster_4', 'cluster_5', 'cluster_6'])\n"
     ]
    },
    {
     "name": "stderr",
     "output_type": "stream",
     "text": [
      "/nobackup/lab_bock/users/sreichl/miniconda3/envs/enrichment_analysis/lib/python3.9/site-packages/urllib3/connectionpool.py:1013: InsecureRequestWarning: Unverified HTTPS request is being made to host 'maayanlab.cloud'. Adding certificate verification is strongly advised. See: https://urllib3.readthedocs.io/en/1.26.x/advanced-usage.html#ssl-warnings\n",
      "  warnings.warn(\n",
      "/nobackup/lab_bock/users/sreichl/miniconda3/envs/enrichment_analysis/lib/python3.9/site-packages/urllib3/connectionpool.py:1013: InsecureRequestWarning: Unverified HTTPS request is being made to host 'maayanlab.cloud'. Adding certificate verification is strongly advised. See: https://urllib3.readthedocs.io/en/1.26.x/advanced-usage.html#ssl-warnings\n",
      "  warnings.warn(\n",
      "/nobackup/lab_bock/users/sreichl/miniconda3/envs/enrichment_analysis/lib/python3.9/site-packages/urllib3/connectionpool.py:1013: InsecureRequestWarning: Unverified HTTPS request is being made to host 'maayanlab.cloud'. Adding certificate verification is strongly advised. See: https://urllib3.readthedocs.io/en/1.26.x/advanced-usage.html#ssl-warnings\n",
      "  warnings.warn(\n",
      "/nobackup/lab_bock/users/sreichl/miniconda3/envs/enrichment_analysis/lib/python3.9/site-packages/urllib3/connectionpool.py:1013: InsecureRequestWarning: Unverified HTTPS request is being made to host 'maayanlab.cloud'. Adding certificate verification is strongly advised. See: https://urllib3.readthedocs.io/en/1.26.x/advanced-usage.html#ssl-warnings\n",
      "  warnings.warn(\n",
      "/nobackup/lab_bock/users/sreichl/miniconda3/envs/enrichment_analysis/lib/python3.9/site-packages/urllib3/connectionpool.py:1013: InsecureRequestWarning: Unverified HTTPS request is being made to host 'maayanlab.cloud'. Adding certificate verification is strongly advised. See: https://urllib3.readthedocs.io/en/1.26.x/advanced-usage.html#ssl-warnings\n",
      "  warnings.warn(\n",
      "/nobackup/lab_bock/users/sreichl/miniconda3/envs/enrichment_analysis/lib/python3.9/site-packages/urllib3/connectionpool.py:1013: InsecureRequestWarning: Unverified HTTPS request is being made to host 'maayanlab.cloud'. Adding certificate verification is strongly advised. See: https://urllib3.readthedocs.io/en/1.26.x/advanced-usage.html#ssl-warnings\n",
      "  warnings.warn(\n"
     ]
    },
    {
     "name": "stdout",
     "output_type": "stream",
     "text": [
      "ENCODE_TF_ChIP-seq_2015\n"
     ]
    },
    {
     "name": "stderr",
     "output_type": "stream",
     "text": [
      "2021-12-29 15:54:05,943 Warning: No enrich terms using library CUSTOM46917913242304 when cutoff = 0.05\n",
      "WARNING:gseapy:Warning: No enrich terms using library CUSTOM46917913242304 when cutoff = 0.05\n"
     ]
    },
    {
     "name": "stdout",
     "output_type": "stream",
     "text": [
      "ChEA_2016\n",
      "BioPlanet_2019\n"
     ]
    },
    {
     "name": "stderr",
     "output_type": "stream",
     "text": [
      "2021-12-29 15:54:26,497 Warning: No enrich terms using library CUSTOM46917872285184 when cutoff = 0.05\n",
      "WARNING:gseapy:Warning: No enrich terms using library CUSTOM46917872285184 when cutoff = 0.05\n"
     ]
    },
    {
     "name": "stdout",
     "output_type": "stream",
     "text": [
      "KEGG_2019_Mouse\n",
      "WikiPathways_2019_Mouse\n"
     ]
    },
    {
     "name": "stderr",
     "output_type": "stream",
     "text": [
      "2021-12-29 15:54:36,885 Warning: No enrich terms using library CUSTOM46917879159872 when cutoff = 0.05\n",
      "WARNING:gseapy:Warning: No enrich terms using library CUSTOM46917879159872 when cutoff = 0.05\n"
     ]
    },
    {
     "name": "stdout",
     "output_type": "stream",
     "text": [
      "GO_Biological_Process_2021\n",
      "ENCODE_TF_ChIP-seq_2015 812\n",
      "ChEA_2016 639\n",
      "BioPlanet_2019 806\n",
      "KEGG_2019_Mouse 255\n",
      "WikiPathways_2019_Mouse 102\n",
      "GO_Biological_Process_2021 2153\n",
      "7\n",
      "dict_keys(['cluster_1', 'cluster_2', 'cluster_3', 'cluster_4', 'cluster_5', 'cluster_6', 'cluster_7'])\n"
     ]
    },
    {
     "name": "stderr",
     "output_type": "stream",
     "text": [
      "/nobackup/lab_bock/users/sreichl/miniconda3/envs/enrichment_analysis/lib/python3.9/site-packages/urllib3/connectionpool.py:1013: InsecureRequestWarning: Unverified HTTPS request is being made to host 'maayanlab.cloud'. Adding certificate verification is strongly advised. See: https://urllib3.readthedocs.io/en/1.26.x/advanced-usage.html#ssl-warnings\n",
      "  warnings.warn(\n",
      "/nobackup/lab_bock/users/sreichl/miniconda3/envs/enrichment_analysis/lib/python3.9/site-packages/urllib3/connectionpool.py:1013: InsecureRequestWarning: Unverified HTTPS request is being made to host 'maayanlab.cloud'. Adding certificate verification is strongly advised. See: https://urllib3.readthedocs.io/en/1.26.x/advanced-usage.html#ssl-warnings\n",
      "  warnings.warn(\n",
      "/nobackup/lab_bock/users/sreichl/miniconda3/envs/enrichment_analysis/lib/python3.9/site-packages/urllib3/connectionpool.py:1013: InsecureRequestWarning: Unverified HTTPS request is being made to host 'maayanlab.cloud'. Adding certificate verification is strongly advised. See: https://urllib3.readthedocs.io/en/1.26.x/advanced-usage.html#ssl-warnings\n",
      "  warnings.warn(\n",
      "/nobackup/lab_bock/users/sreichl/miniconda3/envs/enrichment_analysis/lib/python3.9/site-packages/urllib3/connectionpool.py:1013: InsecureRequestWarning: Unverified HTTPS request is being made to host 'maayanlab.cloud'. Adding certificate verification is strongly advised. See: https://urllib3.readthedocs.io/en/1.26.x/advanced-usage.html#ssl-warnings\n",
      "  warnings.warn(\n",
      "/nobackup/lab_bock/users/sreichl/miniconda3/envs/enrichment_analysis/lib/python3.9/site-packages/urllib3/connectionpool.py:1013: InsecureRequestWarning: Unverified HTTPS request is being made to host 'maayanlab.cloud'. Adding certificate verification is strongly advised. See: https://urllib3.readthedocs.io/en/1.26.x/advanced-usage.html#ssl-warnings\n",
      "  warnings.warn(\n",
      "/nobackup/lab_bock/users/sreichl/miniconda3/envs/enrichment_analysis/lib/python3.9/site-packages/urllib3/connectionpool.py:1013: InsecureRequestWarning: Unverified HTTPS request is being made to host 'maayanlab.cloud'. Adding certificate verification is strongly advised. See: https://urllib3.readthedocs.io/en/1.26.x/advanced-usage.html#ssl-warnings\n",
      "  warnings.warn(\n"
     ]
    },
    {
     "name": "stdout",
     "output_type": "stream",
     "text": [
      "ENCODE_TF_ChIP-seq_2015\n"
     ]
    },
    {
     "name": "stderr",
     "output_type": "stream",
     "text": [
      "2021-12-29 15:58:30,511 Warning: No enrich terms using library CUSTOM46917951069184 when cutoff = 0.05\n",
      "WARNING:gseapy:Warning: No enrich terms using library CUSTOM46917951069184 when cutoff = 0.05\n"
     ]
    },
    {
     "name": "stdout",
     "output_type": "stream",
     "text": [
      "ChEA_2016\n",
      "BioPlanet_2019\n"
     ]
    },
    {
     "name": "stderr",
     "output_type": "stream",
     "text": [
      "2021-12-29 15:58:52,160 Warning: No enrich terms using library CUSTOM46917860194432 when cutoff = 0.05\n",
      "WARNING:gseapy:Warning: No enrich terms using library CUSTOM46917860194432 when cutoff = 0.05\n"
     ]
    },
    {
     "name": "stdout",
     "output_type": "stream",
     "text": [
      "KEGG_2019_Mouse\n",
      "WikiPathways_2019_Mouse\n"
     ]
    },
    {
     "name": "stderr",
     "output_type": "stream",
     "text": [
      "2021-12-29 15:59:04,684 Warning: No enrich terms using library CUSTOM46917867331264 when cutoff = 0.05\n",
      "WARNING:gseapy:Warning: No enrich terms using library CUSTOM46917867331264 when cutoff = 0.05\n"
     ]
    },
    {
     "name": "stdout",
     "output_type": "stream",
     "text": [
      "GO_Biological_Process_2021\n",
      "ENCODE_TF_ChIP-seq_2015 812\n",
      "ChEA_2016 641\n",
      "BioPlanet_2019 797\n",
      "KEGG_2019_Mouse 255\n",
      "WikiPathways_2019_Mouse 99\n",
      "GO_Biological_Process_2021 2123\n",
      "8\n",
      "dict_keys(['cluster_1', 'cluster_2', 'cluster_3', 'cluster_4', 'cluster_5', 'cluster_6', 'cluster_7', 'cluster_8'])\n"
     ]
    },
    {
     "name": "stderr",
     "output_type": "stream",
     "text": [
      "/nobackup/lab_bock/users/sreichl/miniconda3/envs/enrichment_analysis/lib/python3.9/site-packages/urllib3/connectionpool.py:1013: InsecureRequestWarning: Unverified HTTPS request is being made to host 'maayanlab.cloud'. Adding certificate verification is strongly advised. See: https://urllib3.readthedocs.io/en/1.26.x/advanced-usage.html#ssl-warnings\n",
      "  warnings.warn(\n",
      "/nobackup/lab_bock/users/sreichl/miniconda3/envs/enrichment_analysis/lib/python3.9/site-packages/urllib3/connectionpool.py:1013: InsecureRequestWarning: Unverified HTTPS request is being made to host 'maayanlab.cloud'. Adding certificate verification is strongly advised. See: https://urllib3.readthedocs.io/en/1.26.x/advanced-usage.html#ssl-warnings\n",
      "  warnings.warn(\n",
      "/nobackup/lab_bock/users/sreichl/miniconda3/envs/enrichment_analysis/lib/python3.9/site-packages/urllib3/connectionpool.py:1013: InsecureRequestWarning: Unverified HTTPS request is being made to host 'maayanlab.cloud'. Adding certificate verification is strongly advised. See: https://urllib3.readthedocs.io/en/1.26.x/advanced-usage.html#ssl-warnings\n",
      "  warnings.warn(\n",
      "/nobackup/lab_bock/users/sreichl/miniconda3/envs/enrichment_analysis/lib/python3.9/site-packages/urllib3/connectionpool.py:1013: InsecureRequestWarning: Unverified HTTPS request is being made to host 'maayanlab.cloud'. Adding certificate verification is strongly advised. See: https://urllib3.readthedocs.io/en/1.26.x/advanced-usage.html#ssl-warnings\n",
      "  warnings.warn(\n",
      "/nobackup/lab_bock/users/sreichl/miniconda3/envs/enrichment_analysis/lib/python3.9/site-packages/urllib3/connectionpool.py:1013: InsecureRequestWarning: Unverified HTTPS request is being made to host 'maayanlab.cloud'. Adding certificate verification is strongly advised. See: https://urllib3.readthedocs.io/en/1.26.x/advanced-usage.html#ssl-warnings\n",
      "  warnings.warn(\n",
      "/nobackup/lab_bock/users/sreichl/miniconda3/envs/enrichment_analysis/lib/python3.9/site-packages/urllib3/connectionpool.py:1013: InsecureRequestWarning: Unverified HTTPS request is being made to host 'maayanlab.cloud'. Adding certificate verification is strongly advised. See: https://urllib3.readthedocs.io/en/1.26.x/advanced-usage.html#ssl-warnings\n",
      "  warnings.warn(\n"
     ]
    },
    {
     "name": "stdout",
     "output_type": "stream",
     "text": [
      "ENCODE_TF_ChIP-seq_2015\n"
     ]
    },
    {
     "name": "stderr",
     "output_type": "stream",
     "text": [
      "2021-12-29 16:03:06,479 Warning: No enrich terms using library CUSTOM46918225819712 when cutoff = 0.05\n",
      "WARNING:gseapy:Warning: No enrich terms using library CUSTOM46918225819712 when cutoff = 0.05\n"
     ]
    },
    {
     "name": "stdout",
     "output_type": "stream",
     "text": [
      "ChEA_2016\n",
      "BioPlanet_2019\n"
     ]
    },
    {
     "name": "stderr",
     "output_type": "stream",
     "text": [
      "2021-12-29 16:03:29,722 Warning: No enrich terms using library CUSTOM46917847842368 when cutoff = 0.05\n",
      "WARNING:gseapy:Warning: No enrich terms using library CUSTOM46917847842368 when cutoff = 0.05\n"
     ]
    },
    {
     "name": "stdout",
     "output_type": "stream",
     "text": [
      "KEGG_2019_Mouse\n"
     ]
    },
    {
     "name": "stderr",
     "output_type": "stream",
     "text": [
      "2021-12-29 16:03:38,308 Warning: No enrich terms using library CUSTOM46917853016640 when cutoff = 0.05\n",
      "WARNING:gseapy:Warning: No enrich terms using library CUSTOM46917853016640 when cutoff = 0.05\n"
     ]
    },
    {
     "name": "stdout",
     "output_type": "stream",
     "text": [
      "WikiPathways_2019_Mouse\n"
     ]
    },
    {
     "name": "stderr",
     "output_type": "stream",
     "text": [
      "2021-12-29 16:03:41,910 Warning: No enrich terms using library CUSTOM46917854975232 when cutoff = 0.05\n",
      "WARNING:gseapy:Warning: No enrich terms using library CUSTOM46917854975232 when cutoff = 0.05\n",
      "2021-12-29 16:03:42,168 Warning: No enrich terms using library CUSTOM46917854975232 when cutoff = 0.05\n",
      "WARNING:gseapy:Warning: No enrich terms using library CUSTOM46917854975232 when cutoff = 0.05\n"
     ]
    },
    {
     "name": "stdout",
     "output_type": "stream",
     "text": [
      "GO_Biological_Process_2021\n",
      "ENCODE_TF_ChIP-seq_2015 812\n",
      "ChEA_2016 641\n",
      "BioPlanet_2019 797\n",
      "KEGG_2019_Mouse 255\n",
      "WikiPathways_2019_Mouse 99\n",
      "GO_Biological_Process_2021 2178\n",
      "9\n",
      "dict_keys(['cluster_1', 'cluster_2', 'cluster_3', 'cluster_4', 'cluster_5', 'cluster_6', 'cluster_7', 'cluster_8', 'cluster_9'])\n"
     ]
    },
    {
     "name": "stderr",
     "output_type": "stream",
     "text": [
      "/nobackup/lab_bock/users/sreichl/miniconda3/envs/enrichment_analysis/lib/python3.9/site-packages/urllib3/connectionpool.py:1013: InsecureRequestWarning: Unverified HTTPS request is being made to host 'maayanlab.cloud'. Adding certificate verification is strongly advised. See: https://urllib3.readthedocs.io/en/1.26.x/advanced-usage.html#ssl-warnings\n",
      "  warnings.warn(\n",
      "/nobackup/lab_bock/users/sreichl/miniconda3/envs/enrichment_analysis/lib/python3.9/site-packages/urllib3/connectionpool.py:1013: InsecureRequestWarning: Unverified HTTPS request is being made to host 'maayanlab.cloud'. Adding certificate verification is strongly advised. See: https://urllib3.readthedocs.io/en/1.26.x/advanced-usage.html#ssl-warnings\n",
      "  warnings.warn(\n",
      "/nobackup/lab_bock/users/sreichl/miniconda3/envs/enrichment_analysis/lib/python3.9/site-packages/urllib3/connectionpool.py:1013: InsecureRequestWarning: Unverified HTTPS request is being made to host 'maayanlab.cloud'. Adding certificate verification is strongly advised. See: https://urllib3.readthedocs.io/en/1.26.x/advanced-usage.html#ssl-warnings\n",
      "  warnings.warn(\n",
      "/nobackup/lab_bock/users/sreichl/miniconda3/envs/enrichment_analysis/lib/python3.9/site-packages/urllib3/connectionpool.py:1013: InsecureRequestWarning: Unverified HTTPS request is being made to host 'maayanlab.cloud'. Adding certificate verification is strongly advised. See: https://urllib3.readthedocs.io/en/1.26.x/advanced-usage.html#ssl-warnings\n",
      "  warnings.warn(\n",
      "/nobackup/lab_bock/users/sreichl/miniconda3/envs/enrichment_analysis/lib/python3.9/site-packages/urllib3/connectionpool.py:1013: InsecureRequestWarning: Unverified HTTPS request is being made to host 'maayanlab.cloud'. Adding certificate verification is strongly advised. See: https://urllib3.readthedocs.io/en/1.26.x/advanced-usage.html#ssl-warnings\n",
      "  warnings.warn(\n",
      "/nobackup/lab_bock/users/sreichl/miniconda3/envs/enrichment_analysis/lib/python3.9/site-packages/urllib3/connectionpool.py:1013: InsecureRequestWarning: Unverified HTTPS request is being made to host 'maayanlab.cloud'. Adding certificate verification is strongly advised. See: https://urllib3.readthedocs.io/en/1.26.x/advanced-usage.html#ssl-warnings\n",
      "  warnings.warn(\n"
     ]
    },
    {
     "name": "stdout",
     "output_type": "stream",
     "text": [
      "ENCODE_TF_ChIP-seq_2015\n"
     ]
    },
    {
     "name": "stderr",
     "output_type": "stream",
     "text": [
      "2021-12-29 16:07:49,457 Warning: No enrich terms using library CUSTOM46918262999808 when cutoff = 0.05\n",
      "WARNING:gseapy:Warning: No enrich terms using library CUSTOM46918262999808 when cutoff = 0.05\n"
     ]
    },
    {
     "name": "stdout",
     "output_type": "stream",
     "text": [
      "ChEA_2016\n",
      "BioPlanet_2019\n"
     ]
    },
    {
     "name": "stderr",
     "output_type": "stream",
     "text": [
      "2021-12-29 16:08:13,419 Warning: No enrich terms using library CUSTOM46917836272448 when cutoff = 0.05\n",
      "WARNING:gseapy:Warning: No enrich terms using library CUSTOM46917836272448 when cutoff = 0.05\n"
     ]
    },
    {
     "name": "stdout",
     "output_type": "stream",
     "text": [
      "KEGG_2019_Mouse\n"
     ]
    },
    {
     "name": "stderr",
     "output_type": "stream",
     "text": [
      "2021-12-29 16:08:23,103 Warning: No enrich terms using library CUSTOM46917841184448 when cutoff = 0.05\n",
      "WARNING:gseapy:Warning: No enrich terms using library CUSTOM46917841184448 when cutoff = 0.05\n"
     ]
    },
    {
     "name": "stdout",
     "output_type": "stream",
     "text": [
      "WikiPathways_2019_Mouse\n"
     ]
    },
    {
     "name": "stderr",
     "output_type": "stream",
     "text": [
      "2021-12-29 16:08:27,070 Warning: No enrich terms using library CUSTOM46917843143040 when cutoff = 0.05\n",
      "WARNING:gseapy:Warning: No enrich terms using library CUSTOM46917843143040 when cutoff = 0.05\n",
      "2021-12-29 16:08:27,317 Warning: No enrich terms using library CUSTOM46917843143040 when cutoff = 0.05\n",
      "WARNING:gseapy:Warning: No enrich terms using library CUSTOM46917843143040 when cutoff = 0.05\n"
     ]
    },
    {
     "name": "stdout",
     "output_type": "stream",
     "text": [
      "GO_Biological_Process_2021\n",
      "ENCODE_TF_ChIP-seq_2015 812\n",
      "ChEA_2016 637\n",
      "BioPlanet_2019 818\n",
      "KEGG_2019_Mouse 254\n",
      "WikiPathways_2019_Mouse 102\n",
      "GO_Biological_Process_2021 2441\n",
      "10\n",
      "dict_keys(['cluster_1', 'cluster_2', 'cluster_3', 'cluster_4', 'cluster_5', 'cluster_6', 'cluster_7', 'cluster_8', 'cluster_9', 'cluster_10'])\n"
     ]
    },
    {
     "name": "stderr",
     "output_type": "stream",
     "text": [
      "/nobackup/lab_bock/users/sreichl/miniconda3/envs/enrichment_analysis/lib/python3.9/site-packages/urllib3/connectionpool.py:1013: InsecureRequestWarning: Unverified HTTPS request is being made to host 'maayanlab.cloud'. Adding certificate verification is strongly advised. See: https://urllib3.readthedocs.io/en/1.26.x/advanced-usage.html#ssl-warnings\n",
      "  warnings.warn(\n",
      "/nobackup/lab_bock/users/sreichl/miniconda3/envs/enrichment_analysis/lib/python3.9/site-packages/urllib3/connectionpool.py:1013: InsecureRequestWarning: Unverified HTTPS request is being made to host 'maayanlab.cloud'. Adding certificate verification is strongly advised. See: https://urllib3.readthedocs.io/en/1.26.x/advanced-usage.html#ssl-warnings\n",
      "  warnings.warn(\n",
      "/nobackup/lab_bock/users/sreichl/miniconda3/envs/enrichment_analysis/lib/python3.9/site-packages/urllib3/connectionpool.py:1013: InsecureRequestWarning: Unverified HTTPS request is being made to host 'maayanlab.cloud'. Adding certificate verification is strongly advised. See: https://urllib3.readthedocs.io/en/1.26.x/advanced-usage.html#ssl-warnings\n",
      "  warnings.warn(\n",
      "/nobackup/lab_bock/users/sreichl/miniconda3/envs/enrichment_analysis/lib/python3.9/site-packages/urllib3/connectionpool.py:1013: InsecureRequestWarning: Unverified HTTPS request is being made to host 'maayanlab.cloud'. Adding certificate verification is strongly advised. See: https://urllib3.readthedocs.io/en/1.26.x/advanced-usage.html#ssl-warnings\n",
      "  warnings.warn(\n",
      "/nobackup/lab_bock/users/sreichl/miniconda3/envs/enrichment_analysis/lib/python3.9/site-packages/urllib3/connectionpool.py:1013: InsecureRequestWarning: Unverified HTTPS request is being made to host 'maayanlab.cloud'. Adding certificate verification is strongly advised. See: https://urllib3.readthedocs.io/en/1.26.x/advanced-usage.html#ssl-warnings\n",
      "  warnings.warn(\n",
      "/nobackup/lab_bock/users/sreichl/miniconda3/envs/enrichment_analysis/lib/python3.9/site-packages/urllib3/connectionpool.py:1013: InsecureRequestWarning: Unverified HTTPS request is being made to host 'maayanlab.cloud'. Adding certificate verification is strongly advised. See: https://urllib3.readthedocs.io/en/1.26.x/advanced-usage.html#ssl-warnings\n",
      "  warnings.warn(\n"
     ]
    },
    {
     "name": "stdout",
     "output_type": "stream",
     "text": [
      "ENCODE_TF_ChIP-seq_2015\n"
     ]
    },
    {
     "name": "stderr",
     "output_type": "stream",
     "text": [
      "2021-12-29 16:12:52,431 Warning: No enrich terms using library CUSTOM46918305382784 when cutoff = 0.05\n",
      "WARNING:gseapy:Warning: No enrich terms using library CUSTOM46918305382784 when cutoff = 0.05\n"
     ]
    },
    {
     "name": "stdout",
     "output_type": "stream",
     "text": [
      "ChEA_2016\n",
      "BioPlanet_2019\n"
     ]
    },
    {
     "name": "stderr",
     "output_type": "stream",
     "text": [
      "2021-12-29 16:13:27,348 Warning: No enrich terms using library CUSTOM46917822448896 when cutoff = 0.05\n",
      "WARNING:gseapy:Warning: No enrich terms using library CUSTOM46917822448896 when cutoff = 0.05\n"
     ]
    },
    {
     "name": "stdout",
     "output_type": "stream",
     "text": [
      "KEGG_2019_Mouse\n"
     ]
    },
    {
     "name": "stderr",
     "output_type": "stream",
     "text": [
      "2021-12-29 16:13:30,121 Warning: No enrich terms using library CUSTOM46917827881088 when cutoff = 0.05\n",
      "WARNING:gseapy:Warning: No enrich terms using library CUSTOM46917827881088 when cutoff = 0.05\n",
      "2021-12-29 16:13:32,839 Warning: No enrich terms using library CUSTOM46917827881088 when cutoff = 0.05\n",
      "WARNING:gseapy:Warning: No enrich terms using library CUSTOM46917827881088 when cutoff = 0.05\n"
     ]
    },
    {
     "name": "stdout",
     "output_type": "stream",
     "text": [
      "WikiPathways_2019_Mouse\n"
     ]
    },
    {
     "name": "stderr",
     "output_type": "stream",
     "text": [
      "2021-12-29 16:13:34,115 Warning: No enrich terms using library CUSTOM46917830105920 when cutoff = 0.05\n",
      "WARNING:gseapy:Warning: No enrich terms using library CUSTOM46917830105920 when cutoff = 0.05\n",
      "2021-12-29 16:13:34,270 Warning: No enrich terms using library CUSTOM46917830105920 when cutoff = 0.05\n",
      "WARNING:gseapy:Warning: No enrich terms using library CUSTOM46917830105920 when cutoff = 0.05\n",
      "2021-12-29 16:13:35,907 Warning: No enrich terms using library CUSTOM46917830105920 when cutoff = 0.05\n",
      "WARNING:gseapy:Warning: No enrich terms using library CUSTOM46917830105920 when cutoff = 0.05\n"
     ]
    },
    {
     "name": "stdout",
     "output_type": "stream",
     "text": [
      "GO_Biological_Process_2021\n"
     ]
    },
    {
     "name": "stderr",
     "output_type": "stream",
     "text": [
      "2021-12-29 16:14:07,767 Warning: No enrich terms using library CUSTOM46917831276736 when cutoff = 0.05\n",
      "WARNING:gseapy:Warning: No enrich terms using library CUSTOM46917831276736 when cutoff = 0.05\n"
     ]
    },
    {
     "name": "stdout",
     "output_type": "stream",
     "text": [
      "ENCODE_TF_ChIP-seq_2015 811\n",
      "ChEA_2016 636\n",
      "BioPlanet_2019 819\n",
      "KEGG_2019_Mouse 254\n",
      "WikiPathways_2019_Mouse 102\n",
      "GO_Biological_Process_2021 2440\n",
      "11\n",
      "dict_keys(['cluster_1', 'cluster_2', 'cluster_3', 'cluster_4', 'cluster_5', 'cluster_6', 'cluster_7', 'cluster_8', 'cluster_9', 'cluster_10', 'cluster_11'])\n"
     ]
    },
    {
     "name": "stderr",
     "output_type": "stream",
     "text": [
      "/nobackup/lab_bock/users/sreichl/miniconda3/envs/enrichment_analysis/lib/python3.9/site-packages/urllib3/connectionpool.py:1013: InsecureRequestWarning: Unverified HTTPS request is being made to host 'maayanlab.cloud'. Adding certificate verification is strongly advised. See: https://urllib3.readthedocs.io/en/1.26.x/advanced-usage.html#ssl-warnings\n",
      "  warnings.warn(\n",
      "/nobackup/lab_bock/users/sreichl/miniconda3/envs/enrichment_analysis/lib/python3.9/site-packages/urllib3/connectionpool.py:1013: InsecureRequestWarning: Unverified HTTPS request is being made to host 'maayanlab.cloud'. Adding certificate verification is strongly advised. See: https://urllib3.readthedocs.io/en/1.26.x/advanced-usage.html#ssl-warnings\n",
      "  warnings.warn(\n",
      "/nobackup/lab_bock/users/sreichl/miniconda3/envs/enrichment_analysis/lib/python3.9/site-packages/urllib3/connectionpool.py:1013: InsecureRequestWarning: Unverified HTTPS request is being made to host 'maayanlab.cloud'. Adding certificate verification is strongly advised. See: https://urllib3.readthedocs.io/en/1.26.x/advanced-usage.html#ssl-warnings\n",
      "  warnings.warn(\n",
      "/nobackup/lab_bock/users/sreichl/miniconda3/envs/enrichment_analysis/lib/python3.9/site-packages/urllib3/connectionpool.py:1013: InsecureRequestWarning: Unverified HTTPS request is being made to host 'maayanlab.cloud'. Adding certificate verification is strongly advised. See: https://urllib3.readthedocs.io/en/1.26.x/advanced-usage.html#ssl-warnings\n",
      "  warnings.warn(\n",
      "/nobackup/lab_bock/users/sreichl/miniconda3/envs/enrichment_analysis/lib/python3.9/site-packages/urllib3/connectionpool.py:1013: InsecureRequestWarning: Unverified HTTPS request is being made to host 'maayanlab.cloud'. Adding certificate verification is strongly advised. See: https://urllib3.readthedocs.io/en/1.26.x/advanced-usage.html#ssl-warnings\n",
      "  warnings.warn(\n",
      "/nobackup/lab_bock/users/sreichl/miniconda3/envs/enrichment_analysis/lib/python3.9/site-packages/urllib3/connectionpool.py:1013: InsecureRequestWarning: Unverified HTTPS request is being made to host 'maayanlab.cloud'. Adding certificate verification is strongly advised. See: https://urllib3.readthedocs.io/en/1.26.x/advanced-usage.html#ssl-warnings\n",
      "  warnings.warn(\n"
     ]
    },
    {
     "name": "stdout",
     "output_type": "stream",
     "text": [
      "ENCODE_TF_ChIP-seq_2015\n"
     ]
    },
    {
     "name": "stderr",
     "output_type": "stream",
     "text": [
      "2021-12-29 16:18:02,399 Warning: No enrich terms using library CUSTOM46918385880320 when cutoff = 0.05\n",
      "WARNING:gseapy:Warning: No enrich terms using library CUSTOM46918385880320 when cutoff = 0.05\n"
     ]
    },
    {
     "name": "stdout",
     "output_type": "stream",
     "text": [
      "ChEA_2016\n",
      "BioPlanet_2019\n"
     ]
    },
    {
     "name": "stderr",
     "output_type": "stream",
     "text": [
      "2021-12-29 16:18:40,800 Warning: No enrich terms using library CUSTOM46918546838400 when cutoff = 0.05\n",
      "WARNING:gseapy:Warning: No enrich terms using library CUSTOM46918546838400 when cutoff = 0.05\n"
     ]
    },
    {
     "name": "stdout",
     "output_type": "stream",
     "text": [
      "KEGG_2019_Mouse\n"
     ]
    },
    {
     "name": "stderr",
     "output_type": "stream",
     "text": [
      "2021-12-29 16:18:44,057 Warning: No enrich terms using library CUSTOM46918552241984 when cutoff = 0.05\n",
      "WARNING:gseapy:Warning: No enrich terms using library CUSTOM46918552241984 when cutoff = 0.05\n",
      "2021-12-29 16:18:47,012 Warning: No enrich terms using library CUSTOM46918552241984 when cutoff = 0.05\n",
      "WARNING:gseapy:Warning: No enrich terms using library CUSTOM46918552241984 when cutoff = 0.05\n"
     ]
    },
    {
     "name": "stdout",
     "output_type": "stream",
     "text": [
      "WikiPathways_2019_Mouse\n"
     ]
    },
    {
     "name": "stderr",
     "output_type": "stream",
     "text": [
      "2021-12-29 16:18:48,471 Warning: No enrich terms using library CUSTOM46918554229248 when cutoff = 0.05\n",
      "WARNING:gseapy:Warning: No enrich terms using library CUSTOM46918554229248 when cutoff = 0.05\n",
      "2021-12-29 16:18:48,627 Warning: No enrich terms using library CUSTOM46918554229248 when cutoff = 0.05\n",
      "WARNING:gseapy:Warning: No enrich terms using library CUSTOM46918554229248 when cutoff = 0.05\n",
      "2021-12-29 16:18:50,315 Warning: No enrich terms using library CUSTOM46918554229248 when cutoff = 0.05\n",
      "WARNING:gseapy:Warning: No enrich terms using library CUSTOM46918554229248 when cutoff = 0.05\n"
     ]
    },
    {
     "name": "stdout",
     "output_type": "stream",
     "text": [
      "GO_Biological_Process_2021\n"
     ]
    },
    {
     "name": "stderr",
     "output_type": "stream",
     "text": [
      "2021-12-29 16:19:22,197 Warning: No enrich terms using library CUSTOM46918554912640 when cutoff = 0.05\n",
      "WARNING:gseapy:Warning: No enrich terms using library CUSTOM46918554912640 when cutoff = 0.05\n"
     ]
    },
    {
     "name": "stdout",
     "output_type": "stream",
     "text": [
      "ENCODE_TF_ChIP-seq_2015 811\n",
      "ChEA_2016 634\n",
      "BioPlanet_2019 809\n",
      "KEGG_2019_Mouse 250\n",
      "WikiPathways_2019_Mouse 102\n",
      "GO_Biological_Process_2021 2439\n",
      "12\n",
      "dict_keys(['cluster_1', 'cluster_2', 'cluster_3', 'cluster_4', 'cluster_5', 'cluster_6', 'cluster_7', 'cluster_8', 'cluster_9', 'cluster_10', 'cluster_11', 'cluster_12'])\n"
     ]
    },
    {
     "name": "stderr",
     "output_type": "stream",
     "text": [
      "/nobackup/lab_bock/users/sreichl/miniconda3/envs/enrichment_analysis/lib/python3.9/site-packages/urllib3/connectionpool.py:1013: InsecureRequestWarning: Unverified HTTPS request is being made to host 'maayanlab.cloud'. Adding certificate verification is strongly advised. See: https://urllib3.readthedocs.io/en/1.26.x/advanced-usage.html#ssl-warnings\n",
      "  warnings.warn(\n",
      "/nobackup/lab_bock/users/sreichl/miniconda3/envs/enrichment_analysis/lib/python3.9/site-packages/urllib3/connectionpool.py:1013: InsecureRequestWarning: Unverified HTTPS request is being made to host 'maayanlab.cloud'. Adding certificate verification is strongly advised. See: https://urllib3.readthedocs.io/en/1.26.x/advanced-usage.html#ssl-warnings\n",
      "  warnings.warn(\n",
      "/nobackup/lab_bock/users/sreichl/miniconda3/envs/enrichment_analysis/lib/python3.9/site-packages/urllib3/connectionpool.py:1013: InsecureRequestWarning: Unverified HTTPS request is being made to host 'maayanlab.cloud'. Adding certificate verification is strongly advised. See: https://urllib3.readthedocs.io/en/1.26.x/advanced-usage.html#ssl-warnings\n",
      "  warnings.warn(\n",
      "/nobackup/lab_bock/users/sreichl/miniconda3/envs/enrichment_analysis/lib/python3.9/site-packages/urllib3/connectionpool.py:1013: InsecureRequestWarning: Unverified HTTPS request is being made to host 'maayanlab.cloud'. Adding certificate verification is strongly advised. See: https://urllib3.readthedocs.io/en/1.26.x/advanced-usage.html#ssl-warnings\n",
      "  warnings.warn(\n",
      "/nobackup/lab_bock/users/sreichl/miniconda3/envs/enrichment_analysis/lib/python3.9/site-packages/urllib3/connectionpool.py:1013: InsecureRequestWarning: Unverified HTTPS request is being made to host 'maayanlab.cloud'. Adding certificate verification is strongly advised. See: https://urllib3.readthedocs.io/en/1.26.x/advanced-usage.html#ssl-warnings\n",
      "  warnings.warn(\n",
      "/nobackup/lab_bock/users/sreichl/miniconda3/envs/enrichment_analysis/lib/python3.9/site-packages/urllib3/connectionpool.py:1013: InsecureRequestWarning: Unverified HTTPS request is being made to host 'maayanlab.cloud'. Adding certificate verification is strongly advised. See: https://urllib3.readthedocs.io/en/1.26.x/advanced-usage.html#ssl-warnings\n",
      "  warnings.warn(\n"
     ]
    },
    {
     "name": "stdout",
     "output_type": "stream",
     "text": [
      "ENCODE_TF_ChIP-seq_2015\n"
     ]
    },
    {
     "name": "stderr",
     "output_type": "stream",
     "text": [
      "2021-12-29 16:23:28,026 Warning: No enrich terms using library CUSTOM46918296164480 when cutoff = 0.05\n",
      "WARNING:gseapy:Warning: No enrich terms using library CUSTOM46918296164480 when cutoff = 0.05\n"
     ]
    },
    {
     "name": "stdout",
     "output_type": "stream",
     "text": [
      "ChEA_2016\n",
      "BioPlanet_2019\n"
     ]
    },
    {
     "name": "stderr",
     "output_type": "stream",
     "text": [
      "2021-12-29 16:24:08,622 Warning: No enrich terms using library CUSTOM46917816466560 when cutoff = 0.05\n",
      "WARNING:gseapy:Warning: No enrich terms using library CUSTOM46917816466560 when cutoff = 0.05\n"
     ]
    },
    {
     "name": "stdout",
     "output_type": "stream",
     "text": [
      "KEGG_2019_Mouse\n"
     ]
    },
    {
     "name": "stderr",
     "output_type": "stream",
     "text": [
      "2021-12-29 16:24:11,428 Warning: No enrich terms using library CUSTOM46917822185664 when cutoff = 0.05\n",
      "WARNING:gseapy:Warning: No enrich terms using library CUSTOM46917822185664 when cutoff = 0.05\n",
      "2021-12-29 16:24:16,686 Warning: No enrich terms using library CUSTOM46917822185664 when cutoff = 0.05\n",
      "WARNING:gseapy:Warning: No enrich terms using library CUSTOM46917822185664 when cutoff = 0.05\n"
     ]
    },
    {
     "name": "stdout",
     "output_type": "stream",
     "text": [
      "WikiPathways_2019_Mouse\n"
     ]
    },
    {
     "name": "stderr",
     "output_type": "stream",
     "text": [
      "2021-12-29 16:24:18,045 Warning: No enrich terms using library CUSTOM46917831766912 when cutoff = 0.05\n",
      "WARNING:gseapy:Warning: No enrich terms using library CUSTOM46917831766912 when cutoff = 0.05\n",
      "2021-12-29 16:24:18,192 Warning: No enrich terms using library CUSTOM46917831766912 when cutoff = 0.05\n",
      "WARNING:gseapy:Warning: No enrich terms using library CUSTOM46917831766912 when cutoff = 0.05\n",
      "2021-12-29 16:24:20,061 Warning: No enrich terms using library CUSTOM46917831766912 when cutoff = 0.05\n",
      "WARNING:gseapy:Warning: No enrich terms using library CUSTOM46917831766912 when cutoff = 0.05\n"
     ]
    },
    {
     "name": "stdout",
     "output_type": "stream",
     "text": [
      "GO_Biological_Process_2021\n"
     ]
    },
    {
     "name": "stderr",
     "output_type": "stream",
     "text": [
      "2021-12-29 16:24:53,112 Warning: No enrich terms using library CUSTOM46917832417536 when cutoff = 0.05\n",
      "WARNING:gseapy:Warning: No enrich terms using library CUSTOM46917832417536 when cutoff = 0.05\n"
     ]
    },
    {
     "name": "stdout",
     "output_type": "stream",
     "text": [
      "ENCODE_TF_ChIP-seq_2015 811\n",
      "ChEA_2016 634\n",
      "BioPlanet_2019 822\n",
      "KEGG_2019_Mouse 250\n",
      "WikiPathways_2019_Mouse 104\n",
      "GO_Biological_Process_2021 2530\n"
     ]
    }
   ],
   "source": [
    "for k in ks:\n",
    "    # get DEG cluster genes\n",
    "    gene_lists = dict()\n",
    "\n",
    "    # load clustering results\n",
    "    DEA_cluster_results = pd.read_csv(os.path.join(dir_data,'DEA','Clusters_HM_{}'.format(k),'Genes.csv'), header=0)\n",
    "#     DEA_cluster_results = DEA_cluster_results.set_index('rn')\n",
    "    # make gene lists\n",
    "    tmp_gene_lists=DEA_cluster_results.groupby('value')['rn'].apply(list).to_dict()\n",
    "\n",
    "    # rename gene_lists\n",
    "    for key in tmp_gene_lists.keys():\n",
    "        gene_lists[\"cluster_\"+str(key)] = tmp_gene_lists[key]\n",
    "\n",
    "    print(len(gene_lists.keys()))        \n",
    "    print(gene_lists.keys())\n",
    "\n",
    "    # convert gene IDs to symbols, and upper-case\n",
    "    for key in gene_lists.keys():\n",
    "        gene_lists[key] = gene_annot.loc[gene_lists[key], 'external_gene_name']\n",
    "        gene_lists[key] = list(gene_lists[key])\n",
    "        gene_lists[key] = [str(x).upper() for x in list(gene_lists[key])]\n",
    "\n",
    "    util_GSEApy.do_enrichment_all(gene_lists=gene_lists, \n",
    "                      background=background, \n",
    "                      databases=databases, \n",
    "                      databases_strict=databases_strict, \n",
    "                      adj_pvalue=adj_pvalue, \n",
    "                      adj_pvalue_strict=adj_pvalue_strict, \n",
    "                      dir_results=os.path.join(dir_results,'DEG_clusters','k_{}'.format(k)),\n",
    "                  top_n = 25\n",
    "                     )"
   ]
  },
  {
   "cell_type": "code",
   "execution_count": 19,
   "id": "aeae791f",
   "metadata": {
    "tags": []
   },
   "outputs": [
    {
     "data": {
      "image/png": "[encoded data removed]",
      "text/plain": [
       "<Figure size 576x288 with 1 Axes>"
      ]
     },
     "metadata": {
      "needs_background": "light"
     },
     "output_type": "display_data"
    },
    {
     "data": {
      "image/png": "[encoded data removed]",
      "text/plain": [
       "<Figure size 576x288 with 1 Axes>"
      ]
     },
     "metadata": {
      "needs_background": "light"
     },
     "output_type": "display_data"
    }
   ],
   "source": [
    "# make plots that show relationship between k and number of unique stat. sign. enrichment terms\n",
    "plot_sum_df = pd.DataFrame(index=ks, columns=databases)\n",
    "plot_unique_df = pd.DataFrame(index=ks, columns=databases)\n",
    "\n",
    "for k in ks:\n",
    "    for db in databases:\n",
    "        tmp_results = pd.read_csv(os.path.join(dir_results,'DEG_clusters','k_{}'.format(k), \"summary_{}_adjpvalues.csv\".format(db)), index_col=0)\n",
    "        plot_sum_df.loc[k,db]=tmp_results.shape[0]\n",
    "        plot_unique_df.loc[k,db]=sum((tmp_results<0.05).sum(axis=1)==1)\n",
    "\n",
    "# make sum plot\n",
    "plot_sum_df= plot_sum_df.apply(pd.to_numeric)\n",
    "plot_sum_df.plot.line(figsize=(8,4))\n",
    "plt.scatter(plot_sum_df.idxmax(), plot_sum_df.max(), marker='^', color='k')\n",
    "plt.scatter(plot_sum_df.idxmin(), plot_sum_df.min(), marker='v', color='k')\n",
    "plt.xlabel('# of clusters')\n",
    "plt.ylabel('# of unique stat. sign. enrichment terms')\n",
    "plt.title('Biological interpretability of DEG clusters')\n",
    "plt.legend(loc='center left', bbox_to_anchor=(1, 0.5))\n",
    "plt.tight_layout()\n",
    "plt.savefig(\n",
    "    fname=os.path.join(dir_results,'DEG_clusters',\"Biological_interpretability_sum.svg\"),\n",
    "    format=\"svg\",\n",
    "    dpi=300,\n",
    "    bbox_inches=\"tight\",\n",
    ")\n",
    "plt.show()\n",
    "\n",
    "# make unique plot\n",
    "plot_unique_df= plot_unique_df.apply(pd.to_numeric)\n",
    "plot_unique_df.plot.line(figsize=(8,4))\n",
    "plt.scatter(plot_unique_df.idxmax(), plot_unique_df.max(), marker='^', color='k')\n",
    "plt.scatter(plot_unique_df.idxmin(), plot_unique_df.min(), marker='v', color='k')\n",
    "plt.xlabel('# of clusters')\n",
    "plt.ylabel('# of unique stat. sign. enrichment terms')\n",
    "plt.title('Biological interpretability of DEG clusters')\n",
    "plt.legend(loc='center left', bbox_to_anchor=(1, 0.5))\n",
    "plt.tight_layout()\n",
    "plt.savefig(\n",
    "    fname=os.path.join(dir_results,'DEG_clusters',\"Biological_interpretability_unique.svg\"),\n",
    "    format=\"svg\",\n",
    "    dpi=300,\n",
    "    bbox_inches=\"tight\",\n",
    ")\n",
    "plt.show()"
   ]
  },
  {
   "cell_type": "markdown",
   "id": "f3e2fc38",
   "metadata": {},
   "source": [
    "## time-series clusters"
   ]
  },
  {
   "cell_type": "code",
   "execution_count": 20,
   "id": "6b079685",
   "metadata": {},
   "outputs": [
    {
     "data": {
      "text/plain": [
       "[2, 3, 4, 5, 6, 7, 8, 9, 10]"
      ]
     },
     "execution_count": 20,
     "metadata": {},
     "output_type": "execute_result"
    }
   ],
   "source": [
    "# config\n",
    "ks = list(range(2,11))#+[15,20]\n",
    "ks"
   ]
  },
  {
   "cell_type": "code",
   "execution_count": 21,
   "id": "d10d11dd",
   "metadata": {},
   "outputs": [],
   "source": [
    "treatments.remove('untreated')"
   ]
  },
  {
   "cell_type": "code",
   "execution_count": null,
   "id": "d7696646",
   "metadata": {
    "tags": []
   },
   "outputs": [
    {
     "name": "stdout",
     "output_type": "stream",
     "text": [
      "C_albicans_2\n",
      "2\n",
      "dict_keys(['cluster_1', 'cluster_2'])\n"
     ]
    },
    {
     "name": "stderr",
     "output_type": "stream",
     "text": [
      "/nobackup/lab_bock/users/sreichl/miniconda3/envs/enrichment_analysis/lib/python3.9/site-packages/urllib3/connectionpool.py:1013: InsecureRequestWarning: Unverified HTTPS request is being made to host 'maayanlab.cloud'. Adding certificate verification is strongly advised. See: https://urllib3.readthedocs.io/en/1.26.x/advanced-usage.html#ssl-warnings\n",
      "  warnings.warn(\n",
      "/nobackup/lab_bock/users/sreichl/miniconda3/envs/enrichment_analysis/lib/python3.9/site-packages/urllib3/connectionpool.py:1013: InsecureRequestWarning: Unverified HTTPS request is being made to host 'maayanlab.cloud'. Adding certificate verification is strongly advised. See: https://urllib3.readthedocs.io/en/1.26.x/advanced-usage.html#ssl-warnings\n",
      "  warnings.warn(\n",
      "/nobackup/lab_bock/users/sreichl/miniconda3/envs/enrichment_analysis/lib/python3.9/site-packages/urllib3/connectionpool.py:1013: InsecureRequestWarning: Unverified HTTPS request is being made to host 'maayanlab.cloud'. Adding certificate verification is strongly advised. See: https://urllib3.readthedocs.io/en/1.26.x/advanced-usage.html#ssl-warnings\n",
      "  warnings.warn(\n",
      "/nobackup/lab_bock/users/sreichl/miniconda3/envs/enrichment_analysis/lib/python3.9/site-packages/urllib3/connectionpool.py:1013: InsecureRequestWarning: Unverified HTTPS request is being made to host 'maayanlab.cloud'. Adding certificate verification is strongly advised. See: https://urllib3.readthedocs.io/en/1.26.x/advanced-usage.html#ssl-warnings\n",
      "  warnings.warn(\n",
      "/nobackup/lab_bock/users/sreichl/miniconda3/envs/enrichment_analysis/lib/python3.9/site-packages/urllib3/connectionpool.py:1013: InsecureRequestWarning: Unverified HTTPS request is being made to host 'maayanlab.cloud'. Adding certificate verification is strongly advised. See: https://urllib3.readthedocs.io/en/1.26.x/advanced-usage.html#ssl-warnings\n",
      "  warnings.warn(\n",
      "/nobackup/lab_bock/users/sreichl/miniconda3/envs/enrichment_analysis/lib/python3.9/site-packages/urllib3/connectionpool.py:1013: InsecureRequestWarning: Unverified HTTPS request is being made to host 'maayanlab.cloud'. Adding certificate verification is strongly advised. See: https://urllib3.readthedocs.io/en/1.26.x/advanced-usage.html#ssl-warnings\n",
      "  warnings.warn(\n"
     ]
    },
    {
     "name": "stdout",
     "output_type": "stream",
     "text": [
      "ENCODE_TF_ChIP-seq_2015\n",
      "ChEA_2016\n",
      "BioPlanet_2019\n",
      "KEGG_2019_Mouse\n",
      "WikiPathways_2019_Mouse\n",
      "GO_Biological_Process_2021\n",
      "ENCODE_TF_ChIP-seq_2015 699\n",
      "ChEA_2016 556\n",
      "BioPlanet_2019 120\n",
      "KEGG_2019_Mouse 28\n",
      "WikiPathways_2019_Mouse 14\n",
      "GO_Biological_Process_2021 463\n"
     ]
    },
    {
     "name": "stderr",
     "output_type": "stream",
     "text": [
      "/nobackup/lab_bock/users/sreichl/miniconda3/envs/enrichment_analysis/lib/python3.9/site-packages/seaborn/matrix.py:1203: UserWarning: Tight layout not applied. The left and right margins cannot be made large enough to accommodate all axes decorations. \n",
      "  self._figure.tight_layout(**tight_params)\n"
     ]
    },
    {
     "name": "stdout",
     "output_type": "stream",
     "text": [
      "C_albicans_3\n",
      "3\n",
      "dict_keys(['cluster_1', 'cluster_2', 'cluster_3'])\n"
     ]
    },
    {
     "name": "stderr",
     "output_type": "stream",
     "text": [
      "/nobackup/lab_bock/users/sreichl/miniconda3/envs/enrichment_analysis/lib/python3.9/site-packages/urllib3/connectionpool.py:1013: InsecureRequestWarning: Unverified HTTPS request is being made to host 'maayanlab.cloud'. Adding certificate verification is strongly advised. See: https://urllib3.readthedocs.io/en/1.26.x/advanced-usage.html#ssl-warnings\n",
      "  warnings.warn(\n",
      "/nobackup/lab_bock/users/sreichl/miniconda3/envs/enrichment_analysis/lib/python3.9/site-packages/urllib3/connectionpool.py:1013: InsecureRequestWarning: Unverified HTTPS request is being made to host 'maayanlab.cloud'. Adding certificate verification is strongly advised. See: https://urllib3.readthedocs.io/en/1.26.x/advanced-usage.html#ssl-warnings\n",
      "  warnings.warn(\n",
      "/nobackup/lab_bock/users/sreichl/miniconda3/envs/enrichment_analysis/lib/python3.9/site-packages/urllib3/connectionpool.py:1013: InsecureRequestWarning: Unverified HTTPS request is being made to host 'maayanlab.cloud'. Adding certificate verification is strongly advised. See: https://urllib3.readthedocs.io/en/1.26.x/advanced-usage.html#ssl-warnings\n",
      "  warnings.warn(\n",
      "/nobackup/lab_bock/users/sreichl/miniconda3/envs/enrichment_analysis/lib/python3.9/site-packages/urllib3/connectionpool.py:1013: InsecureRequestWarning: Unverified HTTPS request is being made to host 'maayanlab.cloud'. Adding certificate verification is strongly advised. See: https://urllib3.readthedocs.io/en/1.26.x/advanced-usage.html#ssl-warnings\n",
      "  warnings.warn(\n",
      "/nobackup/lab_bock/users/sreichl/miniconda3/envs/enrichment_analysis/lib/python3.9/site-packages/urllib3/connectionpool.py:1013: InsecureRequestWarning: Unverified HTTPS request is being made to host 'maayanlab.cloud'. Adding certificate verification is strongly advised. See: https://urllib3.readthedocs.io/en/1.26.x/advanced-usage.html#ssl-warnings\n",
      "  warnings.warn(\n",
      "/nobackup/lab_bock/users/sreichl/miniconda3/envs/enrichment_analysis/lib/python3.9/site-packages/urllib3/connectionpool.py:1013: InsecureRequestWarning: Unverified HTTPS request is being made to host 'maayanlab.cloud'. Adding certificate verification is strongly advised. See: https://urllib3.readthedocs.io/en/1.26.x/advanced-usage.html#ssl-warnings\n",
      "  warnings.warn(\n"
     ]
    },
    {
     "name": "stdout",
     "output_type": "stream",
     "text": [
      "ENCODE_TF_ChIP-seq_2015\n",
      "ChEA_2016\n",
      "BioPlanet_2019\n",
      "KEGG_2019_Mouse\n",
      "WikiPathways_2019_Mouse\n",
      "GO_Biological_Process_2021\n",
      "ENCODE_TF_ChIP-seq_2015 690\n",
      "ChEA_2016 545\n",
      "BioPlanet_2019 121\n",
      "KEGG_2019_Mouse 36\n",
      "WikiPathways_2019_Mouse 19\n",
      "GO_Biological_Process_2021 414\n",
      "C_albicans_4\n",
      "4\n",
      "dict_keys(['cluster_1', 'cluster_2', 'cluster_3', 'cluster_4'])\n"
     ]
    },
    {
     "name": "stderr",
     "output_type": "stream",
     "text": [
      "/nobackup/lab_bock/users/sreichl/miniconda3/envs/enrichment_analysis/lib/python3.9/site-packages/urllib3/connectionpool.py:1013: InsecureRequestWarning: Unverified HTTPS request is being made to host 'maayanlab.cloud'. Adding certificate verification is strongly advised. See: https://urllib3.readthedocs.io/en/1.26.x/advanced-usage.html#ssl-warnings\n",
      "  warnings.warn(\n",
      "/nobackup/lab_bock/users/sreichl/miniconda3/envs/enrichment_analysis/lib/python3.9/site-packages/urllib3/connectionpool.py:1013: InsecureRequestWarning: Unverified HTTPS request is being made to host 'maayanlab.cloud'. Adding certificate verification is strongly advised. See: https://urllib3.readthedocs.io/en/1.26.x/advanced-usage.html#ssl-warnings\n",
      "  warnings.warn(\n",
      "/nobackup/lab_bock/users/sreichl/miniconda3/envs/enrichment_analysis/lib/python3.9/site-packages/urllib3/connectionpool.py:1013: InsecureRequestWarning: Unverified HTTPS request is being made to host 'maayanlab.cloud'. Adding certificate verification is strongly advised. See: https://urllib3.readthedocs.io/en/1.26.x/advanced-usage.html#ssl-warnings\n",
      "  warnings.warn(\n",
      "/nobackup/lab_bock/users/sreichl/miniconda3/envs/enrichment_analysis/lib/python3.9/site-packages/urllib3/connectionpool.py:1013: InsecureRequestWarning: Unverified HTTPS request is being made to host 'maayanlab.cloud'. Adding certificate verification is strongly advised. See: https://urllib3.readthedocs.io/en/1.26.x/advanced-usage.html#ssl-warnings\n",
      "  warnings.warn(\n",
      "/nobackup/lab_bock/users/sreichl/miniconda3/envs/enrichment_analysis/lib/python3.9/site-packages/urllib3/connectionpool.py:1013: InsecureRequestWarning: Unverified HTTPS request is being made to host 'maayanlab.cloud'. Adding certificate verification is strongly advised. See: https://urllib3.readthedocs.io/en/1.26.x/advanced-usage.html#ssl-warnings\n",
      "  warnings.warn(\n",
      "/nobackup/lab_bock/users/sreichl/miniconda3/envs/enrichment_analysis/lib/python3.9/site-packages/urllib3/connectionpool.py:1013: InsecureRequestWarning: Unverified HTTPS request is being made to host 'maayanlab.cloud'. Adding certificate verification is strongly advised. See: https://urllib3.readthedocs.io/en/1.26.x/advanced-usage.html#ssl-warnings\n",
      "  warnings.warn(\n"
     ]
    },
    {
     "name": "stdout",
     "output_type": "stream",
     "text": [
      "ENCODE_TF_ChIP-seq_2015\n"
     ]
    },
    {
     "name": "stderr",
     "output_type": "stream",
     "text": [
      "2021-12-29 16:36:03,634 Warning: No enrich terms using library CUSTOM46918694247616 when cutoff = 0.05\n",
      "WARNING:gseapy:Warning: No enrich terms using library CUSTOM46918694247616 when cutoff = 0.05\n"
     ]
    },
    {
     "name": "stdout",
     "output_type": "stream",
     "text": [
      "ChEA_2016\n"
     ]
    },
    {
     "name": "stderr",
     "output_type": "stream",
     "text": [
      "2021-12-29 16:36:37,472 Warning: No enrich terms using library CUSTOM46918370367616 when cutoff = 0.05\n",
      "WARNING:gseapy:Warning: No enrich terms using library CUSTOM46918370367616 when cutoff = 0.05\n"
     ]
    },
    {
     "name": "stdout",
     "output_type": "stream",
     "text": [
      "BioPlanet_2019\n",
      "KEGG_2019_Mouse\n",
      "WikiPathways_2019_Mouse\n"
     ]
    },
    {
     "name": "stderr",
     "output_type": "stream",
     "text": [
      "2021-12-29 16:36:50,791 Warning: No enrich terms using library CUSTOM46918147336768 when cutoff = 0.05\n",
      "WARNING:gseapy:Warning: No enrich terms using library CUSTOM46918147336768 when cutoff = 0.05\n"
     ]
    },
    {
     "name": "stdout",
     "output_type": "stream",
     "text": [
      "GO_Biological_Process_2021\n",
      "ENCODE_TF_ChIP-seq_2015 694\n",
      "ChEA_2016 552\n",
      "BioPlanet_2019 128\n",
      "KEGG_2019_Mouse 24\n",
      "WikiPathways_2019_Mouse 22\n",
      "GO_Biological_Process_2021 428\n",
      "C_albicans_5\n",
      "5\n",
      "dict_keys(['cluster_1', 'cluster_2', 'cluster_3', 'cluster_4', 'cluster_5'])\n"
     ]
    },
    {
     "name": "stderr",
     "output_type": "stream",
     "text": [
      "/nobackup/lab_bock/users/sreichl/miniconda3/envs/enrichment_analysis/lib/python3.9/site-packages/urllib3/connectionpool.py:1013: InsecureRequestWarning: Unverified HTTPS request is being made to host 'maayanlab.cloud'. Adding certificate verification is strongly advised. See: https://urllib3.readthedocs.io/en/1.26.x/advanced-usage.html#ssl-warnings\n",
      "  warnings.warn(\n",
      "/nobackup/lab_bock/users/sreichl/miniconda3/envs/enrichment_analysis/lib/python3.9/site-packages/urllib3/connectionpool.py:1013: InsecureRequestWarning: Unverified HTTPS request is being made to host 'maayanlab.cloud'. Adding certificate verification is strongly advised. See: https://urllib3.readthedocs.io/en/1.26.x/advanced-usage.html#ssl-warnings\n",
      "  warnings.warn(\n",
      "/nobackup/lab_bock/users/sreichl/miniconda3/envs/enrichment_analysis/lib/python3.9/site-packages/urllib3/connectionpool.py:1013: InsecureRequestWarning: Unverified HTTPS request is being made to host 'maayanlab.cloud'. Adding certificate verification is strongly advised. See: https://urllib3.readthedocs.io/en/1.26.x/advanced-usage.html#ssl-warnings\n",
      "  warnings.warn(\n",
      "/nobackup/lab_bock/users/sreichl/miniconda3/envs/enrichment_analysis/lib/python3.9/site-packages/urllib3/connectionpool.py:1013: InsecureRequestWarning: Unverified HTTPS request is being made to host 'maayanlab.cloud'. Adding certificate verification is strongly advised. See: https://urllib3.readthedocs.io/en/1.26.x/advanced-usage.html#ssl-warnings\n",
      "  warnings.warn(\n",
      "/nobackup/lab_bock/users/sreichl/miniconda3/envs/enrichment_analysis/lib/python3.9/site-packages/urllib3/connectionpool.py:1013: InsecureRequestWarning: Unverified HTTPS request is being made to host 'maayanlab.cloud'. Adding certificate verification is strongly advised. See: https://urllib3.readthedocs.io/en/1.26.x/advanced-usage.html#ssl-warnings\n",
      "  warnings.warn(\n",
      "/nobackup/lab_bock/users/sreichl/miniconda3/envs/enrichment_analysis/lib/python3.9/site-packages/urllib3/connectionpool.py:1013: InsecureRequestWarning: Unverified HTTPS request is being made to host 'maayanlab.cloud'. Adding certificate verification is strongly advised. See: https://urllib3.readthedocs.io/en/1.26.x/advanced-usage.html#ssl-warnings\n",
      "  warnings.warn(\n"
     ]
    },
    {
     "name": "stdout",
     "output_type": "stream",
     "text": [
      "ENCODE_TF_ChIP-seq_2015\n"
     ]
    },
    {
     "name": "stderr",
     "output_type": "stream",
     "text": [
      "2021-12-29 16:39:32,043 Warning: No enrich terms using library CUSTOM46918318579328 when cutoff = 0.05\n",
      "WARNING:gseapy:Warning: No enrich terms using library CUSTOM46918318579328 when cutoff = 0.05\n"
     ]
    },
    {
     "name": "stdout",
     "output_type": "stream",
     "text": [
      "ChEA_2016\n"
     ]
    },
    {
     "name": "stderr",
     "output_type": "stream",
     "text": [
      "2021-12-29 16:40:12,928 Warning: No enrich terms using library CUSTOM46918401562496 when cutoff = 0.05\n",
      "WARNING:gseapy:Warning: No enrich terms using library CUSTOM46918401562496 when cutoff = 0.05\n"
     ]
    },
    {
     "name": "stdout",
     "output_type": "stream",
     "text": [
      "BioPlanet_2019\n",
      "KEGG_2019_Mouse\n"
     ]
    },
    {
     "name": "stderr",
     "output_type": "stream",
     "text": [
      "2021-12-29 16:40:30,822 Warning: No enrich terms using library CUSTOM46918207151168 when cutoff = 0.05\n",
      "WARNING:gseapy:Warning: No enrich terms using library CUSTOM46918207151168 when cutoff = 0.05\n"
     ]
    },
    {
     "name": "stdout",
     "output_type": "stream",
     "text": [
      "WikiPathways_2019_Mouse\n"
     ]
    },
    {
     "name": "stderr",
     "output_type": "stream",
     "text": [
      "2021-12-29 16:40:31,176 Warning: No enrich terms using library CUSTOM46918369315712 when cutoff = 0.05\n",
      "WARNING:gseapy:Warning: No enrich terms using library CUSTOM46918369315712 when cutoff = 0.05\n",
      "2021-12-29 16:40:31,830 Warning: No enrich terms using library CUSTOM46918369315712 when cutoff = 0.05\n",
      "WARNING:gseapy:Warning: No enrich terms using library CUSTOM46918369315712 when cutoff = 0.05\n"
     ]
    },
    {
     "name": "stdout",
     "output_type": "stream",
     "text": [
      "GO_Biological_Process_2021\n",
      "ENCODE_TF_ChIP-seq_2015 675\n",
      "ChEA_2016 552\n",
      "BioPlanet_2019 111\n",
      "KEGG_2019_Mouse 17\n",
      "WikiPathways_2019_Mouse 22\n",
      "GO_Biological_Process_2021 401\n",
      "C_albicans_6\n",
      "6\n",
      "dict_keys(['cluster_1', 'cluster_2', 'cluster_3', 'cluster_4', 'cluster_5', 'cluster_6'])\n"
     ]
    },
    {
     "name": "stderr",
     "output_type": "stream",
     "text": [
      "/nobackup/lab_bock/users/sreichl/miniconda3/envs/enrichment_analysis/lib/python3.9/site-packages/urllib3/connectionpool.py:1013: InsecureRequestWarning: Unverified HTTPS request is being made to host 'maayanlab.cloud'. Adding certificate verification is strongly advised. See: https://urllib3.readthedocs.io/en/1.26.x/advanced-usage.html#ssl-warnings\n",
      "  warnings.warn(\n",
      "/nobackup/lab_bock/users/sreichl/miniconda3/envs/enrichment_analysis/lib/python3.9/site-packages/urllib3/connectionpool.py:1013: InsecureRequestWarning: Unverified HTTPS request is being made to host 'maayanlab.cloud'. Adding certificate verification is strongly advised. See: https://urllib3.readthedocs.io/en/1.26.x/advanced-usage.html#ssl-warnings\n",
      "  warnings.warn(\n",
      "/nobackup/lab_bock/users/sreichl/miniconda3/envs/enrichment_analysis/lib/python3.9/site-packages/urllib3/connectionpool.py:1013: InsecureRequestWarning: Unverified HTTPS request is being made to host 'maayanlab.cloud'. Adding certificate verification is strongly advised. See: https://urllib3.readthedocs.io/en/1.26.x/advanced-usage.html#ssl-warnings\n",
      "  warnings.warn(\n",
      "/nobackup/lab_bock/users/sreichl/miniconda3/envs/enrichment_analysis/lib/python3.9/site-packages/urllib3/connectionpool.py:1013: InsecureRequestWarning: Unverified HTTPS request is being made to host 'maayanlab.cloud'. Adding certificate verification is strongly advised. See: https://urllib3.readthedocs.io/en/1.26.x/advanced-usage.html#ssl-warnings\n",
      "  warnings.warn(\n",
      "/nobackup/lab_bock/users/sreichl/miniconda3/envs/enrichment_analysis/lib/python3.9/site-packages/urllib3/connectionpool.py:1013: InsecureRequestWarning: Unverified HTTPS request is being made to host 'maayanlab.cloud'. Adding certificate verification is strongly advised. See: https://urllib3.readthedocs.io/en/1.26.x/advanced-usage.html#ssl-warnings\n",
      "  warnings.warn(\n",
      "/nobackup/lab_bock/users/sreichl/miniconda3/envs/enrichment_analysis/lib/python3.9/site-packages/urllib3/connectionpool.py:1013: InsecureRequestWarning: Unverified HTTPS request is being made to host 'maayanlab.cloud'. Adding certificate verification is strongly advised. See: https://urllib3.readthedocs.io/en/1.26.x/advanced-usage.html#ssl-warnings\n",
      "  warnings.warn(\n"
     ]
    },
    {
     "name": "stdout",
     "output_type": "stream",
     "text": [
      "ENCODE_TF_ChIP-seq_2015\n"
     ]
    },
    {
     "name": "stderr",
     "output_type": "stream",
     "text": [
      "2021-12-29 16:43:15,889 Warning: No enrich terms using library CUSTOM46918233506752 when cutoff = 0.05\n",
      "WARNING:gseapy:Warning: No enrich terms using library CUSTOM46918233506752 when cutoff = 0.05\n"
     ]
    },
    {
     "name": "stdout",
     "output_type": "stream",
     "text": [
      "ChEA_2016\n"
     ]
    },
    {
     "name": "stderr",
     "output_type": "stream",
     "text": [
      "2021-12-29 16:43:53,116 Warning: No enrich terms using library CUSTOM46918310073024 when cutoff = 0.05\n",
      "WARNING:gseapy:Warning: No enrich terms using library CUSTOM46918310073024 when cutoff = 0.05\n",
      "2021-12-29 16:44:01,875 Warning: No enrich terms using library CUSTOM46918310073024 when cutoff = 0.05\n",
      "WARNING:gseapy:Warning: No enrich terms using library CUSTOM46918310073024 when cutoff = 0.05\n"
     ]
    },
    {
     "name": "stdout",
     "output_type": "stream",
     "text": [
      "BioPlanet_2019\n"
     ]
    },
    {
     "name": "stderr",
     "output_type": "stream",
     "text": [
      "2021-12-29 16:44:08,299 Warning: No enrich terms using library CUSTOM46917875377280 when cutoff = 0.05\n",
      "WARNING:gseapy:Warning: No enrich terms using library CUSTOM46917875377280 when cutoff = 0.05\n"
     ]
    },
    {
     "name": "stdout",
     "output_type": "stream",
     "text": [
      "KEGG_2019_Mouse\n"
     ]
    },
    {
     "name": "stderr",
     "output_type": "stream",
     "text": [
      "2021-12-29 16:44:09,388 Warning: No enrich terms using library CUSTOM46918442953984 when cutoff = 0.05\n",
      "WARNING:gseapy:Warning: No enrich terms using library CUSTOM46918442953984 when cutoff = 0.05\n",
      "2021-12-29 16:44:09,789 Warning: No enrich terms using library CUSTOM46918442953984 when cutoff = 0.05\n",
      "WARNING:gseapy:Warning: No enrich terms using library CUSTOM46918442953984 when cutoff = 0.05\n"
     ]
    },
    {
     "name": "stdout",
     "output_type": "stream",
     "text": [
      "WikiPathways_2019_Mouse\n"
     ]
    },
    {
     "name": "stderr",
     "output_type": "stream",
     "text": [
      "2021-12-29 16:44:10,308 Warning: No enrich terms using library CUSTOM46918167276800 when cutoff = 0.05\n",
      "WARNING:gseapy:Warning: No enrich terms using library CUSTOM46918167276800 when cutoff = 0.05\n",
      "2021-12-29 16:44:10,757 Warning: No enrich terms using library CUSTOM46918167276800 when cutoff = 0.05\n",
      "WARNING:gseapy:Warning: No enrich terms using library CUSTOM46918167276800 when cutoff = 0.05\n"
     ]
    },
    {
     "name": "stdout",
     "output_type": "stream",
     "text": [
      "GO_Biological_Process_2021\n",
      "ENCODE_TF_ChIP-seq_2015 668\n",
      "ChEA_2016 549\n",
      "BioPlanet_2019 133\n",
      "KEGG_2019_Mouse 17\n",
      "WikiPathways_2019_Mouse 26\n",
      "GO_Biological_Process_2021 399\n",
      "C_albicans_7\n",
      "7\n",
      "dict_keys(['cluster_1', 'cluster_2', 'cluster_3', 'cluster_4', 'cluster_5', 'cluster_6', 'cluster_7'])\n"
     ]
    },
    {
     "name": "stderr",
     "output_type": "stream",
     "text": [
      "/nobackup/lab_bock/users/sreichl/miniconda3/envs/enrichment_analysis/lib/python3.9/site-packages/urllib3/connectionpool.py:1013: InsecureRequestWarning: Unverified HTTPS request is being made to host 'maayanlab.cloud'. Adding certificate verification is strongly advised. See: https://urllib3.readthedocs.io/en/1.26.x/advanced-usage.html#ssl-warnings\n",
      "  warnings.warn(\n",
      "/nobackup/lab_bock/users/sreichl/miniconda3/envs/enrichment_analysis/lib/python3.9/site-packages/urllib3/connectionpool.py:1013: InsecureRequestWarning: Unverified HTTPS request is being made to host 'maayanlab.cloud'. Adding certificate verification is strongly advised. See: https://urllib3.readthedocs.io/en/1.26.x/advanced-usage.html#ssl-warnings\n",
      "  warnings.warn(\n",
      "/nobackup/lab_bock/users/sreichl/miniconda3/envs/enrichment_analysis/lib/python3.9/site-packages/urllib3/connectionpool.py:1013: InsecureRequestWarning: Unverified HTTPS request is being made to host 'maayanlab.cloud'. Adding certificate verification is strongly advised. See: https://urllib3.readthedocs.io/en/1.26.x/advanced-usage.html#ssl-warnings\n",
      "  warnings.warn(\n",
      "/nobackup/lab_bock/users/sreichl/miniconda3/envs/enrichment_analysis/lib/python3.9/site-packages/urllib3/connectionpool.py:1013: InsecureRequestWarning: Unverified HTTPS request is being made to host 'maayanlab.cloud'. Adding certificate verification is strongly advised. See: https://urllib3.readthedocs.io/en/1.26.x/advanced-usage.html#ssl-warnings\n",
      "  warnings.warn(\n",
      "/nobackup/lab_bock/users/sreichl/miniconda3/envs/enrichment_analysis/lib/python3.9/site-packages/urllib3/connectionpool.py:1013: InsecureRequestWarning: Unverified HTTPS request is being made to host 'maayanlab.cloud'. Adding certificate verification is strongly advised. See: https://urllib3.readthedocs.io/en/1.26.x/advanced-usage.html#ssl-warnings\n",
      "  warnings.warn(\n",
      "/nobackup/lab_bock/users/sreichl/miniconda3/envs/enrichment_analysis/lib/python3.9/site-packages/urllib3/connectionpool.py:1013: InsecureRequestWarning: Unverified HTTPS request is being made to host 'maayanlab.cloud'. Adding certificate verification is strongly advised. See: https://urllib3.readthedocs.io/en/1.26.x/advanced-usage.html#ssl-warnings\n",
      "  warnings.warn(\n"
     ]
    },
    {
     "name": "stdout",
     "output_type": "stream",
     "text": [
      "ENCODE_TF_ChIP-seq_2015\n"
     ]
    },
    {
     "name": "stderr",
     "output_type": "stream",
     "text": [
      "2021-12-29 16:46:57,779 Warning: No enrich terms using library CUSTOM46918218510080 when cutoff = 0.05\n",
      "WARNING:gseapy:Warning: No enrich terms using library CUSTOM46918218510080 when cutoff = 0.05\n"
     ]
    },
    {
     "name": "stdout",
     "output_type": "stream",
     "text": [
      "ChEA_2016\n"
     ]
    },
    {
     "name": "stderr",
     "output_type": "stream",
     "text": [
      "2021-12-29 16:47:31,691 Warning: No enrich terms using library CUSTOM46918419880000 when cutoff = 0.05\n",
      "WARNING:gseapy:Warning: No enrich terms using library CUSTOM46918419880000 when cutoff = 0.05\n",
      "2021-12-29 16:47:40,075 Warning: No enrich terms using library CUSTOM46918419880000 when cutoff = 0.05\n",
      "WARNING:gseapy:Warning: No enrich terms using library CUSTOM46918419880000 when cutoff = 0.05\n"
     ]
    },
    {
     "name": "stdout",
     "output_type": "stream",
     "text": [
      "BioPlanet_2019\n"
     ]
    },
    {
     "name": "stderr",
     "output_type": "stream",
     "text": [
      "2021-12-29 16:47:46,775 Warning: No enrich terms using library CUSTOM46918460083200 when cutoff = 0.05\n",
      "WARNING:gseapy:Warning: No enrich terms using library CUSTOM46918460083200 when cutoff = 0.05\n",
      "2021-12-29 16:47:47,711 Warning: No enrich terms using library CUSTOM46917959786944 when cutoff = 0.05\n",
      "WARNING:gseapy:Warning: No enrich terms using library CUSTOM46917959786944 when cutoff = 0.05\n"
     ]
    },
    {
     "name": "stdout",
     "output_type": "stream",
     "text": [
      "KEGG_2019_Mouse\n"
     ]
    },
    {
     "name": "stderr",
     "output_type": "stream",
     "text": [
      "2021-12-29 16:47:48,125 Warning: No enrich terms using library CUSTOM46917959786944 when cutoff = 0.05\n",
      "WARNING:gseapy:Warning: No enrich terms using library CUSTOM46917959786944 when cutoff = 0.05\n",
      "2021-12-29 16:47:48,502 Warning: No enrich terms using library CUSTOM46917959786944 when cutoff = 0.05\n",
      "WARNING:gseapy:Warning: No enrich terms using library CUSTOM46917959786944 when cutoff = 0.05\n",
      "2021-12-29 16:47:49,154 Warning: No enrich terms using library CUSTOM46918313331776 when cutoff = 0.05\n",
      "WARNING:gseapy:Warning: No enrich terms using library CUSTOM46918313331776 when cutoff = 0.05\n"
     ]
    },
    {
     "name": "stdout",
     "output_type": "stream",
     "text": [
      "WikiPathways_2019_Mouse\n"
     ]
    },
    {
     "name": "stderr",
     "output_type": "stream",
     "text": [
      "2021-12-29 16:47:49,592 Warning: No enrich terms using library CUSTOM46918313331776 when cutoff = 0.05\n",
      "WARNING:gseapy:Warning: No enrich terms using library CUSTOM46918313331776 when cutoff = 0.05\n",
      "2021-12-29 16:47:49,779 Warning: No enrich terms using library CUSTOM46918313331776 when cutoff = 0.05\n",
      "WARNING:gseapy:Warning: No enrich terms using library CUSTOM46918313331776 when cutoff = 0.05\n"
     ]
    },
    {
     "name": "stdout",
     "output_type": "stream",
     "text": [
      "GO_Biological_Process_2021\n",
      "ENCODE_TF_ChIP-seq_2015 664\n",
      "ChEA_2016 542\n",
      "BioPlanet_2019 116\n",
      "KEGG_2019_Mouse 28\n",
      "WikiPathways_2019_Mouse 17\n",
      "GO_Biological_Process_2021 470\n",
      "C_albicans_8\n",
      "8\n",
      "dict_keys(['cluster_1', 'cluster_2', 'cluster_3', 'cluster_4', 'cluster_5', 'cluster_6', 'cluster_7', 'cluster_8'])\n"
     ]
    },
    {
     "name": "stderr",
     "output_type": "stream",
     "text": [
      "/nobackup/lab_bock/users/sreichl/miniconda3/envs/enrichment_analysis/lib/python3.9/site-packages/urllib3/connectionpool.py:1013: InsecureRequestWarning: Unverified HTTPS request is being made to host 'maayanlab.cloud'. Adding certificate verification is strongly advised. See: https://urllib3.readthedocs.io/en/1.26.x/advanced-usage.html#ssl-warnings\n",
      "  warnings.warn(\n",
      "/nobackup/lab_bock/users/sreichl/miniconda3/envs/enrichment_analysis/lib/python3.9/site-packages/urllib3/connectionpool.py:1013: InsecureRequestWarning: Unverified HTTPS request is being made to host 'maayanlab.cloud'. Adding certificate verification is strongly advised. See: https://urllib3.readthedocs.io/en/1.26.x/advanced-usage.html#ssl-warnings\n",
      "  warnings.warn(\n",
      "/nobackup/lab_bock/users/sreichl/miniconda3/envs/enrichment_analysis/lib/python3.9/site-packages/urllib3/connectionpool.py:1013: InsecureRequestWarning: Unverified HTTPS request is being made to host 'maayanlab.cloud'. Adding certificate verification is strongly advised. See: https://urllib3.readthedocs.io/en/1.26.x/advanced-usage.html#ssl-warnings\n",
      "  warnings.warn(\n",
      "/nobackup/lab_bock/users/sreichl/miniconda3/envs/enrichment_analysis/lib/python3.9/site-packages/urllib3/connectionpool.py:1013: InsecureRequestWarning: Unverified HTTPS request is being made to host 'maayanlab.cloud'. Adding certificate verification is strongly advised. See: https://urllib3.readthedocs.io/en/1.26.x/advanced-usage.html#ssl-warnings\n",
      "  warnings.warn(\n",
      "/nobackup/lab_bock/users/sreichl/miniconda3/envs/enrichment_analysis/lib/python3.9/site-packages/urllib3/connectionpool.py:1013: InsecureRequestWarning: Unverified HTTPS request is being made to host 'maayanlab.cloud'. Adding certificate verification is strongly advised. See: https://urllib3.readthedocs.io/en/1.26.x/advanced-usage.html#ssl-warnings\n",
      "  warnings.warn(\n",
      "/nobackup/lab_bock/users/sreichl/miniconda3/envs/enrichment_analysis/lib/python3.9/site-packages/urllib3/connectionpool.py:1013: InsecureRequestWarning: Unverified HTTPS request is being made to host 'maayanlab.cloud'. Adding certificate verification is strongly advised. See: https://urllib3.readthedocs.io/en/1.26.x/advanced-usage.html#ssl-warnings\n",
      "  warnings.warn(\n"
     ]
    },
    {
     "name": "stdout",
     "output_type": "stream",
     "text": [
      "ENCODE_TF_ChIP-seq_2015\n"
     ]
    },
    {
     "name": "stderr",
     "output_type": "stream",
     "text": [
      "2021-12-29 16:50:34,600 Warning: No enrich terms using library CUSTOM46917921870976 when cutoff = 0.05\n",
      "WARNING:gseapy:Warning: No enrich terms using library CUSTOM46917921870976 when cutoff = 0.05\n",
      "2021-12-29 16:50:37,716 Warning: No enrich terms using library CUSTOM46917921870976 when cutoff = 0.05\n",
      "WARNING:gseapy:Warning: No enrich terms using library CUSTOM46917921870976 when cutoff = 0.05\n",
      "2021-12-29 16:50:53,748 Warning: No enrich terms using library CUSTOM46917921870976 when cutoff = 0.05\n",
      "WARNING:gseapy:Warning: No enrich terms using library CUSTOM46917921870976 when cutoff = 0.05\n",
      "2021-12-29 16:51:01,089 Warning: No enrich terms using library CUSTOM46917921870976 when cutoff = 0.05\n",
      "WARNING:gseapy:Warning: No enrich terms using library CUSTOM46917921870976 when cutoff = 0.05\n"
     ]
    },
    {
     "name": "stdout",
     "output_type": "stream",
     "text": [
      "ChEA_2016\n"
     ]
    },
    {
     "name": "stderr",
     "output_type": "stream",
     "text": [
      "2021-12-29 16:51:06,010 Warning: No enrich terms using library CUSTOM46917968037504 when cutoff = 0.05\n",
      "WARNING:gseapy:Warning: No enrich terms using library CUSTOM46917968037504 when cutoff = 0.05\n",
      "2021-12-29 16:51:17,144 Warning: No enrich terms using library CUSTOM46917968037504 when cutoff = 0.05\n",
      "WARNING:gseapy:Warning: No enrich terms using library CUSTOM46917968037504 when cutoff = 0.05\n"
     ]
    },
    {
     "name": "stdout",
     "output_type": "stream",
     "text": [
      "BioPlanet_2019\n"
     ]
    },
    {
     "name": "stderr",
     "output_type": "stream",
     "text": [
      "2021-12-29 16:51:21,135 Warning: No enrich terms using library CUSTOM46917895578880 when cutoff = 0.05\n",
      "WARNING:gseapy:Warning: No enrich terms using library CUSTOM46917895578880 when cutoff = 0.05\n",
      "2021-12-29 16:51:21,244 Warning: No enrich terms using library CUSTOM46917895578880 when cutoff = 0.05\n",
      "WARNING:gseapy:Warning: No enrich terms using library CUSTOM46917895578880 when cutoff = 0.05\n"
     ]
    },
    {
     "name": "stdout",
     "output_type": "stream",
     "text": [
      "KEGG_2019_Mouse\n"
     ]
    },
    {
     "name": "stderr",
     "output_type": "stream",
     "text": [
      "2021-12-29 16:51:22,996 Warning: No enrich terms using library CUSTOM46918447547648 when cutoff = 0.05\n",
      "WARNING:gseapy:Warning: No enrich terms using library CUSTOM46918447547648 when cutoff = 0.05\n",
      "2021-12-29 16:51:23,053 Warning: No enrich terms using library CUSTOM46918447547648 when cutoff = 0.05\n",
      "WARNING:gseapy:Warning: No enrich terms using library CUSTOM46918447547648 when cutoff = 0.05\n",
      "2021-12-29 16:51:23,252 Warning: No enrich terms using library CUSTOM46918413019200 when cutoff = 0.05\n",
      "WARNING:gseapy:Warning: No enrich terms using library CUSTOM46918413019200 when cutoff = 0.05\n"
     ]
    },
    {
     "name": "stdout",
     "output_type": "stream",
     "text": [
      "WikiPathways_2019_Mouse\n"
     ]
    },
    {
     "name": "stderr",
     "output_type": "stream",
     "text": [
      "2021-12-29 16:51:24,184 Warning: No enrich terms using library CUSTOM46918413019200 when cutoff = 0.05\n",
      "WARNING:gseapy:Warning: No enrich terms using library CUSTOM46918413019200 when cutoff = 0.05\n"
     ]
    },
    {
     "name": "stdout",
     "output_type": "stream",
     "text": [
      "GO_Biological_Process_2021\n"
     ]
    },
    {
     "name": "stderr",
     "output_type": "stream",
     "text": [
      "2021-12-29 16:51:30,612 Warning: No enrich terms using library CUSTOM46918327348928 when cutoff = 0.05\n",
      "WARNING:gseapy:Warning: No enrich terms using library CUSTOM46918327348928 when cutoff = 0.05\n"
     ]
    },
    {
     "name": "stdout",
     "output_type": "stream",
     "text": [
      "ENCODE_TF_ChIP-seq_2015 683\n",
      "ChEA_2016 550\n",
      "BioPlanet_2019 123\n",
      "KEGG_2019_Mouse 58\n",
      "WikiPathways_2019_Mouse 25\n",
      "GO_Biological_Process_2021 653\n",
      "C_albicans_9\n",
      "9\n",
      "dict_keys(['cluster_1', 'cluster_2', 'cluster_3', 'cluster_4', 'cluster_5', 'cluster_6', 'cluster_7', 'cluster_8', 'cluster_9'])\n"
     ]
    },
    {
     "name": "stderr",
     "output_type": "stream",
     "text": [
      "/nobackup/lab_bock/users/sreichl/miniconda3/envs/enrichment_analysis/lib/python3.9/site-packages/urllib3/connectionpool.py:1013: InsecureRequestWarning: Unverified HTTPS request is being made to host 'maayanlab.cloud'. Adding certificate verification is strongly advised. See: https://urllib3.readthedocs.io/en/1.26.x/advanced-usage.html#ssl-warnings\n",
      "  warnings.warn(\n",
      "/nobackup/lab_bock/users/sreichl/miniconda3/envs/enrichment_analysis/lib/python3.9/site-packages/urllib3/connectionpool.py:1013: InsecureRequestWarning: Unverified HTTPS request is being made to host 'maayanlab.cloud'. Adding certificate verification is strongly advised. See: https://urllib3.readthedocs.io/en/1.26.x/advanced-usage.html#ssl-warnings\n",
      "  warnings.warn(\n",
      "/nobackup/lab_bock/users/sreichl/miniconda3/envs/enrichment_analysis/lib/python3.9/site-packages/urllib3/connectionpool.py:1013: InsecureRequestWarning: Unverified HTTPS request is being made to host 'maayanlab.cloud'. Adding certificate verification is strongly advised. See: https://urllib3.readthedocs.io/en/1.26.x/advanced-usage.html#ssl-warnings\n",
      "  warnings.warn(\n",
      "/nobackup/lab_bock/users/sreichl/miniconda3/envs/enrichment_analysis/lib/python3.9/site-packages/urllib3/connectionpool.py:1013: InsecureRequestWarning: Unverified HTTPS request is being made to host 'maayanlab.cloud'. Adding certificate verification is strongly advised. See: https://urllib3.readthedocs.io/en/1.26.x/advanced-usage.html#ssl-warnings\n",
      "  warnings.warn(\n",
      "/nobackup/lab_bock/users/sreichl/miniconda3/envs/enrichment_analysis/lib/python3.9/site-packages/urllib3/connectionpool.py:1013: InsecureRequestWarning: Unverified HTTPS request is being made to host 'maayanlab.cloud'. Adding certificate verification is strongly advised. See: https://urllib3.readthedocs.io/en/1.26.x/advanced-usage.html#ssl-warnings\n",
      "  warnings.warn(\n",
      "/nobackup/lab_bock/users/sreichl/miniconda3/envs/enrichment_analysis/lib/python3.9/site-packages/urllib3/connectionpool.py:1013: InsecureRequestWarning: Unverified HTTPS request is being made to host 'maayanlab.cloud'. Adding certificate verification is strongly advised. See: https://urllib3.readthedocs.io/en/1.26.x/advanced-usage.html#ssl-warnings\n",
      "  warnings.warn(\n"
     ]
    },
    {
     "name": "stdout",
     "output_type": "stream",
     "text": [
      "ENCODE_TF_ChIP-seq_2015\n"
     ]
    },
    {
     "name": "stderr",
     "output_type": "stream",
     "text": [
      "2021-12-29 16:54:17,045 Warning: No enrich terms using library CUSTOM46918555086656 when cutoff = 0.05\n",
      "WARNING:gseapy:Warning: No enrich terms using library CUSTOM46918555086656 when cutoff = 0.05\n",
      "2021-12-29 16:54:30,401 Warning: No enrich terms using library CUSTOM46918555086656 when cutoff = 0.05\n",
      "WARNING:gseapy:Warning: No enrich terms using library CUSTOM46918555086656 when cutoff = 0.05\n",
      "2021-12-29 16:54:36,419 Warning: No enrich terms using library CUSTOM46918555086656 when cutoff = 0.05\n",
      "WARNING:gseapy:Warning: No enrich terms using library CUSTOM46918555086656 when cutoff = 0.05\n",
      "2021-12-29 16:54:36,889 Warning: No enrich terms using library CUSTOM46918555086656 when cutoff = 0.05\n",
      "WARNING:gseapy:Warning: No enrich terms using library CUSTOM46918555086656 when cutoff = 0.05\n"
     ]
    },
    {
     "name": "stdout",
     "output_type": "stream",
     "text": [
      "ChEA_2016\n"
     ]
    },
    {
     "name": "stderr",
     "output_type": "stream",
     "text": [
      "2021-12-29 16:54:42,446 Warning: No enrich terms using library CUSTOM46918129204160 when cutoff = 0.05\n",
      "WARNING:gseapy:Warning: No enrich terms using library CUSTOM46918129204160 when cutoff = 0.05\n",
      "2021-12-29 16:54:51,961 Warning: No enrich terms using library CUSTOM46918129204160 when cutoff = 0.05\n",
      "WARNING:gseapy:Warning: No enrich terms using library CUSTOM46918129204160 when cutoff = 0.05\n",
      "2021-12-29 16:54:53,705 Warning: No enrich terms using library CUSTOM46918129204160 when cutoff = 0.05\n",
      "WARNING:gseapy:Warning: No enrich terms using library CUSTOM46918129204160 when cutoff = 0.05\n"
     ]
    },
    {
     "name": "stdout",
     "output_type": "stream",
     "text": [
      "BioPlanet_2019\n"
     ]
    },
    {
     "name": "stderr",
     "output_type": "stream",
     "text": [
      "2021-12-29 16:54:57,238 Warning: No enrich terms using library CUSTOM46918389475136 when cutoff = 0.05\n",
      "WARNING:gseapy:Warning: No enrich terms using library CUSTOM46918389475136 when cutoff = 0.05\n",
      "2021-12-29 16:54:57,291 Warning: No enrich terms using library CUSTOM46918389475136 when cutoff = 0.05\n",
      "WARNING:gseapy:Warning: No enrich terms using library CUSTOM46918389475136 when cutoff = 0.05\n"
     ]
    },
    {
     "name": "stdout",
     "output_type": "stream",
     "text": [
      "KEGG_2019_Mouse\n"
     ]
    },
    {
     "name": "stderr",
     "output_type": "stream",
     "text": [
      "2021-12-29 16:54:57,880 Warning: No enrich terms using library CUSTOM46918263716544 when cutoff = 0.05\n",
      "WARNING:gseapy:Warning: No enrich terms using library CUSTOM46918263716544 when cutoff = 0.05\n",
      "2021-12-29 16:54:58,857 Warning: No enrich terms using library CUSTOM46918263716544 when cutoff = 0.05\n",
      "WARNING:gseapy:Warning: No enrich terms using library CUSTOM46918263716544 when cutoff = 0.05\n",
      "2021-12-29 16:54:58,887 Warning: No enrich terms using library CUSTOM46918263716544 when cutoff = 0.05\n",
      "WARNING:gseapy:Warning: No enrich terms using library CUSTOM46918263716544 when cutoff = 0.05\n"
     ]
    },
    {
     "name": "stdout",
     "output_type": "stream",
     "text": [
      "WikiPathways_2019_Mouse\n"
     ]
    },
    {
     "name": "stderr",
     "output_type": "stream",
     "text": [
      "2021-12-29 16:54:59,109 Warning: No enrich terms using library CUSTOM46917922600832 when cutoff = 0.05\n",
      "WARNING:gseapy:Warning: No enrich terms using library CUSTOM46917922600832 when cutoff = 0.05\n",
      "2021-12-29 16:54:59,152 Warning: No enrich terms using library CUSTOM46917922600832 when cutoff = 0.05\n",
      "WARNING:gseapy:Warning: No enrich terms using library CUSTOM46917922600832 when cutoff = 0.05\n",
      "2021-12-29 16:54:59,756 Warning: No enrich terms using library CUSTOM46917922600832 when cutoff = 0.05\n",
      "WARNING:gseapy:Warning: No enrich terms using library CUSTOM46917922600832 when cutoff = 0.05\n",
      "2021-12-29 16:54:59,776 Warning: No enrich terms using library CUSTOM46917922600832 when cutoff = 0.05\n",
      "WARNING:gseapy:Warning: No enrich terms using library CUSTOM46917922600832 when cutoff = 0.05\n"
     ]
    },
    {
     "name": "stdout",
     "output_type": "stream",
     "text": [
      "GO_Biological_Process_2021\n",
      "ENCODE_TF_ChIP-seq_2015 695\n",
      "ChEA_2016 554\n",
      "BioPlanet_2019 143\n",
      "KEGG_2019_Mouse 54\n",
      "WikiPathways_2019_Mouse 19\n",
      "GO_Biological_Process_2021 861\n",
      "C_albicans_10\n",
      "10\n",
      "dict_keys(['cluster_1', 'cluster_2', 'cluster_3', 'cluster_4', 'cluster_5', 'cluster_6', 'cluster_7', 'cluster_8', 'cluster_9', 'cluster_10'])\n"
     ]
    },
    {
     "name": "stderr",
     "output_type": "stream",
     "text": [
      "/nobackup/lab_bock/users/sreichl/miniconda3/envs/enrichment_analysis/lib/python3.9/site-packages/urllib3/connectionpool.py:1013: InsecureRequestWarning: Unverified HTTPS request is being made to host 'maayanlab.cloud'. Adding certificate verification is strongly advised. See: https://urllib3.readthedocs.io/en/1.26.x/advanced-usage.html#ssl-warnings\n",
      "  warnings.warn(\n",
      "/nobackup/lab_bock/users/sreichl/miniconda3/envs/enrichment_analysis/lib/python3.9/site-packages/urllib3/connectionpool.py:1013: InsecureRequestWarning: Unverified HTTPS request is being made to host 'maayanlab.cloud'. Adding certificate verification is strongly advised. See: https://urllib3.readthedocs.io/en/1.26.x/advanced-usage.html#ssl-warnings\n",
      "  warnings.warn(\n",
      "/nobackup/lab_bock/users/sreichl/miniconda3/envs/enrichment_analysis/lib/python3.9/site-packages/urllib3/connectionpool.py:1013: InsecureRequestWarning: Unverified HTTPS request is being made to host 'maayanlab.cloud'. Adding certificate verification is strongly advised. See: https://urllib3.readthedocs.io/en/1.26.x/advanced-usage.html#ssl-warnings\n",
      "  warnings.warn(\n",
      "/nobackup/lab_bock/users/sreichl/miniconda3/envs/enrichment_analysis/lib/python3.9/site-packages/urllib3/connectionpool.py:1013: InsecureRequestWarning: Unverified HTTPS request is being made to host 'maayanlab.cloud'. Adding certificate verification is strongly advised. See: https://urllib3.readthedocs.io/en/1.26.x/advanced-usage.html#ssl-warnings\n",
      "  warnings.warn(\n",
      "/nobackup/lab_bock/users/sreichl/miniconda3/envs/enrichment_analysis/lib/python3.9/site-packages/urllib3/connectionpool.py:1013: InsecureRequestWarning: Unverified HTTPS request is being made to host 'maayanlab.cloud'. Adding certificate verification is strongly advised. See: https://urllib3.readthedocs.io/en/1.26.x/advanced-usage.html#ssl-warnings\n",
      "  warnings.warn(\n",
      "/nobackup/lab_bock/users/sreichl/miniconda3/envs/enrichment_analysis/lib/python3.9/site-packages/urllib3/connectionpool.py:1013: InsecureRequestWarning: Unverified HTTPS request is being made to host 'maayanlab.cloud'. Adding certificate verification is strongly advised. See: https://urllib3.readthedocs.io/en/1.26.x/advanced-usage.html#ssl-warnings\n",
      "  warnings.warn(\n"
     ]
    },
    {
     "name": "stdout",
     "output_type": "stream",
     "text": [
      "ENCODE_TF_ChIP-seq_2015\n"
     ]
    },
    {
     "name": "stderr",
     "output_type": "stream",
     "text": [
      "2021-12-29 16:57:49,302 Warning: No enrich terms using library CUSTOM46918253492800 when cutoff = 0.05\n",
      "WARNING:gseapy:Warning: No enrich terms using library CUSTOM46918253492800 when cutoff = 0.05\n",
      "2021-12-29 16:57:52,557 Warning: No enrich terms using library CUSTOM46918253492800 when cutoff = 0.05\n",
      "WARNING:gseapy:Warning: No enrich terms using library CUSTOM46918253492800 when cutoff = 0.05\n",
      "2021-12-29 16:58:13,657 Warning: No enrich terms using library CUSTOM46918253492800 when cutoff = 0.05\n",
      "WARNING:gseapy:Warning: No enrich terms using library CUSTOM46918253492800 when cutoff = 0.05\n",
      "2021-12-29 16:58:15,867 Warning: No enrich terms using library CUSTOM46918253492800 when cutoff = 0.05\n",
      "WARNING:gseapy:Warning: No enrich terms using library CUSTOM46918253492800 when cutoff = 0.05\n"
     ]
    },
    {
     "name": "stdout",
     "output_type": "stream",
     "text": [
      "ChEA_2016\n"
     ]
    },
    {
     "name": "stderr",
     "output_type": "stream",
     "text": [
      "2021-12-29 16:58:20,147 Warning: No enrich terms using library CUSTOM46918140461312 when cutoff = 0.05\n",
      "WARNING:gseapy:Warning: No enrich terms using library CUSTOM46918140461312 when cutoff = 0.05\n",
      "2021-12-29 16:58:23,378 Warning: No enrich terms using library CUSTOM46918140461312 when cutoff = 0.05\n",
      "WARNING:gseapy:Warning: No enrich terms using library CUSTOM46918140461312 when cutoff = 0.05\n",
      "2021-12-29 16:58:32,217 Warning: No enrich terms using library CUSTOM46918140461312 when cutoff = 0.05\n",
      "WARNING:gseapy:Warning: No enrich terms using library CUSTOM46918140461312 when cutoff = 0.05\n",
      "2021-12-29 16:58:32,772 Warning: No enrich terms using library CUSTOM46918140461312 when cutoff = 0.05\n",
      "WARNING:gseapy:Warning: No enrich terms using library CUSTOM46918140461312 when cutoff = 0.05\n"
     ]
    },
    {
     "name": "stdout",
     "output_type": "stream",
     "text": [
      "BioPlanet_2019\n"
     ]
    },
    {
     "name": "stderr",
     "output_type": "stream",
     "text": [
      "2021-12-29 16:58:36,004 Warning: No enrich terms using library CUSTOM46918570310720 when cutoff = 0.05\n",
      "WARNING:gseapy:Warning: No enrich terms using library CUSTOM46918570310720 when cutoff = 0.05\n",
      "2021-12-29 16:58:36,088 Warning: No enrich terms using library CUSTOM46918570310720 when cutoff = 0.05\n",
      "WARNING:gseapy:Warning: No enrich terms using library CUSTOM46918570310720 when cutoff = 0.05\n",
      "2021-12-29 16:58:36,183 Warning: No enrich terms using library CUSTOM46918570310720 when cutoff = 0.05\n",
      "WARNING:gseapy:Warning: No enrich terms using library CUSTOM46918570310720 when cutoff = 0.05\n",
      "2021-12-29 16:58:36,255 Warning: No enrich terms using library CUSTOM46918157019328 when cutoff = 0.05\n",
      "WARNING:gseapy:Warning: No enrich terms using library CUSTOM46918157019328 when cutoff = 0.05\n"
     ]
    },
    {
     "name": "stdout",
     "output_type": "stream",
     "text": [
      "KEGG_2019_Mouse\n"
     ]
    },
    {
     "name": "stderr",
     "output_type": "stream",
     "text": [
      "2021-12-29 16:58:36,647 Warning: No enrich terms using library CUSTOM46918157019328 when cutoff = 0.05\n",
      "WARNING:gseapy:Warning: No enrich terms using library CUSTOM46918157019328 when cutoff = 0.05\n",
      "2021-12-29 16:58:37,735 Warning: No enrich terms using library CUSTOM46918157019328 when cutoff = 0.05\n",
      "WARNING:gseapy:Warning: No enrich terms using library CUSTOM46918157019328 when cutoff = 0.05\n",
      "2021-12-29 16:58:37,777 Warning: No enrich terms using library CUSTOM46918157019328 when cutoff = 0.05\n",
      "WARNING:gseapy:Warning: No enrich terms using library CUSTOM46918157019328 when cutoff = 0.05\n",
      "2021-12-29 16:58:37,814 Warning: No enrich terms using library CUSTOM46918157019328 when cutoff = 0.05\n",
      "WARNING:gseapy:Warning: No enrich terms using library CUSTOM46918157019328 when cutoff = 0.05\n",
      "2021-12-29 16:58:37,845 Warning: No enrich terms using library CUSTOM46918321070784 when cutoff = 0.05\n",
      "WARNING:gseapy:Warning: No enrich terms using library CUSTOM46918321070784 when cutoff = 0.05\n",
      "2021-12-29 16:58:37,882 Warning: No enrich terms using library CUSTOM46918321070784 when cutoff = 0.05\n",
      "WARNING:gseapy:Warning: No enrich terms using library CUSTOM46918321070784 when cutoff = 0.05\n",
      "2021-12-29 16:58:37,933 Warning: No enrich terms using library CUSTOM46918321070784 when cutoff = 0.05\n",
      "WARNING:gseapy:Warning: No enrich terms using library CUSTOM46918321070784 when cutoff = 0.05\n"
     ]
    },
    {
     "name": "stdout",
     "output_type": "stream",
     "text": [
      "WikiPathways_2019_Mouse\n"
     ]
    },
    {
     "name": "stderr",
     "output_type": "stream",
     "text": [
      "2021-12-29 16:58:38,757 Warning: No enrich terms using library CUSTOM46918321070784 when cutoff = 0.05\n",
      "WARNING:gseapy:Warning: No enrich terms using library CUSTOM46918321070784 when cutoff = 0.05\n",
      "2021-12-29 16:58:38,955 Warning: No enrich terms using library CUSTOM46918321070784 when cutoff = 0.05\n",
      "WARNING:gseapy:Warning: No enrich terms using library CUSTOM46918321070784 when cutoff = 0.05\n",
      "2021-12-29 16:58:39,155 Warning: No enrich terms using library CUSTOM46918348406848 when cutoff = 0.05\n",
      "WARNING:gseapy:Warning: No enrich terms using library CUSTOM46918348406848 when cutoff = 0.05\n"
     ]
    },
    {
     "name": "stdout",
     "output_type": "stream",
     "text": [
      "GO_Biological_Process_2021\n",
      "ENCODE_TF_ChIP-seq_2015 668\n",
      "ChEA_2016 539\n",
      "BioPlanet_2019 138\n",
      "KEGG_2019_Mouse 56\n",
      "WikiPathways_2019_Mouse 32\n",
      "GO_Biological_Process_2021 1047\n",
      "IFN_beta_2\n",
      "2\n",
      "dict_keys(['cluster_1', 'cluster_2'])\n"
     ]
    },
    {
     "name": "stderr",
     "output_type": "stream",
     "text": [
      "/nobackup/lab_bock/users/sreichl/miniconda3/envs/enrichment_analysis/lib/python3.9/site-packages/urllib3/connectionpool.py:1013: InsecureRequestWarning: Unverified HTTPS request is being made to host 'maayanlab.cloud'. Adding certificate verification is strongly advised. See: https://urllib3.readthedocs.io/en/1.26.x/advanced-usage.html#ssl-warnings\n",
      "  warnings.warn(\n",
      "/nobackup/lab_bock/users/sreichl/miniconda3/envs/enrichment_analysis/lib/python3.9/site-packages/urllib3/connectionpool.py:1013: InsecureRequestWarning: Unverified HTTPS request is being made to host 'maayanlab.cloud'. Adding certificate verification is strongly advised. See: https://urllib3.readthedocs.io/en/1.26.x/advanced-usage.html#ssl-warnings\n",
      "  warnings.warn(\n",
      "/nobackup/lab_bock/users/sreichl/miniconda3/envs/enrichment_analysis/lib/python3.9/site-packages/urllib3/connectionpool.py:1013: InsecureRequestWarning: Unverified HTTPS request is being made to host 'maayanlab.cloud'. Adding certificate verification is strongly advised. See: https://urllib3.readthedocs.io/en/1.26.x/advanced-usage.html#ssl-warnings\n",
      "  warnings.warn(\n",
      "/nobackup/lab_bock/users/sreichl/miniconda3/envs/enrichment_analysis/lib/python3.9/site-packages/urllib3/connectionpool.py:1013: InsecureRequestWarning: Unverified HTTPS request is being made to host 'maayanlab.cloud'. Adding certificate verification is strongly advised. See: https://urllib3.readthedocs.io/en/1.26.x/advanced-usage.html#ssl-warnings\n",
      "  warnings.warn(\n",
      "/nobackup/lab_bock/users/sreichl/miniconda3/envs/enrichment_analysis/lib/python3.9/site-packages/urllib3/connectionpool.py:1013: InsecureRequestWarning: Unverified HTTPS request is being made to host 'maayanlab.cloud'. Adding certificate verification is strongly advised. See: https://urllib3.readthedocs.io/en/1.26.x/advanced-usage.html#ssl-warnings\n",
      "  warnings.warn(\n",
      "/nobackup/lab_bock/users/sreichl/miniconda3/envs/enrichment_analysis/lib/python3.9/site-packages/urllib3/connectionpool.py:1013: InsecureRequestWarning: Unverified HTTPS request is being made to host 'maayanlab.cloud'. Adding certificate verification is strongly advised. See: https://urllib3.readthedocs.io/en/1.26.x/advanced-usage.html#ssl-warnings\n",
      "  warnings.warn(\n"
     ]
    },
    {
     "name": "stdout",
     "output_type": "stream",
     "text": [
      "ENCODE_TF_ChIP-seq_2015\n",
      "ChEA_2016\n",
      "BioPlanet_2019\n",
      "KEGG_2019_Mouse\n",
      "WikiPathways_2019_Mouse\n",
      "GO_Biological_Process_2021\n",
      "ENCODE_TF_ChIP-seq_2015 805\n",
      "ChEA_2016 626\n",
      "BioPlanet_2019 352\n",
      "KEGG_2019_Mouse 149\n",
      "WikiPathways_2019_Mouse 71\n",
      "GO_Biological_Process_2021 1245\n",
      "IFN_beta_3\n",
      "3\n",
      "dict_keys(['cluster_1', 'cluster_2', 'cluster_3'])\n"
     ]
    },
    {
     "name": "stderr",
     "output_type": "stream",
     "text": [
      "/nobackup/lab_bock/users/sreichl/miniconda3/envs/enrichment_analysis/lib/python3.9/site-packages/urllib3/connectionpool.py:1013: InsecureRequestWarning: Unverified HTTPS request is being made to host 'maayanlab.cloud'. Adding certificate verification is strongly advised. See: https://urllib3.readthedocs.io/en/1.26.x/advanced-usage.html#ssl-warnings\n",
      "  warnings.warn(\n",
      "/nobackup/lab_bock/users/sreichl/miniconda3/envs/enrichment_analysis/lib/python3.9/site-packages/urllib3/connectionpool.py:1013: InsecureRequestWarning: Unverified HTTPS request is being made to host 'maayanlab.cloud'. Adding certificate verification is strongly advised. See: https://urllib3.readthedocs.io/en/1.26.x/advanced-usage.html#ssl-warnings\n",
      "  warnings.warn(\n",
      "/nobackup/lab_bock/users/sreichl/miniconda3/envs/enrichment_analysis/lib/python3.9/site-packages/urllib3/connectionpool.py:1013: InsecureRequestWarning: Unverified HTTPS request is being made to host 'maayanlab.cloud'. Adding certificate verification is strongly advised. See: https://urllib3.readthedocs.io/en/1.26.x/advanced-usage.html#ssl-warnings\n",
      "  warnings.warn(\n",
      "/nobackup/lab_bock/users/sreichl/miniconda3/envs/enrichment_analysis/lib/python3.9/site-packages/urllib3/connectionpool.py:1013: InsecureRequestWarning: Unverified HTTPS request is being made to host 'maayanlab.cloud'. Adding certificate verification is strongly advised. See: https://urllib3.readthedocs.io/en/1.26.x/advanced-usage.html#ssl-warnings\n",
      "  warnings.warn(\n",
      "/nobackup/lab_bock/users/sreichl/miniconda3/envs/enrichment_analysis/lib/python3.9/site-packages/urllib3/connectionpool.py:1013: InsecureRequestWarning: Unverified HTTPS request is being made to host 'maayanlab.cloud'. Adding certificate verification is strongly advised. See: https://urllib3.readthedocs.io/en/1.26.x/advanced-usage.html#ssl-warnings\n",
      "  warnings.warn(\n",
      "/nobackup/lab_bock/users/sreichl/miniconda3/envs/enrichment_analysis/lib/python3.9/site-packages/urllib3/connectionpool.py:1013: InsecureRequestWarning: Unverified HTTPS request is being made to host 'maayanlab.cloud'. Adding certificate verification is strongly advised. See: https://urllib3.readthedocs.io/en/1.26.x/advanced-usage.html#ssl-warnings\n",
      "  warnings.warn(\n"
     ]
    },
    {
     "name": "stdout",
     "output_type": "stream",
     "text": [
      "ENCODE_TF_ChIP-seq_2015\n",
      "ChEA_2016\n",
      "BioPlanet_2019\n",
      "KEGG_2019_Mouse\n",
      "WikiPathways_2019_Mouse\n",
      "GO_Biological_Process_2021\n",
      "ENCODE_TF_ChIP-seq_2015 808\n",
      "ChEA_2016 626\n",
      "BioPlanet_2019 368\n",
      "KEGG_2019_Mouse 154\n",
      "WikiPathways_2019_Mouse 68\n",
      "GO_Biological_Process_2021 1251\n",
      "IFN_beta_4\n",
      "4\n",
      "dict_keys(['cluster_1', 'cluster_2', 'cluster_3', 'cluster_4'])\n"
     ]
    },
    {
     "name": "stderr",
     "output_type": "stream",
     "text": [
      "/nobackup/lab_bock/users/sreichl/miniconda3/envs/enrichment_analysis/lib/python3.9/site-packages/urllib3/connectionpool.py:1013: InsecureRequestWarning: Unverified HTTPS request is being made to host 'maayanlab.cloud'. Adding certificate verification is strongly advised. See: https://urllib3.readthedocs.io/en/1.26.x/advanced-usage.html#ssl-warnings\n",
      "  warnings.warn(\n",
      "/nobackup/lab_bock/users/sreichl/miniconda3/envs/enrichment_analysis/lib/python3.9/site-packages/urllib3/connectionpool.py:1013: InsecureRequestWarning: Unverified HTTPS request is being made to host 'maayanlab.cloud'. Adding certificate verification is strongly advised. See: https://urllib3.readthedocs.io/en/1.26.x/advanced-usage.html#ssl-warnings\n",
      "  warnings.warn(\n",
      "/nobackup/lab_bock/users/sreichl/miniconda3/envs/enrichment_analysis/lib/python3.9/site-packages/urllib3/connectionpool.py:1013: InsecureRequestWarning: Unverified HTTPS request is being made to host 'maayanlab.cloud'. Adding certificate verification is strongly advised. See: https://urllib3.readthedocs.io/en/1.26.x/advanced-usage.html#ssl-warnings\n",
      "  warnings.warn(\n",
      "/nobackup/lab_bock/users/sreichl/miniconda3/envs/enrichment_analysis/lib/python3.9/site-packages/urllib3/connectionpool.py:1013: InsecureRequestWarning: Unverified HTTPS request is being made to host 'maayanlab.cloud'. Adding certificate verification is strongly advised. See: https://urllib3.readthedocs.io/en/1.26.x/advanced-usage.html#ssl-warnings\n",
      "  warnings.warn(\n",
      "/nobackup/lab_bock/users/sreichl/miniconda3/envs/enrichment_analysis/lib/python3.9/site-packages/urllib3/connectionpool.py:1013: InsecureRequestWarning: Unverified HTTPS request is being made to host 'maayanlab.cloud'. Adding certificate verification is strongly advised. See: https://urllib3.readthedocs.io/en/1.26.x/advanced-usage.html#ssl-warnings\n",
      "  warnings.warn(\n",
      "/nobackup/lab_bock/users/sreichl/miniconda3/envs/enrichment_analysis/lib/python3.9/site-packages/urllib3/connectionpool.py:1013: InsecureRequestWarning: Unverified HTTPS request is being made to host 'maayanlab.cloud'. Adding certificate verification is strongly advised. See: https://urllib3.readthedocs.io/en/1.26.x/advanced-usage.html#ssl-warnings\n",
      "  warnings.warn(\n"
     ]
    },
    {
     "name": "stdout",
     "output_type": "stream",
     "text": [
      "ENCODE_TF_ChIP-seq_2015\n",
      "ChEA_2016\n",
      "BioPlanet_2019\n",
      "KEGG_2019_Mouse\n",
      "WikiPathways_2019_Mouse\n",
      "GO_Biological_Process_2021\n",
      "ENCODE_TF_ChIP-seq_2015 807\n",
      "ChEA_2016 627\n",
      "BioPlanet_2019 337\n",
      "KEGG_2019_Mouse 134\n",
      "WikiPathways_2019_Mouse 63\n",
      "GO_Biological_Process_2021 1139\n",
      "IFN_beta_5\n",
      "5\n",
      "dict_keys(['cluster_1', 'cluster_2', 'cluster_3', 'cluster_4', 'cluster_5'])\n"
     ]
    },
    {
     "name": "stderr",
     "output_type": "stream",
     "text": [
      "/nobackup/lab_bock/users/sreichl/miniconda3/envs/enrichment_analysis/lib/python3.9/site-packages/urllib3/connectionpool.py:1013: InsecureRequestWarning: Unverified HTTPS request is being made to host 'maayanlab.cloud'. Adding certificate verification is strongly advised. See: https://urllib3.readthedocs.io/en/1.26.x/advanced-usage.html#ssl-warnings\n",
      "  warnings.warn(\n",
      "/nobackup/lab_bock/users/sreichl/miniconda3/envs/enrichment_analysis/lib/python3.9/site-packages/urllib3/connectionpool.py:1013: InsecureRequestWarning: Unverified HTTPS request is being made to host 'maayanlab.cloud'. Adding certificate verification is strongly advised. See: https://urllib3.readthedocs.io/en/1.26.x/advanced-usage.html#ssl-warnings\n",
      "  warnings.warn(\n",
      "/nobackup/lab_bock/users/sreichl/miniconda3/envs/enrichment_analysis/lib/python3.9/site-packages/urllib3/connectionpool.py:1013: InsecureRequestWarning: Unverified HTTPS request is being made to host 'maayanlab.cloud'. Adding certificate verification is strongly advised. See: https://urllib3.readthedocs.io/en/1.26.x/advanced-usage.html#ssl-warnings\n",
      "  warnings.warn(\n",
      "/nobackup/lab_bock/users/sreichl/miniconda3/envs/enrichment_analysis/lib/python3.9/site-packages/urllib3/connectionpool.py:1013: InsecureRequestWarning: Unverified HTTPS request is being made to host 'maayanlab.cloud'. Adding certificate verification is strongly advised. See: https://urllib3.readthedocs.io/en/1.26.x/advanced-usage.html#ssl-warnings\n",
      "  warnings.warn(\n",
      "/nobackup/lab_bock/users/sreichl/miniconda3/envs/enrichment_analysis/lib/python3.9/site-packages/urllib3/connectionpool.py:1013: InsecureRequestWarning: Unverified HTTPS request is being made to host 'maayanlab.cloud'. Adding certificate verification is strongly advised. See: https://urllib3.readthedocs.io/en/1.26.x/advanced-usage.html#ssl-warnings\n",
      "  warnings.warn(\n",
      "/nobackup/lab_bock/users/sreichl/miniconda3/envs/enrichment_analysis/lib/python3.9/site-packages/urllib3/connectionpool.py:1013: InsecureRequestWarning: Unverified HTTPS request is being made to host 'maayanlab.cloud'. Adding certificate verification is strongly advised. See: https://urllib3.readthedocs.io/en/1.26.x/advanced-usage.html#ssl-warnings\n",
      "  warnings.warn(\n"
     ]
    },
    {
     "name": "stdout",
     "output_type": "stream",
     "text": [
      "ENCODE_TF_ChIP-seq_2015\n",
      "ChEA_2016\n",
      "BioPlanet_2019\n",
      "KEGG_2019_Mouse\n",
      "WikiPathways_2019_Mouse\n"
     ]
    },
    {
     "name": "stderr",
     "output_type": "stream",
     "text": [
      "2021-12-29 17:12:28,754 Warning: No enrich terms using library CUSTOM46918583289856 when cutoff = 0.05\n",
      "WARNING:gseapy:Warning: No enrich terms using library CUSTOM46918583289856 when cutoff = 0.05\n"
     ]
    },
    {
     "name": "stdout",
     "output_type": "stream",
     "text": [
      "GO_Biological_Process_2021\n",
      "ENCODE_TF_ChIP-seq_2015 806\n",
      "ChEA_2016 626\n",
      "BioPlanet_2019 341\n",
      "KEGG_2019_Mouse 137\n",
      "WikiPathways_2019_Mouse 66\n",
      "GO_Biological_Process_2021 1122\n",
      "IFN_beta_6\n",
      "6\n",
      "dict_keys(['cluster_1', 'cluster_2', 'cluster_3', 'cluster_4', 'cluster_5', 'cluster_6'])\n"
     ]
    },
    {
     "name": "stderr",
     "output_type": "stream",
     "text": [
      "/nobackup/lab_bock/users/sreichl/miniconda3/envs/enrichment_analysis/lib/python3.9/site-packages/urllib3/connectionpool.py:1013: InsecureRequestWarning: Unverified HTTPS request is being made to host 'maayanlab.cloud'. Adding certificate verification is strongly advised. See: https://urllib3.readthedocs.io/en/1.26.x/advanced-usage.html#ssl-warnings\n",
      "  warnings.warn(\n",
      "/nobackup/lab_bock/users/sreichl/miniconda3/envs/enrichment_analysis/lib/python3.9/site-packages/urllib3/connectionpool.py:1013: InsecureRequestWarning: Unverified HTTPS request is being made to host 'maayanlab.cloud'. Adding certificate verification is strongly advised. See: https://urllib3.readthedocs.io/en/1.26.x/advanced-usage.html#ssl-warnings\n",
      "  warnings.warn(\n",
      "/nobackup/lab_bock/users/sreichl/miniconda3/envs/enrichment_analysis/lib/python3.9/site-packages/urllib3/connectionpool.py:1013: InsecureRequestWarning: Unverified HTTPS request is being made to host 'maayanlab.cloud'. Adding certificate verification is strongly advised. See: https://urllib3.readthedocs.io/en/1.26.x/advanced-usage.html#ssl-warnings\n",
      "  warnings.warn(\n",
      "/nobackup/lab_bock/users/sreichl/miniconda3/envs/enrichment_analysis/lib/python3.9/site-packages/urllib3/connectionpool.py:1013: InsecureRequestWarning: Unverified HTTPS request is being made to host 'maayanlab.cloud'. Adding certificate verification is strongly advised. See: https://urllib3.readthedocs.io/en/1.26.x/advanced-usage.html#ssl-warnings\n",
      "  warnings.warn(\n",
      "/nobackup/lab_bock/users/sreichl/miniconda3/envs/enrichment_analysis/lib/python3.9/site-packages/urllib3/connectionpool.py:1013: InsecureRequestWarning: Unverified HTTPS request is being made to host 'maayanlab.cloud'. Adding certificate verification is strongly advised. See: https://urllib3.readthedocs.io/en/1.26.x/advanced-usage.html#ssl-warnings\n",
      "  warnings.warn(\n",
      "/nobackup/lab_bock/users/sreichl/miniconda3/envs/enrichment_analysis/lib/python3.9/site-packages/urllib3/connectionpool.py:1013: InsecureRequestWarning: Unverified HTTPS request is being made to host 'maayanlab.cloud'. Adding certificate verification is strongly advised. See: https://urllib3.readthedocs.io/en/1.26.x/advanced-usage.html#ssl-warnings\n",
      "  warnings.warn(\n"
     ]
    },
    {
     "name": "stdout",
     "output_type": "stream",
     "text": [
      "ENCODE_TF_ChIP-seq_2015\n",
      "ChEA_2016\n",
      "BioPlanet_2019\n",
      "KEGG_2019_Mouse\n",
      "WikiPathways_2019_Mouse\n"
     ]
    },
    {
     "name": "stderr",
     "output_type": "stream",
     "text": [
      "2021-12-29 17:16:44,924 Warning: No enrich terms using library CUSTOM46918165974592 when cutoff = 0.05\n",
      "WARNING:gseapy:Warning: No enrich terms using library CUSTOM46918165974592 when cutoff = 0.05\n",
      "2021-12-29 17:16:45,794 Warning: No enrich terms using library CUSTOM46918165974592 when cutoff = 0.05\n",
      "WARNING:gseapy:Warning: No enrich terms using library CUSTOM46918165974592 when cutoff = 0.05\n"
     ]
    },
    {
     "name": "stdout",
     "output_type": "stream",
     "text": [
      "GO_Biological_Process_2021\n",
      "ENCODE_TF_ChIP-seq_2015 806\n",
      "ChEA_2016 623\n",
      "BioPlanet_2019 346\n",
      "KEGG_2019_Mouse 143\n",
      "WikiPathways_2019_Mouse 59\n",
      "GO_Biological_Process_2021 1131\n",
      "IFN_beta_7\n",
      "7\n",
      "dict_keys(['cluster_1', 'cluster_2', 'cluster_3', 'cluster_4', 'cluster_5', 'cluster_6', 'cluster_7'])\n"
     ]
    },
    {
     "name": "stderr",
     "output_type": "stream",
     "text": [
      "/nobackup/lab_bock/users/sreichl/miniconda3/envs/enrichment_analysis/lib/python3.9/site-packages/urllib3/connectionpool.py:1013: InsecureRequestWarning: Unverified HTTPS request is being made to host 'maayanlab.cloud'. Adding certificate verification is strongly advised. See: https://urllib3.readthedocs.io/en/1.26.x/advanced-usage.html#ssl-warnings\n",
      "  warnings.warn(\n",
      "/nobackup/lab_bock/users/sreichl/miniconda3/envs/enrichment_analysis/lib/python3.9/site-packages/urllib3/connectionpool.py:1013: InsecureRequestWarning: Unverified HTTPS request is being made to host 'maayanlab.cloud'. Adding certificate verification is strongly advised. See: https://urllib3.readthedocs.io/en/1.26.x/advanced-usage.html#ssl-warnings\n",
      "  warnings.warn(\n",
      "/nobackup/lab_bock/users/sreichl/miniconda3/envs/enrichment_analysis/lib/python3.9/site-packages/urllib3/connectionpool.py:1013: InsecureRequestWarning: Unverified HTTPS request is being made to host 'maayanlab.cloud'. Adding certificate verification is strongly advised. See: https://urllib3.readthedocs.io/en/1.26.x/advanced-usage.html#ssl-warnings\n",
      "  warnings.warn(\n",
      "/nobackup/lab_bock/users/sreichl/miniconda3/envs/enrichment_analysis/lib/python3.9/site-packages/urllib3/connectionpool.py:1013: InsecureRequestWarning: Unverified HTTPS request is being made to host 'maayanlab.cloud'. Adding certificate verification is strongly advised. See: https://urllib3.readthedocs.io/en/1.26.x/advanced-usage.html#ssl-warnings\n",
      "  warnings.warn(\n",
      "/nobackup/lab_bock/users/sreichl/miniconda3/envs/enrichment_analysis/lib/python3.9/site-packages/urllib3/connectionpool.py:1013: InsecureRequestWarning: Unverified HTTPS request is being made to host 'maayanlab.cloud'. Adding certificate verification is strongly advised. See: https://urllib3.readthedocs.io/en/1.26.x/advanced-usage.html#ssl-warnings\n",
      "  warnings.warn(\n",
      "/nobackup/lab_bock/users/sreichl/miniconda3/envs/enrichment_analysis/lib/python3.9/site-packages/urllib3/connectionpool.py:1013: InsecureRequestWarning: Unverified HTTPS request is being made to host 'maayanlab.cloud'. Adding certificate verification is strongly advised. See: https://urllib3.readthedocs.io/en/1.26.x/advanced-usage.html#ssl-warnings\n",
      "  warnings.warn(\n"
     ]
    },
    {
     "name": "stdout",
     "output_type": "stream",
     "text": [
      "ENCODE_TF_ChIP-seq_2015\n",
      "ChEA_2016\n",
      "BioPlanet_2019\n",
      "KEGG_2019_Mouse\n",
      "WikiPathways_2019_Mouse\n"
     ]
    },
    {
     "name": "stderr",
     "output_type": "stream",
     "text": [
      "2021-12-29 17:21:10,543 Warning: No enrich terms using library CUSTOM46918769032128 when cutoff = 0.05\n",
      "WARNING:gseapy:Warning: No enrich terms using library CUSTOM46918769032128 when cutoff = 0.05\n",
      "2021-12-29 17:21:11,280 Warning: No enrich terms using library CUSTOM46918769032128 when cutoff = 0.05\n",
      "WARNING:gseapy:Warning: No enrich terms using library CUSTOM46918769032128 when cutoff = 0.05\n"
     ]
    },
    {
     "name": "stdout",
     "output_type": "stream",
     "text": [
      "GO_Biological_Process_2021\n",
      "ENCODE_TF_ChIP-seq_2015 807\n",
      "ChEA_2016 625\n",
      "BioPlanet_2019 361\n",
      "KEGG_2019_Mouse 147\n",
      "WikiPathways_2019_Mouse 65\n",
      "GO_Biological_Process_2021 1138\n",
      "IFN_beta_8\n",
      "8\n",
      "dict_keys(['cluster_1', 'cluster_2', 'cluster_3', 'cluster_4', 'cluster_5', 'cluster_6', 'cluster_7', 'cluster_8'])\n"
     ]
    },
    {
     "name": "stderr",
     "output_type": "stream",
     "text": [
      "/nobackup/lab_bock/users/sreichl/miniconda3/envs/enrichment_analysis/lib/python3.9/site-packages/urllib3/connectionpool.py:1013: InsecureRequestWarning: Unverified HTTPS request is being made to host 'maayanlab.cloud'. Adding certificate verification is strongly advised. See: https://urllib3.readthedocs.io/en/1.26.x/advanced-usage.html#ssl-warnings\n",
      "  warnings.warn(\n",
      "/nobackup/lab_bock/users/sreichl/miniconda3/envs/enrichment_analysis/lib/python3.9/site-packages/urllib3/connectionpool.py:1013: InsecureRequestWarning: Unverified HTTPS request is being made to host 'maayanlab.cloud'. Adding certificate verification is strongly advised. See: https://urllib3.readthedocs.io/en/1.26.x/advanced-usage.html#ssl-warnings\n",
      "  warnings.warn(\n",
      "/nobackup/lab_bock/users/sreichl/miniconda3/envs/enrichment_analysis/lib/python3.9/site-packages/urllib3/connectionpool.py:1013: InsecureRequestWarning: Unverified HTTPS request is being made to host 'maayanlab.cloud'. Adding certificate verification is strongly advised. See: https://urllib3.readthedocs.io/en/1.26.x/advanced-usage.html#ssl-warnings\n",
      "  warnings.warn(\n",
      "/nobackup/lab_bock/users/sreichl/miniconda3/envs/enrichment_analysis/lib/python3.9/site-packages/urllib3/connectionpool.py:1013: InsecureRequestWarning: Unverified HTTPS request is being made to host 'maayanlab.cloud'. Adding certificate verification is strongly advised. See: https://urllib3.readthedocs.io/en/1.26.x/advanced-usage.html#ssl-warnings\n",
      "  warnings.warn(\n",
      "/nobackup/lab_bock/users/sreichl/miniconda3/envs/enrichment_analysis/lib/python3.9/site-packages/urllib3/connectionpool.py:1013: InsecureRequestWarning: Unverified HTTPS request is being made to host 'maayanlab.cloud'. Adding certificate verification is strongly advised. See: https://urllib3.readthedocs.io/en/1.26.x/advanced-usage.html#ssl-warnings\n",
      "  warnings.warn(\n",
      "/nobackup/lab_bock/users/sreichl/miniconda3/envs/enrichment_analysis/lib/python3.9/site-packages/urllib3/connectionpool.py:1013: InsecureRequestWarning: Unverified HTTPS request is being made to host 'maayanlab.cloud'. Adding certificate verification is strongly advised. See: https://urllib3.readthedocs.io/en/1.26.x/advanced-usage.html#ssl-warnings\n",
      "  warnings.warn(\n"
     ]
    },
    {
     "name": "stdout",
     "output_type": "stream",
     "text": [
      "ENCODE_TF_ChIP-seq_2015\n",
      "ChEA_2016\n",
      "BioPlanet_2019\n",
      "KEGG_2019_Mouse\n",
      "WikiPathways_2019_Mouse\n"
     ]
    },
    {
     "name": "stderr",
     "output_type": "stream",
     "text": [
      "2021-12-29 17:25:46,065 Warning: No enrich terms using library CUSTOM46918808649280 when cutoff = 0.05\n",
      "WARNING:gseapy:Warning: No enrich terms using library CUSTOM46918808649280 when cutoff = 0.05\n"
     ]
    },
    {
     "name": "stdout",
     "output_type": "stream",
     "text": [
      "GO_Biological_Process_2021\n",
      "ENCODE_TF_ChIP-seq_2015 808\n",
      "ChEA_2016 626\n",
      "BioPlanet_2019 322\n",
      "KEGG_2019_Mouse 122\n",
      "WikiPathways_2019_Mouse 54\n",
      "GO_Biological_Process_2021 1152\n",
      "IFN_beta_9\n",
      "9\n",
      "dict_keys(['cluster_1', 'cluster_2', 'cluster_3', 'cluster_4', 'cluster_5', 'cluster_6', 'cluster_7', 'cluster_8', 'cluster_9'])\n"
     ]
    },
    {
     "name": "stderr",
     "output_type": "stream",
     "text": [
      "/nobackup/lab_bock/users/sreichl/miniconda3/envs/enrichment_analysis/lib/python3.9/site-packages/urllib3/connectionpool.py:1013: InsecureRequestWarning: Unverified HTTPS request is being made to host 'maayanlab.cloud'. Adding certificate verification is strongly advised. See: https://urllib3.readthedocs.io/en/1.26.x/advanced-usage.html#ssl-warnings\n",
      "  warnings.warn(\n",
      "/nobackup/lab_bock/users/sreichl/miniconda3/envs/enrichment_analysis/lib/python3.9/site-packages/urllib3/connectionpool.py:1013: InsecureRequestWarning: Unverified HTTPS request is being made to host 'maayanlab.cloud'. Adding certificate verification is strongly advised. See: https://urllib3.readthedocs.io/en/1.26.x/advanced-usage.html#ssl-warnings\n",
      "  warnings.warn(\n",
      "/nobackup/lab_bock/users/sreichl/miniconda3/envs/enrichment_analysis/lib/python3.9/site-packages/urllib3/connectionpool.py:1013: InsecureRequestWarning: Unverified HTTPS request is being made to host 'maayanlab.cloud'. Adding certificate verification is strongly advised. See: https://urllib3.readthedocs.io/en/1.26.x/advanced-usage.html#ssl-warnings\n",
      "  warnings.warn(\n",
      "/nobackup/lab_bock/users/sreichl/miniconda3/envs/enrichment_analysis/lib/python3.9/site-packages/urllib3/connectionpool.py:1013: InsecureRequestWarning: Unverified HTTPS request is being made to host 'maayanlab.cloud'. Adding certificate verification is strongly advised. See: https://urllib3.readthedocs.io/en/1.26.x/advanced-usage.html#ssl-warnings\n",
      "  warnings.warn(\n",
      "/nobackup/lab_bock/users/sreichl/miniconda3/envs/enrichment_analysis/lib/python3.9/site-packages/urllib3/connectionpool.py:1013: InsecureRequestWarning: Unverified HTTPS request is being made to host 'maayanlab.cloud'. Adding certificate verification is strongly advised. See: https://urllib3.readthedocs.io/en/1.26.x/advanced-usage.html#ssl-warnings\n",
      "  warnings.warn(\n",
      "/nobackup/lab_bock/users/sreichl/miniconda3/envs/enrichment_analysis/lib/python3.9/site-packages/urllib3/connectionpool.py:1013: InsecureRequestWarning: Unverified HTTPS request is being made to host 'maayanlab.cloud'. Adding certificate verification is strongly advised. See: https://urllib3.readthedocs.io/en/1.26.x/advanced-usage.html#ssl-warnings\n",
      "  warnings.warn(\n"
     ]
    },
    {
     "name": "stdout",
     "output_type": "stream",
     "text": [
      "ENCODE_TF_ChIP-seq_2015\n",
      "ChEA_2016\n",
      "BioPlanet_2019\n"
     ]
    },
    {
     "name": "stderr",
     "output_type": "stream",
     "text": [
      "2021-12-29 17:30:24,365 Warning: No enrich terms using library CUSTOM46918725678720 when cutoff = 0.05\n",
      "WARNING:gseapy:Warning: No enrich terms using library CUSTOM46918725678720 when cutoff = 0.05\n"
     ]
    },
    {
     "name": "stdout",
     "output_type": "stream",
     "text": [
      "KEGG_2019_Mouse\n",
      "WikiPathways_2019_Mouse\n"
     ]
    },
    {
     "name": "stderr",
     "output_type": "stream",
     "text": [
      "2021-12-29 17:30:31,722 Warning: No enrich terms using library CUSTOM46918732967104 when cutoff = 0.05\n",
      "WARNING:gseapy:Warning: No enrich terms using library CUSTOM46918732967104 when cutoff = 0.05\n",
      "2021-12-29 17:30:32,244 Warning: No enrich terms using library CUSTOM46918732967104 when cutoff = 0.05\n",
      "WARNING:gseapy:Warning: No enrich terms using library CUSTOM46918732967104 when cutoff = 0.05\n",
      "2021-12-29 17:30:32,384 Warning: No enrich terms using library CUSTOM46918732967104 when cutoff = 0.05\n",
      "WARNING:gseapy:Warning: No enrich terms using library CUSTOM46918732967104 when cutoff = 0.05\n"
     ]
    },
    {
     "name": "stdout",
     "output_type": "stream",
     "text": [
      "GO_Biological_Process_2021\n",
      "ENCODE_TF_ChIP-seq_2015 808\n",
      "ChEA_2016 626\n",
      "BioPlanet_2019 358\n",
      "KEGG_2019_Mouse 127\n",
      "WikiPathways_2019_Mouse 63\n",
      "GO_Biological_Process_2021 1139\n",
      "IFN_beta_10\n",
      "10\n",
      "dict_keys(['cluster_1', 'cluster_2', 'cluster_3', 'cluster_4', 'cluster_5', 'cluster_6', 'cluster_7', 'cluster_8', 'cluster_9', 'cluster_10'])\n"
     ]
    },
    {
     "name": "stderr",
     "output_type": "stream",
     "text": [
      "/nobackup/lab_bock/users/sreichl/miniconda3/envs/enrichment_analysis/lib/python3.9/site-packages/urllib3/connectionpool.py:1013: InsecureRequestWarning: Unverified HTTPS request is being made to host 'maayanlab.cloud'. Adding certificate verification is strongly advised. See: https://urllib3.readthedocs.io/en/1.26.x/advanced-usage.html#ssl-warnings\n",
      "  warnings.warn(\n",
      "/nobackup/lab_bock/users/sreichl/miniconda3/envs/enrichment_analysis/lib/python3.9/site-packages/urllib3/connectionpool.py:1013: InsecureRequestWarning: Unverified HTTPS request is being made to host 'maayanlab.cloud'. Adding certificate verification is strongly advised. See: https://urllib3.readthedocs.io/en/1.26.x/advanced-usage.html#ssl-warnings\n",
      "  warnings.warn(\n",
      "/nobackup/lab_bock/users/sreichl/miniconda3/envs/enrichment_analysis/lib/python3.9/site-packages/urllib3/connectionpool.py:1013: InsecureRequestWarning: Unverified HTTPS request is being made to host 'maayanlab.cloud'. Adding certificate verification is strongly advised. See: https://urllib3.readthedocs.io/en/1.26.x/advanced-usage.html#ssl-warnings\n",
      "  warnings.warn(\n",
      "/nobackup/lab_bock/users/sreichl/miniconda3/envs/enrichment_analysis/lib/python3.9/site-packages/urllib3/connectionpool.py:1013: InsecureRequestWarning: Unverified HTTPS request is being made to host 'maayanlab.cloud'. Adding certificate verification is strongly advised. See: https://urllib3.readthedocs.io/en/1.26.x/advanced-usage.html#ssl-warnings\n",
      "  warnings.warn(\n",
      "/nobackup/lab_bock/users/sreichl/miniconda3/envs/enrichment_analysis/lib/python3.9/site-packages/urllib3/connectionpool.py:1013: InsecureRequestWarning: Unverified HTTPS request is being made to host 'maayanlab.cloud'. Adding certificate verification is strongly advised. See: https://urllib3.readthedocs.io/en/1.26.x/advanced-usage.html#ssl-warnings\n",
      "  warnings.warn(\n",
      "/nobackup/lab_bock/users/sreichl/miniconda3/envs/enrichment_analysis/lib/python3.9/site-packages/urllib3/connectionpool.py:1013: InsecureRequestWarning: Unverified HTTPS request is being made to host 'maayanlab.cloud'. Adding certificate verification is strongly advised. See: https://urllib3.readthedocs.io/en/1.26.x/advanced-usage.html#ssl-warnings\n",
      "  warnings.warn(\n"
     ]
    },
    {
     "name": "stdout",
     "output_type": "stream",
     "text": [
      "ENCODE_TF_ChIP-seq_2015\n",
      "ChEA_2016\n",
      "BioPlanet_2019\n"
     ]
    },
    {
     "name": "stderr",
     "output_type": "stream",
     "text": [
      "2021-12-29 17:35:34,730 Warning: No enrich terms using library CUSTOM46918211987136 when cutoff = 0.05\n",
      "WARNING:gseapy:Warning: No enrich terms using library CUSTOM46918211987136 when cutoff = 0.05\n",
      "2021-12-29 17:35:36,710 Warning: No enrich terms using library CUSTOM46918211987136 when cutoff = 0.05\n",
      "WARNING:gseapy:Warning: No enrich terms using library CUSTOM46918211987136 when cutoff = 0.05\n"
     ]
    },
    {
     "name": "stdout",
     "output_type": "stream",
     "text": [
      "KEGG_2019_Mouse\n",
      "WikiPathways_2019_Mouse\n"
     ]
    },
    {
     "name": "stderr",
     "output_type": "stream",
     "text": [
      "2021-12-29 17:35:44,504 Warning: No enrich terms using library CUSTOM46918138379136 when cutoff = 0.05\n",
      "WARNING:gseapy:Warning: No enrich terms using library CUSTOM46918138379136 when cutoff = 0.05\n",
      "2021-12-29 17:35:45,019 Warning: No enrich terms using library CUSTOM46918138379136 when cutoff = 0.05\n",
      "WARNING:gseapy:Warning: No enrich terms using library CUSTOM46918138379136 when cutoff = 0.05\n"
     ]
    },
    {
     "name": "stdout",
     "output_type": "stream",
     "text": [
      "GO_Biological_Process_2021\n",
      "ENCODE_TF_ChIP-seq_2015 808\n",
      "ChEA_2016 625\n",
      "BioPlanet_2019 322\n",
      "KEGG_2019_Mouse 120\n",
      "WikiPathways_2019_Mouse 62\n",
      "GO_Biological_Process_2021 1051\n",
      "IFN_gamma_2\n",
      "2\n",
      "dict_keys(['cluster_1', 'cluster_2'])\n"
     ]
    },
    {
     "name": "stderr",
     "output_type": "stream",
     "text": [
      "/nobackup/lab_bock/users/sreichl/miniconda3/envs/enrichment_analysis/lib/python3.9/site-packages/urllib3/connectionpool.py:1013: InsecureRequestWarning: Unverified HTTPS request is being made to host 'maayanlab.cloud'. Adding certificate verification is strongly advised. See: https://urllib3.readthedocs.io/en/1.26.x/advanced-usage.html#ssl-warnings\n",
      "  warnings.warn(\n",
      "/nobackup/lab_bock/users/sreichl/miniconda3/envs/enrichment_analysis/lib/python3.9/site-packages/urllib3/connectionpool.py:1013: InsecureRequestWarning: Unverified HTTPS request is being made to host 'maayanlab.cloud'. Adding certificate verification is strongly advised. See: https://urllib3.readthedocs.io/en/1.26.x/advanced-usage.html#ssl-warnings\n",
      "  warnings.warn(\n",
      "/nobackup/lab_bock/users/sreichl/miniconda3/envs/enrichment_analysis/lib/python3.9/site-packages/urllib3/connectionpool.py:1013: InsecureRequestWarning: Unverified HTTPS request is being made to host 'maayanlab.cloud'. Adding certificate verification is strongly advised. See: https://urllib3.readthedocs.io/en/1.26.x/advanced-usage.html#ssl-warnings\n",
      "  warnings.warn(\n",
      "/nobackup/lab_bock/users/sreichl/miniconda3/envs/enrichment_analysis/lib/python3.9/site-packages/urllib3/connectionpool.py:1013: InsecureRequestWarning: Unverified HTTPS request is being made to host 'maayanlab.cloud'. Adding certificate verification is strongly advised. See: https://urllib3.readthedocs.io/en/1.26.x/advanced-usage.html#ssl-warnings\n",
      "  warnings.warn(\n",
      "/nobackup/lab_bock/users/sreichl/miniconda3/envs/enrichment_analysis/lib/python3.9/site-packages/urllib3/connectionpool.py:1013: InsecureRequestWarning: Unverified HTTPS request is being made to host 'maayanlab.cloud'. Adding certificate verification is strongly advised. See: https://urllib3.readthedocs.io/en/1.26.x/advanced-usage.html#ssl-warnings\n",
      "  warnings.warn(\n",
      "/nobackup/lab_bock/users/sreichl/miniconda3/envs/enrichment_analysis/lib/python3.9/site-packages/urllib3/connectionpool.py:1013: InsecureRequestWarning: Unverified HTTPS request is being made to host 'maayanlab.cloud'. Adding certificate verification is strongly advised. See: https://urllib3.readthedocs.io/en/1.26.x/advanced-usage.html#ssl-warnings\n",
      "  warnings.warn(\n"
     ]
    },
    {
     "name": "stdout",
     "output_type": "stream",
     "text": [
      "ENCODE_TF_ChIP-seq_2015\n",
      "ChEA_2016\n",
      "BioPlanet_2019\n",
      "KEGG_2019_Mouse\n",
      "WikiPathways_2019_Mouse\n",
      "GO_Biological_Process_2021\n",
      "ENCODE_TF_ChIP-seq_2015 598\n",
      "ChEA_2016 564\n",
      "BioPlanet_2019 183\n",
      "KEGG_2019_Mouse 104\n",
      "WikiPathways_2019_Mouse 37\n",
      "GO_Biological_Process_2021 400\n",
      "IFN_gamma_3\n",
      "3\n",
      "dict_keys(['cluster_1', 'cluster_2', 'cluster_3'])\n"
     ]
    },
    {
     "name": "stderr",
     "output_type": "stream",
     "text": [
      "/nobackup/lab_bock/users/sreichl/miniconda3/envs/enrichment_analysis/lib/python3.9/site-packages/urllib3/connectionpool.py:1013: InsecureRequestWarning: Unverified HTTPS request is being made to host 'maayanlab.cloud'. Adding certificate verification is strongly advised. See: https://urllib3.readthedocs.io/en/1.26.x/advanced-usage.html#ssl-warnings\n",
      "  warnings.warn(\n",
      "/nobackup/lab_bock/users/sreichl/miniconda3/envs/enrichment_analysis/lib/python3.9/site-packages/urllib3/connectionpool.py:1013: InsecureRequestWarning: Unverified HTTPS request is being made to host 'maayanlab.cloud'. Adding certificate verification is strongly advised. See: https://urllib3.readthedocs.io/en/1.26.x/advanced-usage.html#ssl-warnings\n",
      "  warnings.warn(\n",
      "/nobackup/lab_bock/users/sreichl/miniconda3/envs/enrichment_analysis/lib/python3.9/site-packages/urllib3/connectionpool.py:1013: InsecureRequestWarning: Unverified HTTPS request is being made to host 'maayanlab.cloud'. Adding certificate verification is strongly advised. See: https://urllib3.readthedocs.io/en/1.26.x/advanced-usage.html#ssl-warnings\n",
      "  warnings.warn(\n",
      "/nobackup/lab_bock/users/sreichl/miniconda3/envs/enrichment_analysis/lib/python3.9/site-packages/urllib3/connectionpool.py:1013: InsecureRequestWarning: Unverified HTTPS request is being made to host 'maayanlab.cloud'. Adding certificate verification is strongly advised. See: https://urllib3.readthedocs.io/en/1.26.x/advanced-usage.html#ssl-warnings\n",
      "  warnings.warn(\n",
      "/nobackup/lab_bock/users/sreichl/miniconda3/envs/enrichment_analysis/lib/python3.9/site-packages/urllib3/connectionpool.py:1013: InsecureRequestWarning: Unverified HTTPS request is being made to host 'maayanlab.cloud'. Adding certificate verification is strongly advised. See: https://urllib3.readthedocs.io/en/1.26.x/advanced-usage.html#ssl-warnings\n",
      "  warnings.warn(\n",
      "/nobackup/lab_bock/users/sreichl/miniconda3/envs/enrichment_analysis/lib/python3.9/site-packages/urllib3/connectionpool.py:1013: InsecureRequestWarning: Unverified HTTPS request is being made to host 'maayanlab.cloud'. Adding certificate verification is strongly advised. See: https://urllib3.readthedocs.io/en/1.26.x/advanced-usage.html#ssl-warnings\n",
      "  warnings.warn(\n"
     ]
    },
    {
     "name": "stdout",
     "output_type": "stream",
     "text": [
      "ENCODE_TF_ChIP-seq_2015\n",
      "ChEA_2016\n",
      "BioPlanet_2019\n",
      "KEGG_2019_Mouse\n",
      "WikiPathways_2019_Mouse\n",
      "GO_Biological_Process_2021\n",
      "ENCODE_TF_ChIP-seq_2015 591\n",
      "ChEA_2016 556\n",
      "BioPlanet_2019 152\n",
      "KEGG_2019_Mouse 97\n",
      "WikiPathways_2019_Mouse 39\n",
      "GO_Biological_Process_2021 344\n",
      "IFN_gamma_4\n",
      "4\n",
      "dict_keys(['cluster_1', 'cluster_2', 'cluster_3', 'cluster_4'])\n"
     ]
    },
    {
     "name": "stderr",
     "output_type": "stream",
     "text": [
      "/nobackup/lab_bock/users/sreichl/miniconda3/envs/enrichment_analysis/lib/python3.9/site-packages/urllib3/connectionpool.py:1013: InsecureRequestWarning: Unverified HTTPS request is being made to host 'maayanlab.cloud'. Adding certificate verification is strongly advised. See: https://urllib3.readthedocs.io/en/1.26.x/advanced-usage.html#ssl-warnings\n",
      "  warnings.warn(\n",
      "/nobackup/lab_bock/users/sreichl/miniconda3/envs/enrichment_analysis/lib/python3.9/site-packages/urllib3/connectionpool.py:1013: InsecureRequestWarning: Unverified HTTPS request is being made to host 'maayanlab.cloud'. Adding certificate verification is strongly advised. See: https://urllib3.readthedocs.io/en/1.26.x/advanced-usage.html#ssl-warnings\n",
      "  warnings.warn(\n",
      "/nobackup/lab_bock/users/sreichl/miniconda3/envs/enrichment_analysis/lib/python3.9/site-packages/urllib3/connectionpool.py:1013: InsecureRequestWarning: Unverified HTTPS request is being made to host 'maayanlab.cloud'. Adding certificate verification is strongly advised. See: https://urllib3.readthedocs.io/en/1.26.x/advanced-usage.html#ssl-warnings\n",
      "  warnings.warn(\n",
      "/nobackup/lab_bock/users/sreichl/miniconda3/envs/enrichment_analysis/lib/python3.9/site-packages/urllib3/connectionpool.py:1013: InsecureRequestWarning: Unverified HTTPS request is being made to host 'maayanlab.cloud'. Adding certificate verification is strongly advised. See: https://urllib3.readthedocs.io/en/1.26.x/advanced-usage.html#ssl-warnings\n",
      "  warnings.warn(\n",
      "/nobackup/lab_bock/users/sreichl/miniconda3/envs/enrichment_analysis/lib/python3.9/site-packages/urllib3/connectionpool.py:1013: InsecureRequestWarning: Unverified HTTPS request is being made to host 'maayanlab.cloud'. Adding certificate verification is strongly advised. See: https://urllib3.readthedocs.io/en/1.26.x/advanced-usage.html#ssl-warnings\n",
      "  warnings.warn(\n",
      "/nobackup/lab_bock/users/sreichl/miniconda3/envs/enrichment_analysis/lib/python3.9/site-packages/urllib3/connectionpool.py:1013: InsecureRequestWarning: Unverified HTTPS request is being made to host 'maayanlab.cloud'. Adding certificate verification is strongly advised. See: https://urllib3.readthedocs.io/en/1.26.x/advanced-usage.html#ssl-warnings\n",
      "  warnings.warn(\n"
     ]
    },
    {
     "name": "stdout",
     "output_type": "stream",
     "text": [
      "ENCODE_TF_ChIP-seq_2015\n",
      "ChEA_2016\n",
      "BioPlanet_2019\n",
      "KEGG_2019_Mouse\n",
      "WikiPathways_2019_Mouse\n",
      "GO_Biological_Process_2021\n",
      "ENCODE_TF_ChIP-seq_2015 596\n",
      "ChEA_2016 558\n",
      "BioPlanet_2019 129\n",
      "KEGG_2019_Mouse 72\n",
      "WikiPathways_2019_Mouse 32\n",
      "GO_Biological_Process_2021 312\n",
      "IFN_gamma_5\n",
      "5\n",
      "dict_keys(['cluster_1', 'cluster_2', 'cluster_3', 'cluster_4', 'cluster_5'])\n"
     ]
    },
    {
     "name": "stderr",
     "output_type": "stream",
     "text": [
      "/nobackup/lab_bock/users/sreichl/miniconda3/envs/enrichment_analysis/lib/python3.9/site-packages/urllib3/connectionpool.py:1013: InsecureRequestWarning: Unverified HTTPS request is being made to host 'maayanlab.cloud'. Adding certificate verification is strongly advised. See: https://urllib3.readthedocs.io/en/1.26.x/advanced-usage.html#ssl-warnings\n",
      "  warnings.warn(\n",
      "/nobackup/lab_bock/users/sreichl/miniconda3/envs/enrichment_analysis/lib/python3.9/site-packages/urllib3/connectionpool.py:1013: InsecureRequestWarning: Unverified HTTPS request is being made to host 'maayanlab.cloud'. Adding certificate verification is strongly advised. See: https://urllib3.readthedocs.io/en/1.26.x/advanced-usage.html#ssl-warnings\n",
      "  warnings.warn(\n",
      "/nobackup/lab_bock/users/sreichl/miniconda3/envs/enrichment_analysis/lib/python3.9/site-packages/urllib3/connectionpool.py:1013: InsecureRequestWarning: Unverified HTTPS request is being made to host 'maayanlab.cloud'. Adding certificate verification is strongly advised. See: https://urllib3.readthedocs.io/en/1.26.x/advanced-usage.html#ssl-warnings\n",
      "  warnings.warn(\n",
      "/nobackup/lab_bock/users/sreichl/miniconda3/envs/enrichment_analysis/lib/python3.9/site-packages/urllib3/connectionpool.py:1013: InsecureRequestWarning: Unverified HTTPS request is being made to host 'maayanlab.cloud'. Adding certificate verification is strongly advised. See: https://urllib3.readthedocs.io/en/1.26.x/advanced-usage.html#ssl-warnings\n",
      "  warnings.warn(\n",
      "/nobackup/lab_bock/users/sreichl/miniconda3/envs/enrichment_analysis/lib/python3.9/site-packages/urllib3/connectionpool.py:1013: InsecureRequestWarning: Unverified HTTPS request is being made to host 'maayanlab.cloud'. Adding certificate verification is strongly advised. See: https://urllib3.readthedocs.io/en/1.26.x/advanced-usage.html#ssl-warnings\n",
      "  warnings.warn(\n",
      "/nobackup/lab_bock/users/sreichl/miniconda3/envs/enrichment_analysis/lib/python3.9/site-packages/urllib3/connectionpool.py:1013: InsecureRequestWarning: Unverified HTTPS request is being made to host 'maayanlab.cloud'. Adding certificate verification is strongly advised. See: https://urllib3.readthedocs.io/en/1.26.x/advanced-usage.html#ssl-warnings\n",
      "  warnings.warn(\n"
     ]
    },
    {
     "name": "stdout",
     "output_type": "stream",
     "text": [
      "ENCODE_TF_ChIP-seq_2015\n"
     ]
    },
    {
     "name": "stderr",
     "output_type": "stream",
     "text": [
      "2021-12-29 17:49:32,790 Warning: No enrich terms using library CUSTOM46919240595008 when cutoff = 0.05\n",
      "WARNING:gseapy:Warning: No enrich terms using library CUSTOM46919240595008 when cutoff = 0.05\n"
     ]
    },
    {
     "name": "stdout",
     "output_type": "stream",
     "text": [
      "ChEA_2016\n",
      "BioPlanet_2019\n"
     ]
    },
    {
     "name": "stderr",
     "output_type": "stream",
     "text": [
      "2021-12-29 17:49:56,868 Warning: No enrich terms using library CUSTOM46919401884864 when cutoff = 0.05\n",
      "WARNING:gseapy:Warning: No enrich terms using library CUSTOM46919401884864 when cutoff = 0.05\n"
     ]
    },
    {
     "name": "stdout",
     "output_type": "stream",
     "text": [
      "KEGG_2019_Mouse\n"
     ]
    },
    {
     "name": "stderr",
     "output_type": "stream",
     "text": [
      "2021-12-29 17:50:03,177 Warning: No enrich terms using library CUSTOM46919407198336 when cutoff = 0.05\n",
      "WARNING:gseapy:Warning: No enrich terms using library CUSTOM46919407198336 when cutoff = 0.05\n"
     ]
    },
    {
     "name": "stdout",
     "output_type": "stream",
     "text": [
      "WikiPathways_2019_Mouse\n"
     ]
    },
    {
     "name": "stderr",
     "output_type": "stream",
     "text": [
      "2021-12-29 17:50:04,328 Warning: No enrich terms using library CUSTOM46919409201984 when cutoff = 0.05\n",
      "WARNING:gseapy:Warning: No enrich terms using library CUSTOM46919409201984 when cutoff = 0.05\n"
     ]
    },
    {
     "name": "stdout",
     "output_type": "stream",
     "text": [
      "GO_Biological_Process_2021\n",
      "ENCODE_TF_ChIP-seq_2015 590\n",
      "ChEA_2016 556\n",
      "BioPlanet_2019 156\n",
      "KEGG_2019_Mouse 91\n",
      "WikiPathways_2019_Mouse 33\n",
      "GO_Biological_Process_2021 344\n",
      "IFN_gamma_6\n",
      "6\n",
      "dict_keys(['cluster_1', 'cluster_2', 'cluster_3', 'cluster_4', 'cluster_5', 'cluster_6'])\n"
     ]
    },
    {
     "name": "stderr",
     "output_type": "stream",
     "text": [
      "/nobackup/lab_bock/users/sreichl/miniconda3/envs/enrichment_analysis/lib/python3.9/site-packages/urllib3/connectionpool.py:1013: InsecureRequestWarning: Unverified HTTPS request is being made to host 'maayanlab.cloud'. Adding certificate verification is strongly advised. See: https://urllib3.readthedocs.io/en/1.26.x/advanced-usage.html#ssl-warnings\n",
      "  warnings.warn(\n",
      "/nobackup/lab_bock/users/sreichl/miniconda3/envs/enrichment_analysis/lib/python3.9/site-packages/urllib3/connectionpool.py:1013: InsecureRequestWarning: Unverified HTTPS request is being made to host 'maayanlab.cloud'. Adding certificate verification is strongly advised. See: https://urllib3.readthedocs.io/en/1.26.x/advanced-usage.html#ssl-warnings\n",
      "  warnings.warn(\n",
      "/nobackup/lab_bock/users/sreichl/miniconda3/envs/enrichment_analysis/lib/python3.9/site-packages/urllib3/connectionpool.py:1013: InsecureRequestWarning: Unverified HTTPS request is being made to host 'maayanlab.cloud'. Adding certificate verification is strongly advised. See: https://urllib3.readthedocs.io/en/1.26.x/advanced-usage.html#ssl-warnings\n",
      "  warnings.warn(\n",
      "/nobackup/lab_bock/users/sreichl/miniconda3/envs/enrichment_analysis/lib/python3.9/site-packages/urllib3/connectionpool.py:1013: InsecureRequestWarning: Unverified HTTPS request is being made to host 'maayanlab.cloud'. Adding certificate verification is strongly advised. See: https://urllib3.readthedocs.io/en/1.26.x/advanced-usage.html#ssl-warnings\n",
      "  warnings.warn(\n",
      "/nobackup/lab_bock/users/sreichl/miniconda3/envs/enrichment_analysis/lib/python3.9/site-packages/urllib3/connectionpool.py:1013: InsecureRequestWarning: Unverified HTTPS request is being made to host 'maayanlab.cloud'. Adding certificate verification is strongly advised. See: https://urllib3.readthedocs.io/en/1.26.x/advanced-usage.html#ssl-warnings\n",
      "  warnings.warn(\n",
      "/nobackup/lab_bock/users/sreichl/miniconda3/envs/enrichment_analysis/lib/python3.9/site-packages/urllib3/connectionpool.py:1013: InsecureRequestWarning: Unverified HTTPS request is being made to host 'maayanlab.cloud'. Adding certificate verification is strongly advised. See: https://urllib3.readthedocs.io/en/1.26.x/advanced-usage.html#ssl-warnings\n",
      "  warnings.warn(\n"
     ]
    },
    {
     "name": "stdout",
     "output_type": "stream",
     "text": [
      "ENCODE_TF_ChIP-seq_2015\n"
     ]
    },
    {
     "name": "stderr",
     "output_type": "stream",
     "text": [
      "2021-12-29 17:53:13,538 Warning: No enrich terms using library CUSTOM46919240423040 when cutoff = 0.05\n",
      "WARNING:gseapy:Warning: No enrich terms using library CUSTOM46919240423040 when cutoff = 0.05\n"
     ]
    },
    {
     "name": "stdout",
     "output_type": "stream",
     "text": [
      "ChEA_2016\n"
     ]
    },
    {
     "name": "stderr",
     "output_type": "stream",
     "text": [
      "2021-12-29 17:53:39,638 Warning: No enrich terms using library CUSTOM46918282344768 when cutoff = 0.05\n",
      "WARNING:gseapy:Warning: No enrich terms using library CUSTOM46918282344768 when cutoff = 0.05\n"
     ]
    },
    {
     "name": "stdout",
     "output_type": "stream",
     "text": [
      "BioPlanet_2019\n"
     ]
    },
    {
     "name": "stderr",
     "output_type": "stream",
     "text": [
      "2021-12-29 17:53:48,387 Warning: No enrich terms using library CUSTOM46918313651200 when cutoff = 0.05\n",
      "WARNING:gseapy:Warning: No enrich terms using library CUSTOM46918313651200 when cutoff = 0.05\n"
     ]
    },
    {
     "name": "stdout",
     "output_type": "stream",
     "text": [
      "KEGG_2019_Mouse\n"
     ]
    },
    {
     "name": "stderr",
     "output_type": "stream",
     "text": [
      "2021-12-29 17:53:50,653 Warning: No enrich terms using library CUSTOM46917879988416 when cutoff = 0.05\n",
      "WARNING:gseapy:Warning: No enrich terms using library CUSTOM46917879988416 when cutoff = 0.05\n"
     ]
    },
    {
     "name": "stdout",
     "output_type": "stream",
     "text": [
      "WikiPathways_2019_Mouse\n"
     ]
    },
    {
     "name": "stderr",
     "output_type": "stream",
     "text": [
      "2021-12-29 17:53:51,891 Warning: No enrich terms using library CUSTOM46917812768256 when cutoff = 0.05\n",
      "WARNING:gseapy:Warning: No enrich terms using library CUSTOM46917812768256 when cutoff = 0.05\n"
     ]
    },
    {
     "name": "stdout",
     "output_type": "stream",
     "text": [
      "GO_Biological_Process_2021\n",
      "ENCODE_TF_ChIP-seq_2015 633\n",
      "ChEA_2016 557\n",
      "BioPlanet_2019 148\n",
      "KEGG_2019_Mouse 84\n",
      "WikiPathways_2019_Mouse 28\n",
      "GO_Biological_Process_2021 307\n",
      "IFN_gamma_7\n",
      "7\n",
      "dict_keys(['cluster_1', 'cluster_2', 'cluster_3', 'cluster_4', 'cluster_5', 'cluster_6', 'cluster_7'])\n"
     ]
    },
    {
     "name": "stderr",
     "output_type": "stream",
     "text": [
      "/nobackup/lab_bock/users/sreichl/miniconda3/envs/enrichment_analysis/lib/python3.9/site-packages/urllib3/connectionpool.py:1013: InsecureRequestWarning: Unverified HTTPS request is being made to host 'maayanlab.cloud'. Adding certificate verification is strongly advised. See: https://urllib3.readthedocs.io/en/1.26.x/advanced-usage.html#ssl-warnings\n",
      "  warnings.warn(\n",
      "/nobackup/lab_bock/users/sreichl/miniconda3/envs/enrichment_analysis/lib/python3.9/site-packages/urllib3/connectionpool.py:1013: InsecureRequestWarning: Unverified HTTPS request is being made to host 'maayanlab.cloud'. Adding certificate verification is strongly advised. See: https://urllib3.readthedocs.io/en/1.26.x/advanced-usage.html#ssl-warnings\n",
      "  warnings.warn(\n",
      "/nobackup/lab_bock/users/sreichl/miniconda3/envs/enrichment_analysis/lib/python3.9/site-packages/urllib3/connectionpool.py:1013: InsecureRequestWarning: Unverified HTTPS request is being made to host 'maayanlab.cloud'. Adding certificate verification is strongly advised. See: https://urllib3.readthedocs.io/en/1.26.x/advanced-usage.html#ssl-warnings\n",
      "  warnings.warn(\n",
      "/nobackup/lab_bock/users/sreichl/miniconda3/envs/enrichment_analysis/lib/python3.9/site-packages/urllib3/connectionpool.py:1013: InsecureRequestWarning: Unverified HTTPS request is being made to host 'maayanlab.cloud'. Adding certificate verification is strongly advised. See: https://urllib3.readthedocs.io/en/1.26.x/advanced-usage.html#ssl-warnings\n",
      "  warnings.warn(\n",
      "/nobackup/lab_bock/users/sreichl/miniconda3/envs/enrichment_analysis/lib/python3.9/site-packages/urllib3/connectionpool.py:1013: InsecureRequestWarning: Unverified HTTPS request is being made to host 'maayanlab.cloud'. Adding certificate verification is strongly advised. See: https://urllib3.readthedocs.io/en/1.26.x/advanced-usage.html#ssl-warnings\n",
      "  warnings.warn(\n",
      "/nobackup/lab_bock/users/sreichl/miniconda3/envs/enrichment_analysis/lib/python3.9/site-packages/urllib3/connectionpool.py:1013: InsecureRequestWarning: Unverified HTTPS request is being made to host 'maayanlab.cloud'. Adding certificate verification is strongly advised. See: https://urllib3.readthedocs.io/en/1.26.x/advanced-usage.html#ssl-warnings\n",
      "  warnings.warn(\n"
     ]
    },
    {
     "name": "stdout",
     "output_type": "stream",
     "text": [
      "ENCODE_TF_ChIP-seq_2015\n"
     ]
    },
    {
     "name": "stderr",
     "output_type": "stream",
     "text": [
      "2021-12-29 17:57:06,006 Warning: No enrich terms using library CUSTOM46918456948864 when cutoff = 0.05\n",
      "WARNING:gseapy:Warning: No enrich terms using library CUSTOM46918456948864 when cutoff = 0.05\n"
     ]
    },
    {
     "name": "stdout",
     "output_type": "stream",
     "text": [
      "ChEA_2016\n",
      "BioPlanet_2019\n"
     ]
    },
    {
     "name": "stderr",
     "output_type": "stream",
     "text": [
      "2021-12-29 17:57:47,581 Warning: No enrich terms using library CUSTOM46918963785408 when cutoff = 0.05\n",
      "WARNING:gseapy:Warning: No enrich terms using library CUSTOM46918963785408 when cutoff = 0.05\n",
      "2021-12-29 17:57:49,172 Warning: No enrich terms using library CUSTOM46918963785408 when cutoff = 0.05\n",
      "WARNING:gseapy:Warning: No enrich terms using library CUSTOM46918963785408 when cutoff = 0.05\n"
     ]
    },
    {
     "name": "stdout",
     "output_type": "stream",
     "text": [
      "KEGG_2019_Mouse\n"
     ]
    },
    {
     "name": "stderr",
     "output_type": "stream",
     "text": [
      "2021-12-29 17:57:51,818 Warning: No enrich terms using library CUSTOM46919004381824 when cutoff = 0.05\n",
      "WARNING:gseapy:Warning: No enrich terms using library CUSTOM46919004381824 when cutoff = 0.05\n"
     ]
    },
    {
     "name": "stdout",
     "output_type": "stream",
     "text": [
      "WikiPathways_2019_Mouse\n"
     ]
    },
    {
     "name": "stderr",
     "output_type": "stream",
     "text": [
      "2021-12-29 17:57:52,938 Warning: No enrich terms using library CUSTOM46919006389568 when cutoff = 0.05\n",
      "WARNING:gseapy:Warning: No enrich terms using library CUSTOM46919006389568 when cutoff = 0.05\n",
      "2021-12-29 17:57:53,435 Warning: No enrich terms using library CUSTOM46919006389568 when cutoff = 0.05\n",
      "WARNING:gseapy:Warning: No enrich terms using library CUSTOM46919006389568 when cutoff = 0.05\n"
     ]
    },
    {
     "name": "stdout",
     "output_type": "stream",
     "text": [
      "GO_Biological_Process_2021\n",
      "ENCODE_TF_ChIP-seq_2015 664\n",
      "ChEA_2016 561\n",
      "BioPlanet_2019 165\n",
      "KEGG_2019_Mouse 92\n",
      "WikiPathways_2019_Mouse 32\n",
      "GO_Biological_Process_2021 356\n",
      "IFN_gamma_8\n",
      "8\n",
      "dict_keys(['cluster_1', 'cluster_2', 'cluster_3', 'cluster_4', 'cluster_5', 'cluster_6', 'cluster_7', 'cluster_8'])\n"
     ]
    },
    {
     "name": "stderr",
     "output_type": "stream",
     "text": [
      "/nobackup/lab_bock/users/sreichl/miniconda3/envs/enrichment_analysis/lib/python3.9/site-packages/urllib3/connectionpool.py:1013: InsecureRequestWarning: Unverified HTTPS request is being made to host 'maayanlab.cloud'. Adding certificate verification is strongly advised. See: https://urllib3.readthedocs.io/en/1.26.x/advanced-usage.html#ssl-warnings\n",
      "  warnings.warn(\n",
      "/nobackup/lab_bock/users/sreichl/miniconda3/envs/enrichment_analysis/lib/python3.9/site-packages/urllib3/connectionpool.py:1013: InsecureRequestWarning: Unverified HTTPS request is being made to host 'maayanlab.cloud'. Adding certificate verification is strongly advised. See: https://urllib3.readthedocs.io/en/1.26.x/advanced-usage.html#ssl-warnings\n",
      "  warnings.warn(\n",
      "/nobackup/lab_bock/users/sreichl/miniconda3/envs/enrichment_analysis/lib/python3.9/site-packages/urllib3/connectionpool.py:1013: InsecureRequestWarning: Unverified HTTPS request is being made to host 'maayanlab.cloud'. Adding certificate verification is strongly advised. See: https://urllib3.readthedocs.io/en/1.26.x/advanced-usage.html#ssl-warnings\n",
      "  warnings.warn(\n",
      "/nobackup/lab_bock/users/sreichl/miniconda3/envs/enrichment_analysis/lib/python3.9/site-packages/urllib3/connectionpool.py:1013: InsecureRequestWarning: Unverified HTTPS request is being made to host 'maayanlab.cloud'. Adding certificate verification is strongly advised. See: https://urllib3.readthedocs.io/en/1.26.x/advanced-usage.html#ssl-warnings\n",
      "  warnings.warn(\n",
      "/nobackup/lab_bock/users/sreichl/miniconda3/envs/enrichment_analysis/lib/python3.9/site-packages/urllib3/connectionpool.py:1013: InsecureRequestWarning: Unverified HTTPS request is being made to host 'maayanlab.cloud'. Adding certificate verification is strongly advised. See: https://urllib3.readthedocs.io/en/1.26.x/advanced-usage.html#ssl-warnings\n",
      "  warnings.warn(\n",
      "/nobackup/lab_bock/users/sreichl/miniconda3/envs/enrichment_analysis/lib/python3.9/site-packages/urllib3/connectionpool.py:1013: InsecureRequestWarning: Unverified HTTPS request is being made to host 'maayanlab.cloud'. Adding certificate verification is strongly advised. See: https://urllib3.readthedocs.io/en/1.26.x/advanced-usage.html#ssl-warnings\n",
      "  warnings.warn(\n"
     ]
    },
    {
     "name": "stdout",
     "output_type": "stream",
     "text": [
      "ENCODE_TF_ChIP-seq_2015\n"
     ]
    },
    {
     "name": "stderr",
     "output_type": "stream",
     "text": [
      "2021-12-29 18:01:39,588 Warning: No enrich terms using library CUSTOM46919005242048 when cutoff = 0.05\n",
      "WARNING:gseapy:Warning: No enrich terms using library CUSTOM46919005242048 when cutoff = 0.05\n"
     ]
    },
    {
     "name": "stdout",
     "output_type": "stream",
     "text": [
      "ChEA_2016\n"
     ]
    },
    {
     "name": "stderr",
     "output_type": "stream",
     "text": [
      "2021-12-29 18:02:01,756 Warning: No enrich terms using library CUSTOM46918773685248 when cutoff = 0.05\n",
      "WARNING:gseapy:Warning: No enrich terms using library CUSTOM46918773685248 when cutoff = 0.05\n"
     ]
    },
    {
     "name": "stdout",
     "output_type": "stream",
     "text": [
      "BioPlanet_2019\n"
     ]
    },
    {
     "name": "stderr",
     "output_type": "stream",
     "text": [
      "2021-12-29 18:02:08,854 Warning: No enrich terms using library CUSTOM46918315791744 when cutoff = 0.05\n",
      "WARNING:gseapy:Warning: No enrich terms using library CUSTOM46918315791744 when cutoff = 0.05\n",
      "2021-12-29 18:02:08,952 Warning: No enrich terms using library CUSTOM46918315791744 when cutoff = 0.05\n",
      "WARNING:gseapy:Warning: No enrich terms using library CUSTOM46918315791744 when cutoff = 0.05\n"
     ]
    },
    {
     "name": "stdout",
     "output_type": "stream",
     "text": [
      "KEGG_2019_Mouse\n"
     ]
    },
    {
     "name": "stderr",
     "output_type": "stream",
     "text": [
      "2021-12-29 18:02:11,486 Warning: No enrich terms using library CUSTOM46918227009984 when cutoff = 0.05\n",
      "WARNING:gseapy:Warning: No enrich terms using library CUSTOM46918227009984 when cutoff = 0.05\n"
     ]
    },
    {
     "name": "stdout",
     "output_type": "stream",
     "text": [
      "WikiPathways_2019_Mouse\n"
     ]
    },
    {
     "name": "stderr",
     "output_type": "stream",
     "text": [
      "2021-12-29 18:02:12,779 Warning: No enrich terms using library CUSTOM46917865393088 when cutoff = 0.05\n",
      "WARNING:gseapy:Warning: No enrich terms using library CUSTOM46917865393088 when cutoff = 0.05\n",
      "2021-12-29 18:02:12,803 Warning: No enrich terms using library CUSTOM46917865393088 when cutoff = 0.05\n",
      "WARNING:gseapy:Warning: No enrich terms using library CUSTOM46917865393088 when cutoff = 0.05\n"
     ]
    },
    {
     "name": "stdout",
     "output_type": "stream",
     "text": [
      "GO_Biological_Process_2021\n"
     ]
    },
    {
     "name": "stderr",
     "output_type": "stream",
     "text": [
      "2021-12-29 18:02:17,896 Warning: No enrich terms using library CUSTOM46918253664576 when cutoff = 0.05\n",
      "WARNING:gseapy:Warning: No enrich terms using library CUSTOM46918253664576 when cutoff = 0.05\n"
     ]
    },
    {
     "name": "stdout",
     "output_type": "stream",
     "text": [
      "ENCODE_TF_ChIP-seq_2015 654\n",
      "ChEA_2016 554\n",
      "BioPlanet_2019 167\n",
      "KEGG_2019_Mouse 102\n",
      "WikiPathways_2019_Mouse 37\n",
      "GO_Biological_Process_2021 353\n",
      "IFN_gamma_9\n",
      "9\n",
      "dict_keys(['cluster_1', 'cluster_2', 'cluster_3', 'cluster_4', 'cluster_5', 'cluster_6', 'cluster_7', 'cluster_8', 'cluster_9'])\n"
     ]
    },
    {
     "name": "stderr",
     "output_type": "stream",
     "text": [
      "/nobackup/lab_bock/users/sreichl/miniconda3/envs/enrichment_analysis/lib/python3.9/site-packages/urllib3/connectionpool.py:1013: InsecureRequestWarning: Unverified HTTPS request is being made to host 'maayanlab.cloud'. Adding certificate verification is strongly advised. See: https://urllib3.readthedocs.io/en/1.26.x/advanced-usage.html#ssl-warnings\n",
      "  warnings.warn(\n",
      "/nobackup/lab_bock/users/sreichl/miniconda3/envs/enrichment_analysis/lib/python3.9/site-packages/urllib3/connectionpool.py:1013: InsecureRequestWarning: Unverified HTTPS request is being made to host 'maayanlab.cloud'. Adding certificate verification is strongly advised. See: https://urllib3.readthedocs.io/en/1.26.x/advanced-usage.html#ssl-warnings\n",
      "  warnings.warn(\n",
      "/nobackup/lab_bock/users/sreichl/miniconda3/envs/enrichment_analysis/lib/python3.9/site-packages/urllib3/connectionpool.py:1013: InsecureRequestWarning: Unverified HTTPS request is being made to host 'maayanlab.cloud'. Adding certificate verification is strongly advised. See: https://urllib3.readthedocs.io/en/1.26.x/advanced-usage.html#ssl-warnings\n",
      "  warnings.warn(\n",
      "/nobackup/lab_bock/users/sreichl/miniconda3/envs/enrichment_analysis/lib/python3.9/site-packages/urllib3/connectionpool.py:1013: InsecureRequestWarning: Unverified HTTPS request is being made to host 'maayanlab.cloud'. Adding certificate verification is strongly advised. See: https://urllib3.readthedocs.io/en/1.26.x/advanced-usage.html#ssl-warnings\n",
      "  warnings.warn(\n",
      "/nobackup/lab_bock/users/sreichl/miniconda3/envs/enrichment_analysis/lib/python3.9/site-packages/urllib3/connectionpool.py:1013: InsecureRequestWarning: Unverified HTTPS request is being made to host 'maayanlab.cloud'. Adding certificate verification is strongly advised. See: https://urllib3.readthedocs.io/en/1.26.x/advanced-usage.html#ssl-warnings\n",
      "  warnings.warn(\n",
      "/nobackup/lab_bock/users/sreichl/miniconda3/envs/enrichment_analysis/lib/python3.9/site-packages/urllib3/connectionpool.py:1013: InsecureRequestWarning: Unverified HTTPS request is being made to host 'maayanlab.cloud'. Adding certificate verification is strongly advised. See: https://urllib3.readthedocs.io/en/1.26.x/advanced-usage.html#ssl-warnings\n",
      "  warnings.warn(\n"
     ]
    },
    {
     "name": "stdout",
     "output_type": "stream",
     "text": [
      "ENCODE_TF_ChIP-seq_2015\n"
     ]
    },
    {
     "name": "stderr",
     "output_type": "stream",
     "text": [
      "2021-12-29 18:05:31,740 Warning: No enrich terms using library CUSTOM46919023037632 when cutoff = 0.05\n",
      "WARNING:gseapy:Warning: No enrich terms using library CUSTOM46919023037632 when cutoff = 0.05\n",
      "2021-12-29 18:05:49,836 Warning: No enrich terms using library CUSTOM46919023037632 when cutoff = 0.05\n",
      "WARNING:gseapy:Warning: No enrich terms using library CUSTOM46919023037632 when cutoff = 0.05\n"
     ]
    },
    {
     "name": "stdout",
     "output_type": "stream",
     "text": [
      "ChEA_2016\n"
     ]
    },
    {
     "name": "stderr",
     "output_type": "stream",
     "text": [
      "2021-12-29 18:06:07,337 Warning: No enrich terms using library CUSTOM46918558418880 when cutoff = 0.05\n",
      "WARNING:gseapy:Warning: No enrich terms using library CUSTOM46918558418880 when cutoff = 0.05\n"
     ]
    },
    {
     "name": "stdout",
     "output_type": "stream",
     "text": [
      "BioPlanet_2019\n"
     ]
    },
    {
     "name": "stderr",
     "output_type": "stream",
     "text": [
      "2021-12-29 18:06:20,486 Warning: No enrich terms using library CUSTOM46918915576640 when cutoff = 0.05\n",
      "WARNING:gseapy:Warning: No enrich terms using library CUSTOM46918915576640 when cutoff = 0.05\n",
      "2021-12-29 18:06:20,636 Warning: No enrich terms using library CUSTOM46918915576640 when cutoff = 0.05\n",
      "WARNING:gseapy:Warning: No enrich terms using library CUSTOM46918915576640 when cutoff = 0.05\n",
      "2021-12-29 18:06:21,611 Warning: No enrich terms using library CUSTOM46918915576640 when cutoff = 0.05\n",
      "WARNING:gseapy:Warning: No enrich terms using library CUSTOM46918915576640 when cutoff = 0.05\n",
      "2021-12-29 18:06:22,451 Warning: No enrich terms using library CUSTOM46918921021120 when cutoff = 0.05\n",
      "WARNING:gseapy:Warning: No enrich terms using library CUSTOM46918921021120 when cutoff = 0.05\n"
     ]
    },
    {
     "name": "stdout",
     "output_type": "stream",
     "text": [
      "KEGG_2019_Mouse\n"
     ]
    },
    {
     "name": "stderr",
     "output_type": "stream",
     "text": [
      "2021-12-29 18:06:23,818 Warning: No enrich terms using library CUSTOM46918921021120 when cutoff = 0.05\n",
      "WARNING:gseapy:Warning: No enrich terms using library CUSTOM46918921021120 when cutoff = 0.05\n",
      "2021-12-29 18:06:25,071 Warning: No enrich terms using library CUSTOM46918923278720 when cutoff = 0.05\n",
      "WARNING:gseapy:Warning: No enrich terms using library CUSTOM46918923278720 when cutoff = 0.05\n"
     ]
    },
    {
     "name": "stdout",
     "output_type": "stream",
     "text": [
      "WikiPathways_2019_Mouse\n"
     ]
    },
    {
     "name": "stderr",
     "output_type": "stream",
     "text": [
      "2021-12-29 18:06:25,817 Warning: No enrich terms using library CUSTOM46918923278720 when cutoff = 0.05\n",
      "WARNING:gseapy:Warning: No enrich terms using library CUSTOM46918923278720 when cutoff = 0.05\n",
      "2021-12-29 18:06:25,851 Warning: No enrich terms using library CUSTOM46918923278720 when cutoff = 0.05\n",
      "WARNING:gseapy:Warning: No enrich terms using library CUSTOM46918923278720 when cutoff = 0.05\n",
      "2021-12-29 18:06:26,148 Warning: No enrich terms using library CUSTOM46918923278720 when cutoff = 0.05\n",
      "WARNING:gseapy:Warning: No enrich terms using library CUSTOM46918923278720 when cutoff = 0.05\n"
     ]
    },
    {
     "name": "stdout",
     "output_type": "stream",
     "text": [
      "GO_Biological_Process_2021\n",
      "ENCODE_TF_ChIP-seq_2015 607\n",
      "ChEA_2016 546\n",
      "BioPlanet_2019 151\n",
      "KEGG_2019_Mouse 95\n",
      "WikiPathways_2019_Mouse 40\n",
      "GO_Biological_Process_2021 274\n",
      "IFN_gamma_10\n",
      "10\n",
      "dict_keys(['cluster_1', 'cluster_2', 'cluster_3', 'cluster_4', 'cluster_5', 'cluster_6', 'cluster_7', 'cluster_8', 'cluster_9', 'cluster_10'])\n"
     ]
    },
    {
     "name": "stderr",
     "output_type": "stream",
     "text": [
      "/nobackup/lab_bock/users/sreichl/miniconda3/envs/enrichment_analysis/lib/python3.9/site-packages/urllib3/connectionpool.py:1013: InsecureRequestWarning: Unverified HTTPS request is being made to host 'maayanlab.cloud'. Adding certificate verification is strongly advised. See: https://urllib3.readthedocs.io/en/1.26.x/advanced-usage.html#ssl-warnings\n",
      "  warnings.warn(\n",
      "/nobackup/lab_bock/users/sreichl/miniconda3/envs/enrichment_analysis/lib/python3.9/site-packages/urllib3/connectionpool.py:1013: InsecureRequestWarning: Unverified HTTPS request is being made to host 'maayanlab.cloud'. Adding certificate verification is strongly advised. See: https://urllib3.readthedocs.io/en/1.26.x/advanced-usage.html#ssl-warnings\n",
      "  warnings.warn(\n",
      "/nobackup/lab_bock/users/sreichl/miniconda3/envs/enrichment_analysis/lib/python3.9/site-packages/urllib3/connectionpool.py:1013: InsecureRequestWarning: Unverified HTTPS request is being made to host 'maayanlab.cloud'. Adding certificate verification is strongly advised. See: https://urllib3.readthedocs.io/en/1.26.x/advanced-usage.html#ssl-warnings\n",
      "  warnings.warn(\n",
      "/nobackup/lab_bock/users/sreichl/miniconda3/envs/enrichment_analysis/lib/python3.9/site-packages/urllib3/connectionpool.py:1013: InsecureRequestWarning: Unverified HTTPS request is being made to host 'maayanlab.cloud'. Adding certificate verification is strongly advised. See: https://urllib3.readthedocs.io/en/1.26.x/advanced-usage.html#ssl-warnings\n",
      "  warnings.warn(\n",
      "/nobackup/lab_bock/users/sreichl/miniconda3/envs/enrichment_analysis/lib/python3.9/site-packages/urllib3/connectionpool.py:1013: InsecureRequestWarning: Unverified HTTPS request is being made to host 'maayanlab.cloud'. Adding certificate verification is strongly advised. See: https://urllib3.readthedocs.io/en/1.26.x/advanced-usage.html#ssl-warnings\n",
      "  warnings.warn(\n",
      "/nobackup/lab_bock/users/sreichl/miniconda3/envs/enrichment_analysis/lib/python3.9/site-packages/urllib3/connectionpool.py:1013: InsecureRequestWarning: Unverified HTTPS request is being made to host 'maayanlab.cloud'. Adding certificate verification is strongly advised. See: https://urllib3.readthedocs.io/en/1.26.x/advanced-usage.html#ssl-warnings\n",
      "  warnings.warn(\n"
     ]
    },
    {
     "name": "stdout",
     "output_type": "stream",
     "text": [
      "ENCODE_TF_ChIP-seq_2015\n"
     ]
    },
    {
     "name": "stderr",
     "output_type": "stream",
     "text": [
      "2021-12-29 18:09:47,406 Warning: No enrich terms using library CUSTOM46919139190272 when cutoff = 0.05\n",
      "WARNING:gseapy:Warning: No enrich terms using library CUSTOM46919139190272 when cutoff = 0.05\n",
      "2021-12-29 18:10:01,387 Warning: No enrich terms using library CUSTOM46919139190272 when cutoff = 0.05\n",
      "WARNING:gseapy:Warning: No enrich terms using library CUSTOM46919139190272 when cutoff = 0.05\n"
     ]
    },
    {
     "name": "stdout",
     "output_type": "stream",
     "text": [
      "ChEA_2016\n"
     ]
    },
    {
     "name": "stderr",
     "output_type": "stream",
     "text": [
      "2021-12-29 18:10:30,175 Warning: No enrich terms using library CUSTOM46919310135552 when cutoff = 0.05\n",
      "WARNING:gseapy:Warning: No enrich terms using library CUSTOM46919310135552 when cutoff = 0.05\n"
     ]
    },
    {
     "name": "stdout",
     "output_type": "stream",
     "text": [
      "BioPlanet_2019\n"
     ]
    },
    {
     "name": "stderr",
     "output_type": "stream",
     "text": [
      "2021-12-29 18:10:45,342 Warning: No enrich terms using library CUSTOM46919378902080 when cutoff = 0.05\n",
      "WARNING:gseapy:Warning: No enrich terms using library CUSTOM46919378902080 when cutoff = 0.05\n",
      "2021-12-29 18:10:45,491 Warning: No enrich terms using library CUSTOM46919378902080 when cutoff = 0.05\n",
      "WARNING:gseapy:Warning: No enrich terms using library CUSTOM46919378902080 when cutoff = 0.05\n",
      "2021-12-29 18:10:46,410 Warning: No enrich terms using library CUSTOM46919378902080 when cutoff = 0.05\n",
      "WARNING:gseapy:Warning: No enrich terms using library CUSTOM46919378902080 when cutoff = 0.05\n"
     ]
    },
    {
     "name": "stdout",
     "output_type": "stream",
     "text": [
      "KEGG_2019_Mouse\n"
     ]
    },
    {
     "name": "stderr",
     "output_type": "stream",
     "text": [
      "2021-12-29 18:10:49,018 Warning: No enrich terms using library CUSTOM46919384718912 when cutoff = 0.05\n",
      "WARNING:gseapy:Warning: No enrich terms using library CUSTOM46919384718912 when cutoff = 0.05\n",
      "2021-12-29 18:10:50,198 Warning: No enrich terms using library CUSTOM46919384718912 when cutoff = 0.05\n",
      "WARNING:gseapy:Warning: No enrich terms using library CUSTOM46919384718912 when cutoff = 0.05\n"
     ]
    },
    {
     "name": "stdout",
     "output_type": "stream",
     "text": [
      "WikiPathways_2019_Mouse\n"
     ]
    },
    {
     "name": "stderr",
     "output_type": "stream",
     "text": [
      "2021-12-29 18:10:50,985 Warning: No enrich terms using library CUSTOM46919386755392 when cutoff = 0.05\n",
      "WARNING:gseapy:Warning: No enrich terms using library CUSTOM46919386755392 when cutoff = 0.05\n",
      "2021-12-29 18:10:51,015 Warning: No enrich terms using library CUSTOM46919386755392 when cutoff = 0.05\n",
      "WARNING:gseapy:Warning: No enrich terms using library CUSTOM46919386755392 when cutoff = 0.05\n",
      "2021-12-29 18:10:51,337 Warning: No enrich terms using library CUSTOM46919386755392 when cutoff = 0.05\n",
      "WARNING:gseapy:Warning: No enrich terms using library CUSTOM46919386755392 when cutoff = 0.05\n"
     ]
    },
    {
     "name": "stdout",
     "output_type": "stream",
     "text": [
      "GO_Biological_Process_2021\n",
      "ENCODE_TF_ChIP-seq_2015 606\n",
      "ChEA_2016 557\n",
      "BioPlanet_2019 117\n",
      "KEGG_2019_Mouse 98\n",
      "WikiPathways_2019_Mouse 32\n",
      "GO_Biological_Process_2021 457\n",
      "LCMV_Cl13_2\n",
      "2\n",
      "dict_keys(['cluster_1', 'cluster_2'])\n"
     ]
    },
    {
     "name": "stderr",
     "output_type": "stream",
     "text": [
      "/nobackup/lab_bock/users/sreichl/miniconda3/envs/enrichment_analysis/lib/python3.9/site-packages/urllib3/connectionpool.py:1013: InsecureRequestWarning: Unverified HTTPS request is being made to host 'maayanlab.cloud'. Adding certificate verification is strongly advised. See: https://urllib3.readthedocs.io/en/1.26.x/advanced-usage.html#ssl-warnings\n",
      "  warnings.warn(\n",
      "/nobackup/lab_bock/users/sreichl/miniconda3/envs/enrichment_analysis/lib/python3.9/site-packages/urllib3/connectionpool.py:1013: InsecureRequestWarning: Unverified HTTPS request is being made to host 'maayanlab.cloud'. Adding certificate verification is strongly advised. See: https://urllib3.readthedocs.io/en/1.26.x/advanced-usage.html#ssl-warnings\n",
      "  warnings.warn(\n",
      "/nobackup/lab_bock/users/sreichl/miniconda3/envs/enrichment_analysis/lib/python3.9/site-packages/urllib3/connectionpool.py:1013: InsecureRequestWarning: Unverified HTTPS request is being made to host 'maayanlab.cloud'. Adding certificate verification is strongly advised. See: https://urllib3.readthedocs.io/en/1.26.x/advanced-usage.html#ssl-warnings\n",
      "  warnings.warn(\n",
      "/nobackup/lab_bock/users/sreichl/miniconda3/envs/enrichment_analysis/lib/python3.9/site-packages/urllib3/connectionpool.py:1013: InsecureRequestWarning: Unverified HTTPS request is being made to host 'maayanlab.cloud'. Adding certificate verification is strongly advised. See: https://urllib3.readthedocs.io/en/1.26.x/advanced-usage.html#ssl-warnings\n",
      "  warnings.warn(\n",
      "/nobackup/lab_bock/users/sreichl/miniconda3/envs/enrichment_analysis/lib/python3.9/site-packages/urllib3/connectionpool.py:1013: InsecureRequestWarning: Unverified HTTPS request is being made to host 'maayanlab.cloud'. Adding certificate verification is strongly advised. See: https://urllib3.readthedocs.io/en/1.26.x/advanced-usage.html#ssl-warnings\n",
      "  warnings.warn(\n",
      "/nobackup/lab_bock/users/sreichl/miniconda3/envs/enrichment_analysis/lib/python3.9/site-packages/urllib3/connectionpool.py:1013: InsecureRequestWarning: Unverified HTTPS request is being made to host 'maayanlab.cloud'. Adding certificate verification is strongly advised. See: https://urllib3.readthedocs.io/en/1.26.x/advanced-usage.html#ssl-warnings\n",
      "  warnings.warn(\n"
     ]
    },
    {
     "name": "stdout",
     "output_type": "stream",
     "text": [
      "ENCODE_TF_ChIP-seq_2015\n",
      "ChEA_2016\n",
      "BioPlanet_2019\n",
      "KEGG_2019_Mouse\n",
      "WikiPathways_2019_Mouse\n",
      "GO_Biological_Process_2021\n",
      "ENCODE_TF_ChIP-seq_2015 731\n",
      "ChEA_2016 580\n",
      "BioPlanet_2019 186\n",
      "KEGG_2019_Mouse 98\n",
      "WikiPathways_2019_Mouse 31\n",
      "GO_Biological_Process_2021 583\n",
      "LCMV_Cl13_3\n",
      "3\n",
      "dict_keys(['cluster_1', 'cluster_2', 'cluster_3'])\n"
     ]
    },
    {
     "name": "stderr",
     "output_type": "stream",
     "text": [
      "/nobackup/lab_bock/users/sreichl/miniconda3/envs/enrichment_analysis/lib/python3.9/site-packages/urllib3/connectionpool.py:1013: InsecureRequestWarning: Unverified HTTPS request is being made to host 'maayanlab.cloud'. Adding certificate verification is strongly advised. See: https://urllib3.readthedocs.io/en/1.26.x/advanced-usage.html#ssl-warnings\n",
      "  warnings.warn(\n",
      "/nobackup/lab_bock/users/sreichl/miniconda3/envs/enrichment_analysis/lib/python3.9/site-packages/urllib3/connectionpool.py:1013: InsecureRequestWarning: Unverified HTTPS request is being made to host 'maayanlab.cloud'. Adding certificate verification is strongly advised. See: https://urllib3.readthedocs.io/en/1.26.x/advanced-usage.html#ssl-warnings\n",
      "  warnings.warn(\n",
      "/nobackup/lab_bock/users/sreichl/miniconda3/envs/enrichment_analysis/lib/python3.9/site-packages/urllib3/connectionpool.py:1013: InsecureRequestWarning: Unverified HTTPS request is being made to host 'maayanlab.cloud'. Adding certificate verification is strongly advised. See: https://urllib3.readthedocs.io/en/1.26.x/advanced-usage.html#ssl-warnings\n",
      "  warnings.warn(\n",
      "/nobackup/lab_bock/users/sreichl/miniconda3/envs/enrichment_analysis/lib/python3.9/site-packages/urllib3/connectionpool.py:1013: InsecureRequestWarning: Unverified HTTPS request is being made to host 'maayanlab.cloud'. Adding certificate verification is strongly advised. See: https://urllib3.readthedocs.io/en/1.26.x/advanced-usage.html#ssl-warnings\n",
      "  warnings.warn(\n",
      "/nobackup/lab_bock/users/sreichl/miniconda3/envs/enrichment_analysis/lib/python3.9/site-packages/urllib3/connectionpool.py:1013: InsecureRequestWarning: Unverified HTTPS request is being made to host 'maayanlab.cloud'. Adding certificate verification is strongly advised. See: https://urllib3.readthedocs.io/en/1.26.x/advanced-usage.html#ssl-warnings\n",
      "  warnings.warn(\n",
      "/nobackup/lab_bock/users/sreichl/miniconda3/envs/enrichment_analysis/lib/python3.9/site-packages/urllib3/connectionpool.py:1013: InsecureRequestWarning: Unverified HTTPS request is being made to host 'maayanlab.cloud'. Adding certificate verification is strongly advised. See: https://urllib3.readthedocs.io/en/1.26.x/advanced-usage.html#ssl-warnings\n",
      "  warnings.warn(\n"
     ]
    },
    {
     "name": "stdout",
     "output_type": "stream",
     "text": [
      "ENCODE_TF_ChIP-seq_2015\n",
      "ChEA_2016\n",
      "BioPlanet_2019\n",
      "KEGG_2019_Mouse\n",
      "WikiPathways_2019_Mouse\n",
      "GO_Biological_Process_2021\n",
      "ENCODE_TF_ChIP-seq_2015 730\n",
      "ChEA_2016 583\n",
      "BioPlanet_2019 200\n",
      "KEGG_2019_Mouse 80\n",
      "WikiPathways_2019_Mouse 26\n",
      "GO_Biological_Process_2021 567\n",
      "LCMV_Cl13_4\n",
      "4\n",
      "dict_keys(['cluster_1', 'cluster_2', 'cluster_3', 'cluster_4'])\n"
     ]
    },
    {
     "name": "stderr",
     "output_type": "stream",
     "text": [
      "/nobackup/lab_bock/users/sreichl/miniconda3/envs/enrichment_analysis/lib/python3.9/site-packages/urllib3/connectionpool.py:1013: InsecureRequestWarning: Unverified HTTPS request is being made to host 'maayanlab.cloud'. Adding certificate verification is strongly advised. See: https://urllib3.readthedocs.io/en/1.26.x/advanced-usage.html#ssl-warnings\n",
      "  warnings.warn(\n",
      "/nobackup/lab_bock/users/sreichl/miniconda3/envs/enrichment_analysis/lib/python3.9/site-packages/urllib3/connectionpool.py:1013: InsecureRequestWarning: Unverified HTTPS request is being made to host 'maayanlab.cloud'. Adding certificate verification is strongly advised. See: https://urllib3.readthedocs.io/en/1.26.x/advanced-usage.html#ssl-warnings\n",
      "  warnings.warn(\n",
      "/nobackup/lab_bock/users/sreichl/miniconda3/envs/enrichment_analysis/lib/python3.9/site-packages/urllib3/connectionpool.py:1013: InsecureRequestWarning: Unverified HTTPS request is being made to host 'maayanlab.cloud'. Adding certificate verification is strongly advised. See: https://urllib3.readthedocs.io/en/1.26.x/advanced-usage.html#ssl-warnings\n",
      "  warnings.warn(\n",
      "/nobackup/lab_bock/users/sreichl/miniconda3/envs/enrichment_analysis/lib/python3.9/site-packages/urllib3/connectionpool.py:1013: InsecureRequestWarning: Unverified HTTPS request is being made to host 'maayanlab.cloud'. Adding certificate verification is strongly advised. See: https://urllib3.readthedocs.io/en/1.26.x/advanced-usage.html#ssl-warnings\n",
      "  warnings.warn(\n",
      "/nobackup/lab_bock/users/sreichl/miniconda3/envs/enrichment_analysis/lib/python3.9/site-packages/urllib3/connectionpool.py:1013: InsecureRequestWarning: Unverified HTTPS request is being made to host 'maayanlab.cloud'. Adding certificate verification is strongly advised. See: https://urllib3.readthedocs.io/en/1.26.x/advanced-usage.html#ssl-warnings\n",
      "  warnings.warn(\n",
      "/nobackup/lab_bock/users/sreichl/miniconda3/envs/enrichment_analysis/lib/python3.9/site-packages/urllib3/connectionpool.py:1013: InsecureRequestWarning: Unverified HTTPS request is being made to host 'maayanlab.cloud'. Adding certificate verification is strongly advised. See: https://urllib3.readthedocs.io/en/1.26.x/advanced-usage.html#ssl-warnings\n",
      "  warnings.warn(\n"
     ]
    },
    {
     "name": "stdout",
     "output_type": "stream",
     "text": [
      "ENCODE_TF_ChIP-seq_2015\n",
      "ChEA_2016\n"
     ]
    },
    {
     "name": "stderr",
     "output_type": "stream",
     "text": [
      "2021-12-29 18:20:26,773 Warning: No enrich terms using library CUSTOM46919303512768 when cutoff = 0.05\n",
      "WARNING:gseapy:Warning: No enrich terms using library CUSTOM46919303512768 when cutoff = 0.05\n"
     ]
    },
    {
     "name": "stdout",
     "output_type": "stream",
     "text": [
      "BioPlanet_2019\n",
      "KEGG_2019_Mouse\n"
     ]
    },
    {
     "name": "stderr",
     "output_type": "stream",
     "text": [
      "2021-12-29 18:20:39,163 Warning: No enrich terms using library CUSTOM46919396966848 when cutoff = 0.05\n",
      "WARNING:gseapy:Warning: No enrich terms using library CUSTOM46919396966848 when cutoff = 0.05\n"
     ]
    },
    {
     "name": "stdout",
     "output_type": "stream",
     "text": [
      "WikiPathways_2019_Mouse\n",
      "GO_Biological_Process_2021\n",
      "ENCODE_TF_ChIP-seq_2015 727\n",
      "ChEA_2016 566\n",
      "BioPlanet_2019 167\n",
      "KEGG_2019_Mouse 94\n",
      "WikiPathways_2019_Mouse 28\n",
      "GO_Biological_Process_2021 505\n",
      "LCMV_Cl13_5\n",
      "5\n",
      "dict_keys(['cluster_1', 'cluster_2', 'cluster_3', 'cluster_4', 'cluster_5'])\n"
     ]
    },
    {
     "name": "stderr",
     "output_type": "stream",
     "text": [
      "/nobackup/lab_bock/users/sreichl/miniconda3/envs/enrichment_analysis/lib/python3.9/site-packages/urllib3/connectionpool.py:1013: InsecureRequestWarning: Unverified HTTPS request is being made to host 'maayanlab.cloud'. Adding certificate verification is strongly advised. See: https://urllib3.readthedocs.io/en/1.26.x/advanced-usage.html#ssl-warnings\n",
      "  warnings.warn(\n",
      "/nobackup/lab_bock/users/sreichl/miniconda3/envs/enrichment_analysis/lib/python3.9/site-packages/urllib3/connectionpool.py:1013: InsecureRequestWarning: Unverified HTTPS request is being made to host 'maayanlab.cloud'. Adding certificate verification is strongly advised. See: https://urllib3.readthedocs.io/en/1.26.x/advanced-usage.html#ssl-warnings\n",
      "  warnings.warn(\n",
      "/nobackup/lab_bock/users/sreichl/miniconda3/envs/enrichment_analysis/lib/python3.9/site-packages/urllib3/connectionpool.py:1013: InsecureRequestWarning: Unverified HTTPS request is being made to host 'maayanlab.cloud'. Adding certificate verification is strongly advised. See: https://urllib3.readthedocs.io/en/1.26.x/advanced-usage.html#ssl-warnings\n",
      "  warnings.warn(\n",
      "/nobackup/lab_bock/users/sreichl/miniconda3/envs/enrichment_analysis/lib/python3.9/site-packages/urllib3/connectionpool.py:1013: InsecureRequestWarning: Unverified HTTPS request is being made to host 'maayanlab.cloud'. Adding certificate verification is strongly advised. See: https://urllib3.readthedocs.io/en/1.26.x/advanced-usage.html#ssl-warnings\n",
      "  warnings.warn(\n",
      "/nobackup/lab_bock/users/sreichl/miniconda3/envs/enrichment_analysis/lib/python3.9/site-packages/urllib3/connectionpool.py:1013: InsecureRequestWarning: Unverified HTTPS request is being made to host 'maayanlab.cloud'. Adding certificate verification is strongly advised. See: https://urllib3.readthedocs.io/en/1.26.x/advanced-usage.html#ssl-warnings\n",
      "  warnings.warn(\n",
      "/nobackup/lab_bock/users/sreichl/miniconda3/envs/enrichment_analysis/lib/python3.9/site-packages/urllib3/connectionpool.py:1013: InsecureRequestWarning: Unverified HTTPS request is being made to host 'maayanlab.cloud'. Adding certificate verification is strongly advised. See: https://urllib3.readthedocs.io/en/1.26.x/advanced-usage.html#ssl-warnings\n",
      "  warnings.warn(\n"
     ]
    },
    {
     "name": "stdout",
     "output_type": "stream",
     "text": [
      "ENCODE_TF_ChIP-seq_2015\n",
      "ChEA_2016\n"
     ]
    },
    {
     "name": "stderr",
     "output_type": "stream",
     "text": [
      "2021-12-29 18:24:02,453 Warning: No enrich terms using library CUSTOM46919639227008 when cutoff = 0.05\n",
      "WARNING:gseapy:Warning: No enrich terms using library CUSTOM46919639227008 when cutoff = 0.05\n"
     ]
    },
    {
     "name": "stdout",
     "output_type": "stream",
     "text": [
      "BioPlanet_2019\n"
     ]
    },
    {
     "name": "stderr",
     "output_type": "stream",
     "text": [
      "2021-12-29 18:24:14,900 Warning: No enrich terms using library CUSTOM46919704364544 when cutoff = 0.05\n",
      "WARNING:gseapy:Warning: No enrich terms using library CUSTOM46919704364544 when cutoff = 0.05\n"
     ]
    },
    {
     "name": "stdout",
     "output_type": "stream",
     "text": [
      "KEGG_2019_Mouse\n"
     ]
    },
    {
     "name": "stderr",
     "output_type": "stream",
     "text": [
      "2021-12-29 18:24:17,545 Warning: No enrich terms using library CUSTOM46919709653376 when cutoff = 0.05\n",
      "WARNING:gseapy:Warning: No enrich terms using library CUSTOM46919709653376 when cutoff = 0.05\n"
     ]
    },
    {
     "name": "stdout",
     "output_type": "stream",
     "text": [
      "WikiPathways_2019_Mouse\n",
      "GO_Biological_Process_2021\n"
     ]
    },
    {
     "name": "stderr",
     "output_type": "stream",
     "text": [
      "2021-12-29 18:24:23,615 Warning: No enrich terms using library CUSTOM46919712356800 when cutoff = 0.05\n",
      "WARNING:gseapy:Warning: No enrich terms using library CUSTOM46919712356800 when cutoff = 0.05\n"
     ]
    },
    {
     "name": "stdout",
     "output_type": "stream",
     "text": [
      "ENCODE_TF_ChIP-seq_2015 702\n",
      "ChEA_2016 571\n",
      "BioPlanet_2019 197\n",
      "KEGG_2019_Mouse 114\n",
      "WikiPathways_2019_Mouse 36\n",
      "GO_Biological_Process_2021 546\n",
      "LCMV_Cl13_6\n",
      "6\n",
      "dict_keys(['cluster_1', 'cluster_2', 'cluster_3', 'cluster_4', 'cluster_5', 'cluster_6'])\n"
     ]
    },
    {
     "name": "stderr",
     "output_type": "stream",
     "text": [
      "/nobackup/lab_bock/users/sreichl/miniconda3/envs/enrichment_analysis/lib/python3.9/site-packages/urllib3/connectionpool.py:1013: InsecureRequestWarning: Unverified HTTPS request is being made to host 'maayanlab.cloud'. Adding certificate verification is strongly advised. See: https://urllib3.readthedocs.io/en/1.26.x/advanced-usage.html#ssl-warnings\n",
      "  warnings.warn(\n",
      "/nobackup/lab_bock/users/sreichl/miniconda3/envs/enrichment_analysis/lib/python3.9/site-packages/urllib3/connectionpool.py:1013: InsecureRequestWarning: Unverified HTTPS request is being made to host 'maayanlab.cloud'. Adding certificate verification is strongly advised. See: https://urllib3.readthedocs.io/en/1.26.x/advanced-usage.html#ssl-warnings\n",
      "  warnings.warn(\n",
      "/nobackup/lab_bock/users/sreichl/miniconda3/envs/enrichment_analysis/lib/python3.9/site-packages/urllib3/connectionpool.py:1013: InsecureRequestWarning: Unverified HTTPS request is being made to host 'maayanlab.cloud'. Adding certificate verification is strongly advised. See: https://urllib3.readthedocs.io/en/1.26.x/advanced-usage.html#ssl-warnings\n",
      "  warnings.warn(\n",
      "/nobackup/lab_bock/users/sreichl/miniconda3/envs/enrichment_analysis/lib/python3.9/site-packages/urllib3/connectionpool.py:1013: InsecureRequestWarning: Unverified HTTPS request is being made to host 'maayanlab.cloud'. Adding certificate verification is strongly advised. See: https://urllib3.readthedocs.io/en/1.26.x/advanced-usage.html#ssl-warnings\n",
      "  warnings.warn(\n",
      "/nobackup/lab_bock/users/sreichl/miniconda3/envs/enrichment_analysis/lib/python3.9/site-packages/urllib3/connectionpool.py:1013: InsecureRequestWarning: Unverified HTTPS request is being made to host 'maayanlab.cloud'. Adding certificate verification is strongly advised. See: https://urllib3.readthedocs.io/en/1.26.x/advanced-usage.html#ssl-warnings\n",
      "  warnings.warn(\n",
      "/nobackup/lab_bock/users/sreichl/miniconda3/envs/enrichment_analysis/lib/python3.9/site-packages/urllib3/connectionpool.py:1013: InsecureRequestWarning: Unverified HTTPS request is being made to host 'maayanlab.cloud'. Adding certificate verification is strongly advised. See: https://urllib3.readthedocs.io/en/1.26.x/advanced-usage.html#ssl-warnings\n",
      "  warnings.warn(\n"
     ]
    },
    {
     "name": "stdout",
     "output_type": "stream",
     "text": [
      "ENCODE_TF_ChIP-seq_2015\n"
     ]
    },
    {
     "name": "stderr",
     "output_type": "stream",
     "text": [
      "2021-12-29 18:27:12,011 Warning: No enrich terms using library CUSTOM46919748087680 when cutoff = 0.05\n",
      "WARNING:gseapy:Warning: No enrich terms using library CUSTOM46919748087680 when cutoff = 0.05\n"
     ]
    },
    {
     "name": "stdout",
     "output_type": "stream",
     "text": [
      "ChEA_2016\n"
     ]
    },
    {
     "name": "stderr",
     "output_type": "stream",
     "text": [
      "2021-12-29 18:27:56,940 Warning: No enrich terms using library CUSTOM46918139712704 when cutoff = 0.05\n",
      "WARNING:gseapy:Warning: No enrich terms using library CUSTOM46918139712704 when cutoff = 0.05\n",
      "2021-12-29 18:28:02,795 Warning: No enrich terms using library CUSTOM46918139712704 when cutoff = 0.05\n",
      "WARNING:gseapy:Warning: No enrich terms using library CUSTOM46918139712704 when cutoff = 0.05\n",
      "2021-12-29 18:28:16,201 Warning: No enrich terms using library CUSTOM46918222886848 when cutoff = 0.05\n",
      "WARNING:gseapy:Warning: No enrich terms using library CUSTOM46918222886848 when cutoff = 0.05\n"
     ]
    },
    {
     "name": "stdout",
     "output_type": "stream",
     "text": [
      "BioPlanet_2019\n"
     ]
    },
    {
     "name": "stderr",
     "output_type": "stream",
     "text": [
      "2021-12-29 18:28:17,397 Warning: No enrich terms using library CUSTOM46918222886848 when cutoff = 0.05\n",
      "WARNING:gseapy:Warning: No enrich terms using library CUSTOM46918222886848 when cutoff = 0.05\n",
      "2021-12-29 18:28:19,668 Warning: No enrich terms using library CUSTOM46917811551872 when cutoff = 0.05\n",
      "WARNING:gseapy:Warning: No enrich terms using library CUSTOM46917811551872 when cutoff = 0.05\n"
     ]
    },
    {
     "name": "stdout",
     "output_type": "stream",
     "text": [
      "KEGG_2019_Mouse\n"
     ]
    },
    {
     "name": "stderr",
     "output_type": "stream",
     "text": [
      "2021-12-29 18:28:20,271 Warning: No enrich terms using library CUSTOM46917811551872 when cutoff = 0.05\n",
      "WARNING:gseapy:Warning: No enrich terms using library CUSTOM46917811551872 when cutoff = 0.05\n",
      "2021-12-29 18:28:21,566 Warning: No enrich terms using library CUSTOM46918364751488 when cutoff = 0.05\n",
      "WARNING:gseapy:Warning: No enrich terms using library CUSTOM46918364751488 when cutoff = 0.05\n"
     ]
    },
    {
     "name": "stdout",
     "output_type": "stream",
     "text": [
      "WikiPathways_2019_Mouse\n"
     ]
    },
    {
     "name": "stderr",
     "output_type": "stream",
     "text": [
      "2021-12-29 18:28:22,882 Warning: No enrich terms using library CUSTOM46918746936448 when cutoff = 0.05\n",
      "WARNING:gseapy:Warning: No enrich terms using library CUSTOM46918746936448 when cutoff = 0.05\n"
     ]
    },
    {
     "name": "stdout",
     "output_type": "stream",
     "text": [
      "GO_Biological_Process_2021\n"
     ]
    },
    {
     "name": "stderr",
     "output_type": "stream",
     "text": [
      "2021-12-29 18:28:25,533 Warning: No enrich terms using library CUSTOM46918746936448 when cutoff = 0.05\n",
      "WARNING:gseapy:Warning: No enrich terms using library CUSTOM46918746936448 when cutoff = 0.05\n"
     ]
    },
    {
     "name": "stdout",
     "output_type": "stream",
     "text": [
      "ENCODE_TF_ChIP-seq_2015 723\n",
      "ChEA_2016 571\n",
      "BioPlanet_2019 225\n",
      "KEGG_2019_Mouse 122\n",
      "WikiPathways_2019_Mouse 39\n",
      "GO_Biological_Process_2021 635\n",
      "LCMV_Cl13_7\n",
      "7\n",
      "dict_keys(['cluster_1', 'cluster_2', 'cluster_3', 'cluster_4', 'cluster_5', 'cluster_6', 'cluster_7'])\n"
     ]
    },
    {
     "name": "stderr",
     "output_type": "stream",
     "text": [
      "/nobackup/lab_bock/users/sreichl/miniconda3/envs/enrichment_analysis/lib/python3.9/site-packages/urllib3/connectionpool.py:1013: InsecureRequestWarning: Unverified HTTPS request is being made to host 'maayanlab.cloud'. Adding certificate verification is strongly advised. See: https://urllib3.readthedocs.io/en/1.26.x/advanced-usage.html#ssl-warnings\n",
      "  warnings.warn(\n",
      "/nobackup/lab_bock/users/sreichl/miniconda3/envs/enrichment_analysis/lib/python3.9/site-packages/urllib3/connectionpool.py:1013: InsecureRequestWarning: Unverified HTTPS request is being made to host 'maayanlab.cloud'. Adding certificate verification is strongly advised. See: https://urllib3.readthedocs.io/en/1.26.x/advanced-usage.html#ssl-warnings\n",
      "  warnings.warn(\n",
      "/nobackup/lab_bock/users/sreichl/miniconda3/envs/enrichment_analysis/lib/python3.9/site-packages/urllib3/connectionpool.py:1013: InsecureRequestWarning: Unverified HTTPS request is being made to host 'maayanlab.cloud'. Adding certificate verification is strongly advised. See: https://urllib3.readthedocs.io/en/1.26.x/advanced-usage.html#ssl-warnings\n",
      "  warnings.warn(\n",
      "/nobackup/lab_bock/users/sreichl/miniconda3/envs/enrichment_analysis/lib/python3.9/site-packages/urllib3/connectionpool.py:1013: InsecureRequestWarning: Unverified HTTPS request is being made to host 'maayanlab.cloud'. Adding certificate verification is strongly advised. See: https://urllib3.readthedocs.io/en/1.26.x/advanced-usage.html#ssl-warnings\n",
      "  warnings.warn(\n",
      "/nobackup/lab_bock/users/sreichl/miniconda3/envs/enrichment_analysis/lib/python3.9/site-packages/urllib3/connectionpool.py:1013: InsecureRequestWarning: Unverified HTTPS request is being made to host 'maayanlab.cloud'. Adding certificate verification is strongly advised. See: https://urllib3.readthedocs.io/en/1.26.x/advanced-usage.html#ssl-warnings\n",
      "  warnings.warn(\n",
      "/nobackup/lab_bock/users/sreichl/miniconda3/envs/enrichment_analysis/lib/python3.9/site-packages/urllib3/connectionpool.py:1013: InsecureRequestWarning: Unverified HTTPS request is being made to host 'maayanlab.cloud'. Adding certificate verification is strongly advised. See: https://urllib3.readthedocs.io/en/1.26.x/advanced-usage.html#ssl-warnings\n",
      "  warnings.warn(\n"
     ]
    },
    {
     "name": "stdout",
     "output_type": "stream",
     "text": [
      "ENCODE_TF_ChIP-seq_2015\n"
     ]
    },
    {
     "name": "stderr",
     "output_type": "stream",
     "text": [
      "2021-12-29 18:31:11,486 Warning: No enrich terms using library CUSTOM46919388741440 when cutoff = 0.05\n",
      "WARNING:gseapy:Warning: No enrich terms using library CUSTOM46919388741440 when cutoff = 0.05\n"
     ]
    },
    {
     "name": "stdout",
     "output_type": "stream",
     "text": [
      "ChEA_2016\n"
     ]
    },
    {
     "name": "stderr",
     "output_type": "stream",
     "text": [
      "2021-12-29 18:32:01,716 Warning: No enrich terms using library CUSTOM46919389149760 when cutoff = 0.05\n",
      "WARNING:gseapy:Warning: No enrich terms using library CUSTOM46919389149760 when cutoff = 0.05\n",
      "2021-12-29 18:32:08,315 Warning: No enrich terms using library CUSTOM46919389149760 when cutoff = 0.05\n",
      "WARNING:gseapy:Warning: No enrich terms using library CUSTOM46919389149760 when cutoff = 0.05\n",
      "2021-12-29 18:32:22,779 Warning: No enrich terms using library CUSTOM46919405789952 when cutoff = 0.05\n",
      "WARNING:gseapy:Warning: No enrich terms using library CUSTOM46919405789952 when cutoff = 0.05\n"
     ]
    },
    {
     "name": "stdout",
     "output_type": "stream",
     "text": [
      "BioPlanet_2019\n"
     ]
    },
    {
     "name": "stderr",
     "output_type": "stream",
     "text": [
      "2021-12-29 18:32:23,353 Warning: No enrich terms using library CUSTOM46919405789952 when cutoff = 0.05\n",
      "WARNING:gseapy:Warning: No enrich terms using library CUSTOM46919405789952 when cutoff = 0.05\n",
      "2021-12-29 18:32:26,602 Warning: No enrich terms using library CUSTOM46918947133184 when cutoff = 0.05\n",
      "WARNING:gseapy:Warning: No enrich terms using library CUSTOM46918947133184 when cutoff = 0.05\n"
     ]
    },
    {
     "name": "stdout",
     "output_type": "stream",
     "text": [
      "KEGG_2019_Mouse\n"
     ]
    },
    {
     "name": "stderr",
     "output_type": "stream",
     "text": [
      "2021-12-29 18:32:26,949 Warning: No enrich terms using library CUSTOM46918947133184 when cutoff = 0.05\n",
      "WARNING:gseapy:Warning: No enrich terms using library CUSTOM46918947133184 when cutoff = 0.05\n",
      "2021-12-29 18:32:28,536 Warning: No enrich terms using library CUSTOM46919412895552 when cutoff = 0.05\n",
      "WARNING:gseapy:Warning: No enrich terms using library CUSTOM46919412895552 when cutoff = 0.05\n"
     ]
    },
    {
     "name": "stdout",
     "output_type": "stream",
     "text": [
      "WikiPathways_2019_Mouse\n",
      "GO_Biological_Process_2021\n"
     ]
    },
    {
     "name": "stderr",
     "output_type": "stream",
     "text": [
      "2021-12-29 18:32:31,806 Warning: No enrich terms using library CUSTOM46919016144512 when cutoff = 0.05\n",
      "WARNING:gseapy:Warning: No enrich terms using library CUSTOM46919016144512 when cutoff = 0.05\n"
     ]
    },
    {
     "name": "stdout",
     "output_type": "stream",
     "text": [
      "ENCODE_TF_ChIP-seq_2015 722\n",
      "ChEA_2016 568\n",
      "BioPlanet_2019 195\n",
      "KEGG_2019_Mouse 104\n",
      "WikiPathways_2019_Mouse 34\n",
      "GO_Biological_Process_2021 583\n",
      "LCMV_Cl13_8\n",
      "8\n",
      "dict_keys(['cluster_1', 'cluster_2', 'cluster_3', 'cluster_4', 'cluster_5', 'cluster_6', 'cluster_7', 'cluster_8'])\n"
     ]
    },
    {
     "name": "stderr",
     "output_type": "stream",
     "text": [
      "/nobackup/lab_bock/users/sreichl/miniconda3/envs/enrichment_analysis/lib/python3.9/site-packages/urllib3/connectionpool.py:1013: InsecureRequestWarning: Unverified HTTPS request is being made to host 'maayanlab.cloud'. Adding certificate verification is strongly advised. See: https://urllib3.readthedocs.io/en/1.26.x/advanced-usage.html#ssl-warnings\n",
      "  warnings.warn(\n",
      "/nobackup/lab_bock/users/sreichl/miniconda3/envs/enrichment_analysis/lib/python3.9/site-packages/urllib3/connectionpool.py:1013: InsecureRequestWarning: Unverified HTTPS request is being made to host 'maayanlab.cloud'. Adding certificate verification is strongly advised. See: https://urllib3.readthedocs.io/en/1.26.x/advanced-usage.html#ssl-warnings\n",
      "  warnings.warn(\n",
      "/nobackup/lab_bock/users/sreichl/miniconda3/envs/enrichment_analysis/lib/python3.9/site-packages/urllib3/connectionpool.py:1013: InsecureRequestWarning: Unverified HTTPS request is being made to host 'maayanlab.cloud'. Adding certificate verification is strongly advised. See: https://urllib3.readthedocs.io/en/1.26.x/advanced-usage.html#ssl-warnings\n",
      "  warnings.warn(\n",
      "/nobackup/lab_bock/users/sreichl/miniconda3/envs/enrichment_analysis/lib/python3.9/site-packages/urllib3/connectionpool.py:1013: InsecureRequestWarning: Unverified HTTPS request is being made to host 'maayanlab.cloud'. Adding certificate verification is strongly advised. See: https://urllib3.readthedocs.io/en/1.26.x/advanced-usage.html#ssl-warnings\n",
      "  warnings.warn(\n",
      "/nobackup/lab_bock/users/sreichl/miniconda3/envs/enrichment_analysis/lib/python3.9/site-packages/urllib3/connectionpool.py:1013: InsecureRequestWarning: Unverified HTTPS request is being made to host 'maayanlab.cloud'. Adding certificate verification is strongly advised. See: https://urllib3.readthedocs.io/en/1.26.x/advanced-usage.html#ssl-warnings\n",
      "  warnings.warn(\n",
      "/nobackup/lab_bock/users/sreichl/miniconda3/envs/enrichment_analysis/lib/python3.9/site-packages/urllib3/connectionpool.py:1013: InsecureRequestWarning: Unverified HTTPS request is being made to host 'maayanlab.cloud'. Adding certificate verification is strongly advised. See: https://urllib3.readthedocs.io/en/1.26.x/advanced-usage.html#ssl-warnings\n",
      "  warnings.warn(\n"
     ]
    },
    {
     "name": "stdout",
     "output_type": "stream",
     "text": [
      "ENCODE_TF_ChIP-seq_2015\n"
     ]
    },
    {
     "name": "stderr",
     "output_type": "stream",
     "text": [
      "2021-12-29 18:36:01,721 Warning: No enrich terms using library CUSTOM46919153066432 when cutoff = 0.05\n",
      "WARNING:gseapy:Warning: No enrich terms using library CUSTOM46919153066432 when cutoff = 0.05\n"
     ]
    },
    {
     "name": "stdout",
     "output_type": "stream",
     "text": [
      "ChEA_2016\n"
     ]
    },
    {
     "name": "stderr",
     "output_type": "stream",
     "text": [
      "2021-12-29 18:36:13,704 Warning: No enrich terms using library CUSTOM46919338392704 when cutoff = 0.05\n",
      "WARNING:gseapy:Warning: No enrich terms using library CUSTOM46919338392704 when cutoff = 0.05\n",
      "2021-12-29 18:36:32,299 Warning: No enrich terms using library CUSTOM46919338392704 when cutoff = 0.05\n",
      "WARNING:gseapy:Warning: No enrich terms using library CUSTOM46919338392704 when cutoff = 0.05\n"
     ]
    },
    {
     "name": "stdout",
     "output_type": "stream",
     "text": [
      "BioPlanet_2019\n"
     ]
    },
    {
     "name": "stderr",
     "output_type": "stream",
     "text": [
      "2021-12-29 18:36:40,609 Warning: No enrich terms using library CUSTOM46919568140288 when cutoff = 0.05\n",
      "WARNING:gseapy:Warning: No enrich terms using library CUSTOM46919568140288 when cutoff = 0.05\n",
      "2021-12-29 18:36:40,899 Warning: No enrich terms using library CUSTOM46919568140288 when cutoff = 0.05\n",
      "WARNING:gseapy:Warning: No enrich terms using library CUSTOM46919568140288 when cutoff = 0.05\n",
      "2021-12-29 18:36:42,418 Warning: No enrich terms using library CUSTOM46919568140288 when cutoff = 0.05\n",
      "WARNING:gseapy:Warning: No enrich terms using library CUSTOM46919568140288 when cutoff = 0.05\n",
      "2021-12-29 18:36:42,708 Warning: No enrich terms using library CUSTOM46919568140288 when cutoff = 0.05\n",
      "WARNING:gseapy:Warning: No enrich terms using library CUSTOM46919568140288 when cutoff = 0.05\n"
     ]
    },
    {
     "name": "stdout",
     "output_type": "stream",
     "text": [
      "KEGG_2019_Mouse\n"
     ]
    },
    {
     "name": "stderr",
     "output_type": "stream",
     "text": [
      "2021-12-29 18:36:43,718 Warning: No enrich terms using library CUSTOM46919574178688 when cutoff = 0.05\n",
      "WARNING:gseapy:Warning: No enrich terms using library CUSTOM46919574178688 when cutoff = 0.05\n",
      "2021-12-29 18:36:44,785 Warning: No enrich terms using library CUSTOM46919574178688 when cutoff = 0.05\n",
      "WARNING:gseapy:Warning: No enrich terms using library CUSTOM46919574178688 when cutoff = 0.05\n",
      "2021-12-29 18:36:44,888 Warning: No enrich terms using library CUSTOM46919574178688 when cutoff = 0.05\n",
      "WARNING:gseapy:Warning: No enrich terms using library CUSTOM46919574178688 when cutoff = 0.05\n"
     ]
    },
    {
     "name": "stdout",
     "output_type": "stream",
     "text": [
      "WikiPathways_2019_Mouse\n"
     ]
    },
    {
     "name": "stderr",
     "output_type": "stream",
     "text": [
      "2021-12-29 18:36:45,669 Warning: No enrich terms using library CUSTOM46919576452672 when cutoff = 0.05\n",
      "WARNING:gseapy:Warning: No enrich terms using library CUSTOM46919576452672 when cutoff = 0.05\n",
      "2021-12-29 18:36:46,439 Warning: No enrich terms using library CUSTOM46919576452672 when cutoff = 0.05\n",
      "WARNING:gseapy:Warning: No enrich terms using library CUSTOM46919576452672 when cutoff = 0.05\n"
     ]
    },
    {
     "name": "stdout",
     "output_type": "stream",
     "text": [
      "GO_Biological_Process_2021\n"
     ]
    },
    {
     "name": "stderr",
     "output_type": "stream",
     "text": [
      "2021-12-29 18:36:47,811 Warning: No enrich terms using library CUSTOM46919577131968 when cutoff = 0.05\n",
      "WARNING:gseapy:Warning: No enrich terms using library CUSTOM46919577131968 when cutoff = 0.05\n",
      "2021-12-29 18:36:53,472 Warning: No enrich terms using library CUSTOM46919577131968 when cutoff = 0.05\n",
      "WARNING:gseapy:Warning: No enrich terms using library CUSTOM46919577131968 when cutoff = 0.05\n"
     ]
    },
    {
     "name": "stdout",
     "output_type": "stream",
     "text": [
      "ENCODE_TF_ChIP-seq_2015 696\n",
      "ChEA_2016 568\n",
      "BioPlanet_2019 232\n",
      "KEGG_2019_Mouse 124\n",
      "WikiPathways_2019_Mouse 38\n",
      "GO_Biological_Process_2021 723\n",
      "LCMV_Cl13_9\n",
      "9\n",
      "dict_keys(['cluster_1', 'cluster_2', 'cluster_3', 'cluster_4', 'cluster_5', 'cluster_6', 'cluster_7', 'cluster_8', 'cluster_9'])\n"
     ]
    },
    {
     "name": "stderr",
     "output_type": "stream",
     "text": [
      "/nobackup/lab_bock/users/sreichl/miniconda3/envs/enrichment_analysis/lib/python3.9/site-packages/urllib3/connectionpool.py:1013: InsecureRequestWarning: Unverified HTTPS request is being made to host 'maayanlab.cloud'. Adding certificate verification is strongly advised. See: https://urllib3.readthedocs.io/en/1.26.x/advanced-usage.html#ssl-warnings\n",
      "  warnings.warn(\n",
      "/nobackup/lab_bock/users/sreichl/miniconda3/envs/enrichment_analysis/lib/python3.9/site-packages/urllib3/connectionpool.py:1013: InsecureRequestWarning: Unverified HTTPS request is being made to host 'maayanlab.cloud'. Adding certificate verification is strongly advised. See: https://urllib3.readthedocs.io/en/1.26.x/advanced-usage.html#ssl-warnings\n",
      "  warnings.warn(\n",
      "/nobackup/lab_bock/users/sreichl/miniconda3/envs/enrichment_analysis/lib/python3.9/site-packages/urllib3/connectionpool.py:1013: InsecureRequestWarning: Unverified HTTPS request is being made to host 'maayanlab.cloud'. Adding certificate verification is strongly advised. See: https://urllib3.readthedocs.io/en/1.26.x/advanced-usage.html#ssl-warnings\n",
      "  warnings.warn(\n",
      "/nobackup/lab_bock/users/sreichl/miniconda3/envs/enrichment_analysis/lib/python3.9/site-packages/urllib3/connectionpool.py:1013: InsecureRequestWarning: Unverified HTTPS request is being made to host 'maayanlab.cloud'. Adding certificate verification is strongly advised. See: https://urllib3.readthedocs.io/en/1.26.x/advanced-usage.html#ssl-warnings\n",
      "  warnings.warn(\n",
      "/nobackup/lab_bock/users/sreichl/miniconda3/envs/enrichment_analysis/lib/python3.9/site-packages/urllib3/connectionpool.py:1013: InsecureRequestWarning: Unverified HTTPS request is being made to host 'maayanlab.cloud'. Adding certificate verification is strongly advised. See: https://urllib3.readthedocs.io/en/1.26.x/advanced-usage.html#ssl-warnings\n",
      "  warnings.warn(\n",
      "/nobackup/lab_bock/users/sreichl/miniconda3/envs/enrichment_analysis/lib/python3.9/site-packages/urllib3/connectionpool.py:1013: InsecureRequestWarning: Unverified HTTPS request is being made to host 'maayanlab.cloud'. Adding certificate verification is strongly advised. See: https://urllib3.readthedocs.io/en/1.26.x/advanced-usage.html#ssl-warnings\n",
      "  warnings.warn(\n"
     ]
    },
    {
     "name": "stdout",
     "output_type": "stream",
     "text": [
      "ENCODE_TF_ChIP-seq_2015\n"
     ]
    },
    {
     "name": "stderr",
     "output_type": "stream",
     "text": [
      "2021-12-29 18:40:17,305 Warning: No enrich terms using library CUSTOM46919664246592 when cutoff = 0.05\n",
      "WARNING:gseapy:Warning: No enrich terms using library CUSTOM46919664246592 when cutoff = 0.05\n"
     ]
    },
    {
     "name": "stdout",
     "output_type": "stream",
     "text": [
      "ChEA_2016\n"
     ]
    },
    {
     "name": "stderr",
     "output_type": "stream",
     "text": [
      "2021-12-29 18:40:37,499 Warning: No enrich terms using library CUSTOM46919810021952 when cutoff = 0.05\n",
      "WARNING:gseapy:Warning: No enrich terms using library CUSTOM46919810021952 when cutoff = 0.05\n",
      "2021-12-29 18:40:55,543 Warning: No enrich terms using library CUSTOM46919810021952 when cutoff = 0.05\n",
      "WARNING:gseapy:Warning: No enrich terms using library CUSTOM46919810021952 when cutoff = 0.05\n"
     ]
    },
    {
     "name": "stdout",
     "output_type": "stream",
     "text": [
      "BioPlanet_2019\n"
     ]
    },
    {
     "name": "stderr",
     "output_type": "stream",
     "text": [
      "2021-12-29 18:41:04,779 Warning: No enrich terms using library CUSTOM46919874885056 when cutoff = 0.05\n",
      "WARNING:gseapy:Warning: No enrich terms using library CUSTOM46919874885056 when cutoff = 0.05\n",
      "2021-12-29 18:41:05,047 Warning: No enrich terms using library CUSTOM46919874885056 when cutoff = 0.05\n",
      "WARNING:gseapy:Warning: No enrich terms using library CUSTOM46919874885056 when cutoff = 0.05\n",
      "2021-12-29 18:41:06,383 Warning: No enrich terms using library CUSTOM46919874885056 when cutoff = 0.05\n",
      "WARNING:gseapy:Warning: No enrich terms using library CUSTOM46919874885056 when cutoff = 0.05\n",
      "2021-12-29 18:41:06,609 Warning: No enrich terms using library CUSTOM46919874885056 when cutoff = 0.05\n",
      "WARNING:gseapy:Warning: No enrich terms using library CUSTOM46919874885056 when cutoff = 0.05\n"
     ]
    },
    {
     "name": "stdout",
     "output_type": "stream",
     "text": [
      "KEGG_2019_Mouse\n"
     ]
    },
    {
     "name": "stderr",
     "output_type": "stream",
     "text": [
      "2021-12-29 18:41:08,436 Warning: No enrich terms using library CUSTOM46919880427840 when cutoff = 0.05\n",
      "WARNING:gseapy:Warning: No enrich terms using library CUSTOM46919880427840 when cutoff = 0.05\n",
      "2021-12-29 18:41:08,530 Warning: No enrich terms using library CUSTOM46919880427840 when cutoff = 0.05\n",
      "WARNING:gseapy:Warning: No enrich terms using library CUSTOM46919880427840 when cutoff = 0.05\n",
      "2021-12-29 18:41:15,025 Warning: No enrich terms using library CUSTOM46919880427840 when cutoff = 0.05\n",
      "WARNING:gseapy:Warning: No enrich terms using library CUSTOM46919880427840 when cutoff = 0.05\n",
      "2021-12-29 18:41:15,125 Warning: No enrich terms using library CUSTOM46919880427840 when cutoff = 0.05\n",
      "WARNING:gseapy:Warning: No enrich terms using library CUSTOM46919880427840 when cutoff = 0.05\n",
      "2021-12-29 18:41:16,069 Warning: No enrich terms using library CUSTOM46919882435584 when cutoff = 0.05\n",
      "WARNING:gseapy:Warning: No enrich terms using library CUSTOM46919882435584 when cutoff = 0.05\n"
     ]
    },
    {
     "name": "stdout",
     "output_type": "stream",
     "text": [
      "WikiPathways_2019_Mouse\n"
     ]
    },
    {
     "name": "stderr",
     "output_type": "stream",
     "text": [
      "2021-12-29 18:41:16,117 Warning: No enrich terms using library CUSTOM46919882435584 when cutoff = 0.05\n",
      "WARNING:gseapy:Warning: No enrich terms using library CUSTOM46919882435584 when cutoff = 0.05\n",
      "2021-12-29 18:41:16,917 Warning: No enrich terms using library CUSTOM46919882435584 when cutoff = 0.05\n",
      "WARNING:gseapy:Warning: No enrich terms using library CUSTOM46919882435584 when cutoff = 0.05\n"
     ]
    },
    {
     "name": "stdout",
     "output_type": "stream",
     "text": [
      "GO_Biological_Process_2021\n"
     ]
    },
    {
     "name": "stderr",
     "output_type": "stream",
     "text": [
      "2021-12-29 18:41:18,582 Warning: No enrich terms using library CUSTOM46919883118208 when cutoff = 0.05\n",
      "WARNING:gseapy:Warning: No enrich terms using library CUSTOM46919883118208 when cutoff = 0.05\n",
      "2021-12-29 18:41:23,759 Warning: No enrich terms using library CUSTOM46919883118208 when cutoff = 0.05\n",
      "WARNING:gseapy:Warning: No enrich terms using library CUSTOM46919883118208 when cutoff = 0.05\n"
     ]
    },
    {
     "name": "stdout",
     "output_type": "stream",
     "text": [
      "ENCODE_TF_ChIP-seq_2015 695\n",
      "ChEA_2016 567\n",
      "BioPlanet_2019 231\n",
      "KEGG_2019_Mouse 109\n",
      "WikiPathways_2019_Mouse 37\n",
      "GO_Biological_Process_2021 659\n",
      "LCMV_Cl13_10\n",
      "10\n",
      "dict_keys(['cluster_1', 'cluster_2', 'cluster_3', 'cluster_4', 'cluster_5', 'cluster_6', 'cluster_7', 'cluster_8', 'cluster_9', 'cluster_10'])\n"
     ]
    },
    {
     "name": "stderr",
     "output_type": "stream",
     "text": [
      "/nobackup/lab_bock/users/sreichl/miniconda3/envs/enrichment_analysis/lib/python3.9/site-packages/urllib3/connectionpool.py:1013: InsecureRequestWarning: Unverified HTTPS request is being made to host 'maayanlab.cloud'. Adding certificate verification is strongly advised. See: https://urllib3.readthedocs.io/en/1.26.x/advanced-usage.html#ssl-warnings\n",
      "  warnings.warn(\n",
      "/nobackup/lab_bock/users/sreichl/miniconda3/envs/enrichment_analysis/lib/python3.9/site-packages/urllib3/connectionpool.py:1013: InsecureRequestWarning: Unverified HTTPS request is being made to host 'maayanlab.cloud'. Adding certificate verification is strongly advised. See: https://urllib3.readthedocs.io/en/1.26.x/advanced-usage.html#ssl-warnings\n",
      "  warnings.warn(\n",
      "/nobackup/lab_bock/users/sreichl/miniconda3/envs/enrichment_analysis/lib/python3.9/site-packages/urllib3/connectionpool.py:1013: InsecureRequestWarning: Unverified HTTPS request is being made to host 'maayanlab.cloud'. Adding certificate verification is strongly advised. See: https://urllib3.readthedocs.io/en/1.26.x/advanced-usage.html#ssl-warnings\n",
      "  warnings.warn(\n",
      "/nobackup/lab_bock/users/sreichl/miniconda3/envs/enrichment_analysis/lib/python3.9/site-packages/urllib3/connectionpool.py:1013: InsecureRequestWarning: Unverified HTTPS request is being made to host 'maayanlab.cloud'. Adding certificate verification is strongly advised. See: https://urllib3.readthedocs.io/en/1.26.x/advanced-usage.html#ssl-warnings\n",
      "  warnings.warn(\n",
      "/nobackup/lab_bock/users/sreichl/miniconda3/envs/enrichment_analysis/lib/python3.9/site-packages/urllib3/connectionpool.py:1013: InsecureRequestWarning: Unverified HTTPS request is being made to host 'maayanlab.cloud'. Adding certificate verification is strongly advised. See: https://urllib3.readthedocs.io/en/1.26.x/advanced-usage.html#ssl-warnings\n",
      "  warnings.warn(\n",
      "/nobackup/lab_bock/users/sreichl/miniconda3/envs/enrichment_analysis/lib/python3.9/site-packages/urllib3/connectionpool.py:1013: InsecureRequestWarning: Unverified HTTPS request is being made to host 'maayanlab.cloud'. Adding certificate verification is strongly advised. See: https://urllib3.readthedocs.io/en/1.26.x/advanced-usage.html#ssl-warnings\n",
      "  warnings.warn(\n"
     ]
    },
    {
     "name": "stdout",
     "output_type": "stream",
     "text": [
      "ENCODE_TF_ChIP-seq_2015\n"
     ]
    },
    {
     "name": "stderr",
     "output_type": "stream",
     "text": [
      "2021-12-29 18:44:59,559 Warning: No enrich terms using library CUSTOM46919732369664 when cutoff = 0.05\n",
      "WARNING:gseapy:Warning: No enrich terms using library CUSTOM46919732369664 when cutoff = 0.05\n"
     ]
    },
    {
     "name": "stdout",
     "output_type": "stream",
     "text": [
      "ChEA_2016\n"
     ]
    },
    {
     "name": "stderr",
     "output_type": "stream",
     "text": [
      "2021-12-29 18:45:08,945 Warning: No enrich terms using library CUSTOM46917950039040 when cutoff = 0.05\n",
      "WARNING:gseapy:Warning: No enrich terms using library CUSTOM46917950039040 when cutoff = 0.05\n",
      "2021-12-29 18:45:27,472 Warning: No enrich terms using library CUSTOM46917950039040 when cutoff = 0.05\n",
      "WARNING:gseapy:Warning: No enrich terms using library CUSTOM46917950039040 when cutoff = 0.05\n"
     ]
    },
    {
     "name": "stdout",
     "output_type": "stream",
     "text": [
      "BioPlanet_2019\n"
     ]
    },
    {
     "name": "stderr",
     "output_type": "stream",
     "text": [
      "2021-12-29 18:45:31,310 Warning: No enrich terms using library CUSTOM46919038963840 when cutoff = 0.05\n",
      "WARNING:gseapy:Warning: No enrich terms using library CUSTOM46919038963840 when cutoff = 0.05\n",
      "2021-12-29 18:45:31,604 Warning: No enrich terms using library CUSTOM46919038963840 when cutoff = 0.05\n",
      "WARNING:gseapy:Warning: No enrich terms using library CUSTOM46919038963840 when cutoff = 0.05\n",
      "2021-12-29 18:45:32,824 Warning: No enrich terms using library CUSTOM46919038963840 when cutoff = 0.05\n",
      "WARNING:gseapy:Warning: No enrich terms using library CUSTOM46919038963840 when cutoff = 0.05\n",
      "2021-12-29 18:45:33,038 Warning: No enrich terms using library CUSTOM46919038963840 when cutoff = 0.05\n",
      "WARNING:gseapy:Warning: No enrich terms using library CUSTOM46919038963840 when cutoff = 0.05\n",
      "2021-12-29 18:45:34,499 Warning: No enrich terms using library CUSTOM46919038963840 when cutoff = 0.05\n",
      "WARNING:gseapy:Warning: No enrich terms using library CUSTOM46919038963840 when cutoff = 0.05\n"
     ]
    },
    {
     "name": "stdout",
     "output_type": "stream",
     "text": [
      "KEGG_2019_Mouse\n"
     ]
    },
    {
     "name": "stderr",
     "output_type": "stream",
     "text": [
      "2021-12-29 18:45:34,897 Warning: No enrich terms using library CUSTOM46918416781120 when cutoff = 0.05\n",
      "WARNING:gseapy:Warning: No enrich terms using library CUSTOM46918416781120 when cutoff = 0.05\n",
      "2021-12-29 18:45:35,004 Warning: No enrich terms using library CUSTOM46918416781120 when cutoff = 0.05\n",
      "WARNING:gseapy:Warning: No enrich terms using library CUSTOM46918416781120 when cutoff = 0.05\n",
      "2021-12-29 18:45:35,754 Warning: No enrich terms using library CUSTOM46918416781120 when cutoff = 0.05\n",
      "WARNING:gseapy:Warning: No enrich terms using library CUSTOM46918416781120 when cutoff = 0.05\n",
      "2021-12-29 18:45:35,859 Warning: No enrich terms using library CUSTOM46918416781120 when cutoff = 0.05\n",
      "WARNING:gseapy:Warning: No enrich terms using library CUSTOM46918416781120 when cutoff = 0.05\n",
      "2021-12-29 18:45:36,752 Warning: No enrich terms using library CUSTOM46918416781120 when cutoff = 0.05\n",
      "WARNING:gseapy:Warning: No enrich terms using library CUSTOM46918416781120 when cutoff = 0.05\n"
     ]
    },
    {
     "name": "stdout",
     "output_type": "stream",
     "text": [
      "WikiPathways_2019_Mouse\n"
     ]
    },
    {
     "name": "stderr",
     "output_type": "stream",
     "text": [
      "2021-12-29 18:45:37,748 Warning: No enrich terms using library CUSTOM46918571648960 when cutoff = 0.05\n",
      "WARNING:gseapy:Warning: No enrich terms using library CUSTOM46918571648960 when cutoff = 0.05\n"
     ]
    },
    {
     "name": "stdout",
     "output_type": "stream",
     "text": [
      "GO_Biological_Process_2021\n"
     ]
    },
    {
     "name": "stderr",
     "output_type": "stream",
     "text": [
      "2021-12-29 18:45:39,377 Warning: No enrich terms using library CUSTOM46918127618240 when cutoff = 0.05\n",
      "WARNING:gseapy:Warning: No enrich terms using library CUSTOM46918127618240 when cutoff = 0.05\n",
      "2021-12-29 18:45:43,551 Warning: No enrich terms using library CUSTOM46918127618240 when cutoff = 0.05\n",
      "WARNING:gseapy:Warning: No enrich terms using library CUSTOM46918127618240 when cutoff = 0.05\n",
      "2021-12-29 18:45:46,792 Warning: No enrich terms using library CUSTOM46918127618240 when cutoff = 0.05\n",
      "WARNING:gseapy:Warning: No enrich terms using library CUSTOM46918127618240 when cutoff = 0.05\n"
     ]
    },
    {
     "name": "stdout",
     "output_type": "stream",
     "text": [
      "ENCODE_TF_ChIP-seq_2015 694\n",
      "ChEA_2016 563\n",
      "BioPlanet_2019 238\n",
      "KEGG_2019_Mouse 107\n",
      "WikiPathways_2019_Mouse 33\n",
      "GO_Biological_Process_2021 683\n",
      "LO28_2\n",
      "2\n",
      "dict_keys(['cluster_1', 'cluster_2'])\n"
     ]
    },
    {
     "name": "stderr",
     "output_type": "stream",
     "text": [
      "/nobackup/lab_bock/users/sreichl/miniconda3/envs/enrichment_analysis/lib/python3.9/site-packages/urllib3/connectionpool.py:1013: InsecureRequestWarning: Unverified HTTPS request is being made to host 'maayanlab.cloud'. Adding certificate verification is strongly advised. See: https://urllib3.readthedocs.io/en/1.26.x/advanced-usage.html#ssl-warnings\n",
      "  warnings.warn(\n",
      "/nobackup/lab_bock/users/sreichl/miniconda3/envs/enrichment_analysis/lib/python3.9/site-packages/urllib3/connectionpool.py:1013: InsecureRequestWarning: Unverified HTTPS request is being made to host 'maayanlab.cloud'. Adding certificate verification is strongly advised. See: https://urllib3.readthedocs.io/en/1.26.x/advanced-usage.html#ssl-warnings\n",
      "  warnings.warn(\n",
      "/nobackup/lab_bock/users/sreichl/miniconda3/envs/enrichment_analysis/lib/python3.9/site-packages/urllib3/connectionpool.py:1013: InsecureRequestWarning: Unverified HTTPS request is being made to host 'maayanlab.cloud'. Adding certificate verification is strongly advised. See: https://urllib3.readthedocs.io/en/1.26.x/advanced-usage.html#ssl-warnings\n",
      "  warnings.warn(\n",
      "/nobackup/lab_bock/users/sreichl/miniconda3/envs/enrichment_analysis/lib/python3.9/site-packages/urllib3/connectionpool.py:1013: InsecureRequestWarning: Unverified HTTPS request is being made to host 'maayanlab.cloud'. Adding certificate verification is strongly advised. See: https://urllib3.readthedocs.io/en/1.26.x/advanced-usage.html#ssl-warnings\n",
      "  warnings.warn(\n",
      "/nobackup/lab_bock/users/sreichl/miniconda3/envs/enrichment_analysis/lib/python3.9/site-packages/urllib3/connectionpool.py:1013: InsecureRequestWarning: Unverified HTTPS request is being made to host 'maayanlab.cloud'. Adding certificate verification is strongly advised. See: https://urllib3.readthedocs.io/en/1.26.x/advanced-usage.html#ssl-warnings\n",
      "  warnings.warn(\n",
      "/nobackup/lab_bock/users/sreichl/miniconda3/envs/enrichment_analysis/lib/python3.9/site-packages/urllib3/connectionpool.py:1013: InsecureRequestWarning: Unverified HTTPS request is being made to host 'maayanlab.cloud'. Adding certificate verification is strongly advised. See: https://urllib3.readthedocs.io/en/1.26.x/advanced-usage.html#ssl-warnings\n",
      "  warnings.warn(\n"
     ]
    },
    {
     "name": "stdout",
     "output_type": "stream",
     "text": [
      "ENCODE_TF_ChIP-seq_2015\n",
      "ChEA_2016\n",
      "BioPlanet_2019\n",
      "KEGG_2019_Mouse\n",
      "WikiPathways_2019_Mouse\n",
      "GO_Biological_Process_2021\n",
      "ENCODE_TF_ChIP-seq_2015 813\n",
      "ChEA_2016 636\n",
      "BioPlanet_2019 672\n",
      "KEGG_2019_Mouse 213\n",
      "WikiPathways_2019_Mouse 84\n",
      "GO_Biological_Process_2021 1698\n",
      "LO28_3\n",
      "3\n",
      "dict_keys(['cluster_1', 'cluster_2', 'cluster_3'])\n"
     ]
    },
    {
     "name": "stderr",
     "output_type": "stream",
     "text": [
      "/nobackup/lab_bock/users/sreichl/miniconda3/envs/enrichment_analysis/lib/python3.9/site-packages/urllib3/connectionpool.py:1013: InsecureRequestWarning: Unverified HTTPS request is being made to host 'maayanlab.cloud'. Adding certificate verification is strongly advised. See: https://urllib3.readthedocs.io/en/1.26.x/advanced-usage.html#ssl-warnings\n",
      "  warnings.warn(\n",
      "/nobackup/lab_bock/users/sreichl/miniconda3/envs/enrichment_analysis/lib/python3.9/site-packages/urllib3/connectionpool.py:1013: InsecureRequestWarning: Unverified HTTPS request is being made to host 'maayanlab.cloud'. Adding certificate verification is strongly advised. See: https://urllib3.readthedocs.io/en/1.26.x/advanced-usage.html#ssl-warnings\n",
      "  warnings.warn(\n",
      "/nobackup/lab_bock/users/sreichl/miniconda3/envs/enrichment_analysis/lib/python3.9/site-packages/urllib3/connectionpool.py:1013: InsecureRequestWarning: Unverified HTTPS request is being made to host 'maayanlab.cloud'. Adding certificate verification is strongly advised. See: https://urllib3.readthedocs.io/en/1.26.x/advanced-usage.html#ssl-warnings\n",
      "  warnings.warn(\n",
      "/nobackup/lab_bock/users/sreichl/miniconda3/envs/enrichment_analysis/lib/python3.9/site-packages/urllib3/connectionpool.py:1013: InsecureRequestWarning: Unverified HTTPS request is being made to host 'maayanlab.cloud'. Adding certificate verification is strongly advised. See: https://urllib3.readthedocs.io/en/1.26.x/advanced-usage.html#ssl-warnings\n",
      "  warnings.warn(\n",
      "/nobackup/lab_bock/users/sreichl/miniconda3/envs/enrichment_analysis/lib/python3.9/site-packages/urllib3/connectionpool.py:1013: InsecureRequestWarning: Unverified HTTPS request is being made to host 'maayanlab.cloud'. Adding certificate verification is strongly advised. See: https://urllib3.readthedocs.io/en/1.26.x/advanced-usage.html#ssl-warnings\n",
      "  warnings.warn(\n",
      "/nobackup/lab_bock/users/sreichl/miniconda3/envs/enrichment_analysis/lib/python3.9/site-packages/urllib3/connectionpool.py:1013: InsecureRequestWarning: Unverified HTTPS request is being made to host 'maayanlab.cloud'. Adding certificate verification is strongly advised. See: https://urllib3.readthedocs.io/en/1.26.x/advanced-usage.html#ssl-warnings\n",
      "  warnings.warn(\n"
     ]
    },
    {
     "name": "stdout",
     "output_type": "stream",
     "text": [
      "ENCODE_TF_ChIP-seq_2015\n",
      "ChEA_2016\n",
      "BioPlanet_2019\n",
      "KEGG_2019_Mouse\n",
      "WikiPathways_2019_Mouse\n",
      "GO_Biological_Process_2021\n",
      "ENCODE_TF_ChIP-seq_2015 812\n",
      "ChEA_2016 635\n",
      "BioPlanet_2019 634\n",
      "KEGG_2019_Mouse 212\n",
      "WikiPathways_2019_Mouse 82\n",
      "GO_Biological_Process_2021 1619\n",
      "LO28_4\n",
      "4\n",
      "dict_keys(['cluster_1', 'cluster_2', 'cluster_3', 'cluster_4'])\n"
     ]
    },
    {
     "name": "stderr",
     "output_type": "stream",
     "text": [
      "/nobackup/lab_bock/users/sreichl/miniconda3/envs/enrichment_analysis/lib/python3.9/site-packages/urllib3/connectionpool.py:1013: InsecureRequestWarning: Unverified HTTPS request is being made to host 'maayanlab.cloud'. Adding certificate verification is strongly advised. See: https://urllib3.readthedocs.io/en/1.26.x/advanced-usage.html#ssl-warnings\n",
      "  warnings.warn(\n",
      "/nobackup/lab_bock/users/sreichl/miniconda3/envs/enrichment_analysis/lib/python3.9/site-packages/urllib3/connectionpool.py:1013: InsecureRequestWarning: Unverified HTTPS request is being made to host 'maayanlab.cloud'. Adding certificate verification is strongly advised. See: https://urllib3.readthedocs.io/en/1.26.x/advanced-usage.html#ssl-warnings\n",
      "  warnings.warn(\n",
      "/nobackup/lab_bock/users/sreichl/miniconda3/envs/enrichment_analysis/lib/python3.9/site-packages/urllib3/connectionpool.py:1013: InsecureRequestWarning: Unverified HTTPS request is being made to host 'maayanlab.cloud'. Adding certificate verification is strongly advised. See: https://urllib3.readthedocs.io/en/1.26.x/advanced-usage.html#ssl-warnings\n",
      "  warnings.warn(\n",
      "/nobackup/lab_bock/users/sreichl/miniconda3/envs/enrichment_analysis/lib/python3.9/site-packages/urllib3/connectionpool.py:1013: InsecureRequestWarning: Unverified HTTPS request is being made to host 'maayanlab.cloud'. Adding certificate verification is strongly advised. See: https://urllib3.readthedocs.io/en/1.26.x/advanced-usage.html#ssl-warnings\n",
      "  warnings.warn(\n",
      "/nobackup/lab_bock/users/sreichl/miniconda3/envs/enrichment_analysis/lib/python3.9/site-packages/urllib3/connectionpool.py:1013: InsecureRequestWarning: Unverified HTTPS request is being made to host 'maayanlab.cloud'. Adding certificate verification is strongly advised. See: https://urllib3.readthedocs.io/en/1.26.x/advanced-usage.html#ssl-warnings\n",
      "  warnings.warn(\n",
      "/nobackup/lab_bock/users/sreichl/miniconda3/envs/enrichment_analysis/lib/python3.9/site-packages/urllib3/connectionpool.py:1013: InsecureRequestWarning: Unverified HTTPS request is being made to host 'maayanlab.cloud'. Adding certificate verification is strongly advised. See: https://urllib3.readthedocs.io/en/1.26.x/advanced-usage.html#ssl-warnings\n",
      "  warnings.warn(\n"
     ]
    },
    {
     "name": "stdout",
     "output_type": "stream",
     "text": [
      "ENCODE_TF_ChIP-seq_2015\n",
      "ChEA_2016\n",
      "BioPlanet_2019\n",
      "KEGG_2019_Mouse\n",
      "WikiPathways_2019_Mouse\n",
      "GO_Biological_Process_2021\n",
      "ENCODE_TF_ChIP-seq_2015 812\n",
      "ChEA_2016 636\n",
      "BioPlanet_2019 644\n",
      "KEGG_2019_Mouse 218\n",
      "WikiPathways_2019_Mouse 90\n",
      "GO_Biological_Process_2021 1626\n",
      "LO28_5\n",
      "5\n",
      "dict_keys(['cluster_1', 'cluster_2', 'cluster_3', 'cluster_4', 'cluster_5'])\n"
     ]
    },
    {
     "name": "stderr",
     "output_type": "stream",
     "text": [
      "/nobackup/lab_bock/users/sreichl/miniconda3/envs/enrichment_analysis/lib/python3.9/site-packages/urllib3/connectionpool.py:1013: InsecureRequestWarning: Unverified HTTPS request is being made to host 'maayanlab.cloud'. Adding certificate verification is strongly advised. See: https://urllib3.readthedocs.io/en/1.26.x/advanced-usage.html#ssl-warnings\n",
      "  warnings.warn(\n",
      "/nobackup/lab_bock/users/sreichl/miniconda3/envs/enrichment_analysis/lib/python3.9/site-packages/urllib3/connectionpool.py:1013: InsecureRequestWarning: Unverified HTTPS request is being made to host 'maayanlab.cloud'. Adding certificate verification is strongly advised. See: https://urllib3.readthedocs.io/en/1.26.x/advanced-usage.html#ssl-warnings\n",
      "  warnings.warn(\n",
      "/nobackup/lab_bock/users/sreichl/miniconda3/envs/enrichment_analysis/lib/python3.9/site-packages/urllib3/connectionpool.py:1013: InsecureRequestWarning: Unverified HTTPS request is being made to host 'maayanlab.cloud'. Adding certificate verification is strongly advised. See: https://urllib3.readthedocs.io/en/1.26.x/advanced-usage.html#ssl-warnings\n",
      "  warnings.warn(\n",
      "/nobackup/lab_bock/users/sreichl/miniconda3/envs/enrichment_analysis/lib/python3.9/site-packages/urllib3/connectionpool.py:1013: InsecureRequestWarning: Unverified HTTPS request is being made to host 'maayanlab.cloud'. Adding certificate verification is strongly advised. See: https://urllib3.readthedocs.io/en/1.26.x/advanced-usage.html#ssl-warnings\n",
      "  warnings.warn(\n",
      "/nobackup/lab_bock/users/sreichl/miniconda3/envs/enrichment_analysis/lib/python3.9/site-packages/urllib3/connectionpool.py:1013: InsecureRequestWarning: Unverified HTTPS request is being made to host 'maayanlab.cloud'. Adding certificate verification is strongly advised. See: https://urllib3.readthedocs.io/en/1.26.x/advanced-usage.html#ssl-warnings\n",
      "  warnings.warn(\n",
      "/nobackup/lab_bock/users/sreichl/miniconda3/envs/enrichment_analysis/lib/python3.9/site-packages/urllib3/connectionpool.py:1013: InsecureRequestWarning: Unverified HTTPS request is being made to host 'maayanlab.cloud'. Adding certificate verification is strongly advised. See: https://urllib3.readthedocs.io/en/1.26.x/advanced-usage.html#ssl-warnings\n",
      "  warnings.warn(\n"
     ]
    },
    {
     "name": "stdout",
     "output_type": "stream",
     "text": [
      "ENCODE_TF_ChIP-seq_2015\n",
      "ChEA_2016\n",
      "BioPlanet_2019\n",
      "KEGG_2019_Mouse\n",
      "WikiPathways_2019_Mouse\n",
      "GO_Biological_Process_2021\n",
      "ENCODE_TF_ChIP-seq_2015 812\n",
      "ChEA_2016 635\n",
      "BioPlanet_2019 637\n",
      "KEGG_2019_Mouse 201\n",
      "WikiPathways_2019_Mouse 91\n",
      "GO_Biological_Process_2021 1588\n",
      "LO28_6\n",
      "6\n",
      "dict_keys(['cluster_1', 'cluster_2', 'cluster_3', 'cluster_4', 'cluster_5', 'cluster_6'])\n"
     ]
    },
    {
     "name": "stderr",
     "output_type": "stream",
     "text": [
      "/nobackup/lab_bock/users/sreichl/miniconda3/envs/enrichment_analysis/lib/python3.9/site-packages/urllib3/connectionpool.py:1013: InsecureRequestWarning: Unverified HTTPS request is being made to host 'maayanlab.cloud'. Adding certificate verification is strongly advised. See: https://urllib3.readthedocs.io/en/1.26.x/advanced-usage.html#ssl-warnings\n",
      "  warnings.warn(\n",
      "/nobackup/lab_bock/users/sreichl/miniconda3/envs/enrichment_analysis/lib/python3.9/site-packages/urllib3/connectionpool.py:1013: InsecureRequestWarning: Unverified HTTPS request is being made to host 'maayanlab.cloud'. Adding certificate verification is strongly advised. See: https://urllib3.readthedocs.io/en/1.26.x/advanced-usage.html#ssl-warnings\n",
      "  warnings.warn(\n",
      "/nobackup/lab_bock/users/sreichl/miniconda3/envs/enrichment_analysis/lib/python3.9/site-packages/urllib3/connectionpool.py:1013: InsecureRequestWarning: Unverified HTTPS request is being made to host 'maayanlab.cloud'. Adding certificate verification is strongly advised. See: https://urllib3.readthedocs.io/en/1.26.x/advanced-usage.html#ssl-warnings\n",
      "  warnings.warn(\n",
      "/nobackup/lab_bock/users/sreichl/miniconda3/envs/enrichment_analysis/lib/python3.9/site-packages/urllib3/connectionpool.py:1013: InsecureRequestWarning: Unverified HTTPS request is being made to host 'maayanlab.cloud'. Adding certificate verification is strongly advised. See: https://urllib3.readthedocs.io/en/1.26.x/advanced-usage.html#ssl-warnings\n",
      "  warnings.warn(\n",
      "/nobackup/lab_bock/users/sreichl/miniconda3/envs/enrichment_analysis/lib/python3.9/site-packages/urllib3/connectionpool.py:1013: InsecureRequestWarning: Unverified HTTPS request is being made to host 'maayanlab.cloud'. Adding certificate verification is strongly advised. See: https://urllib3.readthedocs.io/en/1.26.x/advanced-usage.html#ssl-warnings\n",
      "  warnings.warn(\n",
      "/nobackup/lab_bock/users/sreichl/miniconda3/envs/enrichment_analysis/lib/python3.9/site-packages/urllib3/connectionpool.py:1013: InsecureRequestWarning: Unverified HTTPS request is being made to host 'maayanlab.cloud'. Adding certificate verification is strongly advised. See: https://urllib3.readthedocs.io/en/1.26.x/advanced-usage.html#ssl-warnings\n",
      "  warnings.warn(\n"
     ]
    },
    {
     "name": "stdout",
     "output_type": "stream",
     "text": [
      "ENCODE_TF_ChIP-seq_2015\n",
      "ChEA_2016\n",
      "BioPlanet_2019\n"
     ]
    },
    {
     "name": "stderr",
     "output_type": "stream",
     "text": [
      "2021-12-29 19:03:42,125 Warning: No enrich terms using library CUSTOM46919485189632 when cutoff = 0.05\n",
      "WARNING:gseapy:Warning: No enrich terms using library CUSTOM46919485189632 when cutoff = 0.05\n"
     ]
    },
    {
     "name": "stdout",
     "output_type": "stream",
     "text": [
      "KEGG_2019_Mouse\n",
      "WikiPathways_2019_Mouse\n"
     ]
    },
    {
     "name": "stderr",
     "output_type": "stream",
     "text": [
      "2021-12-29 19:03:55,415 Warning: No enrich terms using library CUSTOM46919353006144 when cutoff = 0.05\n",
      "WARNING:gseapy:Warning: No enrich terms using library CUSTOM46919353006144 when cutoff = 0.05\n"
     ]
    },
    {
     "name": "stdout",
     "output_type": "stream",
     "text": [
      "GO_Biological_Process_2021\n"
     ]
    },
    {
     "name": "stderr",
     "output_type": "stream",
     "text": [
      "2021-12-29 19:04:02,554 Warning: No enrich terms using library CUSTOM46919422656128 when cutoff = 0.05\n",
      "WARNING:gseapy:Warning: No enrich terms using library CUSTOM46919422656128 when cutoff = 0.05\n"
     ]
    },
    {
     "name": "stdout",
     "output_type": "stream",
     "text": [
      "ENCODE_TF_ChIP-seq_2015 810\n",
      "ChEA_2016 638\n",
      "BioPlanet_2019 672\n",
      "KEGG_2019_Mouse 209\n",
      "WikiPathways_2019_Mouse 92\n",
      "GO_Biological_Process_2021 1634\n",
      "LO28_7\n",
      "7\n",
      "dict_keys(['cluster_1', 'cluster_2', 'cluster_3', 'cluster_4', 'cluster_5', 'cluster_6', 'cluster_7'])\n"
     ]
    },
    {
     "name": "stderr",
     "output_type": "stream",
     "text": [
      "/nobackup/lab_bock/users/sreichl/miniconda3/envs/enrichment_analysis/lib/python3.9/site-packages/urllib3/connectionpool.py:1013: InsecureRequestWarning: Unverified HTTPS request is being made to host 'maayanlab.cloud'. Adding certificate verification is strongly advised. See: https://urllib3.readthedocs.io/en/1.26.x/advanced-usage.html#ssl-warnings\n",
      "  warnings.warn(\n",
      "/nobackup/lab_bock/users/sreichl/miniconda3/envs/enrichment_analysis/lib/python3.9/site-packages/urllib3/connectionpool.py:1013: InsecureRequestWarning: Unverified HTTPS request is being made to host 'maayanlab.cloud'. Adding certificate verification is strongly advised. See: https://urllib3.readthedocs.io/en/1.26.x/advanced-usage.html#ssl-warnings\n",
      "  warnings.warn(\n",
      "/nobackup/lab_bock/users/sreichl/miniconda3/envs/enrichment_analysis/lib/python3.9/site-packages/urllib3/connectionpool.py:1013: InsecureRequestWarning: Unverified HTTPS request is being made to host 'maayanlab.cloud'. Adding certificate verification is strongly advised. See: https://urllib3.readthedocs.io/en/1.26.x/advanced-usage.html#ssl-warnings\n",
      "  warnings.warn(\n",
      "/nobackup/lab_bock/users/sreichl/miniconda3/envs/enrichment_analysis/lib/python3.9/site-packages/urllib3/connectionpool.py:1013: InsecureRequestWarning: Unverified HTTPS request is being made to host 'maayanlab.cloud'. Adding certificate verification is strongly advised. See: https://urllib3.readthedocs.io/en/1.26.x/advanced-usage.html#ssl-warnings\n",
      "  warnings.warn(\n",
      "/nobackup/lab_bock/users/sreichl/miniconda3/envs/enrichment_analysis/lib/python3.9/site-packages/urllib3/connectionpool.py:1013: InsecureRequestWarning: Unverified HTTPS request is being made to host 'maayanlab.cloud'. Adding certificate verification is strongly advised. See: https://urllib3.readthedocs.io/en/1.26.x/advanced-usage.html#ssl-warnings\n",
      "  warnings.warn(\n",
      "/nobackup/lab_bock/users/sreichl/miniconda3/envs/enrichment_analysis/lib/python3.9/site-packages/urllib3/connectionpool.py:1013: InsecureRequestWarning: Unverified HTTPS request is being made to host 'maayanlab.cloud'. Adding certificate verification is strongly advised. See: https://urllib3.readthedocs.io/en/1.26.x/advanced-usage.html#ssl-warnings\n",
      "  warnings.warn(\n"
     ]
    },
    {
     "name": "stdout",
     "output_type": "stream",
     "text": [
      "ENCODE_TF_ChIP-seq_2015\n",
      "ChEA_2016\n",
      "BioPlanet_2019\n"
     ]
    },
    {
     "name": "stderr",
     "output_type": "stream",
     "text": [
      "2021-12-29 19:08:37,990 Warning: No enrich terms using library CUSTOM46919696380928 when cutoff = 0.05\n",
      "WARNING:gseapy:Warning: No enrich terms using library CUSTOM46919696380928 when cutoff = 0.05\n"
     ]
    },
    {
     "name": "stdout",
     "output_type": "stream",
     "text": [
      "KEGG_2019_Mouse\n",
      "WikiPathways_2019_Mouse\n"
     ]
    },
    {
     "name": "stderr",
     "output_type": "stream",
     "text": [
      "2021-12-29 19:08:59,917 Warning: No enrich terms using library CUSTOM46919709080128 when cutoff = 0.05\n",
      "WARNING:gseapy:Warning: No enrich terms using library CUSTOM46919709080128 when cutoff = 0.05\n"
     ]
    },
    {
     "name": "stdout",
     "output_type": "stream",
     "text": [
      "GO_Biological_Process_2021\n",
      "ENCODE_TF_ChIP-seq_2015 811\n",
      "ChEA_2016 640\n",
      "BioPlanet_2019 624\n",
      "KEGG_2019_Mouse 203\n",
      "WikiPathways_2019_Mouse 86\n",
      "GO_Biological_Process_2021 1633\n",
      "LO28_8\n",
      "8\n",
      "dict_keys(['cluster_1', 'cluster_2', 'cluster_3', 'cluster_4', 'cluster_5', 'cluster_6', 'cluster_7', 'cluster_8'])\n"
     ]
    },
    {
     "name": "stderr",
     "output_type": "stream",
     "text": [
      "/nobackup/lab_bock/users/sreichl/miniconda3/envs/enrichment_analysis/lib/python3.9/site-packages/urllib3/connectionpool.py:1013: InsecureRequestWarning: Unverified HTTPS request is being made to host 'maayanlab.cloud'. Adding certificate verification is strongly advised. See: https://urllib3.readthedocs.io/en/1.26.x/advanced-usage.html#ssl-warnings\n",
      "  warnings.warn(\n",
      "/nobackup/lab_bock/users/sreichl/miniconda3/envs/enrichment_analysis/lib/python3.9/site-packages/urllib3/connectionpool.py:1013: InsecureRequestWarning: Unverified HTTPS request is being made to host 'maayanlab.cloud'. Adding certificate verification is strongly advised. See: https://urllib3.readthedocs.io/en/1.26.x/advanced-usage.html#ssl-warnings\n",
      "  warnings.warn(\n",
      "/nobackup/lab_bock/users/sreichl/miniconda3/envs/enrichment_analysis/lib/python3.9/site-packages/urllib3/connectionpool.py:1013: InsecureRequestWarning: Unverified HTTPS request is being made to host 'maayanlab.cloud'. Adding certificate verification is strongly advised. See: https://urllib3.readthedocs.io/en/1.26.x/advanced-usage.html#ssl-warnings\n",
      "  warnings.warn(\n",
      "/nobackup/lab_bock/users/sreichl/miniconda3/envs/enrichment_analysis/lib/python3.9/site-packages/urllib3/connectionpool.py:1013: InsecureRequestWarning: Unverified HTTPS request is being made to host 'maayanlab.cloud'. Adding certificate verification is strongly advised. See: https://urllib3.readthedocs.io/en/1.26.x/advanced-usage.html#ssl-warnings\n",
      "  warnings.warn(\n",
      "/nobackup/lab_bock/users/sreichl/miniconda3/envs/enrichment_analysis/lib/python3.9/site-packages/urllib3/connectionpool.py:1013: InsecureRequestWarning: Unverified HTTPS request is being made to host 'maayanlab.cloud'. Adding certificate verification is strongly advised. See: https://urllib3.readthedocs.io/en/1.26.x/advanced-usage.html#ssl-warnings\n",
      "  warnings.warn(\n",
      "/nobackup/lab_bock/users/sreichl/miniconda3/envs/enrichment_analysis/lib/python3.9/site-packages/urllib3/connectionpool.py:1013: InsecureRequestWarning: Unverified HTTPS request is being made to host 'maayanlab.cloud'. Adding certificate verification is strongly advised. See: https://urllib3.readthedocs.io/en/1.26.x/advanced-usage.html#ssl-warnings\n",
      "  warnings.warn(\n"
     ]
    },
    {
     "name": "stdout",
     "output_type": "stream",
     "text": [
      "ENCODE_TF_ChIP-seq_2015\n",
      "ChEA_2016\n",
      "BioPlanet_2019\n"
     ]
    },
    {
     "name": "stderr",
     "output_type": "stream",
     "text": [
      "2021-12-29 19:13:39,940 Warning: No enrich terms using library CUSTOM46920128948096 when cutoff = 0.05\n",
      "WARNING:gseapy:Warning: No enrich terms using library CUSTOM46920128948096 when cutoff = 0.05\n"
     ]
    },
    {
     "name": "stdout",
     "output_type": "stream",
     "text": [
      "KEGG_2019_Mouse\n",
      "WikiPathways_2019_Mouse\n"
     ]
    },
    {
     "name": "stderr",
     "output_type": "stream",
     "text": [
      "2021-12-29 19:13:53,638 Warning: No enrich terms using library CUSTOM46920136998336 when cutoff = 0.05\n",
      "WARNING:gseapy:Warning: No enrich terms using library CUSTOM46920136998336 when cutoff = 0.05\n"
     ]
    },
    {
     "name": "stdout",
     "output_type": "stream",
     "text": [
      "GO_Biological_Process_2021\n"
     ]
    },
    {
     "name": "stderr",
     "output_type": "stream",
     "text": [
      "2021-12-29 19:14:04,624 Warning: No enrich terms using library CUSTOM46920137685824 when cutoff = 0.05\n",
      "WARNING:gseapy:Warning: No enrich terms using library CUSTOM46920137685824 when cutoff = 0.05\n"
     ]
    },
    {
     "name": "stdout",
     "output_type": "stream",
     "text": [
      "ENCODE_TF_ChIP-seq_2015 811\n",
      "ChEA_2016 641\n",
      "BioPlanet_2019 594\n",
      "KEGG_2019_Mouse 210\n",
      "WikiPathways_2019_Mouse 88\n",
      "GO_Biological_Process_2021 1617\n",
      "LO28_9\n",
      "9\n",
      "dict_keys(['cluster_1', 'cluster_2', 'cluster_3', 'cluster_4', 'cluster_5', 'cluster_6', 'cluster_7', 'cluster_8', 'cluster_9'])\n"
     ]
    },
    {
     "name": "stderr",
     "output_type": "stream",
     "text": [
      "/nobackup/lab_bock/users/sreichl/miniconda3/envs/enrichment_analysis/lib/python3.9/site-packages/urllib3/connectionpool.py:1013: InsecureRequestWarning: Unverified HTTPS request is being made to host 'maayanlab.cloud'. Adding certificate verification is strongly advised. See: https://urllib3.readthedocs.io/en/1.26.x/advanced-usage.html#ssl-warnings\n",
      "  warnings.warn(\n",
      "/nobackup/lab_bock/users/sreichl/miniconda3/envs/enrichment_analysis/lib/python3.9/site-packages/urllib3/connectionpool.py:1013: InsecureRequestWarning: Unverified HTTPS request is being made to host 'maayanlab.cloud'. Adding certificate verification is strongly advised. See: https://urllib3.readthedocs.io/en/1.26.x/advanced-usage.html#ssl-warnings\n",
      "  warnings.warn(\n",
      "/nobackup/lab_bock/users/sreichl/miniconda3/envs/enrichment_analysis/lib/python3.9/site-packages/urllib3/connectionpool.py:1013: InsecureRequestWarning: Unverified HTTPS request is being made to host 'maayanlab.cloud'. Adding certificate verification is strongly advised. See: https://urllib3.readthedocs.io/en/1.26.x/advanced-usage.html#ssl-warnings\n",
      "  warnings.warn(\n",
      "/nobackup/lab_bock/users/sreichl/miniconda3/envs/enrichment_analysis/lib/python3.9/site-packages/urllib3/connectionpool.py:1013: InsecureRequestWarning: Unverified HTTPS request is being made to host 'maayanlab.cloud'. Adding certificate verification is strongly advised. See: https://urllib3.readthedocs.io/en/1.26.x/advanced-usage.html#ssl-warnings\n",
      "  warnings.warn(\n",
      "/nobackup/lab_bock/users/sreichl/miniconda3/envs/enrichment_analysis/lib/python3.9/site-packages/urllib3/connectionpool.py:1013: InsecureRequestWarning: Unverified HTTPS request is being made to host 'maayanlab.cloud'. Adding certificate verification is strongly advised. See: https://urllib3.readthedocs.io/en/1.26.x/advanced-usage.html#ssl-warnings\n",
      "  warnings.warn(\n",
      "/nobackup/lab_bock/users/sreichl/miniconda3/envs/enrichment_analysis/lib/python3.9/site-packages/urllib3/connectionpool.py:1013: InsecureRequestWarning: Unverified HTTPS request is being made to host 'maayanlab.cloud'. Adding certificate verification is strongly advised. See: https://urllib3.readthedocs.io/en/1.26.x/advanced-usage.html#ssl-warnings\n",
      "  warnings.warn(\n"
     ]
    },
    {
     "name": "stdout",
     "output_type": "stream",
     "text": [
      "ENCODE_TF_ChIP-seq_2015\n",
      "ChEA_2016\n",
      "BioPlanet_2019\n"
     ]
    },
    {
     "name": "stderr",
     "output_type": "stream",
     "text": [
      "2021-12-29 19:18:49,886 Warning: No enrich terms using library CUSTOM46918321252544 when cutoff = 0.05\n",
      "WARNING:gseapy:Warning: No enrich terms using library CUSTOM46918321252544 when cutoff = 0.05\n"
     ]
    },
    {
     "name": "stdout",
     "output_type": "stream",
     "text": [
      "KEGG_2019_Mouse\n",
      "WikiPathways_2019_Mouse\n"
     ]
    },
    {
     "name": "stderr",
     "output_type": "stream",
     "text": [
      "2021-12-29 19:19:04,256 Warning: No enrich terms using library CUSTOM46918494983040 when cutoff = 0.05\n",
      "WARNING:gseapy:Warning: No enrich terms using library CUSTOM46918494983040 when cutoff = 0.05\n"
     ]
    },
    {
     "name": "stdout",
     "output_type": "stream",
     "text": [
      "GO_Biological_Process_2021\n",
      "ENCODE_TF_ChIP-seq_2015 811\n",
      "ChEA_2016 638\n",
      "BioPlanet_2019 636\n",
      "KEGG_2019_Mouse 201\n",
      "WikiPathways_2019_Mouse 87\n",
      "GO_Biological_Process_2021 1677\n",
      "LO28_10\n",
      "10\n",
      "dict_keys(['cluster_1', 'cluster_2', 'cluster_3', 'cluster_4', 'cluster_5', 'cluster_6', 'cluster_7', 'cluster_8', 'cluster_9', 'cluster_10'])\n"
     ]
    },
    {
     "name": "stderr",
     "output_type": "stream",
     "text": [
      "/nobackup/lab_bock/users/sreichl/miniconda3/envs/enrichment_analysis/lib/python3.9/site-packages/urllib3/connectionpool.py:1013: InsecureRequestWarning: Unverified HTTPS request is being made to host 'maayanlab.cloud'. Adding certificate verification is strongly advised. See: https://urllib3.readthedocs.io/en/1.26.x/advanced-usage.html#ssl-warnings\n",
      "  warnings.warn(\n",
      "/nobackup/lab_bock/users/sreichl/miniconda3/envs/enrichment_analysis/lib/python3.9/site-packages/urllib3/connectionpool.py:1013: InsecureRequestWarning: Unverified HTTPS request is being made to host 'maayanlab.cloud'. Adding certificate verification is strongly advised. See: https://urllib3.readthedocs.io/en/1.26.x/advanced-usage.html#ssl-warnings\n",
      "  warnings.warn(\n",
      "/nobackup/lab_bock/users/sreichl/miniconda3/envs/enrichment_analysis/lib/python3.9/site-packages/urllib3/connectionpool.py:1013: InsecureRequestWarning: Unverified HTTPS request is being made to host 'maayanlab.cloud'. Adding certificate verification is strongly advised. See: https://urllib3.readthedocs.io/en/1.26.x/advanced-usage.html#ssl-warnings\n",
      "  warnings.warn(\n",
      "/nobackup/lab_bock/users/sreichl/miniconda3/envs/enrichment_analysis/lib/python3.9/site-packages/urllib3/connectionpool.py:1013: InsecureRequestWarning: Unverified HTTPS request is being made to host 'maayanlab.cloud'. Adding certificate verification is strongly advised. See: https://urllib3.readthedocs.io/en/1.26.x/advanced-usage.html#ssl-warnings\n",
      "  warnings.warn(\n",
      "/nobackup/lab_bock/users/sreichl/miniconda3/envs/enrichment_analysis/lib/python3.9/site-packages/urllib3/connectionpool.py:1013: InsecureRequestWarning: Unverified HTTPS request is being made to host 'maayanlab.cloud'. Adding certificate verification is strongly advised. See: https://urllib3.readthedocs.io/en/1.26.x/advanced-usage.html#ssl-warnings\n",
      "  warnings.warn(\n",
      "/nobackup/lab_bock/users/sreichl/miniconda3/envs/enrichment_analysis/lib/python3.9/site-packages/urllib3/connectionpool.py:1013: InsecureRequestWarning: Unverified HTTPS request is being made to host 'maayanlab.cloud'. Adding certificate verification is strongly advised. See: https://urllib3.readthedocs.io/en/1.26.x/advanced-usage.html#ssl-warnings\n",
      "  warnings.warn(\n"
     ]
    },
    {
     "name": "stdout",
     "output_type": "stream",
     "text": [
      "ENCODE_TF_ChIP-seq_2015\n",
      "ChEA_2016\n",
      "BioPlanet_2019\n"
     ]
    },
    {
     "name": "stderr",
     "output_type": "stream",
     "text": [
      "2021-12-29 19:24:19,672 Warning: No enrich terms using library CUSTOM46919272516160 when cutoff = 0.05\n",
      "WARNING:gseapy:Warning: No enrich terms using library CUSTOM46919272516160 when cutoff = 0.05\n"
     ]
    },
    {
     "name": "stdout",
     "output_type": "stream",
     "text": [
      "KEGG_2019_Mouse\n",
      "WikiPathways_2019_Mouse\n"
     ]
    },
    {
     "name": "stderr",
     "output_type": "stream",
     "text": [
      "2021-12-29 19:24:27,214 Warning: No enrich terms using library CUSTOM46918961145600 when cutoff = 0.05\n",
      "WARNING:gseapy:Warning: No enrich terms using library CUSTOM46918961145600 when cutoff = 0.05\n",
      "2021-12-29 19:24:29,674 Warning: No enrich terms using library CUSTOM46918961145600 when cutoff = 0.05\n",
      "WARNING:gseapy:Warning: No enrich terms using library CUSTOM46918961145600 when cutoff = 0.05\n"
     ]
    },
    {
     "name": "stdout",
     "output_type": "stream",
     "text": [
      "GO_Biological_Process_2021\n"
     ]
    },
    {
     "name": "stderr",
     "output_type": "stream",
     "text": [
      "2021-12-29 19:24:41,542 Warning: No enrich terms using library CUSTOM46919416067904 when cutoff = 0.05\n",
      "WARNING:gseapy:Warning: No enrich terms using library CUSTOM46919416067904 when cutoff = 0.05\n"
     ]
    },
    {
     "name": "stdout",
     "output_type": "stream",
     "text": [
      "ENCODE_TF_ChIP-seq_2015 812\n",
      "ChEA_2016 633\n",
      "BioPlanet_2019 651\n",
      "KEGG_2019_Mouse 200\n",
      "WikiPathways_2019_Mouse 85\n",
      "GO_Biological_Process_2021 1644\n",
      "LPS_2\n",
      "2\n",
      "dict_keys(['cluster_1', 'cluster_2'])\n"
     ]
    },
    {
     "name": "stderr",
     "output_type": "stream",
     "text": [
      "/nobackup/lab_bock/users/sreichl/miniconda3/envs/enrichment_analysis/lib/python3.9/site-packages/urllib3/connectionpool.py:1013: InsecureRequestWarning: Unverified HTTPS request is being made to host 'maayanlab.cloud'. Adding certificate verification is strongly advised. See: https://urllib3.readthedocs.io/en/1.26.x/advanced-usage.html#ssl-warnings\n",
      "  warnings.warn(\n",
      "/nobackup/lab_bock/users/sreichl/miniconda3/envs/enrichment_analysis/lib/python3.9/site-packages/urllib3/connectionpool.py:1013: InsecureRequestWarning: Unverified HTTPS request is being made to host 'maayanlab.cloud'. Adding certificate verification is strongly advised. See: https://urllib3.readthedocs.io/en/1.26.x/advanced-usage.html#ssl-warnings\n",
      "  warnings.warn(\n"
     ]
    }
   ],
   "source": [
    "# get significant genes per treatment and per k clustering\n",
    "for treatment in treatments:\n",
    "    for k in ks:\n",
    "        print(\"{}_{}\".format(treatment,k))\n",
    "\n",
    "        gene_lists = dict()\n",
    "        # load clustering result\n",
    "        tmp_results = pd.read_csv(os.path.join(dir_data,'time_series',treatment, \"k_{}\".format(k), \"clustering_\"+treatment+\".csv\"), header=0, index_col=0)\n",
    "        # make gene lists\n",
    "        tmp_gene_lists=tmp_results.groupby('2')['1'].apply(list).to_dict()\n",
    "\n",
    "        # rename gene_lists\n",
    "        for key in tmp_gene_lists.keys():\n",
    "            gene_lists[\"cluster_\"+str(key)] = tmp_gene_lists[key]\n",
    "\n",
    "        # convert to upper-case\n",
    "        for key in gene_lists.keys():\n",
    "            gene_lists[key] = [str(x).upper() for x in list(gene_lists[key])]\n",
    "\n",
    "        print(len(gene_lists.keys()))        \n",
    "        print(gene_lists.keys())\n",
    "\n",
    "        util_GSEApy.do_enrichment_all(gene_lists=gene_lists, \n",
    "                          background=background, \n",
    "                          databases=databases, \n",
    "                          databases_strict=databases_strict, \n",
    "                          adj_pvalue=adj_pvalue, \n",
    "                          adj_pvalue_strict=adj_pvalue_strict, \n",
    "                          dir_results=os.path.join(dir_results,'time_series',treatment, 'k_{}'.format(k)),\n",
    "                  top_n = 25\n",
    "                         )"
   ]
  },
  {
   "cell_type": "code",
   "execution_count": null,
   "id": "81c30c96",
   "metadata": {
    "tags": []
   },
   "outputs": [],
   "source": [
    "# make plots that show relationship between k and number of unique stat. sign. enrichment terms\n",
    "for treatment in treatments:\n",
    "    plot_sum_df = pd.DataFrame(index=ks, columns=databases)\n",
    "    plot_unique_df = pd.DataFrame(index=ks, columns=databases)\n",
    "    for k in ks:\n",
    "        for db in databases:\n",
    "            tmp_results = pd.read_csv(os.path.join(dir_results,'time_series',treatment,\"k_{}\".format(k), \"summary_{}_adjpvalues.csv\".format(db)), index_col=0)\n",
    "            plot_sum_df.loc[k,db]=tmp_results.shape[0]\n",
    "            plot_unique_df.loc[k,db]=sum((tmp_results<0.05).sum(axis=1)==1)\n",
    "    \n",
    "    # make sum plot\n",
    "    plot_sum_df= plot_sum_df.apply(pd.to_numeric)\n",
    "    plot_sum_df.plot.line(figsize=(8,4))\n",
    "    plt.scatter(plot_sum_df.idxmax(), plot_sum_df.max(), marker='^', color='k')\n",
    "    plt.scatter(plot_sum_df.idxmin(), plot_sum_df.min(), marker='v', color='k')\n",
    "    plt.xlabel('# of clusters')\n",
    "    plt.ylabel('# of unique stat. sign. enrichment terms')\n",
    "    plt.title('Biological interpretability of {} time-series clusters'.format(treatment))\n",
    "    plt.legend(loc='center left', bbox_to_anchor=(1, 0.5))\n",
    "    plt.tight_layout()\n",
    "    plt.savefig(\n",
    "        fname=os.path.join(dir_results,'time_series',treatment,\"Biological_interpretability_sum_\"+treatment+\".svg\"),\n",
    "        format=\"svg\",\n",
    "        dpi=300,\n",
    "        bbox_inches=\"tight\",\n",
    "    )\n",
    "    plt.show()\n",
    "    \n",
    "    # make unique plot\n",
    "    plot_unique_df= plot_unique_df.apply(pd.to_numeric)\n",
    "    plot_unique_df.plot.line(figsize=(8,4))\n",
    "    plt.scatter(plot_unique_df.idxmax(), plot_unique_df.max(), marker='^', color='k')\n",
    "    plt.scatter(plot_unique_df.idxmin(), plot_unique_df.min(), marker='v', color='k')\n",
    "    plt.xlabel('# of clusters')\n",
    "    plt.ylabel('# of unique stat. sign. enrichment terms')\n",
    "    plt.title('Biological interpretability of {} time-series clusters'.format(treatment))\n",
    "    plt.legend(loc='center left', bbox_to_anchor=(1, 0.5))\n",
    "    plt.tight_layout()\n",
    "    plt.savefig(\n",
    "        fname=os.path.join(dir_results,'time_series',treatment,\"Biological_interpretability_unique_\"+treatment+\".svg\"),\n",
    "        format=\"svg\",\n",
    "        dpi=300,\n",
    "        bbox_inches=\"tight\",\n",
    "    )\n",
    "    plt.show()"
   ]
  },
  {
   "cell_type": "code",
   "execution_count": null,
   "id": "3eaf4798",
   "metadata": {},
   "outputs": [],
   "source": []
  }
 ],
 "metadata": {
  "kernelspec": {
   "display_name": "Python_enrichment_analysis",
   "language": "python",
   "name": "enrichment_analysis"
  },
  "language_info": {
   "codemirror_mode": {
    "name": "ipython",
    "version": 3
   },
   "file_extension": ".py",
   "mimetype": "text/x-python",
   "name": "python",
   "nbconvert_exporter": "python",
   "pygments_lexer": "ipython3",
   "version": "3.9.5"
  }
 },
 "nbformat": 4,
 "nbformat_minor": 5
}
