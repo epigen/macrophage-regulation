{
 "cells": [
  {
   "cell_type": "markdown",
   "id": "d4daa74f",
   "metadata": {},
   "source": [
    "# CROP-seq KO150 - Enrichment analysis of DEA results\n",
    "- goal: enrichments of DEA_condition & DEA_KO results (also mixscape versions)\n",
    "- input: DEA results\n",
    "- output: enrichment results, summary files & plots"
   ]
  },
  {
   "cell_type": "code",
   "execution_count": 1,
   "id": "f48a3cf3",
   "metadata": {},
   "outputs": [
    {
     "name": "stdout",
     "output_type": "stream",
     "text": [
      "/home/sreichl/projects/bmdm-stim\n"
     ]
    }
   ],
   "source": [
    "cd ../"
   ]
  },
  {
   "cell_type": "code",
   "execution_count": 2,
   "id": "540f5083",
   "metadata": {},
   "outputs": [],
   "source": [
    "# libraries\n",
    "import pandas as pd\n",
    "import os\n",
    "\n",
    "import matplotlib.pyplot as plt\n",
    "import seaborn as sns\n",
    "import numpy as np\n",
    "\n",
    "import gseapy as gp"
   ]
  },
  {
   "cell_type": "code",
   "execution_count": 5,
   "id": "a7a00094-af2d-43af-9bd7-63130385227e",
   "metadata": {},
   "outputs": [],
   "source": [
    "# import util functions\n",
    "import sys\n",
    "sys.path.insert(1, os.path.join('src'))\n",
    "\n",
    "import utils_GSEApy"
   ]
  },
  {
   "cell_type": "code",
   "execution_count": 4,
   "id": "a09190b0",
   "metadata": {},
   "outputs": [],
   "source": [
    "# for relaoding a module\n",
    "# importlib.reload(utils_GSEApy)"
   ]
  },
  {
   "cell_type": "code",
   "execution_count": 5,
   "id": "dce0ce62",
   "metadata": {
    "tags": []
   },
   "outputs": [],
   "source": [
    "# configs\n",
    "dir_base = os.path.join('results','KO150')\n",
    "\n",
    "mixscape = True\n",
    "\n",
    "if mixscape:\n",
    "    dir_data = os.path.join(dir_base, 'unsupervised_mixscape')\n",
    "else:\n",
    "    dir_data = dir_base\n",
    "    \n",
    "dir_results = os.path.join(dir_base, 'enrichment_analysis')\n",
    "\n",
    "databases = [\"BioPlanet_2019\", \n",
    "             \"KEGG_2019_Mouse\", \n",
    "             \"WikiPathways_2019_Mouse\",\n",
    "             \"GO_Biological_Process_2021\"]\n",
    "\n",
    "# more stringent adj.p-value cut-off\n",
    "# databases_strict=[\"BioPlanet_2019\",\n",
    "#            \"GO_Biological_Process_2021\"]\n",
    "databases_strict=[]\n",
    "\n",
    "adj_pvalue=0.05\n",
    "adj_pvalue_strict=0.01"
   ]
  },
  {
   "cell_type": "code",
   "execution_count": 6,
   "id": "a34cc361",
   "metadata": {},
   "outputs": [],
   "source": [
    "if not os.path.exists(dir_results):\n",
    "        os.mkdir(dir_results)"
   ]
  },
  {
   "cell_type": "markdown",
   "id": "38956fb7",
   "metadata": {},
   "source": [
    "# load data"
   ]
  },
  {
   "cell_type": "code",
   "execution_count": 7,
   "id": "df6ac30d",
   "metadata": {},
   "outputs": [
    {
     "name": "stdout",
     "output_type": "stream",
     "text": [
      "(76344, 16)\n"
     ]
    },
    {
     "data": {
      "text/html": [
       "<div>\n",
       "<style scoped>\n",
       "    .dataframe tbody tr th:only-of-type {\n",
       "        vertical-align: middle;\n",
       "    }\n",
       "\n",
       "    .dataframe tbody tr th {\n",
       "        vertical-align: top;\n",
       "    }\n",
       "\n",
       "    .dataframe thead th {\n",
       "        text-align: right;\n",
       "    }\n",
       "</style>\n",
       "<table border=\"1\" class=\"dataframe\">\n",
       "  <thead>\n",
       "    <tr style=\"text-align: right;\">\n",
       "      <th></th>\n",
       "      <th>orig.ident</th>\n",
       "      <th>nCount_RNA</th>\n",
       "      <th>nFeature_RNA</th>\n",
       "      <th>nCount_AB</th>\n",
       "      <th>nFeature_AB</th>\n",
       "      <th>nCount_gRNA</th>\n",
       "      <th>nFeature_gRNA</th>\n",
       "      <th>nCount_HTO</th>\n",
       "      <th>nFeature_HTO</th>\n",
       "      <th>hto_demux</th>\n",
       "      <th>pass_QC</th>\n",
       "      <th>batch</th>\n",
       "      <th>percent.mt</th>\n",
       "      <th>guide_call</th>\n",
       "      <th>KO_call</th>\n",
       "      <th>condition</th>\n",
       "    </tr>\n",
       "  </thead>\n",
       "  <tbody>\n",
       "    <tr>\n",
       "      <th>A1_AAACCTGAGAATCTCC-1</th>\n",
       "      <td>PT149_5_A1_transcriptome</td>\n",
       "      <td>17884</td>\n",
       "      <td>4442</td>\n",
       "      <td>987</td>\n",
       "      <td>9</td>\n",
       "      <td>358</td>\n",
       "      <td>51</td>\n",
       "      <td>379</td>\n",
       "      <td>3</td>\n",
       "      <td>HTO-RAW264.7-b_untreated</td>\n",
       "      <td>True</td>\n",
       "      <td>A1</td>\n",
       "      <td>1.481771</td>\n",
       "      <td>Chd7-2</td>\n",
       "      <td>Chd7</td>\n",
       "      <td>untreated</td>\n",
       "    </tr>\n",
       "    <tr>\n",
       "      <th>A1_AAACCTGAGCGATGAC-1</th>\n",
       "      <td>PT149_5_A1_transcriptome</td>\n",
       "      <td>12849</td>\n",
       "      <td>3787</td>\n",
       "      <td>1378</td>\n",
       "      <td>9</td>\n",
       "      <td>1103</td>\n",
       "      <td>56</td>\n",
       "      <td>288</td>\n",
       "      <td>3</td>\n",
       "      <td>HTO-RAW264.7-b_untreated</td>\n",
       "      <td>True</td>\n",
       "      <td>A1</td>\n",
       "      <td>1.299712</td>\n",
       "      <td>Babam1-1</td>\n",
       "      <td>Babam1</td>\n",
       "      <td>untreated</td>\n",
       "    </tr>\n",
       "    <tr>\n",
       "      <th>A1_AAACCTGAGGATCGCA-1</th>\n",
       "      <td>PT149_5_A1_transcriptome</td>\n",
       "      <td>21634</td>\n",
       "      <td>4842</td>\n",
       "      <td>1097</td>\n",
       "      <td>11</td>\n",
       "      <td>74</td>\n",
       "      <td>54</td>\n",
       "      <td>1062</td>\n",
       "      <td>3</td>\n",
       "      <td>HTO-RAW264.7-a_untreated</td>\n",
       "      <td>True</td>\n",
       "      <td>A1</td>\n",
       "      <td>1.127854</td>\n",
       "      <td>Negative</td>\n",
       "      <td>Negative</td>\n",
       "      <td>untreated</td>\n",
       "    </tr>\n",
       "    <tr>\n",
       "      <th>A1_AAACCTGAGTGCCAGA-1</th>\n",
       "      <td>PT149_5_A1_transcriptome</td>\n",
       "      <td>14479</td>\n",
       "      <td>3851</td>\n",
       "      <td>458</td>\n",
       "      <td>10</td>\n",
       "      <td>838</td>\n",
       "      <td>72</td>\n",
       "      <td>292</td>\n",
       "      <td>3</td>\n",
       "      <td>HTO-RAW264.7-b_untreated</td>\n",
       "      <td>True</td>\n",
       "      <td>A1</td>\n",
       "      <td>1.201740</td>\n",
       "      <td>Mov10-4</td>\n",
       "      <td>Mov10</td>\n",
       "      <td>untreated</td>\n",
       "    </tr>\n",
       "    <tr>\n",
       "      <th>A1_AAACCTGAGTGGAGAA-1</th>\n",
       "      <td>PT149_5_A1_transcriptome</td>\n",
       "      <td>13765</td>\n",
       "      <td>3832</td>\n",
       "      <td>1437</td>\n",
       "      <td>9</td>\n",
       "      <td>270</td>\n",
       "      <td>117</td>\n",
       "      <td>963</td>\n",
       "      <td>3</td>\n",
       "      <td>HTO-RAW264.7-b_untreated</td>\n",
       "      <td>True</td>\n",
       "      <td>A1</td>\n",
       "      <td>1.031602</td>\n",
       "      <td>Spi1-1</td>\n",
       "      <td>Spi1</td>\n",
       "      <td>untreated</td>\n",
       "    </tr>\n",
       "  </tbody>\n",
       "</table>\n",
       "</div>"
      ],
      "text/plain": [
       "                                     orig.ident  nCount_RNA  nFeature_RNA  \\\n",
       "A1_AAACCTGAGAATCTCC-1  PT149_5_A1_transcriptome       17884          4442   \n",
       "A1_AAACCTGAGCGATGAC-1  PT149_5_A1_transcriptome       12849          3787   \n",
       "A1_AAACCTGAGGATCGCA-1  PT149_5_A1_transcriptome       21634          4842   \n",
       "A1_AAACCTGAGTGCCAGA-1  PT149_5_A1_transcriptome       14479          3851   \n",
       "A1_AAACCTGAGTGGAGAA-1  PT149_5_A1_transcriptome       13765          3832   \n",
       "\n",
       "                       nCount_AB  nFeature_AB  nCount_gRNA  nFeature_gRNA  \\\n",
       "A1_AAACCTGAGAATCTCC-1        987            9          358             51   \n",
       "A1_AAACCTGAGCGATGAC-1       1378            9         1103             56   \n",
       "A1_AAACCTGAGGATCGCA-1       1097           11           74             54   \n",
       "A1_AAACCTGAGTGCCAGA-1        458           10          838             72   \n",
       "A1_AAACCTGAGTGGAGAA-1       1437            9          270            117   \n",
       "\n",
       "                       nCount_HTO  nFeature_HTO                 hto_demux  \\\n",
       "A1_AAACCTGAGAATCTCC-1         379             3  HTO-RAW264.7-b_untreated   \n",
       "A1_AAACCTGAGCGATGAC-1         288             3  HTO-RAW264.7-b_untreated   \n",
       "A1_AAACCTGAGGATCGCA-1        1062             3  HTO-RAW264.7-a_untreated   \n",
       "A1_AAACCTGAGTGCCAGA-1         292             3  HTO-RAW264.7-b_untreated   \n",
       "A1_AAACCTGAGTGGAGAA-1         963             3  HTO-RAW264.7-b_untreated   \n",
       "\n",
       "                       pass_QC batch  percent.mt guide_call   KO_call  \\\n",
       "A1_AAACCTGAGAATCTCC-1     True    A1    1.481771     Chd7-2      Chd7   \n",
       "A1_AAACCTGAGCGATGAC-1     True    A1    1.299712   Babam1-1    Babam1   \n",
       "A1_AAACCTGAGGATCGCA-1     True    A1    1.127854   Negative  Negative   \n",
       "A1_AAACCTGAGTGCCAGA-1     True    A1    1.201740    Mov10-4     Mov10   \n",
       "A1_AAACCTGAGTGGAGAA-1     True    A1    1.031602     Spi1-1      Spi1   \n",
       "\n",
       "                       condition  \n",
       "A1_AAACCTGAGAATCTCC-1  untreated  \n",
       "A1_AAACCTGAGCGATGAC-1  untreated  \n",
       "A1_AAACCTGAGGATCGCA-1  untreated  \n",
       "A1_AAACCTGAGTGCCAGA-1  untreated  \n",
       "A1_AAACCTGAGTGGAGAA-1  untreated  "
      ]
     },
     "execution_count": 7,
     "metadata": {},
     "output_type": "execute_result"
    }
   ],
   "source": [
    "annot = pd.read_csv(os.path.join(dir_base, 'KO150_raw_metadata.csv'), index_col=0)\n",
    "print(annot.shape)\n",
    "annot.head()"
   ]
  },
  {
   "cell_type": "code",
   "execution_count": 8,
   "id": "2f56bbc1",
   "metadata": {},
   "outputs": [
    {
     "name": "stdout",
     "output_type": "stream",
     "text": [
      "(14845, 6187)\n"
     ]
    },
    {
     "data": {
      "text/html": [
       "<div>\n",
       "<style scoped>\n",
       "    .dataframe tbody tr th:only-of-type {\n",
       "        vertical-align: middle;\n",
       "    }\n",
       "\n",
       "    .dataframe tbody tr th {\n",
       "        vertical-align: top;\n",
       "    }\n",
       "\n",
       "    .dataframe thead th {\n",
       "        text-align: right;\n",
       "    }\n",
       "</style>\n",
       "<table border=\"1\" class=\"dataframe\">\n",
       "  <thead>\n",
       "    <tr style=\"text-align: right;\">\n",
       "      <th></th>\n",
       "      <th>A1_AAACCTGCATGCTGGC.1</th>\n",
       "      <th>A1_AAACGGGAGAAACGCC.1</th>\n",
       "      <th>A1_AAACGGGCACCTCGGA.1</th>\n",
       "      <th>A1_AAACGGGGTCCAAGTT.1</th>\n",
       "      <th>A1_AAACGGGGTCTGGAGA.1</th>\n",
       "      <th>A1_AAACGGGGTGCTCTTC.1</th>\n",
       "      <th>A1_AAAGATGGTAGCCTAT.1</th>\n",
       "      <th>A1_AAAGATGGTGGTCTCG.1</th>\n",
       "      <th>A1_AAAGATGGTTGATTGC.1</th>\n",
       "      <th>A1_AAAGATGTCATCGATG.1</th>\n",
       "      <th>...</th>\n",
       "      <th>C3_TTCCCAGTCTCGATGA.1</th>\n",
       "      <th>C3_TTGACTTTCCAAGTAC.1</th>\n",
       "      <th>C3_TTGCCGTAGTTCCACA.1</th>\n",
       "      <th>C3_TTGTAGGTCCGTAGGC.1</th>\n",
       "      <th>C3_TTTACTGAGTCGATAA.1</th>\n",
       "      <th>C3_TTTATGCGTGTTTGGT.1</th>\n",
       "      <th>C3_TTTCCTCGTAAAGTCA.1</th>\n",
       "      <th>C3_TTTGCGCCACATGTGT.1</th>\n",
       "      <th>C3_TTTGCGCCATTGGGCC.1</th>\n",
       "      <th>C3_TTTGGTTGTCAGATAA.1</th>\n",
       "    </tr>\n",
       "  </thead>\n",
       "  <tbody>\n",
       "    <tr>\n",
       "      <th>Mrpl15</th>\n",
       "      <td>2</td>\n",
       "      <td>0</td>\n",
       "      <td>1</td>\n",
       "      <td>3</td>\n",
       "      <td>1</td>\n",
       "      <td>1</td>\n",
       "      <td>9</td>\n",
       "      <td>2</td>\n",
       "      <td>0</td>\n",
       "      <td>1</td>\n",
       "      <td>...</td>\n",
       "      <td>0</td>\n",
       "      <td>1</td>\n",
       "      <td>6</td>\n",
       "      <td>2</td>\n",
       "      <td>2</td>\n",
       "      <td>3</td>\n",
       "      <td>2</td>\n",
       "      <td>1</td>\n",
       "      <td>5</td>\n",
       "      <td>0</td>\n",
       "    </tr>\n",
       "    <tr>\n",
       "      <th>Lypla1</th>\n",
       "      <td>1</td>\n",
       "      <td>0</td>\n",
       "      <td>0</td>\n",
       "      <td>0</td>\n",
       "      <td>0</td>\n",
       "      <td>2</td>\n",
       "      <td>0</td>\n",
       "      <td>1</td>\n",
       "      <td>0</td>\n",
       "      <td>0</td>\n",
       "      <td>...</td>\n",
       "      <td>1</td>\n",
       "      <td>0</td>\n",
       "      <td>0</td>\n",
       "      <td>0</td>\n",
       "      <td>0</td>\n",
       "      <td>1</td>\n",
       "      <td>0</td>\n",
       "      <td>0</td>\n",
       "      <td>1</td>\n",
       "      <td>0</td>\n",
       "    </tr>\n",
       "    <tr>\n",
       "      <th>Tcea1</th>\n",
       "      <td>1</td>\n",
       "      <td>2</td>\n",
       "      <td>4</td>\n",
       "      <td>0</td>\n",
       "      <td>1</td>\n",
       "      <td>3</td>\n",
       "      <td>5</td>\n",
       "      <td>3</td>\n",
       "      <td>3</td>\n",
       "      <td>1</td>\n",
       "      <td>...</td>\n",
       "      <td>5</td>\n",
       "      <td>1</td>\n",
       "      <td>4</td>\n",
       "      <td>0</td>\n",
       "      <td>3</td>\n",
       "      <td>0</td>\n",
       "      <td>5</td>\n",
       "      <td>0</td>\n",
       "      <td>1</td>\n",
       "      <td>1</td>\n",
       "    </tr>\n",
       "    <tr>\n",
       "      <th>Rgs20</th>\n",
       "      <td>0</td>\n",
       "      <td>0</td>\n",
       "      <td>0</td>\n",
       "      <td>0</td>\n",
       "      <td>0</td>\n",
       "      <td>0</td>\n",
       "      <td>0</td>\n",
       "      <td>0</td>\n",
       "      <td>0</td>\n",
       "      <td>0</td>\n",
       "      <td>...</td>\n",
       "      <td>0</td>\n",
       "      <td>0</td>\n",
       "      <td>0</td>\n",
       "      <td>0</td>\n",
       "      <td>0</td>\n",
       "      <td>0</td>\n",
       "      <td>0</td>\n",
       "      <td>0</td>\n",
       "      <td>0</td>\n",
       "      <td>0</td>\n",
       "    </tr>\n",
       "    <tr>\n",
       "      <th>Atp6v1h</th>\n",
       "      <td>1</td>\n",
       "      <td>3</td>\n",
       "      <td>4</td>\n",
       "      <td>3</td>\n",
       "      <td>0</td>\n",
       "      <td>1</td>\n",
       "      <td>3</td>\n",
       "      <td>3</td>\n",
       "      <td>2</td>\n",
       "      <td>3</td>\n",
       "      <td>...</td>\n",
       "      <td>5</td>\n",
       "      <td>3</td>\n",
       "      <td>8</td>\n",
       "      <td>3</td>\n",
       "      <td>3</td>\n",
       "      <td>1</td>\n",
       "      <td>2</td>\n",
       "      <td>1</td>\n",
       "      <td>3</td>\n",
       "      <td>0</td>\n",
       "    </tr>\n",
       "  </tbody>\n",
       "</table>\n",
       "<p>5 rows × 6187 columns</p>\n",
       "</div>"
      ],
      "text/plain": [
       "         A1_AAACCTGCATGCTGGC.1  A1_AAACGGGAGAAACGCC.1  A1_AAACGGGCACCTCGGA.1  \\\n",
       "Mrpl15                       2                      0                      1   \n",
       "Lypla1                       1                      0                      0   \n",
       "Tcea1                        1                      2                      4   \n",
       "Rgs20                        0                      0                      0   \n",
       "Atp6v1h                      1                      3                      4   \n",
       "\n",
       "         A1_AAACGGGGTCCAAGTT.1  A1_AAACGGGGTCTGGAGA.1  A1_AAACGGGGTGCTCTTC.1  \\\n",
       "Mrpl15                       3                      1                      1   \n",
       "Lypla1                       0                      0                      2   \n",
       "Tcea1                        0                      1                      3   \n",
       "Rgs20                        0                      0                      0   \n",
       "Atp6v1h                      3                      0                      1   \n",
       "\n",
       "         A1_AAAGATGGTAGCCTAT.1  A1_AAAGATGGTGGTCTCG.1  A1_AAAGATGGTTGATTGC.1  \\\n",
       "Mrpl15                       9                      2                      0   \n",
       "Lypla1                       0                      1                      0   \n",
       "Tcea1                        5                      3                      3   \n",
       "Rgs20                        0                      0                      0   \n",
       "Atp6v1h                      3                      3                      2   \n",
       "\n",
       "         A1_AAAGATGTCATCGATG.1  ...  C3_TTCCCAGTCTCGATGA.1  \\\n",
       "Mrpl15                       1  ...                      0   \n",
       "Lypla1                       0  ...                      1   \n",
       "Tcea1                        1  ...                      5   \n",
       "Rgs20                        0  ...                      0   \n",
       "Atp6v1h                      3  ...                      5   \n",
       "\n",
       "         C3_TTGACTTTCCAAGTAC.1  C3_TTGCCGTAGTTCCACA.1  C3_TTGTAGGTCCGTAGGC.1  \\\n",
       "Mrpl15                       1                      6                      2   \n",
       "Lypla1                       0                      0                      0   \n",
       "Tcea1                        1                      4                      0   \n",
       "Rgs20                        0                      0                      0   \n",
       "Atp6v1h                      3                      8                      3   \n",
       "\n",
       "         C3_TTTACTGAGTCGATAA.1  C3_TTTATGCGTGTTTGGT.1  C3_TTTCCTCGTAAAGTCA.1  \\\n",
       "Mrpl15                       2                      3                      2   \n",
       "Lypla1                       0                      1                      0   \n",
       "Tcea1                        3                      0                      5   \n",
       "Rgs20                        0                      0                      0   \n",
       "Atp6v1h                      3                      1                      2   \n",
       "\n",
       "         C3_TTTGCGCCACATGTGT.1  C3_TTTGCGCCATTGGGCC.1  C3_TTTGGTTGTCAGATAA.1  \n",
       "Mrpl15                       1                      5                      0  \n",
       "Lypla1                       0                      1                      0  \n",
       "Tcea1                        0                      1                      1  \n",
       "Rgs20                        0                      0                      0  \n",
       "Atp6v1h                      1                      3                      0  \n",
       "\n",
       "[5 rows x 6187 columns]"
      ]
     },
     "execution_count": 8,
     "metadata": {},
     "output_type": "execute_result"
    }
   ],
   "source": [
    "SCT_counts = pd.read_csv(os.path.join(dir_data, 'KO150_SCT_counts.csv'), index_col=0)\n",
    "print(SCT_counts.shape)\n",
    "SCT_counts.head()"
   ]
  },
  {
   "cell_type": "code",
   "execution_count": 9,
   "id": "5458c959",
   "metadata": {},
   "outputs": [
    {
     "name": "stdout",
     "output_type": "stream",
     "text": [
      "['untreated', 'LO28-6h', 'LO28-24h']\n",
      "['Chd7', 'Babam1', 'Mov10', 'Spi1', 'Jmjd1c', 'Ezh2', 'Dnmt1', 'Smc1a', 'Arid1a', 'Ifi203', 'Elp2', 'Taf7', 'Prmt2', 'Morf4l2', 'Sfpq', 'Irf1', 'Ifnar1', 'Ube2d3', 'Ep300', 'Arid4a', 'Ppm1g', 'Sp100', 'Brd1', 'Kdm5a', 'Tyk2', 'Myc', 'Apobec3', 'Ywhaz', 'Ezh1', 'Fcgr1', 'Dtx3l', 'Phf11b', 'Irf9', 'Smarca5', 'Padi2', 'Chd1', 'Gadd45b', 'Prdm1', 'Yeats4', 'Phip', 'Pcgf5', 'Usp16', 'Pbrm1', 'Phf23', 'Rlim', 'Sirt2', 'Elp4', 'Kmt2a', 'Senp3', 'Irf3', 'Ubn1', 'Tlk2', 'Rela', 'Daxx', 'Chtop', 'Hdac2', 'Setdb2', 'Prmt1', 'Ep400', 'Set', 'Mllt6', 'Apobec1', 'Smyd3', 'Ppp4r2', 'Nap1l1', 'Eid1', 'Smarcc2', 'Anp32b', 'Ikzf1', 'Dnttip2', 'Brd7', 'Brd2', 'Stat2', 'Myd88', 'Dot1l', 'Yy1', 'Pkm', 'Hp1bp3', 'Pml', 'Csf1r', 'Anp32e', 'Jun', 'Sp110', 'Aebp2', 'Runx1', 'Gatad1', 'Chd2', 'Chd4', 'Baz1a', 'Aak1', 'Spen', 'Dek', 'Stat1', 'Smyd2', 'Brd3', 'Smyd5', 'Sap30', 'Tet2', 'Mbd2', 'Atad2', 'Ddx21', 'Elp5', 'Syncrip', 'Cited2', 'Irf8', 'Dnajc1', 'Supt16', 'Brwd3', 'Med8', 'Cul1', 'Phc2', 'Med13', 'Ssrp1', 'Hdac6', 'Sf3b1', 'Kdm7a', 'Ywhae', 'Hdgf', 'Sp140', 'Kdm1b', 'Creb1', 'Kdm6b', 'Yeats2', 'Ywhab', 'Phf11d', 'Jak1', 'Top2a', 'Uchl5', 'Rbbp7', 'Ctbp1', 'Smarca4', 'Npm1', 'Chd8', 'Med14', 'Foxp1']\n"
     ]
    }
   ],
   "source": [
    "# prepare metadata\n",
    "\n",
    "# conditions\n",
    "annot['condition'] = annot['hto_demux'].str.split(pat='_',n=1, expand=True)[1]\n",
    "conditions = list(annot['condition'].unique())\n",
    "conditions.remove(None)\n",
    "print(conditions)\n",
    "\n",
    "# KO target genes\n",
    "KO_genes = list(annot['KO_call'].unique())\n",
    "KO_genes.remove('Negative')\n",
    "KO_genes.remove('Multiplet')\n",
    "KO_genes.remove('NonTargeting')\n",
    "print(KO_genes)"
   ]
  },
  {
   "cell_type": "code",
   "execution_count": 10,
   "id": "add6bfb5",
   "metadata": {},
   "outputs": [
    {
     "name": "stdout",
     "output_type": "stream",
     "text": [
      "14845\n"
     ]
    },
    {
     "data": {
      "text/plain": [
       "['LURAP1', 'PSMG1', 'A430105J06RIK', 'DDX11', 'GSTA4']"
      ]
     },
     "execution_count": 10,
     "metadata": {},
     "output_type": "execute_result"
    }
   ],
   "source": [
    "# define list of background genes\n",
    "background = SCT_counts.index\n",
    "background = list(set(background))\n",
    "background=[str(x).upper() for x in list(background)]\n",
    "print(len(background))\n",
    "background[:5]"
   ]
  },
  {
   "cell_type": "markdown",
   "id": "ce8f8a8a",
   "metadata": {},
   "source": [
    "# Enrichment analysis"
   ]
  },
  {
   "cell_type": "code",
   "execution_count": 11,
   "id": "fe1d34c0",
   "metadata": {},
   "outputs": [],
   "source": [
    "stat_sign = 0.05\n",
    "pval = 'p_val_adj'"
   ]
  },
  {
   "cell_type": "markdown",
   "id": "ce852044",
   "metadata": {},
   "source": [
    "## DEA analysis within condition between KOs"
   ]
  },
  {
   "cell_type": "code",
   "execution_count": 12,
   "id": "d9b58742",
   "metadata": {},
   "outputs": [],
   "source": [
    "if mixscape:\n",
    "    dea_folder = 'DEA_condition_mixscape'\n",
    "    top_n=3\n",
    "else:\n",
    "    dea_folder = 'DEA_condition'\n",
    "    top_n=1"
   ]
  },
  {
   "cell_type": "code",
   "execution_count": 13,
   "id": "90ad1d16",
   "metadata": {},
   "outputs": [
    {
     "name": "stdout",
     "output_type": "stream",
     "text": [
      "374\n"
     ]
    },
    {
     "data": {
      "text/plain": [
       "dict_keys(['untreated_Babam1_down', 'untreated_Spi1_up', 'untreated_Spi1_down', 'untreated_Jmjd1c_up', 'untreated_Dnmt1_up', 'untreated_Dnmt1_down', 'untreated_Smc1a_up', 'untreated_Smc1a_down', 'untreated_Arid1a_up', 'untreated_Arid1a_down', 'untreated_Elp2_down', 'untreated_Prmt2_up', 'untreated_Sfpq_up', 'untreated_Sfpq_down', 'untreated_Ifnar1_up', 'untreated_Ifnar1_down', 'untreated_Ube2d3_down', 'untreated_Ep300_up', 'untreated_Ep300_down', 'untreated_Arid4a_up', 'untreated_Ppm1g_down', 'untreated_Brd1_up', 'untreated_Brd1_down', 'untreated_Kdm5a_up', 'untreated_Tyk2_down', 'untreated_Ywhaz_down', 'untreated_Irf9_up', 'untreated_Irf9_down', 'untreated_Smarca5_up', 'untreated_Smarca5_down', 'untreated_Chd1_down', 'untreated_Yeats4_up', 'untreated_Yeats4_down', 'untreated_Pbrm1_down', 'untreated_Sirt2_down', 'untreated_Senp3_down', 'untreated_Tlk2_up', 'untreated_Chtop_down', 'untreated_Hdac2_down', 'untreated_Prmt1_down', 'untreated_Ep400_up', 'untreated_Ep400_down', 'untreated_Set_down', 'untreated_Ppp4r2_up', 'untreated_Ppp4r2_down', 'untreated_Nap1l1_down', 'untreated_Eid1_down', 'untreated_Smarcc2_up', 'untreated_Anp32b_up', 'untreated_Anp32b_down', 'untreated_Ikzf1_up', 'untreated_Ikzf1_down', 'untreated_Dnttip2_up', 'untreated_Dnttip2_down', 'untreated_Brd7_down', 'untreated_Brd2_up', 'untreated_Brd2_down', 'untreated_Stat2_up', 'untreated_Stat2_down', 'untreated_Myd88_down', 'untreated_Pkm_down', 'untreated_Hp1bp3_down', 'untreated_Csf1r_down', 'untreated_Anp32e_down', 'untreated_Sp110_up', 'untreated_Aebp2_down', 'untreated_Runx1_up', 'untreated_Runx1_down', 'untreated_Gatad1_up', 'untreated_Chd4_up', 'untreated_Chd4_down', 'untreated_Baz1a_up', 'untreated_Spen_up', 'untreated_Dek_up', 'untreated_Dek_down', 'untreated_Stat1_down', 'untreated_Smyd5_down', 'untreated_Sap30_down', 'untreated_Mbd2_up', 'untreated_Mbd2_down', 'untreated_Atad2_up', 'untreated_Ddx21_up', 'untreated_Ddx21_down', 'untreated_Syncrip_down', 'untreated_Irf8_down', 'untreated_Supt16_up', 'untreated_Med8_up', 'untreated_Cul1_up', 'untreated_Med13_up', 'untreated_Ssrp1_up', 'untreated_Sf3b1_up', 'untreated_Ywhae_down', 'untreated_Hdgf_up', 'untreated_Hdgf_down', 'untreated_Sp140_up', 'untreated_Yeats2_up', 'untreated_Yeats2_down', 'untreated_Ywhab_down', 'untreated_Phf11d_up', 'untreated_Phf11d_down', 'untreated_Jak1_down', 'untreated_Top2a_up', 'untreated_Uchl5_up', 'untreated_Uchl5_down', 'untreated_Rbbp7_up', 'untreated_Rbbp7_down', 'untreated_Ctbp1_down', 'untreated_Smarca4_up', 'untreated_Smarca4_down', 'untreated_Npm1_down', 'untreated_Chd8_up', 'untreated_Chd8_down', 'untreated_Med14_up', 'untreated_Med14_down', 'LO28-6h_Spi1_up', 'LO28-6h_Spi1_down', 'LO28-6h_Jmjd1c_up', 'LO28-6h_Dnmt1_up', 'LO28-6h_Dnmt1_down', 'LO28-6h_Smc1a_up', 'LO28-6h_Smc1a_down', 'LO28-6h_Arid1a_up', 'LO28-6h_Arid1a_down', 'LO28-6h_Elp2_up', 'LO28-6h_Taf7_up', 'LO28-6h_Morf4l2_down', 'LO28-6h_Sfpq_up', 'LO28-6h_Sfpq_down', 'LO28-6h_Irf1_down', 'LO28-6h_Ifnar1_up', 'LO28-6h_Ifnar1_down', 'LO28-6h_Ube2d3_up', 'LO28-6h_Ube2d3_down', 'LO28-6h_Ep300_up', 'LO28-6h_Ep300_down', 'LO28-6h_Arid4a_up', 'LO28-6h_Ppm1g_down', 'LO28-6h_Tyk2_down', 'LO28-6h_Myc_down', 'LO28-6h_Ywhaz_down', 'LO28-6h_Ezh1_up', 'LO28-6h_Dtx3l_up', 'LO28-6h_Dtx3l_down', 'LO28-6h_Irf9_up', 'LO28-6h_Irf9_down', 'LO28-6h_Smarca5_up', 'LO28-6h_Smarca5_down', 'LO28-6h_Padi2_up', 'LO28-6h_Chd1_down', 'LO28-6h_Prdm1_up', 'LO28-6h_Yeats4_up', 'LO28-6h_Yeats4_down', 'LO28-6h_Phip_up', 'LO28-6h_Phip_down', 'LO28-6h_Usp16_up', 'LO28-6h_Phf23_up', 'LO28-6h_Rlim_up', 'LO28-6h_Sirt2_up', 'LO28-6h_Sirt2_down', 'LO28-6h_Senp3_up', 'LO28-6h_Irf3_down', 'LO28-6h_Rela_up', 'LO28-6h_Rela_down', 'LO28-6h_Hdac2_up', 'LO28-6h_Hdac2_down', 'LO28-6h_Prmt1_up', 'LO28-6h_Prmt1_down', 'LO28-6h_Ep400_up', 'LO28-6h_Ep400_down', 'LO28-6h_Set_down', 'LO28-6h_Ppp4r2_down', 'LO28-6h_Nap1l1_down', 'LO28-6h_Eid1_up', 'LO28-6h_Anp32b_up', 'LO28-6h_Anp32b_down', 'LO28-6h_Ikzf1_up', 'LO28-6h_Ikzf1_down', 'LO28-6h_Dnttip2_up', 'LO28-6h_Dnttip2_down', 'LO28-6h_Brd7_down', 'LO28-6h_Brd2_up', 'LO28-6h_Brd2_down', 'LO28-6h_Stat2_up', 'LO28-6h_Stat2_down', 'LO28-6h_Myd88_up', 'LO28-6h_Myd88_down', 'LO28-6h_Dot1l_down', 'LO28-6h_Yy1_up', 'LO28-6h_Yy1_down', 'LO28-6h_Pkm_up', 'LO28-6h_Pkm_down', 'LO28-6h_Hp1bp3_down', 'LO28-6h_Csf1r_down', 'LO28-6h_Anp32e_down', 'LO28-6h_Jun_up', 'LO28-6h_Sp110_down', 'LO28-6h_Aebp2_down', 'LO28-6h_Runx1_up', 'LO28-6h_Runx1_down', 'LO28-6h_Chd4_up', 'LO28-6h_Chd4_down', 'LO28-6h_Dek_up', 'LO28-6h_Dek_down', 'LO28-6h_Stat1_up', 'LO28-6h_Stat1_down', 'LO28-6h_Smyd5_up', 'LO28-6h_Sap30_down', 'LO28-6h_Mbd2_up', 'LO28-6h_Mbd2_down', 'LO28-6h_Atad2_up', 'LO28-6h_Ddx21_down', 'LO28-6h_Syncrip_up', 'LO28-6h_Syncrip_down', 'LO28-6h_Cited2_up', 'LO28-6h_Cited2_down', 'LO28-6h_Irf8_up', 'LO28-6h_Irf8_down', 'LO28-6h_Dnajc1_up', 'LO28-6h_Supt16_up', 'LO28-6h_Med8_up', 'LO28-6h_Med8_down', 'LO28-6h_Cul1_up', 'LO28-6h_Ssrp1_up', 'LO28-6h_Kdm7a_up', 'LO28-6h_Ywhae_up', 'LO28-6h_Ywhae_down', 'LO28-6h_Hdgf_down', 'LO28-6h_Yeats2_down', 'LO28-6h_Ywhab_down', 'LO28-6h_Phf11d_down', 'LO28-6h_Jak1_up', 'LO28-6h_Jak1_down', 'LO28-6h_Top2a_up', 'LO28-6h_Uchl5_down', 'LO28-6h_Rbbp7_down', 'LO28-6h_Ctbp1_down', 'LO28-6h_Smarca4_up', 'LO28-6h_Smarca4_down', 'LO28-6h_Npm1_down', 'LO28-6h_Chd8_up', 'LO28-6h_Chd8_down', 'LO28-6h_Med14_up', 'LO28-6h_Med14_down', 'LO28-24h_Mov10_up', 'LO28-24h_Spi1_up', 'LO28-24h_Spi1_down', 'LO28-24h_Jmjd1c_up', 'LO28-24h_Ezh2_up', 'LO28-24h_Dnmt1_up', 'LO28-24h_Smc1a_up', 'LO28-24h_Smc1a_down', 'LO28-24h_Arid1a_up', 'LO28-24h_Arid1a_down', 'LO28-24h_Ifi203_up', 'LO28-24h_Elp2_up', 'LO28-24h_Morf4l2_up', 'LO28-24h_Sfpq_up', 'LO28-24h_Sfpq_down', 'LO28-24h_Irf1_up', 'LO28-24h_Ifnar1_up', 'LO28-24h_Ifnar1_down', 'LO28-24h_Ube2d3_up', 'LO28-24h_Ube2d3_down', 'LO28-24h_Ep300_up', 'LO28-24h_Arid4a_up', 'LO28-24h_Ppm1g_up', 'LO28-24h_Sp100_up', 'LO28-24h_Brd1_up', 'LO28-24h_Kdm5a_up', 'LO28-24h_Tyk2_up', 'LO28-24h_Tyk2_down', 'LO28-24h_Myc_up', 'LO28-24h_Apobec3_up', 'LO28-24h_Ywhaz_up', 'LO28-24h_Ywhaz_down', 'LO28-24h_Ezh1_up', 'LO28-24h_Dtx3l_up', 'LO28-24h_Phf11b_up', 'LO28-24h_Irf9_up', 'LO28-24h_Irf9_down', 'LO28-24h_Smarca5_up', 'LO28-24h_Padi2_up', 'LO28-24h_Chd1_up', 'LO28-24h_Prdm1_up', 'LO28-24h_Yeats4_up', 'LO28-24h_Phip_up', 'LO28-24h_Pcgf5_up', 'LO28-24h_Pbrm1_up', 'LO28-24h_Phf23_up', 'LO28-24h_Rlim_up', 'LO28-24h_Sirt2_up', 'LO28-24h_Sirt2_down', 'LO28-24h_Elp4_up', 'LO28-24h_Kmt2a_up', 'LO28-24h_Irf3_up', 'LO28-24h_Irf3_down', 'LO28-24h_Tlk2_up', 'LO28-24h_Rela_up', 'LO28-24h_Daxx_up', 'LO28-24h_Hdac2_up', 'LO28-24h_Setdb2_up', 'LO28-24h_Ep400_up', 'LO28-24h_Ep400_down', 'LO28-24h_Set_down', 'LO28-24h_Apobec1_up', 'LO28-24h_Smyd3_up', 'LO28-24h_Ppp4r2_up', 'LO28-24h_Smarcc2_up', 'LO28-24h_Anp32b_up', 'LO28-24h_Ikzf1_up', 'LO28-24h_Ikzf1_down', 'LO28-24h_Dnttip2_up', 'LO28-24h_Brd7_up', 'LO28-24h_Brd2_up', 'LO28-24h_Stat2_up', 'LO28-24h_Stat2_down', 'LO28-24h_Myd88_up', 'LO28-24h_Myd88_down', 'LO28-24h_Dot1l_up', 'LO28-24h_Yy1_up', 'LO28-24h_Pkm_down', 'LO28-24h_Hp1bp3_up', 'LO28-24h_Csf1r_up', 'LO28-24h_Anp32e_down', 'LO28-24h_Sp110_up', 'LO28-24h_Gatad1_up', 'LO28-24h_Chd2_up', 'LO28-24h_Chd4_up', 'LO28-24h_Chd4_down', 'LO28-24h_Baz1a_up', 'LO28-24h_Dek_up', 'LO28-24h_Stat1_down', 'LO28-24h_Sap30_down', 'LO28-24h_Mbd2_up', 'LO28-24h_Mbd2_down', 'LO28-24h_Atad2_up', 'LO28-24h_Ddx21_up', 'LO28-24h_Syncrip_up', 'LO28-24h_Cited2_up', 'LO28-24h_Irf8_up', 'LO28-24h_Supt16_up', 'LO28-24h_Med8_up', 'LO28-24h_Med8_down', 'LO28-24h_Cul1_up', 'LO28-24h_Phc2_up', 'LO28-24h_Med13_up', 'LO28-24h_Ssrp1_up', 'LO28-24h_Hdac6_up', 'LO28-24h_Sf3b1_up', 'LO28-24h_Kdm7a_up', 'LO28-24h_Hdgf_up', 'LO28-24h_Sp140_up', 'LO28-24h_Kdm1b_up', 'LO28-24h_Kdm6b_up', 'LO28-24h_Yeats2_up', 'LO28-24h_Yeats2_down', 'LO28-24h_Ywhab_up', 'LO28-24h_Ywhab_down', 'LO28-24h_Phf11d_up', 'LO28-24h_Phf11d_down', 'LO28-24h_Jak1_up', 'LO28-24h_Jak1_down', 'LO28-24h_Top2a_up', 'LO28-24h_Uchl5_up', 'LO28-24h_Rbbp7_up', 'LO28-24h_Rbbp7_down', 'LO28-24h_Ctbp1_up', 'LO28-24h_Smarca4_up', 'LO28-24h_Smarca4_down', 'LO28-24h_Npm1_up', 'LO28-24h_Npm1_down', 'LO28-24h_Chd8_up', 'LO28-24h_Med14_up', 'LO28-24h_Foxp1_up'])"
      ]
     },
     "execution_count": 13,
     "metadata": {},
     "output_type": "execute_result"
    }
   ],
   "source": [
    "# get significant genes per treatment and time point ie group\n",
    "gene_lists = dict()\n",
    "\n",
    "for cond in conditions:\n",
    "    for KO_gene in KO_genes:\n",
    "        tmp_path = os.path.join(dir_base, dea_folder, 'KO150_DEA_RNA_{}_{}.csv'.format(cond, KO_gene))\n",
    "        \n",
    "        if not os.path.isfile(tmp_path):\n",
    "            continue\n",
    "        \n",
    "        # load DEA analysis results\n",
    "        tmp_results = pd.read_csv(tmp_path, index_col=0)\n",
    "        \n",
    "        for direction in ['up','down']:\n",
    "            if direction=='up':\n",
    "                tmp_genes = tmp_results.loc[(tmp_results[pval]<0.05) & (tmp_results['avg_log2FC']>0), ].index.unique()\n",
    "            else:\n",
    "                tmp_genes = tmp_results.loc[(tmp_results[pval]<0.05) & (tmp_results['avg_log2FC']<0), ].index.unique()\n",
    "        \n",
    "            if len(tmp_genes)==0:\n",
    "                continue\n",
    "            \n",
    "            gene_lists[cond+\"_\"+KO_gene+\"_\"+direction] = tmp_genes\n",
    "\n",
    "print(len(gene_lists.keys()))        \n",
    "gene_lists.keys()"
   ]
  },
  {
   "cell_type": "code",
   "execution_count": 14,
   "id": "be9f3704",
   "metadata": {},
   "outputs": [],
   "source": [
    "# convert gene IDs to symbols, and upper-case\n",
    "for key in gene_lists.keys():\n",
    "    gene_lists[key] = list(gene_lists[key])\n",
    "    gene_lists[key] = [str(x).upper() for x in list(gene_lists[key])]"
   ]
  },
  {
   "cell_type": "code",
   "execution_count": 15,
   "id": "1b22aac5",
   "metadata": {
    "tags": []
   },
   "outputs": [
    {
     "name": "stderr",
     "output_type": "stream",
     "text": [
      "/nobackup/lab_bock/users/sreichl/miniconda3/envs/enrichment_analysis/lib/python3.9/site-packages/urllib3/connectionpool.py:1013: InsecureRequestWarning: Unverified HTTPS request is being made to host 'maayanlab.cloud'. Adding certificate verification is strongly advised. See: https://urllib3.readthedocs.io/en/1.26.x/advanced-usage.html#ssl-warnings\n",
      "  warnings.warn(\n",
      "/nobackup/lab_bock/users/sreichl/miniconda3/envs/enrichment_analysis/lib/python3.9/site-packages/urllib3/connectionpool.py:1013: InsecureRequestWarning: Unverified HTTPS request is being made to host 'maayanlab.cloud'. Adding certificate verification is strongly advised. See: https://urllib3.readthedocs.io/en/1.26.x/advanced-usage.html#ssl-warnings\n",
      "  warnings.warn(\n",
      "/nobackup/lab_bock/users/sreichl/miniconda3/envs/enrichment_analysis/lib/python3.9/site-packages/urllib3/connectionpool.py:1013: InsecureRequestWarning: Unverified HTTPS request is being made to host 'maayanlab.cloud'. Adding certificate verification is strongly advised. See: https://urllib3.readthedocs.io/en/1.26.x/advanced-usage.html#ssl-warnings\n",
      "  warnings.warn(\n",
      "/nobackup/lab_bock/users/sreichl/miniconda3/envs/enrichment_analysis/lib/python3.9/site-packages/urllib3/connectionpool.py:1013: InsecureRequestWarning: Unverified HTTPS request is being made to host 'maayanlab.cloud'. Adding certificate verification is strongly advised. See: https://urllib3.readthedocs.io/en/1.26.x/advanced-usage.html#ssl-warnings\n",
      "  warnings.warn(\n"
     ]
    },
    {
     "name": "stdout",
     "output_type": "stream",
     "text": [
      "BioPlanet_2019\n"
     ]
    },
    {
     "name": "stderr",
     "output_type": "stream",
     "text": [
      "2021-12-28 17:37:34,243 Warning: No enrich terms using library CUSTOM46914635961920 when cutoff = 0.05\n",
      "WARNING:gseapy:Warning: No enrich terms using library CUSTOM46914635961920 when cutoff = 0.05\n",
      "2021-12-28 17:37:34,967 Warning: No enrich terms using library CUSTOM46914635961920 when cutoff = 0.05\n",
      "WARNING:gseapy:Warning: No enrich terms using library CUSTOM46914635961920 when cutoff = 0.05\n",
      "2021-12-28 17:37:46,521 Warning: No enrich terms using library CUSTOM46914635961920 when cutoff = 0.05\n",
      "WARNING:gseapy:Warning: No enrich terms using library CUSTOM46914635961920 when cutoff = 0.05\n",
      "2021-12-28 17:37:56,744 Warning: No enrich terms using library CUSTOM46914635961920 when cutoff = 0.05\n",
      "WARNING:gseapy:Warning: No enrich terms using library CUSTOM46914635961920 when cutoff = 0.05\n",
      "2021-12-28 17:38:03,577 Warning: No enrich terms using library CUSTOM46914635961920 when cutoff = 0.05\n",
      "WARNING:gseapy:Warning: No enrich terms using library CUSTOM46914635961920 when cutoff = 0.05\n",
      "2021-12-28 17:38:06,933 Warning: No enrich terms using library CUSTOM46914635961920 when cutoff = 0.05\n",
      "WARNING:gseapy:Warning: No enrich terms using library CUSTOM46914635961920 when cutoff = 0.05\n",
      "2021-12-28 17:38:07,490 Warning: No enrich terms using library CUSTOM46914635961920 when cutoff = 0.05\n",
      "WARNING:gseapy:Warning: No enrich terms using library CUSTOM46914635961920 when cutoff = 0.05\n",
      "2021-12-28 17:38:10,517 Warning: No enrich terms using library CUSTOM46914635961920 when cutoff = 0.05\n",
      "WARNING:gseapy:Warning: No enrich terms using library CUSTOM46914635961920 when cutoff = 0.05\n",
      "2021-12-28 17:38:13,164 Warning: No enrich terms using library CUSTOM46914635961920 when cutoff = 0.05\n",
      "WARNING:gseapy:Warning: No enrich terms using library CUSTOM46914635961920 when cutoff = 0.05\n",
      "2021-12-28 17:38:15,187 Warning: No enrich terms using library CUSTOM46914635961920 when cutoff = 0.05\n",
      "WARNING:gseapy:Warning: No enrich terms using library CUSTOM46914635961920 when cutoff = 0.05\n",
      "2021-12-28 17:38:15,320 Warning: No enrich terms using library CUSTOM46914635961920 when cutoff = 0.05\n",
      "WARNING:gseapy:Warning: No enrich terms using library CUSTOM46914635961920 when cutoff = 0.05\n",
      "2021-12-28 17:38:17,918 Warning: No enrich terms using library CUSTOM46914635961920 when cutoff = 0.05\n",
      "WARNING:gseapy:Warning: No enrich terms using library CUSTOM46914635961920 when cutoff = 0.05\n",
      "2021-12-28 17:38:18,097 Warning: No enrich terms using library CUSTOM46914635961920 when cutoff = 0.05\n",
      "WARNING:gseapy:Warning: No enrich terms using library CUSTOM46914635961920 when cutoff = 0.05\n",
      "2021-12-28 17:38:19,310 Warning: No enrich terms using library CUSTOM46914635961920 when cutoff = 0.05\n",
      "WARNING:gseapy:Warning: No enrich terms using library CUSTOM46914635961920 when cutoff = 0.05\n",
      "2021-12-28 17:38:20,516 Warning: No enrich terms using library CUSTOM46914635961920 when cutoff = 0.05\n",
      "WARNING:gseapy:Warning: No enrich terms using library CUSTOM46914635961920 when cutoff = 0.05\n",
      "2021-12-28 17:38:25,337 Warning: No enrich terms using library CUSTOM46914635961920 when cutoff = 0.05\n",
      "WARNING:gseapy:Warning: No enrich terms using library CUSTOM46914635961920 when cutoff = 0.05\n",
      "2021-12-28 17:38:25,383 Warning: No enrich terms using library CUSTOM46914635961920 when cutoff = 0.05\n",
      "WARNING:gseapy:Warning: No enrich terms using library CUSTOM46914635961920 when cutoff = 0.05\n",
      "2021-12-28 17:38:32,222 Warning: No enrich terms using library CUSTOM46914635961920 when cutoff = 0.05\n",
      "WARNING:gseapy:Warning: No enrich terms using library CUSTOM46914635961920 when cutoff = 0.05\n",
      "2021-12-28 17:38:33,696 Warning: No enrich terms using library CUSTOM46914635961920 when cutoff = 0.05\n",
      "WARNING:gseapy:Warning: No enrich terms using library CUSTOM46914635961920 when cutoff = 0.05\n",
      "2021-12-28 17:38:37,978 Warning: No enrich terms using library CUSTOM46914635961920 when cutoff = 0.05\n",
      "WARNING:gseapy:Warning: No enrich terms using library CUSTOM46914635961920 when cutoff = 0.05\n",
      "2021-12-28 17:38:38,041 Warning: No enrich terms using library CUSTOM46914635961920 when cutoff = 0.05\n",
      "WARNING:gseapy:Warning: No enrich terms using library CUSTOM46914635961920 when cutoff = 0.05\n",
      "2021-12-28 17:38:39,794 Warning: No enrich terms using library CUSTOM46914635961920 when cutoff = 0.05\n",
      "WARNING:gseapy:Warning: No enrich terms using library CUSTOM46914635961920 when cutoff = 0.05\n",
      "2021-12-28 17:38:41,172 Warning: No enrich terms using library CUSTOM46914635961920 when cutoff = 0.05\n",
      "WARNING:gseapy:Warning: No enrich terms using library CUSTOM46914635961920 when cutoff = 0.05\n",
      "2021-12-28 17:38:41,780 Warning: No enrich terms using library CUSTOM46914635961920 when cutoff = 0.05\n",
      "WARNING:gseapy:Warning: No enrich terms using library CUSTOM46914635961920 when cutoff = 0.05\n",
      "2021-12-28 17:38:43,977 Warning: No enrich terms using library CUSTOM46914635961920 when cutoff = 0.05\n",
      "WARNING:gseapy:Warning: No enrich terms using library CUSTOM46914635961920 when cutoff = 0.05\n",
      "2021-12-28 17:38:45,500 Warning: No enrich terms using library CUSTOM46914635961920 when cutoff = 0.05\n",
      "WARNING:gseapy:Warning: No enrich terms using library CUSTOM46914635961920 when cutoff = 0.05\n"
     ]
    },
    {
     "name": "stdout",
     "output_type": "stream",
     "text": [
      "KEGG_2019_Mouse\n"
     ]
    },
    {
     "name": "stderr",
     "output_type": "stream",
     "text": [
      "2021-12-28 17:38:46,963 Warning: No enrich terms using library CUSTOM46916344616448 when cutoff = 0.05\n",
      "WARNING:gseapy:Warning: No enrich terms using library CUSTOM46916344616448 when cutoff = 0.05\n",
      "2021-12-28 17:38:47,338 Warning: No enrich terms using library CUSTOM46916344616448 when cutoff = 0.05\n",
      "WARNING:gseapy:Warning: No enrich terms using library CUSTOM46916344616448 when cutoff = 0.05\n",
      "2021-12-28 17:38:48,796 Warning: No enrich terms using library CUSTOM46916344616448 when cutoff = 0.05\n",
      "WARNING:gseapy:Warning: No enrich terms using library CUSTOM46916344616448 when cutoff = 0.05\n",
      "2021-12-28 17:38:48,832 Warning: No enrich terms using library CUSTOM46916344616448 when cutoff = 0.05\n",
      "WARNING:gseapy:Warning: No enrich terms using library CUSTOM46916344616448 when cutoff = 0.05\n",
      "2021-12-28 17:38:52,481 Warning: No enrich terms using library CUSTOM46916344616448 when cutoff = 0.05\n",
      "WARNING:gseapy:Warning: No enrich terms using library CUSTOM46916344616448 when cutoff = 0.05\n",
      "2021-12-28 17:38:55,051 Warning: No enrich terms using library CUSTOM46916344616448 when cutoff = 0.05\n",
      "WARNING:gseapy:Warning: No enrich terms using library CUSTOM46916344616448 when cutoff = 0.05\n",
      "2021-12-28 17:38:57,291 Warning: No enrich terms using library CUSTOM46916344616448 when cutoff = 0.05\n",
      "WARNING:gseapy:Warning: No enrich terms using library CUSTOM46916344616448 when cutoff = 0.05\n",
      "2021-12-28 17:38:57,323 Warning: No enrich terms using library CUSTOM46916344616448 when cutoff = 0.05\n",
      "WARNING:gseapy:Warning: No enrich terms using library CUSTOM46916344616448 when cutoff = 0.05\n",
      "2021-12-28 17:38:59,834 Warning: No enrich terms using library CUSTOM46916344616448 when cutoff = 0.05\n",
      "WARNING:gseapy:Warning: No enrich terms using library CUSTOM46916344616448 when cutoff = 0.05\n",
      "2021-12-28 17:39:00,909 Warning: No enrich terms using library CUSTOM46916344616448 when cutoff = 0.05\n",
      "WARNING:gseapy:Warning: No enrich terms using library CUSTOM46916344616448 when cutoff = 0.05\n",
      "2021-12-28 17:39:00,977 Warning: No enrich terms using library CUSTOM46916344616448 when cutoff = 0.05\n",
      "WARNING:gseapy:Warning: No enrich terms using library CUSTOM46916344616448 when cutoff = 0.05\n",
      "2021-12-28 17:39:04,103 Warning: No enrich terms using library CUSTOM46916344616448 when cutoff = 0.05\n",
      "WARNING:gseapy:Warning: No enrich terms using library CUSTOM46916344616448 when cutoff = 0.05\n",
      "2021-12-28 17:39:07,243 Warning: No enrich terms using library CUSTOM46916344616448 when cutoff = 0.05\n",
      "WARNING:gseapy:Warning: No enrich terms using library CUSTOM46916344616448 when cutoff = 0.05\n",
      "2021-12-28 17:39:07,284 Warning: No enrich terms using library CUSTOM46916344616448 when cutoff = 0.05\n",
      "WARNING:gseapy:Warning: No enrich terms using library CUSTOM46916344616448 when cutoff = 0.05\n",
      "2021-12-28 17:39:09,624 Warning: No enrich terms using library CUSTOM46916344616448 when cutoff = 0.05\n",
      "WARNING:gseapy:Warning: No enrich terms using library CUSTOM46916344616448 when cutoff = 0.05\n",
      "2021-12-28 17:39:10,321 Warning: No enrich terms using library CUSTOM46916344616448 when cutoff = 0.05\n",
      "WARNING:gseapy:Warning: No enrich terms using library CUSTOM46916344616448 when cutoff = 0.05\n",
      "2021-12-28 17:39:11,901 Warning: No enrich terms using library CUSTOM46916344616448 when cutoff = 0.05\n",
      "WARNING:gseapy:Warning: No enrich terms using library CUSTOM46916344616448 when cutoff = 0.05\n",
      "2021-12-28 17:39:11,958 Warning: No enrich terms using library CUSTOM46916344616448 when cutoff = 0.05\n",
      "WARNING:gseapy:Warning: No enrich terms using library CUSTOM46916344616448 when cutoff = 0.05\n",
      "2021-12-28 17:39:13,843 Warning: No enrich terms using library CUSTOM46916344616448 when cutoff = 0.05\n",
      "WARNING:gseapy:Warning: No enrich terms using library CUSTOM46916344616448 when cutoff = 0.05\n",
      "2021-12-28 17:39:13,868 Warning: No enrich terms using library CUSTOM46916344616448 when cutoff = 0.05\n",
      "WARNING:gseapy:Warning: No enrich terms using library CUSTOM46916344616448 when cutoff = 0.05\n",
      "2021-12-28 17:39:13,911 Warning: No enrich terms using library CUSTOM46916344616448 when cutoff = 0.05\n",
      "WARNING:gseapy:Warning: No enrich terms using library CUSTOM46916344616448 when cutoff = 0.05\n",
      "2021-12-28 17:39:14,440 Warning: No enrich terms using library CUSTOM46916344616448 when cutoff = 0.05\n",
      "WARNING:gseapy:Warning: No enrich terms using library CUSTOM46916344616448 when cutoff = 0.05\n",
      "2021-12-28 17:39:18,132 Warning: No enrich terms using library CUSTOM46916344616448 when cutoff = 0.05\n",
      "WARNING:gseapy:Warning: No enrich terms using library CUSTOM46916344616448 when cutoff = 0.05\n",
      "2021-12-28 17:39:19,042 Warning: No enrich terms using library CUSTOM46916344616448 when cutoff = 0.05\n",
      "WARNING:gseapy:Warning: No enrich terms using library CUSTOM46916344616448 when cutoff = 0.05\n",
      "2021-12-28 17:39:22,707 Warning: No enrich terms using library CUSTOM46916344616448 when cutoff = 0.05\n",
      "WARNING:gseapy:Warning: No enrich terms using library CUSTOM46916344616448 when cutoff = 0.05\n",
      "2021-12-28 17:39:22,723 Warning: No enrich terms using library CUSTOM46916344616448 when cutoff = 0.05\n",
      "WARNING:gseapy:Warning: No enrich terms using library CUSTOM46916344616448 when cutoff = 0.05\n",
      "2021-12-28 17:39:24,242 Warning: No enrich terms using library CUSTOM46916344616448 when cutoff = 0.05\n",
      "WARNING:gseapy:Warning: No enrich terms using library CUSTOM46916344616448 when cutoff = 0.05\n",
      "2021-12-28 17:39:24,719 Warning: No enrich terms using library CUSTOM46916344616448 when cutoff = 0.05\n",
      "WARNING:gseapy:Warning: No enrich terms using library CUSTOM46916344616448 when cutoff = 0.05\n",
      "2021-12-28 17:39:25,280 Warning: No enrich terms using library CUSTOM46916344616448 when cutoff = 0.05\n",
      "WARNING:gseapy:Warning: No enrich terms using library CUSTOM46916344616448 when cutoff = 0.05\n",
      "2021-12-28 17:39:25,949 Warning: No enrich terms using library CUSTOM46916344616448 when cutoff = 0.05\n",
      "WARNING:gseapy:Warning: No enrich terms using library CUSTOM46916344616448 when cutoff = 0.05\n",
      "2021-12-28 17:39:26,330 Warning: No enrich terms using library CUSTOM46916344616448 when cutoff = 0.05\n",
      "WARNING:gseapy:Warning: No enrich terms using library CUSTOM46916344616448 when cutoff = 0.05\n",
      "2021-12-28 17:39:27,052 Warning: No enrich terms using library CUSTOM46916344616448 when cutoff = 0.05\n",
      "WARNING:gseapy:Warning: No enrich terms using library CUSTOM46916344616448 when cutoff = 0.05\n",
      "2021-12-28 17:39:27,082 Warning: No enrich terms using library CUSTOM46916344616448 when cutoff = 0.05\n",
      "WARNING:gseapy:Warning: No enrich terms using library CUSTOM46916344616448 when cutoff = 0.05\n",
      "2021-12-28 17:39:28,527 Warning: No enrich terms using library CUSTOM46916344616448 when cutoff = 0.05\n",
      "WARNING:gseapy:Warning: No enrich terms using library CUSTOM46916344616448 when cutoff = 0.05\n",
      "2021-12-28 17:39:28,662 Warning: No enrich terms using library CUSTOM46916344616448 when cutoff = 0.05\n",
      "WARNING:gseapy:Warning: No enrich terms using library CUSTOM46916344616448 when cutoff = 0.05\n",
      "2021-12-28 17:39:31,229 Warning: No enrich terms using library CUSTOM46916344616448 when cutoff = 0.05\n",
      "WARNING:gseapy:Warning: No enrich terms using library CUSTOM46916344616448 when cutoff = 0.05\n"
     ]
    },
    {
     "name": "stdout",
     "output_type": "stream",
     "text": [
      "WikiPathways_2019_Mouse\n"
     ]
    },
    {
     "name": "stderr",
     "output_type": "stream",
     "text": [
      "2021-12-28 17:39:32,995 Warning: No enrich terms using library CUSTOM46914698291008 when cutoff = 0.05\n",
      "WARNING:gseapy:Warning: No enrich terms using library CUSTOM46914698291008 when cutoff = 0.05\n",
      "2021-12-28 17:39:33,304 Warning: No enrich terms using library CUSTOM46914698291008 when cutoff = 0.05\n",
      "WARNING:gseapy:Warning: No enrich terms using library CUSTOM46914698291008 when cutoff = 0.05\n",
      "2021-12-28 17:39:38,041 Warning: No enrich terms using library CUSTOM46914698291008 when cutoff = 0.05\n",
      "WARNING:gseapy:Warning: No enrich terms using library CUSTOM46914698291008 when cutoff = 0.05\n",
      "2021-12-28 17:39:39,088 Warning: No enrich terms using library CUSTOM46914698291008 when cutoff = 0.05\n",
      "WARNING:gseapy:Warning: No enrich terms using library CUSTOM46914698291008 when cutoff = 0.05\n",
      "2021-12-28 17:39:44,520 Warning: No enrich terms using library CUSTOM46914698291008 when cutoff = 0.05\n",
      "WARNING:gseapy:Warning: No enrich terms using library CUSTOM46914698291008 when cutoff = 0.05\n",
      "2021-12-28 17:39:53,050 Warning: No enrich terms using library CUSTOM46914698291008 when cutoff = 0.05\n",
      "WARNING:gseapy:Warning: No enrich terms using library CUSTOM46914698291008 when cutoff = 0.05\n",
      "2021-12-28 17:39:55,275 Warning: No enrich terms using library CUSTOM46914698291008 when cutoff = 0.05\n",
      "WARNING:gseapy:Warning: No enrich terms using library CUSTOM46914698291008 when cutoff = 0.05\n",
      "2021-12-28 17:39:56,028 Warning: No enrich terms using library CUSTOM46914698291008 when cutoff = 0.05\n",
      "WARNING:gseapy:Warning: No enrich terms using library CUSTOM46914698291008 when cutoff = 0.05\n",
      "2021-12-28 17:39:58,468 Warning: No enrich terms using library CUSTOM46914698291008 when cutoff = 0.05\n",
      "WARNING:gseapy:Warning: No enrich terms using library CUSTOM46914698291008 when cutoff = 0.05\n",
      "2021-12-28 17:39:58,496 Warning: No enrich terms using library CUSTOM46914698291008 when cutoff = 0.05\n",
      "WARNING:gseapy:Warning: No enrich terms using library CUSTOM46914698291008 when cutoff = 0.05\n",
      "2021-12-28 17:39:58,512 Warning: No enrich terms using library CUSTOM46914698291008 when cutoff = 0.05\n",
      "WARNING:gseapy:Warning: No enrich terms using library CUSTOM46914698291008 when cutoff = 0.05\n",
      "2021-12-28 17:40:02,131 Warning: No enrich terms using library CUSTOM46914698291008 when cutoff = 0.05\n",
      "WARNING:gseapy:Warning: No enrich terms using library CUSTOM46914698291008 when cutoff = 0.05\n",
      "2021-12-28 17:40:03,309 Warning: No enrich terms using library CUSTOM46914698291008 when cutoff = 0.05\n",
      "WARNING:gseapy:Warning: No enrich terms using library CUSTOM46914698291008 when cutoff = 0.05\n",
      "2021-12-28 17:40:04,451 Warning: No enrich terms using library CUSTOM46914698291008 when cutoff = 0.05\n",
      "WARNING:gseapy:Warning: No enrich terms using library CUSTOM46914698291008 when cutoff = 0.05\n",
      "2021-12-28 17:40:07,937 Warning: No enrich terms using library CUSTOM46914698291008 when cutoff = 0.05\n",
      "WARNING:gseapy:Warning: No enrich terms using library CUSTOM46914698291008 when cutoff = 0.05\n"
     ]
    },
    {
     "name": "stdout",
     "output_type": "stream",
     "text": [
      "GO_Biological_Process_2021\n"
     ]
    },
    {
     "name": "stderr",
     "output_type": "stream",
     "text": [
      "2021-12-28 17:40:31,792 Warning: No enrich terms using library CUSTOM46914709406912 when cutoff = 0.05\n",
      "WARNING:gseapy:Warning: No enrich terms using library CUSTOM46914709406912 when cutoff = 0.05\n",
      "2021-12-28 17:40:42,345 Warning: No enrich terms using library CUSTOM46914709406912 when cutoff = 0.05\n",
      "WARNING:gseapy:Warning: No enrich terms using library CUSTOM46914709406912 when cutoff = 0.05\n",
      "2021-12-28 17:40:55,302 Warning: No enrich terms using library CUSTOM46914709406912 when cutoff = 0.05\n",
      "WARNING:gseapy:Warning: No enrich terms using library CUSTOM46914709406912 when cutoff = 0.05\n",
      "2021-12-28 17:41:40,451 Warning: No enrich terms using library CUSTOM46914709406912 when cutoff = 0.05\n",
      "WARNING:gseapy:Warning: No enrich terms using library CUSTOM46914709406912 when cutoff = 0.05\n",
      "2021-12-28 17:41:42,321 Warning: No enrich terms using library CUSTOM46914709406912 when cutoff = 0.05\n",
      "WARNING:gseapy:Warning: No enrich terms using library CUSTOM46914709406912 when cutoff = 0.05\n",
      "2021-12-28 17:41:51,636 Warning: No enrich terms using library CUSTOM46914709406912 when cutoff = 0.05\n",
      "WARNING:gseapy:Warning: No enrich terms using library CUSTOM46914709406912 when cutoff = 0.05\n",
      "2021-12-28 17:41:54,420 Warning: No enrich terms using library CUSTOM46914709406912 when cutoff = 0.05\n",
      "WARNING:gseapy:Warning: No enrich terms using library CUSTOM46914709406912 when cutoff = 0.05\n",
      "2021-12-28 17:42:12,884 Warning: No enrich terms using library CUSTOM46914709406912 when cutoff = 0.05\n",
      "WARNING:gseapy:Warning: No enrich terms using library CUSTOM46914709406912 when cutoff = 0.05\n",
      "2021-12-28 17:42:15,813 Warning: No enrich terms using library CUSTOM46914709406912 when cutoff = 0.05\n",
      "WARNING:gseapy:Warning: No enrich terms using library CUSTOM46914709406912 when cutoff = 0.05\n",
      "2021-12-28 17:42:33,925 Warning: No enrich terms using library CUSTOM46914709406912 when cutoff = 0.05\n",
      "WARNING:gseapy:Warning: No enrich terms using library CUSTOM46914709406912 when cutoff = 0.05\n",
      "2021-12-28 17:42:34,457 Warning: No enrich terms using library CUSTOM46914709406912 when cutoff = 0.05\n",
      "WARNING:gseapy:Warning: No enrich terms using library CUSTOM46914709406912 when cutoff = 0.05\n",
      "2021-12-28 17:42:37,835 Warning: No enrich terms using library CUSTOM46914709406912 when cutoff = 0.05\n",
      "WARNING:gseapy:Warning: No enrich terms using library CUSTOM46914709406912 when cutoff = 0.05\n",
      "2021-12-28 17:42:42,575 Warning: No enrich terms using library CUSTOM46914709406912 when cutoff = 0.05\n",
      "WARNING:gseapy:Warning: No enrich terms using library CUSTOM46914709406912 when cutoff = 0.05\n",
      "2021-12-28 17:42:45,335 Warning: No enrich terms using library CUSTOM46914709406912 when cutoff = 0.05\n",
      "WARNING:gseapy:Warning: No enrich terms using library CUSTOM46914709406912 when cutoff = 0.05\n",
      "2021-12-28 17:42:46,875 Warning: No enrich terms using library CUSTOM46914709406912 when cutoff = 0.05\n",
      "WARNING:gseapy:Warning: No enrich terms using library CUSTOM46914709406912 when cutoff = 0.05\n"
     ]
    },
    {
     "name": "stdout",
     "output_type": "stream",
     "text": [
      "BioPlanet_2019 926\n",
      "KEGG_2019_Mouse 233\n",
      "WikiPathways_2019_Mouse 128\n",
      "GO_Biological_Process_2021 3216\n"
     ]
    }
   ],
   "source": [
    "util_GSEApy.do_enrichment_all(gene_lists=gene_lists, \n",
    "                  background=background, \n",
    "                  databases=databases, \n",
    "                  databases_strict=databases_strict, \n",
    "                  adj_pvalue=adj_pvalue, \n",
    "                  adj_pvalue_strict=adj_pvalue_strict, \n",
    "                  dir_results=os.path.join(dir_results,dea_folder),\n",
    "                  top_n=top_n\n",
    "                 )"
   ]
  },
  {
   "cell_type": "markdown",
   "id": "203c4c74",
   "metadata": {},
   "source": [
    "## DEA analysis within KOs between conditions"
   ]
  },
  {
   "cell_type": "code",
   "execution_count": 16,
   "id": "5e3574ed",
   "metadata": {},
   "outputs": [],
   "source": [
    "if mixscape:\n",
    "    dea_folder = 'DEA_KO_mixscape'\n",
    "    top_n = 3\n",
    "else:\n",
    "    dea_folder = 'DEA_KO'\n",
    "    top_n = 1"
   ]
  },
  {
   "cell_type": "code",
   "execution_count": 19,
   "id": "45816d7d",
   "metadata": {},
   "outputs": [
    {
     "name": "stdout",
     "output_type": "stream",
     "text": [
      "86\n"
     ]
    },
    {
     "data": {
      "text/plain": [
       "dict_keys(['Spi1_LO28-6h_untreated_up', 'Spi1_LO28-6h_untreated_down', 'Spi1_LO28-24h_untreated_up', 'Spi1_LO28-24h_untreated_down', 'Spi1_LO28-24h_LO28-6h_up', 'Spi1_LO28-24h_LO28-6h_down', 'Dnmt1_LO28-6h_untreated_up', 'Dnmt1_LO28-6h_untreated_down', 'Smc1a_LO28-6h_untreated_up', 'Smc1a_LO28-6h_untreated_down', 'Smc1a_LO28-24h_untreated_up', 'Smc1a_LO28-24h_untreated_down', 'Smc1a_LO28-24h_LO28-6h_up', 'Smc1a_LO28-24h_LO28-6h_down', 'Arid1a_LO28-6h_untreated_up', 'Arid1a_LO28-6h_untreated_down', 'Sfpq_LO28-6h_untreated_up', 'Sfpq_LO28-6h_untreated_down', 'Sfpq_LO28-24h_untreated_up', 'Sfpq_LO28-24h_untreated_down', 'Sfpq_LO28-24h_LO28-6h_up', 'Sfpq_LO28-24h_LO28-6h_down', 'Ifnar1_LO28-6h_untreated_up', 'Ifnar1_LO28-6h_untreated_down', 'Ifnar1_LO28-24h_untreated_up', 'Ifnar1_LO28-24h_untreated_down', 'Ifnar1_LO28-24h_LO28-6h_up', 'Ifnar1_LO28-24h_LO28-6h_down', 'Ep300_LO28-6h_untreated_up', 'Ep300_LO28-6h_untreated_down', 'Tyk2_LO28-24h_untreated_up', 'Tyk2_LO28-24h_untreated_down', 'Irf9_LO28-6h_untreated_up', 'Irf9_LO28-6h_untreated_down', 'Irf9_LO28-24h_untreated_up', 'Irf9_LO28-24h_untreated_down', 'Irf9_LO28-24h_LO28-6h_up', 'Irf9_LO28-24h_LO28-6h_down', 'Ep400_LO28-6h_untreated_up', 'Ep400_LO28-6h_untreated_down', 'Ep400_LO28-24h_untreated_up', 'Ep400_LO28-24h_untreated_down', 'Ep400_LO28-24h_LO28-6h_up', 'Ep400_LO28-24h_LO28-6h_down', 'Ikzf1_LO28-6h_untreated_up', 'Ikzf1_LO28-6h_untreated_down', 'Ikzf1_LO28-24h_untreated_up', 'Ikzf1_LO28-24h_untreated_down', 'Ikzf1_LO28-24h_LO28-6h_up', 'Ikzf1_LO28-24h_LO28-6h_down', 'Dnttip2_LO28-6h_untreated_up', 'Dnttip2_LO28-6h_untreated_down', 'Brd2_LO28-6h_untreated_up', 'Brd2_LO28-6h_untreated_down', 'Stat2_LO28-6h_untreated_up', 'Stat2_LO28-6h_untreated_down', 'Stat2_LO28-24h_untreated_up', 'Stat2_LO28-24h_untreated_down', 'Stat2_LO28-24h_LO28-6h_up', 'Stat2_LO28-24h_LO28-6h_down', 'Myd88_LO28-24h_LO28-6h_up', 'Myd88_LO28-24h_LO28-6h_down', 'Runx1_LO28-6h_untreated_up', 'Runx1_LO28-6h_untreated_down', 'Chd4_LO28-6h_untreated_up', 'Chd4_LO28-6h_untreated_down', 'Chd4_LO28-24h_untreated_up', 'Chd4_LO28-24h_untreated_down', 'Chd4_LO28-24h_LO28-6h_up', 'Chd4_LO28-24h_LO28-6h_down', 'Yeats2_LO28-6h_untreated_up', 'Yeats2_LO28-6h_untreated_down', 'Jak1_LO28-6h_untreated_up', 'Jak1_LO28-6h_untreated_down', 'Jak1_LO28-24h_untreated_up', 'Jak1_LO28-24h_untreated_down', 'Jak1_LO28-24h_LO28-6h_up', 'Jak1_LO28-24h_LO28-6h_down', 'Med14_LO28-6h_untreated_up', 'Med14_LO28-6h_untreated_down', 'NonTargeting_LO28-6h_untreated_up', 'NonTargeting_LO28-6h_untreated_down', 'NonTargeting_LO28-24h_untreated_up', 'NonTargeting_LO28-24h_untreated_down', 'NonTargeting_LO28-24h_LO28-6h_up', 'NonTargeting_LO28-24h_LO28-6h_down'])"
      ]
     },
     "execution_count": 19,
     "metadata": {},
     "output_type": "execute_result"
    }
   ],
   "source": [
    "# get significant genes per treatment and time point ie group\n",
    "gene_lists = dict()\n",
    "\n",
    "for KO_gene in KO_genes+['NonTargeting']:\n",
    "    for cond1 in conditions[:len(conditions)-1]:\n",
    "        for cond2 in conditions[conditions.index(cond1)+1:len(conditions)]:\n",
    "\n",
    "            tmp_path = os.path.join(dir_base, dea_folder, 'KO150_DEA_RNA_{}_{}_{}.csv'.format(KO_gene, cond2, cond1))\n",
    "\n",
    "            if not os.path.isfile(tmp_path):\n",
    "                continue\n",
    "            \n",
    "            # load DEA analysis results\n",
    "            tmp_results = pd.read_csv(tmp_path, index_col=0)\n",
    "\n",
    "            for direction in ['up','down']:\n",
    "                if direction=='up':\n",
    "                    tmp_genes = tmp_results.loc[(tmp_results[pval]<0.05) & (tmp_results['avg_log2FC']>0), ].index.unique()\n",
    "                else:\n",
    "                    tmp_genes = tmp_results.loc[(tmp_results[pval]<0.05) & (tmp_results['avg_log2FC']<0), ].index.unique()\n",
    "\n",
    "                if len(tmp_genes)==0:\n",
    "                    continue\n",
    "\n",
    "                gene_lists[KO_gene+\"_\"+cond2+\"_\"+cond1+\"_\"+direction] = tmp_genes\n",
    "\n",
    "print(len(gene_lists.keys()))        \n",
    "gene_lists.keys()"
   ]
  },
  {
   "cell_type": "code",
   "execution_count": 20,
   "id": "7cd668fb",
   "metadata": {},
   "outputs": [],
   "source": [
    "# convert gene IDs to symbols, and upper-case\n",
    "for key in gene_lists.keys():\n",
    "    gene_lists[key] = list(gene_lists[key])\n",
    "    gene_lists[key] = [str(x).upper() for x in list(gene_lists[key])]"
   ]
  },
  {
   "cell_type": "code",
   "execution_count": 21,
   "id": "c3160fb1",
   "metadata": {
    "tags": []
   },
   "outputs": [
    {
     "name": "stderr",
     "output_type": "stream",
     "text": [
      "/nobackup/lab_bock/users/sreichl/miniconda3/envs/enrichment_analysis/lib/python3.9/site-packages/urllib3/connectionpool.py:1013: InsecureRequestWarning: Unverified HTTPS request is being made to host 'maayanlab.cloud'. Adding certificate verification is strongly advised. See: https://urllib3.readthedocs.io/en/1.26.x/advanced-usage.html#ssl-warnings\n",
      "  warnings.warn(\n",
      "/nobackup/lab_bock/users/sreichl/miniconda3/envs/enrichment_analysis/lib/python3.9/site-packages/urllib3/connectionpool.py:1013: InsecureRequestWarning: Unverified HTTPS request is being made to host 'maayanlab.cloud'. Adding certificate verification is strongly advised. See: https://urllib3.readthedocs.io/en/1.26.x/advanced-usage.html#ssl-warnings\n",
      "  warnings.warn(\n",
      "/nobackup/lab_bock/users/sreichl/miniconda3/envs/enrichment_analysis/lib/python3.9/site-packages/urllib3/connectionpool.py:1013: InsecureRequestWarning: Unverified HTTPS request is being made to host 'maayanlab.cloud'. Adding certificate verification is strongly advised. See: https://urllib3.readthedocs.io/en/1.26.x/advanced-usage.html#ssl-warnings\n",
      "  warnings.warn(\n",
      "/nobackup/lab_bock/users/sreichl/miniconda3/envs/enrichment_analysis/lib/python3.9/site-packages/urllib3/connectionpool.py:1013: InsecureRequestWarning: Unverified HTTPS request is being made to host 'maayanlab.cloud'. Adding certificate verification is strongly advised. See: https://urllib3.readthedocs.io/en/1.26.x/advanced-usage.html#ssl-warnings\n",
      "  warnings.warn(\n"
     ]
    },
    {
     "name": "stdout",
     "output_type": "stream",
     "text": [
      "BioPlanet_2019\n"
     ]
    },
    {
     "name": "stderr",
     "output_type": "stream",
     "text": [
      "2022-02-03 15:54:28,262 Warning: No enrich terms using library CUSTOM46914559242816 when cutoff = 0.05\n",
      "WARNING:gseapy:Warning: No enrich terms using library CUSTOM46914559242816 when cutoff = 0.05\n"
     ]
    },
    {
     "name": "stdout",
     "output_type": "stream",
     "text": [
      "KEGG_2019_Mouse\n"
     ]
    },
    {
     "name": "stderr",
     "output_type": "stream",
     "text": [
      "2022-02-03 15:56:02,600 Warning: No enrich terms using library CUSTOM46914451179840 when cutoff = 0.05\n",
      "WARNING:gseapy:Warning: No enrich terms using library CUSTOM46914451179840 when cutoff = 0.05\n",
      "2022-02-03 15:56:20,157 Warning: No enrich terms using library CUSTOM46914451179840 when cutoff = 0.05\n",
      "WARNING:gseapy:Warning: No enrich terms using library CUSTOM46914451179840 when cutoff = 0.05\n"
     ]
    },
    {
     "name": "stdout",
     "output_type": "stream",
     "text": [
      "WikiPathways_2019_Mouse\n"
     ]
    },
    {
     "name": "stderr",
     "output_type": "stream",
     "text": [
      "2022-02-03 15:57:02,782 Warning: No enrich terms using library CUSTOM46914491559424 when cutoff = 0.05\n",
      "WARNING:gseapy:Warning: No enrich terms using library CUSTOM46914491559424 when cutoff = 0.05\n"
     ]
    },
    {
     "name": "stdout",
     "output_type": "stream",
     "text": [
      "GO_Biological_Process_2021\n"
     ]
    },
    {
     "name": "stderr",
     "output_type": "stream",
     "text": [
      "2022-02-03 15:59:17,205 Warning: No enrich terms using library CUSTOM46914493774720 when cutoff = 0.05\n",
      "WARNING:gseapy:Warning: No enrich terms using library CUSTOM46914493774720 when cutoff = 0.05\n"
     ]
    },
    {
     "name": "stdout",
     "output_type": "stream",
     "text": [
      "BioPlanet_2019 815\n",
      "KEGG_2019_Mouse 226\n",
      "WikiPathways_2019_Mouse 110\n",
      "GO_Biological_Process_2021 2129\n"
     ]
    }
   ],
   "source": [
    "util_GSEApy.do_enrichment_all(gene_lists=gene_lists, \n",
    "                              background=background, \n",
    "                              databases=databases, \n",
    "                              databases_strict=databases_strict, \n",
    "                              adj_pvalue=adj_pvalue, \n",
    "                              adj_pvalue_strict=adj_pvalue_strict, \n",
    "                              dir_results=os.path.join(dir_results,dea_folder),\n",
    "                              top_n=top_n\n",
    "                             )"
   ]
  },
  {
   "cell_type": "code",
   "execution_count": null,
   "id": "f547ff19",
   "metadata": {},
   "outputs": [],
   "source": []
  }
 ],
 "metadata": {
  "kernelspec": {
   "display_name": "Python_enrichment_analysis",
   "language": "python",
   "name": "enrichment_analysis"
  },
  "language_info": {
   "codemirror_mode": {
    "name": "ipython",
    "version": 3
   },
   "file_extension": ".py",
   "mimetype": "text/x-python",
   "name": "python",
   "nbconvert_exporter": "python",
   "pygments_lexer": "ipython3",
   "version": "3.9.5"
  }
 },
 "nbformat": 4,
 "nbformat_minor": 5
}
