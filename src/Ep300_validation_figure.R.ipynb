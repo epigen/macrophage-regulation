{
 "cells": [
  {
   "cell_type": "markdown",
   "id": "c2262c21-0cbf-4a01-a94d-03ade017566c",
   "metadata": {},
   "source": [
    "# Ep300 validation figures\n",
    "- goal: create Ep300 validation figures for manuscript\n",
    "- input: log (fold change) compared to control conditions and statistical test results\n",
    "- output: figures"
   ]
  },
  {
   "cell_type": "code",
   "execution_count": 1,
   "id": "f4d04fba-0e12-4e60-a741-f70ccf9a74d1",
   "metadata": {},
   "outputs": [
    {
     "name": "stderr",
     "output_type": "stream",
     "text": [
      "── \u001b[1mAttaching core tidyverse packages\u001b[22m ──────────────────────── tidyverse 2.0.0 ──\n",
      "\u001b[32m✔\u001b[39m \u001b[34mdplyr    \u001b[39m 1.1.4     \u001b[32m✔\u001b[39m \u001b[34mreadr    \u001b[39m 2.1.5\n",
      "\u001b[32m✔\u001b[39m \u001b[34mforcats  \u001b[39m 1.0.0     \u001b[32m✔\u001b[39m \u001b[34mstringr  \u001b[39m 1.5.1\n",
      "\u001b[32m✔\u001b[39m \u001b[34mggplot2  \u001b[39m 3.5.1     \u001b[32m✔\u001b[39m \u001b[34mtibble   \u001b[39m 3.2.1\n",
      "\u001b[32m✔\u001b[39m \u001b[34mlubridate\u001b[39m 1.9.4     \u001b[32m✔\u001b[39m \u001b[34mtidyr    \u001b[39m 1.3.1\n",
      "\u001b[32m✔\u001b[39m \u001b[34mpurrr    \u001b[39m 1.0.2     \n",
      "── \u001b[1mConflicts\u001b[22m ────────────────────────────────────────── tidyverse_conflicts() ──\n",
      "\u001b[31m✖\u001b[39m \u001b[34mdplyr\u001b[39m::\u001b[32mfilter()\u001b[39m masks \u001b[34mstats\u001b[39m::filter()\n",
      "\u001b[31m✖\u001b[39m \u001b[34mdplyr\u001b[39m::\u001b[32mlag()\u001b[39m    masks \u001b[34mstats\u001b[39m::lag()\n",
      "\u001b[36mℹ\u001b[39m Use the conflicted package (\u001b[3m\u001b[34m<http://conflicted.r-lib.org/>\u001b[39m\u001b[23m) to force all conflicts to become errors\n"
     ]
    }
   ],
   "source": [
    "# libraries\n",
    "library(\"tidyverse\")\n",
    "library(\"ggplot2\")\n",
    "library(\"dplyr\")\n",
    "library(\"patchwork\")\n",
    "options(warn = -1)  # Suppress warnings globally"
   ]
  },
  {
   "cell_type": "code",
   "execution_count": 2,
   "id": "3ef2ced8-7101-4779-a9d6-17624e78c200",
   "metadata": {},
   "outputs": [],
   "source": [
    "options(tibble.width = Inf)"
   ]
  },
  {
   "cell_type": "code",
   "execution_count": 3,
   "id": "8e73dcdf-833e-4c99-baf1-02a5453424aa",
   "metadata": {},
   "outputs": [],
   "source": [
    "# helper functions\n",
    "\n",
    "# default plotting theme\n",
    "macro_theme <- function(){\n",
    "    \n",
    "    # settings\n",
    "    font <- \"Arial\"\n",
    "    size <- 6\n",
    "    \n",
    "    theme_classic(\n",
    "        base_size=size,\n",
    "        base_family = font\n",
    "    ) %+replace% \n",
    "    \n",
    "    theme(\n",
    "      #grid elements\n",
    "#       panel.grid.major = element_blank(),    #strip major gridlines\n",
    "#       panel.grid.minor = element_blank(),    #strip minor gridlines\n",
    "#       axis.ticks = element_blank(),          #strip axis ticks\n",
    "      \n",
    "#       strips axis lines ?\n",
    "      \n",
    "      #text elements\n",
    "        text = element_text(              \n",
    "                   family = font,           \n",
    "                   size = size),\n",
    "        \n",
    "      plot.title = element_text(             #title\n",
    "                   family = font,            #set font family\n",
    "                   size = size,                #set font size\n",
    "                   face = 'bold',            #bold typeface\n",
    "                   hjust = 0.5,                #center align\n",
    "                   vjust = 2),               #raise slightly\n",
    "      \n",
    "      plot.subtitle = element_text(          #subtitle\n",
    "                   family = font,            #font family\n",
    "                   size = size),               #font size\n",
    "      \n",
    "      plot.caption = element_text(           #caption\n",
    "                   family = font,            #font family\n",
    "                   size = size,                 #font size\n",
    "                   hjust = 0.5),               #center align\n",
    "      \n",
    "      axis.title = element_text(             #axis titles\n",
    "                   family = font,            #font family\n",
    "                   size = size),               #font size\n",
    "      \n",
    "      axis.text = element_text(              #axis text\n",
    "                   family = font,            #axis famuly\n",
    "                   size = size),                #font size\n",
    "        \n",
    "        legend.text = element_text(              #axis text\n",
    "                   family = font,            #axis famuly\n",
    "                   size = size), \n",
    "        \n",
    "        legend.title = element_text(              #axis text\n",
    "                   family = font,            #axis famuly\n",
    "                   size = size),\n",
    "      \n",
    "#       axis.text.x = element_text(            #margin for axis text\n",
    "#                     margin=margin(5, b = 10))\n",
    "    )\n",
    "}\n",
    "\n",
    "# extended ggsave\n",
    "ggsave_new <- function(filename, results_path, plot, width=5, height=5, dpi=300){    \n",
    "    ggsave(\n",
    "          paste0(filename,'.pdf'),\n",
    "          plot = plot,\n",
    "          device = cairo_pdf,\n",
    "          path = file.path(results_path),\n",
    "          scale = 1,\n",
    "          dpi = dpi,\n",
    "            width = width,\n",
    "            height = height,\n",
    "          limitsize = FALSE,\n",
    "        )\n",
    "}"
   ]
  },
  {
   "cell_type": "code",
   "execution_count": 4,
   "id": "65e00653-e323-4b70-9382-29a20f243dcb",
   "metadata": {
    "tags": []
   },
   "outputs": [
    {
     "data": {
      "text/html": [
       "'/home/sreichl/projects/macrophage-regulation/src'"
      ],
      "text/latex": [
       "'/home/sreichl/projects/macrophage-regulation/src'"
      ],
      "text/markdown": [
       "'/home/sreichl/projects/macrophage-regulation/src'"
      ],
      "text/plain": [
       "[1] \"/home/sreichl/projects/macrophage-regulation/src\""
      ]
     },
     "metadata": {},
     "output_type": "display_data"
    },
    {
     "data": {
      "text/html": [
       "'/home/sreichl/projects/macrophage-regulation'"
      ],
      "text/latex": [
       "'/home/sreichl/projects/macrophage-regulation'"
      ],
      "text/markdown": [
       "'/home/sreichl/projects/macrophage-regulation'"
      ],
      "text/plain": [
       "[1] \"/home/sreichl/projects/macrophage-regulation\""
      ]
     },
     "metadata": {},
     "output_type": "display_data"
    }
   ],
   "source": [
    "# set correct working directory -> project folder\n",
    "getwd()\n",
    "setwd('..')\n",
    "getwd()"
   ]
  },
  {
   "cell_type": "markdown",
   "id": "91c4ebbc-ca98-425f-a6cc-593071e0ce22",
   "metadata": {},
   "source": [
    "# configs"
   ]
  },
  {
   "cell_type": "code",
   "execution_count": 5,
   "id": "82725b71-01b8-4ef3-be54-e58414ba3531",
   "metadata": {},
   "outputs": [],
   "source": [
    "# configs\n",
    "data_path <- file.path('Ep300_validation')"
   ]
  },
  {
   "cell_type": "markdown",
   "id": "bb99aae6-6511-4a0f-8548-d4a5156a4318",
   "metadata": {},
   "source": [
    "# Load data"
   ]
  },
  {
   "cell_type": "code",
   "execution_count": 6,
   "id": "909423d3-9913-49b4-87dd-09a9e21a436e",
   "metadata": {
    "scrolled": true
   },
   "outputs": [
    {
     "name": "stderr",
     "output_type": "stream",
     "text": [
      "\u001b[1mRows: \u001b[22m\u001b[34m216\u001b[39m \u001b[1mColumns: \u001b[22m\u001b[34m13\u001b[39m\n",
      "\u001b[36m──\u001b[39m \u001b[1mColumn specification\u001b[22m \u001b[36m────────────────────────────────────────────────────────\u001b[39m\n",
      "\u001b[1mDelimiter:\u001b[22m \",\"\n",
      "\u001b[31mchr\u001b[39m (4): Timepoint, Drug, Stimulation, Primer\n",
      "\u001b[32mdbl\u001b[39m (9): Replicate, efficiency, mean_dCq, DMSO_mean_dCq, ddCq, fold_ddCq, lo...\n",
      "\n",
      "\u001b[36mℹ\u001b[39m Use `spec()` to retrieve the full column specification for this data.\n",
      "\u001b[36mℹ\u001b[39m Specify the column types or set `show_col_types = FALSE` to quiet this message.\n",
      "\u001b[1mRows: \u001b[22m\u001b[34m48\u001b[39m \u001b[1mColumns: \u001b[22m\u001b[34m11\u001b[39m\n",
      "\u001b[36m──\u001b[39m \u001b[1mColumn specification\u001b[22m \u001b[36m────────────────────────────────────────────────────────\u001b[39m\n",
      "\u001b[1mDelimiter:\u001b[22m \",\"\n",
      "\u001b[31mchr\u001b[39m (4): Primer, Timepoint, Drug, Stimulation\n",
      "\u001b[32mdbl\u001b[39m (7): n, mean_log2FC_ddCq, sd_log2FC_ddCq, t_pvalue_ddCq, mean_log2FC_pfa...\n",
      "\n",
      "\u001b[36mℹ\u001b[39m Use `spec()` to retrieve the full column specification for this data.\n",
      "\u001b[36mℹ\u001b[39m Specify the column types or set `show_col_types = FALSE` to quiet this message.\n"
     ]
    }
   ],
   "source": [
    "# save results\n",
    "inh_results <- read_csv(file.path(data_path, \"Ep300_inh_pfaffl_qPCR_results.csv\"))\n",
    "inh_stats <- read_csv(file.path(data_path, \"Ep300_inh_pfaffl_qPCR_statistics.csv\"))"
   ]
  },
  {
   "cell_type": "code",
   "execution_count": 7,
   "id": "5636397b-f902-4523-9bf6-5fd9caa2922a",
   "metadata": {},
   "outputs": [
    {
     "name": "stderr",
     "output_type": "stream",
     "text": [
      "\u001b[1mRows: \u001b[22m\u001b[34m90\u001b[39m \u001b[1mColumns: \u001b[22m\u001b[34m11\u001b[39m\n",
      "\u001b[36m──\u001b[39m \u001b[1mColumn specification\u001b[22m \u001b[36m────────────────────────────────────────────────────────\u001b[39m\n",
      "\u001b[1mDelimiter:\u001b[22m \",\"\n",
      "\u001b[31mchr\u001b[39m (2): Guide, Primer\n",
      "\u001b[32mdbl\u001b[39m (9): Harvest, efficiency, mean_dCq, ref_mean_dCq, ddCq, fold_ddCq, log2F...\n",
      "\n",
      "\u001b[36mℹ\u001b[39m Use `spec()` to retrieve the full column specification for this data.\n",
      "\u001b[36mℹ\u001b[39m Specify the column types or set `show_col_types = FALSE` to quiet this message.\n",
      "\u001b[1mRows: \u001b[22m\u001b[34m24\u001b[39m \u001b[1mColumns: \u001b[22m\u001b[34m9\u001b[39m\n",
      "\u001b[36m──\u001b[39m \u001b[1mColumn specification\u001b[22m \u001b[36m────────────────────────────────────────────────────────\u001b[39m\n",
      "\u001b[1mDelimiter:\u001b[22m \",\"\n",
      "\u001b[31mchr\u001b[39m (2): Primer, Guide\n",
      "\u001b[32mdbl\u001b[39m (7): n, mean_log2FC_ddCq, sd_log2FC_ddCq, t_pvalue_ddCq, mean_log2FC_pfa...\n",
      "\n",
      "\u001b[36mℹ\u001b[39m Use `spec()` to retrieve the full column specification for this data.\n",
      "\u001b[36mℹ\u001b[39m Specify the column types or set `show_col_types = FALSE` to quiet this message.\n"
     ]
    }
   ],
   "source": [
    "# save results\n",
    "ko_IFNb_results <- read_csv(file.path(data_path, \"Ep300_ko_IFNb_pfaffl_qPCR_results.csv\"))\n",
    "ko_IFNb_stats <- read_csv(file.path(data_path, \"Ep300_ko_IFNb_pfaffl_qPCR_statistics.csv\"))"
   ]
  },
  {
   "cell_type": "code",
   "execution_count": 8,
   "id": "8dcd5ff3-2fe0-4528-9227-fc42faebb29a",
   "metadata": {
    "scrolled": true
   },
   "outputs": [
    {
     "name": "stderr",
     "output_type": "stream",
     "text": [
      "\u001b[1mRows: \u001b[22m\u001b[34m90\u001b[39m \u001b[1mColumns: \u001b[22m\u001b[34m12\u001b[39m\n",
      "\u001b[36m──\u001b[39m \u001b[1mColumn specification\u001b[22m \u001b[36m────────────────────────────────────────────────────────\u001b[39m\n",
      "\u001b[1mDelimiter:\u001b[22m \",\"\n",
      "\u001b[31mchr\u001b[39m  (2): Guide, Primer\n",
      "\u001b[32mdbl\u001b[39m (10): Plate, Harvest, efficiency, mean_dCq, ref_mean_dCq, ddCq, fold_ddC...\n",
      "\n",
      "\u001b[36mℹ\u001b[39m Use `spec()` to retrieve the full column specification for this data.\n",
      "\u001b[36mℹ\u001b[39m Specify the column types or set `show_col_types = FALSE` to quiet this message.\n",
      "\u001b[1mRows: \u001b[22m\u001b[34m24\u001b[39m \u001b[1mColumns: \u001b[22m\u001b[34m9\u001b[39m\n",
      "\u001b[36m──\u001b[39m \u001b[1mColumn specification\u001b[22m \u001b[36m────────────────────────────────────────────────────────\u001b[39m\n",
      "\u001b[1mDelimiter:\u001b[22m \",\"\n",
      "\u001b[31mchr\u001b[39m (2): Primer, Guide\n",
      "\u001b[32mdbl\u001b[39m (7): n, mean_log2FC_ddCq, sd_log2FC_ddCq, t_pvalue_ddCq, mean_log2FC_pfa...\n",
      "\n",
      "\u001b[36mℹ\u001b[39m Use `spec()` to retrieve the full column specification for this data.\n",
      "\u001b[36mℹ\u001b[39m Specify the column types or set `show_col_types = FALSE` to quiet this message.\n"
     ]
    }
   ],
   "source": [
    "# save results\n",
    "ko_untreated_results <- read_csv(file.path(data_path, \"Ep300_ko_untreated_pfaffl_qPCR_results.csv\"))\n",
    "ko_untreated_stats <- read_csv(file.path(data_path, \"Ep300_ko_untreated_pfaffl_qPCR_statistics.csv\"))"
   ]
  },
  {
   "cell_type": "markdown",
   "id": "1ece04bb-b75d-4f74-80fb-c1fbf7b45a5e",
   "metadata": {},
   "source": [
    "# 2h IFNb treated"
   ]
  },
  {
   "cell_type": "markdown",
   "id": "ae6a3732-6736-4fbc-a592-2128ab00ef7b",
   "metadata": {},
   "source": [
    "## CRISPR KO"
   ]
  },
  {
   "cell_type": "code",
   "execution_count": 9,
   "id": "e1bc96d8-2672-4326-b5a1-6ad186b93dbc",
   "metadata": {},
   "outputs": [],
   "source": [
    "# relabel results\n",
    "ko_IFNb_results <- ko_IFNb_results %>%\n",
    "  mutate(Guide = str_replace_all(Guide, c(\"EP300\" = \"Ep300\", \"NT-2\" = \"Non-Targeting 2\")))\n",
    "\n",
    "# remove NT-1, NT-2 and WT data for plotting, rename and reorder columns\n",
    "results_plot <- ko_IFNb_results %>%\n",
    "  filter(Guide != \"NT-1\", Guide != \"Non-Targeting 2\", Guide != \"WT\") %>%\n",
    "  mutate(\n",
    "    Primer = factor(Primer, levels = c(\"Spp1\", \"Gbp2\", \"Ifit1\", \"Irf7\", \"Oasl2\", \"Usp18\")),\n",
    "    # Guide  = factor(Guide, levels = c(\"Non-Targeting 2\", \"Ep300-1\", \"Ep300-2\"))\n",
    "      Guide  = factor(Guide, levels = c(\"Ep300-1\", \"Ep300-2\"))\n",
    "  )"
   ]
  },
  {
   "cell_type": "code",
   "execution_count": 10,
   "id": "d214642c-3985-4920-a903-1b80c7acfbdd",
   "metadata": {},
   "outputs": [],
   "source": [
    "# relabel stats\n",
    "ko_IFNb_stats <- ko_IFNb_stats %>%\n",
    "  mutate(Guide = str_replace_all(Guide, c(\"EP300\" = \"Ep300\", \"NT-2\" = \"Non-Targeting 2\")))"
   ]
  },
  {
   "cell_type": "code",
   "execution_count": 11,
   "id": "e6c3ec52-d491-47cf-bf26-9c56c8c2454d",
   "metadata": {},
   "outputs": [],
   "source": [
    "# adjust p-values for each condition separately as they are independent questions\n",
    "ko_IFNb_stats <- ko_IFNb_stats %>%\n",
    "  group_by(Guide) %>%\n",
    "  mutate(\n",
    "    t_adjP_pfaffl  = p.adjust(t_pvalue_pfaffl, method = \"BH\")\n",
    "  ) %>%\n",
    "  ungroup()"
   ]
  },
  {
   "cell_type": "code",
   "execution_count": 12,
   "id": "57e24bb2-af7a-45d9-9fa0-1e68c03a0296",
   "metadata": {},
   "outputs": [],
   "source": [
    "# before: mark adjusted p-values <= 0.05 with an asterisk\n",
    "# now: mark  p-values <= 0.01 with an asterisk\n",
    "stats_results <- ko_IFNb_stats %>%\n",
    "mutate(\n",
    "    # sig_label = ifelse(t_adjP_pfaffl <= 0.05, \"*\", \"\"),\n",
    "    sig_label = ifelse(t_pvalue_pfaffl <= 0.01, \"*\", \"\"),\n",
    "    Primer = factor(Primer, levels = c(\"Spp1\",\"Gbp2\",\"Ifit1\",\"Irf7\",\"Oasl2\",\"Usp18\")),\n",
    "    # Guide  = factor(Guide, levels = c(\"Non-Targeting 2\", \"Ep300-1\", \"Ep300-2\"))\n",
    "    Guide  = factor(Guide, levels = c(\"Ep300-1\", \"Ep300-2\"))\n",
    "  )\n",
    "\n",
    "star_positions <- results_plot %>%\n",
    "  group_by(Primer, Guide) %>%\n",
    "  summarize(\n",
    "    ypos = max(log2FC_pfaffl, na.rm = TRUE),\n",
    "    .groups = \"drop\"\n",
    "  )\n",
    "\n",
    "stats_for_plot <- star_positions %>%\n",
    "  left_join(stats_results, by = c(\"Primer\",\"Guide\"))%>%\n",
    "mutate(\n",
    "    Primer = factor(Primer, levels = c(\"Spp1\",\"Gbp2\",\"Ifit1\",\"Irf7\",\"Oasl2\",\"Usp18\")),\n",
    "    # Guide  = factor(Guide, levels = c(\"Non-Targeting 2\", \"Ep300-1\", \"Ep300-2\"))\n",
    "    Guide  = factor(Guide, levels = c(\"Ep300-1\", \"Ep300-2\"))\n",
    "  )"
   ]
  },
  {
   "cell_type": "code",
   "execution_count": 13,
   "id": "ea54bc0f-2153-4b31-8c81-67b63b78b0a2",
   "metadata": {},
   "outputs": [],
   "source": [
    "width <- 2\n",
    "height <- 3\n",
    "options(repr.plot.width=width, repr.plot.height=height)"
   ]
  },
  {
   "cell_type": "code",
   "execution_count": 14,
   "id": "67351924-ec0f-4e90-a621-d1d097f4f732",
   "metadata": {},
   "outputs": [
    {
     "data": {
      "image/png": "[encoded data removed]",
      "text/plain": [
       "plot without title"
      ]
     },
     "metadata": {
      "image/png": {
       "height": 180,
       "width": 120
      }
     },
     "output_type": "display_data"
    }
   ],
   "source": [
    "# plot as box plots\n",
    "p_ko_IFNb_results <- results_plot %>%\n",
    "  ggplot(aes(\n",
    "    x      = Guide, \n",
    "    y      = log2FC_pfaffl, \n",
    "    fill   = Primer\n",
    "  ), color  = \"black\") +\n",
    "  # Boxplot, grouped by both Guide & Primer\n",
    "  geom_boxplot(\n",
    "    aes(group = interaction(Guide, Primer)),\n",
    "    position = position_dodge(width = 0.9),\n",
    "    alpha    = 0.7,\n",
    "    outlier.shape = NA,\n",
    "      linewidth = 0.25\n",
    "  ) +\n",
    "  # replicate points\n",
    "  geom_point(\n",
    "    aes(group = interaction(Guide, Primer)),\n",
    "    position = position_dodge(width=0.9),\n",
    "    size     = 1,\n",
    "    shape    = 21,\n",
    "    stroke   = 0.25\n",
    "  ) +\n",
    "  # Horizontal reference line at 0\n",
    "  geom_hline(yintercept = 0, linetype = \"dashed\", linewidth = 0.25) +\n",
    "    # geom_vline(xintercept = \"EP300-1\", linetype = \"dashed\") +\n",
    "  # Facet in one row\n",
    "  # facet_wrap(~ Timepoint + Stimulation, ncol = 4, scales = \"fixed\") +\n",
    "  # Axis & legend labels\n",
    "  labs(\n",
    "      title = \"Ep300 gene knockout\",\n",
    "    x    = \"CRISPR guide RNAs \\ntargeting Ep300\",\n",
    "    y    = \"Effect size log2(fold change)\",\n",
    "    fill = \"Genes\",\n",
    "    color= \"Genes\"\n",
    "  ) +\n",
    "  theme_bw() +\n",
    "  # Add significance stars (if p<=0.05 => \"*\")\n",
    "    geom_text(\n",
    "        data     = stats_for_plot,\n",
    "        aes(group = interaction(Guide, Primer),\n",
    "            y     = ypos,\n",
    "           label=sig_label\n",
    "           ),\n",
    "            position = position_dodge(width = 0.9),\n",
    "    vjust    = -0.1,\n",
    "    size     = 3,\n",
    "    )+\n",
    "scale_color_identity(guide = \"none\")+  ylim(-1, 2) + macro_theme() + theme(legend.position = \"bottom\", \n",
    "        legend.justification = \"center\")#theme(legend.position = \"none\")\n",
    "\n",
    "p_ko_IFNb_results"
   ]
  },
  {
   "cell_type": "markdown",
   "id": "eadeed3f-29b3-4c63-bba6-c4be33e32141",
   "metadata": {},
   "source": [
    "## Chemical inhibition"
   ]
  },
  {
   "cell_type": "code",
   "execution_count": 15,
   "id": "24c021f4-d234-4425-af29-6061ddc61f7e",
   "metadata": {
    "scrolled": true
   },
   "outputs": [
    {
     "name": "stdout",
     "output_type": "stream",
     "text": [
      "[1] 36 13\n"
     ]
    },
    {
     "data": {
      "text/html": [
       "<table class=\"dataframe\">\n",
       "<caption>A tibble: 6 × 13</caption>\n",
       "<thead>\n",
       "\t<tr><th scope=col>Replicate</th><th scope=col>Timepoint</th><th scope=col>Drug</th><th scope=col>Stimulation</th><th scope=col>Primer</th><th scope=col>efficiency</th><th scope=col>mean_dCq</th><th scope=col>DMSO_mean_dCq</th><th scope=col>ddCq</th><th scope=col>fold_ddCq</th><th scope=col>log2FC_ddCq</th><th scope=col>fold_pfaffl</th><th scope=col>log2FC_pfaffl</th></tr>\n",
       "\t<tr><th scope=col>&lt;dbl&gt;</th><th scope=col>&lt;chr&gt;</th><th scope=col>&lt;fct&gt;</th><th scope=col>&lt;chr&gt;</th><th scope=col>&lt;fct&gt;</th><th scope=col>&lt;dbl&gt;</th><th scope=col>&lt;dbl&gt;</th><th scope=col>&lt;dbl&gt;</th><th scope=col>&lt;dbl&gt;</th><th scope=col>&lt;dbl&gt;</th><th scope=col>&lt;dbl&gt;</th><th scope=col>&lt;dbl&gt;</th><th scope=col>&lt;dbl&gt;</th></tr>\n",
       "</thead>\n",
       "<tbody>\n",
       "\t<tr><td>1</td><td>24h</td><td>A-485</td><td>2h IFNb</td><td>Gbp2 </td><td>1.910299</td><td> 0.5019391</td><td> 2.7051777</td><td>-2.2032387</td><td>4.605120</td><td>2.2032387</td><td>4.162301</td><td>2.0573812</td></tr>\n",
       "\t<tr><td>1</td><td>24h</td><td>A-485</td><td>2h IFNb</td><td>Ifit1</td><td>1.926311</td><td> 0.5952359</td><td> 2.3197167</td><td>-1.7244809</td><td>3.304612</td><td>1.7244809</td><td>3.097458</td><td>1.6310847</td></tr>\n",
       "\t<tr><td>1</td><td>24h</td><td>A-485</td><td>2h IFNb</td><td>Irf7 </td><td>1.777254</td><td>-0.8368944</td><td> 0.6543379</td><td>-1.4912323</td><td>2.811290</td><td>1.4912323</td><td>2.357407</td><td>1.2372009</td></tr>\n",
       "\t<tr><td>1</td><td>24h</td><td>A-485</td><td>2h IFNb</td><td>Oasl2</td><td>1.836000</td><td> 1.3579273</td><td> 2.2640297</td><td>-0.9061024</td><td>1.873976</td><td>0.9061024</td><td>1.734186</td><td>0.7942583</td></tr>\n",
       "\t<tr><td>1</td><td>24h</td><td>A-485</td><td>2h IFNb</td><td>Spp1 </td><td>1.863823</td><td> 3.1893186</td><td> 3.5271987</td><td>-0.3378801</td><td>1.263898</td><td>0.3378801</td><td>1.234140</td><td>0.3035058</td></tr>\n",
       "\t<tr><td>1</td><td>24h</td><td>A-485</td><td>2h IFNb</td><td>Usp18</td><td>1.755833</td><td>-2.1635826</td><td>-1.3824717</td><td>-0.7811108</td><td>1.718454</td><td>0.7811108</td><td>1.552274</td><td>0.6343835</td></tr>\n",
       "</tbody>\n",
       "</table>\n"
      ],
      "text/latex": [
       "A tibble: 6 × 13\n",
       "\\begin{tabular}{lllllllllllll}\n",
       " Replicate & Timepoint & Drug & Stimulation & Primer & efficiency & mean\\_dCq & DMSO\\_mean\\_dCq & ddCq & fold\\_ddCq & log2FC\\_ddCq & fold\\_pfaffl & log2FC\\_pfaffl\\\\\n",
       " <dbl> & <chr> & <fct> & <chr> & <fct> & <dbl> & <dbl> & <dbl> & <dbl> & <dbl> & <dbl> & <dbl> & <dbl>\\\\\n",
       "\\hline\n",
       "\t 1 & 24h & A-485 & 2h IFNb & Gbp2  & 1.910299 &  0.5019391 &  2.7051777 & -2.2032387 & 4.605120 & 2.2032387 & 4.162301 & 2.0573812\\\\\n",
       "\t 1 & 24h & A-485 & 2h IFNb & Ifit1 & 1.926311 &  0.5952359 &  2.3197167 & -1.7244809 & 3.304612 & 1.7244809 & 3.097458 & 1.6310847\\\\\n",
       "\t 1 & 24h & A-485 & 2h IFNb & Irf7  & 1.777254 & -0.8368944 &  0.6543379 & -1.4912323 & 2.811290 & 1.4912323 & 2.357407 & 1.2372009\\\\\n",
       "\t 1 & 24h & A-485 & 2h IFNb & Oasl2 & 1.836000 &  1.3579273 &  2.2640297 & -0.9061024 & 1.873976 & 0.9061024 & 1.734186 & 0.7942583\\\\\n",
       "\t 1 & 24h & A-485 & 2h IFNb & Spp1  & 1.863823 &  3.1893186 &  3.5271987 & -0.3378801 & 1.263898 & 0.3378801 & 1.234140 & 0.3035058\\\\\n",
       "\t 1 & 24h & A-485 & 2h IFNb & Usp18 & 1.755833 & -2.1635826 & -1.3824717 & -0.7811108 & 1.718454 & 0.7811108 & 1.552274 & 0.6343835\\\\\n",
       "\\end{tabular}\n"
      ],
      "text/markdown": [
       "\n",
       "A tibble: 6 × 13\n",
       "\n",
       "| Replicate &lt;dbl&gt; | Timepoint &lt;chr&gt; | Drug &lt;fct&gt; | Stimulation &lt;chr&gt; | Primer &lt;fct&gt; | efficiency &lt;dbl&gt; | mean_dCq &lt;dbl&gt; | DMSO_mean_dCq &lt;dbl&gt; | ddCq &lt;dbl&gt; | fold_ddCq &lt;dbl&gt; | log2FC_ddCq &lt;dbl&gt; | fold_pfaffl &lt;dbl&gt; | log2FC_pfaffl &lt;dbl&gt; |\n",
       "|---|---|---|---|---|---|---|---|---|---|---|---|---|\n",
       "| 1 | 24h | A-485 | 2h IFNb | Gbp2  | 1.910299 |  0.5019391 |  2.7051777 | -2.2032387 | 4.605120 | 2.2032387 | 4.162301 | 2.0573812 |\n",
       "| 1 | 24h | A-485 | 2h IFNb | Ifit1 | 1.926311 |  0.5952359 |  2.3197167 | -1.7244809 | 3.304612 | 1.7244809 | 3.097458 | 1.6310847 |\n",
       "| 1 | 24h | A-485 | 2h IFNb | Irf7  | 1.777254 | -0.8368944 |  0.6543379 | -1.4912323 | 2.811290 | 1.4912323 | 2.357407 | 1.2372009 |\n",
       "| 1 | 24h | A-485 | 2h IFNb | Oasl2 | 1.836000 |  1.3579273 |  2.2640297 | -0.9061024 | 1.873976 | 0.9061024 | 1.734186 | 0.7942583 |\n",
       "| 1 | 24h | A-485 | 2h IFNb | Spp1  | 1.863823 |  3.1893186 |  3.5271987 | -0.3378801 | 1.263898 | 0.3378801 | 1.234140 | 0.3035058 |\n",
       "| 1 | 24h | A-485 | 2h IFNb | Usp18 | 1.755833 | -2.1635826 | -1.3824717 | -0.7811108 | 1.718454 | 0.7811108 | 1.552274 | 0.6343835 |\n",
       "\n"
      ],
      "text/plain": [
       "  Replicate Timepoint Drug  Stimulation Primer efficiency mean_dCq  \n",
       "1 1         24h       A-485 2h IFNb     Gbp2   1.910299    0.5019391\n",
       "2 1         24h       A-485 2h IFNb     Ifit1  1.926311    0.5952359\n",
       "3 1         24h       A-485 2h IFNb     Irf7   1.777254   -0.8368944\n",
       "4 1         24h       A-485 2h IFNb     Oasl2  1.836000    1.3579273\n",
       "5 1         24h       A-485 2h IFNb     Spp1   1.863823    3.1893186\n",
       "6 1         24h       A-485 2h IFNb     Usp18  1.755833   -2.1635826\n",
       "  DMSO_mean_dCq ddCq       fold_ddCq log2FC_ddCq fold_pfaffl log2FC_pfaffl\n",
       "1  2.7051777    -2.2032387 4.605120  2.2032387   4.162301    2.0573812    \n",
       "2  2.3197167    -1.7244809 3.304612  1.7244809   3.097458    1.6310847    \n",
       "3  0.6543379    -1.4912323 2.811290  1.4912323   2.357407    1.2372009    \n",
       "4  2.2640297    -0.9061024 1.873976  0.9061024   1.734186    0.7942583    \n",
       "5  3.5271987    -0.3378801 1.263898  0.3378801   1.234140    0.3035058    \n",
       "6 -1.3824717    -0.7811108 1.718454  0.7811108   1.552274    0.6343835    "
      ]
     },
     "metadata": {},
     "output_type": "display_data"
    }
   ],
   "source": [
    "# relabel results\n",
    "inh_results <- inh_results %>%\n",
    "  mutate(Drug = str_replace_all(Drug, c(\"A485\" = \"A-485\")))\n",
    "\n",
    "# remove DMSO data for plotting and reorder columns\n",
    "results_plot <- inh_results %>%\n",
    "  filter(Drug != \"DMSO\", Timepoint == \"24h\", Stimulation == \"2h IFNb\")%>%\n",
    "mutate(\n",
    "    Primer = factor(Primer, levels = c(\"Spp1\",\"Gbp2\",\"Ifit1\",\"Irf7\",\"Oasl2\",\"Usp18\")),\n",
    "    Drug   = factor(Drug,   levels = c(\"SGC-CBP30\",\"A-485\"))\n",
    "  )\n",
    "\n",
    "print(dim(results_plot))\n",
    "head(results_plot)"
   ]
  },
  {
   "cell_type": "code",
   "execution_count": 16,
   "id": "410ebd08-237c-4785-b90b-6ebe3bcd71e4",
   "metadata": {},
   "outputs": [],
   "source": [
    "# relabel stats\n",
    "inh_stats <- inh_stats %>%\n",
    "  mutate(Drug = str_replace_all(Drug, c(\"A485\" = \"A-485\")))"
   ]
  },
  {
   "cell_type": "code",
   "execution_count": 17,
   "id": "5a072e69-c296-450d-b18a-3ad9e8ef5824",
   "metadata": {},
   "outputs": [],
   "source": [
    "# adjust p-values for each condition separately as they are independent questions\n",
    "inh_stats <- inh_stats %>%\n",
    "  group_by(Drug, Timepoint, Stimulation) %>%\n",
    "  mutate(\n",
    "    t_adjP_pfaffl  = p.adjust(t_pvalue_pfaffl, method = \"BH\")\n",
    "  ) %>%\n",
    "  ungroup()"
   ]
  },
  {
   "cell_type": "code",
   "execution_count": 18,
   "id": "9b4fc6a0-fe7f-4bd5-89c9-9dd3d7ea376c",
   "metadata": {},
   "outputs": [],
   "source": [
    "# before: mark adjusted p-values <= 0.05 with an asterisk\n",
    "# now: mark  p-values <= 0.01 with an asterisk\n",
    "stats_results <- inh_stats %>%\n",
    "filter(Timepoint == \"24h\", Stimulation == \"2h IFNb\") %>%\n",
    "# mutate(sig_label = ifelse(t_adjP_pfaffl <= 0.05, \"*\", \"\"))\n",
    "mutate(sig_label = ifelse(t_pvalue_pfaffl <= 0.01, \"*\", \"\"))\n",
    "\n",
    "star_positions <- results_plot %>%\n",
    "  group_by(Primer, Timepoint, Drug, Stimulation) %>%\n",
    "  summarize(\n",
    "    ypos = max(log2FC_pfaffl, na.rm = TRUE),\n",
    "    .groups = \"drop\"\n",
    "  )\n",
    "\n",
    "stats_for_plot <- star_positions %>%\n",
    "  left_join(stats_results, by = c(\"Primer\",\"Timepoint\", \"Drug\", \"Stimulation\"))%>%\n",
    "  mutate(\n",
    "    Primer = factor(Primer, levels = c(\"Spp1\",\"Gbp2\",\"Ifit1\",\"Irf7\",\"Oasl2\",\"Usp18\")),\n",
    "    Drug   = factor(Drug,   levels = c(\"SGC-CBP30\",\"A-485\"))\n",
    "  )"
   ]
  },
  {
   "cell_type": "code",
   "execution_count": 19,
   "id": "1746dabc-434b-4df9-8e82-9fadaa987e43",
   "metadata": {},
   "outputs": [],
   "source": [
    "width <- 3\n",
    "height <- 3\n",
    "options(repr.plot.width=width, repr.plot.height=height)"
   ]
  },
  {
   "cell_type": "code",
   "execution_count": 20,
   "id": "3e7e0a75-1bc4-4eec-bb28-fccc7dda1eb3",
   "metadata": {
    "scrolled": true
   },
   "outputs": [
    {
     "data": {
      "image/png": "[encoded data removed]",
      "text/plain": [
       "plot without title"
      ]
     },
     "metadata": {
      "image/png": {
       "height": 180,
       "width": 180
      }
     },
     "output_type": "display_data"
    }
   ],
   "source": [
    "# plot as box plots\n",
    "dodge_width <- 0.9 #0.9\n",
    "\n",
    "p_inh_IFNb_results <- results_plot %>%\n",
    "  ggplot(aes(\n",
    "    x      = Drug, \n",
    "    y      = log2FC_pfaffl, \n",
    "    fill   = Primer\n",
    "  ), color  = \"black\") +\n",
    "  # Boxplot, grouped by both Drug & Primer\n",
    "  geom_boxplot(\n",
    "    aes(group = interaction(Drug, Primer)),\n",
    "    position = position_dodge(width = dodge_width),\n",
    "    alpha    = 0.7,\n",
    "    outlier.shape = NA,\n",
    "      linewidth = 0.25\n",
    "  ) +\n",
    "  # replicate points\n",
    "  geom_point(\n",
    "    aes(group = interaction(Drug, Primer)),\n",
    "    position = position_dodge(width = dodge_width),\n",
    "    size     = 1,\n",
    "    shape    = 21,\n",
    "    stroke   = 0.25\n",
    "  ) +\n",
    "  # Horizontal reference line at 0\n",
    "  geom_hline(yintercept = 0, linetype = \"dashed\", linewidth = 0.25) +\n",
    "  # Axis & legend labels\n",
    "  labs(\n",
    "       title = \"EP300 protein inhibition\",\n",
    "    x    = \"Inhibitors \\ntargeting EP300\",\n",
    "    y    = \"Effect size log2(fold change)\",\n",
    "    fill = \"Genes\",\n",
    "    color= \"Genes\"\n",
    "  ) +\n",
    "  # Add significance stars (if p<=0.05 => \"*\")\n",
    "    geom_text(\n",
    "        data     = stats_for_plot,\n",
    "        aes(group = interaction(Drug, Primer),\n",
    "            y     = ypos,\n",
    "           label = sig_label\n",
    "           ),\n",
    "            position = position_dodge(width = dodge_width),\n",
    "    vjust    = -0.1,\n",
    "    size     = 3,\n",
    "    )+\n",
    "scale_color_identity(guide = \"none\") +  ylim(-1, 2) + macro_theme() + theme(legend.position = \"bottom\", \n",
    "        legend.justification = \"center\")\n",
    "\n",
    "p_inh_IFNb_results"
   ]
  },
  {
   "cell_type": "markdown",
   "id": "71ff4a6d-0944-441c-a82c-0048d54bec68",
   "metadata": {},
   "source": [
    "## Combine & save"
   ]
  },
  {
   "cell_type": "code",
   "execution_count": 21,
   "id": "811bf167-7459-47b1-922a-6a5a9203f209",
   "metadata": {},
   "outputs": [],
   "source": [
    "width <- 2.5 #2.57 in\n",
    "height <- 2.5 # 1.7in but room up to 2.2\n",
    "options(repr.plot.width=width, repr.plot.height=height)"
   ]
  },
  {
   "cell_type": "code",
   "execution_count": 22,
   "id": "c564f600-6c34-4ebc-a1c0-d71c6ecd4c13",
   "metadata": {},
   "outputs": [
    {
     "data": {
      "image/png": "[encoded data removed]",
      "text/plain": [
       "plot without title"
      ]
     },
     "metadata": {
      "image/png": {
       "height": 150,
       "width": 150
      }
     },
     "output_type": "display_data"
    }
   ],
   "source": [
    "p_IFNb <- (p_ko_IFNb_results + theme(plot.margin = margin(0,0,0,0))) + \n",
    "  (p_inh_IFNb_results+ theme(axis.title.y = element_blank(), axis.text.y = element_blank(), axis.ticks.y = element_blank(),plot.margin = margin(0,0,0,0))) + \n",
    "  plot_layout(guides = \"collect\", widths = c(1, 1))& \n",
    "  theme(#panel.border = element_rect(color = \"black\", fill = NA, linewidth = 0.8),  # Add black border\n",
    "      legend.position = \"bottom\", \n",
    "        legend.justification = \"center\",\n",
    "        legend.box = \"horizontal\",\n",
    "       legend.key.size = unit(0.3, \"cm\")) &\n",
    "   guides(fill = guide_legend(nrow = 1), color = guide_legend(nrow = 1))\n",
    "\n",
    "p_IFNb"
   ]
  },
  {
   "cell_type": "code",
   "execution_count": 23,
   "id": "dfbc4534-3c36-4cab-930f-2e7da05f5a60",
   "metadata": {},
   "outputs": [],
   "source": [
    "# save plot\n",
    "ggsave_new(filename=\"Ep300_IFNb\",\n",
    "           results_path=data_path,\n",
    "           plot=p_IFNb,\n",
    "           width=width,\n",
    "           height=height\n",
    "          )"
   ]
  },
  {
   "cell_type": "markdown",
   "id": "2da62d0d-16ac-4e40-8c3f-7a2aad009602",
   "metadata": {},
   "source": [
    "# Untreated"
   ]
  },
  {
   "cell_type": "markdown",
   "id": "c7b784f9-ca63-435e-9425-f445bca0d77c",
   "metadata": {},
   "source": [
    "## CRISPR KO"
   ]
  },
  {
   "cell_type": "code",
   "execution_count": 24,
   "id": "9a52c7ef-cd37-477f-af4d-19f592329a8e",
   "metadata": {},
   "outputs": [],
   "source": [
    "# relabel results\n",
    "ko_untreated_results <- ko_untreated_results %>%\n",
    "  mutate(Guide = str_replace_all(Guide, c(\"EP300\" = \"Ep300\", \"NT-2\" = \"Non-Targeting 2\")))\n",
    "\n",
    "# remove NT-1, NT-2 and WT data for plotting, rename and reorder columns\n",
    "results_plot <- ko_untreated_results %>%\n",
    "  filter(Guide != \"NT-1\", Guide != \"Non-Targeting 2\", Guide != \"WT\") %>%\n",
    "  mutate(\n",
    "    Primer = factor(Primer, levels = c(\"Spp1\", \"Gbp2\", \"Ifit1\", \"Irf7\", \"Oasl2\", \"Usp18\")),\n",
    "    # Guide  = factor(Guide, levels = c(\"Non-Targeting 2\", \"Ep300-1\", \"Ep300-2\"))\n",
    "      Guide  = factor(Guide, levels = c(\"Ep300-1\", \"Ep300-2\"))\n",
    "  )"
   ]
  },
  {
   "cell_type": "code",
   "execution_count": 25,
   "id": "d67b285b-e9fd-49de-8be0-3cd0fe06e747",
   "metadata": {},
   "outputs": [],
   "source": [
    "# relabel stats\n",
    "ko_untreated_stats <- ko_untreated_stats %>%\n",
    "  # mutate(Guide = str_replace_all(Guide, c(\"EP300\" = \"Ep300\", \"NT-2\" = \"Non-Targeting 2\")))\n",
    "    mutate(Guide = str_replace_all(Guide, c(\"EP300\" = \"Ep300\")))"
   ]
  },
  {
   "cell_type": "code",
   "execution_count": 26,
   "id": "82de72af-023b-4d8c-a8f9-819e195a4ff1",
   "metadata": {},
   "outputs": [],
   "source": [
    "# adjust p-values for each condition separately as they are independent questions\n",
    "ko_untreated_stats <- ko_untreated_stats %>%\n",
    "  group_by(Guide) %>%\n",
    "  mutate(\n",
    "    t_adjP_pfaffl  = p.adjust(t_pvalue_pfaffl, method = \"BH\")\n",
    "  ) %>%\n",
    "  ungroup()"
   ]
  },
  {
   "cell_type": "code",
   "execution_count": 27,
   "id": "0f90db32-e380-4f2a-b9e9-2ad70a8dbbfe",
   "metadata": {},
   "outputs": [],
   "source": [
    "# before: mark adjusted p-values <= 0.05 with an asterisk\n",
    "# now: mark  p-values <= 0.01 with an asterisk\n",
    "stats_results <- ko_untreated_stats %>%\n",
    "mutate(\n",
    "    # sig_label = ifelse(t_adjP_pfaffl <= 0.05, \"*\", \"\"),\n",
    "    sig_label = ifelse(t_pvalue_pfaffl <= 0.01, \"*\", \"\"),\n",
    "    Primer = factor(Primer, levels = c(\"Spp1\",\"Gbp2\",\"Ifit1\",\"Irf7\",\"Oasl2\",\"Usp18\")),\n",
    "    # Guide  = factor(Guide, levels = c(\"Non-Targeting 2\", \"Ep300-1\", \"Ep300-2\"))\n",
    "    Guide  = factor(Guide, levels = c(\"Ep300-1\", \"Ep300-2\"))\n",
    "  )\n",
    "\n",
    "star_positions <- results_plot %>%\n",
    "  group_by(Primer, Guide) %>%\n",
    "  summarize(\n",
    "    ypos = max(log2FC_pfaffl, na.rm = TRUE),\n",
    "    .groups = \"drop\"\n",
    "  )\n",
    "\n",
    "stats_for_plot <- star_positions %>%\n",
    "  left_join(stats_results, by = c(\"Primer\",\"Guide\"))%>%\n",
    "mutate(\n",
    "    Primer = factor(Primer, levels = c(\"Spp1\",\"Gbp2\",\"Ifit1\",\"Irf7\",\"Oasl2\",\"Usp18\")),\n",
    "    # Guide  = factor(Guide, levels = c(\"Non-Targeting 2\", \"Ep300-1\", \"Ep300-2\"))\n",
    "    Guide  = factor(Guide, levels = c(\"Ep300-1\", \"Ep300-2\"))\n",
    "  )"
   ]
  },
  {
   "cell_type": "code",
   "execution_count": 28,
   "id": "1a743835-feef-40cb-a8df-60679ba01f59",
   "metadata": {},
   "outputs": [],
   "source": [
    "width <- 2\n",
    "height <- 3\n",
    "options(repr.plot.width=width, repr.plot.height=height)"
   ]
  },
  {
   "cell_type": "code",
   "execution_count": 29,
   "id": "febcfabe-ebd7-451b-b07d-11e60acce1e8",
   "metadata": {},
   "outputs": [
    {
     "data": {
      "image/png": "[encoded data removed]",
      "text/plain": [
       "plot without title"
      ]
     },
     "metadata": {
      "image/png": {
       "height": 180,
       "width": 120
      }
     },
     "output_type": "display_data"
    }
   ],
   "source": [
    "# plot as box plots\n",
    "p_ko_untreated_results <- results_plot %>%\n",
    "  ggplot(aes(\n",
    "    x      = Guide, \n",
    "    y      = log2FC_pfaffl, \n",
    "    fill   = Primer\n",
    "  ), color  = \"black\") +\n",
    "  # Boxplot, grouped by both Guide & Primer\n",
    "  geom_boxplot(\n",
    "    aes(group = interaction(Guide, Primer)),\n",
    "    position = position_dodge(width = 0.9),\n",
    "    alpha    = 0.7,\n",
    "    outlier.shape = NA,\n",
    "      linewidth = 0.25\n",
    "  ) +\n",
    "  # replicate points\n",
    "  geom_point(\n",
    "    aes(group = interaction(Guide, Primer)),\n",
    "    position = position_dodge(width=0.9),\n",
    "    size     = 1,\n",
    "    shape    = 21,\n",
    "    stroke   = 0.25\n",
    "  ) +\n",
    "  # Horizontal reference line at 0\n",
    "  geom_hline(yintercept = 0, linetype = \"dashed\", linewidth = 0.25) +\n",
    "    # geom_vline(xintercept = \"EP300-1\", linetype = \"dashed\") +\n",
    "  # Facet in one row\n",
    "  # facet_wrap(~ Timepoint + Stimulation, ncol = 4, scales = \"fixed\") +\n",
    "  # Axis & legend labels\n",
    "  labs(\n",
    "      title = \"Ep300 gene knockout\",\n",
    "    x    = \"CRISPR guide RNAs \\ntargeting Ep300\",\n",
    "    y    = \"Effect size log2(fold change)\",\n",
    "    fill = \"Genes\",\n",
    "    color= \"Genes\"\n",
    "  ) +\n",
    "  theme_bw() +\n",
    "  # Add significance stars (if p<=0.01 => \"*\")\n",
    "    geom_text(\n",
    "        data     = stats_for_plot,\n",
    "        aes(group = interaction(Guide, Primer),\n",
    "            y     = ypos,\n",
    "           label=sig_label\n",
    "           ),\n",
    "            position = position_dodge(width = 0.9),\n",
    "    vjust    = -0.1,\n",
    "    size     = 3,\n",
    "    )+\n",
    "scale_color_identity(guide = \"none\")+  ylim(-1.5, 4.5) + macro_theme() + theme(legend.position = \"bottom\", \n",
    "        legend.justification = \"center\")\n",
    "\n",
    "p_ko_untreated_results"
   ]
  },
  {
   "cell_type": "markdown",
   "id": "d38cbcc0-f9ee-40bf-9338-53c1094e1aaf",
   "metadata": {},
   "source": [
    "## Chemical inhibition"
   ]
  },
  {
   "cell_type": "code",
   "execution_count": 30,
   "id": "2615405a-30fa-47e2-99ad-37cf6cb63025",
   "metadata": {
    "scrolled": true
   },
   "outputs": [
    {
     "name": "stdout",
     "output_type": "stream",
     "text": [
      "[1] 36 13\n"
     ]
    },
    {
     "data": {
      "text/html": [
       "<table class=\"dataframe\">\n",
       "<caption>A tibble: 6 × 13</caption>\n",
       "<thead>\n",
       "\t<tr><th scope=col>Replicate</th><th scope=col>Timepoint</th><th scope=col>Drug</th><th scope=col>Stimulation</th><th scope=col>Primer</th><th scope=col>efficiency</th><th scope=col>mean_dCq</th><th scope=col>DMSO_mean_dCq</th><th scope=col>ddCq</th><th scope=col>fold_ddCq</th><th scope=col>log2FC_ddCq</th><th scope=col>fold_pfaffl</th><th scope=col>log2FC_pfaffl</th></tr>\n",
       "\t<tr><th scope=col>&lt;dbl&gt;</th><th scope=col>&lt;chr&gt;</th><th scope=col>&lt;fct&gt;</th><th scope=col>&lt;chr&gt;</th><th scope=col>&lt;fct&gt;</th><th scope=col>&lt;dbl&gt;</th><th scope=col>&lt;dbl&gt;</th><th scope=col>&lt;dbl&gt;</th><th scope=col>&lt;dbl&gt;</th><th scope=col>&lt;dbl&gt;</th><th scope=col>&lt;dbl&gt;</th><th scope=col>&lt;dbl&gt;</th><th scope=col>&lt;dbl&gt;</th></tr>\n",
       "</thead>\n",
       "<tbody>\n",
       "\t<tr><td>1</td><td>24h</td><td>A-485</td><td>Unchallenged</td><td>Gbp2 </td><td>1.910299</td><td> 5.39342531</td><td>9.8206958</td><td>-4.4272705</td><td>21.5149938</td><td> 4.4272705</td><td>17.5594905</td><td> 4.1341791</td></tr>\n",
       "\t<tr><td>1</td><td>24h</td><td>A-485</td><td>Unchallenged</td><td>Ifit1</td><td>1.926311</td><td> 2.40471736</td><td>6.0916339</td><td>-3.6869166</td><td>12.8787134</td><td> 3.6869166</td><td>11.2140603</td><td> 3.4872368</td></tr>\n",
       "\t<tr><td>1</td><td>24h</td><td>A-485</td><td>Unchallenged</td><td>Irf7 </td><td>1.777254</td><td>-1.90388870</td><td>0.8594167</td><td>-2.7633054</td><td> 6.7895001</td><td> 2.7633054</td><td> 4.8993023</td><td> 2.2925763</td></tr>\n",
       "\t<tr><td>1</td><td>24h</td><td>A-485</td><td>Unchallenged</td><td>Oasl2</td><td>1.836000</td><td> 1.55264478</td><td>4.8401603</td><td>-3.2875155</td><td> 9.7642923</td><td> 3.2875155</td><td> 7.3702999</td><td> 2.8817233</td></tr>\n",
       "\t<tr><td>1</td><td>24h</td><td>A-485</td><td>Unchallenged</td><td>Spp1 </td><td>1.863823</td><td> 2.75001739</td><td>2.2366666</td><td> 0.5133508</td><td> 0.7005934</td><td>-0.5133508</td><td> 0.7264196</td><td>-0.4611249</td></tr>\n",
       "\t<tr><td>1</td><td>24h</td><td>A-485</td><td>Unchallenged</td><td>Usp18</td><td>1.755833</td><td>-0.01683683</td><td>1.1646459</td><td>-1.1814827</td><td> 2.2680976</td><td> 1.1814827</td><td> 1.9447001</td><td> 0.9595477</td></tr>\n",
       "</tbody>\n",
       "</table>\n"
      ],
      "text/latex": [
       "A tibble: 6 × 13\n",
       "\\begin{tabular}{lllllllllllll}\n",
       " Replicate & Timepoint & Drug & Stimulation & Primer & efficiency & mean\\_dCq & DMSO\\_mean\\_dCq & ddCq & fold\\_ddCq & log2FC\\_ddCq & fold\\_pfaffl & log2FC\\_pfaffl\\\\\n",
       " <dbl> & <chr> & <fct> & <chr> & <fct> & <dbl> & <dbl> & <dbl> & <dbl> & <dbl> & <dbl> & <dbl> & <dbl>\\\\\n",
       "\\hline\n",
       "\t 1 & 24h & A-485 & Unchallenged & Gbp2  & 1.910299 &  5.39342531 & 9.8206958 & -4.4272705 & 21.5149938 &  4.4272705 & 17.5594905 &  4.1341791\\\\\n",
       "\t 1 & 24h & A-485 & Unchallenged & Ifit1 & 1.926311 &  2.40471736 & 6.0916339 & -3.6869166 & 12.8787134 &  3.6869166 & 11.2140603 &  3.4872368\\\\\n",
       "\t 1 & 24h & A-485 & Unchallenged & Irf7  & 1.777254 & -1.90388870 & 0.8594167 & -2.7633054 &  6.7895001 &  2.7633054 &  4.8993023 &  2.2925763\\\\\n",
       "\t 1 & 24h & A-485 & Unchallenged & Oasl2 & 1.836000 &  1.55264478 & 4.8401603 & -3.2875155 &  9.7642923 &  3.2875155 &  7.3702999 &  2.8817233\\\\\n",
       "\t 1 & 24h & A-485 & Unchallenged & Spp1  & 1.863823 &  2.75001739 & 2.2366666 &  0.5133508 &  0.7005934 & -0.5133508 &  0.7264196 & -0.4611249\\\\\n",
       "\t 1 & 24h & A-485 & Unchallenged & Usp18 & 1.755833 & -0.01683683 & 1.1646459 & -1.1814827 &  2.2680976 &  1.1814827 &  1.9447001 &  0.9595477\\\\\n",
       "\\end{tabular}\n"
      ],
      "text/markdown": [
       "\n",
       "A tibble: 6 × 13\n",
       "\n",
       "| Replicate &lt;dbl&gt; | Timepoint &lt;chr&gt; | Drug &lt;fct&gt; | Stimulation &lt;chr&gt; | Primer &lt;fct&gt; | efficiency &lt;dbl&gt; | mean_dCq &lt;dbl&gt; | DMSO_mean_dCq &lt;dbl&gt; | ddCq &lt;dbl&gt; | fold_ddCq &lt;dbl&gt; | log2FC_ddCq &lt;dbl&gt; | fold_pfaffl &lt;dbl&gt; | log2FC_pfaffl &lt;dbl&gt; |\n",
       "|---|---|---|---|---|---|---|---|---|---|---|---|---|\n",
       "| 1 | 24h | A-485 | Unchallenged | Gbp2  | 1.910299 |  5.39342531 | 9.8206958 | -4.4272705 | 21.5149938 |  4.4272705 | 17.5594905 |  4.1341791 |\n",
       "| 1 | 24h | A-485 | Unchallenged | Ifit1 | 1.926311 |  2.40471736 | 6.0916339 | -3.6869166 | 12.8787134 |  3.6869166 | 11.2140603 |  3.4872368 |\n",
       "| 1 | 24h | A-485 | Unchallenged | Irf7  | 1.777254 | -1.90388870 | 0.8594167 | -2.7633054 |  6.7895001 |  2.7633054 |  4.8993023 |  2.2925763 |\n",
       "| 1 | 24h | A-485 | Unchallenged | Oasl2 | 1.836000 |  1.55264478 | 4.8401603 | -3.2875155 |  9.7642923 |  3.2875155 |  7.3702999 |  2.8817233 |\n",
       "| 1 | 24h | A-485 | Unchallenged | Spp1  | 1.863823 |  2.75001739 | 2.2366666 |  0.5133508 |  0.7005934 | -0.5133508 |  0.7264196 | -0.4611249 |\n",
       "| 1 | 24h | A-485 | Unchallenged | Usp18 | 1.755833 | -0.01683683 | 1.1646459 | -1.1814827 |  2.2680976 |  1.1814827 |  1.9447001 |  0.9595477 |\n",
       "\n"
      ],
      "text/plain": [
       "  Replicate Timepoint Drug  Stimulation  Primer efficiency mean_dCq   \n",
       "1 1         24h       A-485 Unchallenged Gbp2   1.910299    5.39342531\n",
       "2 1         24h       A-485 Unchallenged Ifit1  1.926311    2.40471736\n",
       "3 1         24h       A-485 Unchallenged Irf7   1.777254   -1.90388870\n",
       "4 1         24h       A-485 Unchallenged Oasl2  1.836000    1.55264478\n",
       "5 1         24h       A-485 Unchallenged Spp1   1.863823    2.75001739\n",
       "6 1         24h       A-485 Unchallenged Usp18  1.755833   -0.01683683\n",
       "  DMSO_mean_dCq ddCq       fold_ddCq  log2FC_ddCq fold_pfaffl log2FC_pfaffl\n",
       "1 9.8206958     -4.4272705 21.5149938  4.4272705  17.5594905   4.1341791   \n",
       "2 6.0916339     -3.6869166 12.8787134  3.6869166  11.2140603   3.4872368   \n",
       "3 0.8594167     -2.7633054  6.7895001  2.7633054   4.8993023   2.2925763   \n",
       "4 4.8401603     -3.2875155  9.7642923  3.2875155   7.3702999   2.8817233   \n",
       "5 2.2366666      0.5133508  0.7005934 -0.5133508   0.7264196  -0.4611249   \n",
       "6 1.1646459     -1.1814827  2.2680976  1.1814827   1.9447001   0.9595477   "
      ]
     },
     "metadata": {},
     "output_type": "display_data"
    }
   ],
   "source": [
    "# relabel results\n",
    "inh_results <- inh_results %>%\n",
    "  mutate(Drug = str_replace_all(Drug, c(\"A485\" = \"A-485\")))\n",
    "\n",
    "# remove DMSO data for plotting and reorder columns\n",
    "results_plot <- inh_results %>%\n",
    "  filter(Drug != \"DMSO\", Timepoint == \"24h\", Stimulation == \"Unchallenged\")%>%\n",
    "mutate(\n",
    "    Primer = factor(Primer, levels = c(\"Spp1\",\"Gbp2\",\"Ifit1\",\"Irf7\",\"Oasl2\",\"Usp18\")),\n",
    "    Drug   = factor(Drug,   levels = c(\"SGC-CBP30\",\"A-485\"))\n",
    "  )\n",
    "\n",
    "print(dim(results_plot))\n",
    "head(results_plot)"
   ]
  },
  {
   "cell_type": "code",
   "execution_count": 31,
   "id": "db9a6b73-dc68-41be-a023-e24128c4d9dd",
   "metadata": {},
   "outputs": [],
   "source": [
    "# relabel stats\n",
    "inh_stats <- inh_stats %>%\n",
    "  mutate(Drug = str_replace_all(Drug, c(\"A485\" = \"A-485\")))"
   ]
  },
  {
   "cell_type": "code",
   "execution_count": 32,
   "id": "e804113a-17c7-4d67-b6e2-f8cc3ba4b496",
   "metadata": {},
   "outputs": [],
   "source": [
    "# was already adjusted\n",
    "# # adjust p-values for each condition separately as they are independent questions\n",
    "# inh_stats <- inh_stats %>%\n",
    "#   group_by(Drug, Timepoint, Stimulation) %>%\n",
    "#   mutate(\n",
    "#     t_adjP_pfaffl  = p.adjust(t_pvalue_pfaffl, method = \"BH\")\n",
    "#   ) %>%\n",
    "#   ungroup()"
   ]
  },
  {
   "cell_type": "code",
   "execution_count": 33,
   "id": "abe24d02-4263-4d70-8952-3252a4608b31",
   "metadata": {},
   "outputs": [],
   "source": [
    "# mark p-values <= 0.05 with an asterisk\n",
    "stats_results <- inh_stats %>%\n",
    "filter(Timepoint == \"24h\", Stimulation == \"Unchallenged\") %>%\n",
    "# mutate(sig_label = ifelse(t_adjP_pfaffl <= 0.05, \"*\", \"\"))\n",
    "mutate(sig_label = ifelse(t_pvalue_pfaffl <= 0.01, \"*\", \"\"))\n",
    "\n",
    "star_positions <- results_plot %>%\n",
    "  group_by(Primer, Timepoint, Drug, Stimulation) %>%\n",
    "  summarize(\n",
    "    ypos = max(log2FC_pfaffl, na.rm = TRUE),\n",
    "    .groups = \"drop\"\n",
    "  )\n",
    "\n",
    "stats_for_plot <- star_positions %>%\n",
    "  left_join(stats_results, by = c(\"Primer\",\"Timepoint\", \"Drug\", \"Stimulation\"))%>%\n",
    "  mutate(\n",
    "    Primer = factor(Primer, levels = c(\"Spp1\",\"Gbp2\",\"Ifit1\",\"Irf7\",\"Oasl2\",\"Usp18\")),\n",
    "    Drug   = factor(Drug,   levels = c(\"SGC-CBP30\",\"A-485\"))\n",
    "  )"
   ]
  },
  {
   "cell_type": "code",
   "execution_count": 34,
   "id": "e731c20e-6549-417e-a315-56b9c33576ba",
   "metadata": {},
   "outputs": [],
   "source": [
    "width <- 3\n",
    "height <- 3\n",
    "options(repr.plot.width=width, repr.plot.height=height)"
   ]
  },
  {
   "cell_type": "code",
   "execution_count": 35,
   "id": "1711c0f4-2968-445f-8ba9-0daf6f14f0f6",
   "metadata": {
    "scrolled": true
   },
   "outputs": [
    {
     "data": {
      "image/png": "[encoded data removed]",
      "text/plain": [
       "plot without title"
      ]
     },
     "metadata": {
      "image/png": {
       "height": 180,
       "width": 180
      }
     },
     "output_type": "display_data"
    }
   ],
   "source": [
    "# plot as box plots\n",
    "dodge_width <- 0.9 #0.9\n",
    "\n",
    "p_inh_untreated_results <- results_plot %>%\n",
    "  ggplot(aes(\n",
    "    x      = Drug, \n",
    "    y      = log2FC_pfaffl, \n",
    "    fill   = Primer\n",
    "  ), color  = \"black\") +\n",
    "  # Boxplot, grouped by both Drug & Primer\n",
    "  geom_boxplot(\n",
    "    aes(group = interaction(Drug, Primer)),\n",
    "    position = position_dodge(width = dodge_width),\n",
    "    alpha    = 0.7,\n",
    "    outlier.shape = NA,\n",
    "      linewidth = 0.25\n",
    "  ) +\n",
    "  # replicate points\n",
    "  geom_point(\n",
    "    aes(group = interaction(Drug, Primer)),\n",
    "    position = position_dodge(width = dodge_width),\n",
    "    size     = 1,\n",
    "    shape    = 21,\n",
    "    stroke   = 0.25\n",
    "  ) +\n",
    "  # Horizontal reference line at 0\n",
    "  geom_hline(yintercept = 0, linetype = \"dashed\", linewidth = 0.25) +\n",
    "  # Axis & legend labels\n",
    "  labs(\n",
    "      title = \"EP300 protein inhibition\",\n",
    "    x    = \"Inhibitors \\ntargeting EP300\",\n",
    "    y    = \"Effect size log2(fold change)\",\n",
    "    fill = \"Genes\",\n",
    "    color= \"Genes\"\n",
    "  ) +\n",
    "  # Add significance stars (if p<=0.05 => \"*\")\n",
    "    geom_text(\n",
    "        data     = stats_for_plot,\n",
    "        aes(group = interaction(Drug, Primer),\n",
    "            y     = ypos,\n",
    "           label = sig_label\n",
    "           ),\n",
    "            position = position_dodge(width = dodge_width),\n",
    "    vjust    = -0.1,\n",
    "    size     = 3,\n",
    "    )+\n",
    "scale_color_identity(guide = \"none\") +  ylim(-1.5, 4.5) + macro_theme() + theme(legend.position = \"bottom\", \n",
    "        legend.justification = \"center\")\n",
    "\n",
    "p_inh_untreated_results"
   ]
  },
  {
   "cell_type": "markdown",
   "id": "227b7c3d-4c02-400e-a987-15cc14060960",
   "metadata": {},
   "source": [
    "## Combine & save"
   ]
  },
  {
   "cell_type": "code",
   "execution_count": 36,
   "id": "76c7bec4-0628-4a96-a949-7a17b01b38d4",
   "metadata": {},
   "outputs": [],
   "source": [
    "width <- 2.5 #2.57 in\n",
    "height <- 2.5 # 1.7in but room up to 2.2\n",
    "options(repr.plot.width=width, repr.plot.height=height)"
   ]
  },
  {
   "cell_type": "code",
   "execution_count": 37,
   "id": "cbbf4b0c-2cc9-421d-b0a2-44213f762f1d",
   "metadata": {},
   "outputs": [
    {
     "data": {
      "image/png": "[encoded data removed]",
      "text/plain": [
       "plot without title"
      ]
     },
     "metadata": {
      "image/png": {
       "height": 150,
       "width": 150
      }
     },
     "output_type": "display_data"
    }
   ],
   "source": [
    "p_untreated <- (p_ko_untreated_results + theme(plot.margin = margin(0,0,0,0))) + \n",
    "  (p_inh_untreated_results+ theme(axis.title.y = element_blank(), axis.text.y = element_blank(), axis.ticks.y = element_blank(),plot.margin = margin(0,0,0,0))) + \n",
    "  plot_layout(guides = \"collect\", widths = c(1, 1))& \n",
    "  theme(#panel.border = element_rect(color = \"black\", fill = NA, linewidth = 0.8),  # Add black border\n",
    "      legend.position = \"bottom\", \n",
    "        legend.justification = \"center\",\n",
    "        legend.box = \"horizontal\",\n",
    "       legend.key.size = unit(0.3, \"cm\")) &\n",
    "   guides(fill = guide_legend(nrow = 1), color = guide_legend(nrow = 1))\n",
    "\n",
    "\n",
    "p_untreated\n"
   ]
  },
  {
   "cell_type": "code",
   "execution_count": 38,
   "id": "a64e3e81-09e2-4608-a76e-764558ed094d",
   "metadata": {},
   "outputs": [],
   "source": [
    "# save plot\n",
    "ggsave_new(filename=\"Ep300_untreated\",\n",
    "           results_path=data_path,\n",
    "           plot=p_untreated,\n",
    "           width=width,\n",
    "           height=height\n",
    "          )"
   ]
  },
  {
   "cell_type": "code",
   "execution_count": null,
   "id": "69aaa7d6-5410-496c-ae52-b192c7419671",
   "metadata": {},
   "outputs": [],
   "source": []
  }
 ],
 "metadata": {
  "kernelspec": {
   "display_name": "R_tidyverse",
   "language": "R",
   "name": "r_tidyverse"
  },
  "language_info": {
   "codemirror_mode": "r",
   "file_extension": ".r",
   "mimetype": "text/x-r-source",
   "name": "R",
   "pygments_lexer": "r",
   "version": "4.4.2"
  }
 },
 "nbformat": 4,
 "nbformat_minor": 5
}
